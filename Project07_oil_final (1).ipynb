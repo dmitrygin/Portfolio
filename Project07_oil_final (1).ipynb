{
 "cells": [
  {
   "cell_type": "markdown",
   "metadata": {},
   "source": [
    "# Выбор локации для скважины"
   ]
  },
  {
   "cell_type": "markdown",
   "metadata": {},
   "source": [
    "Допустим, вы работаете в добывающей компании «ГлавРосГосНефть». Нужно решить, где бурить новую скважину.\n",
    "\n",
    "Вам предоставлены пробы нефти в трёх регионах: в каждом 10 000 месторождений, где измерили качество нефти и объём её запасов. Постройте модель машинного обучения, которая поможет определить регион, где добыча принесёт наибольшую прибыль. Проанализируйте возможную прибыль и риски техникой *Bootstrap.*\n",
    "\n",
    "Шаги для выбора локации:\n",
    "\n",
    "- В избранном регионе ищут месторождения, для каждого определяют значения признаков;\n",
    "- Строят модель и оценивают объём запасов;\n",
    "- Выбирают месторождения с самым высокими оценками значений. Количество месторождений зависит от бюджета компании и стоимости разработки одной скважины;\n",
    "- Прибыль равна суммарной прибыли отобранных месторождений."
   ]
  },
  {
   "cell_type": "markdown",
   "metadata": {},
   "source": [
    "# Описание данных"
   ]
  },
  {
   "cell_type": "markdown",
   "metadata": {},
   "source": [
    "Данные геологоразведки трёх регионов находятся в файлах: \n",
    "\n",
    "•\t/datasets/geo_data_0.csv. \n",
    "\n",
    "•\t/datasets/geo_data_1.csv.\n",
    "\n",
    "•\t/datasets/geo_data_2.csv.\n",
    "\n",
    "•\tid — уникальный идентификатор скважины;\n",
    "\n",
    "•\tf0, f1, f2 — три признака точек (неважно, что они означают, но сами признаки значимы);\n",
    "\n",
    "•\tproduct — объём запасов в скважине (тыс. баррелей).\n",
    "\n",
    "Условия задачи:\n",
    "\n",
    "•\tДля обучения модели подходит только линейная регрессия (остальные — недостаточно предсказуемые).\n",
    "\n",
    "•\tПри разведке региона исследуют 500 точек, из которых с помощью машинного обучения выбирают 200 лучших для разработки.\n",
    "\n",
    "•\tБюджет на разработку скважин в регионе — 10 млрд рублей.\n",
    "\n",
    "•\tПри нынешних ценах один баррель сырья приносит 450 рублей дохода. Доход с каждой единицы продукта составляет 450 тыс. рублей, поскольку объём указан в тысячах баррелей.\n",
    "\n",
    "•\tПосле оценки рисков нужно оставить лишь те регионы, в которых вероятность убытков меньше 2.5%. Среди них выбирают регион с наибольшей средней прибылью.\n"
   ]
  },
  {
   "cell_type": "markdown",
   "metadata": {},
   "source": [
    "## Загрузка и подготовка данных"
   ]
  },
  {
   "cell_type": "code",
   "execution_count": 26,
   "metadata": {},
   "outputs": [],
   "source": [
    "import pandas as pd\n",
    "import numpy as np\n",
    "import seaborn as sns\n",
    "import matplotlib.pyplot as plt\n",
    "from sklearn.model_selection import train_test_split\n",
    "from sklearn.preprocessing import OrdinalEncoder, StandardScaler\n",
    "\n",
    "from sklearn.metrics import mean_squared_error\n",
    "\n",
    "from sklearn.linear_model import LinearRegression\n",
    "\n",
    "import matplotlib.pyplot as plt\n",
    "import matplotlib.gridspec as gridspec\n",
    "import seaborn as sns\n",
    "from scipy import stats as st"
   ]
  },
  {
   "cell_type": "code",
   "execution_count": 27,
   "metadata": {},
   "outputs": [],
   "source": [
    "def read_data(file_name):\n",
    "    try:\n",
    "        if basename(normpath(getcwd())) == 'praktikum_new':\n",
    "            df_ = pd.read_csv(f\".\\datasets\\\\{file_name}\")#local\n",
    "        else:\n",
    "            df_ = pd.read_csv(f\"/datasets/{file_name}\")#server\n",
    "    except:\n",
    "        df_ = pd.read_csv(f\"/datasets/{file_name}\")#server\n",
    "    return df_\n",
    "\n",
    "geo_0 = read_data('geo_data_0.csv')\n",
    "geo_1 = read_data('geo_data_1.csv')\n",
    "geo_2 = read_data('geo_data_2.csv')"
   ]
  },
  {
   "cell_type": "markdown",
   "metadata": {},
   "source": [
    "Пример содержимого таблиц:"
   ]
  },
  {
   "cell_type": "code",
   "execution_count": 28,
   "metadata": {},
   "outputs": [
    {
     "data": {
      "text/html": [
       "<div>\n",
       "<style scoped>\n",
       "    .dataframe tbody tr th:only-of-type {\n",
       "        vertical-align: middle;\n",
       "    }\n",
       "\n",
       "    .dataframe tbody tr th {\n",
       "        vertical-align: top;\n",
       "    }\n",
       "\n",
       "    .dataframe thead th {\n",
       "        text-align: right;\n",
       "    }\n",
       "</style>\n",
       "<table border=\"1\" class=\"dataframe\">\n",
       "  <thead>\n",
       "    <tr style=\"text-align: right;\">\n",
       "      <th></th>\n",
       "      <th>id</th>\n",
       "      <th>f0</th>\n",
       "      <th>f1</th>\n",
       "      <th>f2</th>\n",
       "      <th>product</th>\n",
       "    </tr>\n",
       "  </thead>\n",
       "  <tbody>\n",
       "    <tr>\n",
       "      <th>71751</th>\n",
       "      <td>7Z2gx</td>\n",
       "      <td>0.948970</td>\n",
       "      <td>-0.057547</td>\n",
       "      <td>2.095727</td>\n",
       "      <td>10.038645</td>\n",
       "    </tr>\n",
       "    <tr>\n",
       "      <th>80493</th>\n",
       "      <td>b2HU8</td>\n",
       "      <td>0.992974</td>\n",
       "      <td>0.206671</td>\n",
       "      <td>-0.142278</td>\n",
       "      <td>114.551489</td>\n",
       "    </tr>\n",
       "  </tbody>\n",
       "</table>\n",
       "</div>"
      ],
      "text/plain": [
       "          id        f0        f1        f2     product\n",
       "71751  7Z2gx  0.948970 -0.057547  2.095727   10.038645\n",
       "80493  b2HU8  0.992974  0.206671 -0.142278  114.551489"
      ]
     },
     "execution_count": 28,
     "metadata": {},
     "output_type": "execute_result"
    }
   ],
   "source": [
    "geo_0.sample(2, random_state=12345)"
   ]
  },
  {
   "cell_type": "code",
   "execution_count": 29,
   "metadata": {},
   "outputs": [
    {
     "data": {
      "text/html": [
       "<div>\n",
       "<style scoped>\n",
       "    .dataframe tbody tr th:only-of-type {\n",
       "        vertical-align: middle;\n",
       "    }\n",
       "\n",
       "    .dataframe tbody tr th {\n",
       "        vertical-align: top;\n",
       "    }\n",
       "\n",
       "    .dataframe thead th {\n",
       "        text-align: right;\n",
       "    }\n",
       "</style>\n",
       "<table border=\"1\" class=\"dataframe\">\n",
       "  <thead>\n",
       "    <tr style=\"text-align: right;\">\n",
       "      <th></th>\n",
       "      <th>id</th>\n",
       "      <th>f0</th>\n",
       "      <th>f1</th>\n",
       "      <th>f2</th>\n",
       "      <th>product</th>\n",
       "    </tr>\n",
       "  </thead>\n",
       "  <tbody>\n",
       "    <tr>\n",
       "      <th>71751</th>\n",
       "      <td>aTbUt</td>\n",
       "      <td>-0.371866</td>\n",
       "      <td>-1.862494</td>\n",
       "      <td>3.002210</td>\n",
       "      <td>80.859783</td>\n",
       "    </tr>\n",
       "    <tr>\n",
       "      <th>80493</th>\n",
       "      <td>CK34V</td>\n",
       "      <td>9.015122</td>\n",
       "      <td>-13.881455</td>\n",
       "      <td>1.995363</td>\n",
       "      <td>53.906522</td>\n",
       "    </tr>\n",
       "  </tbody>\n",
       "</table>\n",
       "</div>"
      ],
      "text/plain": [
       "          id        f0         f1        f2    product\n",
       "71751  aTbUt -0.371866  -1.862494  3.002210  80.859783\n",
       "80493  CK34V  9.015122 -13.881455  1.995363  53.906522"
      ]
     },
     "execution_count": 29,
     "metadata": {},
     "output_type": "execute_result"
    }
   ],
   "source": [
    "geo_1.sample(2, random_state=12345)"
   ]
  },
  {
   "cell_type": "code",
   "execution_count": 30,
   "metadata": {},
   "outputs": [
    {
     "data": {
      "text/html": [
       "<div>\n",
       "<style scoped>\n",
       "    .dataframe tbody tr th:only-of-type {\n",
       "        vertical-align: middle;\n",
       "    }\n",
       "\n",
       "    .dataframe tbody tr th {\n",
       "        vertical-align: top;\n",
       "    }\n",
       "\n",
       "    .dataframe thead th {\n",
       "        text-align: right;\n",
       "    }\n",
       "</style>\n",
       "<table border=\"1\" class=\"dataframe\">\n",
       "  <thead>\n",
       "    <tr style=\"text-align: right;\">\n",
       "      <th></th>\n",
       "      <th>id</th>\n",
       "      <th>f0</th>\n",
       "      <th>f1</th>\n",
       "      <th>f2</th>\n",
       "      <th>product</th>\n",
       "    </tr>\n",
       "  </thead>\n",
       "  <tbody>\n",
       "    <tr>\n",
       "      <th>71751</th>\n",
       "      <td>DMlgl</td>\n",
       "      <td>-1.444717</td>\n",
       "      <td>-3.861599</td>\n",
       "      <td>2.225805</td>\n",
       "      <td>61.212375</td>\n",
       "    </tr>\n",
       "    <tr>\n",
       "      <th>80493</th>\n",
       "      <td>tbrRC</td>\n",
       "      <td>-1.418617</td>\n",
       "      <td>1.276544</td>\n",
       "      <td>-0.976433</td>\n",
       "      <td>41.850118</td>\n",
       "    </tr>\n",
       "  </tbody>\n",
       "</table>\n",
       "</div>"
      ],
      "text/plain": [
       "          id        f0        f1        f2    product\n",
       "71751  DMlgl -1.444717 -3.861599  2.225805  61.212375\n",
       "80493  tbrRC -1.418617  1.276544 -0.976433  41.850118"
      ]
     },
     "execution_count": 30,
     "metadata": {},
     "output_type": "execute_result"
    }
   ],
   "source": [
    "geo_2.sample(2, random_state=12345)"
   ]
  },
  {
   "cell_type": "markdown",
   "metadata": {},
   "source": [
    "Информация о датасетах:"
   ]
  },
  {
   "cell_type": "code",
   "execution_count": 31,
   "metadata": {},
   "outputs": [
    {
     "name": "stdout",
     "output_type": "stream",
     "text": [
      "<class 'pandas.core.frame.DataFrame'>\n",
      "RangeIndex: 100000 entries, 0 to 99999\n",
      "Data columns (total 5 columns):\n",
      " #   Column   Non-Null Count   Dtype  \n",
      "---  ------   --------------   -----  \n",
      " 0   id       100000 non-null  object \n",
      " 1   f0       100000 non-null  float64\n",
      " 2   f1       100000 non-null  float64\n",
      " 3   f2       100000 non-null  float64\n",
      " 4   product  100000 non-null  float64\n",
      "dtypes: float64(4), object(1)\n",
      "memory usage: 3.8+ MB\n"
     ]
    }
   ],
   "source": [
    "geo_0.info()"
   ]
  },
  {
   "cell_type": "code",
   "execution_count": 32,
   "metadata": {},
   "outputs": [
    {
     "name": "stdout",
     "output_type": "stream",
     "text": [
      "<class 'pandas.core.frame.DataFrame'>\n",
      "RangeIndex: 100000 entries, 0 to 99999\n",
      "Data columns (total 5 columns):\n",
      " #   Column   Non-Null Count   Dtype  \n",
      "---  ------   --------------   -----  \n",
      " 0   id       100000 non-null  object \n",
      " 1   f0       100000 non-null  float64\n",
      " 2   f1       100000 non-null  float64\n",
      " 3   f2       100000 non-null  float64\n",
      " 4   product  100000 non-null  float64\n",
      "dtypes: float64(4), object(1)\n",
      "memory usage: 3.8+ MB\n"
     ]
    }
   ],
   "source": [
    "geo_1.info()"
   ]
  },
  {
   "cell_type": "code",
   "execution_count": 33,
   "metadata": {},
   "outputs": [
    {
     "name": "stdout",
     "output_type": "stream",
     "text": [
      "<class 'pandas.core.frame.DataFrame'>\n",
      "RangeIndex: 100000 entries, 0 to 99999\n",
      "Data columns (total 5 columns):\n",
      " #   Column   Non-Null Count   Dtype  \n",
      "---  ------   --------------   -----  \n",
      " 0   id       100000 non-null  object \n",
      " 1   f0       100000 non-null  float64\n",
      " 2   f1       100000 non-null  float64\n",
      " 3   f2       100000 non-null  float64\n",
      " 4   product  100000 non-null  float64\n",
      "dtypes: float64(4), object(1)\n",
      "memory usage: 3.8+ MB\n"
     ]
    }
   ],
   "source": [
    "geo_2.info()"
   ]
  },
  {
   "cell_type": "markdown",
   "metadata": {},
   "source": [
    "ВЫВОД: значения в датасетах корректны."
   ]
  },
  {
   "cell_type": "markdown",
   "metadata": {},
   "source": [
    "# Проверяю на наличие  дубликатов:"
   ]
  },
  {
   "cell_type": "code",
   "execution_count": 34,
   "metadata": {},
   "outputs": [
    {
     "data": {
      "text/plain": [
       "0"
      ]
     },
     "execution_count": 34,
     "metadata": {},
     "output_type": "execute_result"
    }
   ],
   "source": [
    "geo_0.duplicated().sum()"
   ]
  },
  {
   "cell_type": "code",
   "execution_count": 35,
   "metadata": {},
   "outputs": [
    {
     "data": {
      "text/plain": [
       "0"
      ]
     },
     "execution_count": 35,
     "metadata": {},
     "output_type": "execute_result"
    }
   ],
   "source": [
    "geo_1.duplicated().sum()"
   ]
  },
  {
   "cell_type": "code",
   "execution_count": 36,
   "metadata": {},
   "outputs": [
    {
     "data": {
      "text/plain": [
       "0"
      ]
     },
     "execution_count": 36,
     "metadata": {},
     "output_type": "execute_result"
    }
   ],
   "source": [
    "geo_2.duplicated().sum()"
   ]
  },
  {
   "cell_type": "markdown",
   "metadata": {},
   "source": [
    "ВЫВОД: полных дубликатов нет."
   ]
  },
  {
   "cell_type": "markdown",
   "metadata": {},
   "source": [
    "# Удаление лишних признаков"
   ]
  },
  {
   "cell_type": "markdown",
   "metadata": {},
   "source": [
    "Удаляю  колонку id, т.к. данные в ней будут мешать обучению моделей и  знать названия скважин нет необходимости."
   ]
  },
  {
   "cell_type": "code",
   "execution_count": 37,
   "metadata": {},
   "outputs": [
    {
     "data": {
      "text/plain": [
       "Index(['f0', 'f1', 'f2', 'product'], dtype='object')"
      ]
     },
     "execution_count": 37,
     "metadata": {},
     "output_type": "execute_result"
    }
   ],
   "source": [
    "geo_0 = geo_0.drop(['id'], axis=1)\n",
    "geo_0.columns"
   ]
  },
  {
   "cell_type": "code",
   "execution_count": 38,
   "metadata": {},
   "outputs": [
    {
     "data": {
      "text/plain": [
       "Index(['f0', 'f1', 'f2', 'product'], dtype='object')"
      ]
     },
     "execution_count": 38,
     "metadata": {},
     "output_type": "execute_result"
    }
   ],
   "source": [
    "geo_1 = geo_1.drop(['id'], axis=1)\n",
    "geo_1.columns"
   ]
  },
  {
   "cell_type": "code",
   "execution_count": 39,
   "metadata": {},
   "outputs": [
    {
     "data": {
      "text/plain": [
       "Index(['f0', 'f1', 'f2', 'product'], dtype='object')"
      ]
     },
     "execution_count": 39,
     "metadata": {},
     "output_type": "execute_result"
    }
   ],
   "source": [
    "geo_2 = geo_2.drop(['id'], axis=1)\n",
    "geo_2.columns"
   ]
  },
  {
   "cell_type": "markdown",
   "metadata": {},
   "source": [
    "ВЫВОД: колонка с признаком  id удалена из всех регионов."
   ]
  },
  {
   "cell_type": "code",
   "execution_count": 40,
   "metadata": {},
   "outputs": [
    {
     "data": {
      "image/png": "[encoded data removed]",
      "text/plain": [
       "<Figure size 648x648 with 1 Axes>"
      ]
     },
     "metadata": {
      "needs_background": "light"
     },
     "output_type": "display_data"
    }
   ],
   "source": [
    "fig, ax = plt.subplots(figsize=(9,9))\n",
    "sns.histplot(data=geo_0['product'], ax=ax, bins=50, color='red', alpha = 0.5, label='geo_0')\n",
    "sns.histplot(data=geo_1['product'], ax=ax, bins=50, color='blue', alpha = 0.5, label='geo_1')\n",
    "sns.histplot(data=geo_2['product'], ax=ax, bins=50, color='green', alpha = 0.5, label='geo_2')\n",
    "ax.set_xlabel('Объём запасов в скважине (тыс. баррелей).')\n",
    "ax.set_ylabel('Количество')\n",
    "ax.set_title('Распределение объемов нефти в каждом регионе')\n",
    "plt.legend()\n",
    "plt.show()"
   ]
  },
  {
   "cell_type": "markdown",
   "metadata": {},
   "source": [
    "ВЫВОД:  объем нефти в скважинах  первого региона (geo_1) сильно превышает объем нефти в скважинах \n",
    "        в двух других регионах(geo_0 и geo_2)."
   ]
  },
  {
   "cell_type": "markdown",
   "metadata": {},
   "source": [
    "ВЫВОД: Пропуски и дубликаты в данных отсутствуют;\n",
    "\n",
    "       Все признаки имеют числовое представление;\n",
    "       \n",
    "       Столбцы с признаком id удалены из всех регионов;\n",
    "       \n",
    "       Объем запасов нефти распределен между регионами неравномерно;\n",
    "       \n",
    "       Данные подготовил в исследованию."
   ]
  },
  {
   "cell_type": "markdown",
   "metadata": {},
   "source": [
    "## Обучение и проверка модели"
   ]
  },
  {
   "cell_type": "markdown",
   "metadata": {},
   "source": [
    "Для начала нужно разделить исходные данные на 2 выборки: обучающую и тестовую в соотношении \n",
    "75 и 25%. \n",
    "Затем обучить модель линейной регрессии на обучающей выборке и выполнить предсказания на валидационных данных по очереди для каждого региона."
   ]
  },
  {
   "cell_type": "markdown",
   "metadata": {},
   "source": [
    "функция create_sample() по словарю, содержащим датафрейм, будет готовить следующие выборки features_train, features_valid, target_train, target_valid"
   ]
  },
  {
   "cell_type": "code",
   "execution_count": 41,
   "metadata": {},
   "outputs": [],
   "source": [
    "def create_sample(dict_):\n",
    "    df = list(dict_.values())[0]\n",
    "    name = list(dict_.keys())[0]\n",
    "    features = df.drop('product', axis=1)# извлеките признаки \n",
    "    target = df['product']# извлеките целевой признак\n",
    "    \n",
    "    # разбиваем выборки на обучающую и валидационную\n",
    "    features_train, features_valid, target_train, target_valid = train_test_split(features, \n",
    "                                                                                  target,\n",
    "                                                                                  test_size=0.25,\n",
    "                                                                                  random_state=12345)\n",
    "    print(f'Весь датасет региона {name}')\n",
    "    print('features_train.shape = ', features_train.shape, 'target_train.shape = ', target_train.shape)\n",
    "    print('features_valid.shape = ', features_valid.shape, 'target_valid.shape = ', target_valid.shape)\n",
    "    \n",
    "    \n",
    "    scaler = StandardScaler()   # масштабируем признаки\n",
    "    scaler.fit(features_train)\n",
    "\n",
    "    features_train = scaler.transform(features_train)\n",
    "    features_valid = scaler.transform(features_valid)\n",
    "    \n",
    "    return features_train, features_valid, target_train.reset_index(drop=True), target_valid.reset_index(drop=True)"
   ]
  },
  {
   "cell_type": "code",
   "execution_count": 42,
   "metadata": {
    "scrolled": true
   },
   "outputs": [
    {
     "name": "stdout",
     "output_type": "stream",
     "text": [
      "Весь датасет региона geo_0\n",
      "features_train.shape =  (75000, 3) target_train.shape =  (75000,)\n",
      "features_valid.shape =  (25000, 3) target_valid.shape =  (25000,)\n",
      "Весь датасет региона geo_1\n",
      "features_train.shape =  (75000, 3) target_train.shape =  (75000,)\n",
      "features_valid.shape =  (25000, 3) target_valid.shape =  (25000,)\n",
      "Весь датасет региона geo_2\n",
      "features_train.shape =  (75000, 3) target_train.shape =  (75000,)\n",
      "features_valid.shape =  (25000, 3) target_valid.shape =  (25000,)\n"
     ]
    }
   ],
   "source": [
    "geo_0_features_train, geo_0_features_valid, geo_0_target_train, geo_0_target_valid = create_sample({'geo_0': geo_0})\n",
    "geo_1_features_train, geo_1_features_valid, geo_1_target_train, geo_1_target_valid = create_sample({'geo_1': geo_1})\n",
    "geo_2_features_train, geo_2_features_valid, geo_2_target_train, geo_2_target_valid = create_sample({'geo_2': geo_2})"
   ]
  },
  {
   "cell_type": "markdown",
   "metadata": {},
   "source": [
    "ВЫВОД: данные  разбиты на обучающую и валидационную выборки в пропорции 75:25"
   ]
  },
  {
   "cell_type": "markdown",
   "metadata": {},
   "source": [
    "# Обучение и предсказание моделей"
   ]
  },
  {
   "cell_type": "markdown",
   "metadata": {},
   "source": [
    "функция fit_predict() для обучения  и предсказания модели.\n",
    "В качестве модели будем использовать LinearRegression() т.к. работаем с предсказанием численного значения. \n",
    "На выходе функция будет расчитывать ошибку по метрике RMSE и возращять предсказанные значения на валидационной выборке"
   ]
  },
  {
   "cell_type": "code",
   "execution_count": 43,
   "metadata": {},
   "outputs": [],
   "source": [
    "def fit_predict(features_train, features_valid, target_train, target_valid):\n",
    "    model = LinearRegression()\n",
    "    model.fit(features_train,target_train)\n",
    "    predicted_train = model.predict(features_train)\n",
    "    predicted_valid = model.predict(features_valid)\n",
    "    return mean_squared_error(target_train, predicted_train) ** 0.5, \\\n",
    "           mean_squared_error(target_valid, predicted_valid) ** 0.5, predicted_valid"
   ]
  },
  {
   "cell_type": "code",
   "execution_count": 44,
   "metadata": {},
   "outputs": [],
   "source": [
    "rmse_geo_0_train, rmse_geo_0_valid, predicted_valid_geo_0 = fit_predict(geo_0_features_train, geo_0_features_valid, geo_0_target_train, geo_0_target_valid)\n",
    "rmse_geo_1_train, rmse_geo_1_valid, predicted_valid_geo_1 = fit_predict(geo_1_features_train, geo_1_features_valid, geo_1_target_train, geo_1_target_valid)\n",
    "rmse_geo_2_train, rmse_geo_2_valid, predicted_valid_geo_2 = fit_predict(geo_2_features_train, geo_2_features_valid, geo_2_target_train, geo_2_target_valid)"
   ]
  },
  {
   "cell_type": "code",
   "execution_count": 45,
   "metadata": {
    "scrolled": false
   },
   "outputs": [
    {
     "name": "stdout",
     "output_type": "stream",
     "text": [
      "Регион GEO_0\n",
      "RMSE(train): 37.72999219904026 \n",
      "RMSE(valid): 37.5794217150813 \n",
      "Средний запас предсказанного сырья: 92.59256778438035\n"
     ]
    }
   ],
   "source": [
    "print('Регион GEO_0')\n",
    "print('RMSE(train):', rmse_geo_0_train, '\\nRMSE(valid):', rmse_geo_0_valid, '\\nСредний запас предсказанного сырья:', predicted_valid_geo_0.mean())"
   ]
  },
  {
   "cell_type": "code",
   "execution_count": 46,
   "metadata": {},
   "outputs": [
    {
     "name": "stdout",
     "output_type": "stream",
     "text": [
      "Регион GEO_1\n",
      "RMSE(train): 0.8894720773917386 \n",
      "RMSE(valid): 0.893099286775617 \n",
      "Средний запас предсказанного сырья: 92.59256778438035\n"
     ]
    }
   ],
   "source": [
    "print('Регион GEO_1')\n",
    "print('RMSE(train):', rmse_geo_1_train, '\\nRMSE(valid):', rmse_geo_1_valid, '\\nСредний запас предсказанного сырья:', predicted_valid_geo_0.mean())"
   ]
  },
  {
   "cell_type": "code",
   "execution_count": 47,
   "metadata": {},
   "outputs": [
    {
     "name": "stdout",
     "output_type": "stream",
     "text": [
      "Регион GEO_2\n",
      "RMSE(train): 40.06425978832384 \n",
      "RMSE(valid): 40.02970873393434 \n",
      "Средний запас предсказанного сырья: 94.96504596800489\n"
     ]
    }
   ],
   "source": [
    "print('Регион GEO_2')\n",
    "print('RMSE(train):', rmse_geo_2_train, '\\nRMSE(valid):', rmse_geo_2_valid, '\\nСредний запас предсказанного сырья:', predicted_valid_geo_2.mean())"
   ]
  },
  {
   "cell_type": "markdown",
   "metadata": {},
   "source": [
    "Тепловые карты данных для каждого региона для проверки корреляции признаков:"
   ]
  },
  {
   "cell_type": "code",
   "execution_count": 48,
   "metadata": {},
   "outputs": [
    {
     "data": {
      "image/png": "[encoded data removed]",
      "text/plain": [
       "<Figure size 432x288 with 2 Axes>"
      ]
     },
     "metadata": {
      "needs_background": "light"
     },
     "output_type": "display_data"
    },
    {
     "data": {
      "image/png": "[encoded data removed]",
      "text/plain": [
       "<Figure size 432x288 with 2 Axes>"
      ]
     },
     "metadata": {
      "needs_background": "light"
     },
     "output_type": "display_data"
    },
    {
     "data": {
      "image/png": "[encoded data removed]",
      "text/plain": [
       "<Figure size 432x288 with 2 Axes>"
      ]
     },
     "metadata": {
      "needs_background": "light"
     },
     "output_type": "display_data"
    }
   ],
   "source": [
    "regions = [geo_0, geo_1, geo_2]\n",
    "for i in range(len(regions)):\n",
    "    ax = plt.axes()\n",
    "    sns.heatmap(regions[i].corr(), annot = True)\n",
    "    ax.set_title('region ' + str(i+1))\n",
    "    plt.show()"
   ]
  },
  {
   "cell_type": "markdown",
   "metadata": {},
   "source": [
    "вывод: высокая корреляция между признаком f2 и целевым признаком в регионе №2, поэтому среднеквадратическая ошибка RMSE в этом регионе меньше 1."
   ]
  },
  {
   "cell_type": "markdown",
   "metadata": {},
   "source": [
    "ВЫВОД: Модели обучены. Посчитан средний запас предсказанного сырья в каждом регионе.\n",
    "       Ошибка модели LinearRegression по метрике RMSE не отличается  на обучающей \n",
    "       и валидационной выборке."
   ]
  },
  {
   "cell_type": "markdown",
   "metadata": {},
   "source": [
    "## Подготовка к расчёту прибыли"
   ]
  },
  {
   "cell_type": "markdown",
   "metadata": {},
   "source": [
    "При разведке региона исследуют 500 точек, из которых с помощью машинного обучения выбирают 200 лучших для разработки.\n",
    "\n",
    "Бюджет на разработку скважин в регионе — 10 млрд рублей. \n",
    "\n",
    "При нынешних ценах один баррель сырья приносит 450 рублей дохода.\n",
    "\n",
    "Доход с каждой единицы продукта составляет 450 тыс. рублей, поскольку объём указан в тысячах баррелей."
   ]
  },
  {
   "cell_type": "code",
   "execution_count": 49,
   "metadata": {},
   "outputs": [],
   "source": [
    "BUDGET_ONE_REGION  = 10e9      #Бюджет 10 млрд рублей\n",
    "COST_UNIT_PRODUCT = 450e3     #один баррель сырья приносит 450 рублей дохода\n",
    "COUNT_PROSPECTION_POINT = 500 #При разведке региона исследуют 500 точек\n",
    "COUNT_BEST_POINT = 200        #200 лучших точек для разработки."
   ]
  },
  {
   "cell_type": "markdown",
   "metadata": {},
   "source": [
    "Минимальное среднее количество продукта в месторождениях региона, достаточное для разработки:\n"
   ]
  },
  {
   "cell_type": "code",
   "execution_count": 51,
   "metadata": {},
   "outputs": [
    {
     "data": {
      "text/plain": [
       "50000000.0"
      ]
     },
     "execution_count": 51,
     "metadata": {},
     "output_type": "execute_result"
    }
   ],
   "source": [
    "#бюджет делим на число возможных разрабатываем точек\n",
    "min_money_in_well = BUDGET_ONE_REGION/COUNT_BEST_POINT \n",
    "#получим минимальный доход со скважины в рублях.\n",
    "min_money_in_well"
   ]
  },
  {
   "cell_type": "code",
   "execution_count": 53,
   "metadata": {},
   "outputs": [
    {
     "data": {
      "text/plain": [
       "111.11111111111111"
      ]
     },
     "execution_count": 53,
     "metadata": {},
     "output_type": "execute_result"
    }
   ],
   "source": [
    "#делим бюджет скважины на доход от одной единицы сырья.\n",
    "min_mean_product_in_well = min_money_in_well/COST_UNIT_PRODUCT\n",
    "min_mean_product_in_well"
   ]
  },
  {
   "cell_type": "markdown",
   "metadata": {},
   "source": [
    "ВЫВОД:для безубыточной добычи топлива необходимо, чтобы каждая скважина в среднем содержала не менее 111 тысяч баррелей нефти. "
   ]
  },
  {
   "cell_type": "markdown",
   "metadata": {},
   "source": [
    "Составим сводную таблицу для регионов и сравним его показатель с минимальным средним количеством продукта:"
   ]
  },
  {
   "cell_type": "code",
   "execution_count": 54,
   "metadata": {
    "scrolled": true
   },
   "outputs": [
    {
     "data": {
      "text/html": [
       "<div>\n",
       "<style scoped>\n",
       "    .dataframe tbody tr th:only-of-type {\n",
       "        vertical-align: middle;\n",
       "    }\n",
       "\n",
       "    .dataframe tbody tr th {\n",
       "        vertical-align: top;\n",
       "    }\n",
       "\n",
       "    .dataframe thead th {\n",
       "        text-align: right;\n",
       "    }\n",
       "</style>\n",
       "<table border=\"1\" class=\"dataframe\">\n",
       "  <thead>\n",
       "    <tr style=\"text-align: right;\">\n",
       "      <th></th>\n",
       "      <th>mean_product</th>\n",
       "      <th>min_mean_product_in_well</th>\n",
       "      <th>good_region</th>\n",
       "    </tr>\n",
       "  </thead>\n",
       "  <tbody>\n",
       "    <tr>\n",
       "      <th>0</th>\n",
       "      <td>92.592568</td>\n",
       "      <td>111.111111</td>\n",
       "      <td>False</td>\n",
       "    </tr>\n",
       "    <tr>\n",
       "      <th>1</th>\n",
       "      <td>68.728547</td>\n",
       "      <td>111.111111</td>\n",
       "      <td>False</td>\n",
       "    </tr>\n",
       "    <tr>\n",
       "      <th>2</th>\n",
       "      <td>94.965046</td>\n",
       "      <td>111.111111</td>\n",
       "      <td>False</td>\n",
       "    </tr>\n",
       "  </tbody>\n",
       "</table>\n",
       "</div>"
      ],
      "text/plain": [
       "   mean_product  min_mean_product_in_well  good_region\n",
       "0     92.592568                111.111111        False\n",
       "1     68.728547                111.111111        False\n",
       "2     94.965046                111.111111        False"
      ]
     },
     "execution_count": 54,
     "metadata": {},
     "output_type": "execute_result"
    }
   ],
   "source": [
    "mean_product_pivot = pd.DataFrame({'mean_product': [predicted_valid_geo_0.mean(), predicted_valid_geo_1.mean(), predicted_valid_geo_2.mean()],\n",
    "                                   'min_mean_product_in_well': [min_mean_product_in_well]*3})\n",
    "mean_product_pivot['good_region'] = mean_product_pivot['mean_product'] > mean_product_pivot['min_mean_product_in_well']\n",
    "mean_product_pivot"
   ]
  },
  {
   "cell_type": "markdown",
   "metadata": {},
   "source": [
    "ВЫВОД:Рассчитал необходимое количество сырья для безубыточной разработки новой скважины: 111.11 баррелей;\n",
    "\n",
    "После сравнения средних предсказанных моделью запасов сырья, выяснил, что среднее значение запасов во всех трех регионах меньше необходимого количества для безубыточной разработки;\n",
    "\n",
    "Нужно провести селекцию скважин и отобрать лучшие."
   ]
  },
  {
   "cell_type": "markdown",
   "metadata": {},
   "source": [
    "## Расчёт прибыли и рисков "
   ]
  },
  {
   "cell_type": "markdown",
   "metadata": {},
   "source": [
    "Функция для расчёта прибыли:"
   ]
  },
  {
   "cell_type": "code",
   "execution_count": 67,
   "metadata": {},
   "outputs": [],
   "source": [
    "#def revenue(target_valid_subsample,predicted_valid_subsample ):\n",
    "#    select_predicted_wells_best = predicted_valid_subsample.sort_values(ascending=False)[:count_best_point]\n",
    " #   target_best = target_valid_subsample[select_predicted_wells_best.index]\n",
    "  #  return target_best.sum() * cost_unit_product - budget_one_region\n",
    "\n",
    "def revenue(target_valid_subsample, predicted_valid_subsample):\n",
    "    target_valid_subsample = pd.Series(target_valid_subsample).reset_index(drop=True)\n",
    "    predicted_valid_subsample = pd.Series(predicted_valid_subsample).reset_index(drop=True)\n",
    "    select_predicted_wells_best = predicted_valid_subsample.sort_values(ascending=False)[:COUNT_BEST_POINT].index\n",
    "    target_best = target_valid_subsample[select_predicted_wells_best]\n",
    "    return target_best.sum() * COST_UNIT_PRODUCT - BUDGET_ONE_REGION\n",
    "    "
   ]
  },
  {
   "cell_type": "markdown",
   "metadata": {},
   "source": [
    "Функция bootstrap_method_calc_income_in_region() расчитывает распределение прибыли техникой Bootstrap."
   ]
  },
  {
   "cell_type": "code",
   "execution_count": 68,
   "metadata": {},
   "outputs": [],
   "source": [
    "def bootstrap_method(target_valid_, predicted_valid_):\n",
    "    bootstrap = []\n",
    "    # защита от random_state случайный элемент всегда одинаковый\n",
    "    state=np.random.RandomState(2007)\n",
    "    for _ in range(1000):\n",
    "        # при значении параметра replace=True в выборку тоже попадут пять строк, но некоторые — несколько раз\n",
    "        target_valid_subsample = pd.Series(target_valid_).sample(n=COUNT_PROSPECTION_POINT, random_state=state, replace=True)\n",
    "        predicted_valid_subsample = pd.Series(predicted_valid_)[target_valid_subsample.index]\n",
    "        bootstrap.append(revenue(target_valid_subsample, predicted_valid_subsample))\n",
    "    return pd.Series(bootstrap)"
   ]
  },
  {
   "cell_type": "markdown",
   "metadata": {},
   "source": [
    "Функция calc_confidence_interval() расчитывает доверительный интрервал по заданному распределению и среднюю прибыль."
   ]
  },
  {
   "cell_type": "code",
   "execution_count": 69,
   "metadata": {},
   "outputs": [],
   "source": [
    "def calc_confidence_interval(interval, massive):\n",
    "    left_interval = (1 - interval)/2\n",
    "    right_interval = interval + (1 - interval)/2\n",
    "    mean = massive.mean()\n",
    "    lower = massive.quantile(left_interval)\n",
    "    hight = massive.quantile(right_interval)\n",
    "    risk = (massive < 0).mean()\n",
    "    print(f'{left_interval:.2%}-квантиль: {lower:.0f} руб. < mean: {mean:.0f} руб. < {right_interval:.2%}-квантиль: {hight:.0f} руб.')\n",
    "    print('Риск убытков:', round(risk*100, 2), '%')\n",
    "    return mean, lower, hight, risk\n"
   ]
  },
  {
   "cell_type": "markdown",
   "metadata": {},
   "source": [
    "Расчет для регионов:"
   ]
  },
  {
   "cell_type": "markdown",
   "metadata": {},
   "source": [
    "регион geo_0:"
   ]
  },
  {
   "cell_type": "code",
   "execution_count": 70,
   "metadata": {
    "scrolled": true
   },
   "outputs": [
    {
     "name": "stdout",
     "output_type": "stream",
     "text": [
      "2.50%-квантиль: -78518089 руб. < mean: 378259145 руб. < 97.50%-квантиль: 867084544 руб.\n",
      "Риск убытков: 6.7 %\n"
     ]
    }
   ],
   "source": [
    "geo_0_revenue = bootstrap_method(geo_0_target_valid, predicted_valid_geo_0)\n",
    "calc_confidence_interval(.95, geo_0_revenue)\n",
    "pass"
   ]
  },
  {
   "cell_type": "markdown",
   "metadata": {},
   "source": [
    "регион geo_1:"
   ]
  },
  {
   "cell_type": "code",
   "execution_count": 71,
   "metadata": {
    "scrolled": true
   },
   "outputs": [
    {
     "name": "stdout",
     "output_type": "stream",
     "text": [
      "2.50%-квантиль: 31668395 руб. < mean: 455007924 руб. < 97.50%-квантиль: 861592994 руб.\n",
      "Риск убытков: 1.4 %\n"
     ]
    }
   ],
   "source": [
    "geo_1_revenue = bootstrap_method(geo_1_target_valid, predicted_valid_geo_1)\n",
    "calc_confidence_interval(.95, geo_1_revenue)\n",
    "pass"
   ]
  },
  {
   "cell_type": "markdown",
   "metadata": {},
   "source": [
    "регион geo_2:"
   ]
  },
  {
   "cell_type": "code",
   "execution_count": 72,
   "metadata": {},
   "outputs": [
    {
     "name": "stdout",
     "output_type": "stream",
     "text": [
      "2.50%-квантиль: -168276215 руб. < mean: 370258479 руб. < 97.50%-квантиль: 859802562 руб.\n",
      "Риск убытков: 8.8 %\n"
     ]
    }
   ],
   "source": [
    "geo_2_revenue = bootstrap_method(geo_2_target_valid, predicted_valid_geo_2)\n",
    "calc_confidence_interval(.95, geo_2_revenue)\n",
    "pass"
   ]
  },
  {
   "cell_type": "markdown",
   "metadata": {},
   "source": [
    "# Визуализация распределений прибыли в регионах"
   ]
  },
  {
   "cell_type": "code",
   "execution_count": 73,
   "metadata": {
    "scrolled": true
   },
   "outputs": [],
   "source": [
    "#функция для построения совмещенного графика диаграммы распредления и гистограммы прибыли в регионе\n",
    "\n",
    "def histogram_boxplot(axes, data, xrange, xlabel=None, title=None, bins=10):\n",
    "    # построить диаграмму распределения\n",
    "    sns.boxplot(x=data, ax=axes[0])\n",
    "    # построить гистрограмму (с и без bins)\n",
    "    sns.histplot(x=data, ax=axes[1], bins=bins, kde=True) if bins else sns.histplot(data, ax=axes[1], kde=True)\n",
    "  \n",
    "    if xlabel: axes[1].set(xlabel=xlabel)\n",
    "    if title: axes[0].set(title=title)\n",
    "    \n",
    "    axes[1].set_xlim(xrange[0:2])\n",
    "    axes[1].xaxis.set(ticks=np.arange(*xrange))\n",
    "    sns.set_style(\"darkgrid\", {\"axes.facecolor\": \".9\"})"
   ]
  },
  {
   "cell_type": "code",
   "execution_count": 74,
   "metadata": {},
   "outputs": [],
   "source": [
    "def multi_subplot(data, xrange, xlabel=None, title=None, font_scale=1.5, figsize=(9,9), space=(0.2, 0.3), bins=10):\n",
    "    sns.set(font_scale=font_scale)\n",
    "    sns.set_style(\"darkgrid\", {\"axes.facecolor\": \".9\"})\n",
    "    \n",
    "    fig = plt.figure(figsize=figsize)\n",
    "    outer = gridspec.GridSpec(2, 2, wspace=space[0], hspace=space[1])\n",
    "    \n",
    "    # каждый график отдельно\n",
    "    for i, vec  in enumerate(data):\n",
    "        # формирование subplots для двух вложенных графиков (box и hist)\n",
    "        inner = gridspec.GridSpecFromSubplotSpec(2, 1,\n",
    "                        subplot_spec=outer[i], wspace=0.1, hspace=0.0, height_ratios=(.05, .95))\n",
    "        \n",
    "        ax_box = plt.Subplot(fig, inner[0])\n",
    "        ax_hist = plt.Subplot(fig, inner[1])\n",
    "        \n",
    "        # проверка на существование заголовков на входе функции\n",
    "        if title:\n",
    "            title_i = title[i]\n",
    "        else:\n",
    "            title_i = None\n",
    "         # проверка на существование подписи на входе функции    \n",
    "        if xlabel:\n",
    "            xlabel_i = xlabel[i]\n",
    "        else:\n",
    "            xlabel_i = None\n",
    "        \n",
    "        sns.set_style(\"darkgrid\", {\"axes.facecolor\": \".9\"})\n",
    "        \n",
    "        histogram_boxplot((ax_box, ax_hist),\n",
    "                          vec,\n",
    "                          xrange,\n",
    "                          xlabel=xlabel_i,\n",
    "                          title=title_i,\n",
    "                          bins=bins)\n",
    "        \n",
    "        # добавление построенного графика \n",
    "        fig.add_subplot(ax_box)\n",
    "        fig.add_subplot(ax_hist)\n",
    "    \n",
    "    fig.show()"
   ]
  },
  {
   "cell_type": "code",
   "execution_count": 75,
   "metadata": {
    "scrolled": true
   },
   "outputs": [
    {
     "data": {
      "image/png": "[encoded data removed]",
      "text/plain": [
       "<Figure size 720x720 with 6 Axes>"
      ]
     },
     "metadata": {},
     "output_type": "display_data"
    }
   ],
   "source": [
    "multi_subplot([geo_0_revenue, geo_1_revenue, geo_2_revenue],\n",
    "              xrange=(-0.5e9, 2e9, 0.3e9),\n",
    "              bins=20,\n",
    "              font_scale=1.3,\n",
    "              figsize=(10, 10),\n",
    "              title=[\"Распределение дохода Geo_0\",\n",
    "                     \"Распределение дохода Geo_1\",\n",
    "                     \"Распределение дохода Geo_2\",],\n",
    "              xlabel=[\"Прибыль(руб)\"]*3)"
   ]
  },
  {
   "cell_type": "markdown",
   "metadata": {},
   "source": [
    "вывод: по гистограмме распределений прибыли у регионов Geo_0 и Geo_2 наблюдается левый хвост с \n",
    "       отрицательной прибылью;\n",
    "       \n",
    "       сравнивая гистограммы по частоте, у региона Geo_1 она немного выше (надежнее) в зоне \n",
    "       мат. ожидания, а средняя прибыль выше,поэтому лучший регион - Geo_1 с средней прибылью \n",
    "       455 007 924 руб. и  с вероятностью получения убытков 1.4%,что меньше  2.5%(согласно ТЗ) \n",
    "       Выбираю его для разработки месторождения."
   ]
  },
  {
   "cell_type": "markdown",
   "metadata": {},
   "source": [
    "# ОБЩИЙ ВЫВОД"
   ]
  },
  {
   "cell_type": "markdown",
   "metadata": {},
   "source": [
    "В результате данной работы были проведены исследования и сделаны выводы:\n",
    "\n",
    "1. Загрузил и подготовил данные для исследования:\n",
    "\n",
    "   Пропуски и дубликаты в данных отсутствуют;\n",
    "\n",
    "   Все признаки имеют числовое представление;\n",
    "\n",
    "   Столбцы с признаком id удалены из всех регионов;\n",
    "\n",
    "   Объем запасов нефти распределен между регионами неравномерно;\n",
    "   \n",
    "\n",
    "2. Данные  разбил на обучающую и валидационную выборки в пропорции 75:25; \n",
    "\n",
    "   Модели LinearRegression обучены на каждом регионе, предсказания сделаны; \n",
    "   \n",
    "   Ошибка модели LinearRegression по метрике RMSE не отлчается на обучающей и валидационной выборке;\n",
    "\n",
    "   \n",
    "3. Рассчитал необходимое количество сырья для безубыточной разработки новой скважины: 111.11 баррелей;\n",
    "\n",
    "   После сравнения средних предсказанных моделью запасов сырья, выяснил, что среднее значение \n",
    "   запасов во всех трех регионах меньше необходимого количества для безубыточной разработки;\n",
    "   \n",
    "   \n",
    "4. Проведел селекцию скважин и отобрал  в каждом регионе процедурой Bootstrap лучшие, \n",
    "   по которым расчитал распределение прибыли в регионе;\n",
    "   \n",
    "   Оценил доверительные интервалы полученых распределений прибыли в регионах.\n",
    "   \n",
    "   \n",
    "   \n",
    "5.  Данные были визулизированы гистограммой и диаграммой распределения в каждом регионе. \n",
    "    \n",
    "    По гистограмме распределений прибыли у регионов Geo_0 и Geo_2 наблюдается левый хвост \n",
    "    с  отрицательной прибылью;\n",
    "       \n",
    "    Лучший регион для разработки месторождения - Geo_1 со средней прибылью 455 007 924 руб. \n",
    "    и  с вероятностью получения убытков 1.4%, что меньше  2.5% (согласно ТЗ).\n",
    "    Выбираю его для разработки месторождения."
   ]
  },
  {
   "cell_type": "markdown",
   "metadata": {},
   "source": [
    "## Чек-лист готовности проекта"
   ]
  },
  {
   "cell_type": "markdown",
   "metadata": {},
   "source": [
    "Поставьте 'x' в выполненных пунктах. Далее нажмите Shift+Enter."
   ]
  },
  {
   "cell_type": "markdown",
   "metadata": {},
   "source": [
    "- [x]  Jupyter Notebook открыт\n",
    "- [ x]  Весь код выполняется без ошибок\n",
    "- [x ]  Ячейки с кодом расположены в порядке исполнения\n",
    "- [ x]  Выполнен шаг 1: данные подготовлены\n",
    "- [ x]  Выполнен шаг 2: модели обучены и проверены\n",
    "    - [x ]  Данные корректно разбиты на обучающую и валидационную выборки\n",
    "    - [x ]  Модели обучены, предсказания сделаны\n",
    "    - [x ]  Предсказания и правильные ответы на валидационной выборке сохранены\n",
    "    - [ x]  На экране напечатаны результаты\n",
    "    - [ x]  Сделаны выводы\n",
    "- [x ]  Выполнен шаг 3: проведена подготовка к расчёту прибыли\n",
    "    - [ x]  Для всех ключевых значений созданы константы Python\n",
    "    - [ x]  Посчитано минимальное среднее количество продукта в месторождениях региона, достаточное для разработки\n",
    "    - [x ]  По предыдущему пункту сделаны выводы\n",
    "    - [ x]  Написана функция расчёта прибыли\n",
    "- [x ]  Выполнен шаг 4: посчитаны риски и прибыль\n",
    "    - [ x]  Проведена процедура *Bootstrap*\n",
    "    - [ x]  Все параметры бутстрепа соответствуют условию\n",
    "    - [ x]  Найдены все нужные величины\n",
    "    - [ x]  Предложен регион для разработки месторождения\n",
    "    - [ x]  Выбор региона обоснован"
   ]
  },
  {
   "cell_type": "code",
   "execution_count": null,
   "metadata": {},
   "outputs": [],
   "source": []
  },
  {
   "cell_type": "code",
   "execution_count": null,
   "metadata": {},
   "outputs": [],
   "source": []
  }
 ],
 "metadata": {
  "ExecuteTimeLog": [
   {
    "duration": 2060,
    "start_time": "2024-05-20T08:26:08.265Z"
   },
   {
    "duration": 114,
    "start_time": "2024-05-20T08:26:51.927Z"
   },
   {
    "duration": 358,
    "start_time": "2024-05-20T08:27:01.033Z"
   },
   {
    "duration": 7,
    "start_time": "2024-05-20T08:27:01.437Z"
   },
   {
    "duration": 3,
    "start_time": "2024-05-20T08:28:36.656Z"
   },
   {
    "duration": 350,
    "start_time": "2024-05-20T08:28:37.216Z"
   },
   {
    "duration": 14,
    "start_time": "2024-05-20T08:28:52.242Z"
   },
   {
    "duration": 10,
    "start_time": "2024-05-20T08:29:01.051Z"
   },
   {
    "duration": 11,
    "start_time": "2024-05-20T08:29:14.298Z"
   },
   {
    "duration": 11,
    "start_time": "2024-05-20T08:29:30.886Z"
   },
   {
    "duration": 10,
    "start_time": "2024-05-20T08:29:41.908Z"
   },
   {
    "duration": 10,
    "start_time": "2024-05-20T08:29:45.521Z"
   },
   {
    "duration": 346,
    "start_time": "2024-05-20T08:29:56.868Z"
   },
   {
    "duration": 10,
    "start_time": "2024-05-20T08:29:57.374Z"
   },
   {
    "duration": 11,
    "start_time": "2024-05-20T08:29:58.108Z"
   },
   {
    "duration": 10,
    "start_time": "2024-05-20T08:29:58.666Z"
   },
   {
    "duration": 3,
    "start_time": "2024-05-20T08:30:34.332Z"
   },
   {
    "duration": 346,
    "start_time": "2024-05-20T08:30:34.816Z"
   },
   {
    "duration": 11,
    "start_time": "2024-05-20T08:30:35.533Z"
   },
   {
    "duration": 10,
    "start_time": "2024-05-20T08:30:59.362Z"
   },
   {
    "duration": 10,
    "start_time": "2024-05-20T08:30:59.968Z"
   },
   {
    "duration": 11,
    "start_time": "2024-05-20T08:31:00.561Z"
   },
   {
    "duration": 17,
    "start_time": "2024-05-20T08:31:53.057Z"
   },
   {
    "duration": 12,
    "start_time": "2024-05-20T08:32:07.687Z"
   },
   {
    "duration": 12,
    "start_time": "2024-05-20T08:32:18.973Z"
   },
   {
    "duration": 43,
    "start_time": "2024-05-20T08:36:04.104Z"
   },
   {
    "duration": 37,
    "start_time": "2024-05-20T08:36:12.998Z"
   },
   {
    "duration": 40,
    "start_time": "2024-05-20T08:36:21.808Z"
   },
   {
    "duration": 9,
    "start_time": "2024-05-20T08:43:23.872Z"
   },
   {
    "duration": 8,
    "start_time": "2024-05-20T08:43:45.109Z"
   },
   {
    "duration": 7,
    "start_time": "2024-05-20T08:43:55.547Z"
   },
   {
    "duration": 524,
    "start_time": "2024-05-20T08:45:38.984Z"
   },
   {
    "duration": 474,
    "start_time": "2024-05-20T08:45:54.268Z"
   },
   {
    "duration": 550,
    "start_time": "2024-05-20T08:46:01.955Z"
   },
   {
    "duration": 497,
    "start_time": "2024-05-20T08:46:35.004Z"
   },
   {
    "duration": 495,
    "start_time": "2024-05-20T08:47:39.797Z"
   },
   {
    "duration": 590,
    "start_time": "2024-05-20T08:48:08.105Z"
   },
   {
    "duration": 539,
    "start_time": "2024-05-20T08:49:33.504Z"
   },
   {
    "duration": 501,
    "start_time": "2024-05-20T08:50:09.272Z"
   },
   {
    "duration": 509,
    "start_time": "2024-05-20T08:50:56.381Z"
   },
   {
    "duration": 603,
    "start_time": "2024-05-20T08:51:03.592Z"
   },
   {
    "duration": 5,
    "start_time": "2024-05-20T09:02:46.691Z"
   },
   {
    "duration": 44,
    "start_time": "2024-05-20T09:03:05.945Z"
   },
   {
    "duration": 5,
    "start_time": "2024-05-20T09:05:06.656Z"
   },
   {
    "duration": 45,
    "start_time": "2024-05-20T09:05:07.558Z"
   },
   {
    "duration": 5,
    "start_time": "2024-05-20T09:06:19.156Z"
   },
   {
    "duration": 43,
    "start_time": "2024-05-20T09:06:19.822Z"
   },
   {
    "duration": 5,
    "start_time": "2024-05-20T09:07:44.596Z"
   },
   {
    "duration": 45,
    "start_time": "2024-05-20T09:07:45.152Z"
   },
   {
    "duration": 3,
    "start_time": "2024-05-20T09:09:55.734Z"
   },
   {
    "duration": 232,
    "start_time": "2024-05-20T09:10:08.688Z"
   },
   {
    "duration": 3,
    "start_time": "2024-05-20T09:10:35.437Z"
   },
   {
    "duration": 4,
    "start_time": "2024-05-20T09:11:00.204Z"
   },
   {
    "duration": 4,
    "start_time": "2024-05-20T09:11:20.712Z"
   },
   {
    "duration": 4,
    "start_time": "2024-05-20T09:11:27.770Z"
   },
   {
    "duration": 4,
    "start_time": "2024-05-20T09:18:55.198Z"
   },
   {
    "duration": 3,
    "start_time": "2024-05-20T09:19:11.578Z"
   },
   {
    "duration": 4,
    "start_time": "2024-05-20T09:19:35.596Z"
   },
   {
    "duration": 6,
    "start_time": "2024-05-20T09:19:49.510Z"
   },
   {
    "duration": 3,
    "start_time": "2024-05-20T09:20:21.146Z"
   },
   {
    "duration": 4,
    "start_time": "2024-05-20T09:20:29.965Z"
   },
   {
    "duration": 10,
    "start_time": "2024-05-20T09:22:03.762Z"
   },
   {
    "duration": 874,
    "start_time": "2024-05-20T09:24:37.258Z"
   },
   {
    "duration": 3,
    "start_time": "2024-05-20T09:33:24.113Z"
   },
   {
    "duration": 3,
    "start_time": "2024-05-20T09:35:32.527Z"
   },
   {
    "duration": 3,
    "start_time": "2024-05-20T09:35:59.369Z"
   },
   {
    "duration": 2,
    "start_time": "2024-05-20T09:36:20.378Z"
   },
   {
    "duration": 4,
    "start_time": "2024-05-20T09:38:58.630Z"
   },
   {
    "duration": 4,
    "start_time": "2024-05-20T09:40:32.536Z"
   },
   {
    "duration": 4,
    "start_time": "2024-05-20T09:40:33.194Z"
   },
   {
    "duration": 9,
    "start_time": "2024-05-20T09:46:54.667Z"
   },
   {
    "duration": 1582,
    "start_time": "2024-05-21T06:44:07.365Z"
   },
   {
    "duration": 1650,
    "start_time": "2024-05-21T06:44:08.949Z"
   },
   {
    "duration": 16,
    "start_time": "2024-05-21T06:44:10.600Z"
   },
   {
    "duration": 17,
    "start_time": "2024-05-21T06:44:10.617Z"
   },
   {
    "duration": 11,
    "start_time": "2024-05-21T06:44:10.636Z"
   },
   {
    "duration": 14,
    "start_time": "2024-05-21T06:44:11.989Z"
   },
   {
    "duration": 15,
    "start_time": "2024-05-21T06:44:13.014Z"
   },
   {
    "duration": 14,
    "start_time": "2024-05-21T06:44:13.578Z"
   },
   {
    "duration": 50,
    "start_time": "2024-05-21T06:44:16.845Z"
   },
   {
    "duration": 51,
    "start_time": "2024-05-21T06:44:17.437Z"
   },
   {
    "duration": 48,
    "start_time": "2024-05-21T06:44:17.903Z"
   },
   {
    "duration": 10,
    "start_time": "2024-05-21T06:44:20.161Z"
   },
   {
    "duration": 8,
    "start_time": "2024-05-21T06:44:20.690Z"
   },
   {
    "duration": 9,
    "start_time": "2024-05-21T06:44:21.253Z"
   },
   {
    "duration": 565,
    "start_time": "2024-05-21T06:44:25.159Z"
   },
   {
    "duration": 5,
    "start_time": "2024-05-21T06:44:28.400Z"
   },
   {
    "duration": 60,
    "start_time": "2024-05-21T06:44:28.915Z"
   },
   {
    "duration": 3,
    "start_time": "2024-05-21T06:44:30.466Z"
   },
   {
    "duration": 306,
    "start_time": "2024-05-21T06:44:30.992Z"
   },
   {
    "duration": 4,
    "start_time": "2024-05-21T06:44:31.494Z"
   },
   {
    "duration": 4,
    "start_time": "2024-05-21T06:44:31.832Z"
   },
   {
    "duration": 5,
    "start_time": "2024-05-21T06:44:32.375Z"
   },
   {
    "duration": 955,
    "start_time": "2024-05-21T06:44:33.258Z"
   },
   {
    "duration": 3,
    "start_time": "2024-05-21T06:44:47.209Z"
   },
   {
    "duration": 3,
    "start_time": "2024-05-21T06:44:48.508Z"
   },
   {
    "duration": 4,
    "start_time": "2024-05-21T06:44:48.962Z"
   },
   {
    "duration": 10,
    "start_time": "2024-05-21T06:44:50.159Z"
   },
   {
    "duration": 4,
    "start_time": "2024-05-21T06:47:03.574Z"
   },
   {
    "duration": 4,
    "start_time": "2024-05-21T06:49:13.413Z"
   },
   {
    "duration": 4,
    "start_time": "2024-05-21T06:49:14.341Z"
   },
   {
    "duration": 169,
    "start_time": "2024-05-21T06:49:48.217Z"
   },
   {
    "duration": 4,
    "start_time": "2024-05-21T06:50:02.875Z"
   },
   {
    "duration": 4,
    "start_time": "2024-05-21T06:50:06.511Z"
   },
   {
    "duration": 65,
    "start_time": "2024-05-21T06:50:07.290Z"
   },
   {
    "duration": 3,
    "start_time": "2024-05-21T06:50:14.090Z"
   },
   {
    "duration": 4,
    "start_time": "2024-05-21T06:50:15.142Z"
   },
   {
    "duration": 70,
    "start_time": "2024-05-21T06:50:16.200Z"
   },
   {
    "duration": 5,
    "start_time": "2024-05-21T06:51:21.983Z"
   },
   {
    "duration": 82,
    "start_time": "2024-05-21T06:51:25.030Z"
   },
   {
    "duration": 69,
    "start_time": "2024-05-21T06:51:26.168Z"
   },
   {
    "duration": 11,
    "start_time": "2024-05-21T06:52:01.567Z"
   },
   {
    "duration": 4,
    "start_time": "2024-05-21T06:52:04.151Z"
   },
   {
    "duration": 5,
    "start_time": "2024-05-21T06:52:05.620Z"
   },
   {
    "duration": 189,
    "start_time": "2024-05-21T06:52:06.245Z"
   },
   {
    "duration": 4,
    "start_time": "2024-05-21T06:55:30.564Z"
   },
   {
    "duration": 3,
    "start_time": "2024-05-21T06:55:31.728Z"
   },
   {
    "duration": 69,
    "start_time": "2024-05-21T06:55:32.654Z"
   },
   {
    "duration": 3,
    "start_time": "2024-05-21T06:59:26.001Z"
   },
   {
    "duration": 4,
    "start_time": "2024-05-21T06:59:27.619Z"
   },
   {
    "duration": 4,
    "start_time": "2024-05-21T06:59:28.725Z"
   },
   {
    "duration": 1306,
    "start_time": "2024-05-21T06:59:30.171Z"
   },
   {
    "duration": 4,
    "start_time": "2024-05-21T07:00:41.962Z"
   },
   {
    "duration": 3,
    "start_time": "2024-05-21T07:00:42.949Z"
   },
   {
    "duration": 1286,
    "start_time": "2024-05-21T07:00:44.021Z"
   },
   {
    "duration": 4,
    "start_time": "2024-05-21T07:05:55.376Z"
   },
   {
    "duration": 5,
    "start_time": "2024-05-21T07:06:05.532Z"
   },
   {
    "duration": 4,
    "start_time": "2024-05-21T07:06:06.845Z"
   },
   {
    "duration": 1267,
    "start_time": "2024-05-21T07:06:08.170Z"
   },
   {
    "duration": 5,
    "start_time": "2024-05-21T07:09:51.568Z"
   },
   {
    "duration": 4,
    "start_time": "2024-05-21T07:09:52.576Z"
   },
   {
    "duration": 1188,
    "start_time": "2024-05-21T07:09:53.557Z"
   },
   {
    "duration": 2,
    "start_time": "2024-05-21T07:10:37.539Z"
   },
   {
    "duration": 4,
    "start_time": "2024-05-21T07:10:38.622Z"
   },
   {
    "duration": 4,
    "start_time": "2024-05-21T07:10:39.652Z"
   },
   {
    "duration": 1185,
    "start_time": "2024-05-21T07:10:40.694Z"
   },
   {
    "duration": 3,
    "start_time": "2024-05-21T07:10:49.410Z"
   },
   {
    "duration": 3,
    "start_time": "2024-05-21T07:10:50.505Z"
   },
   {
    "duration": 3,
    "start_time": "2024-05-21T07:10:51.957Z"
   },
   {
    "duration": 1206,
    "start_time": "2024-05-21T07:14:55.871Z"
   },
   {
    "duration": 4,
    "start_time": "2024-05-21T07:15:21.637Z"
   },
   {
    "duration": 3,
    "start_time": "2024-05-21T07:15:22.797Z"
   },
   {
    "duration": 1228,
    "start_time": "2024-05-21T07:15:24.071Z"
   },
   {
    "duration": 1230,
    "start_time": "2024-05-21T07:15:26.874Z"
   },
   {
    "duration": 1253,
    "start_time": "2024-05-21T07:15:45.798Z"
   },
   {
    "duration": 1263,
    "start_time": "2024-05-21T07:19:04.974Z"
   },
   {
    "duration": 1274,
    "start_time": "2024-05-21T07:21:03.162Z"
   },
   {
    "duration": 1291,
    "start_time": "2024-05-21T07:21:04.438Z"
   },
   {
    "duration": 4,
    "start_time": "2024-05-21T07:30:46.367Z"
   },
   {
    "duration": 1228,
    "start_time": "2024-05-21T07:30:48.313Z"
   },
   {
    "duration": 1228,
    "start_time": "2024-05-21T07:30:52.861Z"
   },
   {
    "duration": 1225,
    "start_time": "2024-05-21T07:30:54.843Z"
   },
   {
    "duration": 11,
    "start_time": "2024-05-21T07:33:43.783Z"
   },
   {
    "duration": 1295,
    "start_time": "2024-05-21T07:36:23.475Z"
   },
   {
    "duration": 9,
    "start_time": "2024-05-21T07:36:25.533Z"
   },
   {
    "duration": 5,
    "start_time": "2024-05-21T07:40:17.087Z"
   },
   {
    "duration": 7,
    "start_time": "2024-05-21T07:42:32.753Z"
   },
   {
    "duration": 7,
    "start_time": "2024-05-21T07:42:51.359Z"
   },
   {
    "duration": 24,
    "start_time": "2024-05-21T07:42:51.745Z"
   },
   {
    "duration": 5,
    "start_time": "2024-05-21T07:43:24.922Z"
   },
   {
    "duration": 7,
    "start_time": "2024-05-21T07:43:25.689Z"
   },
   {
    "duration": 17,
    "start_time": "2024-05-21T07:43:42.859Z"
   },
   {
    "duration": 3,
    "start_time": "2024-05-21T07:45:01.656Z"
   },
   {
    "duration": 406,
    "start_time": "2024-05-21T07:45:02.383Z"
   },
   {
    "duration": 12,
    "start_time": "2024-05-21T07:45:02.790Z"
   },
   {
    "duration": 12,
    "start_time": "2024-05-21T07:45:03.657Z"
   },
   {
    "duration": 11,
    "start_time": "2024-05-21T07:45:03.851Z"
   },
   {
    "duration": 15,
    "start_time": "2024-05-21T07:45:04.357Z"
   },
   {
    "duration": 15,
    "start_time": "2024-05-21T07:45:04.881Z"
   },
   {
    "duration": 21,
    "start_time": "2024-05-21T07:45:05.055Z"
   },
   {
    "duration": 45,
    "start_time": "2024-05-21T07:45:05.667Z"
   },
   {
    "duration": 42,
    "start_time": "2024-05-21T07:45:05.837Z"
   },
   {
    "duration": 45,
    "start_time": "2024-05-21T07:45:05.999Z"
   },
   {
    "duration": 7,
    "start_time": "2024-05-21T07:45:06.691Z"
   },
   {
    "duration": 9,
    "start_time": "2024-05-21T07:45:06.849Z"
   },
   {
    "duration": 7,
    "start_time": "2024-05-21T07:45:07.005Z"
   },
   {
    "duration": 629,
    "start_time": "2024-05-21T07:45:07.367Z"
   },
   {
    "duration": 6,
    "start_time": "2024-05-21T07:45:08.567Z"
   },
   {
    "duration": 53,
    "start_time": "2024-05-21T07:45:08.713Z"
   },
   {
    "duration": 3,
    "start_time": "2024-05-21T07:45:09.399Z"
   },
   {
    "duration": 135,
    "start_time": "2024-05-21T07:45:09.565Z"
   },
   {
    "duration": 100,
    "start_time": "2024-05-21T07:45:09.797Z"
   },
   {
    "duration": 7,
    "start_time": "2024-05-21T07:45:09.934Z"
   },
   {
    "duration": 3,
    "start_time": "2024-05-21T07:45:10.081Z"
   },
   {
    "duration": 885,
    "start_time": "2024-05-21T07:45:10.431Z"
   },
   {
    "duration": 3,
    "start_time": "2024-05-21T07:45:11.475Z"
   },
   {
    "duration": 4,
    "start_time": "2024-05-21T07:45:11.801Z"
   },
   {
    "duration": 4,
    "start_time": "2024-05-21T07:45:11.987Z"
   },
   {
    "duration": 10,
    "start_time": "2024-05-21T07:45:12.511Z"
   },
   {
    "duration": 3,
    "start_time": "2024-05-21T07:45:13.607Z"
   },
   {
    "duration": 4,
    "start_time": "2024-05-21T07:45:14.181Z"
   },
   {
    "duration": 4,
    "start_time": "2024-05-21T07:45:14.527Z"
   },
   {
    "duration": 1260,
    "start_time": "2024-05-21T07:45:15.059Z"
   },
   {
    "duration": 1261,
    "start_time": "2024-05-21T07:45:16.321Z"
   },
   {
    "duration": 1230,
    "start_time": "2024-05-21T07:45:17.583Z"
   },
   {
    "duration": 5,
    "start_time": "2024-05-21T07:45:18.814Z"
   },
   {
    "duration": 72,
    "start_time": "2024-05-21T07:45:18.820Z"
   },
   {
    "duration": 852,
    "start_time": "2024-05-21T07:45:18.894Z"
   },
   {
    "duration": 889,
    "start_time": "2024-05-21T07:45:28.157Z"
   },
   {
    "duration": 783,
    "start_time": "2024-05-21T07:45:47.406Z"
   },
   {
    "duration": 804,
    "start_time": "2024-05-21T07:46:08.867Z"
   },
   {
    "duration": 923,
    "start_time": "2024-05-21T07:46:26.736Z"
   },
   {
    "duration": 808,
    "start_time": "2024-05-21T07:46:42.789Z"
   },
   {
    "duration": 5,
    "start_time": "2024-05-21T07:56:18.442Z"
   },
   {
    "duration": 6,
    "start_time": "2024-05-21T07:56:19.139Z"
   },
   {
    "duration": 764,
    "start_time": "2024-05-21T07:56:20.125Z"
   },
   {
    "duration": 7,
    "start_time": "2024-05-21T07:59:11.174Z"
   },
   {
    "duration": 785,
    "start_time": "2024-05-21T07:59:11.873Z"
   },
   {
    "duration": 7,
    "start_time": "2024-05-21T08:00:06.215Z"
   },
   {
    "duration": 945,
    "start_time": "2024-05-21T08:00:06.813Z"
   },
   {
    "duration": 8,
    "start_time": "2024-05-21T08:00:29.513Z"
   },
   {
    "duration": 825,
    "start_time": "2024-05-21T08:00:30.073Z"
   },
   {
    "duration": 4,
    "start_time": "2024-05-21T08:00:42.917Z"
   },
   {
    "duration": 7,
    "start_time": "2024-05-21T08:00:43.531Z"
   },
   {
    "duration": 769,
    "start_time": "2024-05-21T08:00:44.103Z"
   },
   {
    "duration": 5,
    "start_time": "2024-05-21T08:00:56.413Z"
   },
   {
    "duration": 6,
    "start_time": "2024-05-21T08:00:56.949Z"
   },
   {
    "duration": 791,
    "start_time": "2024-05-21T08:00:57.578Z"
   },
   {
    "duration": 5,
    "start_time": "2024-05-21T08:01:40.621Z"
   },
   {
    "duration": 135,
    "start_time": "2024-05-21T08:01:41.441Z"
   },
   {
    "duration": 792,
    "start_time": "2024-05-21T08:01:42.420Z"
   },
   {
    "duration": 767,
    "start_time": "2024-05-21T08:02:15.896Z"
   },
   {
    "duration": 5,
    "start_time": "2024-05-21T08:10:08.345Z"
   },
   {
    "duration": 6,
    "start_time": "2024-05-21T08:11:25.208Z"
   },
   {
    "duration": 805,
    "start_time": "2024-05-21T08:11:25.858Z"
   },
   {
    "duration": 684,
    "start_time": "2024-05-21T08:11:49.102Z"
   },
   {
    "duration": 741,
    "start_time": "2024-05-21T08:11:55.515Z"
   },
   {
    "duration": 716,
    "start_time": "2024-05-21T08:12:15.748Z"
   },
   {
    "duration": 808,
    "start_time": "2024-05-21T08:12:34.267Z"
   },
   {
    "duration": 5,
    "start_time": "2024-05-21T08:41:52.631Z"
   },
   {
    "duration": 5,
    "start_time": "2024-05-21T08:41:54.107Z"
   },
   {
    "duration": 1258,
    "start_time": "2024-05-21T08:41:59.050Z"
   },
   {
    "duration": 1211,
    "start_time": "2024-05-21T08:42:22.189Z"
   },
   {
    "duration": 4,
    "start_time": "2024-05-21T08:44:28.176Z"
   },
   {
    "duration": 4,
    "start_time": "2024-05-21T08:44:29.185Z"
   },
   {
    "duration": 1302,
    "start_time": "2024-05-21T08:44:30.819Z"
   },
   {
    "duration": 1277,
    "start_time": "2024-05-21T08:44:44.396Z"
   },
   {
    "duration": 1263,
    "start_time": "2024-05-21T08:44:45.674Z"
   },
   {
    "duration": 1272,
    "start_time": "2024-05-21T08:44:46.939Z"
   },
   {
    "duration": 5,
    "start_time": "2024-05-21T08:44:48.213Z"
   },
   {
    "duration": 117,
    "start_time": "2024-05-21T08:44:48.220Z"
   },
   {
    "duration": 1190,
    "start_time": "2024-05-21T08:44:48.338Z"
   },
   {
    "duration": 6,
    "start_time": "2024-05-21T08:54:16.675Z"
   },
   {
    "duration": 4,
    "start_time": "2024-05-21T08:54:57.366Z"
   },
   {
    "duration": 4,
    "start_time": "2024-05-21T08:54:59.674Z"
   },
   {
    "duration": 1348,
    "start_time": "2024-05-21T08:55:01.180Z"
   },
   {
    "duration": 1335,
    "start_time": "2024-05-21T08:55:06.831Z"
   },
   {
    "duration": 1312,
    "start_time": "2024-05-21T08:55:09.506Z"
   },
   {
    "duration": 5,
    "start_time": "2024-05-21T08:55:49.883Z"
   },
   {
    "duration": 4,
    "start_time": "2024-05-21T08:55:54.166Z"
   },
   {
    "duration": 1278,
    "start_time": "2024-05-21T08:55:55.406Z"
   },
   {
    "duration": 4,
    "start_time": "2024-05-21T08:56:27.256Z"
   },
   {
    "duration": 1337,
    "start_time": "2024-05-21T08:56:28.879Z"
   },
   {
    "duration": 1271,
    "start_time": "2024-05-21T08:56:47.532Z"
   },
   {
    "duration": 1277,
    "start_time": "2024-05-21T08:56:55.665Z"
   },
   {
    "duration": 4,
    "start_time": "2024-05-21T08:58:04.623Z"
   },
   {
    "duration": 1366,
    "start_time": "2024-05-21T08:58:06.528Z"
   },
   {
    "duration": 1355,
    "start_time": "2024-05-21T08:58:18.860Z"
   },
   {
    "duration": 5,
    "start_time": "2024-05-21T09:00:09.414Z"
   },
   {
    "duration": 1406,
    "start_time": "2024-05-21T09:00:10.990Z"
   },
   {
    "duration": 1350,
    "start_time": "2024-05-21T09:00:23.280Z"
   },
   {
    "duration": 1341,
    "start_time": "2024-05-21T09:00:27.656Z"
   },
   {
    "duration": 6,
    "start_time": "2024-05-21T09:01:49.204Z"
   },
   {
    "duration": 1331,
    "start_time": "2024-05-21T09:01:53.057Z"
   },
   {
    "duration": 6,
    "start_time": "2024-05-21T09:02:13.466Z"
   },
   {
    "duration": 1338,
    "start_time": "2024-05-21T09:02:16.157Z"
   },
   {
    "duration": 5,
    "start_time": "2024-05-21T09:03:17.639Z"
   },
   {
    "duration": 1256,
    "start_time": "2024-05-21T09:03:20.018Z"
   },
   {
    "duration": 4,
    "start_time": "2024-05-21T09:03:44.466Z"
   },
   {
    "duration": 1249,
    "start_time": "2024-05-21T09:03:47.375Z"
   },
   {
    "duration": 4,
    "start_time": "2024-05-21T09:04:21.057Z"
   },
   {
    "duration": 1305,
    "start_time": "2024-05-21T09:04:22.455Z"
   },
   {
    "duration": 4,
    "start_time": "2024-05-21T09:04:43.179Z"
   },
   {
    "duration": 1291,
    "start_time": "2024-05-21T09:04:45.289Z"
   },
   {
    "duration": 4,
    "start_time": "2024-05-21T09:05:00.413Z"
   },
   {
    "duration": 1361,
    "start_time": "2024-05-21T09:05:02.344Z"
   },
   {
    "duration": 4,
    "start_time": "2024-05-21T09:06:26.851Z"
   },
   {
    "duration": 1271,
    "start_time": "2024-05-21T09:06:32.317Z"
   },
   {
    "duration": 1237,
    "start_time": "2024-05-21T09:06:38.121Z"
   },
   {
    "duration": 1291,
    "start_time": "2024-05-21T09:06:43.795Z"
   },
   {
    "duration": 5,
    "start_time": "2024-05-21T09:08:16.861Z"
   },
   {
    "duration": 1330,
    "start_time": "2024-05-21T09:08:18.603Z"
   },
   {
    "duration": 1350,
    "start_time": "2024-05-21T09:08:21.917Z"
   },
   {
    "duration": 1309,
    "start_time": "2024-05-21T09:08:23.270Z"
   },
   {
    "duration": 5,
    "start_time": "2024-05-21T09:08:36.123Z"
   },
   {
    "duration": 6,
    "start_time": "2024-05-21T09:08:36.837Z"
   },
   {
    "duration": 10,
    "start_time": "2024-05-21T09:12:42.522Z"
   },
   {
    "duration": 5,
    "start_time": "2024-05-21T09:12:56.000Z"
   },
   {
    "duration": 5,
    "start_time": "2024-05-21T09:12:56.649Z"
   },
   {
    "duration": 5,
    "start_time": "2024-05-21T09:12:57.276Z"
   },
   {
    "duration": 1408,
    "start_time": "2024-05-21T09:13:00.817Z"
   },
   {
    "duration": 1365,
    "start_time": "2024-05-21T09:13:12.888Z"
   },
   {
    "duration": 1423,
    "start_time": "2024-05-21T09:13:23.474Z"
   },
   {
    "duration": 16,
    "start_time": "2024-05-21T09:13:27.392Z"
   },
   {
    "duration": 6,
    "start_time": "2024-05-21T09:13:29.171Z"
   },
   {
    "duration": 905,
    "start_time": "2024-05-21T09:13:29.826Z"
   },
   {
    "duration": 4,
    "start_time": "2024-05-21T09:14:30.744Z"
   },
   {
    "duration": 4,
    "start_time": "2024-05-21T09:14:31.767Z"
   },
   {
    "duration": 4,
    "start_time": "2024-05-21T09:14:32.870Z"
   },
   {
    "duration": 1357,
    "start_time": "2024-05-21T09:14:34.933Z"
   },
   {
    "duration": 1384,
    "start_time": "2024-05-21T09:14:38.697Z"
   },
   {
    "duration": 1364,
    "start_time": "2024-05-21T09:14:41.468Z"
   },
   {
    "duration": 8,
    "start_time": "2024-05-21T09:15:16.862Z"
   },
   {
    "duration": 1331,
    "start_time": "2024-05-21T09:15:18.440Z"
   },
   {
    "duration": 4,
    "start_time": "2024-05-21T09:15:48.840Z"
   },
   {
    "duration": 5,
    "start_time": "2024-05-21T09:15:49.867Z"
   },
   {
    "duration": 4,
    "start_time": "2024-05-21T09:15:51.526Z"
   },
   {
    "duration": 1294,
    "start_time": "2024-05-21T09:15:53.538Z"
   },
   {
    "duration": 4,
    "start_time": "2024-05-21T09:16:45.074Z"
   },
   {
    "duration": 4,
    "start_time": "2024-05-21T09:16:46.256Z"
   },
   {
    "duration": 3,
    "start_time": "2024-05-21T09:16:55.332Z"
   },
   {
    "duration": 4,
    "start_time": "2024-05-21T09:16:56.522Z"
   },
   {
    "duration": 1329,
    "start_time": "2024-05-21T09:16:58.192Z"
   },
   {
    "duration": 4,
    "start_time": "2024-05-21T09:18:14.746Z"
   },
   {
    "duration": 1417,
    "start_time": "2024-05-21T09:18:16.350Z"
   },
   {
    "duration": 1380,
    "start_time": "2024-05-21T09:18:19.936Z"
   },
   {
    "duration": 1337,
    "start_time": "2024-05-21T09:18:44.028Z"
   },
   {
    "duration": 5,
    "start_time": "2024-05-21T09:19:35.582Z"
   },
   {
    "duration": 6,
    "start_time": "2024-05-21T09:19:36.599Z"
   },
   {
    "duration": 1289,
    "start_time": "2024-05-21T09:19:38.958Z"
   },
   {
    "duration": 4,
    "start_time": "2024-05-21T09:21:02.206Z"
   },
   {
    "duration": 5,
    "start_time": "2024-05-21T09:21:03.170Z"
   },
   {
    "duration": 1326,
    "start_time": "2024-05-21T09:21:05.060Z"
   },
   {
    "duration": 1279,
    "start_time": "2024-05-21T09:21:06.388Z"
   },
   {
    "duration": 1281,
    "start_time": "2024-05-21T09:21:08.624Z"
   },
   {
    "duration": 4,
    "start_time": "2024-05-21T09:27:21.051Z"
   },
   {
    "duration": 4,
    "start_time": "2024-05-21T09:27:22.880Z"
   },
   {
    "duration": 4,
    "start_time": "2024-05-21T09:27:23.987Z"
   },
   {
    "duration": 1273,
    "start_time": "2024-05-21T09:27:29.314Z"
   },
   {
    "duration": 1281,
    "start_time": "2024-05-21T09:27:32.890Z"
   },
   {
    "duration": 1267,
    "start_time": "2024-05-21T09:27:35.365Z"
   },
   {
    "duration": 1249,
    "start_time": "2024-05-21T09:40:55.930Z"
   },
   {
    "duration": 1233,
    "start_time": "2024-05-21T09:41:19.048Z"
   },
   {
    "duration": 1213,
    "start_time": "2024-05-21T09:41:29.841Z"
   },
   {
    "duration": 5,
    "start_time": "2024-05-21T09:41:37.285Z"
   },
   {
    "duration": 6,
    "start_time": "2024-05-21T09:41:38.256Z"
   },
   {
    "duration": 799,
    "start_time": "2024-05-21T09:41:39.031Z"
   },
   {
    "duration": 12,
    "start_time": "2024-05-21T09:42:05.199Z"
   },
   {
    "duration": 3,
    "start_time": "2024-05-21T09:42:26.603Z"
   },
   {
    "duration": 3,
    "start_time": "2024-05-21T09:42:27.433Z"
   },
   {
    "duration": 5,
    "start_time": "2024-05-21T09:42:28.148Z"
   },
   {
    "duration": 1257,
    "start_time": "2024-05-21T09:42:30.533Z"
   },
   {
    "duration": 1248,
    "start_time": "2024-05-21T09:42:33.453Z"
   },
   {
    "duration": 1242,
    "start_time": "2024-05-21T09:42:36.244Z"
   },
   {
    "duration": 4,
    "start_time": "2024-05-21T09:42:39.419Z"
   },
   {
    "duration": 6,
    "start_time": "2024-05-21T09:42:40.164Z"
   },
   {
    "duration": 11,
    "start_time": "2024-05-21T09:42:40.848Z"
   },
   {
    "duration": 1060,
    "start_time": "2024-05-21T09:43:00.468Z"
   },
   {
    "duration": 13,
    "start_time": "2024-05-21T09:50:41.572Z"
   },
   {
    "duration": 3,
    "start_time": "2024-05-21T09:50:55.790Z"
   },
   {
    "duration": 12,
    "start_time": "2024-05-21T09:50:56.331Z"
   },
   {
    "duration": 8,
    "start_time": "2024-05-21T09:51:15.809Z"
   },
   {
    "duration": 7,
    "start_time": "2024-05-21T09:52:06.383Z"
   },
   {
    "duration": 4,
    "start_time": "2024-05-21T09:53:28.331Z"
   },
   {
    "duration": 3,
    "start_time": "2024-05-21T09:53:30.973Z"
   },
   {
    "duration": 1368,
    "start_time": "2024-05-21T09:54:21.784Z"
   },
   {
    "duration": 1391,
    "start_time": "2024-05-21T09:54:34.834Z"
   },
   {
    "duration": 1412,
    "start_time": "2024-05-21T09:54:54.495Z"
   },
   {
    "duration": 1355,
    "start_time": "2024-05-21T09:55:00.922Z"
   },
   {
    "duration": 5,
    "start_time": "2024-05-21T09:55:02.790Z"
   },
   {
    "duration": 7,
    "start_time": "2024-05-21T09:55:03.178Z"
   },
   {
    "duration": 850,
    "start_time": "2024-05-21T09:55:03.476Z"
   },
   {
    "duration": 4,
    "start_time": "2024-05-21T09:55:44.388Z"
   },
   {
    "duration": 421,
    "start_time": "2024-05-21T09:55:45.707Z"
   },
   {
    "duration": 12,
    "start_time": "2024-05-21T09:55:47.652Z"
   },
   {
    "duration": 11,
    "start_time": "2024-05-21T09:55:48.358Z"
   },
   {
    "duration": 15,
    "start_time": "2024-05-21T09:55:49.499Z"
   },
   {
    "duration": 24,
    "start_time": "2024-05-21T09:55:51.190Z"
   },
   {
    "duration": 14,
    "start_time": "2024-05-21T09:55:51.914Z"
   },
   {
    "duration": 15,
    "start_time": "2024-05-21T09:55:52.572Z"
   },
   {
    "duration": 57,
    "start_time": "2024-05-21T09:55:54.866Z"
   },
   {
    "duration": 45,
    "start_time": "2024-05-21T09:55:55.624Z"
   },
   {
    "duration": 44,
    "start_time": "2024-05-21T09:55:56.188Z"
   },
   {
    "duration": 9,
    "start_time": "2024-05-21T09:55:58.602Z"
   },
   {
    "duration": 8,
    "start_time": "2024-05-21T09:55:59.135Z"
   },
   {
    "duration": 8,
    "start_time": "2024-05-21T09:55:59.608Z"
   },
   {
    "duration": 691,
    "start_time": "2024-05-21T09:56:00.828Z"
   },
   {
    "duration": 5,
    "start_time": "2024-05-21T09:56:05.976Z"
   },
   {
    "duration": 62,
    "start_time": "2024-05-21T09:56:07.718Z"
   },
   {
    "duration": 3,
    "start_time": "2024-05-21T09:56:10.342Z"
   },
   {
    "duration": 51,
    "start_time": "2024-05-21T09:56:10.866Z"
   },
   {
    "duration": 5,
    "start_time": "2024-05-21T09:56:11.354Z"
   },
   {
    "duration": 5,
    "start_time": "2024-05-21T09:56:14.264Z"
   },
   {
    "duration": 6,
    "start_time": "2024-05-21T09:56:16.835Z"
   },
   {
    "duration": 1070,
    "start_time": "2024-05-21T09:56:18.556Z"
   },
   {
    "duration": 2,
    "start_time": "2024-05-21T09:56:28.176Z"
   },
   {
    "duration": 4,
    "start_time": "2024-05-21T09:56:29.358Z"
   },
   {
    "duration": 3,
    "start_time": "2024-05-21T09:56:29.950Z"
   },
   {
    "duration": 10,
    "start_time": "2024-05-21T09:56:32.631Z"
   },
   {
    "duration": 3,
    "start_time": "2024-05-21T09:56:39.282Z"
   },
   {
    "duration": 5,
    "start_time": "2024-05-21T09:56:50.805Z"
   },
   {
    "duration": 4,
    "start_time": "2024-05-21T09:56:52.048Z"
   },
   {
    "duration": 10,
    "start_time": "2024-05-21T09:56:53.296Z"
   },
   {
    "duration": 1350,
    "start_time": "2024-05-21T09:57:02.780Z"
   },
   {
    "duration": 1369,
    "start_time": "2024-05-21T09:57:04.774Z"
   },
   {
    "duration": 1345,
    "start_time": "2024-05-21T09:57:08.561Z"
   },
   {
    "duration": 1321,
    "start_time": "2024-05-21T09:57:17.943Z"
   },
   {
    "duration": 1306,
    "start_time": "2024-05-21T09:57:20.102Z"
   },
   {
    "duration": 1316,
    "start_time": "2024-05-21T09:57:21.410Z"
   },
   {
    "duration": 5,
    "start_time": "2024-05-21T09:57:22.765Z"
   },
   {
    "duration": 142,
    "start_time": "2024-05-21T09:57:23.257Z"
   },
   {
    "duration": 848,
    "start_time": "2024-05-21T09:57:23.531Z"
   },
   {
    "duration": 10030,
    "start_time": "2024-05-21T11:36:06.142Z"
   },
   {
    "duration": 430,
    "start_time": "2024-05-21T11:36:16.173Z"
   },
   {
    "duration": 4,
    "start_time": "2024-05-21T11:41:05.289Z"
   },
   {
    "duration": 451,
    "start_time": "2024-05-21T11:41:05.295Z"
   },
   {
    "duration": 16,
    "start_time": "2024-05-21T11:41:05.747Z"
   },
   {
    "duration": 44,
    "start_time": "2024-05-21T11:41:05.765Z"
   },
   {
    "duration": 12,
    "start_time": "2024-05-21T11:41:05.811Z"
   },
   {
    "duration": 24,
    "start_time": "2024-05-21T11:41:05.824Z"
   },
   {
    "duration": 39,
    "start_time": "2024-05-21T11:41:05.850Z"
   },
   {
    "duration": 13,
    "start_time": "2024-05-21T11:41:05.891Z"
   },
   {
    "duration": 122,
    "start_time": "2024-05-21T11:41:05.906Z"
   },
   {
    "duration": 42,
    "start_time": "2024-05-21T11:41:06.031Z"
   },
   {
    "duration": 44,
    "start_time": "2024-05-21T11:41:06.075Z"
   },
   {
    "duration": 8,
    "start_time": "2024-05-21T11:41:06.121Z"
   },
   {
    "duration": 37,
    "start_time": "2024-05-21T11:41:06.130Z"
   },
   {
    "duration": 19,
    "start_time": "2024-05-21T11:41:06.168Z"
   },
   {
    "duration": 597,
    "start_time": "2024-05-21T11:41:06.189Z"
   },
   {
    "duration": 5,
    "start_time": "2024-05-21T11:41:06.788Z"
   },
   {
    "duration": 78,
    "start_time": "2024-05-21T11:41:06.795Z"
   },
   {
    "duration": 4,
    "start_time": "2024-05-21T11:41:06.874Z"
   },
   {
    "duration": 183,
    "start_time": "2024-05-21T11:41:06.879Z"
   },
   {
    "duration": 94,
    "start_time": "2024-05-21T11:41:07.065Z"
   },
   {
    "duration": 112,
    "start_time": "2024-05-21T11:41:07.162Z"
   },
   {
    "duration": 17,
    "start_time": "2024-05-21T11:41:07.276Z"
   },
   {
    "duration": 1050,
    "start_time": "2024-05-21T11:41:07.295Z"
   },
   {
    "duration": 13,
    "start_time": "2024-05-21T11:41:08.346Z"
   },
   {
    "duration": 14,
    "start_time": "2024-05-21T11:41:08.361Z"
   },
   {
    "duration": 7,
    "start_time": "2024-05-21T11:41:08.377Z"
   },
   {
    "duration": 13,
    "start_time": "2024-05-21T11:41:08.385Z"
   },
   {
    "duration": 5,
    "start_time": "2024-05-21T11:41:08.401Z"
   },
   {
    "duration": 6,
    "start_time": "2024-05-21T11:41:08.408Z"
   },
   {
    "duration": 17,
    "start_time": "2024-05-21T11:41:08.416Z"
   },
   {
    "duration": 1367,
    "start_time": "2024-05-21T11:41:08.435Z"
   },
   {
    "duration": 1358,
    "start_time": "2024-05-21T11:41:09.804Z"
   },
   {
    "duration": 1357,
    "start_time": "2024-05-21T11:41:11.164Z"
   },
   {
    "duration": 5,
    "start_time": "2024-05-21T11:41:12.522Z"
   },
   {
    "duration": 7,
    "start_time": "2024-05-21T11:41:12.528Z"
   },
   {
    "duration": 810,
    "start_time": "2024-05-21T11:41:12.537Z"
   },
   {
    "duration": 4,
    "start_time": "2024-05-21T11:41:41.574Z"
   },
   {
    "duration": 5,
    "start_time": "2024-05-21T11:41:42.128Z"
   },
   {
    "duration": 4,
    "start_time": "2024-05-21T11:41:42.633Z"
   },
   {
    "duration": 1387,
    "start_time": "2024-05-21T11:41:43.549Z"
   },
   {
    "duration": 1400,
    "start_time": "2024-05-21T11:41:44.937Z"
   },
   {
    "duration": 1382,
    "start_time": "2024-05-21T11:41:46.339Z"
   },
   {
    "duration": 3,
    "start_time": "2024-05-21T11:43:13.827Z"
   },
   {
    "duration": 4,
    "start_time": "2024-05-21T11:43:14.501Z"
   },
   {
    "duration": 4,
    "start_time": "2024-05-21T11:43:15.251Z"
   },
   {
    "duration": 1459,
    "start_time": "2024-05-21T11:43:16.371Z"
   },
   {
    "duration": 1306,
    "start_time": "2024-05-21T11:43:17.833Z"
   },
   {
    "duration": 1326,
    "start_time": "2024-05-21T11:43:19.141Z"
   },
   {
    "duration": 4,
    "start_time": "2024-05-21T11:43:20.469Z"
   },
   {
    "duration": 1361,
    "start_time": "2024-05-21T11:43:20.475Z"
   },
   {
    "duration": 1375,
    "start_time": "2024-05-21T11:43:21.838Z"
   },
   {
    "duration": 1355,
    "start_time": "2024-05-21T11:43:23.214Z"
   },
   {
    "duration": 8,
    "start_time": "2024-05-21T12:00:05.444Z"
   },
   {
    "duration": 40,
    "start_time": "2024-05-21T12:00:10.360Z"
   },
   {
    "duration": 1458,
    "start_time": "2024-05-21T12:00:58.947Z"
   },
   {
    "duration": 1698,
    "start_time": "2024-05-21T12:01:00.407Z"
   },
   {
    "duration": 13,
    "start_time": "2024-05-21T12:01:02.107Z"
   },
   {
    "duration": 10,
    "start_time": "2024-05-21T12:01:02.122Z"
   },
   {
    "duration": 10,
    "start_time": "2024-05-21T12:01:02.133Z"
   },
   {
    "duration": 15,
    "start_time": "2024-05-21T12:01:02.900Z"
   },
   {
    "duration": 13,
    "start_time": "2024-05-21T12:01:03.379Z"
   },
   {
    "duration": 13,
    "start_time": "2024-05-21T12:01:03.716Z"
   },
   {
    "duration": 44,
    "start_time": "2024-05-21T12:01:04.266Z"
   },
   {
    "duration": 42,
    "start_time": "2024-05-21T12:01:04.461Z"
   },
   {
    "duration": 43,
    "start_time": "2024-05-21T12:01:04.637Z"
   },
   {
    "duration": 8,
    "start_time": "2024-05-21T12:01:05.493Z"
   },
   {
    "duration": 8,
    "start_time": "2024-05-21T12:01:05.672Z"
   },
   {
    "duration": 11,
    "start_time": "2024-05-21T12:01:05.855Z"
   },
   {
    "duration": 551,
    "start_time": "2024-05-21T12:01:06.245Z"
   },
   {
    "duration": 4,
    "start_time": "2024-05-21T12:01:08.295Z"
   },
   {
    "duration": 53,
    "start_time": "2024-05-21T12:01:09.109Z"
   },
   {
    "duration": 3,
    "start_time": "2024-05-21T12:01:12.791Z"
   },
   {
    "duration": 147,
    "start_time": "2024-05-21T12:01:13.356Z"
   },
   {
    "duration": 3,
    "start_time": "2024-05-21T12:01:13.792Z"
   },
   {
    "duration": 3,
    "start_time": "2024-05-21T12:01:14.115Z"
   },
   {
    "duration": 4,
    "start_time": "2024-05-21T12:01:14.616Z"
   },
   {
    "duration": 848,
    "start_time": "2024-05-21T12:01:15.637Z"
   },
   {
    "duration": 2,
    "start_time": "2024-05-21T12:01:24.907Z"
   },
   {
    "duration": 4,
    "start_time": "2024-05-21T12:01:33.984Z"
   },
   {
    "duration": 3,
    "start_time": "2024-05-21T12:01:34.293Z"
   },
   {
    "duration": 9,
    "start_time": "2024-05-21T12:01:35.493Z"
   },
   {
    "duration": 3,
    "start_time": "2024-05-21T12:01:38.138Z"
   },
   {
    "duration": 4,
    "start_time": "2024-05-21T12:01:39.925Z"
   },
   {
    "duration": 3,
    "start_time": "2024-05-21T12:01:41.513Z"
   },
   {
    "duration": 1361,
    "start_time": "2024-05-21T12:01:45.558Z"
   },
   {
    "duration": 4,
    "start_time": "2024-05-21T12:02:26.884Z"
   },
   {
    "duration": 1161,
    "start_time": "2024-05-21T12:02:30.304Z"
   },
   {
    "duration": 1176,
    "start_time": "2024-05-21T12:02:35.243Z"
   },
   {
    "duration": 1117,
    "start_time": "2024-05-21T12:02:36.421Z"
   },
   {
    "duration": 4,
    "start_time": "2024-05-21T12:03:00.316Z"
   },
   {
    "duration": 1285,
    "start_time": "2024-05-21T12:03:03.703Z"
   },
   {
    "duration": 4,
    "start_time": "2024-05-21T12:03:50.526Z"
   },
   {
    "duration": 4,
    "start_time": "2024-05-21T12:03:58.974Z"
   },
   {
    "duration": 1115,
    "start_time": "2024-05-21T12:04:01.321Z"
   },
   {
    "duration": 1191,
    "start_time": "2024-05-21T12:04:04.779Z"
   },
   {
    "duration": 1204,
    "start_time": "2024-05-21T12:04:06.075Z"
   },
   {
    "duration": 4,
    "start_time": "2024-05-21T12:05:52.242Z"
   },
   {
    "duration": 1197,
    "start_time": "2024-05-21T12:05:54.869Z"
   },
   {
    "duration": 1110,
    "start_time": "2024-05-21T12:05:56.424Z"
   },
   {
    "duration": 4,
    "start_time": "2024-05-21T12:06:13.008Z"
   },
   {
    "duration": 3,
    "start_time": "2024-05-21T12:06:15.539Z"
   },
   {
    "duration": 1113,
    "start_time": "2024-05-21T12:06:16.572Z"
   },
   {
    "duration": 4,
    "start_time": "2024-05-21T12:06:59.312Z"
   },
   {
    "duration": 1116,
    "start_time": "2024-05-21T12:07:02.152Z"
   },
   {
    "duration": 1153,
    "start_time": "2024-05-21T12:07:05.768Z"
   },
   {
    "duration": 1128,
    "start_time": "2024-05-21T12:07:06.998Z"
   },
   {
    "duration": 4,
    "start_time": "2024-05-21T12:08:03.098Z"
   },
   {
    "duration": 1105,
    "start_time": "2024-05-21T12:08:06.448Z"
   },
   {
    "duration": 1110,
    "start_time": "2024-05-21T12:08:09.460Z"
   },
   {
    "duration": 4,
    "start_time": "2024-05-21T12:09:11.112Z"
   },
   {
    "duration": 376,
    "start_time": "2024-05-21T12:09:11.546Z"
   },
   {
    "duration": 11,
    "start_time": "2024-05-21T12:09:12.176Z"
   },
   {
    "duration": 11,
    "start_time": "2024-05-21T12:09:12.408Z"
   },
   {
    "duration": 10,
    "start_time": "2024-05-21T12:09:12.614Z"
   },
   {
    "duration": 14,
    "start_time": "2024-05-21T12:09:12.904Z"
   },
   {
    "duration": 14,
    "start_time": "2024-05-21T12:09:13.056Z"
   },
   {
    "duration": 15,
    "start_time": "2024-05-21T12:09:13.194Z"
   },
   {
    "duration": 44,
    "start_time": "2024-05-21T12:09:13.662Z"
   },
   {
    "duration": 42,
    "start_time": "2024-05-21T12:09:13.800Z"
   },
   {
    "duration": 45,
    "start_time": "2024-05-21T12:09:13.956Z"
   },
   {
    "duration": 8,
    "start_time": "2024-05-21T12:09:14.595Z"
   },
   {
    "duration": 7,
    "start_time": "2024-05-21T12:09:14.736Z"
   },
   {
    "duration": 7,
    "start_time": "2024-05-21T12:09:14.906Z"
   },
   {
    "duration": 552,
    "start_time": "2024-05-21T12:09:15.252Z"
   },
   {
    "duration": 5,
    "start_time": "2024-05-21T12:09:17.096Z"
   },
   {
    "duration": 53,
    "start_time": "2024-05-21T12:09:17.414Z"
   },
   {
    "duration": 3,
    "start_time": "2024-05-21T12:09:18.074Z"
   },
   {
    "duration": 180,
    "start_time": "2024-05-21T12:09:18.220Z"
   },
   {
    "duration": 95,
    "start_time": "2024-05-21T12:09:18.406Z"
   },
   {
    "duration": 34,
    "start_time": "2024-05-21T12:09:18.538Z"
   },
   {
    "duration": 4,
    "start_time": "2024-05-21T12:09:18.704Z"
   },
   {
    "duration": 924,
    "start_time": "2024-05-21T12:09:19.062Z"
   },
   {
    "duration": 3,
    "start_time": "2024-05-21T12:09:20.052Z"
   },
   {
    "duration": 4,
    "start_time": "2024-05-21T12:09:20.540Z"
   },
   {
    "duration": 3,
    "start_time": "2024-05-21T12:09:20.696Z"
   },
   {
    "duration": 10,
    "start_time": "2024-05-21T12:09:21.210Z"
   },
   {
    "duration": 3,
    "start_time": "2024-05-21T12:09:22.086Z"
   },
   {
    "duration": 3,
    "start_time": "2024-05-21T12:09:22.811Z"
   },
   {
    "duration": 4,
    "start_time": "2024-05-21T12:09:23.497Z"
   },
   {
    "duration": 1179,
    "start_time": "2024-05-21T12:09:25.684Z"
   },
   {
    "duration": 4,
    "start_time": "2024-05-21T12:09:47.810Z"
   },
   {
    "duration": 1187,
    "start_time": "2024-05-21T12:09:55.560Z"
   },
   {
    "duration": 1139,
    "start_time": "2024-05-21T12:10:02.964Z"
   },
   {
    "duration": 1195,
    "start_time": "2024-05-21T12:10:05.764Z"
   },
   {
    "duration": 5,
    "start_time": "2024-05-21T12:10:10.164Z"
   },
   {
    "duration": 6,
    "start_time": "2024-05-21T12:10:10.772Z"
   },
   {
    "duration": 760,
    "start_time": "2024-05-21T12:10:11.159Z"
   },
   {
    "duration": 4,
    "start_time": "2024-05-21T12:12:30.632Z"
   },
   {
    "duration": 1184,
    "start_time": "2024-05-21T12:12:33.368Z"
   },
   {
    "duration": 1258,
    "start_time": "2024-05-21T12:12:45.435Z"
   },
   {
    "duration": 4,
    "start_time": "2024-05-21T12:13:09.938Z"
   },
   {
    "duration": 1158,
    "start_time": "2024-05-21T12:13:12.376Z"
   },
   {
    "duration": 1153,
    "start_time": "2024-05-21T12:13:16.112Z"
   },
   {
    "duration": 4,
    "start_time": "2024-05-21T12:13:22.914Z"
   },
   {
    "duration": 1168,
    "start_time": "2024-05-21T12:13:26.204Z"
   },
   {
    "duration": 4,
    "start_time": "2024-05-21T12:13:47.546Z"
   },
   {
    "duration": 1161,
    "start_time": "2024-05-21T12:13:50.192Z"
   },
   {
    "duration": 1188,
    "start_time": "2024-05-21T12:13:54.776Z"
   },
   {
    "duration": 1206,
    "start_time": "2024-05-21T12:13:57.138Z"
   },
   {
    "duration": 4,
    "start_time": "2024-05-21T12:14:14.308Z"
   },
   {
    "duration": 4,
    "start_time": "2024-05-21T12:14:17.762Z"
   },
   {
    "duration": 1254,
    "start_time": "2024-05-21T12:14:19.489Z"
   },
   {
    "duration": 1185,
    "start_time": "2024-05-21T12:14:22.116Z"
   },
   {
    "duration": 1228,
    "start_time": "2024-05-21T12:14:25.036Z"
   },
   {
    "duration": 4,
    "start_time": "2024-05-21T12:14:40.428Z"
   },
   {
    "duration": 6,
    "start_time": "2024-05-21T12:14:41.208Z"
   },
   {
    "duration": 1436,
    "start_time": "2024-05-21T17:23:44.677Z"
   },
   {
    "duration": 1529,
    "start_time": "2024-05-21T17:23:46.115Z"
   },
   {
    "duration": 12,
    "start_time": "2024-05-21T17:23:47.645Z"
   },
   {
    "duration": 110,
    "start_time": "2024-05-21T17:23:47.658Z"
   },
   {
    "duration": 22,
    "start_time": "2024-05-21T17:23:47.770Z"
   },
   {
    "duration": 21,
    "start_time": "2024-05-21T17:23:47.793Z"
   },
   {
    "duration": 10,
    "start_time": "2024-05-21T17:23:47.815Z"
   },
   {
    "duration": 11,
    "start_time": "2024-05-21T17:23:48.643Z"
   },
   {
    "duration": 40,
    "start_time": "2024-05-21T17:23:49.538Z"
   },
   {
    "duration": 39,
    "start_time": "2024-05-21T17:23:49.722Z"
   },
   {
    "duration": 42,
    "start_time": "2024-05-21T17:23:49.929Z"
   },
   {
    "duration": 8,
    "start_time": "2024-05-21T17:23:50.962Z"
   },
   {
    "duration": 8,
    "start_time": "2024-05-21T17:23:51.139Z"
   },
   {
    "duration": 6,
    "start_time": "2024-05-21T17:23:51.347Z"
   },
   {
    "duration": 478,
    "start_time": "2024-05-21T17:23:51.825Z"
   },
   {
    "duration": 5,
    "start_time": "2024-05-21T17:23:54.671Z"
   },
   {
    "duration": 47,
    "start_time": "2024-05-21T17:23:55.487Z"
   },
   {
    "duration": 3,
    "start_time": "2024-05-21T17:23:57.215Z"
   },
   {
    "duration": 237,
    "start_time": "2024-05-21T17:23:57.449Z"
   },
   {
    "duration": 3,
    "start_time": "2024-05-21T17:23:57.885Z"
   },
   {
    "duration": 3,
    "start_time": "2024-05-21T17:23:58.193Z"
   },
   {
    "duration": 4,
    "start_time": "2024-05-21T17:23:58.435Z"
   },
   {
    "duration": 852,
    "start_time": "2024-05-21T17:23:59.062Z"
   },
   {
    "duration": 2,
    "start_time": "2024-05-21T17:24:00.858Z"
   },
   {
    "duration": 3,
    "start_time": "2024-05-21T17:24:01.585Z"
   },
   {
    "duration": 3,
    "start_time": "2024-05-21T17:24:01.805Z"
   },
   {
    "duration": 8,
    "start_time": "2024-05-21T17:24:02.391Z"
   },
   {
    "duration": 2,
    "start_time": "2024-05-21T17:24:03.506Z"
   },
   {
    "duration": 3,
    "start_time": "2024-05-21T17:24:13.379Z"
   },
   {
    "duration": 4,
    "start_time": "2024-05-21T17:24:14.675Z"
   },
   {
    "duration": 967,
    "start_time": "2024-05-21T17:24:15.615Z"
   },
   {
    "duration": 943,
    "start_time": "2024-05-21T17:24:16.584Z"
   },
   {
    "duration": 915,
    "start_time": "2024-05-21T17:24:18.869Z"
   },
   {
    "duration": 3,
    "start_time": "2024-05-21T17:24:19.786Z"
   },
   {
    "duration": 6,
    "start_time": "2024-05-21T17:24:19.962Z"
   },
   {
    "duration": 642,
    "start_time": "2024-05-21T17:24:20.135Z"
   },
   {
    "duration": 4,
    "start_time": "2024-05-21T17:26:28.405Z"
   },
   {
    "duration": 4,
    "start_time": "2024-05-21T17:34:37.401Z"
   },
   {
    "duration": 3,
    "start_time": "2024-05-21T17:34:40.169Z"
   },
   {
    "duration": 103,
    "start_time": "2024-05-21T17:34:43.975Z"
   },
   {
    "duration": 5,
    "start_time": "2024-05-21T17:36:09.467Z"
   },
   {
    "duration": 4,
    "start_time": "2024-05-21T17:36:11.771Z"
   },
   {
    "duration": 3,
    "start_time": "2024-05-21T17:36:13.705Z"
   },
   {
    "duration": 922,
    "start_time": "2024-05-21T17:36:18.125Z"
   },
   {
    "duration": 895,
    "start_time": "2024-05-21T17:36:26.523Z"
   },
   {
    "duration": 891,
    "start_time": "2024-05-21T17:36:33.149Z"
   },
   {
    "duration": 3,
    "start_time": "2024-05-21T17:43:40.425Z"
   },
   {
    "duration": 1,
    "start_time": "2024-05-21T17:43:40.989Z"
   },
   {
    "duration": 3,
    "start_time": "2024-05-21T17:43:42.797Z"
   },
   {
    "duration": 3,
    "start_time": "2024-05-21T17:43:45.169Z"
   },
   {
    "duration": 15,
    "start_time": "2024-05-21T17:43:48.112Z"
   },
   {
    "duration": 5,
    "start_time": "2024-05-21T17:44:07.630Z"
   },
   {
    "duration": 2,
    "start_time": "2024-05-21T17:44:08.005Z"
   },
   {
    "duration": 5,
    "start_time": "2024-05-21T17:44:09.295Z"
   },
   {
    "duration": 4,
    "start_time": "2024-05-21T17:44:10.994Z"
   },
   {
    "duration": 873,
    "start_time": "2024-05-21T17:44:13.400Z"
   },
   {
    "duration": 863,
    "start_time": "2024-05-21T17:44:22.990Z"
   },
   {
    "duration": 897,
    "start_time": "2024-05-21T17:44:28.919Z"
   },
   {
    "duration": 3,
    "start_time": "2024-05-21T17:47:15.180Z"
   },
   {
    "duration": 2,
    "start_time": "2024-05-21T17:47:15.796Z"
   },
   {
    "duration": 3,
    "start_time": "2024-05-21T17:47:17.470Z"
   },
   {
    "duration": 4,
    "start_time": "2024-05-21T17:47:19.234Z"
   },
   {
    "duration": 869,
    "start_time": "2024-05-21T17:47:21.482Z"
   },
   {
    "duration": 860,
    "start_time": "2024-05-21T17:47:24.777Z"
   },
   {
    "duration": 856,
    "start_time": "2024-05-21T17:47:25.903Z"
   },
   {
    "duration": 3,
    "start_time": "2024-05-21T17:49:36.284Z"
   },
   {
    "duration": 3,
    "start_time": "2024-05-21T17:49:49.831Z"
   },
   {
    "duration": 4,
    "start_time": "2024-05-21T17:49:51.992Z"
   },
   {
    "duration": 3,
    "start_time": "2024-05-21T17:49:53.901Z"
   },
   {
    "duration": 843,
    "start_time": "2024-05-21T17:49:57.764Z"
   },
   {
    "duration": 877,
    "start_time": "2024-05-21T17:50:04.343Z"
   },
   {
    "duration": 856,
    "start_time": "2024-05-21T17:50:05.222Z"
   },
   {
    "duration": 8,
    "start_time": "2024-05-21T17:50:06.079Z"
   },
   {
    "duration": 5,
    "start_time": "2024-05-21T17:50:06.305Z"
   },
   {
    "duration": 606,
    "start_time": "2024-05-21T17:50:06.511Z"
   },
   {
    "duration": 3,
    "start_time": "2024-05-21T17:50:36.851Z"
   },
   {
    "duration": 6,
    "start_time": "2024-05-21T17:50:37.492Z"
   },
   {
    "duration": 617,
    "start_time": "2024-05-21T17:50:37.934Z"
   },
   {
    "duration": 2,
    "start_time": "2024-05-21T17:59:34.943Z"
   },
   {
    "duration": 4,
    "start_time": "2024-05-21T17:59:36.676Z"
   },
   {
    "duration": 3,
    "start_time": "2024-05-21T17:59:37.495Z"
   },
   {
    "duration": 9,
    "start_time": "2024-05-21T17:59:39.442Z"
   },
   {
    "duration": 3,
    "start_time": "2024-05-21T17:59:42.131Z"
   },
   {
    "duration": 4,
    "start_time": "2024-05-21T17:59:44.342Z"
   },
   {
    "duration": 3,
    "start_time": "2024-05-21T17:59:46.393Z"
   },
   {
    "duration": 893,
    "start_time": "2024-05-21T17:59:49.604Z"
   },
   {
    "duration": 838,
    "start_time": "2024-05-21T17:59:52.873Z"
   },
   {
    "duration": 870,
    "start_time": "2024-05-21T17:59:54.797Z"
   },
   {
    "duration": 4,
    "start_time": "2024-05-21T17:59:56.075Z"
   },
   {
    "duration": 5,
    "start_time": "2024-05-21T17:59:56.782Z"
   },
   {
    "duration": 668,
    "start_time": "2024-05-21T17:59:57.412Z"
   },
   {
    "duration": 4,
    "start_time": "2024-05-21T18:00:24.386Z"
   },
   {
    "duration": 306,
    "start_time": "2024-05-21T18:00:25.270Z"
   },
   {
    "duration": 10,
    "start_time": "2024-05-21T18:00:26.824Z"
   },
   {
    "duration": 9,
    "start_time": "2024-05-21T18:00:27.305Z"
   },
   {
    "duration": 10,
    "start_time": "2024-05-21T18:00:27.958Z"
   },
   {
    "duration": 12,
    "start_time": "2024-05-21T18:00:30.097Z"
   },
   {
    "duration": 12,
    "start_time": "2024-05-21T18:00:30.727Z"
   },
   {
    "duration": 12,
    "start_time": "2024-05-21T18:00:31.792Z"
   },
   {
    "duration": 39,
    "start_time": "2024-05-21T18:00:36.281Z"
   },
   {
    "duration": 36,
    "start_time": "2024-05-21T18:00:36.905Z"
   },
   {
    "duration": 39,
    "start_time": "2024-05-21T18:00:37.443Z"
   },
   {
    "duration": 7,
    "start_time": "2024-05-21T18:00:40.484Z"
   },
   {
    "duration": 6,
    "start_time": "2024-05-21T18:00:41.153Z"
   },
   {
    "duration": 6,
    "start_time": "2024-05-21T18:00:41.841Z"
   },
   {
    "duration": 478,
    "start_time": "2024-05-21T18:00:43.288Z"
   },
   {
    "duration": 4,
    "start_time": "2024-05-21T18:00:56.705Z"
   },
   {
    "duration": 42,
    "start_time": "2024-05-21T18:00:59.891Z"
   },
   {
    "duration": 3,
    "start_time": "2024-05-21T18:01:07.091Z"
   },
   {
    "duration": 18,
    "start_time": "2024-05-21T18:01:07.771Z"
   },
   {
    "duration": 4,
    "start_time": "2024-05-21T18:01:08.304Z"
   },
   {
    "duration": 3,
    "start_time": "2024-05-21T18:01:08.809Z"
   },
   {
    "duration": 4,
    "start_time": "2024-05-21T18:01:09.698Z"
   },
   {
    "duration": 829,
    "start_time": "2024-05-21T18:01:13.421Z"
   },
   {
    "duration": 2,
    "start_time": "2024-05-21T18:01:18.637Z"
   },
   {
    "duration": 3,
    "start_time": "2024-05-21T18:01:54.611Z"
   },
   {
    "duration": 3,
    "start_time": "2024-05-21T18:01:55.271Z"
   },
   {
    "duration": 8,
    "start_time": "2024-05-21T18:01:56.907Z"
   },
   {
    "duration": 3,
    "start_time": "2024-05-21T18:01:59.728Z"
   },
   {
    "duration": 3,
    "start_time": "2024-05-21T18:02:04.101Z"
   },
   {
    "duration": 5,
    "start_time": "2024-05-21T18:02:06.697Z"
   },
   {
    "duration": 867,
    "start_time": "2024-05-21T18:02:09.518Z"
   },
   {
    "duration": 888,
    "start_time": "2024-05-21T18:02:12.321Z"
   },
   {
    "duration": 885,
    "start_time": "2024-05-21T18:02:13.503Z"
   },
   {
    "duration": 6,
    "start_time": "2024-05-21T18:02:15.739Z"
   },
   {
    "duration": 7,
    "start_time": "2024-05-21T18:02:16.339Z"
   },
   {
    "duration": 631,
    "start_time": "2024-05-21T18:02:16.823Z"
   },
   {
    "duration": 4,
    "start_time": "2024-05-21T18:03:30.015Z"
   },
   {
    "duration": 3,
    "start_time": "2024-05-21T18:03:32.463Z"
   },
   {
    "duration": 894,
    "start_time": "2024-05-21T18:03:35.007Z"
   },
   {
    "duration": 880,
    "start_time": "2024-05-21T18:03:39.236Z"
   },
   {
    "duration": 912,
    "start_time": "2024-05-21T18:03:41.403Z"
   },
   {
    "duration": 7,
    "start_time": "2024-05-21T18:03:43.383Z"
   },
   {
    "duration": 85,
    "start_time": "2024-05-21T18:03:43.951Z"
   },
   {
    "duration": 632,
    "start_time": "2024-05-21T18:03:44.357Z"
   },
   {
    "duration": 5,
    "start_time": "2024-05-21T18:05:59.551Z"
   },
   {
    "duration": 327,
    "start_time": "2024-05-21T18:05:59.969Z"
   },
   {
    "duration": 19,
    "start_time": "2024-05-21T18:06:01.479Z"
   },
   {
    "duration": 13,
    "start_time": "2024-05-21T18:06:04.011Z"
   },
   {
    "duration": 9,
    "start_time": "2024-05-21T18:06:04.929Z"
   },
   {
    "duration": 13,
    "start_time": "2024-05-21T18:06:06.054Z"
   },
   {
    "duration": 17,
    "start_time": "2024-05-21T18:06:06.735Z"
   },
   {
    "duration": 17,
    "start_time": "2024-05-21T18:06:07.447Z"
   },
   {
    "duration": 51,
    "start_time": "2024-05-21T18:06:09.063Z"
   },
   {
    "duration": 37,
    "start_time": "2024-05-21T18:06:09.687Z"
   },
   {
    "duration": 34,
    "start_time": "2024-05-21T18:06:10.103Z"
   },
   {
    "duration": 9,
    "start_time": "2024-05-21T18:06:11.659Z"
   },
   {
    "duration": 6,
    "start_time": "2024-05-21T18:06:12.046Z"
   },
   {
    "duration": 6,
    "start_time": "2024-05-21T18:06:12.351Z"
   },
   {
    "duration": 514,
    "start_time": "2024-05-21T18:06:12.901Z"
   },
   {
    "duration": 11,
    "start_time": "2024-05-21T18:06:16.390Z"
   },
   {
    "duration": 43,
    "start_time": "2024-05-21T18:06:17.718Z"
   },
   {
    "duration": 3,
    "start_time": "2024-05-21T18:06:19.865Z"
   },
   {
    "duration": 92,
    "start_time": "2024-05-21T18:06:20.408Z"
   },
   {
    "duration": 4,
    "start_time": "2024-05-21T18:06:20.890Z"
   },
   {
    "duration": 4,
    "start_time": "2024-05-21T18:06:21.347Z"
   },
   {
    "duration": 3,
    "start_time": "2024-05-21T18:06:21.841Z"
   },
   {
    "duration": 840,
    "start_time": "2024-05-21T18:06:22.623Z"
   },
   {
    "duration": 7,
    "start_time": "2024-05-21T18:06:27.489Z"
   },
   {
    "duration": 3,
    "start_time": "2024-05-21T18:06:32.431Z"
   },
   {
    "duration": 4,
    "start_time": "2024-05-21T18:06:33.258Z"
   },
   {
    "duration": 11,
    "start_time": "2024-05-21T18:06:35.005Z"
   },
   {
    "duration": 5,
    "start_time": "2024-05-21T18:06:38.398Z"
   },
   {
    "duration": 5,
    "start_time": "2024-05-21T18:06:40.969Z"
   },
   {
    "duration": 4,
    "start_time": "2024-05-21T18:06:43.398Z"
   },
   {
    "duration": 924,
    "start_time": "2024-05-21T18:06:47.710Z"
   },
   {
    "duration": 926,
    "start_time": "2024-05-21T18:06:50.783Z"
   },
   {
    "duration": 959,
    "start_time": "2024-05-21T18:06:52.037Z"
   },
   {
    "duration": 4,
    "start_time": "2024-05-21T18:06:53.151Z"
   },
   {
    "duration": 6,
    "start_time": "2024-05-21T18:06:53.707Z"
   },
   {
    "duration": 762,
    "start_time": "2024-05-21T18:06:54.214Z"
   },
   {
    "duration": 967,
    "start_time": "2024-05-21T18:07:24.534Z"
   },
   {
    "duration": 952,
    "start_time": "2024-05-21T18:07:32.915Z"
   },
   {
    "duration": 962,
    "start_time": "2024-05-21T18:07:41.750Z"
   },
   {
    "duration": 958,
    "start_time": "2024-05-21T18:07:51.067Z"
   },
   {
    "duration": 981,
    "start_time": "2024-05-21T18:07:52.326Z"
   },
   {
    "duration": 965,
    "start_time": "2024-05-21T18:07:54.254Z"
   },
   {
    "duration": 4,
    "start_time": "2024-05-21T18:07:55.503Z"
   },
   {
    "duration": 6,
    "start_time": "2024-05-21T18:07:59.441Z"
   },
   {
    "duration": 4,
    "start_time": "2024-05-21T18:11:05.903Z"
   },
   {
    "duration": 954,
    "start_time": "2024-05-21T18:11:08.246Z"
   },
   {
    "duration": 902,
    "start_time": "2024-05-21T18:11:13.255Z"
   },
   {
    "duration": 916,
    "start_time": "2024-05-21T18:11:15.548Z"
   },
   {
    "duration": 4,
    "start_time": "2024-05-21T18:11:18.345Z"
   },
   {
    "duration": 6,
    "start_time": "2024-05-21T18:11:19.069Z"
   },
   {
    "duration": 678,
    "start_time": "2024-05-21T18:11:19.521Z"
   },
   {
    "duration": 24,
    "start_time": "2024-05-21T18:12:11.277Z"
   },
   {
    "duration": 11,
    "start_time": "2024-05-21T18:12:11.844Z"
   },
   {
    "duration": 2,
    "start_time": "2024-05-21T18:12:21.261Z"
   },
   {
    "duration": 335,
    "start_time": "2024-05-21T18:12:21.902Z"
   },
   {
    "duration": 8,
    "start_time": "2024-05-21T18:12:24.945Z"
   },
   {
    "duration": 9,
    "start_time": "2024-05-21T18:12:25.939Z"
   },
   {
    "duration": 9,
    "start_time": "2024-05-21T18:12:26.665Z"
   },
   {
    "duration": 12,
    "start_time": "2024-05-21T18:12:27.765Z"
   },
   {
    "duration": 11,
    "start_time": "2024-05-21T18:12:28.655Z"
   },
   {
    "duration": 12,
    "start_time": "2024-05-21T18:12:29.156Z"
   },
   {
    "duration": 53,
    "start_time": "2024-05-21T18:12:30.720Z"
   },
   {
    "duration": 39,
    "start_time": "2024-05-21T18:12:31.369Z"
   },
   {
    "duration": 37,
    "start_time": "2024-05-21T18:12:31.820Z"
   },
   {
    "duration": 6,
    "start_time": "2024-05-21T18:12:34.247Z"
   },
   {
    "duration": 6,
    "start_time": "2024-05-21T18:12:35.409Z"
   },
   {
    "duration": 10,
    "start_time": "2024-05-21T18:12:43.038Z"
   },
   {
    "duration": 10,
    "start_time": "2024-05-21T18:12:45.998Z"
   },
   {
    "duration": 7,
    "start_time": "2024-05-21T18:12:50.200Z"
   },
   {
    "duration": 3,
    "start_time": "2024-05-21T18:13:18.892Z"
   },
   {
    "duration": 320,
    "start_time": "2024-05-21T18:13:21.562Z"
   },
   {
    "duration": 14,
    "start_time": "2024-05-21T18:13:24.693Z"
   },
   {
    "duration": 13,
    "start_time": "2024-05-21T18:13:25.623Z"
   },
   {
    "duration": 13,
    "start_time": "2024-05-21T18:13:26.851Z"
   },
   {
    "duration": 18,
    "start_time": "2024-05-21T18:13:29.642Z"
   },
   {
    "duration": 17,
    "start_time": "2024-05-21T18:13:31.144Z"
   },
   {
    "duration": 15,
    "start_time": "2024-05-21T18:13:32.165Z"
   },
   {
    "duration": 40,
    "start_time": "2024-05-21T18:13:35.074Z"
   },
   {
    "duration": 36,
    "start_time": "2024-05-21T18:13:35.969Z"
   },
   {
    "duration": 40,
    "start_time": "2024-05-21T18:13:36.609Z"
   },
   {
    "duration": 7,
    "start_time": "2024-05-21T18:13:39.883Z"
   },
   {
    "duration": 7,
    "start_time": "2024-05-21T18:13:41.446Z"
   },
   {
    "duration": 8,
    "start_time": "2024-05-21T18:13:43.197Z"
   },
   {
    "duration": 532,
    "start_time": "2024-05-21T18:13:45.235Z"
   },
   {
    "duration": 10,
    "start_time": "2024-05-21T18:13:53.321Z"
   },
   {
    "duration": 15,
    "start_time": "2024-05-21T18:13:59.083Z"
   },
   {
    "duration": 14,
    "start_time": "2024-05-21T18:13:59.865Z"
   },
   {
    "duration": 11,
    "start_time": "2024-05-21T18:14:00.665Z"
   },
   {
    "duration": 553,
    "start_time": "2024-05-21T18:14:02.645Z"
   },
   {
    "duration": 4,
    "start_time": "2024-05-21T18:14:06.475Z"
   },
   {
    "duration": 43,
    "start_time": "2024-05-21T18:14:07.422Z"
   },
   {
    "duration": 8,
    "start_time": "2024-05-21T18:14:09.689Z"
   },
   {
    "duration": 124,
    "start_time": "2024-05-21T18:14:10.182Z"
   },
   {
    "duration": 3,
    "start_time": "2024-05-21T18:14:10.617Z"
   },
   {
    "duration": 4,
    "start_time": "2024-05-21T18:14:11.022Z"
   },
   {
    "duration": 4,
    "start_time": "2024-05-21T18:14:11.356Z"
   },
   {
    "duration": 982,
    "start_time": "2024-05-21T18:14:13.177Z"
   },
   {
    "duration": 3,
    "start_time": "2024-05-21T18:14:16.249Z"
   },
   {
    "duration": 3,
    "start_time": "2024-05-21T18:14:18.061Z"
   },
   {
    "duration": 4,
    "start_time": "2024-05-21T18:14:18.498Z"
   },
   {
    "duration": 13,
    "start_time": "2024-05-21T18:14:19.991Z"
   },
   {
    "duration": 4,
    "start_time": "2024-05-21T18:14:22.468Z"
   },
   {
    "duration": 4,
    "start_time": "2024-05-21T18:14:24.658Z"
   },
   {
    "duration": 4,
    "start_time": "2024-05-21T18:14:26.709Z"
   },
   {
    "duration": 945,
    "start_time": "2024-05-21T18:14:29.725Z"
   },
   {
    "duration": 930,
    "start_time": "2024-05-21T18:14:32.639Z"
   },
   {
    "duration": 924,
    "start_time": "2024-05-21T18:14:34.517Z"
   },
   {
    "duration": 4,
    "start_time": "2024-05-21T18:14:35.637Z"
   },
   {
    "duration": 5,
    "start_time": "2024-05-21T18:14:36.009Z"
   },
   {
    "duration": 662,
    "start_time": "2024-05-21T18:14:36.355Z"
   },
   {
    "duration": 42,
    "start_time": "2024-05-21T18:15:17.566Z"
   },
   {
    "duration": 10,
    "start_time": "2024-05-21T18:15:20.231Z"
   },
   {
    "duration": 11,
    "start_time": "2024-05-21T18:15:21.447Z"
   },
   {
    "duration": 1345,
    "start_time": "2024-05-21T18:16:34.201Z"
   },
   {
    "duration": 363,
    "start_time": "2024-05-21T18:16:35.548Z"
   },
   {
    "duration": 13,
    "start_time": "2024-05-21T18:16:35.912Z"
   },
   {
    "duration": 9,
    "start_time": "2024-05-21T18:16:35.926Z"
   },
   {
    "duration": 10,
    "start_time": "2024-05-21T18:16:35.936Z"
   },
   {
    "duration": 31,
    "start_time": "2024-05-21T18:16:35.947Z"
   },
   {
    "duration": 27,
    "start_time": "2024-05-21T18:16:35.979Z"
   },
   {
    "duration": 12,
    "start_time": "2024-05-21T18:16:36.008Z"
   },
   {
    "duration": 50,
    "start_time": "2024-05-21T18:16:36.021Z"
   },
   {
    "duration": 47,
    "start_time": "2024-05-21T18:16:36.073Z"
   },
   {
    "duration": 95,
    "start_time": "2024-05-21T18:16:36.122Z"
   },
   {
    "duration": 8,
    "start_time": "2024-05-21T18:16:36.219Z"
   },
   {
    "duration": 11,
    "start_time": "2024-05-21T18:16:36.229Z"
   },
   {
    "duration": 8,
    "start_time": "2024-05-21T18:16:36.241Z"
   },
   {
    "duration": 554,
    "start_time": "2024-05-21T18:16:36.250Z"
   },
   {
    "duration": 6,
    "start_time": "2024-05-21T18:16:36.808Z"
   },
   {
    "duration": 63,
    "start_time": "2024-05-21T18:16:36.816Z"
   },
   {
    "duration": 7,
    "start_time": "2024-05-21T18:16:36.881Z"
   },
   {
    "duration": 102,
    "start_time": "2024-05-21T18:16:36.896Z"
   },
   {
    "duration": 12,
    "start_time": "2024-05-21T18:16:37.000Z"
   },
   {
    "duration": 76,
    "start_time": "2024-05-21T18:16:37.017Z"
   },
   {
    "duration": 95,
    "start_time": "2024-05-21T18:16:37.095Z"
   },
   {
    "duration": 924,
    "start_time": "2024-05-21T18:16:37.191Z"
   },
   {
    "duration": 3,
    "start_time": "2024-05-21T18:16:38.116Z"
   },
   {
    "duration": 292,
    "start_time": "2024-05-21T18:16:38.120Z"
   },
   {
    "duration": 0,
    "start_time": "2024-05-21T18:16:38.414Z"
   },
   {
    "duration": 0,
    "start_time": "2024-05-21T18:16:38.416Z"
   },
   {
    "duration": 0,
    "start_time": "2024-05-21T18:16:38.417Z"
   },
   {
    "duration": 0,
    "start_time": "2024-05-21T18:16:38.418Z"
   },
   {
    "duration": 0,
    "start_time": "2024-05-21T18:16:38.419Z"
   },
   {
    "duration": 0,
    "start_time": "2024-05-21T18:16:38.420Z"
   },
   {
    "duration": 0,
    "start_time": "2024-05-21T18:16:38.421Z"
   },
   {
    "duration": 0,
    "start_time": "2024-05-21T18:16:38.422Z"
   },
   {
    "duration": 0,
    "start_time": "2024-05-21T18:16:38.422Z"
   },
   {
    "duration": 0,
    "start_time": "2024-05-21T18:16:38.423Z"
   },
   {
    "duration": 0,
    "start_time": "2024-05-21T18:16:38.424Z"
   },
   {
    "duration": 3,
    "start_time": "2024-05-21T18:16:40.174Z"
   },
   {
    "duration": 362,
    "start_time": "2024-05-21T18:16:40.647Z"
   },
   {
    "duration": 19,
    "start_time": "2024-05-21T18:16:42.393Z"
   },
   {
    "duration": 17,
    "start_time": "2024-05-21T18:16:43.279Z"
   },
   {
    "duration": 9,
    "start_time": "2024-05-21T18:16:44.233Z"
   },
   {
    "duration": 12,
    "start_time": "2024-05-21T18:16:45.943Z"
   },
   {
    "duration": 20,
    "start_time": "2024-05-21T18:16:46.703Z"
   },
   {
    "duration": 11,
    "start_time": "2024-05-21T18:16:47.631Z"
   },
   {
    "duration": 45,
    "start_time": "2024-05-21T18:16:49.505Z"
   },
   {
    "duration": 39,
    "start_time": "2024-05-21T18:16:50.110Z"
   },
   {
    "duration": 38,
    "start_time": "2024-05-21T18:16:50.517Z"
   },
   {
    "duration": 7,
    "start_time": "2024-05-21T18:16:52.865Z"
   },
   {
    "duration": 7,
    "start_time": "2024-05-21T18:16:53.905Z"
   },
   {
    "duration": 6,
    "start_time": "2024-05-21T18:16:54.617Z"
   },
   {
    "duration": 555,
    "start_time": "2024-05-21T18:16:56.137Z"
   },
   {
    "duration": 5,
    "start_time": "2024-05-21T18:16:59.914Z"
   },
   {
    "duration": 44,
    "start_time": "2024-05-21T18:17:00.925Z"
   },
   {
    "duration": 3,
    "start_time": "2024-05-21T18:17:03.569Z"
   },
   {
    "duration": 213,
    "start_time": "2024-05-21T18:17:04.293Z"
   },
   {
    "duration": 3,
    "start_time": "2024-05-21T18:17:04.817Z"
   },
   {
    "duration": 3,
    "start_time": "2024-05-21T18:17:05.365Z"
   },
   {
    "duration": 4,
    "start_time": "2024-05-21T18:17:07.329Z"
   },
   {
    "duration": 805,
    "start_time": "2024-05-21T18:17:08.761Z"
   },
   {
    "duration": 3,
    "start_time": "2024-05-21T18:17:12.601Z"
   },
   {
    "duration": 15,
    "start_time": "2024-05-21T18:17:14.719Z"
   },
   {
    "duration": 3,
    "start_time": "2024-05-21T18:17:52.377Z"
   },
   {
    "duration": 23,
    "start_time": "2024-05-21T18:17:53.485Z"
   },
   {
    "duration": 3,
    "start_time": "2024-05-21T18:18:20.675Z"
   },
   {
    "duration": 13,
    "start_time": "2024-05-21T18:18:23.292Z"
   },
   {
    "duration": 3,
    "start_time": "2024-05-21T18:18:27.357Z"
   },
   {
    "duration": 4,
    "start_time": "2024-05-21T18:18:30.821Z"
   },
   {
    "duration": 4,
    "start_time": "2024-05-21T18:18:33.967Z"
   },
   {
    "duration": 14,
    "start_time": "2024-05-21T18:18:38.259Z"
   },
   {
    "duration": 4,
    "start_time": "2024-05-21T18:20:16.808Z"
   },
   {
    "duration": 3,
    "start_time": "2024-05-21T18:20:19.323Z"
   },
   {
    "duration": 13,
    "start_time": "2024-05-21T18:20:22.455Z"
   },
   {
    "duration": 12,
    "start_time": "2024-05-21T18:21:37.683Z"
   },
   {
    "duration": 4,
    "start_time": "2024-05-21T18:21:40.253Z"
   },
   {
    "duration": 4,
    "start_time": "2024-05-21T18:21:42.969Z"
   },
   {
    "duration": 6,
    "start_time": "2024-05-21T18:21:45.296Z"
   },
   {
    "duration": 15,
    "start_time": "2024-05-21T18:21:48.237Z"
   },
   {
    "duration": 5,
    "start_time": "2024-05-21T18:22:55.917Z"
   },
   {
    "duration": 10,
    "start_time": "2024-05-21T18:22:57.881Z"
   },
   {
    "duration": 4,
    "start_time": "2024-05-21T18:22:59.841Z"
   },
   {
    "duration": 996,
    "start_time": "2024-05-21T18:23:02.627Z"
   },
   {
    "duration": 960,
    "start_time": "2024-05-21T18:23:06.416Z"
   },
   {
    "duration": 967,
    "start_time": "2024-05-21T18:23:09.244Z"
   },
   {
    "duration": 4,
    "start_time": "2024-05-21T18:23:10.966Z"
   },
   {
    "duration": 6,
    "start_time": "2024-05-21T18:23:11.560Z"
   },
   {
    "duration": 776,
    "start_time": "2024-05-21T18:23:12.224Z"
   }
  ],
  "kernelspec": {
   "display_name": "Python 3 (ipykernel)",
   "language": "python",
   "name": "python3"
  },
  "language_info": {
   "codemirror_mode": {
    "name": "ipython",
    "version": 3
   },
   "file_extension": ".py",
   "mimetype": "text/x-python",
   "name": "python",
   "nbconvert_exporter": "python",
   "pygments_lexer": "ipython3",
   "version": "3.9.5"
  },
  "toc": {
   "base_numbering": 1,
   "nav_menu": {},
   "number_sections": true,
   "sideBar": true,
   "skip_h1_title": true,
   "title_cell": "Table of Contents",
   "title_sidebar": "Contents",
   "toc_cell": false,
   "toc_position": {},
   "toc_section_display": true,
   "toc_window_display": true
  }
 },
 "nbformat": 4,
 "nbformat_minor": 2
}
