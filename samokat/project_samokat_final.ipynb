{
 "cells": [
  {
   "cell_type": "markdown",
   "id": "1c424c23",
   "metadata": {},
   "source": [
    "\n",
    "# Проект: Статистический анализ данных\n",
    "Описание проекта\n",
    "\n",
    "Пользователи сервиса GoFast пользуются мобильным приложением:\n",
    "\n",
    "без подписки\n",
    "абонентская плата отсутствует;\n",
    "стоимость одной минуты поездки — 8 рублей;\n",
    "стоимость старта (начала поездки) — 50 рублей;\n",
    "с подпиской Ultra\n",
    "абонентская плата — 199 рублей в месяц;\n",
    "стоимость одной минуты поездки — 6 рублей;\n",
    "стоимость старта — бесплатно.\n",
    "\n",
    "Цель проекта\n",
    "\n",
    "Проанализировать данные (пользователи из нескольких городов, а также об их поездках) и проверить некоторые гипотезы, которые помогут сервису аренды самокатов GoFast вырасти.\n",
    "\n",
    "Описание данных\n",
    "\n",
    "Есть информация о пользователях, их поездках и подписках.\n",
    "\n",
    "Пользователи — users_go.csv\n",
    "\n",
    "user_id - уникальный идентификатор пользователя\n",
    "name - имя пользователя\n",
    "age - возраст\n",
    "city - город\n",
    "subscription_type - тип подписки (free, ultra)\n",
    "\n",
    "Поездки — rides_go.csv\n",
    "\n",
    "user_id - уникальный идентификатор пользователя\n",
    "distance - расстояние, которое пользователь проехал в текущей сессии (в метрах)\n",
    "duration - продолжительность сессии (в минутах) — время с того момента, как пользователь нажал кнопку «Начать поездку» до момента, как он нажал кнопку «Завершить поездку»\n",
    "date - дата совершения поездки\n",
    "Подписки — subscriptions_go.csv\n",
    "\n",
    "subscription_type - тип подписки\n",
    "minute_price - стоимость одной минуты поездки по данной подписке\n",
    "start_ride_price - стоимость начала поездки\n",
    "subscription_fee - стоимость ежемесячного платежа\n",
    "\n"
   ]
  },
  {
   "cell_type": "markdown",
   "id": "d31085f6",
   "metadata": {},
   "source": [
    "# Импортируем библиотеки"
   ]
  },
  {
   "cell_type": "code",
   "execution_count": 2,
   "id": "92760c61",
   "metadata": {},
   "outputs": [],
   "source": [
    "import pandas as pd\n",
    "import matplotlib.pyplot as plt\n",
    "import numpy as np\n",
    "from scipy import stats as st\n",
    "from scipy.stats import binom"
   ]
  },
  {
   "cell_type": "markdown",
   "id": "c42cbe00",
   "metadata": {},
   "source": [
    "#### Шаг 1. Загрузка данных"
   ]
  },
  {
   "cell_type": "markdown",
   "id": "a38a6d44",
   "metadata": {},
   "source": [
    "1.1.Считаем CSV-файлы(пользователи,поездки,подписки) с данными зададим переменные и  отобразим первые строки"
   ]
  },
  {
   "cell_type": "code",
   "execution_count": 46,
   "id": "0490af7e",
   "metadata": {
    "scrolled": false
   },
   "outputs": [
    {
     "data": {
      "text/plain": [
       "' Таблица пользователей '"
      ]
     },
     "metadata": {},
     "output_type": "display_data"
    },
    {
     "data": {
      "text/html": [
       "<div>\n",
       "<style scoped>\n",
       "    .dataframe tbody tr th:only-of-type {\n",
       "        vertical-align: middle;\n",
       "    }\n",
       "\n",
       "    .dataframe tbody tr th {\n",
       "        vertical-align: top;\n",
       "    }\n",
       "\n",
       "    .dataframe thead th {\n",
       "        text-align: right;\n",
       "    }\n",
       "</style>\n",
       "<table border=\"1\" class=\"dataframe\">\n",
       "  <thead>\n",
       "    <tr style=\"text-align: right;\">\n",
       "      <th></th>\n",
       "      <th>user_id</th>\n",
       "      <th>name</th>\n",
       "      <th>age</th>\n",
       "      <th>city</th>\n",
       "      <th>subscription_type</th>\n",
       "    </tr>\n",
       "  </thead>\n",
       "  <tbody>\n",
       "    <tr>\n",
       "      <th>0</th>\n",
       "      <td>1</td>\n",
       "      <td>Кира</td>\n",
       "      <td>22</td>\n",
       "      <td>Тюмень</td>\n",
       "      <td>ultra</td>\n",
       "    </tr>\n",
       "    <tr>\n",
       "      <th>1</th>\n",
       "      <td>2</td>\n",
       "      <td>Станислав</td>\n",
       "      <td>31</td>\n",
       "      <td>Омск</td>\n",
       "      <td>ultra</td>\n",
       "    </tr>\n",
       "    <tr>\n",
       "      <th>2</th>\n",
       "      <td>3</td>\n",
       "      <td>Алексей</td>\n",
       "      <td>20</td>\n",
       "      <td>Москва</td>\n",
       "      <td>ultra</td>\n",
       "    </tr>\n",
       "    <tr>\n",
       "      <th>3</th>\n",
       "      <td>4</td>\n",
       "      <td>Константин</td>\n",
       "      <td>26</td>\n",
       "      <td>Ростов-на-Дону</td>\n",
       "      <td>ultra</td>\n",
       "    </tr>\n",
       "    <tr>\n",
       "      <th>4</th>\n",
       "      <td>5</td>\n",
       "      <td>Адель</td>\n",
       "      <td>28</td>\n",
       "      <td>Омск</td>\n",
       "      <td>ultra</td>\n",
       "    </tr>\n",
       "  </tbody>\n",
       "</table>\n",
       "</div>"
      ],
      "text/plain": [
       "   user_id        name  age            city subscription_type\n",
       "0        1        Кира   22          Тюмень             ultra\n",
       "1        2   Станислав   31            Омск             ultra\n",
       "2        3     Алексей   20          Москва             ultra\n",
       "3        4  Константин   26  Ростов-на-Дону             ultra\n",
       "4        5       Адель   28            Омск             ultra"
      ]
     },
     "metadata": {},
     "output_type": "display_data"
    },
    {
     "data": {
      "text/plain": [
       "' Таблица поездок '"
      ]
     },
     "metadata": {},
     "output_type": "display_data"
    },
    {
     "data": {
      "text/html": [
       "<div>\n",
       "<style scoped>\n",
       "    .dataframe tbody tr th:only-of-type {\n",
       "        vertical-align: middle;\n",
       "    }\n",
       "\n",
       "    .dataframe tbody tr th {\n",
       "        vertical-align: top;\n",
       "    }\n",
       "\n",
       "    .dataframe thead th {\n",
       "        text-align: right;\n",
       "    }\n",
       "</style>\n",
       "<table border=\"1\" class=\"dataframe\">\n",
       "  <thead>\n",
       "    <tr style=\"text-align: right;\">\n",
       "      <th></th>\n",
       "      <th>user_id</th>\n",
       "      <th>distance</th>\n",
       "      <th>duration</th>\n",
       "      <th>date</th>\n",
       "    </tr>\n",
       "  </thead>\n",
       "  <tbody>\n",
       "    <tr>\n",
       "      <th>0</th>\n",
       "      <td>1</td>\n",
       "      <td>4409.919140</td>\n",
       "      <td>25.599769</td>\n",
       "      <td>2021-01-01</td>\n",
       "    </tr>\n",
       "    <tr>\n",
       "      <th>1</th>\n",
       "      <td>1</td>\n",
       "      <td>2617.592153</td>\n",
       "      <td>15.816871</td>\n",
       "      <td>2021-01-18</td>\n",
       "    </tr>\n",
       "    <tr>\n",
       "      <th>2</th>\n",
       "      <td>1</td>\n",
       "      <td>754.159807</td>\n",
       "      <td>6.232113</td>\n",
       "      <td>2021-04-20</td>\n",
       "    </tr>\n",
       "    <tr>\n",
       "      <th>3</th>\n",
       "      <td>1</td>\n",
       "      <td>2694.783254</td>\n",
       "      <td>18.511000</td>\n",
       "      <td>2021-08-11</td>\n",
       "    </tr>\n",
       "    <tr>\n",
       "      <th>4</th>\n",
       "      <td>1</td>\n",
       "      <td>4028.687306</td>\n",
       "      <td>26.265803</td>\n",
       "      <td>2021-08-28</td>\n",
       "    </tr>\n",
       "  </tbody>\n",
       "</table>\n",
       "</div>"
      ],
      "text/plain": [
       "   user_id     distance   duration        date\n",
       "0        1  4409.919140  25.599769  2021-01-01\n",
       "1        1  2617.592153  15.816871  2021-01-18\n",
       "2        1   754.159807   6.232113  2021-04-20\n",
       "3        1  2694.783254  18.511000  2021-08-11\n",
       "4        1  4028.687306  26.265803  2021-08-28"
      ]
     },
     "metadata": {},
     "output_type": "display_data"
    },
    {
     "data": {
      "text/plain": [
       "' Таблица подписок '"
      ]
     },
     "metadata": {},
     "output_type": "display_data"
    },
    {
     "data": {
      "text/html": [
       "<div>\n",
       "<style scoped>\n",
       "    .dataframe tbody tr th:only-of-type {\n",
       "        vertical-align: middle;\n",
       "    }\n",
       "\n",
       "    .dataframe tbody tr th {\n",
       "        vertical-align: top;\n",
       "    }\n",
       "\n",
       "    .dataframe thead th {\n",
       "        text-align: right;\n",
       "    }\n",
       "</style>\n",
       "<table border=\"1\" class=\"dataframe\">\n",
       "  <thead>\n",
       "    <tr style=\"text-align: right;\">\n",
       "      <th></th>\n",
       "      <th>subscription_type</th>\n",
       "      <th>minute_price</th>\n",
       "      <th>start_ride_price</th>\n",
       "      <th>subscription_fee</th>\n",
       "    </tr>\n",
       "  </thead>\n",
       "  <tbody>\n",
       "    <tr>\n",
       "      <th>0</th>\n",
       "      <td>free</td>\n",
       "      <td>8</td>\n",
       "      <td>50</td>\n",
       "      <td>0</td>\n",
       "    </tr>\n",
       "    <tr>\n",
       "      <th>1</th>\n",
       "      <td>ultra</td>\n",
       "      <td>6</td>\n",
       "      <td>0</td>\n",
       "      <td>199</td>\n",
       "    </tr>\n",
       "  </tbody>\n",
       "</table>\n",
       "</div>"
      ],
      "text/plain": [
       "  subscription_type  minute_price  start_ride_price  subscription_fee\n",
       "0              free             8                50                 0\n",
       "1             ultra             6                 0               199"
      ]
     },
     "metadata": {},
     "output_type": "display_data"
    }
   ],
   "source": [
    "users_go = pd.read_csv(\"/datasets/users_go.csv\")\n",
    "display(\" Таблица пользователей \",users_go.head())\n",
    "rides_go = pd.read_csv(\"/datasets/rides_go.csv\")\n",
    "display(\" Таблица поездок \" , rides_go.head())\n",
    "subscriptions_go = pd.read_csv(\"/datasets/subscriptions_go.csv\")\n",
    "display(\" Таблица подписок \", subscriptions_go)"
   ]
  },
  {
   "cell_type": "markdown",
   "id": "712ac984",
   "metadata": {},
   "source": [
    "1.2. Изучим общую информацию о каждом датафрейме."
   ]
  },
  {
   "cell_type": "code",
   "execution_count": 44,
   "id": "161ea7da",
   "metadata": {},
   "outputs": [
    {
     "name": "stdout",
     "output_type": "stream",
     "text": [
      "<class 'pandas.core.frame.DataFrame'>\n",
      "RangeIndex: 1565 entries, 0 to 1564\n",
      "Data columns (total 5 columns):\n",
      " #   Column             Non-Null Count  Dtype \n",
      "---  ------             --------------  ----- \n",
      " 0   user_id            1565 non-null   int64 \n",
      " 1   name               1565 non-null   object\n",
      " 2   age                1565 non-null   int64 \n",
      " 3   city               1565 non-null   object\n",
      " 4   subscription_type  1565 non-null   object\n",
      "dtypes: int64(2), object(3)\n",
      "memory usage: 61.3+ KB\n",
      "None\n",
      "Количество явных дубликатов в `users_go.csv` =  31\n"
     ]
    }
   ],
   "source": [
    "print(users_go.info())\n",
    "print('Количество явных дубликатов в `users_go.csv` = ', users_go.duplicated().sum())"
   ]
  },
  {
   "cell_type": "code",
   "execution_count": 45,
   "id": "3d7d2557",
   "metadata": {},
   "outputs": [
    {
     "name": "stdout",
     "output_type": "stream",
     "text": [
      "<class 'pandas.core.frame.DataFrame'>\n",
      "RangeIndex: 18068 entries, 0 to 18067\n",
      "Data columns (total 4 columns):\n",
      " #   Column    Non-Null Count  Dtype  \n",
      "---  ------    --------------  -----  \n",
      " 0   user_id   18068 non-null  int64  \n",
      " 1   distance  18068 non-null  float64\n",
      " 2   duration  18068 non-null  float64\n",
      " 3   date      18068 non-null  object \n",
      "dtypes: float64(2), int64(1), object(1)\n",
      "memory usage: 564.8+ KB\n",
      "None\n",
      "Количество явных дубликатов в `rides_go.csv` =  0\n"
     ]
    }
   ],
   "source": [
    "print(rides_go.info())\n",
    "print('Количество явных дубликатов в `rides_go.csv` = ', rides_go.duplicated().sum())"
   ]
  },
  {
   "cell_type": "code",
   "execution_count": 6,
   "id": "a093033b",
   "metadata": {},
   "outputs": [
    {
     "name": "stdout",
     "output_type": "stream",
     "text": [
      "<class 'pandas.core.frame.DataFrame'>\n",
      "RangeIndex: 2 entries, 0 to 1\n",
      "Data columns (total 4 columns):\n",
      " #   Column             Non-Null Count  Dtype \n",
      "---  ------             --------------  ----- \n",
      " 0   subscription_type  2 non-null      object\n",
      " 1   minute_price       2 non-null      int64 \n",
      " 2   start_ride_price   2 non-null      int64 \n",
      " 3   subscription_fee   2 non-null      int64 \n",
      "dtypes: int64(3), object(1)\n",
      "memory usage: 192.0+ bytes\n",
      "None\n"
     ]
    }
   ],
   "source": [
    "print(subscriptions_go.info())"
   ]
  },
  {
   "cell_type": "markdown",
   "id": "94adc222",
   "metadata": {},
   "source": [
    "Построим гистограммы значимых фреймов данных"
   ]
  },
  {
   "cell_type": "code",
   "execution_count": 9,
   "id": "0ce8962d",
   "metadata": {},
   "outputs": [
    {
     "data": {
      "image/png": "[encoded data removed]",
      "text/plain": [
       "<Figure size 432x288 with 1 Axes>"
      ]
     },
     "metadata": {
      "needs_background": "light"
     },
     "output_type": "display_data"
    }
   ],
   "source": [
    "plt.hist(users_go['age'], bins=100)\n",
    "plt.title('Возраст пользователей')\n",
    "plt.xlabel('Возраст (лет)')\n",
    "plt.ylabel('Количество')\n",
    "plt.show()"
   ]
  },
  {
   "cell_type": "code",
   "execution_count": 12,
   "id": "095d230d",
   "metadata": {
    "scrolled": true
   },
   "outputs": [
    {
     "data": {
      "image/png": "[encoded data removed]",
      "text/plain": [
       "<Figure size 432x288 with 1 Axes>"
      ]
     },
     "metadata": {
      "needs_background": "light"
     },
     "output_type": "display_data"
    }
   ],
   "source": [
    "plt.hist(rides_go['distance'], bins=100)\n",
    "plt.title('Дистанция поездки')\n",
    "plt.xlabel('Расстояние (м)')\n",
    "plt.ylabel('Количество')\n",
    "plt.show()"
   ]
  },
  {
   "cell_type": "code",
   "execution_count": 13,
   "id": "12a6d6a4",
   "metadata": {},
   "outputs": [
    {
     "data": {
      "image/png": "[encoded data removed]",
      "text/plain": [
       "<Figure size 432x288 with 1 Axes>"
      ]
     },
     "metadata": {
      "needs_background": "light"
     },
     "output_type": "display_data"
    }
   ],
   "source": [
    "plt.hist(rides_go['duration'], bins=100)\n",
    "plt.title('Продолжительность поездки')\n",
    "plt.xlabel('Продолжительность (мин)')\n",
    "plt.ylabel('Количество')\n",
    "plt.show()"
   ]
  },
  {
   "cell_type": "code",
   "execution_count": 16,
   "id": "1137a7fc",
   "metadata": {},
   "outputs": [
    {
     "data": {
      "image/png": "[encoded data removed]",
      "text/plain": [
       "<Figure size 432x288 with 1 Axes>"
      ]
     },
     "metadata": {
      "needs_background": "light"
     },
     "output_type": "display_data"
    }
   ],
   "source": [
    "plt.hist(rides_go['date'], bins=100)\n",
    "plt.title('Дата поездки')\n",
    "plt.xlabel('Дата')\n",
    "plt.ylabel('Количество')\n",
    "plt.show()"
   ]
  },
  {
   "cell_type": "markdown",
   "id": "8288db3f",
   "metadata": {},
   "source": [
    "Вывод: -в предоставленных данных файла о пользователях users_go имеются\n",
    "       1565 записей; пропусков нет, количество явных дубликатов: 31;\n",
    "       - в предоставленных данных файла о поездках rides_go  имеются\n",
    "       18068 записей, пропусков нет, явных дубликатов нет;\n",
    "       -в предоставленных жанных файла о подписке subscriptions_go имеются\n",
    "        2 записи, пропусков нет, явных дубликатов нет. \n",
    "        Названия столбцов в норме. \n",
    "      Данные признаны полными и достаточными для исследования.\n"
   ]
  },
  {
   "cell_type": "markdown",
   "id": "1cf75c27",
   "metadata": {},
   "source": [
    "# Шаг 2. Предобработка данных"
   ]
  },
  {
   "cell_type": "markdown",
   "id": "3e3cd494",
   "metadata": {},
   "source": [
    "2.1. Удалим дубликаты в users_go"
   ]
  },
  {
   "cell_type": "code",
   "execution_count": 354,
   "id": "a51c67c4",
   "metadata": {},
   "outputs": [],
   "source": [
    "users_go = users_go.sort_values(by='user_id').loc[users_go['user_id'].duplicated() == False]"
   ]
  },
  {
   "cell_type": "markdown",
   "id": "5621c0ae",
   "metadata": {},
   "source": [
    "Проверка наличия дубликатов в 'users_go'"
   ]
  },
  {
   "cell_type": "code",
   "execution_count": 355,
   "id": "22c43b85",
   "metadata": {
    "scrolled": true
   },
   "outputs": [
    {
     "data": {
      "text/plain": [
       "user_id              0\n",
       "name                 0\n",
       "age                  0\n",
       "city                 0\n",
       "subscription_type    0\n",
       "dtype: int64"
      ]
     },
     "execution_count": 355,
     "metadata": {},
     "output_type": "execute_result"
    }
   ],
   "source": [
    "users_go.sort_values(by='user_id').loc[users_go['user_id'].duplicated() == True].count()"
   ]
  },
  {
   "cell_type": "markdown",
   "id": "2622eb48",
   "metadata": {},
   "source": [
    "Корректировка столбцов в 'users_go'"
   ]
  },
  {
   "cell_type": "code",
   "execution_count": 356,
   "id": "8770029b",
   "metadata": {},
   "outputs": [],
   "source": [
    "users_go['user_id'] = users_go['user_id'].astype('uint16')\n",
    "users_go['age'] = users_go['age'].astype('uint8')\n",
    "users_go.loc[users_go['subscription_type'] == 'ultra', 'subscription_type'] = True # 'ultra'\n",
    "users_go.loc[users_go['subscription_type'] == 'free', 'subscription_type'] = False # 'free'\n",
    "users_go['subscription_type'] = users_go['subscription_type'].astype('bool')"
   ]
  },
  {
   "cell_type": "markdown",
   "id": "61878970",
   "metadata": {},
   "source": [
    "Корректировка столбцов в  'rides_go'"
   ]
  },
  {
   "cell_type": "code",
   "execution_count": 357,
   "id": "91a9a414",
   "metadata": {},
   "outputs": [],
   "source": [
    "rides_go['date'] = pd.to_datetime(rides_go['date'], format='%Y-%m-%d')"
   ]
  },
  {
   "cell_type": "code",
   "execution_count": 358,
   "id": "d44a70ab",
   "metadata": {},
   "outputs": [],
   "source": [
    "rides_go['distance'] = rides_go['distance'].round(2)#округлим до 2-х знаков"
   ]
  },
  {
   "cell_type": "code",
   "execution_count": 359,
   "id": "a821f4df",
   "metadata": {},
   "outputs": [],
   "source": [
    "rides_go['duration'] = np.ceil(rides_go['duration']).astype('int')# Округлил до целых и перевел в int\n"
   ]
  },
  {
   "cell_type": "markdown",
   "id": "71b77dc2",
   "metadata": {},
   "source": [
    "Добавление столбца 'month' с номером месяца в датафейм 'rides_go'"
   ]
  },
  {
   "cell_type": "code",
   "execution_count": 360,
   "id": "93b43c6a",
   "metadata": {},
   "outputs": [],
   "source": [
    "rides_go['month'] = pd.DatetimeIndex(rides_go['date']).month"
   ]
  },
  {
   "cell_type": "code",
   "execution_count": 361,
   "id": "33a9b765",
   "metadata": {},
   "outputs": [
    {
     "name": "stdout",
     "output_type": "stream",
     "text": [
      "Минимальная дата : 2021-01-01 00:00:00\n",
      "Максимальная дата: 2021-12-30 00:00:00\n"
     ]
    },
    {
     "data": {
      "image/png": "[encoded data removed]",
      "text/plain": [
       "<Figure size 432x288 with 1 Axes>"
      ]
     },
     "metadata": {
      "needs_background": "light"
     },
     "output_type": "display_data"
    }
   ],
   "source": [
    "print('Минимальная дата :', rides_go['date'].min())\n",
    "print('Максимальная дата:', rides_go['date'].max())\n",
    "rides_go['date'].hist()\n",
    "plt.show()"
   ]
  },
  {
   "cell_type": "markdown",
   "id": "f3583eef",
   "metadata": {},
   "source": [
    "Корректировка столбцов  в  'subscriptions_go'"
   ]
  },
  {
   "cell_type": "code",
   "execution_count": 362,
   "id": "eb11e59a",
   "metadata": {},
   "outputs": [],
   "source": [
    "#Корректировка столбца 'subscription_type'\n",
    "subscriptions_go.loc[subscriptions_go['subscription_type'] == 'ultra', 'subscription_type'] = True # 'ultra'\n",
    "subscriptions_go.loc[subscriptions_go['subscription_type'] == 'free', 'subscription_type'] = False # 'free'\n",
    "subscriptions_go['subscription_type'] = subscriptions_go['subscription_type'].astype('bool')\n",
    "for i in ['minute_price', 'start_ride_price', 'subscription_fee']:\n",
    "    subscriptions_go[i] = subscriptions_go[i].astype('uint8')"
   ]
  },
  {
   "cell_type": "markdown",
   "id": "bb3133b6",
   "metadata": {},
   "source": [
    "Проверка после предобработки данных"
   ]
  },
  {
   "cell_type": "code",
   "execution_count": 363,
   "id": "760b74dc",
   "metadata": {},
   "outputs": [
    {
     "name": "stdout",
     "output_type": "stream",
     "text": [
      "<class 'pandas.core.frame.DataFrame'>\n",
      "Int64Index: 1534 entries, 0 to 1533\n",
      "Data columns (total 5 columns):\n",
      " #   Column             Non-Null Count  Dtype \n",
      "---  ------             --------------  ----- \n",
      " 0   user_id            1534 non-null   uint16\n",
      " 1   name               1534 non-null   object\n",
      " 2   age                1534 non-null   uint8 \n",
      " 3   city               1534 non-null   object\n",
      " 4   subscription_type  1534 non-null   bool  \n",
      "dtypes: bool(1), object(2), uint16(1), uint8(1)\n",
      "memory usage: 41.9+ KB\n"
     ]
    },
    {
     "data": {
      "text/html": [
       "<div>\n",
       "<style scoped>\n",
       "    .dataframe tbody tr th:only-of-type {\n",
       "        vertical-align: middle;\n",
       "    }\n",
       "\n",
       "    .dataframe tbody tr th {\n",
       "        vertical-align: top;\n",
       "    }\n",
       "\n",
       "    .dataframe thead th {\n",
       "        text-align: right;\n",
       "    }\n",
       "</style>\n",
       "<table border=\"1\" class=\"dataframe\">\n",
       "  <thead>\n",
       "    <tr style=\"text-align: right;\">\n",
       "      <th></th>\n",
       "      <th>user_id</th>\n",
       "      <th>name</th>\n",
       "      <th>age</th>\n",
       "      <th>city</th>\n",
       "      <th>subscription_type</th>\n",
       "    </tr>\n",
       "  </thead>\n",
       "  <tbody>\n",
       "    <tr>\n",
       "      <th>0</th>\n",
       "      <td>1</td>\n",
       "      <td>Кира</td>\n",
       "      <td>22</td>\n",
       "      <td>Тюмень</td>\n",
       "      <td>True</td>\n",
       "    </tr>\n",
       "    <tr>\n",
       "      <th>1</th>\n",
       "      <td>2</td>\n",
       "      <td>Станислав</td>\n",
       "      <td>31</td>\n",
       "      <td>Омск</td>\n",
       "      <td>True</td>\n",
       "    </tr>\n",
       "    <tr>\n",
       "      <th>2</th>\n",
       "      <td>3</td>\n",
       "      <td>Алексей</td>\n",
       "      <td>20</td>\n",
       "      <td>Москва</td>\n",
       "      <td>True</td>\n",
       "    </tr>\n",
       "    <tr>\n",
       "      <th>3</th>\n",
       "      <td>4</td>\n",
       "      <td>Константин</td>\n",
       "      <td>26</td>\n",
       "      <td>Ростов-на-Дону</td>\n",
       "      <td>True</td>\n",
       "    </tr>\n",
       "    <tr>\n",
       "      <th>4</th>\n",
       "      <td>5</td>\n",
       "      <td>Адель</td>\n",
       "      <td>28</td>\n",
       "      <td>Омск</td>\n",
       "      <td>True</td>\n",
       "    </tr>\n",
       "  </tbody>\n",
       "</table>\n",
       "</div>"
      ],
      "text/plain": [
       "   user_id        name  age            city  subscription_type\n",
       "0        1        Кира   22          Тюмень               True\n",
       "1        2   Станислав   31            Омск               True\n",
       "2        3     Алексей   20          Москва               True\n",
       "3        4  Константин   26  Ростов-на-Дону               True\n",
       "4        5       Адель   28            Омск               True"
      ]
     },
     "execution_count": 363,
     "metadata": {},
     "output_type": "execute_result"
    }
   ],
   "source": [
    "users_go.info()\n",
    "users_go.head()"
   ]
  },
  {
   "cell_type": "code",
   "execution_count": 364,
   "id": "1fd42efb",
   "metadata": {},
   "outputs": [
    {
     "name": "stdout",
     "output_type": "stream",
     "text": [
      "<class 'pandas.core.frame.DataFrame'>\n",
      "RangeIndex: 18068 entries, 0 to 18067\n",
      "Data columns (total 5 columns):\n",
      " #   Column    Non-Null Count  Dtype         \n",
      "---  ------    --------------  -----         \n",
      " 0   user_id   18068 non-null  int64         \n",
      " 1   distance  18068 non-null  float64       \n",
      " 2   duration  18068 non-null  int64         \n",
      " 3   date      18068 non-null  datetime64[ns]\n",
      " 4   month     18068 non-null  int64         \n",
      "dtypes: datetime64[ns](1), float64(1), int64(3)\n",
      "memory usage: 705.9 KB\n"
     ]
    },
    {
     "data": {
      "text/html": [
       "<div>\n",
       "<style scoped>\n",
       "    .dataframe tbody tr th:only-of-type {\n",
       "        vertical-align: middle;\n",
       "    }\n",
       "\n",
       "    .dataframe tbody tr th {\n",
       "        vertical-align: top;\n",
       "    }\n",
       "\n",
       "    .dataframe thead th {\n",
       "        text-align: right;\n",
       "    }\n",
       "</style>\n",
       "<table border=\"1\" class=\"dataframe\">\n",
       "  <thead>\n",
       "    <tr style=\"text-align: right;\">\n",
       "      <th></th>\n",
       "      <th>user_id</th>\n",
       "      <th>distance</th>\n",
       "      <th>duration</th>\n",
       "      <th>date</th>\n",
       "      <th>month</th>\n",
       "    </tr>\n",
       "  </thead>\n",
       "  <tbody>\n",
       "    <tr>\n",
       "      <th>0</th>\n",
       "      <td>1</td>\n",
       "      <td>4409.92</td>\n",
       "      <td>26</td>\n",
       "      <td>2021-01-01</td>\n",
       "      <td>1</td>\n",
       "    </tr>\n",
       "    <tr>\n",
       "      <th>1</th>\n",
       "      <td>1</td>\n",
       "      <td>2617.59</td>\n",
       "      <td>16</td>\n",
       "      <td>2021-01-18</td>\n",
       "      <td>1</td>\n",
       "    </tr>\n",
       "    <tr>\n",
       "      <th>2</th>\n",
       "      <td>1</td>\n",
       "      <td>754.16</td>\n",
       "      <td>7</td>\n",
       "      <td>2021-04-20</td>\n",
       "      <td>4</td>\n",
       "    </tr>\n",
       "    <tr>\n",
       "      <th>3</th>\n",
       "      <td>1</td>\n",
       "      <td>2694.78</td>\n",
       "      <td>19</td>\n",
       "      <td>2021-08-11</td>\n",
       "      <td>8</td>\n",
       "    </tr>\n",
       "    <tr>\n",
       "      <th>4</th>\n",
       "      <td>1</td>\n",
       "      <td>4028.69</td>\n",
       "      <td>27</td>\n",
       "      <td>2021-08-28</td>\n",
       "      <td>8</td>\n",
       "    </tr>\n",
       "  </tbody>\n",
       "</table>\n",
       "</div>"
      ],
      "text/plain": [
       "   user_id  distance  duration       date  month\n",
       "0        1   4409.92        26 2021-01-01      1\n",
       "1        1   2617.59        16 2021-01-18      1\n",
       "2        1    754.16         7 2021-04-20      4\n",
       "3        1   2694.78        19 2021-08-11      8\n",
       "4        1   4028.69        27 2021-08-28      8"
      ]
     },
     "execution_count": 364,
     "metadata": {},
     "output_type": "execute_result"
    }
   ],
   "source": [
    "rides_go.info()\n",
    "rides_go.head()"
   ]
  },
  {
   "cell_type": "code",
   "execution_count": 365,
   "id": "9901be56",
   "metadata": {},
   "outputs": [
    {
     "name": "stdout",
     "output_type": "stream",
     "text": [
      "<class 'pandas.core.frame.DataFrame'>\n",
      "RangeIndex: 2 entries, 0 to 1\n",
      "Data columns (total 4 columns):\n",
      " #   Column             Non-Null Count  Dtype\n",
      "---  ------             --------------  -----\n",
      " 0   subscription_type  2 non-null      bool \n",
      " 1   minute_price       2 non-null      uint8\n",
      " 2   start_ride_price   2 non-null      uint8\n",
      " 3   subscription_fee   2 non-null      uint8\n",
      "dtypes: bool(1), uint8(3)\n",
      "memory usage: 136.0 bytes\n"
     ]
    },
    {
     "data": {
      "text/html": [
       "<div>\n",
       "<style scoped>\n",
       "    .dataframe tbody tr th:only-of-type {\n",
       "        vertical-align: middle;\n",
       "    }\n",
       "\n",
       "    .dataframe tbody tr th {\n",
       "        vertical-align: top;\n",
       "    }\n",
       "\n",
       "    .dataframe thead th {\n",
       "        text-align: right;\n",
       "    }\n",
       "</style>\n",
       "<table border=\"1\" class=\"dataframe\">\n",
       "  <thead>\n",
       "    <tr style=\"text-align: right;\">\n",
       "      <th></th>\n",
       "      <th>subscription_type</th>\n",
       "      <th>minute_price</th>\n",
       "      <th>start_ride_price</th>\n",
       "      <th>subscription_fee</th>\n",
       "    </tr>\n",
       "  </thead>\n",
       "  <tbody>\n",
       "    <tr>\n",
       "      <th>0</th>\n",
       "      <td>False</td>\n",
       "      <td>8</td>\n",
       "      <td>50</td>\n",
       "      <td>0</td>\n",
       "    </tr>\n",
       "    <tr>\n",
       "      <th>1</th>\n",
       "      <td>True</td>\n",
       "      <td>6</td>\n",
       "      <td>0</td>\n",
       "      <td>199</td>\n",
       "    </tr>\n",
       "  </tbody>\n",
       "</table>\n",
       "</div>"
      ],
      "text/plain": [
       "   subscription_type  minute_price  start_ride_price  subscription_fee\n",
       "0              False             8                50                 0\n",
       "1               True             6                 0               199"
      ]
     },
     "execution_count": 365,
     "metadata": {},
     "output_type": "execute_result"
    }
   ],
   "source": [
    "subscriptions_go.info()\n",
    "subscriptions_go.head()"
   ]
  },
  {
   "cell_type": "markdown",
   "id": "dd551da9",
   "metadata": {},
   "source": [
    "Вывод: в результате предобработки данных было выполнены следующие действия:\n",
    "       -в данных users_go удалил дубликаты;\n",
    "       -в данных users_go округлил distance в метрах до 2 знаков после запятой,\n",
    "                          округлил duration до целых и перевел в int, \n",
    "                          привел столбец date к типу datetime64, \n",
    "                          создали столбец month с номером месяца;\n",
    "       -корректировка столбца 'subscription_type'."
   ]
  },
  {
   "cell_type": "markdown",
   "id": "212593c7",
   "metadata": {},
   "source": [
    " Шаг 3. Исследовательский анализ данных"
   ]
  },
  {
   "cell_type": "markdown",
   "id": "74fcf609",
   "metadata": {},
   "source": [
    "3.1 Частота встречаемости городов в выборке"
   ]
  },
  {
   "cell_type": "markdown",
   "id": "1bee9942",
   "metadata": {},
   "source": [
    "гистограмма и таблица Количество пользователей по городам:"
   ]
  },
  {
   "cell_type": "code",
   "execution_count": 382,
   "id": "c450117d",
   "metadata": {},
   "outputs": [
    {
     "data": {
      "image/png": "[encoded data removed]",
      "text/plain": [
       "<Figure size 720x360 with 1 Axes>"
      ]
     },
     "metadata": {
      "needs_background": "light"
     },
     "output_type": "display_data"
    },
    {
     "name": "stdout",
     "output_type": "stream",
     "text": [
      "Количество пользователей по городам \n"
     ]
    },
    {
     "data": {
      "text/html": [
       "<div>\n",
       "<style scoped>\n",
       "    .dataframe tbody tr th:only-of-type {\n",
       "        vertical-align: middle;\n",
       "    }\n",
       "\n",
       "    .dataframe tbody tr th {\n",
       "        vertical-align: top;\n",
       "    }\n",
       "\n",
       "    .dataframe thead th {\n",
       "        text-align: right;\n",
       "    }\n",
       "</style>\n",
       "<table border=\"1\" class=\"dataframe\">\n",
       "  <thead>\n",
       "    <tr style=\"text-align: right;\">\n",
       "      <th></th>\n",
       "      <th>user_id</th>\n",
       "    </tr>\n",
       "    <tr>\n",
       "      <th>city</th>\n",
       "      <th></th>\n",
       "    </tr>\n",
       "  </thead>\n",
       "  <tbody>\n",
       "    <tr>\n",
       "      <th>Пятигорск</th>\n",
       "      <td>219</td>\n",
       "    </tr>\n",
       "    <tr>\n",
       "      <th>Екатеринбург</th>\n",
       "      <td>204</td>\n",
       "    </tr>\n",
       "    <tr>\n",
       "      <th>Ростов-на-Дону</th>\n",
       "      <td>198</td>\n",
       "    </tr>\n",
       "    <tr>\n",
       "      <th>Краснодар</th>\n",
       "      <td>193</td>\n",
       "    </tr>\n",
       "    <tr>\n",
       "      <th>Сочи</th>\n",
       "      <td>189</td>\n",
       "    </tr>\n",
       "    <tr>\n",
       "      <th>Омск</th>\n",
       "      <td>183</td>\n",
       "    </tr>\n",
       "    <tr>\n",
       "      <th>Тюмень</th>\n",
       "      <td>180</td>\n",
       "    </tr>\n",
       "    <tr>\n",
       "      <th>Москва</th>\n",
       "      <td>168</td>\n",
       "    </tr>\n",
       "  </tbody>\n",
       "</table>\n",
       "</div>"
      ],
      "text/plain": [
       "                user_id\n",
       "city                   \n",
       "Пятигорск           219\n",
       "Екатеринбург        204\n",
       "Ростов-на-Дону      198\n",
       "Краснодар           193\n",
       "Сочи                189\n",
       "Омск                183\n",
       "Тюмень              180\n",
       "Москва              168"
      ]
     },
     "execution_count": 382,
     "metadata": {},
     "output_type": "execute_result"
    }
   ],
   "source": [
    "(\n",
    "    users_go.pivot_table(index='city', values='user_id', aggfunc='count').sort_values(by='user_id', ascending=True)\n",
    "    .plot(kind='barh', grid=True, figsize=(10, 5))\n",
    ")\n",
    "plt.title('Количество пользователей по городам')\n",
    "plt.ylabel('Города')\n",
    "plt.xlabel('Количество пользователей')\n",
    "\n",
    "plt.show()\n",
    "print('Количество пользователей по городам ') \n",
    "users_go.pivot_table(index='city', values='user_id', aggfunc='count').sort_values(by='user_id', ascending=False)\n"
   ]
  },
  {
   "cell_type": "markdown",
   "id": "6c168f63",
   "metadata": {},
   "source": [
    "Вывод: лидерство по частотности держит город Пятигорск, за ним Екатеринбург и Ростов-на-Дону, \n",
    "       замыкает список   Москва.\n",
    "       Замечено, что в лидерах в основном южные города, где сезон проката больше,\n",
    "       (исключение составляет г.Екатеринбург: 2ой в списке).Возможно, это связано также с тем,что в городах-лидерах        короткие расстояния и удобнее использовать самокат для передвижения,нежели чем в столице.\n",
    "\n"
   ]
  },
  {
   "cell_type": "markdown",
   "id": "3019aab7",
   "metadata": {},
   "source": [
    "3.2 Соотношение пользователей с подпиской и без подписки"
   ]
  },
  {
   "cell_type": "code",
   "execution_count": 383,
   "id": "72941f3a",
   "metadata": {},
   "outputs": [
    {
     "data": {
      "image/png": "[encoded data removed]",
      "text/plain": [
       "<Figure size 360x360 with 1 Axes>"
      ]
     },
     "metadata": {},
     "output_type": "display_data"
    }
   ],
   "source": [
    "(\n",
    "    users_go.pivot_table(index='subscription_type', values='user_id', aggfunc='count')\n",
    "    .plot.pie(y='user_id', figsize=(5,5),  label='Количество пользователей', \n",
    "    autopct='%1.1f%%', startangle=45,\n",
    "    title='Процентное соотношение пользователей в зависимости от тарифа free или ultra ')\n",
    "\n",
    ")\n",
    "plt.axis('equal')\n",
    "plt.show()"
   ]
  },
  {
   "cell_type": "markdown",
   "id": "25833e61",
   "metadata": {},
   "source": [
    "Вывод: количество пользователей без подписки free (54,4%) превышает количество пользователей с подпиской ultra (45,6%).\n",
    "\n"
   ]
  },
  {
   "cell_type": "markdown",
   "id": "e11c003e",
   "metadata": {},
   "source": [
    "3.3 Возраст пользователей"
   ]
  },
  {
   "cell_type": "markdown",
   "id": "724aebce",
   "metadata": {},
   "source": [
    "#cтроим гистограмму Количество пользователей по возрасту и определим средний возраст пользователя:"
   ]
  },
  {
   "cell_type": "code",
   "execution_count": 384,
   "id": "3184a146",
   "metadata": {
    "scrolled": true
   },
   "outputs": [
    {
     "data": {
      "image/png": "[encoded data removed]",
      "text/plain": [
       "<Figure size 720x504 with 1 Axes>"
      ]
     },
     "metadata": {
      "needs_background": "light"
     },
     "output_type": "display_data"
    }
   ],
   "source": [
    "(\n",
    "    users_go.pivot_table(index='age', values='user_id', aggfunc='count').sort_values(by='age', ascending=True)\n",
    "    .plot(kind='bar' , grid=True, figsize=(10, 7))\n",
    ")\n",
    "plt.title('Количество пользователей по возрасту')\n",
    "plt.xlabel('Возраст')\n",
    "plt.ylabel('Количество')\n",
    "plt.show()"
   ]
  },
  {
   "cell_type": "code",
   "execution_count": 385,
   "id": "2bc47f4b",
   "metadata": {},
   "outputs": [
    {
     "name": "stdout",
     "output_type": "stream",
     "text": [
      "Средний возраст пользователя: 24.9\n"
     ]
    },
    {
     "data": {
      "text/plain": [
       "count    1534.000000\n",
       "mean       24.903520\n",
       "std         4.572367\n",
       "min        12.000000\n",
       "25%        22.000000\n",
       "50%        25.000000\n",
       "75%        28.000000\n",
       "max        43.000000\n",
       "Name: age, dtype: float64"
      ]
     },
     "execution_count": 385,
     "metadata": {},
     "output_type": "execute_result"
    }
   ],
   "source": [
    "print('Средний возраст пользователя:', users_go['age'].mean().round(1))\n",
    "users_go['age'].describe()"
   ]
  },
  {
   "cell_type": "markdown",
   "id": "6e5bfee6",
   "metadata": {},
   "source": [
    "Вывод: сервисом аренды самокатов пользуются в основном люди 12-43лет. \n",
    "    Распределение возрастной кривой имеет нормальное распределение. \n",
    "    Средний возраст пользователя примерно 25 лет,этот же возраст является медианным."
   ]
  },
  {
   "cell_type": "markdown",
   "id": "1f5ca45d",
   "metadata": {},
   "source": [
    "3.4 Расстояние, которое пользователь преодолел за одну поездку."
   ]
  },
  {
   "cell_type": "code",
   "execution_count": 387,
   "id": "29778bb4",
   "metadata": {},
   "outputs": [
    {
     "data": {
      "text/plain": [
       "count    18068.000000\n",
       "mean      3070.659992\n",
       "std       1116.831222\n",
       "min          0.860000\n",
       "25%       2543.227500\n",
       "50%       3133.610000\n",
       "75%       3776.220000\n",
       "max       7211.010000\n",
       "Name: distance, dtype: float64"
      ]
     },
     "execution_count": 387,
     "metadata": {},
     "output_type": "execute_result"
    }
   ],
   "source": [
    "rides_go['distance'].describe()"
   ]
  },
  {
   "cell_type": "code",
   "execution_count": 388,
   "id": "bc6d560c",
   "metadata": {},
   "outputs": [
    {
     "data": {
      "image/png": "[encoded data removed]",
      "text/plain": [
       "<Figure size 432x288 with 1 Axes>"
      ]
     },
     "metadata": {
      "needs_background": "light"
     },
     "output_type": "display_data"
    }
   ],
   "source": [
    "plt.hist(rides_go['distance'], bins=500, range=(1,5600))\n",
    "plt.title('Количество поездок в зависимости от расстояния ')\n",
    "plt.xlabel('Расстояние (м)')\n",
    "plt.ylabel('Количество поездок')\n",
    "plt.show()"
   ]
  },
  {
   "cell_type": "markdown",
   "id": "9f0b47e6",
   "metadata": {},
   "source": [
    "вывод:  пользователи за одну поездку преодолевают путь от 0.86м до 7211м.\n",
    "        Медиана всех значений равна 3134 м. \n",
    "        Наблюдаются два пика: 1-й пик ок. 700м, 2-й большой пик ок 3200м. \n",
    "        Между пиками значения нормально распределены."
   ]
  },
  {
   "cell_type": "markdown",
   "id": "b34c5b72",
   "metadata": {},
   "source": [
    "3.5 Продолжительность поездок"
   ]
  },
  {
   "cell_type": "code",
   "execution_count": 389,
   "id": "6b684d17",
   "metadata": {},
   "outputs": [
    {
     "data": {
      "text/plain": [
       "count    18068.000000\n",
       "mean        18.303520\n",
       "std          6.094928\n",
       "min          1.000000\n",
       "25%         14.000000\n",
       "50%         18.000000\n",
       "75%         22.000000\n",
       "max         41.000000\n",
       "Name: duration, dtype: float64"
      ]
     },
     "execution_count": 389,
     "metadata": {},
     "output_type": "execute_result"
    }
   ],
   "source": [
    "rides_go['duration'].describe()"
   ]
  },
  {
   "cell_type": "code",
   "execution_count": 390,
   "id": "ffb7d723",
   "metadata": {},
   "outputs": [
    {
     "data": {
      "image/png": "[encoded data removed]",
      "text/plain": [
       "<Figure size 432x288 with 1 Axes>"
      ]
     },
     "metadata": {
      "needs_background": "light"
     },
     "output_type": "display_data"
    }
   ],
   "source": [
    "plt.hist(rides_go['duration'], bins=100, range=(1,41))\n",
    "plt.title('Количество поездок в зависимости от продолжительности')\n",
    "plt.xlabel('Продолжительность поездки')\n",
    "plt.ylabel('Количество поездок')\n",
    "plt.show()"
   ]
  },
  {
   "cell_type": "code",
   "execution_count": 391,
   "id": "8af747a0",
   "metadata": {},
   "outputs": [
    {
     "data": {
      "image/png": "[encoded data removed]",
      "text/plain": [
       "<Figure size 432x288 with 1 Axes>"
      ]
     },
     "metadata": {
      "needs_background": "light"
     },
     "output_type": "display_data"
    }
   ],
   "source": [
    "plt.hist(rides_go['distance'] / rides_go['duration'])\n",
    "plt.title('Количество поездок с определенной скоростью')\n",
    "plt.xlabel('Расстояние / Время (М/Мин)')\n",
    "plt.ylabel('Количество поездок')\n",
    "plt.show()"
   ]
  },
  {
   "cell_type": "code",
   "execution_count": 392,
   "id": "93e733ed",
   "metadata": {
    "scrolled": false
   },
   "outputs": [
    {
     "data": {
      "image/png": "[encoded data removed]",
      "text/plain": [
       "<Figure size 432x288 with 1 Axes>"
      ]
     },
     "metadata": {
      "needs_background": "light"
     },
     "output_type": "display_data"
    }
   ],
   "source": [
    "plt.hist(rides_go['distance'] / rides_go['duration'], bins=100, range=(1000,7000))\n",
    "plt.title('Количество поездок с определенной скоростью')\n",
    "plt.xlabel('Расстояние / Время (М/Мин)')\n",
    "plt.ylabel('Количество поездок')\n",
    "plt.show()"
   ]
  },
  {
   "cell_type": "code",
   "execution_count": 393,
   "id": "6bc5d838",
   "metadata": {},
   "outputs": [
    {
     "name": "stdout",
     "output_type": "stream",
     "text": [
      "Максимальная скорость перемещения (м/мин) 7211.01\n"
     ]
    }
   ],
   "source": [
    "print('Максимальная скорость перемещения (м/мин)', (rides_go['distance'] / rides_go['duration']).max())"
   ]
  },
  {
   "cell_type": "markdown",
   "id": "e4c78f10",
   "metadata": {},
   "source": [
    "вывод: продолжительность поездок нормально распределена от 0 до 41 минуты. \n",
    "       Медиана поездок находится на 18 мин, первый квартиль- на 14 мин, третий квартиль -на 22 мин. \n",
    "       На гисторгамме замечено аномальное значение поездок порядка 100 со временем менее 1 мин,\n",
    "       но они не являются выбрасами, т.к. подкреплены данными о поездках со столь же маленькими дистанциями.\n",
    "       В некоторых случаях самокаты перемещались со средней скоростью  до 7211,01 м/мин, что практически невозможно.\n",
    "       О данной аномалии необходимо сообщить владельцам бизнеса для устранения. \n"
   ]
  },
  {
   "cell_type": "markdown",
   "id": "2815b393",
   "metadata": {},
   "source": [
    "Вывод по исследовательскму анализу\n",
    "\n",
    "1.Услугами сервиса аренды самокатов пользуются больше всего в южных городах, где сезон проката больше, но на второй позиции оказался уральский город Екатеринбург.Максимальное количество в 219 поездок совершено в Пятигорске. Минимальное количество в 168 поездок совершено в Москве.\n",
    "\n",
    "2.Количество пользователей без подписки free 54,4% превышает количество пользователей с подпиской ultra 45,6%.\n",
    "\n",
    "3.Количество пользователей в зависимости от возраста указывает, что средний возраст потребителя услуги подчиняется  нормальному распределению с медианой примерно в 25 лет, при этом средний возраст и медиана практически совпадают.\n",
    "  Услугами сервиса аренды самокатов пользуются люди от 12 до 43 лет.\n",
    "\n",
    "4.Пользователи за одну поездку преодолевают путь от 0.86м до 7211м. Медиана всех значений равна 3134 м. \n",
    "  Наблюдаются два пика: 1-й пик около 700м, 2-й большой пик около 3200м. \n",
    "  Между пиками значения нормально распределены.\n",
    "\n",
    "5.Продолжительность поездок нормально распределена от 0 до 41 минуты. \n",
    "  Медиана поездок находится на 18 мин, первый квартиль- на 14 мин, третий квартиль -на 22 мин. \n",
    "  Замечено аномальное значение поездок порядка 100 со временем менее 1 мин,но они не являются выбрасами, \n",
    "  т.к. подкреплены данными о поездках со столь же маленькими дистанциями.\n",
    "  В некоторых случаях самокаты перемещались со средней скоростью  до 7211,01 м/мин, что практически невозможно.\n",
    "  О данной аномалии необходимо сообщить владельцам бизнеса для устранения. \n",
    "\n",
    "\n",
    "\n",
    "\n",
    "\n",
    "\n"
   ]
  },
  {
   "cell_type": "markdown",
   "id": "4ef51331",
   "metadata": {},
   "source": [
    " Шаг 4. Объединение данных"
   ]
  },
  {
   "cell_type": "markdown",
   "id": "37e80ce5",
   "metadata": {},
   "source": [
    "4.1 Объединим данные о пользователях, поездках и подписках в один датафрейм. Для этого воспользуемся методом merge()."
   ]
  },
  {
   "cell_type": "code",
   "execution_count": 395,
   "id": "530b5564",
   "metadata": {},
   "outputs": [],
   "source": [
    "total_go = users_go.merge(rides_go, on='user_id').merge(subscriptions_go, on='subscription_type')"
   ]
  },
  {
   "cell_type": "code",
   "execution_count": 396,
   "id": "ae13c723",
   "metadata": {},
   "outputs": [
    {
     "data": {
      "text/html": [
       "<div>\n",
       "<style scoped>\n",
       "    .dataframe tbody tr th:only-of-type {\n",
       "        vertical-align: middle;\n",
       "    }\n",
       "\n",
       "    .dataframe tbody tr th {\n",
       "        vertical-align: top;\n",
       "    }\n",
       "\n",
       "    .dataframe thead th {\n",
       "        text-align: right;\n",
       "    }\n",
       "</style>\n",
       "<table border=\"1\" class=\"dataframe\">\n",
       "  <thead>\n",
       "    <tr style=\"text-align: right;\">\n",
       "      <th></th>\n",
       "      <th>user_id</th>\n",
       "      <th>name</th>\n",
       "      <th>age</th>\n",
       "      <th>city</th>\n",
       "      <th>subscription_type</th>\n",
       "      <th>distance</th>\n",
       "      <th>duration</th>\n",
       "      <th>date</th>\n",
       "      <th>month</th>\n",
       "      <th>minute_price</th>\n",
       "      <th>start_ride_price</th>\n",
       "      <th>subscription_fee</th>\n",
       "    </tr>\n",
       "  </thead>\n",
       "  <tbody>\n",
       "    <tr>\n",
       "      <th>0</th>\n",
       "      <td>1</td>\n",
       "      <td>Кира</td>\n",
       "      <td>22</td>\n",
       "      <td>Тюмень</td>\n",
       "      <td>True</td>\n",
       "      <td>4409.92</td>\n",
       "      <td>26</td>\n",
       "      <td>2021-01-01</td>\n",
       "      <td>1</td>\n",
       "      <td>6</td>\n",
       "      <td>0</td>\n",
       "      <td>199</td>\n",
       "    </tr>\n",
       "    <tr>\n",
       "      <th>1</th>\n",
       "      <td>1</td>\n",
       "      <td>Кира</td>\n",
       "      <td>22</td>\n",
       "      <td>Тюмень</td>\n",
       "      <td>True</td>\n",
       "      <td>2617.59</td>\n",
       "      <td>16</td>\n",
       "      <td>2021-01-18</td>\n",
       "      <td>1</td>\n",
       "      <td>6</td>\n",
       "      <td>0</td>\n",
       "      <td>199</td>\n",
       "    </tr>\n",
       "    <tr>\n",
       "      <th>2</th>\n",
       "      <td>1</td>\n",
       "      <td>Кира</td>\n",
       "      <td>22</td>\n",
       "      <td>Тюмень</td>\n",
       "      <td>True</td>\n",
       "      <td>754.16</td>\n",
       "      <td>7</td>\n",
       "      <td>2021-04-20</td>\n",
       "      <td>4</td>\n",
       "      <td>6</td>\n",
       "      <td>0</td>\n",
       "      <td>199</td>\n",
       "    </tr>\n",
       "    <tr>\n",
       "      <th>3</th>\n",
       "      <td>1</td>\n",
       "      <td>Кира</td>\n",
       "      <td>22</td>\n",
       "      <td>Тюмень</td>\n",
       "      <td>True</td>\n",
       "      <td>2694.78</td>\n",
       "      <td>19</td>\n",
       "      <td>2021-08-11</td>\n",
       "      <td>8</td>\n",
       "      <td>6</td>\n",
       "      <td>0</td>\n",
       "      <td>199</td>\n",
       "    </tr>\n",
       "    <tr>\n",
       "      <th>4</th>\n",
       "      <td>1</td>\n",
       "      <td>Кира</td>\n",
       "      <td>22</td>\n",
       "      <td>Тюмень</td>\n",
       "      <td>True</td>\n",
       "      <td>4028.69</td>\n",
       "      <td>27</td>\n",
       "      <td>2021-08-28</td>\n",
       "      <td>8</td>\n",
       "      <td>6</td>\n",
       "      <td>0</td>\n",
       "      <td>199</td>\n",
       "    </tr>\n",
       "  </tbody>\n",
       "</table>\n",
       "</div>"
      ],
      "text/plain": [
       "   user_id  name  age    city  subscription_type  distance  duration  \\\n",
       "0        1  Кира   22  Тюмень               True   4409.92        26   \n",
       "1        1  Кира   22  Тюмень               True   2617.59        16   \n",
       "2        1  Кира   22  Тюмень               True    754.16         7   \n",
       "3        1  Кира   22  Тюмень               True   2694.78        19   \n",
       "4        1  Кира   22  Тюмень               True   4028.69        27   \n",
       "\n",
       "        date  month  minute_price  start_ride_price  subscription_fee  \n",
       "0 2021-01-01      1             6                 0               199  \n",
       "1 2021-01-18      1             6                 0               199  \n",
       "2 2021-04-20      4             6                 0               199  \n",
       "3 2021-08-11      8             6                 0               199  \n",
       "4 2021-08-28      8             6                 0               199  "
      ]
     },
     "execution_count": 396,
     "metadata": {},
     "output_type": "execute_result"
    }
   ],
   "source": [
    "total_go.head()"
   ]
  },
  {
   "cell_type": "code",
   "execution_count": 397,
   "id": "56f958f3",
   "metadata": {
    "scrolled": true
   },
   "outputs": [
    {
     "name": "stdout",
     "output_type": "stream",
     "text": [
      "Количество строк (поездок) в 'rides_go': 18068\n",
      "Количество строк (поездок) в 'total_go': 18068\n",
      "\n",
      "Количество уникальных пользователей в 'users_go': 1534\n",
      "Количество уникальных пользователей в 'total_go': 1534\n"
     ]
    }
   ],
   "source": [
    "print(\"Количество строк (поездок) в 'rides_go':\", rides_go['user_id'].count())\n",
    "print(\"Количество строк (поездок) в 'total_go':\", total_go['user_id'].count())\n",
    "print()\n",
    "print(\"Количество уникальных пользователей в 'users_go':\", len(users_go['user_id'].unique()))\n",
    "print(\"Количество уникальных пользователей в 'total_go':\", len(total_go['user_id'].unique()))"
   ]
  },
  {
   "cell_type": "markdown",
   "id": "2ff2da73",
   "metadata": {},
   "source": [
    "Количество строк (записей о поездках) в ‘rides_go’ и в ‘total_go’ одинаково и равно 18068; \n",
    "Количество уникальных пользователей в ‘users_go’ и в ‘total_go’ одинаково и равно 1534.\n",
    "\n",
    "Исходные датафреймы не содержали пропусков и количество значений в них соответствует количеству в итоговом датафрейме total_go."
   ]
  },
  {
   "cell_type": "markdown",
   "id": "8be1d40f",
   "metadata": {},
   "source": [
    "4.2.Создание двух датафреймов с пользователями,имеющими подписку и без нее,на основе общего датафрейма"
   ]
  },
  {
   "cell_type": "markdown",
   "id": "1add9027",
   "metadata": {},
   "source": [
    "4.2.1 Датафрейм данных о пользователяхс подпиской"
   ]
  },
  {
   "cell_type": "code",
   "execution_count": 398,
   "id": "d7625583",
   "metadata": {},
   "outputs": [
    {
     "data": {
      "text/html": [
       "<div>\n",
       "<style scoped>\n",
       "    .dataframe tbody tr th:only-of-type {\n",
       "        vertical-align: middle;\n",
       "    }\n",
       "\n",
       "    .dataframe tbody tr th {\n",
       "        vertical-align: top;\n",
       "    }\n",
       "\n",
       "    .dataframe thead th {\n",
       "        text-align: right;\n",
       "    }\n",
       "</style>\n",
       "<table border=\"1\" class=\"dataframe\">\n",
       "  <thead>\n",
       "    <tr style=\"text-align: right;\">\n",
       "      <th></th>\n",
       "      <th>user_id</th>\n",
       "      <th>name</th>\n",
       "      <th>age</th>\n",
       "      <th>city</th>\n",
       "      <th>subscription_type</th>\n",
       "      <th>distance</th>\n",
       "      <th>duration</th>\n",
       "      <th>date</th>\n",
       "      <th>month</th>\n",
       "      <th>minute_price</th>\n",
       "      <th>start_ride_price</th>\n",
       "      <th>subscription_fee</th>\n",
       "    </tr>\n",
       "  </thead>\n",
       "  <tbody>\n",
       "    <tr>\n",
       "      <th>0</th>\n",
       "      <td>1</td>\n",
       "      <td>Кира</td>\n",
       "      <td>22</td>\n",
       "      <td>Тюмень</td>\n",
       "      <td>True</td>\n",
       "      <td>4409.92</td>\n",
       "      <td>26</td>\n",
       "      <td>2021-01-01</td>\n",
       "      <td>1</td>\n",
       "      <td>6</td>\n",
       "      <td>0</td>\n",
       "      <td>199</td>\n",
       "    </tr>\n",
       "    <tr>\n",
       "      <th>1</th>\n",
       "      <td>1</td>\n",
       "      <td>Кира</td>\n",
       "      <td>22</td>\n",
       "      <td>Тюмень</td>\n",
       "      <td>True</td>\n",
       "      <td>2617.59</td>\n",
       "      <td>16</td>\n",
       "      <td>2021-01-18</td>\n",
       "      <td>1</td>\n",
       "      <td>6</td>\n",
       "      <td>0</td>\n",
       "      <td>199</td>\n",
       "    </tr>\n",
       "    <tr>\n",
       "      <th>2</th>\n",
       "      <td>1</td>\n",
       "      <td>Кира</td>\n",
       "      <td>22</td>\n",
       "      <td>Тюмень</td>\n",
       "      <td>True</td>\n",
       "      <td>754.16</td>\n",
       "      <td>7</td>\n",
       "      <td>2021-04-20</td>\n",
       "      <td>4</td>\n",
       "      <td>6</td>\n",
       "      <td>0</td>\n",
       "      <td>199</td>\n",
       "    </tr>\n",
       "    <tr>\n",
       "      <th>3</th>\n",
       "      <td>1</td>\n",
       "      <td>Кира</td>\n",
       "      <td>22</td>\n",
       "      <td>Тюмень</td>\n",
       "      <td>True</td>\n",
       "      <td>2694.78</td>\n",
       "      <td>19</td>\n",
       "      <td>2021-08-11</td>\n",
       "      <td>8</td>\n",
       "      <td>6</td>\n",
       "      <td>0</td>\n",
       "      <td>199</td>\n",
       "    </tr>\n",
       "    <tr>\n",
       "      <th>4</th>\n",
       "      <td>1</td>\n",
       "      <td>Кира</td>\n",
       "      <td>22</td>\n",
       "      <td>Тюмень</td>\n",
       "      <td>True</td>\n",
       "      <td>4028.69</td>\n",
       "      <td>27</td>\n",
       "      <td>2021-08-28</td>\n",
       "      <td>8</td>\n",
       "      <td>6</td>\n",
       "      <td>0</td>\n",
       "      <td>199</td>\n",
       "    </tr>\n",
       "  </tbody>\n",
       "</table>\n",
       "</div>"
      ],
      "text/plain": [
       "   user_id  name  age    city  subscription_type  distance  duration  \\\n",
       "0        1  Кира   22  Тюмень               True   4409.92        26   \n",
       "1        1  Кира   22  Тюмень               True   2617.59        16   \n",
       "2        1  Кира   22  Тюмень               True    754.16         7   \n",
       "3        1  Кира   22  Тюмень               True   2694.78        19   \n",
       "4        1  Кира   22  Тюмень               True   4028.69        27   \n",
       "\n",
       "        date  month  minute_price  start_ride_price  subscription_fee  \n",
       "0 2021-01-01      1             6                 0               199  \n",
       "1 2021-01-18      1             6                 0               199  \n",
       "2 2021-04-20      4             6                 0               199  \n",
       "3 2021-08-11      8             6                 0               199  \n",
       "4 2021-08-28      8             6                 0               199  "
      ]
     },
     "execution_count": 398,
     "metadata": {},
     "output_type": "execute_result"
    }
   ],
   "source": [
    "ultra_go = total_go.loc[total_go['subscription_type'] == True]\n",
    "ultra_go.head()"
   ]
  },
  {
   "cell_type": "markdown",
   "id": "2d9af705",
   "metadata": {},
   "source": [
    "4.2.2 Датафрейм данных о пользователях без подписки"
   ]
  },
  {
   "cell_type": "code",
   "execution_count": 399,
   "id": "4904dd2d",
   "metadata": {
    "scrolled": true
   },
   "outputs": [
    {
     "data": {
      "text/html": [
       "<div>\n",
       "<style scoped>\n",
       "    .dataframe tbody tr th:only-of-type {\n",
       "        vertical-align: middle;\n",
       "    }\n",
       "\n",
       "    .dataframe tbody tr th {\n",
       "        vertical-align: top;\n",
       "    }\n",
       "\n",
       "    .dataframe thead th {\n",
       "        text-align: right;\n",
       "    }\n",
       "</style>\n",
       "<table border=\"1\" class=\"dataframe\">\n",
       "  <thead>\n",
       "    <tr style=\"text-align: right;\">\n",
       "      <th></th>\n",
       "      <th>user_id</th>\n",
       "      <th>name</th>\n",
       "      <th>age</th>\n",
       "      <th>city</th>\n",
       "      <th>subscription_type</th>\n",
       "      <th>distance</th>\n",
       "      <th>duration</th>\n",
       "      <th>date</th>\n",
       "      <th>month</th>\n",
       "      <th>minute_price</th>\n",
       "      <th>start_ride_price</th>\n",
       "      <th>subscription_fee</th>\n",
       "    </tr>\n",
       "  </thead>\n",
       "  <tbody>\n",
       "    <tr>\n",
       "      <th>6500</th>\n",
       "      <td>700</td>\n",
       "      <td>Айдар</td>\n",
       "      <td>22</td>\n",
       "      <td>Омск</td>\n",
       "      <td>False</td>\n",
       "      <td>2515.69</td>\n",
       "      <td>15</td>\n",
       "      <td>2021-01-02</td>\n",
       "      <td>1</td>\n",
       "      <td>8</td>\n",
       "      <td>50</td>\n",
       "      <td>0</td>\n",
       "    </tr>\n",
       "    <tr>\n",
       "      <th>6501</th>\n",
       "      <td>700</td>\n",
       "      <td>Айдар</td>\n",
       "      <td>22</td>\n",
       "      <td>Омск</td>\n",
       "      <td>False</td>\n",
       "      <td>846.93</td>\n",
       "      <td>17</td>\n",
       "      <td>2021-02-01</td>\n",
       "      <td>2</td>\n",
       "      <td>8</td>\n",
       "      <td>50</td>\n",
       "      <td>0</td>\n",
       "    </tr>\n",
       "    <tr>\n",
       "      <th>6502</th>\n",
       "      <td>700</td>\n",
       "      <td>Айдар</td>\n",
       "      <td>22</td>\n",
       "      <td>Омск</td>\n",
       "      <td>False</td>\n",
       "      <td>4004.43</td>\n",
       "      <td>21</td>\n",
       "      <td>2021-02-04</td>\n",
       "      <td>2</td>\n",
       "      <td>8</td>\n",
       "      <td>50</td>\n",
       "      <td>0</td>\n",
       "    </tr>\n",
       "    <tr>\n",
       "      <th>6503</th>\n",
       "      <td>700</td>\n",
       "      <td>Айдар</td>\n",
       "      <td>22</td>\n",
       "      <td>Омск</td>\n",
       "      <td>False</td>\n",
       "      <td>1205.91</td>\n",
       "      <td>10</td>\n",
       "      <td>2021-02-10</td>\n",
       "      <td>2</td>\n",
       "      <td>8</td>\n",
       "      <td>50</td>\n",
       "      <td>0</td>\n",
       "    </tr>\n",
       "    <tr>\n",
       "      <th>6504</th>\n",
       "      <td>700</td>\n",
       "      <td>Айдар</td>\n",
       "      <td>22</td>\n",
       "      <td>Омск</td>\n",
       "      <td>False</td>\n",
       "      <td>3047.38</td>\n",
       "      <td>18</td>\n",
       "      <td>2021-02-14</td>\n",
       "      <td>2</td>\n",
       "      <td>8</td>\n",
       "      <td>50</td>\n",
       "      <td>0</td>\n",
       "    </tr>\n",
       "  </tbody>\n",
       "</table>\n",
       "</div>"
      ],
      "text/plain": [
       "      user_id   name  age  city  subscription_type  distance  duration  \\\n",
       "6500      700  Айдар   22  Омск              False   2515.69        15   \n",
       "6501      700  Айдар   22  Омск              False    846.93        17   \n",
       "6502      700  Айдар   22  Омск              False   4004.43        21   \n",
       "6503      700  Айдар   22  Омск              False   1205.91        10   \n",
       "6504      700  Айдар   22  Омск              False   3047.38        18   \n",
       "\n",
       "           date  month  minute_price  start_ride_price  subscription_fee  \n",
       "6500 2021-01-02      1             8                50                 0  \n",
       "6501 2021-02-01      2             8                50                 0  \n",
       "6502 2021-02-04      2             8                50                 0  \n",
       "6503 2021-02-10      2             8                50                 0  \n",
       "6504 2021-02-14      2             8                50                 0  "
      ]
     },
     "execution_count": 399,
     "metadata": {},
     "output_type": "execute_result"
    }
   ],
   "source": [
    "free_go = total_go.loc[total_go['subscription_type'] == False]\n",
    "free_go.head()"
   ]
  },
  {
   "cell_type": "markdown",
   "id": "6a254f84",
   "metadata": {},
   "source": [
    "4.3 Визуализируем информацию о расстоянии и времени поездок для пользователей обеих категорий.\n"
   ]
  },
  {
   "cell_type": "code",
   "execution_count": 400,
   "id": "b4cd3177",
   "metadata": {},
   "outputs": [
    {
     "data": {
      "image/png": "[encoded data removed]",
      "text/plain": [
       "<Figure size 432x288 with 1 Axes>"
      ]
     },
     "metadata": {
      "needs_background": "light"
     },
     "output_type": "display_data"
    }
   ],
   "source": [
    "plt.hist([free_go['distance'], ultra_go['distance']], bins=50, range=(1,5600), label=['free', 'ultra'])\n",
    "plt.legend(loc='upper right')\n",
    "plt.title('Количество поездок в зависимости расстояния')\n",
    "plt.xlabel('Расстояние(м)')\n",
    "plt.ylabel('Количество поездок')\n",
    "plt.show()"
   ]
  },
  {
   "cell_type": "code",
   "execution_count": 401,
   "id": "eb377f8d",
   "metadata": {},
   "outputs": [
    {
     "data": {
      "text/plain": [
       "count    11568.000000\n",
       "mean      3045.495284\n",
       "std       1246.173810\n",
       "min          0.860000\n",
       "25%       2366.560000\n",
       "50%       3114.650000\n",
       "75%       3905.695000\n",
       "max       7211.010000\n",
       "Name: distance, dtype: float64"
      ]
     },
     "execution_count": 401,
     "metadata": {},
     "output_type": "execute_result"
    }
   ],
   "source": [
    "free_go['distance'].describe()"
   ]
  },
  {
   "cell_type": "code",
   "execution_count": 402,
   "id": "2ef9609c",
   "metadata": {},
   "outputs": [
    {
     "data": {
      "text/plain": [
       "count    6500.000000\n",
       "mean     3115.445431\n",
       "std       836.895369\n",
       "min       244.210000\n",
       "25%      2785.447500\n",
       "50%      3148.640000\n",
       "75%      3560.577500\n",
       "max      5699.770000\n",
       "Name: distance, dtype: float64"
      ]
     },
     "execution_count": 402,
     "metadata": {},
     "output_type": "execute_result"
    }
   ],
   "source": [
    "ultra_go['distance'].describe()"
   ]
  },
  {
   "cell_type": "markdown",
   "id": "1a382f9b",
   "metadata": {},
   "source": [
    "Вывод: Дистанция поездок при использовании подписки ‘free’ более разнообразна. \n",
    "       максимальная дистанция больше на 1511 метров, а минимальная на 243 метра меньше, чем при  \n",
    "       использовании подписки ‘ultra’. Об этом же свидетельствует и стандартное отклонение, которое \n",
    "       при использовании подписки ‘free’ больше на 409 метров, чем при использовании подписки ‘ultra’. \n",
    "       Средняя дистанция при использовании подписки ‘free’ короче. \n",
    "       Это следует из того, что среднее значениее на 70 метров, а медиана на 34 метра, меньше, чем \n",
    "       при использовании ‘ultra’.\n",
    "       При использовании обеих подписок наблюдается два пика:первый небольшой пик на меньших дистанциях и \n",
    "       второй основной пик на больших дистанциях. \n",
    "       Меньший пик ‘ultra’ находится в районе 1000м, а основной примерно 3100м с небольшой коррекцией около \n",
    "       4000м."
   ]
  },
  {
   "cell_type": "code",
   "execution_count": 403,
   "id": "f75a12fa",
   "metadata": {},
   "outputs": [
    {
     "data": {
      "image/png": "[encoded data removed]",
      "text/plain": [
       "<Figure size 432x288 with 1 Axes>"
      ]
     },
     "metadata": {
      "needs_background": "light"
     },
     "output_type": "display_data"
    }
   ],
   "source": [
    "plt.hist([free_go['duration'], ultra_go['duration']], bins=30, range=(1,30), label=['free', 'ultra'])\n",
    "plt.legend(loc='upper right')\n",
    "plt.title('Количество поездок в зависимости от продолжительности')\n",
    "plt.xlabel('Продолжительность поездки')\n",
    "plt.ylabel('Количество поездок')\n",
    "plt.show()"
   ]
  },
  {
   "cell_type": "code",
   "execution_count": 404,
   "id": "6e03f2e7",
   "metadata": {},
   "outputs": [
    {
     "data": {
      "text/plain": [
       "count    11568.000000\n",
       "mean        17.890992\n",
       "std          6.330250\n",
       "min          1.000000\n",
       "25%         13.000000\n",
       "50%         18.000000\n",
       "75%         22.000000\n",
       "max         35.000000\n",
       "Name: duration, dtype: float64"
      ]
     },
     "execution_count": 404,
     "metadata": {},
     "output_type": "execute_result"
    }
   ],
   "source": [
    "free_go['duration'].describe()"
   ]
  },
  {
   "cell_type": "code",
   "execution_count": 405,
   "id": "dba2f1d4",
   "metadata": {},
   "outputs": [
    {
     "data": {
      "text/plain": [
       "count    6500.000000\n",
       "mean       19.037692\n",
       "std         5.577439\n",
       "min         4.000000\n",
       "25%        15.000000\n",
       "50%        19.000000\n",
       "75%        22.000000\n",
       "max        41.000000\n",
       "Name: duration, dtype: float64"
      ]
     },
     "execution_count": 405,
     "metadata": {},
     "output_type": "execute_result"
    }
   ],
   "source": [
    "ultra_go['duration'].describe()"
   ]
  },
  {
   "cell_type": "markdown",
   "id": "87fc836c",
   "metadata": {},
   "source": [
    "Вывод: продолжительность поездок при использовании подписки ‘free’ немного меньше по всем показателям, \n",
    "       чем при использовании ‘ultra’. \n",
    "       Минимальное время меньше на 3 мин, а максимальное меньше на 6 мин.\n",
    "       В обоих случаях количество поездок относительно нормально распределено в зависимости от их продолжительности. \n",
    "       Пик количества поездок приходится на 17-18 минут. \n",
    "       При использовании подписки ‘free’ наблюдается пик в около 100 поездок с продолжительностью около 1 мин.\n"
   ]
  },
  {
   "cell_type": "markdown",
   "id": "0cbb4993",
   "metadata": {},
   "source": [
    "ВЫВОД: Подписка влияет на расстояние поездок и на время в пути.\n",
    "       Пользователи с бесплатным тарифом 'free' в основном совершают поездки дольше, \n",
    "       и проезжают большее расстояние, чем пользователи на платном тарифе 'ultra'.\n",
    "\n"
   ]
  },
  {
   "cell_type": "markdown",
   "id": "402d620f",
   "metadata": {},
   "source": [
    "#### Шаг 5. Подсчёт выручки"
   ]
  },
  {
   "cell_type": "markdown",
   "id": "58a1dd0f",
   "metadata": {},
   "source": [
    "5.1 Создадим датафрейм с агрегированными данными о поездках на основе датафрейма с объединёнными данными \n",
    "    из шага 4: найдем суммарное расстояние, количество поездок и суммарное время для каждого пользователя \n",
    "    за каждый месяц.\n"
   ]
  },
  {
   "cell_type": "markdown",
   "id": "3d9493af",
   "metadata": {},
   "source": [
    "Создание сводной таблицы"
   ]
  },
  {
   "cell_type": "code",
   "execution_count": 406,
   "id": "4f0a31b8",
   "metadata": {
    "scrolled": false
   },
   "outputs": [],
   "source": [
    "total_go['duration'] = np.ceil(total_go['duration'])# Округление продолжительности поездок в 'duration'\n",
    "                                                    \n",
    "users_months_go = total_go.pivot_table(\n",
    "    index=('user_id', 'month'), \n",
    "    values=(\n",
    "        'distance', \n",
    "        'duration', \n",
    "        'minute_price', \n",
    "        'start_ride_price', \n",
    "        'subscription_fee'\n",
    "    ), \n",
    "    aggfunc=('count', 'sum'))\n",
    "\n",
    "# Переименование \"двухэтажных\" названий столбцов\n",
    "users_months_go.columns = [\n",
    "    'count', 'distance', \n",
    "    'count2', 'duration', \n",
    "    'count3', 'minute_price',\n",
    "    'count4', 'start_ride_price', \n",
    "    'count5', 'subscription_fee'\n",
    "]\n"
   ]
  },
  {
   "cell_type": "markdown",
   "id": "55b4564d",
   "metadata": {},
   "source": [
    "Удаление дублирующих столбцов с подсчитанным количеством строк "
   ]
  },
  {
   "cell_type": "code",
   "execution_count": 407,
   "id": "315c83b3",
   "metadata": {},
   "outputs": [],
   "source": [
    "users_months_go = users_months_go.drop(['count2', 'count3', 'count4', 'count5'], axis=1)"
   ]
  },
  {
   "cell_type": "markdown",
   "id": "cf25152d",
   "metadata": {},
   "source": [
    "Приведем столбцов с ценами к целевому состоянию"
   ]
  },
  {
   "cell_type": "code",
   "execution_count": 408,
   "id": "1d3cf9b2",
   "metadata": {},
   "outputs": [
    {
     "data": {
      "text/html": [
       "<div>\n",
       "<style scoped>\n",
       "    .dataframe tbody tr th:only-of-type {\n",
       "        vertical-align: middle;\n",
       "    }\n",
       "\n",
       "    .dataframe tbody tr th {\n",
       "        vertical-align: top;\n",
       "    }\n",
       "\n",
       "    .dataframe thead th {\n",
       "        text-align: right;\n",
       "    }\n",
       "</style>\n",
       "<table border=\"1\" class=\"dataframe\">\n",
       "  <thead>\n",
       "    <tr style=\"text-align: right;\">\n",
       "      <th></th>\n",
       "      <th></th>\n",
       "      <th>count</th>\n",
       "      <th>distance</th>\n",
       "      <th>duration</th>\n",
       "      <th>minute_price</th>\n",
       "      <th>start_ride_price</th>\n",
       "      <th>subscription_fee</th>\n",
       "    </tr>\n",
       "    <tr>\n",
       "      <th>user_id</th>\n",
       "      <th>month</th>\n",
       "      <th></th>\n",
       "      <th></th>\n",
       "      <th></th>\n",
       "      <th></th>\n",
       "      <th></th>\n",
       "      <th></th>\n",
       "    </tr>\n",
       "  </thead>\n",
       "  <tbody>\n",
       "    <tr>\n",
       "      <th rowspan=\"5\" valign=\"top\">1</th>\n",
       "      <th>1</th>\n",
       "      <td>2</td>\n",
       "      <td>7027.51</td>\n",
       "      <td>42.0</td>\n",
       "      <td>6.0</td>\n",
       "      <td>0.0</td>\n",
       "      <td>199.0</td>\n",
       "    </tr>\n",
       "    <tr>\n",
       "      <th>4</th>\n",
       "      <td>1</td>\n",
       "      <td>754.16</td>\n",
       "      <td>7.0</td>\n",
       "      <td>6.0</td>\n",
       "      <td>0.0</td>\n",
       "      <td>199.0</td>\n",
       "    </tr>\n",
       "    <tr>\n",
       "      <th>8</th>\n",
       "      <td>2</td>\n",
       "      <td>6723.47</td>\n",
       "      <td>46.0</td>\n",
       "      <td>6.0</td>\n",
       "      <td>0.0</td>\n",
       "      <td>199.0</td>\n",
       "    </tr>\n",
       "    <tr>\n",
       "      <th>10</th>\n",
       "      <td>2</td>\n",
       "      <td>5809.91</td>\n",
       "      <td>32.0</td>\n",
       "      <td>6.0</td>\n",
       "      <td>0.0</td>\n",
       "      <td>199.0</td>\n",
       "    </tr>\n",
       "    <tr>\n",
       "      <th>11</th>\n",
       "      <td>3</td>\n",
       "      <td>7003.50</td>\n",
       "      <td>56.0</td>\n",
       "      <td>6.0</td>\n",
       "      <td>0.0</td>\n",
       "      <td>199.0</td>\n",
       "    </tr>\n",
       "    <tr>\n",
       "      <th>...</th>\n",
       "      <th>...</th>\n",
       "      <td>...</td>\n",
       "      <td>...</td>\n",
       "      <td>...</td>\n",
       "      <td>...</td>\n",
       "      <td>...</td>\n",
       "      <td>...</td>\n",
       "    </tr>\n",
       "    <tr>\n",
       "      <th rowspan=\"5\" valign=\"top\">1534</th>\n",
       "      <th>6</th>\n",
       "      <td>2</td>\n",
       "      <td>3409.47</td>\n",
       "      <td>26.0</td>\n",
       "      <td>8.0</td>\n",
       "      <td>50.0</td>\n",
       "      <td>0.0</td>\n",
       "    </tr>\n",
       "    <tr>\n",
       "      <th>8</th>\n",
       "      <td>2</td>\n",
       "      <td>7622.45</td>\n",
       "      <td>48.0</td>\n",
       "      <td>8.0</td>\n",
       "      <td>50.0</td>\n",
       "      <td>0.0</td>\n",
       "    </tr>\n",
       "    <tr>\n",
       "      <th>9</th>\n",
       "      <td>1</td>\n",
       "      <td>4928.17</td>\n",
       "      <td>23.0</td>\n",
       "      <td>8.0</td>\n",
       "      <td>50.0</td>\n",
       "      <td>0.0</td>\n",
       "    </tr>\n",
       "    <tr>\n",
       "      <th>11</th>\n",
       "      <td>4</td>\n",
       "      <td>13350.02</td>\n",
       "      <td>78.0</td>\n",
       "      <td>8.0</td>\n",
       "      <td>50.0</td>\n",
       "      <td>0.0</td>\n",
       "    </tr>\n",
       "    <tr>\n",
       "      <th>12</th>\n",
       "      <td>1</td>\n",
       "      <td>2371.71</td>\n",
       "      <td>16.0</td>\n",
       "      <td>8.0</td>\n",
       "      <td>50.0</td>\n",
       "      <td>0.0</td>\n",
       "    </tr>\n",
       "  </tbody>\n",
       "</table>\n",
       "<p>11331 rows × 6 columns</p>\n",
       "</div>"
      ],
      "text/plain": [
       "               count  distance  duration  minute_price  start_ride_price  \\\n",
       "user_id month                                                              \n",
       "1       1          2   7027.51      42.0           6.0               0.0   \n",
       "        4          1    754.16       7.0           6.0               0.0   \n",
       "        8          2   6723.47      46.0           6.0               0.0   \n",
       "        10         2   5809.91      32.0           6.0               0.0   \n",
       "        11         3   7003.50      56.0           6.0               0.0   \n",
       "...              ...       ...       ...           ...               ...   \n",
       "1534    6          2   3409.47      26.0           8.0              50.0   \n",
       "        8          2   7622.45      48.0           8.0              50.0   \n",
       "        9          1   4928.17      23.0           8.0              50.0   \n",
       "        11         4  13350.02      78.0           8.0              50.0   \n",
       "        12         1   2371.71      16.0           8.0              50.0   \n",
       "\n",
       "               subscription_fee  \n",
       "user_id month                    \n",
       "1       1                 199.0  \n",
       "        4                 199.0  \n",
       "        8                 199.0  \n",
       "        10                199.0  \n",
       "        11                199.0  \n",
       "...                         ...  \n",
       "1534    6                   0.0  \n",
       "        8                   0.0  \n",
       "        9                   0.0  \n",
       "        11                  0.0  \n",
       "        12                  0.0  \n",
       "\n",
       "[11331 rows x 6 columns]"
      ]
     },
     "execution_count": 408,
     "metadata": {},
     "output_type": "execute_result"
    }
   ],
   "source": [
    "users_months_go['start_ride_price'] = users_months_go['start_ride_price'] / users_months_go['count']\n",
    "\n",
    "users_months_go['minute_price'] = users_months_go['minute_price'] / users_months_go['count']\n",
    "\n",
    "users_months_go['subscription_fee'] = users_months_go['subscription_fee'] / users_months_go['count']\n",
    "\n",
    "users_months_go"
   ]
  },
  {
   "cell_type": "markdown",
   "id": "05227afa",
   "metadata": {},
   "source": [
    "5.2 В этот же датафрейм добавим столбец с помесячной выручкой"
   ]
  },
  {
   "cell_type": "markdown",
   "id": "c9a0d7a4",
   "metadata": {},
   "source": [
    "Найдем суммарное расстояние, количество поeздок и суммарное время для каждого пользователя за каждый месяц"
   ]
  },
  {
   "cell_type": "markdown",
   "id": "47f0e451",
   "metadata": {},
   "source": [
    "Расчет и округление выручки"
   ]
  },
  {
   "cell_type": "code",
   "execution_count": 409,
   "id": "d8545e03",
   "metadata": {
    "scrolled": true
   },
   "outputs": [
    {
     "data": {
      "text/html": [
       "<div>\n",
       "<style scoped>\n",
       "    .dataframe tbody tr th:only-of-type {\n",
       "        vertical-align: middle;\n",
       "    }\n",
       "\n",
       "    .dataframe tbody tr th {\n",
       "        vertical-align: top;\n",
       "    }\n",
       "\n",
       "    .dataframe thead th {\n",
       "        text-align: right;\n",
       "    }\n",
       "</style>\n",
       "<table border=\"1\" class=\"dataframe\">\n",
       "  <thead>\n",
       "    <tr style=\"text-align: right;\">\n",
       "      <th></th>\n",
       "      <th></th>\n",
       "      <th>count</th>\n",
       "      <th>distance</th>\n",
       "      <th>duration</th>\n",
       "      <th>subscription_fee</th>\n",
       "      <th>revenue</th>\n",
       "    </tr>\n",
       "    <tr>\n",
       "      <th>user_id</th>\n",
       "      <th>month</th>\n",
       "      <th></th>\n",
       "      <th></th>\n",
       "      <th></th>\n",
       "      <th></th>\n",
       "      <th></th>\n",
       "    </tr>\n",
       "  </thead>\n",
       "  <tbody>\n",
       "    <tr>\n",
       "      <th rowspan=\"6\" valign=\"top\">1</th>\n",
       "      <th>1</th>\n",
       "      <td>2</td>\n",
       "      <td>7027.51</td>\n",
       "      <td>42.0</td>\n",
       "      <td>199.0</td>\n",
       "      <td>451</td>\n",
       "    </tr>\n",
       "    <tr>\n",
       "      <th>4</th>\n",
       "      <td>1</td>\n",
       "      <td>754.16</td>\n",
       "      <td>7.0</td>\n",
       "      <td>199.0</td>\n",
       "      <td>241</td>\n",
       "    </tr>\n",
       "    <tr>\n",
       "      <th>8</th>\n",
       "      <td>2</td>\n",
       "      <td>6723.47</td>\n",
       "      <td>46.0</td>\n",
       "      <td>199.0</td>\n",
       "      <td>475</td>\n",
       "    </tr>\n",
       "    <tr>\n",
       "      <th>10</th>\n",
       "      <td>2</td>\n",
       "      <td>5809.91</td>\n",
       "      <td>32.0</td>\n",
       "      <td>199.0</td>\n",
       "      <td>391</td>\n",
       "    </tr>\n",
       "    <tr>\n",
       "      <th>11</th>\n",
       "      <td>3</td>\n",
       "      <td>7003.50</td>\n",
       "      <td>56.0</td>\n",
       "      <td>199.0</td>\n",
       "      <td>535</td>\n",
       "    </tr>\n",
       "    <tr>\n",
       "      <th>12</th>\n",
       "      <td>2</td>\n",
       "      <td>6751.63</td>\n",
       "      <td>28.0</td>\n",
       "      <td>199.0</td>\n",
       "      <td>367</td>\n",
       "    </tr>\n",
       "    <tr>\n",
       "      <th rowspan=\"4\" valign=\"top\">2</th>\n",
       "      <th>3</th>\n",
       "      <td>3</td>\n",
       "      <td>10187.73</td>\n",
       "      <td>63.0</td>\n",
       "      <td>199.0</td>\n",
       "      <td>577</td>\n",
       "    </tr>\n",
       "    <tr>\n",
       "      <th>4</th>\n",
       "      <td>2</td>\n",
       "      <td>6164.39</td>\n",
       "      <td>40.0</td>\n",
       "      <td>199.0</td>\n",
       "      <td>439</td>\n",
       "    </tr>\n",
       "    <tr>\n",
       "      <th>6</th>\n",
       "      <td>1</td>\n",
       "      <td>3255.34</td>\n",
       "      <td>14.0</td>\n",
       "      <td>199.0</td>\n",
       "      <td>283</td>\n",
       "    </tr>\n",
       "    <tr>\n",
       "      <th>7</th>\n",
       "      <td>2</td>\n",
       "      <td>6780.73</td>\n",
       "      <td>48.0</td>\n",
       "      <td>199.0</td>\n",
       "      <td>487</td>\n",
       "    </tr>\n",
       "  </tbody>\n",
       "</table>\n",
       "</div>"
      ],
      "text/plain": [
       "               count  distance  duration  subscription_fee  revenue\n",
       "user_id month                                                      \n",
       "1       1          2   7027.51      42.0             199.0      451\n",
       "        4          1    754.16       7.0             199.0      241\n",
       "        8          2   6723.47      46.0             199.0      475\n",
       "        10         2   5809.91      32.0             199.0      391\n",
       "        11         3   7003.50      56.0             199.0      535\n",
       "        12         2   6751.63      28.0             199.0      367\n",
       "2       3          3  10187.73      63.0             199.0      577\n",
       "        4          2   6164.39      40.0             199.0      439\n",
       "        6          1   3255.34      14.0             199.0      283\n",
       "        7          2   6780.73      48.0             199.0      487"
      ]
     },
     "execution_count": 409,
     "metadata": {},
     "output_type": "execute_result"
    }
   ],
   "source": [
    "# Расчет и округление выручки\n",
    "users_months_go['revenue'] = (\n",
    "    (users_months_go['start_ride_price'] * users_months_go['count']) \n",
    "    + (users_months_go['minute_price'] * users_months_go['duration']) \n",
    "    + users_months_go['subscription_fee']\n",
    ")\n",
    "users_months_go['revenue'] = users_months_go['revenue'].astype('uint16')\n",
    "# Удаление столбцов со вспомогательными данными\n",
    "users_months_go = users_months_go.drop(['start_ride_price', 'minute_price'], axis=1)\n",
    "\n",
    "users_months_go.head(10)"
   ]
  },
  {
   "cell_type": "markdown",
   "id": "41545ac0",
   "metadata": {},
   "source": [
    "#### Шаг 6. Проверка гипотез"
   ]
  },
  {
   "cell_type": "markdown",
   "id": "ebd928df",
   "metadata": {},
   "source": [
    "6.1 Определим, тратят ли пользователи с подпиской больше времени на поездки,чем без нее?"
   ]
  },
  {
   "cell_type": "markdown",
   "id": "d6fa42ce",
   "metadata": {},
   "source": [
    "Нулевая и альтернативная гипотезы:\n",
    "    \n",
    "Гипотеза Н0: Средняя продолжительность поездок с подпиской ‘ultra’ и ‘free’ равны.\n",
    "\n",
    "Гипотеза Н1: Средняя продолжительность поездок с подпиской ‘ultra’ больше, чем с подпиской ‘free’.\n",
    "\n",
    "alpha = 0.05"
   ]
  },
  {
   "cell_type": "code",
   "execution_count": 2,
   "id": "645412b6",
   "metadata": {
    "scrolled": true
   },
   "outputs": [
    {
     "ename": "NameError",
     "evalue": "name 'st' is not defined",
     "output_type": "error",
     "traceback": [
      "\u001b[0;31m---------------------------------------------------------------------------\u001b[0m",
      "\u001b[0;31mNameError\u001b[0m                                 Traceback (most recent call last)",
      "\u001b[0;32m/tmp/ipykernel_109/3031631389.py\u001b[0m in \u001b[0;36m<module>\u001b[0;34m\u001b[0m\n\u001b[0;32m----> 1\u001b[0;31m \u001b[0mresults\u001b[0m \u001b[0;34m=\u001b[0m \u001b[0mst\u001b[0m\u001b[0;34m.\u001b[0m\u001b[0mttest_ind\u001b[0m\u001b[0;34m(\u001b[0m\u001b[0multra_go\u001b[0m\u001b[0;34m[\u001b[0m\u001b[0;34m'duration'\u001b[0m\u001b[0;34m]\u001b[0m\u001b[0;34m,\u001b[0m \u001b[0mfree_go\u001b[0m\u001b[0;34m[\u001b[0m\u001b[0;34m'duration'\u001b[0m\u001b[0;34m]\u001b[0m\u001b[0;34m,\u001b[0m \u001b[0mequal_var\u001b[0m\u001b[0;34m=\u001b[0m\u001b[0;32mTrue\u001b[0m\u001b[0;34m,\u001b[0m \u001b[0malternative\u001b[0m\u001b[0;34m=\u001b[0m\u001b[0;34m'greater'\u001b[0m\u001b[0;34m)\u001b[0m\u001b[0;34m\u001b[0m\u001b[0;34m\u001b[0m\u001b[0m\n\u001b[0m\u001b[1;32m      2\u001b[0m \u001b[0mprint\u001b[0m\u001b[0;34m(\u001b[0m\u001b[0mresults\u001b[0m\u001b[0;34m.\u001b[0m\u001b[0mpvalue\u001b[0m\u001b[0;34m)\u001b[0m\u001b[0;34m\u001b[0m\u001b[0;34m\u001b[0m\u001b[0m\n\u001b[1;32m      3\u001b[0m \u001b[0;32mif\u001b[0m \u001b[0mresults\u001b[0m\u001b[0;34m.\u001b[0m\u001b[0mpvalue\u001b[0m \u001b[0;34m<\u001b[0m \u001b[0;36m0.05\u001b[0m\u001b[0;34m:\u001b[0m\u001b[0;34m\u001b[0m\u001b[0;34m\u001b[0m\u001b[0m\n\u001b[1;32m      4\u001b[0m     \u001b[0mprint\u001b[0m\u001b[0;34m(\u001b[0m\u001b[0;34m'Отвергаем нулевую гипотезу'\u001b[0m\u001b[0;34m)\u001b[0m\u001b[0;34m\u001b[0m\u001b[0;34m\u001b[0m\u001b[0m\n\u001b[1;32m      5\u001b[0m \u001b[0;32melse\u001b[0m\u001b[0;34m:\u001b[0m\u001b[0;34m\u001b[0m\u001b[0;34m\u001b[0m\u001b[0m\n",
      "\u001b[0;31mNameError\u001b[0m: name 'st' is not defined"
     ]
    }
   ],
   "source": [
    "results = st.ttest_ind(ultra_go['duration'], free_go['duration'], equal_var=True, alternative='greater')\n",
    "print(results.pvalue)\n",
    "if results.pvalue < 0.05:\n",
    "    print('Отвергаем нулевую гипотезу')\n",
    "else:\n",
    "    print('Не получилось отвергнуть нулевую гипотезу')"
   ]
  },
  {
   "cell_type": "markdown",
   "id": "bbb8720d",
   "metadata": {},
   "source": [
    "вывод: нулевая гипотеза отвергнута,  средняя продолжительность поездки с подпиской больше продолжительности \n",
    "      поездок без подписки при установленном уровне значимости в 5 %, \n",
    "      хотя на гистограммах, это практически не прослеживается.\n",
    "\n"
   ]
  },
  {
   "cell_type": "markdown",
   "id": "92bf26ff",
   "metadata": {},
   "source": [
    "6.2 Оптимальное растояние поездки с точки зрения износа самоката для пользователей с подпиской\n",
    "\n",
    "Расстояние одной поездки в 3130м — оптимальное с точки зрения износа самоката.\n",
    "\n",
    "Установим действительно ли, что расстояние, которое проезжают пользователи с подпиской за одну поездку, \n",
    "не превышает 3130м?\n",
    "\n",
    "Гипотезы:\n",
    "\n",
    "Н0: Среднее расстояние поездок с подпиской ultra равно оптимальному расстоянию  3130м.\n",
    "    \n",
    "    \n",
    "Н1: Среднее расстояние поездок с подпиской ultra больше оптимального  3130м.\n",
    "    \n",
    "\n",
    "alpha = 0.05"
   ]
  },
  {
   "cell_type": "code",
   "execution_count": 3,
   "id": "1725b5db",
   "metadata": {},
   "outputs": [
    {
     "ename": "NameError",
     "evalue": "name 'st' is not defined",
     "output_type": "error",
     "traceback": [
      "\u001b[0;31m---------------------------------------------------------------------------\u001b[0m",
      "\u001b[0;31mNameError\u001b[0m                                 Traceback (most recent call last)",
      "\u001b[0;32m/tmp/ipykernel_109/567675975.py\u001b[0m in \u001b[0;36m<module>\u001b[0;34m\u001b[0m\n\u001b[1;32m      2\u001b[0m \u001b[0malpha\u001b[0m \u001b[0;34m=\u001b[0m \u001b[0;36m0.05\u001b[0m\u001b[0;34m\u001b[0m\u001b[0;34m\u001b[0m\u001b[0m\n\u001b[1;32m      3\u001b[0m \u001b[0;34m\u001b[0m\u001b[0m\n\u001b[0;32m----> 4\u001b[0;31m results = st.ttest_1samp(\n\u001b[0m\u001b[1;32m      5\u001b[0m     \u001b[0multra_go\u001b[0m\u001b[0;34m[\u001b[0m\u001b[0;34m'distance'\u001b[0m\u001b[0;34m]\u001b[0m\u001b[0;34m,\u001b[0m\u001b[0;34m\u001b[0m\u001b[0;34m\u001b[0m\u001b[0m\n\u001b[1;32m      6\u001b[0m     \u001b[0mdistance\u001b[0m\u001b[0;34m,\u001b[0m\u001b[0;34m\u001b[0m\u001b[0;34m\u001b[0m\u001b[0m\n",
      "\u001b[0;31mNameError\u001b[0m: name 'st' is not defined"
     ]
    }
   ],
   "source": [
    "distance = 3130\n",
    "alpha = 0.05\n",
    "\n",
    "results = st.ttest_1samp(\n",
    "    ultra_go['distance'], \n",
    "    distance,\n",
    "    alternative='greater')\n",
    "\n",
    "print(results.pvalue)\n",
    "\n",
    "if results.pvalue < alpha:\n",
    "    print('Отвергаем нулевую гипотезу')\n",
    "else:\n",
    "    print('Не получилось отвергнуть нулевую гипотезу')\n"
   ]
  },
  {
   "cell_type": "markdown",
   "id": "546660da",
   "metadata": {},
   "source": [
    "вывод: нулевую гипотезу не получилось отвергнуть,поэтому среднее расстояние поездки пользователей с подпиской ultra\n",
    "       не превышает оптимальное расстоянием в 3130м,с точки зрения износа самоката, \n",
    "       при установленном уровне значимости в 5 %.\n",
    "\n"
   ]
  },
  {
   "cell_type": "markdown",
   "id": "312f4598",
   "metadata": {},
   "source": [
    "6.3. Определим, будет ли помесячная выручка от пользователей с подпиской по месяцам выше, \n",
    "     чем выручка от пользователей без подписки"
   ]
  },
  {
   "cell_type": "markdown",
   "id": "eb227099",
   "metadata": {},
   "source": [
    "Гипотезы:\n",
    "\n",
    "Н0: Помесячная средняя выручка от пользователей с подпиской равна помесячной средней выручке \n",
    "    от пользователей без подписки.\n",
    "\n",
    "Н1: Помесячная средняя выручка от пользователей с подпиской больше помесячной средней выручки \n",
    "    от пользователей без подписки.\n",
    "\n",
    "alpha = 0.05"
   ]
  },
  {
   "cell_type": "code",
   "execution_count": 412,
   "id": "f3de2b77",
   "metadata": {},
   "outputs": [
    {
     "name": "stdout",
     "output_type": "stream",
     "text": [
      "0.9195362605842414\n",
      "Не получилось отвергнуть нулевую гипотезу\n"
     ]
    }
   ],
   "source": [
    "esults = st.ttest_ind(\n",
    "    users_months_go.loc[users_months_go['subscription_fee'] > 0, 'revenue'], \n",
    "    users_months_go.loc[users_months_go['subscription_fee'] == 0, 'revenue'], \n",
    "    equal_var=True, \n",
    "    alternative='greater')\n",
    "print(results.pvalue)\n",
    "\n",
    "alpha = 0.05\n",
    "if results.pvalue < alpha:\n",
    "    print('Отвергаем нулевую гипотезу')\n",
    "else:\n",
    "    print('Не получилось отвергнуть нулевую гипотезу')"
   ]
  },
  {
   "cell_type": "markdown",
   "id": "f63933df",
   "metadata": {},
   "source": [
    "вывод: не получилось отвергнуть нулевую гипотезу о том, что помесячная средняя выручка от поездок с использованием \n",
    "       подписки ‘ultra’  равна помесячной средней выручке с ипользованием подписки ‘free’.\n",
    "       как минимум, помесячная выручка от подписки ‘ultra’ не меньше, чем от подписки‘free’, и  её следует развивать."
   ]
  },
  {
   "cell_type": "markdown",
   "id": "579d3481",
   "metadata": {},
   "source": [
    "6.4. Разберем ситуацию: техническая команда сервиса обновила сервера, с которыми взаимодействует \n",
    "     мобильное приложение. Она надеется, что из-за этого количество обращений в техподдержку значимо снизилось. \n",
    "     Некоторый файл содержит для каждого пользователя данные о количестве обращений до обновления и после него. \n",
    "     Какой тест вам понадобился бы для проверки этой гипотезы?\n",
    " \n",
    "Теоретически это две зависимые выборки, иначе - парные. \n",
    "Если в данных некоторая переменная измеряется дважды (количество обращений в техподдержку до обновления серверов и после ) для одних и тех же пользователей и имеют одинаковые размеры, тогда можно применить метод scipy.stats.ttest_rel(), при проверке на то что, истинное среднее значение генеральной выборки до изменения больше, чем истинное среднее значение генеральной совокупности после изменения, следует указать alternative=\"less\".\n",
    "Если требования к зависимым выборкам не выполняются, можно воспользоваться методом scipy.stats.ttest_ind().\n",
    "\n"
   ]
  },
  {
   "cell_type": "markdown",
   "id": "61213c5e",
   "metadata": {},
   "source": [
    "Шаг 7. Распределения"
   ]
  },
  {
   "cell_type": "markdown",
   "id": "b77fd84d",
   "metadata": {},
   "source": [
    "7.1 сколько промокодов нужно разослать на один бесплатный месяц, чтобы в следующем месяце как минимум 100 \n",
    "    существующих клиентов продлили подписку.\n",
    "    \n",
    "    Эта акция уже проводилась ранее и по итогу выяснилось, что после бесплатного пробного периода \n",
    "    подписку   продлевают 10 % пользователей. Выясните, какое минимальное количество промокодов нужно разослать,\n",
    "    чтобы вероятность не выполнить план была примерно 5 %. Подберите параметры распределения, описывающего эту \n",
    "    ситуацию, постройте график распределения и сформулируйте ответ на вопрос о количестве промокодов.\n",
    " "
   ]
  },
  {
   "cell_type": "code",
   "execution_count": 413,
   "id": "bf9105bd",
   "metadata": {},
   "outputs": [
    {
     "name": "stdout",
     "output_type": "stream",
     "text": [
      "При рассылке  1161 промокодов  вероятность не выполнить план меньше 5.0 %\n"
     ]
    },
    {
     "data": {
      "image/png": "[encoded data removed]",
      "text/plain": [
       "<Figure size 432x288 with 1 Axes>"
      ]
     },
     "metadata": {
      "needs_background": "light"
     },
     "output_type": "display_data"
    }
   ],
   "source": [
    "n = 1000\n",
    "p = 0.1\n",
    "k = 99\n",
    "binom_cdf = 0.05\n",
    "\n",
    "while binom_cdf < binom.cdf(k, n, p):\n",
    "    n += 1\n",
    "print(f'При рассылке  {n} промокодов  вероятность не выполнить план меньше {binom.cdf(k, n, p).round(2)*100} %')\n",
    "\n",
    "# зададим мат.ожидание и ст.отклонение нормального распределения равными\n",
    "# мат.ожиданию и ст.отклонению биномиального распределения\n",
    "mu = n * p\n",
    "sigma = (n * p * (1 - p))**0.5\n",
    "\n",
    "arange = np.arange((mu - 4 * sigma),(mu + 4 * sigma),1)\n",
    "\n",
    "plt.plot(arange, st.norm.pdf(arange, mu, sigma), 'b-')\n",
    "plt.axvline(x=k, color='red')\n",
    "plt.axvline(x=mu, color='green')\n",
    "plt.show()\n"
   ]
  },
  {
   "cell_type": "markdown",
   "id": "21a2db3c",
   "metadata": {},
   "source": [
    "вывод: нужно разослать подписчикам  минимум 1161 промокодов,  чтобы как минимум 100 существующих клиентов \n",
    "       продлили подписку (продлевают подписку 10% пролучивших промокод) с вероятностью не выполнить план 5%.\n",
    "\n"
   ]
  },
  {
   "cell_type": "markdown",
   "id": "0a02bda1",
   "metadata": {},
   "source": [
    "7.2.Отдел маркетинга рассылает клиентам push-уведомления в мобильном приложении. \n",
    "Клиенты могут открыть его или не открывать. \n",
    "Известно, что уведомления открывают около 40 % получивших клиентов. \n",
    "Отдел планирует разослать 1млн уведомлений. \n",
    "С помощью аппроксимации постройте примерный график распределения и оцените вероятность того, \n",
    "что уведомление откроют не более 399,5 тыс. пользователей."
   ]
  },
  {
   "cell_type": "markdown",
   "id": "4cb5938b",
   "metadata": {},
   "source": [
    "параметры биномиального распределения"
   ]
  },
  {
   "cell_type": "code",
   "execution_count": 414,
   "id": "fd5176c6",
   "metadata": {},
   "outputs": [],
   "source": [
    "n = 1000000 #кол-во уведомлений\n",
    "p = 0.4     #40% открывают уведомления\n",
    "k = 399500  # не более 399.5тыс. пользователей откроют\n"
   ]
  },
  {
   "cell_type": "markdown",
   "id": "d134c5e9",
   "metadata": {},
   "source": [
    "зададим мат.ожидание и ст.отклонение нормального распределения равными\n",
    "мат.ожиданию и ст.отклонению биномиального распределения\n"
   ]
  },
  {
   "cell_type": "code",
   "execution_count": 415,
   "id": "d8ce608e",
   "metadata": {},
   "outputs": [
    {
     "name": "stdout",
     "output_type": "stream",
     "text": [
      "Вероятность открытия сообщений: 0.15371708296369768\n"
     ]
    }
   ],
   "source": [
    "mu = n * p\n",
    "sigma = (n * p * (1 - p))**0.5\n",
    "\n",
    "\n",
    "distr = st.norm(mu, sigma) # нормальное распределение\n",
    "\n",
    "\n",
    "result = distr.cdf(k) #вероятность хвоста слева от 399.5 тысяч\n",
    "\n",
    "print('Вероятность открытия сообщений:', result)"
   ]
  },
  {
   "cell_type": "code",
   "execution_count": 416,
   "id": "d564af0c",
   "metadata": {},
   "outputs": [
    {
     "data": {
      "image/png": "[encoded data removed]",
      "text/plain": [
       "<Figure size 432x288 with 1 Axes>"
      ]
     },
     "metadata": {
      "needs_background": "light"
     },
     "output_type": "display_data"
    }
   ],
   "source": [
    "arange = np.arange((mu - 4 * sigma),(mu + 4 * sigma),1)\n",
    "plt.plot(arange, st.norm.pdf(arange, mu, sigma), 'b-')\n",
    "plt.xticks(rotation=90)\n",
    "plt.axvline(x=k, color='red')\n",
    "plt.axvline(x=mu, color='green')\n",
    "plt.show()"
   ]
  },
  {
   "cell_type": "markdown",
   "id": "059e0944",
   "metadata": {},
   "source": [
    "Вывод: если разослать 1 млн уведомлений (откроют только 40 % получивших клиентов), \n",
    "тогда вероятность того, что уведомление откроют не более 399,5 тыс. пользователей  15,37 %."
   ]
  },
  {
   "cell_type": "markdown",
   "id": "0157cf7c",
   "metadata": {},
   "source": [
    "# Общий вывод"
   ]
  },
  {
   "cell_type": "markdown",
   "id": "53a70da9",
   "metadata": {},
   "source": [
    "В процессе исследования данных о пользователях популярного сервиса аренды самокатов 'GoFast',\n",
    "были выполнены следующие этапы и сделаны выводы:\n",
    "    \n",
    "1.  Загрузка данных\n",
    "\n",
    "  В предоставленных данных файла о пользователях users_go имеются 1565 записей; пропусков нет, количество явных дубликатов: 31; \n",
    "  \n",
    "  в предоставленных данных файла о поездках rides_go имеются 18068 записей, пропусков нет, явных дубликатов нет; \n",
    "  \n",
    "  в предоставленных жанных файла о подписке subscriptions_go имеются 2 записи, пропусков нет, явных дубликатов нет.   \n",
    "  Названия столбцов в норме. \n",
    "  \n",
    "  Данные признаны полными и достаточными для исследования.\n",
    "  \n",
    "  \n",
    "2.  Предобработка данных\n",
    "\n",
    "\n",
    "     В результате предобработки данных было выполнены следующие действия: \n",
    "     в данных users_go удалил дубликаты; \n",
    "     в данных users_go округлил distance в метрах до 2 знаков после запятой, округлил duration до целых и \n",
    "     перевел в int, привел столбец date к типу datetime64, создали столбец month с номером месяца; \n",
    "     корректировка столбца 'subscription_type'.\n",
    "  \n",
    "  \n",
    "3. Исследовательский анализ данных\n",
    "    \n",
    "    \n",
    "     Услугами сервиса аренды самокатов пользуются больше всего в южных городах, где сезон проката больше, но на второй позиции оказался уральский город Екатеринбург.Максимальное количество в 219 поездок совершено в Пятигорске. Минимальное количество в 168 поездок совершено в Москве.\n",
    "\n",
    "     Количество пользователей без подписки free 54,4% превышает количество пользователей с подпиской ultra 45,6%.\n",
    "\n",
    "     Количество пользователей в зависимости от возраста указывает, что средний возраст потребителя услуги подчиняется нормальному распределению с медианой примерно в 25 лет, при этом средний возраст и медиана практически совпадают. Услугами сервиса аренды самокатов пользуются люди от 12 до 43 лет.\n",
    "\n",
    "     Пользователи за одну поездку преодолевают путь от 0.86м до 7211м. Медиана всех значений равна 3134 м. Наблюдаются два пика: 1-й пик около 700м, 2-й большой пик около 3200м. Между пиками значения нормально распределены.\n",
    "\n",
    "     Продолжительность поездок нормально распределена от 0 до 41 минуты. Медиана поездок находится на 18 мин, первый квартиль- на 14 мин, третий квартиль -на 22 мин. Замечено аномальное значение поездок порядка 100 со временем менее 1 мин,но они не являются выбрасами, т.к. подкреплены данными о поездках со столь же маленькими дистанциями. В некоторых случаях самокаты перемещались со средней скоростью до 7211,01 м/мин, что практически невозможно. О данной аномалии необходимо сообщить владельцам бизнеса для устранения.\n",
    "\n",
    "\n",
    "4.  Объединение данных\n",
    "\n",
    "    Дистанция поездок при использовании подписки ‘free’ более разнообразна. максимальная дистанция больше \n",
    "    на 1511   метров, а минимальная на 243 метра меньше, чем при использовании подписки ‘ultra’. \n",
    "    Об этом же свидетельствует и стандартное отклонение, которое при использовании подписки ‘free’ больше \n",
    "    на 409 метров, чем при использовании подписки ‘ultra’. Средняя дистанция при использовании подписки \n",
    "    ‘free’ короче. Это следует из того, что среднее значениее на 70 метров, а медиана на 34 метра, меньше, \n",
    "    чем при использовании ‘ultra’.\n",
    "    При использовании обеих подписок наблюдается два пика:первый небольшой пик на меньших дистанциях \n",
    "    и второй основной пик на больших дистанциях. Меньший пик ‘ultra’ находится в районе 1000м, а основной \n",
    "    примерно 3100м с небольшой коррекцией около 4000м.\n",
    "    \n",
    "     Продолжительность поездок при использовании подписки ‘free’ немного меньше по всем показателям, \n",
    "     чем при использовании ‘ultra’. Минимальное время меньше на 3 мин, а максимальное меньше на 6 мин. \n",
    "     В обоих случаях количество поездок относительно нормально распределено в зависимости от их \n",
    "     продолжительности. Пик количества поездок приходится на 17-18 минут. \n",
    "     При использовании подписки ‘free’ наблюдается пик в около 100 поездок с продолжительностью около 1 мин.\n",
    "\n",
    "     Cделал вывод,что подписка влияет на расстояние поездок и на время в пути. \n",
    "     Пользователи с бесплатным тарифом 'free' в основном совершают поездки дольше, и проезжают большее \n",
    "     расстояние, чем пользователи на платном тарифе 'ultra'.\n",
    "     \n",
    "     \n",
    "5. Подсчет выручки\n",
    "    \n",
    "    Создал датафрейм с агрегированными данными о поездках на основе датафрейма с объединёнными данными из шага 4: \n",
    "    нашел суммарное расстояние, количество поездок и суммарное время для каждого пользователя за каждый месяц.\n",
    "    В этот же датафрейм добавил столбец с помесячной выручкой.\n",
    "    \n",
    "    \n",
    "6. Проверка гипотез\n",
    "    \n",
    "    Определил, тратят ли пользователи с подпиской больше времени на поездки,чем без нее?\n",
    "    Нулевая гипотеза была отвергнута, средняя продолжительность поездки с подпиской больше продолжительности \n",
    "    поездок без подписки при установленном уровне значимости в 5 %, хотя на гистограммах, это практически \n",
    "    не прослеживается.\n",
    "    \n",
    "    Установил, действительно ли  расстояние, которое проезжают пользователи с подпиской за одну поездку, \n",
    "    не превышает 3130м?\n",
    "    Нулевую гипотезу не получилось отвергнуть,поэтому среднее расстояние поездки пользователей с подпиской \n",
    "    ultra не превышает оптимальное расстоянием в 3130м,с точки зрения износа самоката, при установленном \n",
    "    уровне значимости в 5 %.\n",
    "    \n",
    "    Определимл, будет ли помесячная выручка от пользователей с подпиской по месяцам выше, чем выручка \n",
    "    от пользователей без подписки?\n",
    "    \n",
    "    Не получилось отвергнуть нулевую гипотезу о том, что помесячная средняя выручка от поездок \n",
    "    пользователя с  использованием подписки ‘ultra’  равна помесячной средней выручке с ипользованием \n",
    "    подписки ‘free’.Как минимум, выручка от подписки ‘ultra’ не меньше, чем от подписки‘free’, \n",
    "    и  её следует развивать.\n",
    "\n",
    "\n",
    "7. Распределения\n",
    "\n",
    "    Необходимо разослать подписчикам как минимум 1161 промокодов,  чтобы как минимум 100 существующих \n",
    "    клиентов продлили подписку (продлевают подписку 10% пролучивших промокод) с вероятностью  не выполнить план 5%.\n",
    "    Если разослать 1 млн уведомлений (откроют только 40 % получивших клиентов), тогда вероятность того, \n",
    "    что уведомление откроют не более 399,5 тыс. пользователей составит  15,37 %.\n",
    "    \n",
    "    \n",
    "\n",
    "\n",
    "\n",
    "\n",
    "\n",
    "\n",
    "\n",
    "\n",
    "\n",
    "\n",
    "\n"
   ]
  },
  {
   "cell_type": "code",
   "execution_count": null,
   "id": "138c3e01",
   "metadata": {},
   "outputs": [],
   "source": []
  }
 ],
 "metadata": {
  "ExecuteTimeLog": [
   {
    "duration": 1141,
    "start_time": "2024-04-18T16:51:09.741Z"
   },
   {
    "duration": 311,
    "start_time": "2024-04-18T16:53:57.701Z"
   },
   {
    "duration": 69,
    "start_time": "2024-04-18T16:56:41.050Z"
   },
   {
    "duration": 67,
    "start_time": "2024-04-18T16:57:37.801Z"
   },
   {
    "duration": 68,
    "start_time": "2024-04-18T16:57:54.113Z"
   },
   {
    "duration": 69,
    "start_time": "2024-04-18T16:58:27.675Z"
   },
   {
    "duration": 72,
    "start_time": "2024-04-18T16:58:41.277Z"
   },
   {
    "duration": 68,
    "start_time": "2024-04-18T16:58:50.354Z"
   },
   {
    "duration": 66,
    "start_time": "2024-04-18T17:00:10.171Z"
   },
   {
    "duration": 12,
    "start_time": "2024-04-18T17:02:37.241Z"
   },
   {
    "duration": 13,
    "start_time": "2024-04-18T17:02:49.002Z"
   },
   {
    "duration": 8,
    "start_time": "2024-04-18T17:02:55.316Z"
   },
   {
    "duration": 202,
    "start_time": "2024-04-18T17:04:22.503Z"
   },
   {
    "duration": 181,
    "start_time": "2024-04-18T17:04:50.257Z"
   },
   {
    "duration": 190,
    "start_time": "2024-04-18T17:05:33.759Z"
   },
   {
    "duration": 214,
    "start_time": "2024-04-18T17:05:57.488Z"
   },
   {
    "duration": 183,
    "start_time": "2024-04-18T17:06:29.659Z"
   },
   {
    "duration": 248,
    "start_time": "2024-04-18T17:06:36.182Z"
   },
   {
    "duration": 3850,
    "start_time": "2024-04-18T17:07:17.048Z"
   },
   {
    "duration": 3738,
    "start_time": "2024-04-18T17:07:53.272Z"
   },
   {
    "duration": 3780,
    "start_time": "2024-04-18T17:08:17.339Z"
   },
   {
    "duration": 3865,
    "start_time": "2024-04-18T17:10:29.075Z"
   },
   {
    "duration": 3801,
    "start_time": "2024-04-18T17:10:42.475Z"
   },
   {
    "duration": 3667,
    "start_time": "2024-04-18T17:10:57.999Z"
   },
   {
    "duration": 5,
    "start_time": "2024-04-18T17:58:03.922Z"
   },
   {
    "duration": 5,
    "start_time": "2024-04-18T17:58:05.526Z"
   },
   {
    "duration": 6,
    "start_time": "2024-04-18T17:58:57.085Z"
   },
   {
    "duration": 6,
    "start_time": "2024-04-18T18:08:00.082Z"
   },
   {
    "duration": 6,
    "start_time": "2024-04-18T18:08:02.102Z"
   },
   {
    "duration": 6,
    "start_time": "2024-04-18T18:08:03.813Z"
   },
   {
    "duration": 3,
    "start_time": "2024-04-18T18:08:45.717Z"
   },
   {
    "duration": 13,
    "start_time": "2024-04-18T18:09:13.063Z"
   },
   {
    "duration": 14,
    "start_time": "2024-04-18T18:10:26.220Z"
   },
   {
    "duration": 3,
    "start_time": "2024-04-18T18:13:31.172Z"
   },
   {
    "duration": 14,
    "start_time": "2024-04-18T18:13:37.498Z"
   },
   {
    "duration": 88,
    "start_time": "2024-04-18T18:19:29.701Z"
   },
   {
    "duration": 4,
    "start_time": "2024-04-18T18:19:45.185Z"
   },
   {
    "duration": 6,
    "start_time": "2024-04-18T18:19:46.425Z"
   },
   {
    "duration": 5,
    "start_time": "2024-04-18T18:19:48.044Z"
   },
   {
    "duration": 11,
    "start_time": "2024-04-18T18:19:49.848Z"
   },
   {
    "duration": 3,
    "start_time": "2024-04-18T18:19:50.367Z"
   },
   {
    "duration": 5,
    "start_time": "2024-04-18T18:19:50.686Z"
   },
   {
    "duration": 5,
    "start_time": "2024-04-18T18:19:51.665Z"
   },
   {
    "duration": 3,
    "start_time": "2024-04-18T18:22:15.565Z"
   },
   {
    "duration": 253,
    "start_time": "2024-04-18T18:22:38.491Z"
   },
   {
    "duration": 120,
    "start_time": "2024-04-18T18:22:52.338Z"
   },
   {
    "duration": 5,
    "start_time": "2024-04-18T18:25:33.486Z"
   },
   {
    "duration": 12,
    "start_time": "2024-04-18T18:28:09.925Z"
   },
   {
    "duration": 14,
    "start_time": "2024-04-18T18:31:29.785Z"
   },
   {
    "duration": 13,
    "start_time": "2024-04-18T18:31:30.383Z"
   },
   {
    "duration": 12,
    "start_time": "2024-04-18T18:31:30.808Z"
   },
   {
    "duration": 92,
    "start_time": "2024-04-18T18:33:22.316Z"
   },
   {
    "duration": 4,
    "start_time": "2024-04-18T18:34:01.377Z"
   },
   {
    "duration": 3,
    "start_time": "2024-04-18T18:34:13.316Z"
   },
   {
    "duration": 85,
    "start_time": "2024-04-18T18:34:35.783Z"
   },
   {
    "duration": 6,
    "start_time": "2024-04-18T18:36:38.821Z"
   },
   {
    "duration": 16,
    "start_time": "2024-04-18T18:36:43.081Z"
   },
   {
    "duration": 14,
    "start_time": "2024-04-18T18:36:45.871Z"
   },
   {
    "duration": 12,
    "start_time": "2024-04-18T18:36:47.472Z"
   },
   {
    "duration": 160,
    "start_time": "2024-04-18T18:47:29.240Z"
   },
   {
    "duration": 153,
    "start_time": "2024-04-18T19:01:17.387Z"
   },
   {
    "duration": 136,
    "start_time": "2024-04-18T19:05:13.492Z"
   },
   {
    "duration": 130,
    "start_time": "2024-04-18T19:06:48.148Z"
   },
   {
    "duration": 122,
    "start_time": "2024-04-18T19:08:20.272Z"
   },
   {
    "duration": 183,
    "start_time": "2024-04-18T19:08:27.223Z"
   },
   {
    "duration": 68,
    "start_time": "2024-04-18T19:11:58.158Z"
   },
   {
    "duration": 18,
    "start_time": "2024-04-18T19:12:17.887Z"
   },
   {
    "duration": 1268,
    "start_time": "2024-04-18T19:13:19.922Z"
   },
   {
    "duration": 132,
    "start_time": "2024-04-18T19:13:43.737Z"
   },
   {
    "duration": 232,
    "start_time": "2024-04-18T19:17:23.636Z"
   },
   {
    "duration": 238,
    "start_time": "2024-04-18T19:17:36.598Z"
   },
   {
    "duration": 250,
    "start_time": "2024-04-18T19:17:45.217Z"
   },
   {
    "duration": 256,
    "start_time": "2024-04-18T19:17:58.581Z"
   },
   {
    "duration": 7,
    "start_time": "2024-04-18T19:18:38.220Z"
   },
   {
    "duration": 7,
    "start_time": "2024-04-18T19:19:08.559Z"
   },
   {
    "duration": 66,
    "start_time": "2024-04-18T19:19:19.407Z"
   },
   {
    "duration": 77,
    "start_time": "2024-04-18T19:19:30.336Z"
   },
   {
    "duration": 9,
    "start_time": "2024-04-18T19:20:18.192Z"
   },
   {
    "duration": 7,
    "start_time": "2024-04-18T19:27:14.796Z"
   },
   {
    "duration": 605,
    "start_time": "2024-04-18T19:27:59.483Z"
   },
   {
    "duration": 583,
    "start_time": "2024-04-18T19:30:30.351Z"
   },
   {
    "duration": 1145,
    "start_time": "2024-04-18T19:30:40.635Z"
   },
   {
    "duration": 192,
    "start_time": "2024-04-18T19:30:50.528Z"
   },
   {
    "duration": 559,
    "start_time": "2024-04-18T19:30:55.478Z"
   },
   {
    "duration": 686,
    "start_time": "2024-04-18T19:33:54.545Z"
   },
   {
    "duration": 533,
    "start_time": "2024-04-18T19:34:12.973Z"
   },
   {
    "duration": 7,
    "start_time": "2024-04-18T19:38:48.506Z"
   },
   {
    "duration": 148,
    "start_time": "2024-04-18T19:41:26.558Z"
   },
   {
    "duration": 293,
    "start_time": "2024-04-18T19:42:41.848Z"
   },
   {
    "duration": 192,
    "start_time": "2024-04-18T19:42:58.826Z"
   },
   {
    "duration": 119,
    "start_time": "2024-04-18T19:43:57.411Z"
   },
   {
    "duration": 193,
    "start_time": "2024-04-18T19:44:25.305Z"
   },
   {
    "duration": 4,
    "start_time": "2024-04-18T19:44:54.511Z"
   },
   {
    "duration": 4,
    "start_time": "2024-04-18T19:45:05.558Z"
   },
   {
    "duration": 11,
    "start_time": "2024-04-18T20:08:56.544Z"
   },
   {
    "duration": 12,
    "start_time": "2024-04-18T20:08:59.246Z"
   },
   {
    "duration": 12,
    "start_time": "2024-04-18T20:09:18.243Z"
   },
   {
    "duration": 7,
    "start_time": "2024-04-18T20:10:35.863Z"
   },
   {
    "duration": 7,
    "start_time": "2024-04-18T20:10:41.728Z"
   },
   {
    "duration": 6,
    "start_time": "2024-04-18T20:10:47.654Z"
   },
   {
    "duration": 7,
    "start_time": "2024-04-18T20:11:18.078Z"
   },
   {
    "duration": 7,
    "start_time": "2024-04-18T20:11:35.551Z"
   },
   {
    "duration": 6,
    "start_time": "2024-04-18T20:12:54.046Z"
   },
   {
    "duration": 6,
    "start_time": "2024-04-18T20:12:57.300Z"
   },
   {
    "duration": 6,
    "start_time": "2024-04-18T20:15:32.029Z"
   },
   {
    "duration": 6,
    "start_time": "2024-04-18T20:16:14.732Z"
   },
   {
    "duration": 6,
    "start_time": "2024-04-18T20:16:33.235Z"
   },
   {
    "duration": 14,
    "start_time": "2024-04-18T20:21:24.075Z"
   },
   {
    "duration": 12,
    "start_time": "2024-04-18T20:21:27.088Z"
   },
   {
    "duration": 11,
    "start_time": "2024-04-18T20:21:31.096Z"
   },
   {
    "duration": 10,
    "start_time": "2024-04-18T20:21:42.623Z"
   },
   {
    "duration": 5,
    "start_time": "2024-04-18T20:23:03.931Z"
   },
   {
    "duration": 7,
    "start_time": "2024-04-18T20:30:32.383Z"
   },
   {
    "duration": 4,
    "start_time": "2024-04-18T20:32:59.620Z"
   },
   {
    "duration": 4,
    "start_time": "2024-04-18T20:33:02.682Z"
   },
   {
    "duration": 10,
    "start_time": "2024-04-18T20:33:46.298Z"
   },
   {
    "duration": 12,
    "start_time": "2024-04-18T20:35:21.061Z"
   },
   {
    "duration": 227,
    "start_time": "2024-04-18T20:43:12.635Z"
   },
   {
    "duration": 198,
    "start_time": "2024-04-18T20:43:57.715Z"
   },
   {
    "duration": 262,
    "start_time": "2024-04-18T20:45:11.936Z"
   },
   {
    "duration": 9,
    "start_time": "2024-04-18T20:47:09.399Z"
   },
   {
    "duration": 8,
    "start_time": "2024-04-18T20:47:27.744Z"
   },
   {
    "duration": 7,
    "start_time": "2024-04-18T20:47:52.881Z"
   },
   {
    "duration": 6,
    "start_time": "2024-04-18T20:48:00.098Z"
   },
   {
    "duration": 7,
    "start_time": "2024-04-18T20:48:35.566Z"
   },
   {
    "duration": 7,
    "start_time": "2024-04-18T20:48:53.713Z"
   },
   {
    "duration": 75,
    "start_time": "2024-04-18T21:05:16.902Z"
   },
   {
    "duration": 38,
    "start_time": "2024-04-18T21:14:56.171Z"
   },
   {
    "duration": 47,
    "start_time": "2024-04-18T21:15:52.555Z"
   },
   {
    "duration": 13,
    "start_time": "2024-04-18T21:20:18.861Z"
   },
   {
    "duration": 6,
    "start_time": "2024-04-18T21:23:00.371Z"
   },
   {
    "duration": 9,
    "start_time": "2024-04-18T21:32:30.808Z"
   },
   {
    "duration": 76,
    "start_time": "2024-04-18T21:35:54.890Z"
   },
   {
    "duration": 80,
    "start_time": "2024-04-18T21:35:58.200Z"
   },
   {
    "duration": 3,
    "start_time": "2024-04-18T21:35:58.842Z"
   },
   {
    "duration": 7,
    "start_time": "2024-04-18T21:35:59.427Z"
   },
   {
    "duration": 10,
    "start_time": "2024-04-18T21:35:59.966Z"
   },
   {
    "duration": 3,
    "start_time": "2024-04-18T21:36:24.950Z"
   },
   {
    "duration": 3,
    "start_time": "2024-04-18T21:36:25.637Z"
   },
   {
    "duration": 10,
    "start_time": "2024-04-18T21:36:29.181Z"
   },
   {
    "duration": 9,
    "start_time": "2024-04-18T21:36:41.308Z"
   },
   {
    "duration": 76,
    "start_time": "2024-04-18T21:36:44.338Z"
   },
   {
    "duration": 2,
    "start_time": "2024-04-18T21:36:45.405Z"
   },
   {
    "duration": 3,
    "start_time": "2024-04-18T21:36:46.111Z"
   },
   {
    "duration": 12,
    "start_time": "2024-04-18T21:36:46.893Z"
   },
   {
    "duration": 75,
    "start_time": "2024-04-18T21:37:38.586Z"
   },
   {
    "duration": 3,
    "start_time": "2024-04-18T21:37:39.212Z"
   },
   {
    "duration": 4,
    "start_time": "2024-04-18T21:37:39.752Z"
   },
   {
    "duration": 10,
    "start_time": "2024-04-18T21:37:40.432Z"
   },
   {
    "duration": 10,
    "start_time": "2024-04-18T21:38:14.065Z"
   },
   {
    "duration": 4,
    "start_time": "2024-04-18T21:40:16.195Z"
   },
   {
    "duration": 98,
    "start_time": "2024-04-18T21:40:16.839Z"
   },
   {
    "duration": 178,
    "start_time": "2024-04-18T21:41:20.729Z"
   },
   {
    "duration": 186,
    "start_time": "2024-04-18T21:41:22.736Z"
   },
   {
    "duration": 93,
    "start_time": "2024-04-18T21:41:26.954Z"
   },
   {
    "duration": 3,
    "start_time": "2024-04-18T21:41:59.055Z"
   },
   {
    "duration": 99,
    "start_time": "2024-04-18T21:41:59.723Z"
   },
   {
    "duration": 2,
    "start_time": "2024-04-18T21:43:54.692Z"
   },
   {
    "duration": 3,
    "start_time": "2024-04-18T21:43:57.346Z"
   },
   {
    "duration": 90,
    "start_time": "2024-04-18T21:43:58.140Z"
   },
   {
    "duration": 436,
    "start_time": "2024-04-18T21:44:35.320Z"
   },
   {
    "duration": 88,
    "start_time": "2024-04-18T21:44:45.467Z"
   },
   {
    "duration": 8,
    "start_time": "2024-04-18T21:50:53.258Z"
   },
   {
    "duration": 1223,
    "start_time": "2024-04-18T21:53:05.542Z"
   },
   {
    "duration": 4,
    "start_time": "2024-04-18T21:56:32.658Z"
   },
   {
    "duration": 2,
    "start_time": "2024-04-18T21:56:35.798Z"
   },
   {
    "duration": 92,
    "start_time": "2024-04-18T21:56:36.429Z"
   },
   {
    "duration": 3,
    "start_time": "2024-04-18T21:56:45.329Z"
   },
   {
    "duration": 92,
    "start_time": "2024-04-18T21:56:46.375Z"
   },
   {
    "duration": 73,
    "start_time": "2024-04-18T21:57:01.205Z"
   },
   {
    "duration": 94,
    "start_time": "2024-04-18T21:57:02.406Z"
   },
   {
    "duration": 69,
    "start_time": "2024-04-18T21:57:13.377Z"
   },
   {
    "duration": 68,
    "start_time": "2024-04-18T21:57:17.397Z"
   },
   {
    "duration": 92,
    "start_time": "2024-04-18T21:57:18.174Z"
   },
   {
    "duration": 68,
    "start_time": "2024-04-18T22:01:37.507Z"
   },
   {
    "duration": 96,
    "start_time": "2024-04-18T22:02:00.276Z"
   },
   {
    "duration": 99,
    "start_time": "2024-04-18T22:02:40.795Z"
   },
   {
    "duration": 99,
    "start_time": "2024-04-18T22:03:22.565Z"
   },
   {
    "duration": 98,
    "start_time": "2024-04-18T22:07:39.749Z"
   },
   {
    "duration": 99,
    "start_time": "2024-04-18T22:07:47.461Z"
   },
   {
    "duration": 98,
    "start_time": "2024-04-18T22:07:49.129Z"
   },
   {
    "duration": 95,
    "start_time": "2024-04-18T22:10:07.611Z"
   },
   {
    "duration": 109,
    "start_time": "2024-04-18T22:10:08.555Z"
   },
   {
    "duration": 98,
    "start_time": "2024-04-18T22:10:12.460Z"
   },
   {
    "duration": 11,
    "start_time": "2024-04-18T22:10:19.211Z"
   },
   {
    "duration": 97,
    "start_time": "2024-04-18T22:10:21.551Z"
   },
   {
    "duration": 96,
    "start_time": "2024-04-18T22:11:59.683Z"
   },
   {
    "duration": 99,
    "start_time": "2024-04-18T22:12:05.586Z"
   },
   {
    "duration": 95,
    "start_time": "2024-04-18T22:12:12.280Z"
   },
   {
    "duration": 77,
    "start_time": "2024-04-18T22:13:07.646Z"
   },
   {
    "duration": 2,
    "start_time": "2024-04-18T22:13:08.140Z"
   },
   {
    "duration": 3,
    "start_time": "2024-04-18T22:13:08.449Z"
   },
   {
    "duration": 11,
    "start_time": "2024-04-18T22:13:09.119Z"
   },
   {
    "duration": 9,
    "start_time": "2024-04-18T22:13:09.722Z"
   },
   {
    "duration": 95,
    "start_time": "2024-04-18T22:13:11.996Z"
   },
   {
    "duration": 88,
    "start_time": "2024-04-18T22:19:55.553Z"
   },
   {
    "duration": 93,
    "start_time": "2024-04-18T22:20:12.523Z"
   },
   {
    "duration": 92,
    "start_time": "2024-04-18T22:21:20.715Z"
   },
   {
    "duration": 36,
    "start_time": "2024-04-18T22:33:36.087Z"
   },
   {
    "duration": 13,
    "start_time": "2024-04-18T22:33:51.284Z"
   },
   {
    "duration": 2,
    "start_time": "2024-04-18T22:35:40.154Z"
   },
   {
    "duration": 10,
    "start_time": "2024-04-18T22:35:40.976Z"
   },
   {
    "duration": 89,
    "start_time": "2024-04-18T22:35:42.526Z"
   },
   {
    "duration": 37,
    "start_time": "2024-04-18T22:37:57.278Z"
   },
   {
    "duration": 91,
    "start_time": "2024-04-18T22:38:58.738Z"
   },
   {
    "duration": 68,
    "start_time": "2024-04-18T22:39:09.750Z"
   },
   {
    "duration": 36,
    "start_time": "2024-04-18T22:39:31.772Z"
   },
   {
    "duration": 13,
    "start_time": "2024-04-18T22:39:34.749Z"
   },
   {
    "duration": 10,
    "start_time": "2024-04-18T22:40:05.436Z"
   },
   {
    "duration": 88,
    "start_time": "2024-04-18T22:40:31.570Z"
   },
   {
    "duration": 6,
    "start_time": "2024-04-18T22:43:38.183Z"
   },
   {
    "duration": 11,
    "start_time": "2024-04-19T06:24:10.875Z"
   },
   {
    "duration": 212,
    "start_time": "2024-04-19T06:24:14.178Z"
   },
   {
    "duration": 2,
    "start_time": "2024-04-19T06:26:32.543Z"
   },
   {
    "duration": 71,
    "start_time": "2024-04-19T06:26:33.130Z"
   },
   {
    "duration": 11,
    "start_time": "2024-04-19T06:26:35.374Z"
   },
   {
    "duration": 13,
    "start_time": "2024-04-19T06:26:35.604Z"
   },
   {
    "duration": 9,
    "start_time": "2024-04-19T06:26:35.837Z"
   },
   {
    "duration": 183,
    "start_time": "2024-04-19T06:26:36.380Z"
   },
   {
    "duration": 191,
    "start_time": "2024-04-19T06:26:36.617Z"
   },
   {
    "duration": 189,
    "start_time": "2024-04-19T06:26:36.861Z"
   },
   {
    "duration": 3692,
    "start_time": "2024-04-19T06:26:37.146Z"
   },
   {
    "duration": 5,
    "start_time": "2024-04-19T06:26:40.839Z"
   },
   {
    "duration": 13,
    "start_time": "2024-04-19T06:26:40.845Z"
   },
   {
    "duration": 19,
    "start_time": "2024-04-19T06:26:40.860Z"
   },
   {
    "duration": 11,
    "start_time": "2024-04-19T06:26:40.880Z"
   },
   {
    "duration": 3,
    "start_time": "2024-04-19T06:26:40.892Z"
   },
   {
    "duration": 12,
    "start_time": "2024-04-19T06:26:40.896Z"
   },
   {
    "duration": 3,
    "start_time": "2024-04-19T06:26:41.030Z"
   },
   {
    "duration": 119,
    "start_time": "2024-04-19T06:26:41.222Z"
   },
   {
    "duration": 6,
    "start_time": "2024-04-19T06:26:42.127Z"
   },
   {
    "duration": 14,
    "start_time": "2024-04-19T06:26:42.796Z"
   },
   {
    "duration": 15,
    "start_time": "2024-04-19T06:26:43.054Z"
   },
   {
    "duration": 12,
    "start_time": "2024-04-19T06:26:43.344Z"
   },
   {
    "duration": 145,
    "start_time": "2024-04-19T06:26:44.758Z"
   },
   {
    "duration": 120,
    "start_time": "2024-04-19T06:26:46.159Z"
   },
   {
    "duration": 227,
    "start_time": "2024-04-19T06:26:49.135Z"
   },
   {
    "duration": 8,
    "start_time": "2024-04-19T06:26:49.567Z"
   },
   {
    "duration": 67,
    "start_time": "2024-04-19T06:26:49.859Z"
   },
   {
    "duration": 7,
    "start_time": "2024-04-19T06:26:50.361Z"
   },
   {
    "duration": 608,
    "start_time": "2024-04-19T06:26:50.603Z"
   },
   {
    "duration": 7,
    "start_time": "2024-04-19T06:26:51.353Z"
   },
   {
    "duration": 194,
    "start_time": "2024-04-19T06:26:51.617Z"
   },
   {
    "duration": 119,
    "start_time": "2024-04-19T06:26:51.934Z"
   },
   {
    "duration": 205,
    "start_time": "2024-04-19T06:26:52.134Z"
   },
   {
    "duration": 4,
    "start_time": "2024-04-19T06:26:52.355Z"
   },
   {
    "duration": 68,
    "start_time": "2024-04-19T06:26:52.655Z"
   },
   {
    "duration": 12,
    "start_time": "2024-04-19T06:26:54.563Z"
   },
   {
    "duration": 10,
    "start_time": "2024-04-19T06:26:54.798Z"
   },
   {
    "duration": 6,
    "start_time": "2024-04-19T06:26:55.104Z"
   },
   {
    "duration": 12,
    "start_time": "2024-04-19T06:26:56.516Z"
   },
   {
    "duration": 11,
    "start_time": "2024-04-19T06:26:57.060Z"
   },
   {
    "duration": 201,
    "start_time": "2024-04-19T06:26:57.871Z"
   },
   {
    "duration": 7,
    "start_time": "2024-04-19T06:26:58.259Z"
   },
   {
    "duration": 6,
    "start_time": "2024-04-19T06:26:58.492Z"
   },
   {
    "duration": 254,
    "start_time": "2024-04-19T06:26:58.875Z"
   },
   {
    "duration": 6,
    "start_time": "2024-04-19T06:26:59.130Z"
   },
   {
    "duration": 6,
    "start_time": "2024-04-19T06:26:59.249Z"
   },
   {
    "duration": 38,
    "start_time": "2024-04-19T06:27:00.193Z"
   },
   {
    "duration": 13,
    "start_time": "2024-04-19T06:27:00.364Z"
   },
   {
    "duration": 35,
    "start_time": "2024-04-19T06:29:50.135Z"
   },
   {
    "duration": 35,
    "start_time": "2024-04-19T06:30:59.871Z"
   },
   {
    "duration": 38,
    "start_time": "2024-04-19T06:32:30.725Z"
   },
   {
    "duration": 37,
    "start_time": "2024-04-19T06:32:51.411Z"
   },
   {
    "duration": 37,
    "start_time": "2024-04-19T06:33:05.291Z"
   },
   {
    "duration": 36,
    "start_time": "2024-04-19T06:33:47.021Z"
   },
   {
    "duration": 10,
    "start_time": "2024-04-19T06:39:18.084Z"
   },
   {
    "duration": 11,
    "start_time": "2024-04-19T06:39:19.006Z"
   },
   {
    "duration": 191,
    "start_time": "2024-04-19T06:39:19.876Z"
   },
   {
    "duration": 6,
    "start_time": "2024-04-19T06:39:20.235Z"
   },
   {
    "duration": 6,
    "start_time": "2024-04-19T06:39:20.440Z"
   },
   {
    "duration": 167,
    "start_time": "2024-04-19T06:39:20.913Z"
   },
   {
    "duration": 6,
    "start_time": "2024-04-19T06:39:21.190Z"
   },
   {
    "duration": 6,
    "start_time": "2024-04-19T06:39:21.391Z"
   },
   {
    "duration": 37,
    "start_time": "2024-04-19T06:39:22.388Z"
   },
   {
    "duration": 13,
    "start_time": "2024-04-19T06:39:22.557Z"
   },
   {
    "duration": 52,
    "start_time": "2024-04-19T06:41:29.370Z"
   },
   {
    "duration": 13,
    "start_time": "2024-04-19T06:42:44.404Z"
   },
   {
    "duration": 49,
    "start_time": "2024-04-19T06:43:04.201Z"
   },
   {
    "duration": 12,
    "start_time": "2024-04-19T06:43:05.624Z"
   },
   {
    "duration": 34,
    "start_time": "2024-04-19T06:44:34.682Z"
   },
   {
    "duration": 18,
    "start_time": "2024-04-19T06:44:35.338Z"
   },
   {
    "duration": 34,
    "start_time": "2024-04-19T06:48:19.919Z"
   },
   {
    "duration": 3,
    "start_time": "2024-04-19T06:48:21.154Z"
   },
   {
    "duration": 3,
    "start_time": "2024-04-19T06:48:23.596Z"
   },
   {
    "duration": 18,
    "start_time": "2024-04-19T06:48:24.349Z"
   },
   {
    "duration": 12,
    "start_time": "2024-04-19T06:50:40.637Z"
   },
   {
    "duration": 1221,
    "start_time": "2024-04-19T06:51:01.413Z"
   },
   {
    "duration": 1253,
    "start_time": "2024-04-19T06:51:13.270Z"
   },
   {
    "duration": 1285,
    "start_time": "2024-04-19T06:51:53.188Z"
   },
   {
    "duration": 1150,
    "start_time": "2024-04-19T06:52:12.412Z"
   },
   {
    "duration": 1181,
    "start_time": "2024-04-19T06:52:33.446Z"
   },
   {
    "duration": 35,
    "start_time": "2024-04-19T06:53:05.404Z"
   },
   {
    "duration": 3,
    "start_time": "2024-04-19T06:53:08.641Z"
   },
   {
    "duration": 4,
    "start_time": "2024-04-19T06:53:09.790Z"
   },
   {
    "duration": 15,
    "start_time": "2024-04-19T06:53:10.564Z"
   },
   {
    "duration": 13,
    "start_time": "2024-04-19T06:53:12.652Z"
   },
   {
    "duration": 1145,
    "start_time": "2024-04-19T06:53:42.593Z"
   },
   {
    "duration": 1360,
    "start_time": "2024-04-19T06:54:06.353Z"
   },
   {
    "duration": 1193,
    "start_time": "2024-04-19T06:54:43.386Z"
   },
   {
    "duration": 37,
    "start_time": "2024-04-19T06:54:50.043Z"
   },
   {
    "duration": 3,
    "start_time": "2024-04-19T06:54:51.196Z"
   },
   {
    "duration": 17,
    "start_time": "2024-04-19T06:54:52.265Z"
   },
   {
    "duration": 13,
    "start_time": "2024-04-19T06:54:57.051Z"
   },
   {
    "duration": 1240,
    "start_time": "2024-04-19T06:55:19.698Z"
   },
   {
    "duration": 1206,
    "start_time": "2024-04-19T06:55:23.982Z"
   },
   {
    "duration": 45,
    "start_time": "2024-04-19T06:55:48.221Z"
   },
   {
    "duration": 4,
    "start_time": "2024-04-19T06:55:49.128Z"
   },
   {
    "duration": 24,
    "start_time": "2024-04-19T06:55:50.303Z"
   },
   {
    "duration": 15,
    "start_time": "2024-04-19T06:55:52.438Z"
   },
   {
    "duration": 5,
    "start_time": "2024-04-19T07:00:39.694Z"
   },
   {
    "duration": 5,
    "start_time": "2024-04-19T07:03:54.980Z"
   },
   {
    "duration": 5,
    "start_time": "2024-04-19T07:06:02.208Z"
   },
   {
    "duration": 6,
    "start_time": "2024-04-19T07:06:35.949Z"
   },
   {
    "duration": 6,
    "start_time": "2024-04-19T07:08:49.515Z"
   },
   {
    "duration": 98,
    "start_time": "2024-04-19T07:08:50.102Z"
   },
   {
    "duration": 7,
    "start_time": "2024-04-19T07:14:38.763Z"
   },
   {
    "duration": 4,
    "start_time": "2024-04-19T07:15:05.474Z"
   },
   {
    "duration": 94,
    "start_time": "2024-04-19T07:18:07.691Z"
   },
   {
    "duration": 86,
    "start_time": "2024-04-19T07:18:15.856Z"
   },
   {
    "duration": 76,
    "start_time": "2024-04-19T07:18:32.729Z"
   },
   {
    "duration": 4,
    "start_time": "2024-04-19T07:18:42.864Z"
   },
   {
    "duration": 1180,
    "start_time": "2024-04-19T07:18:43.483Z"
   },
   {
    "duration": 5,
    "start_time": "2024-04-19T07:20:17.281Z"
   },
   {
    "duration": 1330,
    "start_time": "2024-04-19T07:22:24.150Z"
   },
   {
    "duration": 6,
    "start_time": "2024-04-19T07:24:15.134Z"
   },
   {
    "duration": 6,
    "start_time": "2024-04-19T07:24:16.912Z"
   },
   {
    "duration": 6,
    "start_time": "2024-04-19T07:32:44.350Z"
   },
   {
    "duration": 7,
    "start_time": "2024-04-19T07:40:41.776Z"
   },
   {
    "duration": 6,
    "start_time": "2024-04-19T07:42:21.560Z"
   },
   {
    "duration": 70,
    "start_time": "2024-04-19T07:42:22.985Z"
   },
   {
    "duration": 252,
    "start_time": "2024-04-19T08:03:05.200Z"
   },
   {
    "duration": 237,
    "start_time": "2024-04-19T08:04:35.768Z"
   },
   {
    "duration": 250,
    "start_time": "2024-04-19T08:04:46.472Z"
   },
   {
    "duration": 236,
    "start_time": "2024-04-19T08:06:06.702Z"
   },
   {
    "duration": 262,
    "start_time": "2024-04-19T08:12:03.974Z"
   },
   {
    "duration": 242,
    "start_time": "2024-04-19T08:13:53.071Z"
   },
   {
    "duration": 189,
    "start_time": "2024-04-19T08:17:28.636Z"
   },
   {
    "duration": 4,
    "start_time": "2024-04-19T08:18:52.044Z"
   },
   {
    "duration": 4,
    "start_time": "2024-04-19T08:18:53.798Z"
   },
   {
    "duration": 228,
    "start_time": "2024-04-19T08:18:56.459Z"
   },
   {
    "duration": 216,
    "start_time": "2024-04-19T08:19:00.627Z"
   },
   {
    "duration": 4,
    "start_time": "2024-04-19T08:19:04.925Z"
   },
   {
    "duration": 2,
    "start_time": "2024-04-19T08:58:30.250Z"
   },
   {
    "duration": 71,
    "start_time": "2024-04-19T08:58:31.798Z"
   },
   {
    "duration": 11,
    "start_time": "2024-04-19T08:58:32.782Z"
   },
   {
    "duration": 13,
    "start_time": "2024-04-19T08:58:33.269Z"
   },
   {
    "duration": 9,
    "start_time": "2024-04-19T08:58:33.884Z"
   },
   {
    "duration": 181,
    "start_time": "2024-04-19T08:58:35.990Z"
   },
   {
    "duration": 195,
    "start_time": "2024-04-19T08:58:37.202Z"
   },
   {
    "duration": 190,
    "start_time": "2024-04-19T08:58:38.072Z"
   },
   {
    "duration": 3787,
    "start_time": "2024-04-19T08:58:38.792Z"
   },
   {
    "duration": 4,
    "start_time": "2024-04-19T08:58:42.584Z"
   },
   {
    "duration": 21,
    "start_time": "2024-04-19T08:58:42.589Z"
   },
   {
    "duration": 9,
    "start_time": "2024-04-19T08:58:42.982Z"
   },
   {
    "duration": 9,
    "start_time": "2024-04-19T08:58:44.630Z"
   },
   {
    "duration": 3,
    "start_time": "2024-04-19T08:58:45.229Z"
   },
   {
    "duration": 5,
    "start_time": "2024-04-19T08:58:45.443Z"
   },
   {
    "duration": 4,
    "start_time": "2024-04-19T08:58:45.894Z"
   },
   {
    "duration": 133,
    "start_time": "2024-04-19T08:58:46.110Z"
   },
   {
    "duration": 6,
    "start_time": "2024-04-19T08:58:46.521Z"
   },
   {
    "duration": 20,
    "start_time": "2024-04-19T08:58:47.144Z"
   },
   {
    "duration": 21,
    "start_time": "2024-04-19T08:58:47.785Z"
   },
   {
    "duration": 11,
    "start_time": "2024-04-19T08:58:48.405Z"
   },
   {
    "duration": 148,
    "start_time": "2024-04-19T08:58:51.915Z"
   },
   {
    "duration": 121,
    "start_time": "2024-04-19T08:58:55.348Z"
   },
   {
    "duration": 241,
    "start_time": "2024-04-19T08:58:58.246Z"
   },
   {
    "duration": 7,
    "start_time": "2024-04-19T08:58:58.850Z"
   },
   {
    "duration": 78,
    "start_time": "2024-04-19T08:58:59.496Z"
   },
   {
    "duration": 7,
    "start_time": "2024-04-19T08:59:01.432Z"
   },
   {
    "duration": 686,
    "start_time": "2024-04-19T08:59:01.440Z"
   },
   {
    "duration": 7,
    "start_time": "2024-04-19T08:59:02.692Z"
   },
   {
    "duration": 199,
    "start_time": "2024-04-19T08:59:03.292Z"
   },
   {
    "duration": 119,
    "start_time": "2024-04-19T08:59:03.845Z"
   },
   {
    "duration": 188,
    "start_time": "2024-04-19T08:59:04.510Z"
   },
   {
    "duration": 5,
    "start_time": "2024-04-19T08:59:06.772Z"
   },
   {
    "duration": 75,
    "start_time": "2024-04-19T08:59:07.124Z"
   },
   {
    "duration": 17,
    "start_time": "2024-04-19T08:59:09.532Z"
   },
   {
    "duration": 12,
    "start_time": "2024-04-19T08:59:10.200Z"
   },
   {
    "duration": 7,
    "start_time": "2024-04-19T08:59:11.449Z"
   },
   {
    "duration": 224,
    "start_time": "2024-04-19T08:59:46.213Z"
   },
   {
    "duration": 120,
    "start_time": "2024-04-19T08:59:48.599Z"
   },
   {
    "duration": 234,
    "start_time": "2024-04-19T08:59:50.429Z"
   },
   {
    "duration": 7,
    "start_time": "2024-04-19T08:59:50.821Z"
   },
   {
    "duration": 66,
    "start_time": "2024-04-19T08:59:51.229Z"
   },
   {
    "duration": 7,
    "start_time": "2024-04-19T08:59:52.257Z"
   },
   {
    "duration": 559,
    "start_time": "2024-04-19T08:59:52.676Z"
   },
   {
    "duration": 7,
    "start_time": "2024-04-19T08:59:54.085Z"
   },
   {
    "duration": 274,
    "start_time": "2024-04-19T08:59:54.517Z"
   },
   {
    "duration": 116,
    "start_time": "2024-04-19T08:59:55.045Z"
   },
   {
    "duration": 193,
    "start_time": "2024-04-19T08:59:55.696Z"
   },
   {
    "duration": 3,
    "start_time": "2024-04-19T08:59:56.249Z"
   },
   {
    "duration": 70,
    "start_time": "2024-04-19T08:59:56.913Z"
   },
   {
    "duration": 13,
    "start_time": "2024-04-19T09:00:09.444Z"
   },
   {
    "duration": 10,
    "start_time": "2024-04-19T09:00:10.159Z"
   },
   {
    "duration": 6,
    "start_time": "2024-04-19T09:00:10.726Z"
   },
   {
    "duration": 12,
    "start_time": "2024-04-19T09:00:13.233Z"
   },
   {
    "duration": 11,
    "start_time": "2024-04-19T09:00:14.394Z"
   },
   {
    "duration": 199,
    "start_time": "2024-04-19T09:00:15.592Z"
   },
   {
    "duration": 9,
    "start_time": "2024-04-19T09:00:16.525Z"
   },
   {
    "duration": 6,
    "start_time": "2024-04-19T09:00:17.125Z"
   },
   {
    "duration": 174,
    "start_time": "2024-04-19T09:00:18.210Z"
   },
   {
    "duration": 6,
    "start_time": "2024-04-19T09:00:18.865Z"
   },
   {
    "duration": 6,
    "start_time": "2024-04-19T09:00:19.457Z"
   },
   {
    "duration": 37,
    "start_time": "2024-04-19T09:00:23.831Z"
   },
   {
    "duration": 4,
    "start_time": "2024-04-19T09:00:24.997Z"
   },
   {
    "duration": 17,
    "start_time": "2024-04-19T09:00:26.303Z"
   },
   {
    "duration": 13,
    "start_time": "2024-04-19T09:00:35.868Z"
   },
   {
    "duration": 4,
    "start_time": "2024-04-19T09:00:37.882Z"
   },
   {
    "duration": 4,
    "start_time": "2024-04-19T09:00:39.386Z"
   },
   {
    "duration": 6,
    "start_time": "2024-04-19T09:00:41.759Z"
   },
   {
    "duration": 212,
    "start_time": "2024-04-19T09:00:50.807Z"
   },
   {
    "duration": 3,
    "start_time": "2024-04-19T09:00:53.252Z"
   },
   {
    "duration": 4,
    "start_time": "2024-04-19T09:00:54.232Z"
   },
   {
    "duration": 245,
    "start_time": "2024-04-19T09:00:54.767Z"
   },
   {
    "duration": 43,
    "start_time": "2024-04-19T15:38:39.372Z"
   },
   {
    "duration": 1224,
    "start_time": "2024-04-19T15:38:52.354Z"
   },
   {
    "duration": 214,
    "start_time": "2024-04-19T15:38:54.420Z"
   },
   {
    "duration": 12,
    "start_time": "2024-04-19T15:38:56.288Z"
   },
   {
    "duration": 14,
    "start_time": "2024-04-19T15:38:56.786Z"
   },
   {
    "duration": 10,
    "start_time": "2024-04-19T15:38:57.175Z"
   },
   {
    "duration": 219,
    "start_time": "2024-04-19T15:38:58.363Z"
   },
   {
    "duration": 220,
    "start_time": "2024-04-19T15:39:00.063Z"
   },
   {
    "duration": 241,
    "start_time": "2024-04-19T15:41:07.570Z"
   },
   {
    "duration": 234,
    "start_time": "2024-04-19T15:42:03.746Z"
   },
   {
    "duration": 237,
    "start_time": "2024-04-19T15:42:31.030Z"
   },
   {
    "duration": 300,
    "start_time": "2024-04-19T15:44:59.187Z"
   },
   {
    "duration": 240,
    "start_time": "2024-04-19T15:45:03.100Z"
   },
   {
    "duration": 4694,
    "start_time": "2024-04-19T15:45:40.391Z"
   },
   {
    "duration": 4665,
    "start_time": "2024-04-19T15:45:50.246Z"
   },
   {
    "duration": 57,
    "start_time": "2024-04-19T15:59:37.066Z"
   },
   {
    "duration": 47,
    "start_time": "2024-04-19T15:59:41.197Z"
   },
   {
    "duration": 78,
    "start_time": "2024-04-19T16:04:23.433Z"
   },
   {
    "duration": 87,
    "start_time": "2024-04-19T16:04:39.922Z"
   },
   {
    "duration": 42,
    "start_time": "2024-04-19T16:04:59.794Z"
   },
   {
    "duration": 85,
    "start_time": "2024-04-19T16:05:14.173Z"
   },
   {
    "duration": 93,
    "start_time": "2024-04-19T16:05:27.452Z"
   },
   {
    "duration": 48,
    "start_time": "2024-04-19T16:05:37.960Z"
   },
   {
    "duration": 46,
    "start_time": "2024-04-19T16:05:47.247Z"
   },
   {
    "duration": 59,
    "start_time": "2024-04-19T16:06:15.814Z"
   },
   {
    "duration": 60,
    "start_time": "2024-04-19T16:06:21.878Z"
   },
   {
    "duration": 43,
    "start_time": "2024-04-19T16:06:28.914Z"
   },
   {
    "duration": 95,
    "start_time": "2024-04-19T16:06:50.687Z"
   },
   {
    "duration": 49,
    "start_time": "2024-04-19T16:07:15.874Z"
   },
   {
    "duration": 80,
    "start_time": "2024-04-19T16:07:31.754Z"
   },
   {
    "duration": 85,
    "start_time": "2024-04-19T16:07:49.308Z"
   },
   {
    "duration": 92,
    "start_time": "2024-04-19T16:08:10.293Z"
   },
   {
    "duration": 82,
    "start_time": "2024-04-19T16:08:17.002Z"
   },
   {
    "duration": 79,
    "start_time": "2024-04-19T16:08:40.282Z"
   },
   {
    "duration": 81,
    "start_time": "2024-04-19T16:12:10.208Z"
   },
   {
    "duration": 79,
    "start_time": "2024-04-19T16:12:11.802Z"
   },
   {
    "duration": 87,
    "start_time": "2024-04-19T16:12:15.227Z"
   },
   {
    "duration": 82,
    "start_time": "2024-04-19T16:12:22.015Z"
   },
   {
    "duration": 83,
    "start_time": "2024-04-19T16:12:53.660Z"
   },
   {
    "duration": 79,
    "start_time": "2024-04-19T16:13:26.690Z"
   },
   {
    "duration": 81,
    "start_time": "2024-04-19T16:13:28.071Z"
   },
   {
    "duration": 81,
    "start_time": "2024-04-19T16:15:06.623Z"
   },
   {
    "duration": 12,
    "start_time": "2024-04-19T16:15:08.786Z"
   },
   {
    "duration": 15,
    "start_time": "2024-04-19T16:15:09.392Z"
   },
   {
    "duration": 87,
    "start_time": "2024-04-19T16:15:24.163Z"
   },
   {
    "duration": 50,
    "start_time": "2024-04-23T12:30:24.816Z"
   },
   {
    "duration": 7,
    "start_time": "2024-04-23T12:48:25.201Z"
   },
   {
    "duration": 7,
    "start_time": "2024-04-23T12:48:41.117Z"
   }
  ],
  "kernelspec": {
   "display_name": "Python 3 (ipykernel)",
   "language": "python",
   "name": "python3"
  },
  "language_info": {
   "codemirror_mode": {
    "name": "ipython",
    "version": 3
   },
   "file_extension": ".py",
   "mimetype": "text/x-python",
   "name": "python",
   "nbconvert_exporter": "python",
   "pygments_lexer": "ipython3",
   "version": "3.9.5"
  },
  "toc": {
   "base_numbering": 1,
   "nav_menu": {},
   "number_sections": true,
   "sideBar": true,
   "skip_h1_title": true,
   "title_cell": "Table of Contents",
   "title_sidebar": "Contents",
   "toc_cell": false,
   "toc_position": {},
   "toc_section_display": true,
   "toc_window_display": false
  }
 },
 "nbformat": 4,
 "nbformat_minor": 5
}
