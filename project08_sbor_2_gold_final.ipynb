{
 "cells": [
  {
   "cell_type": "markdown",
   "metadata": {
    "toc": true
   },
   "source": [
    "<h1>Содержание<span class=\"tocSkip\"></span></h1>\n",
    "<div class=\"toc\"><ul class=\"toc-item\"><li><span><a href=\"#Подготовка-данных.-Проверка-правильности-расчета-эффективности-обогащения.-Анализ-признаков,-недоступных-в-тестовой-выборке.-Предобработка-данных\" data-toc-modified-id=\"Подготовка-данных.-Проверка-правильности-расчета-эффективности-обогащения.-Анализ-признаков,-недоступных-в-тестовой-выборке.-Предобработка-данных-1\"><span class=\"toc-item-num\">1&nbsp;&nbsp;</span>Подготовка данных. Проверка правильности расчета эффективности обогащения. Анализ признаков, недоступных в тестовой выборке. Предобработка данных</a></span></li><li><span><a href=\"#Анализ-данных\" data-toc-modified-id=\"Анализ-данных-2\"><span class=\"toc-item-num\">2&nbsp;&nbsp;</span>Анализ данных</a></span></li><li><span><a href=\"#Модель\" data-toc-modified-id=\"Модель-3\"><span class=\"toc-item-num\">3&nbsp;&nbsp;</span>Модель</a></span></li><li><span><a href=\"#Проверка-модели-на-вменяемость\" data-toc-modified-id=\"Проверка-модели-на-вменяемость-4\"><span class=\"toc-item-num\">4&nbsp;&nbsp;</span>Проверка модели на вменяемость</a></span></li><li><span><a href=\"#Общий-вывод\" data-toc-modified-id=\"Общий-вывод-5\"><span class=\"toc-item-num\">5&nbsp;&nbsp;</span>Общий вывод</a></span></li><li><span><a href=\"#Чек-лист-готовности-проекта\" data-toc-modified-id=\"Чек-лист-готовности-проекта-6\"><span class=\"toc-item-num\">6&nbsp;&nbsp;</span>Чек-лист готовности проекта</a></span></li></ul></div>"
   ]
  },
  {
   "cell_type": "markdown",
   "metadata": {},
   "source": [
    "# Восстановление золота из руды"
   ]
  },
  {
   "cell_type": "markdown",
   "metadata": {},
   "source": [
    "# Описание проекта"
   ]
  },
  {
   "cell_type": "markdown",
   "metadata": {},
   "source": [
    "Данные в трёх файлах:\n",
    "\n",
    "gold_recovery_train_new.csv — обучающая выборка;\n",
    "\n",
    "gold_recovery_test_new.csv — тестовая выборка;\n",
    "\n",
    "gold_recovery_full_new.csv — исходные данные.\n",
    "\n",
    "Данные индексируются датой и временем получения информации (признак date). \n",
    "Соседние по времени параметры часто похожи. Некоторые параметры недоступны, потому что замеряются и/или рассчитываются значительно позже. \n",
    "Из-за этого в тестовой выборке отсутствуют некоторые признаки, которые могут быть в обучающей. \n",
    "Также в тестовом наборе нет целевых признаков.\n",
    "Исходный датасет содержит обучающую и тестовую выборки со всеми признаками.\n",
    "\n"
   ]
  },
  {
   "cell_type": "markdown",
   "metadata": {},
   "source": [
    "# Цель проекта:"
   ]
  },
  {
   "cell_type": "markdown",
   "metadata": {},
   "source": [
    "Подготовить прототип модели машинного обучения для «Цифры». \n",
    "Модель должна предсказать коэффициент восстановления золота из золотосодержащей руды. \n",
    "Модель поможет оптимизировать производство, чтобы не запускать предприятие с убыточными \n",
    "характеристиками.\n",
    "\n"
   ]
  },
  {
   "cell_type": "markdown",
   "metadata": {},
   "source": [
    "# План проекта:"
   ]
  },
  {
   "cell_type": "markdown",
   "metadata": {},
   "source": [
    "    1. Загрузка, обзор, предобработка данных. Проверка правильности расчета эффективности обогащения.\n",
    "       Анализ признаков, недоступных в тестовой выборке\n",
    "       \n",
    "    2. Анализ данных. Изменение концентрации металлов (Au, Ag, Pb) на различных этапах очистки. \n",
    "       Сравнение распределения размеров гранул сырья на обучающей и тестовой выборках. \n",
    "       Исследование суммарной концентрации всех веществ на разных стадиях: в сырье, в черновом \n",
    "       и финальном концентратах\n",
    "\n",
    "    3. Построение модели. Функция для вычисления sMAPE. Обучение моделей и их качество. Выбор лучшей модели\n",
    "   \n",
    "    4. Проверка модели на вменяемость.\n",
    "\n",
    "    5. Общий вывод"
   ]
  },
  {
   "cell_type": "markdown",
   "metadata": {},
   "source": [
    "## Подготовка данных. Проверка правильности расчета эффективности обогащения. Анализ признаков, недоступных в тестовой выборке. Предобработка данных\n"
   ]
  },
  {
   "cell_type": "markdown",
   "metadata": {},
   "source": [
    "# 1.1. Подготовка данных"
   ]
  },
  {
   "cell_type": "code",
   "execution_count": 1,
   "metadata": {},
   "outputs": [],
   "source": [
    "import pandas as pd\n",
    "import numpy as np\n",
    "import seaborn as sns\n",
    "\n",
    "import matplotlib.pyplot as plt\n",
    "from plotly import graph_objects as go\n",
    "\n",
    "from sklearn.model_selection import train_test_split\n",
    "from sklearn.pipeline import  make_pipeline\n",
    "from sklearn.preprocessing import StandardScaler\n",
    "from sklearn.tree import DecisionTreeRegressor\n",
    "from sklearn.ensemble import RandomForestRegressor\n",
    "from sklearn.linear_model import LinearRegression\n",
    "from sklearn.metrics import mean_absolute_error, make_scorer\n",
    "from sklearn.model_selection import GridSearchCV,cross_val_score\n",
    "\n",
    "from sklearn.dummy import DummyRegressor\n",
    "\n",
    "import warnings\n",
    "warnings.filterwarnings(\"ignore\")\n"
   ]
  },
  {
   "cell_type": "code",
   "execution_count": 2,
   "metadata": {},
   "outputs": [
    {
     "data": {
      "text/plain": [
       "((14149, 86), (5290, 52), (19439, 86))"
      ]
     },
     "execution_count": 2,
     "metadata": {},
     "output_type": "execute_result"
    }
   ],
   "source": [
    "full = pd.read_csv('/datasets/gold_recovery_full_new.csv', index_col='date')\n",
    "train = pd.read_csv('/datasets/gold_recovery_train_new.csv', index_col='date') \n",
    "test = pd.read_csv('/datasets/gold_recovery_test_new.csv', index_col='date')                   \n",
    "\n",
    "train.shape, test.shape, full.shape\n"
   ]
  },
  {
   "cell_type": "markdown",
   "metadata": {},
   "source": [
    "Посмотрим описание таблиц:"
   ]
  },
  {
   "cell_type": "code",
   "execution_count": 3,
   "metadata": {
    "scrolled": false
   },
   "outputs": [
    {
     "data": {
      "text/html": [
       "<div>\n",
       "<style scoped>\n",
       "    .dataframe tbody tr th:only-of-type {\n",
       "        vertical-align: middle;\n",
       "    }\n",
       "\n",
       "    .dataframe tbody tr th {\n",
       "        vertical-align: top;\n",
       "    }\n",
       "\n",
       "    .dataframe thead th {\n",
       "        text-align: right;\n",
       "    }\n",
       "</style>\n",
       "<table border=\"1\" class=\"dataframe\">\n",
       "  <thead>\n",
       "    <tr style=\"text-align: right;\">\n",
       "      <th></th>\n",
       "      <th>final.output.concentrate_ag</th>\n",
       "      <th>final.output.concentrate_pb</th>\n",
       "      <th>final.output.concentrate_sol</th>\n",
       "      <th>final.output.concentrate_au</th>\n",
       "      <th>final.output.recovery</th>\n",
       "      <th>final.output.tail_ag</th>\n",
       "      <th>final.output.tail_pb</th>\n",
       "      <th>final.output.tail_sol</th>\n",
       "      <th>final.output.tail_au</th>\n",
       "      <th>primary_cleaner.input.sulfate</th>\n",
       "      <th>...</th>\n",
       "      <th>secondary_cleaner.state.floatbank4_a_air</th>\n",
       "      <th>secondary_cleaner.state.floatbank4_a_level</th>\n",
       "      <th>secondary_cleaner.state.floatbank4_b_air</th>\n",
       "      <th>secondary_cleaner.state.floatbank4_b_level</th>\n",
       "      <th>secondary_cleaner.state.floatbank5_a_air</th>\n",
       "      <th>secondary_cleaner.state.floatbank5_a_level</th>\n",
       "      <th>secondary_cleaner.state.floatbank5_b_air</th>\n",
       "      <th>secondary_cleaner.state.floatbank5_b_level</th>\n",
       "      <th>secondary_cleaner.state.floatbank6_a_air</th>\n",
       "      <th>secondary_cleaner.state.floatbank6_a_level</th>\n",
       "    </tr>\n",
       "    <tr>\n",
       "      <th>date</th>\n",
       "      <th></th>\n",
       "      <th></th>\n",
       "      <th></th>\n",
       "      <th></th>\n",
       "      <th></th>\n",
       "      <th></th>\n",
       "      <th></th>\n",
       "      <th></th>\n",
       "      <th></th>\n",
       "      <th></th>\n",
       "      <th></th>\n",
       "      <th></th>\n",
       "      <th></th>\n",
       "      <th></th>\n",
       "      <th></th>\n",
       "      <th></th>\n",
       "      <th></th>\n",
       "      <th></th>\n",
       "      <th></th>\n",
       "      <th></th>\n",
       "      <th></th>\n",
       "    </tr>\n",
       "  </thead>\n",
       "  <tbody>\n",
       "    <tr>\n",
       "      <th>2016-01-15 00:00:00</th>\n",
       "      <td>6.055403</td>\n",
       "      <td>9.889648</td>\n",
       "      <td>5.507324</td>\n",
       "      <td>42.192020</td>\n",
       "      <td>70.541216</td>\n",
       "      <td>10.411962</td>\n",
       "      <td>0.895447</td>\n",
       "      <td>16.904297</td>\n",
       "      <td>2.143149</td>\n",
       "      <td>127.092003</td>\n",
       "      <td>...</td>\n",
       "      <td>14.016835</td>\n",
       "      <td>-502.488007</td>\n",
       "      <td>12.099931</td>\n",
       "      <td>-504.715942</td>\n",
       "      <td>9.925633</td>\n",
       "      <td>-498.310211</td>\n",
       "      <td>8.079666</td>\n",
       "      <td>-500.470978</td>\n",
       "      <td>14.151341</td>\n",
       "      <td>-605.841980</td>\n",
       "    </tr>\n",
       "    <tr>\n",
       "      <th>2016-01-15 01:00:00</th>\n",
       "      <td>6.029369</td>\n",
       "      <td>9.968944</td>\n",
       "      <td>5.257781</td>\n",
       "      <td>42.701629</td>\n",
       "      <td>69.266198</td>\n",
       "      <td>10.462676</td>\n",
       "      <td>0.927452</td>\n",
       "      <td>16.634514</td>\n",
       "      <td>2.224930</td>\n",
       "      <td>125.629232</td>\n",
       "      <td>...</td>\n",
       "      <td>13.992281</td>\n",
       "      <td>-505.503262</td>\n",
       "      <td>11.950531</td>\n",
       "      <td>-501.331529</td>\n",
       "      <td>10.039245</td>\n",
       "      <td>-500.169983</td>\n",
       "      <td>7.984757</td>\n",
       "      <td>-500.582168</td>\n",
       "      <td>13.998353</td>\n",
       "      <td>-599.787184</td>\n",
       "    </tr>\n",
       "    <tr>\n",
       "      <th>2016-01-15 02:00:00</th>\n",
       "      <td>6.055926</td>\n",
       "      <td>10.213995</td>\n",
       "      <td>5.383759</td>\n",
       "      <td>42.657501</td>\n",
       "      <td>68.116445</td>\n",
       "      <td>10.507046</td>\n",
       "      <td>0.953716</td>\n",
       "      <td>16.208849</td>\n",
       "      <td>2.257889</td>\n",
       "      <td>123.819808</td>\n",
       "      <td>...</td>\n",
       "      <td>14.015015</td>\n",
       "      <td>-502.520901</td>\n",
       "      <td>11.912783</td>\n",
       "      <td>-501.133383</td>\n",
       "      <td>10.070913</td>\n",
       "      <td>-500.129135</td>\n",
       "      <td>8.013877</td>\n",
       "      <td>-500.517572</td>\n",
       "      <td>14.028663</td>\n",
       "      <td>-601.427363</td>\n",
       "    </tr>\n",
       "    <tr>\n",
       "      <th>2016-01-15 03:00:00</th>\n",
       "      <td>6.047977</td>\n",
       "      <td>9.977019</td>\n",
       "      <td>4.858634</td>\n",
       "      <td>42.689819</td>\n",
       "      <td>68.347543</td>\n",
       "      <td>10.422762</td>\n",
       "      <td>0.883763</td>\n",
       "      <td>16.532835</td>\n",
       "      <td>2.146849</td>\n",
       "      <td>122.270188</td>\n",
       "      <td>...</td>\n",
       "      <td>14.036510</td>\n",
       "      <td>-500.857308</td>\n",
       "      <td>11.999550</td>\n",
       "      <td>-501.193686</td>\n",
       "      <td>9.970366</td>\n",
       "      <td>-499.201640</td>\n",
       "      <td>7.977324</td>\n",
       "      <td>-500.255908</td>\n",
       "      <td>14.005551</td>\n",
       "      <td>-599.996129</td>\n",
       "    </tr>\n",
       "    <tr>\n",
       "      <th>2016-01-15 04:00:00</th>\n",
       "      <td>6.148599</td>\n",
       "      <td>10.142511</td>\n",
       "      <td>4.939416</td>\n",
       "      <td>42.774141</td>\n",
       "      <td>66.927016</td>\n",
       "      <td>10.360302</td>\n",
       "      <td>0.792826</td>\n",
       "      <td>16.525686</td>\n",
       "      <td>2.055292</td>\n",
       "      <td>117.988169</td>\n",
       "      <td>...</td>\n",
       "      <td>14.027298</td>\n",
       "      <td>-499.838632</td>\n",
       "      <td>11.953070</td>\n",
       "      <td>-501.053894</td>\n",
       "      <td>9.925709</td>\n",
       "      <td>-501.686727</td>\n",
       "      <td>7.894242</td>\n",
       "      <td>-500.356035</td>\n",
       "      <td>13.996647</td>\n",
       "      <td>-601.496691</td>\n",
       "    </tr>\n",
       "  </tbody>\n",
       "</table>\n",
       "<p>5 rows × 86 columns</p>\n",
       "</div>"
      ],
      "text/plain": [
       "                     final.output.concentrate_ag  final.output.concentrate_pb  \\\n",
       "date                                                                            \n",
       "2016-01-15 00:00:00                     6.055403                     9.889648   \n",
       "2016-01-15 01:00:00                     6.029369                     9.968944   \n",
       "2016-01-15 02:00:00                     6.055926                    10.213995   \n",
       "2016-01-15 03:00:00                     6.047977                     9.977019   \n",
       "2016-01-15 04:00:00                     6.148599                    10.142511   \n",
       "\n",
       "                     final.output.concentrate_sol  \\\n",
       "date                                                \n",
       "2016-01-15 00:00:00                      5.507324   \n",
       "2016-01-15 01:00:00                      5.257781   \n",
       "2016-01-15 02:00:00                      5.383759   \n",
       "2016-01-15 03:00:00                      4.858634   \n",
       "2016-01-15 04:00:00                      4.939416   \n",
       "\n",
       "                     final.output.concentrate_au  final.output.recovery  \\\n",
       "date                                                                      \n",
       "2016-01-15 00:00:00                    42.192020              70.541216   \n",
       "2016-01-15 01:00:00                    42.701629              69.266198   \n",
       "2016-01-15 02:00:00                    42.657501              68.116445   \n",
       "2016-01-15 03:00:00                    42.689819              68.347543   \n",
       "2016-01-15 04:00:00                    42.774141              66.927016   \n",
       "\n",
       "                     final.output.tail_ag  final.output.tail_pb  \\\n",
       "date                                                              \n",
       "2016-01-15 00:00:00             10.411962              0.895447   \n",
       "2016-01-15 01:00:00             10.462676              0.927452   \n",
       "2016-01-15 02:00:00             10.507046              0.953716   \n",
       "2016-01-15 03:00:00             10.422762              0.883763   \n",
       "2016-01-15 04:00:00             10.360302              0.792826   \n",
       "\n",
       "                     final.output.tail_sol  final.output.tail_au  \\\n",
       "date                                                               \n",
       "2016-01-15 00:00:00              16.904297              2.143149   \n",
       "2016-01-15 01:00:00              16.634514              2.224930   \n",
       "2016-01-15 02:00:00              16.208849              2.257889   \n",
       "2016-01-15 03:00:00              16.532835              2.146849   \n",
       "2016-01-15 04:00:00              16.525686              2.055292   \n",
       "\n",
       "                     primary_cleaner.input.sulfate  ...  \\\n",
       "date                                                ...   \n",
       "2016-01-15 00:00:00                     127.092003  ...   \n",
       "2016-01-15 01:00:00                     125.629232  ...   \n",
       "2016-01-15 02:00:00                     123.819808  ...   \n",
       "2016-01-15 03:00:00                     122.270188  ...   \n",
       "2016-01-15 04:00:00                     117.988169  ...   \n",
       "\n",
       "                     secondary_cleaner.state.floatbank4_a_air  \\\n",
       "date                                                            \n",
       "2016-01-15 00:00:00                                 14.016835   \n",
       "2016-01-15 01:00:00                                 13.992281   \n",
       "2016-01-15 02:00:00                                 14.015015   \n",
       "2016-01-15 03:00:00                                 14.036510   \n",
       "2016-01-15 04:00:00                                 14.027298   \n",
       "\n",
       "                     secondary_cleaner.state.floatbank4_a_level  \\\n",
       "date                                                              \n",
       "2016-01-15 00:00:00                                 -502.488007   \n",
       "2016-01-15 01:00:00                                 -505.503262   \n",
       "2016-01-15 02:00:00                                 -502.520901   \n",
       "2016-01-15 03:00:00                                 -500.857308   \n",
       "2016-01-15 04:00:00                                 -499.838632   \n",
       "\n",
       "                     secondary_cleaner.state.floatbank4_b_air  \\\n",
       "date                                                            \n",
       "2016-01-15 00:00:00                                 12.099931   \n",
       "2016-01-15 01:00:00                                 11.950531   \n",
       "2016-01-15 02:00:00                                 11.912783   \n",
       "2016-01-15 03:00:00                                 11.999550   \n",
       "2016-01-15 04:00:00                                 11.953070   \n",
       "\n",
       "                     secondary_cleaner.state.floatbank4_b_level  \\\n",
       "date                                                              \n",
       "2016-01-15 00:00:00                                 -504.715942   \n",
       "2016-01-15 01:00:00                                 -501.331529   \n",
       "2016-01-15 02:00:00                                 -501.133383   \n",
       "2016-01-15 03:00:00                                 -501.193686   \n",
       "2016-01-15 04:00:00                                 -501.053894   \n",
       "\n",
       "                     secondary_cleaner.state.floatbank5_a_air  \\\n",
       "date                                                            \n",
       "2016-01-15 00:00:00                                  9.925633   \n",
       "2016-01-15 01:00:00                                 10.039245   \n",
       "2016-01-15 02:00:00                                 10.070913   \n",
       "2016-01-15 03:00:00                                  9.970366   \n",
       "2016-01-15 04:00:00                                  9.925709   \n",
       "\n",
       "                     secondary_cleaner.state.floatbank5_a_level  \\\n",
       "date                                                              \n",
       "2016-01-15 00:00:00                                 -498.310211   \n",
       "2016-01-15 01:00:00                                 -500.169983   \n",
       "2016-01-15 02:00:00                                 -500.129135   \n",
       "2016-01-15 03:00:00                                 -499.201640   \n",
       "2016-01-15 04:00:00                                 -501.686727   \n",
       "\n",
       "                     secondary_cleaner.state.floatbank5_b_air  \\\n",
       "date                                                            \n",
       "2016-01-15 00:00:00                                  8.079666   \n",
       "2016-01-15 01:00:00                                  7.984757   \n",
       "2016-01-15 02:00:00                                  8.013877   \n",
       "2016-01-15 03:00:00                                  7.977324   \n",
       "2016-01-15 04:00:00                                  7.894242   \n",
       "\n",
       "                     secondary_cleaner.state.floatbank5_b_level  \\\n",
       "date                                                              \n",
       "2016-01-15 00:00:00                                 -500.470978   \n",
       "2016-01-15 01:00:00                                 -500.582168   \n",
       "2016-01-15 02:00:00                                 -500.517572   \n",
       "2016-01-15 03:00:00                                 -500.255908   \n",
       "2016-01-15 04:00:00                                 -500.356035   \n",
       "\n",
       "                     secondary_cleaner.state.floatbank6_a_air  \\\n",
       "date                                                            \n",
       "2016-01-15 00:00:00                                 14.151341   \n",
       "2016-01-15 01:00:00                                 13.998353   \n",
       "2016-01-15 02:00:00                                 14.028663   \n",
       "2016-01-15 03:00:00                                 14.005551   \n",
       "2016-01-15 04:00:00                                 13.996647   \n",
       "\n",
       "                     secondary_cleaner.state.floatbank6_a_level  \n",
       "date                                                             \n",
       "2016-01-15 00:00:00                                 -605.841980  \n",
       "2016-01-15 01:00:00                                 -599.787184  \n",
       "2016-01-15 02:00:00                                 -601.427363  \n",
       "2016-01-15 03:00:00                                 -599.996129  \n",
       "2016-01-15 04:00:00                                 -601.496691  \n",
       "\n",
       "[5 rows x 86 columns]"
      ]
     },
     "execution_count": 3,
     "metadata": {},
     "output_type": "execute_result"
    }
   ],
   "source": [
    "train.head()"
   ]
  },
  {
   "cell_type": "code",
   "execution_count": 4,
   "metadata": {},
   "outputs": [
    {
     "data": {
      "text/html": [
       "<div>\n",
       "<style scoped>\n",
       "    .dataframe tbody tr th:only-of-type {\n",
       "        vertical-align: middle;\n",
       "    }\n",
       "\n",
       "    .dataframe tbody tr th {\n",
       "        vertical-align: top;\n",
       "    }\n",
       "\n",
       "    .dataframe thead th {\n",
       "        text-align: right;\n",
       "    }\n",
       "</style>\n",
       "<table border=\"1\" class=\"dataframe\">\n",
       "  <thead>\n",
       "    <tr style=\"text-align: right;\">\n",
       "      <th></th>\n",
       "      <th>primary_cleaner.input.sulfate</th>\n",
       "      <th>primary_cleaner.input.depressant</th>\n",
       "      <th>primary_cleaner.input.feed_size</th>\n",
       "      <th>primary_cleaner.input.xanthate</th>\n",
       "      <th>primary_cleaner.state.floatbank8_a_air</th>\n",
       "      <th>primary_cleaner.state.floatbank8_a_level</th>\n",
       "      <th>primary_cleaner.state.floatbank8_b_air</th>\n",
       "      <th>primary_cleaner.state.floatbank8_b_level</th>\n",
       "      <th>primary_cleaner.state.floatbank8_c_air</th>\n",
       "      <th>primary_cleaner.state.floatbank8_c_level</th>\n",
       "      <th>...</th>\n",
       "      <th>secondary_cleaner.state.floatbank4_a_air</th>\n",
       "      <th>secondary_cleaner.state.floatbank4_a_level</th>\n",
       "      <th>secondary_cleaner.state.floatbank4_b_air</th>\n",
       "      <th>secondary_cleaner.state.floatbank4_b_level</th>\n",
       "      <th>secondary_cleaner.state.floatbank5_a_air</th>\n",
       "      <th>secondary_cleaner.state.floatbank5_a_level</th>\n",
       "      <th>secondary_cleaner.state.floatbank5_b_air</th>\n",
       "      <th>secondary_cleaner.state.floatbank5_b_level</th>\n",
       "      <th>secondary_cleaner.state.floatbank6_a_air</th>\n",
       "      <th>secondary_cleaner.state.floatbank6_a_level</th>\n",
       "    </tr>\n",
       "    <tr>\n",
       "      <th>date</th>\n",
       "      <th></th>\n",
       "      <th></th>\n",
       "      <th></th>\n",
       "      <th></th>\n",
       "      <th></th>\n",
       "      <th></th>\n",
       "      <th></th>\n",
       "      <th></th>\n",
       "      <th></th>\n",
       "      <th></th>\n",
       "      <th></th>\n",
       "      <th></th>\n",
       "      <th></th>\n",
       "      <th></th>\n",
       "      <th></th>\n",
       "      <th></th>\n",
       "      <th></th>\n",
       "      <th></th>\n",
       "      <th></th>\n",
       "      <th></th>\n",
       "      <th></th>\n",
       "    </tr>\n",
       "  </thead>\n",
       "  <tbody>\n",
       "    <tr>\n",
       "      <th>2016-09-01 00:59:59</th>\n",
       "      <td>210.800909</td>\n",
       "      <td>14.993118</td>\n",
       "      <td>8.080000</td>\n",
       "      <td>1.005021</td>\n",
       "      <td>1398.981301</td>\n",
       "      <td>-500.225577</td>\n",
       "      <td>1399.144926</td>\n",
       "      <td>-499.919735</td>\n",
       "      <td>1400.102998</td>\n",
       "      <td>-500.704369</td>\n",
       "      <td>...</td>\n",
       "      <td>12.023554</td>\n",
       "      <td>-497.795834</td>\n",
       "      <td>8.016656</td>\n",
       "      <td>-501.289139</td>\n",
       "      <td>7.946562</td>\n",
       "      <td>-432.317850</td>\n",
       "      <td>4.872511</td>\n",
       "      <td>-500.037437</td>\n",
       "      <td>26.705889</td>\n",
       "      <td>-499.709414</td>\n",
       "    </tr>\n",
       "    <tr>\n",
       "      <th>2016-09-01 01:59:59</th>\n",
       "      <td>215.392455</td>\n",
       "      <td>14.987471</td>\n",
       "      <td>8.080000</td>\n",
       "      <td>0.990469</td>\n",
       "      <td>1398.777912</td>\n",
       "      <td>-500.057435</td>\n",
       "      <td>1398.055362</td>\n",
       "      <td>-499.778182</td>\n",
       "      <td>1396.151033</td>\n",
       "      <td>-499.240168</td>\n",
       "      <td>...</td>\n",
       "      <td>12.058140</td>\n",
       "      <td>-498.695773</td>\n",
       "      <td>8.130979</td>\n",
       "      <td>-499.634209</td>\n",
       "      <td>7.958270</td>\n",
       "      <td>-525.839648</td>\n",
       "      <td>4.878850</td>\n",
       "      <td>-500.162375</td>\n",
       "      <td>25.019940</td>\n",
       "      <td>-499.819438</td>\n",
       "    </tr>\n",
       "    <tr>\n",
       "      <th>2016-09-01 02:59:59</th>\n",
       "      <td>215.259946</td>\n",
       "      <td>12.884934</td>\n",
       "      <td>7.786667</td>\n",
       "      <td>0.996043</td>\n",
       "      <td>1398.493666</td>\n",
       "      <td>-500.868360</td>\n",
       "      <td>1398.860436</td>\n",
       "      <td>-499.764529</td>\n",
       "      <td>1398.075709</td>\n",
       "      <td>-502.151509</td>\n",
       "      <td>...</td>\n",
       "      <td>11.962366</td>\n",
       "      <td>-498.767484</td>\n",
       "      <td>8.096893</td>\n",
       "      <td>-500.827423</td>\n",
       "      <td>8.071056</td>\n",
       "      <td>-500.801673</td>\n",
       "      <td>4.905125</td>\n",
       "      <td>-499.828510</td>\n",
       "      <td>24.994862</td>\n",
       "      <td>-500.622559</td>\n",
       "    </tr>\n",
       "    <tr>\n",
       "      <th>2016-09-01 03:59:59</th>\n",
       "      <td>215.336236</td>\n",
       "      <td>12.006805</td>\n",
       "      <td>7.640000</td>\n",
       "      <td>0.863514</td>\n",
       "      <td>1399.618111</td>\n",
       "      <td>-498.863574</td>\n",
       "      <td>1397.440120</td>\n",
       "      <td>-499.211024</td>\n",
       "      <td>1400.129303</td>\n",
       "      <td>-498.355873</td>\n",
       "      <td>...</td>\n",
       "      <td>12.033091</td>\n",
       "      <td>-498.350935</td>\n",
       "      <td>8.074946</td>\n",
       "      <td>-499.474407</td>\n",
       "      <td>7.897085</td>\n",
       "      <td>-500.868509</td>\n",
       "      <td>4.931400</td>\n",
       "      <td>-499.963623</td>\n",
       "      <td>24.948919</td>\n",
       "      <td>-498.709987</td>\n",
       "    </tr>\n",
       "    <tr>\n",
       "      <th>2016-09-01 04:59:59</th>\n",
       "      <td>199.099327</td>\n",
       "      <td>10.682530</td>\n",
       "      <td>7.530000</td>\n",
       "      <td>0.805575</td>\n",
       "      <td>1401.268123</td>\n",
       "      <td>-500.808305</td>\n",
       "      <td>1398.128818</td>\n",
       "      <td>-499.504543</td>\n",
       "      <td>1402.172226</td>\n",
       "      <td>-500.810606</td>\n",
       "      <td>...</td>\n",
       "      <td>12.025367</td>\n",
       "      <td>-500.786497</td>\n",
       "      <td>8.054678</td>\n",
       "      <td>-500.397500</td>\n",
       "      <td>8.107890</td>\n",
       "      <td>-509.526725</td>\n",
       "      <td>4.957674</td>\n",
       "      <td>-500.360026</td>\n",
       "      <td>25.003331</td>\n",
       "      <td>-500.856333</td>\n",
       "    </tr>\n",
       "  </tbody>\n",
       "</table>\n",
       "<p>5 rows × 52 columns</p>\n",
       "</div>"
      ],
      "text/plain": [
       "                     primary_cleaner.input.sulfate  \\\n",
       "date                                                 \n",
       "2016-09-01 00:59:59                     210.800909   \n",
       "2016-09-01 01:59:59                     215.392455   \n",
       "2016-09-01 02:59:59                     215.259946   \n",
       "2016-09-01 03:59:59                     215.336236   \n",
       "2016-09-01 04:59:59                     199.099327   \n",
       "\n",
       "                     primary_cleaner.input.depressant  \\\n",
       "date                                                    \n",
       "2016-09-01 00:59:59                         14.993118   \n",
       "2016-09-01 01:59:59                         14.987471   \n",
       "2016-09-01 02:59:59                         12.884934   \n",
       "2016-09-01 03:59:59                         12.006805   \n",
       "2016-09-01 04:59:59                         10.682530   \n",
       "\n",
       "                     primary_cleaner.input.feed_size  \\\n",
       "date                                                   \n",
       "2016-09-01 00:59:59                         8.080000   \n",
       "2016-09-01 01:59:59                         8.080000   \n",
       "2016-09-01 02:59:59                         7.786667   \n",
       "2016-09-01 03:59:59                         7.640000   \n",
       "2016-09-01 04:59:59                         7.530000   \n",
       "\n",
       "                     primary_cleaner.input.xanthate  \\\n",
       "date                                                  \n",
       "2016-09-01 00:59:59                        1.005021   \n",
       "2016-09-01 01:59:59                        0.990469   \n",
       "2016-09-01 02:59:59                        0.996043   \n",
       "2016-09-01 03:59:59                        0.863514   \n",
       "2016-09-01 04:59:59                        0.805575   \n",
       "\n",
       "                     primary_cleaner.state.floatbank8_a_air  \\\n",
       "date                                                          \n",
       "2016-09-01 00:59:59                             1398.981301   \n",
       "2016-09-01 01:59:59                             1398.777912   \n",
       "2016-09-01 02:59:59                             1398.493666   \n",
       "2016-09-01 03:59:59                             1399.618111   \n",
       "2016-09-01 04:59:59                             1401.268123   \n",
       "\n",
       "                     primary_cleaner.state.floatbank8_a_level  \\\n",
       "date                                                            \n",
       "2016-09-01 00:59:59                               -500.225577   \n",
       "2016-09-01 01:59:59                               -500.057435   \n",
       "2016-09-01 02:59:59                               -500.868360   \n",
       "2016-09-01 03:59:59                               -498.863574   \n",
       "2016-09-01 04:59:59                               -500.808305   \n",
       "\n",
       "                     primary_cleaner.state.floatbank8_b_air  \\\n",
       "date                                                          \n",
       "2016-09-01 00:59:59                             1399.144926   \n",
       "2016-09-01 01:59:59                             1398.055362   \n",
       "2016-09-01 02:59:59                             1398.860436   \n",
       "2016-09-01 03:59:59                             1397.440120   \n",
       "2016-09-01 04:59:59                             1398.128818   \n",
       "\n",
       "                     primary_cleaner.state.floatbank8_b_level  \\\n",
       "date                                                            \n",
       "2016-09-01 00:59:59                               -499.919735   \n",
       "2016-09-01 01:59:59                               -499.778182   \n",
       "2016-09-01 02:59:59                               -499.764529   \n",
       "2016-09-01 03:59:59                               -499.211024   \n",
       "2016-09-01 04:59:59                               -499.504543   \n",
       "\n",
       "                     primary_cleaner.state.floatbank8_c_air  \\\n",
       "date                                                          \n",
       "2016-09-01 00:59:59                             1400.102998   \n",
       "2016-09-01 01:59:59                             1396.151033   \n",
       "2016-09-01 02:59:59                             1398.075709   \n",
       "2016-09-01 03:59:59                             1400.129303   \n",
       "2016-09-01 04:59:59                             1402.172226   \n",
       "\n",
       "                     primary_cleaner.state.floatbank8_c_level  ...  \\\n",
       "date                                                           ...   \n",
       "2016-09-01 00:59:59                               -500.704369  ...   \n",
       "2016-09-01 01:59:59                               -499.240168  ...   \n",
       "2016-09-01 02:59:59                               -502.151509  ...   \n",
       "2016-09-01 03:59:59                               -498.355873  ...   \n",
       "2016-09-01 04:59:59                               -500.810606  ...   \n",
       "\n",
       "                     secondary_cleaner.state.floatbank4_a_air  \\\n",
       "date                                                            \n",
       "2016-09-01 00:59:59                                 12.023554   \n",
       "2016-09-01 01:59:59                                 12.058140   \n",
       "2016-09-01 02:59:59                                 11.962366   \n",
       "2016-09-01 03:59:59                                 12.033091   \n",
       "2016-09-01 04:59:59                                 12.025367   \n",
       "\n",
       "                     secondary_cleaner.state.floatbank4_a_level  \\\n",
       "date                                                              \n",
       "2016-09-01 00:59:59                                 -497.795834   \n",
       "2016-09-01 01:59:59                                 -498.695773   \n",
       "2016-09-01 02:59:59                                 -498.767484   \n",
       "2016-09-01 03:59:59                                 -498.350935   \n",
       "2016-09-01 04:59:59                                 -500.786497   \n",
       "\n",
       "                     secondary_cleaner.state.floatbank4_b_air  \\\n",
       "date                                                            \n",
       "2016-09-01 00:59:59                                  8.016656   \n",
       "2016-09-01 01:59:59                                  8.130979   \n",
       "2016-09-01 02:59:59                                  8.096893   \n",
       "2016-09-01 03:59:59                                  8.074946   \n",
       "2016-09-01 04:59:59                                  8.054678   \n",
       "\n",
       "                     secondary_cleaner.state.floatbank4_b_level  \\\n",
       "date                                                              \n",
       "2016-09-01 00:59:59                                 -501.289139   \n",
       "2016-09-01 01:59:59                                 -499.634209   \n",
       "2016-09-01 02:59:59                                 -500.827423   \n",
       "2016-09-01 03:59:59                                 -499.474407   \n",
       "2016-09-01 04:59:59                                 -500.397500   \n",
       "\n",
       "                     secondary_cleaner.state.floatbank5_a_air  \\\n",
       "date                                                            \n",
       "2016-09-01 00:59:59                                  7.946562   \n",
       "2016-09-01 01:59:59                                  7.958270   \n",
       "2016-09-01 02:59:59                                  8.071056   \n",
       "2016-09-01 03:59:59                                  7.897085   \n",
       "2016-09-01 04:59:59                                  8.107890   \n",
       "\n",
       "                     secondary_cleaner.state.floatbank5_a_level  \\\n",
       "date                                                              \n",
       "2016-09-01 00:59:59                                 -432.317850   \n",
       "2016-09-01 01:59:59                                 -525.839648   \n",
       "2016-09-01 02:59:59                                 -500.801673   \n",
       "2016-09-01 03:59:59                                 -500.868509   \n",
       "2016-09-01 04:59:59                                 -509.526725   \n",
       "\n",
       "                     secondary_cleaner.state.floatbank5_b_air  \\\n",
       "date                                                            \n",
       "2016-09-01 00:59:59                                  4.872511   \n",
       "2016-09-01 01:59:59                                  4.878850   \n",
       "2016-09-01 02:59:59                                  4.905125   \n",
       "2016-09-01 03:59:59                                  4.931400   \n",
       "2016-09-01 04:59:59                                  4.957674   \n",
       "\n",
       "                     secondary_cleaner.state.floatbank5_b_level  \\\n",
       "date                                                              \n",
       "2016-09-01 00:59:59                                 -500.037437   \n",
       "2016-09-01 01:59:59                                 -500.162375   \n",
       "2016-09-01 02:59:59                                 -499.828510   \n",
       "2016-09-01 03:59:59                                 -499.963623   \n",
       "2016-09-01 04:59:59                                 -500.360026   \n",
       "\n",
       "                     secondary_cleaner.state.floatbank6_a_air  \\\n",
       "date                                                            \n",
       "2016-09-01 00:59:59                                 26.705889   \n",
       "2016-09-01 01:59:59                                 25.019940   \n",
       "2016-09-01 02:59:59                                 24.994862   \n",
       "2016-09-01 03:59:59                                 24.948919   \n",
       "2016-09-01 04:59:59                                 25.003331   \n",
       "\n",
       "                     secondary_cleaner.state.floatbank6_a_level  \n",
       "date                                                             \n",
       "2016-09-01 00:59:59                                 -499.709414  \n",
       "2016-09-01 01:59:59                                 -499.819438  \n",
       "2016-09-01 02:59:59                                 -500.622559  \n",
       "2016-09-01 03:59:59                                 -498.709987  \n",
       "2016-09-01 04:59:59                                 -500.856333  \n",
       "\n",
       "[5 rows x 52 columns]"
      ]
     },
     "execution_count": 4,
     "metadata": {},
     "output_type": "execute_result"
    }
   ],
   "source": [
    "test.head()"
   ]
  },
  {
   "cell_type": "code",
   "execution_count": 5,
   "metadata": {},
   "outputs": [
    {
     "data": {
      "text/html": [
       "<div>\n",
       "<style scoped>\n",
       "    .dataframe tbody tr th:only-of-type {\n",
       "        vertical-align: middle;\n",
       "    }\n",
       "\n",
       "    .dataframe tbody tr th {\n",
       "        vertical-align: top;\n",
       "    }\n",
       "\n",
       "    .dataframe thead th {\n",
       "        text-align: right;\n",
       "    }\n",
       "</style>\n",
       "<table border=\"1\" class=\"dataframe\">\n",
       "  <thead>\n",
       "    <tr style=\"text-align: right;\">\n",
       "      <th></th>\n",
       "      <th>final.output.concentrate_ag</th>\n",
       "      <th>final.output.concentrate_pb</th>\n",
       "      <th>final.output.concentrate_sol</th>\n",
       "      <th>final.output.concentrate_au</th>\n",
       "      <th>final.output.recovery</th>\n",
       "      <th>final.output.tail_ag</th>\n",
       "      <th>final.output.tail_pb</th>\n",
       "      <th>final.output.tail_sol</th>\n",
       "      <th>final.output.tail_au</th>\n",
       "      <th>primary_cleaner.input.sulfate</th>\n",
       "      <th>...</th>\n",
       "      <th>secondary_cleaner.state.floatbank4_a_air</th>\n",
       "      <th>secondary_cleaner.state.floatbank4_a_level</th>\n",
       "      <th>secondary_cleaner.state.floatbank4_b_air</th>\n",
       "      <th>secondary_cleaner.state.floatbank4_b_level</th>\n",
       "      <th>secondary_cleaner.state.floatbank5_a_air</th>\n",
       "      <th>secondary_cleaner.state.floatbank5_a_level</th>\n",
       "      <th>secondary_cleaner.state.floatbank5_b_air</th>\n",
       "      <th>secondary_cleaner.state.floatbank5_b_level</th>\n",
       "      <th>secondary_cleaner.state.floatbank6_a_air</th>\n",
       "      <th>secondary_cleaner.state.floatbank6_a_level</th>\n",
       "    </tr>\n",
       "    <tr>\n",
       "      <th>date</th>\n",
       "      <th></th>\n",
       "      <th></th>\n",
       "      <th></th>\n",
       "      <th></th>\n",
       "      <th></th>\n",
       "      <th></th>\n",
       "      <th></th>\n",
       "      <th></th>\n",
       "      <th></th>\n",
       "      <th></th>\n",
       "      <th></th>\n",
       "      <th></th>\n",
       "      <th></th>\n",
       "      <th></th>\n",
       "      <th></th>\n",
       "      <th></th>\n",
       "      <th></th>\n",
       "      <th></th>\n",
       "      <th></th>\n",
       "      <th></th>\n",
       "      <th></th>\n",
       "    </tr>\n",
       "  </thead>\n",
       "  <tbody>\n",
       "    <tr>\n",
       "      <th>2016-01-15 00:00:00</th>\n",
       "      <td>6.055403</td>\n",
       "      <td>9.889648</td>\n",
       "      <td>5.507324</td>\n",
       "      <td>42.192020</td>\n",
       "      <td>70.541216</td>\n",
       "      <td>10.411962</td>\n",
       "      <td>0.895447</td>\n",
       "      <td>16.904297</td>\n",
       "      <td>2.143149</td>\n",
       "      <td>127.092003</td>\n",
       "      <td>...</td>\n",
       "      <td>14.016835</td>\n",
       "      <td>-502.488007</td>\n",
       "      <td>12.099931</td>\n",
       "      <td>-504.715942</td>\n",
       "      <td>9.925633</td>\n",
       "      <td>-498.310211</td>\n",
       "      <td>8.079666</td>\n",
       "      <td>-500.470978</td>\n",
       "      <td>14.151341</td>\n",
       "      <td>-605.841980</td>\n",
       "    </tr>\n",
       "    <tr>\n",
       "      <th>2016-01-15 01:00:00</th>\n",
       "      <td>6.029369</td>\n",
       "      <td>9.968944</td>\n",
       "      <td>5.257781</td>\n",
       "      <td>42.701629</td>\n",
       "      <td>69.266198</td>\n",
       "      <td>10.462676</td>\n",
       "      <td>0.927452</td>\n",
       "      <td>16.634514</td>\n",
       "      <td>2.224930</td>\n",
       "      <td>125.629232</td>\n",
       "      <td>...</td>\n",
       "      <td>13.992281</td>\n",
       "      <td>-505.503262</td>\n",
       "      <td>11.950531</td>\n",
       "      <td>-501.331529</td>\n",
       "      <td>10.039245</td>\n",
       "      <td>-500.169983</td>\n",
       "      <td>7.984757</td>\n",
       "      <td>-500.582168</td>\n",
       "      <td>13.998353</td>\n",
       "      <td>-599.787184</td>\n",
       "    </tr>\n",
       "    <tr>\n",
       "      <th>2016-01-15 02:00:00</th>\n",
       "      <td>6.055926</td>\n",
       "      <td>10.213995</td>\n",
       "      <td>5.383759</td>\n",
       "      <td>42.657501</td>\n",
       "      <td>68.116445</td>\n",
       "      <td>10.507046</td>\n",
       "      <td>0.953716</td>\n",
       "      <td>16.208849</td>\n",
       "      <td>2.257889</td>\n",
       "      <td>123.819808</td>\n",
       "      <td>...</td>\n",
       "      <td>14.015015</td>\n",
       "      <td>-502.520901</td>\n",
       "      <td>11.912783</td>\n",
       "      <td>-501.133383</td>\n",
       "      <td>10.070913</td>\n",
       "      <td>-500.129135</td>\n",
       "      <td>8.013877</td>\n",
       "      <td>-500.517572</td>\n",
       "      <td>14.028663</td>\n",
       "      <td>-601.427363</td>\n",
       "    </tr>\n",
       "    <tr>\n",
       "      <th>2016-01-15 03:00:00</th>\n",
       "      <td>6.047977</td>\n",
       "      <td>9.977019</td>\n",
       "      <td>4.858634</td>\n",
       "      <td>42.689819</td>\n",
       "      <td>68.347543</td>\n",
       "      <td>10.422762</td>\n",
       "      <td>0.883763</td>\n",
       "      <td>16.532835</td>\n",
       "      <td>2.146849</td>\n",
       "      <td>122.270188</td>\n",
       "      <td>...</td>\n",
       "      <td>14.036510</td>\n",
       "      <td>-500.857308</td>\n",
       "      <td>11.999550</td>\n",
       "      <td>-501.193686</td>\n",
       "      <td>9.970366</td>\n",
       "      <td>-499.201640</td>\n",
       "      <td>7.977324</td>\n",
       "      <td>-500.255908</td>\n",
       "      <td>14.005551</td>\n",
       "      <td>-599.996129</td>\n",
       "    </tr>\n",
       "    <tr>\n",
       "      <th>2016-01-15 04:00:00</th>\n",
       "      <td>6.148599</td>\n",
       "      <td>10.142511</td>\n",
       "      <td>4.939416</td>\n",
       "      <td>42.774141</td>\n",
       "      <td>66.927016</td>\n",
       "      <td>10.360302</td>\n",
       "      <td>0.792826</td>\n",
       "      <td>16.525686</td>\n",
       "      <td>2.055292</td>\n",
       "      <td>117.988169</td>\n",
       "      <td>...</td>\n",
       "      <td>14.027298</td>\n",
       "      <td>-499.838632</td>\n",
       "      <td>11.953070</td>\n",
       "      <td>-501.053894</td>\n",
       "      <td>9.925709</td>\n",
       "      <td>-501.686727</td>\n",
       "      <td>7.894242</td>\n",
       "      <td>-500.356035</td>\n",
       "      <td>13.996647</td>\n",
       "      <td>-601.496691</td>\n",
       "    </tr>\n",
       "  </tbody>\n",
       "</table>\n",
       "<p>5 rows × 86 columns</p>\n",
       "</div>"
      ],
      "text/plain": [
       "                     final.output.concentrate_ag  final.output.concentrate_pb  \\\n",
       "date                                                                            \n",
       "2016-01-15 00:00:00                     6.055403                     9.889648   \n",
       "2016-01-15 01:00:00                     6.029369                     9.968944   \n",
       "2016-01-15 02:00:00                     6.055926                    10.213995   \n",
       "2016-01-15 03:00:00                     6.047977                     9.977019   \n",
       "2016-01-15 04:00:00                     6.148599                    10.142511   \n",
       "\n",
       "                     final.output.concentrate_sol  \\\n",
       "date                                                \n",
       "2016-01-15 00:00:00                      5.507324   \n",
       "2016-01-15 01:00:00                      5.257781   \n",
       "2016-01-15 02:00:00                      5.383759   \n",
       "2016-01-15 03:00:00                      4.858634   \n",
       "2016-01-15 04:00:00                      4.939416   \n",
       "\n",
       "                     final.output.concentrate_au  final.output.recovery  \\\n",
       "date                                                                      \n",
       "2016-01-15 00:00:00                    42.192020              70.541216   \n",
       "2016-01-15 01:00:00                    42.701629              69.266198   \n",
       "2016-01-15 02:00:00                    42.657501              68.116445   \n",
       "2016-01-15 03:00:00                    42.689819              68.347543   \n",
       "2016-01-15 04:00:00                    42.774141              66.927016   \n",
       "\n",
       "                     final.output.tail_ag  final.output.tail_pb  \\\n",
       "date                                                              \n",
       "2016-01-15 00:00:00             10.411962              0.895447   \n",
       "2016-01-15 01:00:00             10.462676              0.927452   \n",
       "2016-01-15 02:00:00             10.507046              0.953716   \n",
       "2016-01-15 03:00:00             10.422762              0.883763   \n",
       "2016-01-15 04:00:00             10.360302              0.792826   \n",
       "\n",
       "                     final.output.tail_sol  final.output.tail_au  \\\n",
       "date                                                               \n",
       "2016-01-15 00:00:00              16.904297              2.143149   \n",
       "2016-01-15 01:00:00              16.634514              2.224930   \n",
       "2016-01-15 02:00:00              16.208849              2.257889   \n",
       "2016-01-15 03:00:00              16.532835              2.146849   \n",
       "2016-01-15 04:00:00              16.525686              2.055292   \n",
       "\n",
       "                     primary_cleaner.input.sulfate  ...  \\\n",
       "date                                                ...   \n",
       "2016-01-15 00:00:00                     127.092003  ...   \n",
       "2016-01-15 01:00:00                     125.629232  ...   \n",
       "2016-01-15 02:00:00                     123.819808  ...   \n",
       "2016-01-15 03:00:00                     122.270188  ...   \n",
       "2016-01-15 04:00:00                     117.988169  ...   \n",
       "\n",
       "                     secondary_cleaner.state.floatbank4_a_air  \\\n",
       "date                                                            \n",
       "2016-01-15 00:00:00                                 14.016835   \n",
       "2016-01-15 01:00:00                                 13.992281   \n",
       "2016-01-15 02:00:00                                 14.015015   \n",
       "2016-01-15 03:00:00                                 14.036510   \n",
       "2016-01-15 04:00:00                                 14.027298   \n",
       "\n",
       "                     secondary_cleaner.state.floatbank4_a_level  \\\n",
       "date                                                              \n",
       "2016-01-15 00:00:00                                 -502.488007   \n",
       "2016-01-15 01:00:00                                 -505.503262   \n",
       "2016-01-15 02:00:00                                 -502.520901   \n",
       "2016-01-15 03:00:00                                 -500.857308   \n",
       "2016-01-15 04:00:00                                 -499.838632   \n",
       "\n",
       "                     secondary_cleaner.state.floatbank4_b_air  \\\n",
       "date                                                            \n",
       "2016-01-15 00:00:00                                 12.099931   \n",
       "2016-01-15 01:00:00                                 11.950531   \n",
       "2016-01-15 02:00:00                                 11.912783   \n",
       "2016-01-15 03:00:00                                 11.999550   \n",
       "2016-01-15 04:00:00                                 11.953070   \n",
       "\n",
       "                     secondary_cleaner.state.floatbank4_b_level  \\\n",
       "date                                                              \n",
       "2016-01-15 00:00:00                                 -504.715942   \n",
       "2016-01-15 01:00:00                                 -501.331529   \n",
       "2016-01-15 02:00:00                                 -501.133383   \n",
       "2016-01-15 03:00:00                                 -501.193686   \n",
       "2016-01-15 04:00:00                                 -501.053894   \n",
       "\n",
       "                     secondary_cleaner.state.floatbank5_a_air  \\\n",
       "date                                                            \n",
       "2016-01-15 00:00:00                                  9.925633   \n",
       "2016-01-15 01:00:00                                 10.039245   \n",
       "2016-01-15 02:00:00                                 10.070913   \n",
       "2016-01-15 03:00:00                                  9.970366   \n",
       "2016-01-15 04:00:00                                  9.925709   \n",
       "\n",
       "                     secondary_cleaner.state.floatbank5_a_level  \\\n",
       "date                                                              \n",
       "2016-01-15 00:00:00                                 -498.310211   \n",
       "2016-01-15 01:00:00                                 -500.169983   \n",
       "2016-01-15 02:00:00                                 -500.129135   \n",
       "2016-01-15 03:00:00                                 -499.201640   \n",
       "2016-01-15 04:00:00                                 -501.686727   \n",
       "\n",
       "                     secondary_cleaner.state.floatbank5_b_air  \\\n",
       "date                                                            \n",
       "2016-01-15 00:00:00                                  8.079666   \n",
       "2016-01-15 01:00:00                                  7.984757   \n",
       "2016-01-15 02:00:00                                  8.013877   \n",
       "2016-01-15 03:00:00                                  7.977324   \n",
       "2016-01-15 04:00:00                                  7.894242   \n",
       "\n",
       "                     secondary_cleaner.state.floatbank5_b_level  \\\n",
       "date                                                              \n",
       "2016-01-15 00:00:00                                 -500.470978   \n",
       "2016-01-15 01:00:00                                 -500.582168   \n",
       "2016-01-15 02:00:00                                 -500.517572   \n",
       "2016-01-15 03:00:00                                 -500.255908   \n",
       "2016-01-15 04:00:00                                 -500.356035   \n",
       "\n",
       "                     secondary_cleaner.state.floatbank6_a_air  \\\n",
       "date                                                            \n",
       "2016-01-15 00:00:00                                 14.151341   \n",
       "2016-01-15 01:00:00                                 13.998353   \n",
       "2016-01-15 02:00:00                                 14.028663   \n",
       "2016-01-15 03:00:00                                 14.005551   \n",
       "2016-01-15 04:00:00                                 13.996647   \n",
       "\n",
       "                     secondary_cleaner.state.floatbank6_a_level  \n",
       "date                                                             \n",
       "2016-01-15 00:00:00                                 -605.841980  \n",
       "2016-01-15 01:00:00                                 -599.787184  \n",
       "2016-01-15 02:00:00                                 -601.427363  \n",
       "2016-01-15 03:00:00                                 -599.996129  \n",
       "2016-01-15 04:00:00                                 -601.496691  \n",
       "\n",
       "[5 rows x 86 columns]"
      ]
     },
     "execution_count": 5,
     "metadata": {},
     "output_type": "execute_result"
    }
   ],
   "source": [
    "full.head()"
   ]
  },
  {
   "cell_type": "code",
   "execution_count": 6,
   "metadata": {},
   "outputs": [
    {
     "name": "stdout",
     "output_type": "stream",
     "text": [
      "<class 'pandas.core.frame.DataFrame'>\n",
      "Index: 14149 entries, 2016-01-15 00:00:00 to 2018-08-18 10:59:59\n",
      "Data columns (total 86 columns):\n",
      " #   Column                                              Non-Null Count  Dtype  \n",
      "---  ------                                              --------------  -----  \n",
      " 0   final.output.concentrate_ag                         14148 non-null  float64\n",
      " 1   final.output.concentrate_pb                         14148 non-null  float64\n",
      " 2   final.output.concentrate_sol                        13938 non-null  float64\n",
      " 3   final.output.concentrate_au                         14149 non-null  float64\n",
      " 4   final.output.recovery                               14149 non-null  float64\n",
      " 5   final.output.tail_ag                                14149 non-null  float64\n",
      " 6   final.output.tail_pb                                14049 non-null  float64\n",
      " 7   final.output.tail_sol                               14144 non-null  float64\n",
      " 8   final.output.tail_au                                14149 non-null  float64\n",
      " 9   primary_cleaner.input.sulfate                       14129 non-null  float64\n",
      " 10  primary_cleaner.input.depressant                    14117 non-null  float64\n",
      " 11  primary_cleaner.input.feed_size                     14149 non-null  float64\n",
      " 12  primary_cleaner.input.xanthate                      14049 non-null  float64\n",
      " 13  primary_cleaner.output.concentrate_ag               14149 non-null  float64\n",
      " 14  primary_cleaner.output.concentrate_pb               14063 non-null  float64\n",
      " 15  primary_cleaner.output.concentrate_sol              13863 non-null  float64\n",
      " 16  primary_cleaner.output.concentrate_au               14149 non-null  float64\n",
      " 17  primary_cleaner.output.tail_ag                      14148 non-null  float64\n",
      " 18  primary_cleaner.output.tail_pb                      14134 non-null  float64\n",
      " 19  primary_cleaner.output.tail_sol                     14103 non-null  float64\n",
      " 20  primary_cleaner.output.tail_au                      14149 non-null  float64\n",
      " 21  primary_cleaner.state.floatbank8_a_air              14145 non-null  float64\n",
      " 22  primary_cleaner.state.floatbank8_a_level            14148 non-null  float64\n",
      " 23  primary_cleaner.state.floatbank8_b_air              14145 non-null  float64\n",
      " 24  primary_cleaner.state.floatbank8_b_level            14148 non-null  float64\n",
      " 25  primary_cleaner.state.floatbank8_c_air              14147 non-null  float64\n",
      " 26  primary_cleaner.state.floatbank8_c_level            14148 non-null  float64\n",
      " 27  primary_cleaner.state.floatbank8_d_air              14146 non-null  float64\n",
      " 28  primary_cleaner.state.floatbank8_d_level            14148 non-null  float64\n",
      " 29  rougher.calculation.sulfate_to_au_concentrate       14148 non-null  float64\n",
      " 30  rougher.calculation.floatbank10_sulfate_to_au_feed  14148 non-null  float64\n",
      " 31  rougher.calculation.floatbank11_sulfate_to_au_feed  14148 non-null  float64\n",
      " 32  rougher.calculation.au_pb_ratio                     14149 non-null  float64\n",
      " 33  rougher.input.feed_ag                               14149 non-null  float64\n",
      " 34  rougher.input.feed_pb                               14049 non-null  float64\n",
      " 35  rougher.input.feed_rate                             14141 non-null  float64\n",
      " 36  rougher.input.feed_size                             14005 non-null  float64\n",
      " 37  rougher.input.feed_sol                              14071 non-null  float64\n",
      " 38  rougher.input.feed_au                               14149 non-null  float64\n",
      " 39  rougher.input.floatbank10_sulfate                   14120 non-null  float64\n",
      " 40  rougher.input.floatbank10_xanthate                  14141 non-null  float64\n",
      " 41  rougher.input.floatbank11_sulfate                   14113 non-null  float64\n",
      " 42  rougher.input.floatbank11_xanthate                  13721 non-null  float64\n",
      " 43  rougher.output.concentrate_ag                       14149 non-null  float64\n",
      " 44  rougher.output.concentrate_pb                       14149 non-null  float64\n",
      " 45  rougher.output.concentrate_sol                      14127 non-null  float64\n",
      " 46  rougher.output.concentrate_au                       14149 non-null  float64\n",
      " 47  rougher.output.recovery                             14149 non-null  float64\n",
      " 48  rougher.output.tail_ag                              14148 non-null  float64\n",
      " 49  rougher.output.tail_pb                              14149 non-null  float64\n",
      " 50  rougher.output.tail_sol                             14149 non-null  float64\n",
      " 51  rougher.output.tail_au                              14149 non-null  float64\n",
      " 52  rougher.state.floatbank10_a_air                     14148 non-null  float64\n",
      " 53  rougher.state.floatbank10_a_level                   14148 non-null  float64\n",
      " 54  rougher.state.floatbank10_b_air                     14148 non-null  float64\n",
      " 55  rougher.state.floatbank10_b_level                   14148 non-null  float64\n",
      " 56  rougher.state.floatbank10_c_air                     14148 non-null  float64\n",
      " 57  rougher.state.floatbank10_c_level                   14148 non-null  float64\n",
      " 58  rougher.state.floatbank10_d_air                     14149 non-null  float64\n",
      " 59  rougher.state.floatbank10_d_level                   14149 non-null  float64\n",
      " 60  rougher.state.floatbank10_e_air                     13713 non-null  float64\n",
      " 61  rougher.state.floatbank10_e_level                   14149 non-null  float64\n",
      " 62  rougher.state.floatbank10_f_air                     14149 non-null  float64\n",
      " 63  rougher.state.floatbank10_f_level                   14149 non-null  float64\n",
      " 64  secondary_cleaner.output.tail_ag                    14147 non-null  float64\n",
      " 65  secondary_cleaner.output.tail_pb                    14139 non-null  float64\n",
      " 66  secondary_cleaner.output.tail_sol                   12544 non-null  float64\n",
      " 67  secondary_cleaner.output.tail_au                    14149 non-null  float64\n",
      " 68  secondary_cleaner.state.floatbank2_a_air            13932 non-null  float64\n",
      " 69  secondary_cleaner.state.floatbank2_a_level          14148 non-null  float64\n",
      " 70  secondary_cleaner.state.floatbank2_b_air            14128 non-null  float64\n",
      " 71  secondary_cleaner.state.floatbank2_b_level          14148 non-null  float64\n",
      " 72  secondary_cleaner.state.floatbank3_a_air            14145 non-null  float64\n",
      " 73  secondary_cleaner.state.floatbank3_a_level          14148 non-null  float64\n",
      " 74  secondary_cleaner.state.floatbank3_b_air            14148 non-null  float64\n",
      " 75  secondary_cleaner.state.floatbank3_b_level          14148 non-null  float64\n",
      " 76  secondary_cleaner.state.floatbank4_a_air            14143 non-null  float64\n",
      " 77  secondary_cleaner.state.floatbank4_a_level          14148 non-null  float64\n",
      " 78  secondary_cleaner.state.floatbank4_b_air            14148 non-null  float64\n",
      " 79  secondary_cleaner.state.floatbank4_b_level          14148 non-null  float64\n",
      " 80  secondary_cleaner.state.floatbank5_a_air            14148 non-null  float64\n",
      " 81  secondary_cleaner.state.floatbank5_a_level          14148 non-null  float64\n",
      " 82  secondary_cleaner.state.floatbank5_b_air            14148 non-null  float64\n",
      " 83  secondary_cleaner.state.floatbank5_b_level          14148 non-null  float64\n",
      " 84  secondary_cleaner.state.floatbank6_a_air            14147 non-null  float64\n",
      " 85  secondary_cleaner.state.floatbank6_a_level          14148 non-null  float64\n",
      "dtypes: float64(86)\n",
      "memory usage: 9.4+ MB\n",
      "None\n",
      "<class 'pandas.core.frame.DataFrame'>\n",
      "Index: 5290 entries, 2016-09-01 00:59:59 to 2017-12-31 23:59:59\n",
      "Data columns (total 52 columns):\n",
      " #   Column                                      Non-Null Count  Dtype  \n",
      "---  ------                                      --------------  -----  \n",
      " 0   primary_cleaner.input.sulfate               5286 non-null   float64\n",
      " 1   primary_cleaner.input.depressant            5285 non-null   float64\n",
      " 2   primary_cleaner.input.feed_size             5290 non-null   float64\n",
      " 3   primary_cleaner.input.xanthate              5286 non-null   float64\n",
      " 4   primary_cleaner.state.floatbank8_a_air      5290 non-null   float64\n",
      " 5   primary_cleaner.state.floatbank8_a_level    5290 non-null   float64\n",
      " 6   primary_cleaner.state.floatbank8_b_air      5290 non-null   float64\n",
      " 7   primary_cleaner.state.floatbank8_b_level    5290 non-null   float64\n",
      " 8   primary_cleaner.state.floatbank8_c_air      5290 non-null   float64\n",
      " 9   primary_cleaner.state.floatbank8_c_level    5290 non-null   float64\n",
      " 10  primary_cleaner.state.floatbank8_d_air      5290 non-null   float64\n",
      " 11  primary_cleaner.state.floatbank8_d_level    5290 non-null   float64\n",
      " 12  rougher.input.feed_ag                       5290 non-null   float64\n",
      " 13  rougher.input.feed_pb                       5290 non-null   float64\n",
      " 14  rougher.input.feed_rate                     5287 non-null   float64\n",
      " 15  rougher.input.feed_size                     5289 non-null   float64\n",
      " 16  rougher.input.feed_sol                      5269 non-null   float64\n",
      " 17  rougher.input.feed_au                       5290 non-null   float64\n",
      " 18  rougher.input.floatbank10_sulfate           5285 non-null   float64\n",
      " 19  rougher.input.floatbank10_xanthate          5290 non-null   float64\n",
      " 20  rougher.input.floatbank11_sulfate           5282 non-null   float64\n",
      " 21  rougher.input.floatbank11_xanthate          5265 non-null   float64\n",
      " 22  rougher.state.floatbank10_a_air             5290 non-null   float64\n",
      " 23  rougher.state.floatbank10_a_level           5290 non-null   float64\n",
      " 24  rougher.state.floatbank10_b_air             5290 non-null   float64\n",
      " 25  rougher.state.floatbank10_b_level           5290 non-null   float64\n",
      " 26  rougher.state.floatbank10_c_air             5290 non-null   float64\n",
      " 27  rougher.state.floatbank10_c_level           5290 non-null   float64\n",
      " 28  rougher.state.floatbank10_d_air             5290 non-null   float64\n",
      " 29  rougher.state.floatbank10_d_level           5290 non-null   float64\n",
      " 30  rougher.state.floatbank10_e_air             5290 non-null   float64\n",
      " 31  rougher.state.floatbank10_e_level           5290 non-null   float64\n",
      " 32  rougher.state.floatbank10_f_air             5290 non-null   float64\n",
      " 33  rougher.state.floatbank10_f_level           5290 non-null   float64\n",
      " 34  secondary_cleaner.state.floatbank2_a_air    5287 non-null   float64\n",
      " 35  secondary_cleaner.state.floatbank2_a_level  5290 non-null   float64\n",
      " 36  secondary_cleaner.state.floatbank2_b_air    5288 non-null   float64\n",
      " 37  secondary_cleaner.state.floatbank2_b_level  5290 non-null   float64\n",
      " 38  secondary_cleaner.state.floatbank3_a_air    5281 non-null   float64\n",
      " 39  secondary_cleaner.state.floatbank3_a_level  5290 non-null   float64\n",
      " 40  secondary_cleaner.state.floatbank3_b_air    5290 non-null   float64\n",
      " 41  secondary_cleaner.state.floatbank3_b_level  5290 non-null   float64\n",
      " 42  secondary_cleaner.state.floatbank4_a_air    5290 non-null   float64\n",
      " 43  secondary_cleaner.state.floatbank4_a_level  5290 non-null   float64\n",
      " 44  secondary_cleaner.state.floatbank4_b_air    5290 non-null   float64\n",
      " 45  secondary_cleaner.state.floatbank4_b_level  5290 non-null   float64\n",
      " 46  secondary_cleaner.state.floatbank5_a_air    5290 non-null   float64\n",
      " 47  secondary_cleaner.state.floatbank5_a_level  5290 non-null   float64\n",
      " 48  secondary_cleaner.state.floatbank5_b_air    5290 non-null   float64\n",
      " 49  secondary_cleaner.state.floatbank5_b_level  5290 non-null   float64\n",
      " 50  secondary_cleaner.state.floatbank6_a_air    5290 non-null   float64\n",
      " 51  secondary_cleaner.state.floatbank6_a_level  5290 non-null   float64\n",
      "dtypes: float64(52)\n",
      "memory usage: 2.1+ MB\n",
      "None\n",
      "<class 'pandas.core.frame.DataFrame'>\n",
      "Index: 19439 entries, 2016-01-15 00:00:00 to 2018-08-18 10:59:59\n",
      "Data columns (total 86 columns):\n",
      " #   Column                                              Non-Null Count  Dtype  \n",
      "---  ------                                              --------------  -----  \n",
      " 0   final.output.concentrate_ag                         19438 non-null  float64\n",
      " 1   final.output.concentrate_pb                         19438 non-null  float64\n",
      " 2   final.output.concentrate_sol                        19228 non-null  float64\n",
      " 3   final.output.concentrate_au                         19439 non-null  float64\n",
      " 4   final.output.recovery                               19439 non-null  float64\n",
      " 5   final.output.tail_ag                                19438 non-null  float64\n",
      " 6   final.output.tail_pb                                19338 non-null  float64\n",
      " 7   final.output.tail_sol                               19433 non-null  float64\n",
      " 8   final.output.tail_au                                19439 non-null  float64\n",
      " 9   primary_cleaner.input.sulfate                       19415 non-null  float64\n",
      " 10  primary_cleaner.input.depressant                    19402 non-null  float64\n",
      " 11  primary_cleaner.input.feed_size                     19439 non-null  float64\n",
      " 12  primary_cleaner.input.xanthate                      19335 non-null  float64\n",
      " 13  primary_cleaner.output.concentrate_ag               19439 non-null  float64\n",
      " 14  primary_cleaner.output.concentrate_pb               19323 non-null  float64\n",
      " 15  primary_cleaner.output.concentrate_sol              19069 non-null  float64\n",
      " 16  primary_cleaner.output.concentrate_au               19439 non-null  float64\n",
      " 17  primary_cleaner.output.tail_ag                      19435 non-null  float64\n",
      " 18  primary_cleaner.output.tail_pb                      19418 non-null  float64\n",
      " 19  primary_cleaner.output.tail_sol                     19377 non-null  float64\n",
      " 20  primary_cleaner.output.tail_au                      19439 non-null  float64\n",
      " 21  primary_cleaner.state.floatbank8_a_air              19435 non-null  float64\n",
      " 22  primary_cleaner.state.floatbank8_a_level            19438 non-null  float64\n",
      " 23  primary_cleaner.state.floatbank8_b_air              19435 non-null  float64\n",
      " 24  primary_cleaner.state.floatbank8_b_level            19438 non-null  float64\n",
      " 25  primary_cleaner.state.floatbank8_c_air              19437 non-null  float64\n",
      " 26  primary_cleaner.state.floatbank8_c_level            19438 non-null  float64\n",
      " 27  primary_cleaner.state.floatbank8_d_air              19436 non-null  float64\n",
      " 28  primary_cleaner.state.floatbank8_d_level            19438 non-null  float64\n",
      " 29  rougher.calculation.sulfate_to_au_concentrate       19437 non-null  float64\n",
      " 30  rougher.calculation.floatbank10_sulfate_to_au_feed  19437 non-null  float64\n",
      " 31  rougher.calculation.floatbank11_sulfate_to_au_feed  19437 non-null  float64\n",
      " 32  rougher.calculation.au_pb_ratio                     19439 non-null  float64\n",
      " 33  rougher.input.feed_ag                               19439 non-null  float64\n",
      " 34  rougher.input.feed_pb                               19339 non-null  float64\n",
      " 35  rougher.input.feed_rate                             19428 non-null  float64\n",
      " 36  rougher.input.feed_size                             19294 non-null  float64\n",
      " 37  rougher.input.feed_sol                              19340 non-null  float64\n",
      " 38  rougher.input.feed_au                               19439 non-null  float64\n",
      " 39  rougher.input.floatbank10_sulfate                   19405 non-null  float64\n",
      " 40  rougher.input.floatbank10_xanthate                  19431 non-null  float64\n",
      " 41  rougher.input.floatbank11_sulfate                   19395 non-null  float64\n",
      " 42  rougher.input.floatbank11_xanthate                  18986 non-null  float64\n",
      " 43  rougher.output.concentrate_ag                       19439 non-null  float64\n",
      " 44  rougher.output.concentrate_pb                       19439 non-null  float64\n",
      " 45  rougher.output.concentrate_sol                      19416 non-null  float64\n",
      " 46  rougher.output.concentrate_au                       19439 non-null  float64\n",
      " 47  rougher.output.recovery                             19439 non-null  float64\n",
      " 48  rougher.output.tail_ag                              19438 non-null  float64\n",
      " 49  rougher.output.tail_pb                              19439 non-null  float64\n",
      " 50  rougher.output.tail_sol                             19439 non-null  float64\n",
      " 51  rougher.output.tail_au                              19439 non-null  float64\n",
      " 52  rougher.state.floatbank10_a_air                     19438 non-null  float64\n",
      " 53  rougher.state.floatbank10_a_level                   19438 non-null  float64\n",
      " 54  rougher.state.floatbank10_b_air                     19438 non-null  float64\n",
      " 55  rougher.state.floatbank10_b_level                   19438 non-null  float64\n",
      " 56  rougher.state.floatbank10_c_air                     19438 non-null  float64\n",
      " 57  rougher.state.floatbank10_c_level                   19438 non-null  float64\n",
      " 58  rougher.state.floatbank10_d_air                     19439 non-null  float64\n",
      " 59  rougher.state.floatbank10_d_level                   19439 non-null  float64\n",
      " 60  rougher.state.floatbank10_e_air                     19003 non-null  float64\n",
      " 61  rougher.state.floatbank10_e_level                   19439 non-null  float64\n",
      " 62  rougher.state.floatbank10_f_air                     19439 non-null  float64\n",
      " 63  rougher.state.floatbank10_f_level                   19439 non-null  float64\n",
      " 64  secondary_cleaner.output.tail_ag                    19437 non-null  float64\n",
      " 65  secondary_cleaner.output.tail_pb                    19427 non-null  float64\n",
      " 66  secondary_cleaner.output.tail_sol                   17691 non-null  float64\n",
      " 67  secondary_cleaner.output.tail_au                    19439 non-null  float64\n",
      " 68  secondary_cleaner.state.floatbank2_a_air            19219 non-null  float64\n",
      " 69  secondary_cleaner.state.floatbank2_a_level          19438 non-null  float64\n",
      " 70  secondary_cleaner.state.floatbank2_b_air            19416 non-null  float64\n",
      " 71  secondary_cleaner.state.floatbank2_b_level          19438 non-null  float64\n",
      " 72  secondary_cleaner.state.floatbank3_a_air            19426 non-null  float64\n",
      " 73  secondary_cleaner.state.floatbank3_a_level          19438 non-null  float64\n",
      " 74  secondary_cleaner.state.floatbank3_b_air            19438 non-null  float64\n",
      " 75  secondary_cleaner.state.floatbank3_b_level          19438 non-null  float64\n",
      " 76  secondary_cleaner.state.floatbank4_a_air            19433 non-null  float64\n",
      " 77  secondary_cleaner.state.floatbank4_a_level          19438 non-null  float64\n",
      " 78  secondary_cleaner.state.floatbank4_b_air            19438 non-null  float64\n",
      " 79  secondary_cleaner.state.floatbank4_b_level          19438 non-null  float64\n",
      " 80  secondary_cleaner.state.floatbank5_a_air            19438 non-null  float64\n",
      " 81  secondary_cleaner.state.floatbank5_a_level          19438 non-null  float64\n",
      " 82  secondary_cleaner.state.floatbank5_b_air            19438 non-null  float64\n",
      " 83  secondary_cleaner.state.floatbank5_b_level          19438 non-null  float64\n",
      " 84  secondary_cleaner.state.floatbank6_a_air            19437 non-null  float64\n",
      " 85  secondary_cleaner.state.floatbank6_a_level          19438 non-null  float64\n",
      "dtypes: float64(86)\n",
      "memory usage: 12.9+ MB\n",
      "None\n"
     ]
    }
   ],
   "source": [
    "for data in train, test, full:\n",
    "    info = data.info()\n",
    "    print(info)"
   ]
  },
  {
   "cell_type": "code",
   "execution_count": 7,
   "metadata": {},
   "outputs": [
    {
     "name": "stdout",
     "output_type": "stream",
     "text": [
      "       final.output.concentrate_ag  final.output.concentrate_pb  \\\n",
      "count                 14148.000000                 14148.000000   \n",
      "mean                      5.142034                    10.132960   \n",
      "std                       1.369586                     1.654930   \n",
      "min                       0.000000                     0.000000   \n",
      "25%                       4.211620                     9.297355   \n",
      "50%                       4.994652                    10.297144   \n",
      "75%                       5.859540                    11.170603   \n",
      "max                      16.001945                    17.031899   \n",
      "\n",
      "       final.output.concentrate_sol  final.output.concentrate_au  \\\n",
      "count                  13938.000000                 14149.000000   \n",
      "mean                       9.202849                    44.003792   \n",
      "std                        2.790516                     4.905261   \n",
      "min                        0.000000                     0.000000   \n",
      "25%                        7.484645                    43.276111   \n",
      "50%                        8.845462                    44.872436   \n",
      "75%                       10.487508                    46.166425   \n",
      "max                       18.124851                    52.756638   \n",
      "\n",
      "       final.output.recovery  final.output.tail_ag  final.output.tail_pb  \\\n",
      "count           14149.000000          14149.000000          14049.000000   \n",
      "mean               66.518832              9.607035              2.597298   \n",
      "std                10.295402              2.319069              0.971843   \n",
      "min                 0.000000              0.000000              0.000000   \n",
      "25%                62.545817              7.997429              1.905973   \n",
      "50%                67.432775              9.480270              2.592022   \n",
      "75%                72.346428             11.003707              3.241723   \n",
      "max               100.000000             19.552149              5.639565   \n",
      "\n",
      "       final.output.tail_sol  final.output.tail_au  \\\n",
      "count           14144.000000          14149.000000   \n",
      "mean               10.512122              2.918421   \n",
      "std                 3.003617              0.903712   \n",
      "min                 0.000000              0.000000   \n",
      "25%                 8.811324              2.368607   \n",
      "50%                10.514621              2.851025   \n",
      "75%                11.933009              3.434764   \n",
      "max                22.317730              8.197408   \n",
      "\n",
      "       primary_cleaner.input.sulfate  ...  \\\n",
      "count                   14129.000000  ...   \n",
      "mean                      133.320659  ...   \n",
      "std                        39.431659  ...   \n",
      "min                         0.003112  ...   \n",
      "25%                       107.006651  ...   \n",
      "50%                       133.018328  ...   \n",
      "75%                       159.825396  ...   \n",
      "max                       250.127834  ...   \n",
      "\n",
      "       secondary_cleaner.state.floatbank4_a_air  \\\n",
      "count                              14143.000000   \n",
      "mean                                  19.985454   \n",
      "std                                    5.657723   \n",
      "min                                    0.000000   \n",
      "25%                                   14.990775   \n",
      "50%                                   20.001789   \n",
      "75%                                   24.990826   \n",
      "max                                   30.115735   \n",
      "\n",
      "       secondary_cleaner.state.floatbank4_a_level  \\\n",
      "count                                14148.000000   \n",
      "mean                                  -478.696836   \n",
      "std                                     50.736021   \n",
      "min                                   -799.709069   \n",
      "25%                                   -500.628656   \n",
      "50%                                   -499.681450   \n",
      "75%                                   -477.472413   \n",
      "max                                   -245.239184   \n",
      "\n",
      "       secondary_cleaner.state.floatbank4_b_air  \\\n",
      "count                              14148.000000   \n",
      "mean                                  15.487065   \n",
      "std                                    5.255655   \n",
      "min                                    0.000000   \n",
      "25%                                   11.894558   \n",
      "50%                                   14.975536   \n",
      "75%                                   20.059375   \n",
      "max                                   24.007913   \n",
      "\n",
      "       secondary_cleaner.state.floatbank4_b_level  \\\n",
      "count                                14148.000000   \n",
      "mean                                  -460.229416   \n",
      "std                                     58.843586   \n",
      "min                                   -799.889113   \n",
      "25%                                   -500.149000   \n",
      "50%                                   -499.388738   \n",
      "75%                                   -400.039008   \n",
      "max                                   -145.071088   \n",
      "\n",
      "       secondary_cleaner.state.floatbank5_a_air  \\\n",
      "count                              14148.000000   \n",
      "mean                                  16.775136   \n",
      "std                                    5.831906   \n",
      "min                                   -0.372054   \n",
      "25%                                   11.083980   \n",
      "50%                                   17.932223   \n",
      "75%                                   21.346550   \n",
      "max                                   43.709931   \n",
      "\n",
      "       secondary_cleaner.state.floatbank5_a_level  \\\n",
      "count                                14148.000000   \n",
      "mean                                  -483.956022   \n",
      "std                                     37.892788   \n",
      "min                                   -797.142475   \n",
      "25%                                   -500.363177   \n",
      "50%                                   -499.702452   \n",
      "75%                                   -487.712108   \n",
      "max                                   -275.073125   \n",
      "\n",
      "       secondary_cleaner.state.floatbank5_b_air  \\\n",
      "count                              14148.000000   \n",
      "mean                                  13.064590   \n",
      "std                                    5.765617   \n",
      "min                                    0.646208   \n",
      "25%                                    8.994405   \n",
      "50%                                   11.997547   \n",
      "75%                                   17.982903   \n",
      "max                                   27.926001   \n",
      "\n",
      "       secondary_cleaner.state.floatbank5_b_level  \\\n",
      "count                                14148.000000   \n",
      "mean                                  -483.966564   \n",
      "std                                     39.207913   \n",
      "min                                   -800.006180   \n",
      "25%                                   -500.105994   \n",
      "50%                                   -499.914556   \n",
      "75%                                   -453.186936   \n",
      "max                                   -157.396071   \n",
      "\n",
      "       secondary_cleaner.state.floatbank6_a_air  \\\n",
      "count                              14147.000000   \n",
      "mean                                  19.577539   \n",
      "std                                    5.764417   \n",
      "min                                    0.195324   \n",
      "25%                                   14.989304   \n",
      "50%                                   19.984175   \n",
      "75%                                   24.991623   \n",
      "max                                   32.188906   \n",
      "\n",
      "       secondary_cleaner.state.floatbank6_a_level  \n",
      "count                                14148.000000  \n",
      "mean                                  -506.798480  \n",
      "std                                     37.079249  \n",
      "min                                   -809.398668  \n",
      "25%                                   -500.745104  \n",
      "50%                                   -500.061431  \n",
      "75%                                   -499.536466  \n",
      "max                                   -104.427459  \n",
      "\n",
      "[8 rows x 86 columns]\n",
      "       primary_cleaner.input.sulfate  primary_cleaner.input.depressant  \\\n",
      "count                    5286.000000                       5285.000000   \n",
      "mean                      174.839652                          8.683596   \n",
      "std                        43.027080                          3.072050   \n",
      "min                         2.566156                          0.003839   \n",
      "25%                       147.121401                          6.489555   \n",
      "50%                       177.828489                          8.052207   \n",
      "75%                       208.125438                         10.027764   \n",
      "max                       265.983123                         40.000000   \n",
      "\n",
      "       primary_cleaner.input.feed_size  primary_cleaner.input.xanthate  \\\n",
      "count                      5290.000000                     5286.000000   \n",
      "mean                          7.266339                        1.383803   \n",
      "std                           0.610219                        0.643474   \n",
      "min                           5.650000                        0.004984   \n",
      "25%                           6.890000                        0.907623   \n",
      "50%                           7.250000                        1.197610   \n",
      "75%                           7.600000                        1.797819   \n",
      "max                          15.500000                        4.102454   \n",
      "\n",
      "       primary_cleaner.state.floatbank8_a_air  \\\n",
      "count                            5.290000e+03   \n",
      "mean                             1.539494e+03   \n",
      "std                              1.167979e+02   \n",
      "min                              5.445860e-32   \n",
      "25%                              1.498936e+03   \n",
      "50%                              1.585129e+03   \n",
      "75%                              1.602077e+03   \n",
      "max                              2.103104e+03   \n",
      "\n",
      "       primary_cleaner.state.floatbank8_a_level  \\\n",
      "count                               5290.000000   \n",
      "mean                                -497.665883   \n",
      "std                                   19.952431   \n",
      "min                                 -795.316337   \n",
      "25%                                 -500.357298   \n",
      "50%                                 -499.969164   \n",
      "75%                                 -499.568951   \n",
      "max                                  -57.195404   \n",
      "\n",
      "       primary_cleaner.state.floatbank8_b_air  \\\n",
      "count                            5.290000e+03   \n",
      "mean                             1.545174e+03   \n",
      "std                              1.222246e+02   \n",
      "min                              6.647490e-32   \n",
      "25%                              1.498971e+03   \n",
      "50%                              1.595622e+03   \n",
      "75%                              1.602324e+03   \n",
      "max                              1.813084e+03   \n",
      "\n",
      "       primary_cleaner.state.floatbank8_b_level  \\\n",
      "count                               5290.000000   \n",
      "mean                                -500.273098   \n",
      "std                                   32.968307   \n",
      "min                                 -799.997015   \n",
      "25%                                 -500.703002   \n",
      "50%                                 -500.028514   \n",
      "75%                                 -499.293257   \n",
      "max                                 -142.527229   \n",
      "\n",
      "       primary_cleaner.state.floatbank8_c_air  \\\n",
      "count                            5.290000e+03   \n",
      "mean                             1.527272e+03   \n",
      "std                              1.225380e+02   \n",
      "min                              4.033736e-32   \n",
      "25%                              1.473230e+03   \n",
      "50%                              1.549595e+03   \n",
      "75%                              1.601144e+03   \n",
      "max                              1.715054e+03   \n",
      "\n",
      "       primary_cleaner.state.floatbank8_c_level  ...  \\\n",
      "count                               5290.000000  ...   \n",
      "mean                                -498.330680  ...   \n",
      "std                                   21.964876  ...   \n",
      "min                                 -799.960571  ...   \n",
      "25%                                 -501.018117  ...   \n",
      "50%                                 -500.017711  ...   \n",
      "75%                                 -498.994130  ...   \n",
      "max                                 -150.937035  ...   \n",
      "\n",
      "       secondary_cleaner.state.floatbank4_a_air  \\\n",
      "count                              5.290000e+03   \n",
      "mean                               1.632007e+01   \n",
      "std                                3.493583e+00   \n",
      "min                                1.079872e-16   \n",
      "25%                                1.403618e+01   \n",
      "50%                                1.700847e+01   \n",
      "75%                                1.803862e+01   \n",
      "max                                3.005180e+01   \n",
      "\n",
      "       secondary_cleaner.state.floatbank4_a_level  \\\n",
      "count                                 5290.000000   \n",
      "mean                                  -505.144570   \n",
      "std                                     31.427337   \n",
      "min                                   -799.798523   \n",
      "25%                                   -500.868258   \n",
      "50%                                   -500.115727   \n",
      "75%                                   -499.404224   \n",
      "max                                   -401.565212   \n",
      "\n",
      "       secondary_cleaner.state.floatbank4_b_air  \\\n",
      "count                              5.290000e+03   \n",
      "mean                               1.373544e+01   \n",
      "std                                3.430484e+00   \n",
      "min                                2.489718e-17   \n",
      "25%                                1.202862e+01   \n",
      "50%                                1.496486e+01   \n",
      "75%                                1.596213e+01   \n",
      "max                                3.126971e+01   \n",
      "\n",
      "       secondary_cleaner.state.floatbank4_b_level  \\\n",
      "count                                 5290.000000   \n",
      "mean                                  -463.349858   \n",
      "std                                     86.189107   \n",
      "min                                   -800.836914   \n",
      "25%                                   -500.323028   \n",
      "50%                                   -499.576513   \n",
      "75%                                   -400.933805   \n",
      "max                                     -6.506986   \n",
      "\n",
      "       secondary_cleaner.state.floatbank5_a_air  \\\n",
      "count                               5290.000000   \n",
      "mean                                  12.804186   \n",
      "std                                    3.026591   \n",
      "min                                    0.069227   \n",
      "25%                                   10.914838   \n",
      "50%                                   12.954182   \n",
      "75%                                   15.097528   \n",
      "max                                   25.258848   \n",
      "\n",
      "       secondary_cleaner.state.floatbank5_a_level  \\\n",
      "count                                 5290.000000   \n",
      "mean                                  -501.329122   \n",
      "std                                     17.951495   \n",
      "min                                   -797.323986   \n",
      "25%                                   -500.726841   \n",
      "50%                                   -499.990332   \n",
      "75%                                   -499.283191   \n",
      "max                                   -244.483566   \n",
      "\n",
      "       secondary_cleaner.state.floatbank5_b_air  \\\n",
      "count                               5290.000000   \n",
      "mean                                   9.881145   \n",
      "std                                    2.868205   \n",
      "min                                    0.528083   \n",
      "25%                                    8.036719   \n",
      "50%                                   10.004301   \n",
      "75%                                   11.997467   \n",
      "max                                   14.086866   \n",
      "\n",
      "       secondary_cleaner.state.floatbank5_b_level  \\\n",
      "count                                 5290.000000   \n",
      "mean                                  -495.663398   \n",
      "std                                     34.535007   \n",
      "min                                   -800.220337   \n",
      "25%                                   -500.194668   \n",
      "50%                                   -499.990535   \n",
      "75%                                   -499.719913   \n",
      "max                                   -137.740004   \n",
      "\n",
      "       secondary_cleaner.state.floatbank6_a_air  \\\n",
      "count                               5290.000000   \n",
      "mean                                  17.304935   \n",
      "std                                    4.536544   \n",
      "min                                   -0.079426   \n",
      "25%                                   13.997317   \n",
      "50%                                   16.014935   \n",
      "75%                                   21.020013   \n",
      "max                                   26.705889   \n",
      "\n",
      "       secondary_cleaner.state.floatbank6_a_level  \n",
      "count                                 5290.000000  \n",
      "mean                                  -501.793193  \n",
      "std                                     39.044215  \n",
      "min                                   -809.741464  \n",
      "25%                                   -500.690984  \n",
      "50%                                   -500.007126  \n",
      "75%                                   -499.373018  \n",
      "max                                   -123.307487  \n",
      "\n",
      "[8 rows x 52 columns]\n",
      "       final.output.concentrate_ag  final.output.concentrate_pb  \\\n",
      "count                 19438.000000                 19438.000000   \n",
      "mean                      5.168470                     9.978895   \n",
      "std                       1.372348                     1.669240   \n",
      "min                       0.000000                     0.000000   \n",
      "25%                       4.251240                     9.137262   \n",
      "50%                       5.066094                    10.102433   \n",
      "75%                       5.895527                    11.035769   \n",
      "max                      16.001945                    17.031899   \n",
      "\n",
      "       final.output.concentrate_sol  final.output.concentrate_au  \\\n",
      "count                  19228.000000                 19439.000000   \n",
      "mean                       9.501224                    44.076513   \n",
      "std                        2.787537                     5.129784   \n",
      "min                        0.000000                     0.000000   \n",
      "25%                        7.722820                    43.402215   \n",
      "50%                        9.218961                    45.011244   \n",
      "75%                       10.947813                    46.275313   \n",
      "max                       19.615720                    52.756638   \n",
      "\n",
      "       final.output.recovery  final.output.tail_ag  final.output.tail_pb  \\\n",
      "count           19439.000000          19438.000000          19338.000000   \n",
      "mean               67.050208              9.688589              2.705795   \n",
      "std                10.125840              2.328642              0.949077   \n",
      "min                 0.000000              0.000000              0.000000   \n",
      "25%                63.299712              8.062878              2.040119   \n",
      "50%                68.172738              9.743623              2.748730   \n",
      "75%                72.686642             11.134294              3.333216   \n",
      "max               100.000000             19.552149              5.804178   \n",
      "\n",
      "       final.output.tail_sol  final.output.tail_au  \\\n",
      "count           19433.000000          19439.000000   \n",
      "mean               10.583728              3.042467   \n",
      "std                 2.868782              0.922808   \n",
      "min                 0.000000              0.000000   \n",
      "25%                 8.938947              2.461138   \n",
      "50%                10.622456              2.984909   \n",
      "75%                12.104271              3.571351   \n",
      "max                22.317730              8.245022   \n",
      "\n",
      "       primary_cleaner.input.sulfate  ...  \\\n",
      "count                   19415.000000  ...   \n",
      "mean                      144.624774  ...   \n",
      "std                        44.464071  ...   \n",
      "min                         0.003112  ...   \n",
      "25%                       114.107029  ...   \n",
      "50%                       143.232103  ...   \n",
      "75%                       175.075656  ...   \n",
      "max                       265.983123  ...   \n",
      "\n",
      "       secondary_cleaner.state.floatbank4_a_air  \\\n",
      "count                              19433.000000   \n",
      "mean                                  18.987674   \n",
      "std                                    5.411058   \n",
      "min                                    0.000000   \n",
      "25%                                   14.975734   \n",
      "50%                                   18.017481   \n",
      "75%                                   23.012470   \n",
      "max                                   30.115735   \n",
      "\n",
      "       secondary_cleaner.state.floatbank4_a_level  \\\n",
      "count                                19438.000000   \n",
      "mean                                  -485.894516   \n",
      "std                                     47.758570   \n",
      "min                                   -799.798523   \n",
      "25%                                   -500.704892   \n",
      "50%                                   -499.837793   \n",
      "75%                                   -498.249730   \n",
      "max                                   -245.239184   \n",
      "\n",
      "       secondary_cleaner.state.floatbank4_b_air  \\\n",
      "count                              19438.000000   \n",
      "mean                                  15.010366   \n",
      "std                                    4.890228   \n",
      "min                                    0.000000   \n",
      "25%                                   11.940294   \n",
      "50%                                   14.971014   \n",
      "75%                                   19.034162   \n",
      "max                                   31.269706   \n",
      "\n",
      "       secondary_cleaner.state.floatbank4_b_level  \\\n",
      "count                                19438.000000   \n",
      "mean                                  -461.078636   \n",
      "std                                     67.405524   \n",
      "min                                   -800.836914   \n",
      "25%                                   -500.187742   \n",
      "50%                                   -499.459786   \n",
      "75%                                   -400.118106   \n",
      "max                                     -6.506986   \n",
      "\n",
      "       secondary_cleaner.state.floatbank5_a_air  \\\n",
      "count                              19438.000000   \n",
      "mean                                  15.694452   \n",
      "std                                    5.510974   \n",
      "min                                   -0.372054   \n",
      "25%                                   10.988606   \n",
      "50%                                   15.000036   \n",
      "75%                                   18.026190   \n",
      "max                                   43.709931   \n",
      "\n",
      "       secondary_cleaner.state.floatbank5_a_level  \\\n",
      "count                                19438.000000   \n",
      "mean                                  -488.684065   \n",
      "std                                     34.533396   \n",
      "min                                   -797.323986   \n",
      "25%                                   -500.458467   \n",
      "50%                                   -499.802605   \n",
      "75%                                   -498.384187   \n",
      "max                                   -244.483566   \n",
      "\n",
      "       secondary_cleaner.state.floatbank5_b_air  \\\n",
      "count                              19438.000000   \n",
      "mean                                  12.198224   \n",
      "std                                    5.333024   \n",
      "min                                    0.528083   \n",
      "25%                                    8.971105   \n",
      "50%                                   11.019433   \n",
      "75%                                   14.019088   \n",
      "max                                   27.926001   \n",
      "\n",
      "       secondary_cleaner.state.floatbank5_b_level  \\\n",
      "count                                19438.000000   \n",
      "mean                                  -487.149827   \n",
      "std                                     38.347312   \n",
      "min                                   -800.220337   \n",
      "25%                                   -500.129462   \n",
      "50%                                   -499.935317   \n",
      "75%                                   -499.436708   \n",
      "max                                   -137.740004   \n",
      "\n",
      "       secondary_cleaner.state.floatbank6_a_air  \\\n",
      "count                              19437.000000   \n",
      "mean                                  18.959024   \n",
      "std                                    5.550498   \n",
      "min                                   -0.079426   \n",
      "25%                                   14.983037   \n",
      "50%                                   19.960541   \n",
      "75%                                   24.003170   \n",
      "max                                   32.188906   \n",
      "\n",
      "       secondary_cleaner.state.floatbank6_a_level  \n",
      "count                                19438.000000  \n",
      "mean                                  -505.436305  \n",
      "std                                     37.689057  \n",
      "min                                   -809.741464  \n",
      "25%                                   -500.728067  \n",
      "50%                                   -500.048400  \n",
      "75%                                   -499.495378  \n",
      "max                                   -104.427459  \n",
      "\n",
      "[8 rows x 86 columns]\n"
     ]
    }
   ],
   "source": [
    "for data in train, test, full:\n",
    "    describe = data.describe()\n",
    "    print(describe)"
   ]
  },
  {
   "cell_type": "markdown",
   "metadata": {},
   "source": [
    "проверяем наличие дубликатов:"
   ]
  },
  {
   "cell_type": "code",
   "execution_count": 11,
   "metadata": {},
   "outputs": [
    {
     "name": "stdout",
     "output_type": "stream",
     "text": [
      "Количество дубликатов = 0\n",
      "\n",
      "Количество дубликатов = 0\n",
      "\n",
      "Количество дубликатов = 0\n",
      "\n"
     ]
    }
   ],
   "source": [
    "for dataset in full, train, test:\n",
    "    print('Количество дубликатов =', dataset.duplicated().sum())\n",
    "    print()"
   ]
  },
  {
   "cell_type": "markdown",
   "metadata": {},
   "source": [
    "Вывод: - во всех представленных таблицах имеются пропуски;\n",
    "\n",
    "       - в test нет части признаков, которые есть в full и train;\n",
    "       \n",
    "       - целевые признаки - rougher.output.recovery и final.output.recovery;\n",
    "\n",
    "       - дубликатов нет."
   ]
  },
  {
   "cell_type": "markdown",
   "metadata": {},
   "source": []
  },
  {
   "cell_type": "markdown",
   "metadata": {},
   "source": [
    "# 1.2. Проверка правильности расчета эффективности обогащения"
   ]
  },
  {
   "cell_type": "markdown",
   "metadata": {},
   "source": [
    "функция для расчета эффективности обогащения:"
   ]
  },
  {
   "cell_type": "code",
   "execution_count": 12,
   "metadata": {},
   "outputs": [],
   "source": [
    "def recovery_calc(rougher_output, rougher_input, rougher_tail):\n",
    "    recovery = (rougher_output * (rougher_input - rougher_tail)) \\\n",
    "    / (rougher_input * (rougher_output - rougher_tail)) * 100\n",
    "    return recovery"
   ]
  },
  {
   "cell_type": "markdown",
   "metadata": {},
   "source": [
    "Эффективность обогащения на  выборке train для признака rougher.output.recovery:"
   ]
  },
  {
   "cell_type": "code",
   "execution_count": 13,
   "metadata": {},
   "outputs": [
    {
     "data": {
      "text/plain": [
       "date\n",
       "2016-01-15 00:00:00    87.107763\n",
       "2016-01-15 01:00:00    86.843261\n",
       "2016-01-15 02:00:00    86.842308\n",
       "2016-01-15 03:00:00    87.226430\n",
       "2016-01-15 04:00:00    86.688794\n",
       "                         ...    \n",
       "2018-08-18 06:59:59    89.574376\n",
       "2018-08-18 07:59:59    87.724007\n",
       "2018-08-18 08:59:59    88.890579\n",
       "2018-08-18 09:59:59    89.858126\n",
       "2018-08-18 10:59:59    89.514960\n",
       "Length: 14149, dtype: float64"
      ]
     },
     "execution_count": 13,
     "metadata": {},
     "output_type": "execute_result"
    }
   ],
   "source": [
    "recovery = recovery_calc(train['rougher.output.concentrate_au'],\n",
    "                         train['rougher.input.feed_au'],\n",
    "                         train['rougher.output.tail_au'])\n",
    "recovery"
   ]
  },
  {
   "cell_type": "markdown",
   "metadata": {},
   "source": [
    "Метрика MAE для проверки расчетного значения rougher_output_recovery и табличного:"
   ]
  },
  {
   "cell_type": "code",
   "execution_count": 14,
   "metadata": {},
   "outputs": [
    {
     "name": "stdout",
     "output_type": "stream",
     "text": [
      "MAE между расчетным значением rougher_output_recovery и табличным = 9.73512347450521e-15\n"
     ]
    }
   ],
   "source": [
    "mae = mean_absolute_error(train['rougher.output.recovery'], recovery)\n",
    "\n",
    "print('MAE между расчетным значением rougher_output_recovery и табличным =', mae)"
   ]
  },
  {
   "cell_type": "markdown",
   "metadata": {},
   "source": [
    "Вывод: Полученные значения МАЕ близки к 0, следовательно  эффективность обогащения рассчитана правильно."
   ]
  },
  {
   "cell_type": "markdown",
   "metadata": {},
   "source": [
    "# 1.3. Анализ признаков, недоступных в тестовой выборке"
   ]
  },
  {
   "cell_type": "markdown",
   "metadata": {},
   "source": [
    "Посмотрим, какие признаки есть в train, но нет в test:"
   ]
  },
  {
   "cell_type": "code",
   "execution_count": 15,
   "metadata": {},
   "outputs": [
    {
     "name": "stdout",
     "output_type": "stream",
     "text": [
      "<class 'pandas.core.frame.DataFrame'>\n",
      "Index: 14149 entries, 2016-01-15 00:00:00 to 2018-08-18 10:59:59\n",
      "Data columns (total 34 columns):\n",
      " #   Column                                              Non-Null Count  Dtype  \n",
      "---  ------                                              --------------  -----  \n",
      " 0   final.output.concentrate_au                         14149 non-null  float64\n",
      " 1   primary_cleaner.output.tail_sol                     14103 non-null  float64\n",
      " 2   secondary_cleaner.output.tail_au                    14149 non-null  float64\n",
      " 3   primary_cleaner.output.tail_ag                      14148 non-null  float64\n",
      " 4   rougher.output.tail_au                              14149 non-null  float64\n",
      " 5   final.output.tail_sol                               14144 non-null  float64\n",
      " 6   rougher.output.tail_pb                              14149 non-null  float64\n",
      " 7   primary_cleaner.output.concentrate_sol              13863 non-null  float64\n",
      " 8   secondary_cleaner.output.tail_pb                    14139 non-null  float64\n",
      " 9   rougher.output.tail_ag                              14148 non-null  float64\n",
      " 10  final.output.tail_ag                                14149 non-null  float64\n",
      " 11  primary_cleaner.output.concentrate_ag               14149 non-null  float64\n",
      " 12  rougher.output.recovery                             14149 non-null  float64\n",
      " 13  rougher.calculation.floatbank11_sulfate_to_au_feed  14148 non-null  float64\n",
      " 14  final.output.concentrate_pb                         14148 non-null  float64\n",
      " 15  rougher.output.tail_sol                             14149 non-null  float64\n",
      " 16  final.output.recovery                               14149 non-null  float64\n",
      " 17  primary_cleaner.output.tail_au                      14149 non-null  float64\n",
      " 18  rougher.calculation.sulfate_to_au_concentrate       14148 non-null  float64\n",
      " 19  final.output.tail_au                                14149 non-null  float64\n",
      " 20  rougher.output.concentrate_ag                       14149 non-null  float64\n",
      " 21  rougher.calculation.au_pb_ratio                     14149 non-null  float64\n",
      " 22  final.output.concentrate_sol                        13938 non-null  float64\n",
      " 23  rougher.output.concentrate_au                       14149 non-null  float64\n",
      " 24  rougher.output.concentrate_sol                      14127 non-null  float64\n",
      " 25  final.output.tail_pb                                14049 non-null  float64\n",
      " 26  secondary_cleaner.output.tail_sol                   12544 non-null  float64\n",
      " 27  primary_cleaner.output.concentrate_pb               14063 non-null  float64\n",
      " 28  rougher.output.concentrate_pb                       14149 non-null  float64\n",
      " 29  rougher.calculation.floatbank10_sulfate_to_au_feed  14148 non-null  float64\n",
      " 30  secondary_cleaner.output.tail_ag                    14147 non-null  float64\n",
      " 31  primary_cleaner.output.tail_pb                      14134 non-null  float64\n",
      " 32  primary_cleaner.output.concentrate_au               14149 non-null  float64\n",
      " 33  final.output.concentrate_ag                         14148 non-null  float64\n",
      "dtypes: float64(34)\n",
      "memory usage: 4.3+ MB\n"
     ]
    }
   ],
   "source": [
    "train_test = set(train.columns) - set(test.columns)\n",
    "train[train_test].info()"
   ]
  },
  {
   "cell_type": "markdown",
   "metadata": {},
   "source": [
    "Вывод: - в test нет признаков output, т.к. это целевые признаки;\n",
    "\n",
    "       - в test нет признаков calculation(расчётные характеристики) для этапа rougher;\n",
    "       \n",
    "       - все признаки, которых нет в выборке test - типа float64"
   ]
  },
  {
   "cell_type": "markdown",
   "metadata": {},
   "source": [
    "# 1.4. Предобработка данных"
   ]
  },
  {
   "cell_type": "code",
   "execution_count": 16,
   "metadata": {},
   "outputs": [
    {
     "name": "stdout",
     "output_type": "stream",
     "text": [
      "secondary_cleaner.output.tail_sol             1748\n",
      "rougher.input.floatbank11_xanthate             453\n",
      "rougher.state.floatbank10_e_air                436\n",
      "primary_cleaner.output.concentrate_sol         370\n",
      "secondary_cleaner.state.floatbank2_a_air       220\n",
      "                                              ... \n",
      "primary_cleaner.state.floatbank8_c_level         1\n",
      "primary_cleaner.state.floatbank8_b_level         1\n",
      "primary_cleaner.state.floatbank8_a_level         1\n",
      "final.output.tail_ag                             1\n",
      "secondary_cleaner.state.floatbank6_a_level       1\n",
      "Length: 63, dtype: int64\n",
      "secondary_cleaner.output.tail_sol             1605\n",
      "rougher.state.floatbank10_e_air                436\n",
      "rougher.input.floatbank11_xanthate             428\n",
      "primary_cleaner.output.concentrate_sol         286\n",
      "secondary_cleaner.state.floatbank2_a_air       217\n",
      "                                              ... \n",
      "rougher.state.floatbank10_a_air                  1\n",
      "rougher.state.floatbank10_a_level                1\n",
      "rougher.state.floatbank10_b_air                  1\n",
      "rougher.state.floatbank10_b_level                1\n",
      "secondary_cleaner.state.floatbank6_a_level       1\n",
      "Length: 62, dtype: int64\n",
      "rougher.input.floatbank11_xanthate          25\n",
      "rougher.input.feed_sol                      21\n",
      "secondary_cleaner.state.floatbank3_a_air     9\n",
      "rougher.input.floatbank11_sulfate            8\n",
      "primary_cleaner.input.depressant             5\n",
      "rougher.input.floatbank10_sulfate            5\n",
      "primary_cleaner.input.sulfate                4\n",
      "primary_cleaner.input.xanthate               4\n",
      "rougher.input.feed_rate                      3\n",
      "secondary_cleaner.state.floatbank2_a_air     3\n",
      "secondary_cleaner.state.floatbank2_b_air     2\n",
      "rougher.input.feed_size                      1\n",
      "dtype: int64\n"
     ]
    }
   ],
   "source": [
    "for dataset in full, train, test:\n",
    "    print(dataset.isna().sum()[dataset.isna().sum()!=0].sort_values(ascending=False))\n",
    "  "
   ]
  },
  {
   "cell_type": "markdown",
   "metadata": {},
   "source": [
    "в test дабавляю целевые признаки из full по совпадению даты:"
   ]
  },
  {
   "cell_type": "code",
   "execution_count": 17,
   "metadata": {},
   "outputs": [
    {
     "data": {
      "text/plain": [
       "(5290, 54)"
      ]
     },
     "execution_count": 17,
     "metadata": {},
     "output_type": "execute_result"
    }
   ],
   "source": [
    "test = test.merge(full[['final.output.recovery', 'rougher.output.recovery']], on='date', how='left')\n",
    "test.shape"
   ]
  },
  {
   "cell_type": "markdown",
   "metadata": {},
   "source": [
    "Соседние по времени параметры часто похожи(по условию), поэтому заполняем следующим непропущенным значением"
   ]
  },
  {
   "cell_type": "code",
   "execution_count": 18,
   "metadata": {},
   "outputs": [],
   "source": [
    "train = train.fillna(method='bfill')\n",
    "test = test.fillna(method='bfill')\n",
    "full = full.fillna(method='bfill')\n"
   ]
  },
  {
   "cell_type": "code",
   "execution_count": 19,
   "metadata": {},
   "outputs": [
    {
     "name": "stdout",
     "output_type": "stream",
     "text": [
      "количество строк с пропусками в train : 0\n",
      "количество строк с пропусками в test : 0\n",
      "количество строк с пропусками в full : 0\n"
     ]
    }
   ],
   "source": [
    "print('количество строк с пропусками в train :', train.isna().sum().sum())\n",
    "print('количество строк с пропусками в test :', test.isna().sum().sum())\n",
    "print('количество строк с пропусками в full :', full.isna().sum().sum())"
   ]
  },
  {
   "cell_type": "markdown",
   "metadata": {},
   "source": [
    "Вывод: - добавил целевые признаки в  выборку test из full по совпадению даты;\n",
    "\n",
    "       - подтвердил правильность расчета эффективности обогащения в тренировочной выборке;\n",
    "\n",
    "       - избавился от пропусков в  выборках;\n",
    "       \n",
    "       "
   ]
  },
  {
   "cell_type": "markdown",
   "metadata": {},
   "source": [
    "## Анализ данных"
   ]
  },
  {
   "cell_type": "markdown",
   "metadata": {},
   "source": [
    "# 2.1. Изменение концентрации металлов (Ag, Au, Pb) на разных этапах очистки"
   ]
  },
  {
   "cell_type": "code",
   "execution_count": 20,
   "metadata": {},
   "outputs": [
    {
     "data": {
      "text/plain": [
       "rougher.input.feed_ag                     8.794927\n",
       "rougher.output.concentrate_ag            11.994759\n",
       "primary_cleaner.output.concentrate_ag     8.442408\n",
       "final.output.concentrate_ag               5.168382\n",
       "dtype: float64"
      ]
     },
     "execution_count": 20,
     "metadata": {},
     "output_type": "execute_result"
    }
   ],
   "source": [
    "concentrate_ag = full[['rougher.input.feed_ag',\n",
    "                       'rougher.output.concentrate_ag',\n",
    "                       'primary_cleaner.output.concentrate_ag',\n",
    "                       'final.output.concentrate_ag'\n",
    "                      ]].mean(axis=0)\n",
    "concentrate_ag"
   ]
  },
  {
   "cell_type": "code",
   "execution_count": 21,
   "metadata": {
    "scrolled": true
   },
   "outputs": [
    {
     "data": {
      "image/png": "[encoded data removed]",
      "text/plain": [
       "<Figure size 1080x360 with 1 Axes>"
      ]
     },
     "metadata": {
      "needs_background": "light"
     },
     "output_type": "display_data"
    }
   ],
   "source": [
    "plt.figure(figsize=(15, 5))\n",
    "plt.title('Концентрация Ag на различных этапах очистки', fontsize=15)\n",
    "plt.xlabel('Концентрация серебра', labelpad=15, fontsize=13)\n",
    "sns.kdeplot(data=full['final.output.concentrate_ag'], label = 'Финальный этап')\n",
    "sns.kdeplot(data=full['primary_cleaner.output.concentrate_ag'], label = 'После второй очистки')\n",
    "sns.kdeplot(data=full['rougher.output.concentrate_ag'], label = 'После флотации')\n",
    "sns.kdeplot(data=full['rougher.input.feed_ag'], label = 'Сырье')\n",
    "plt.grid(which='major',\n",
    "        color = 'k', \n",
    "        linewidth = 0.2)\n",
    "plt.legend()\n",
    "\n",
    "plt.show()\n"
   ]
  },
  {
   "cell_type": "code",
   "execution_count": 22,
   "metadata": {},
   "outputs": [
    {
     "data": {
      "text/plain": [
       "rougher.input.feed_au                     8.266097\n",
       "rougher.output.concentrate_au            19.772000\n",
       "primary_cleaner.output.concentrate_au    32.119400\n",
       "final.output.concentrate_au              44.076513\n",
       "dtype: float64"
      ]
     },
     "execution_count": 22,
     "metadata": {},
     "output_type": "execute_result"
    }
   ],
   "source": [
    "concentrate_au = full[['rougher.input.feed_au',\n",
    "                       'rougher.output.concentrate_au',\n",
    "                      'primary_cleaner.output.concentrate_au',\n",
    "                       'final.output.concentrate_au'\n",
    "                      ]].mean(axis=0)\n",
    "concentrate_au"
   ]
  },
  {
   "cell_type": "code",
   "execution_count": 23,
   "metadata": {},
   "outputs": [
    {
     "data": {
      "image/png": "[encoded data removed]",
      "text/plain": [
       "<Figure size 1080x360 with 1 Axes>"
      ]
     },
     "metadata": {
      "needs_background": "light"
     },
     "output_type": "display_data"
    }
   ],
   "source": [
    "plt.figure(figsize=(15, 5))\n",
    "plt.title('Концентрация Au на различных этапах очистки', fontsize=16)\n",
    "plt.xlabel('Концентрация золота', labelpad=15, fontsize=14)\n",
    "sns.kdeplot(data=full['final.output.concentrate_au'], label = 'Этап финальный')\n",
    "sns.kdeplot(data=full['primary_cleaner.output.concentrate_au'], label = 'После второй очистки')\n",
    "sns.kdeplot(data=full['rougher.output.concentrate_au'], label = 'После флотации')\n",
    "sns.kdeplot(data=full['rougher.input.feed_au'], label = 'Сырье')\n",
    "plt.legend()\n",
    "\n",
    "plt.show()\n"
   ]
  },
  {
   "cell_type": "code",
   "execution_count": 24,
   "metadata": {},
   "outputs": [
    {
     "data": {
      "text/plain": [
       "rougher.input.feed_pb                    3.585850\n",
       "rougher.output.concentrate_pb            7.606272\n",
       "primary_cleaner.output.concentrate_pb    9.810430\n",
       "final.output.concentrate_pb              9.978817\n",
       "dtype: float64"
      ]
     },
     "execution_count": 24,
     "metadata": {},
     "output_type": "execute_result"
    }
   ],
   "source": [
    "concentrate_pb = full[['rougher.input.feed_pb',\n",
    "                       'rougher.output.concentrate_pb',\n",
    "                      'primary_cleaner.output.concentrate_pb',\n",
    "                       'final.output.concentrate_pb'\n",
    "                      ]].mean(axis=0)\n",
    "concentrate_pb"
   ]
  },
  {
   "cell_type": "code",
   "execution_count": 25,
   "metadata": {},
   "outputs": [
    {
     "data": {
      "image/png": "[encoded data removed]",
      "text/plain": [
       "<Figure size 1080x360 with 1 Axes>"
      ]
     },
     "metadata": {
      "needs_background": "light"
     },
     "output_type": "display_data"
    }
   ],
   "source": [
    "plt.figure(figsize=(15, 5))\n",
    "plt.title('Концентрация Pb на различных этапах очистки', fontsize=16)\n",
    "plt.xlabel('Концентрация свинца', labelpad=15, fontsize=14)\n",
    "sns.kdeplot(data=full['final.output.concentrate_pb'], label = 'Этап финальный')\n",
    "sns.kdeplot(data=full['primary_cleaner.output.concentrate_pb'], label = 'После второй очистки')\n",
    "sns.kdeplot(data=full['rougher.output.concentrate_pb'], label = 'После флотации')\n",
    "sns.kdeplot(data=full['rougher.input.feed_pb'], label = 'Сырье')\n",
    "plt.legend()\n",
    "\n",
    "plt.show()\n"
   ]
  },
  {
   "cell_type": "code",
   "execution_count": 26,
   "metadata": {},
   "outputs": [
    {
     "data": {
      "image/png": "[encoded data removed]",
      "text/plain": [
       "<Figure size 1080x360 with 1 Axes>"
      ]
     },
     "metadata": {
      "needs_background": "light"
     },
     "output_type": "display_data"
    }
   ],
   "source": [
    "concentrate_ag.plot(style='-o', grid=True, figsize=(15,5), label='Ag') \n",
    "concentrate_au.plot(style='-o', grid=True, figsize=(15,5), label='Au')\n",
    "concentrate_pb.plot(style='-o', grid=True, figsize=(15,5), label='Pb')\n",
    "\n",
    "plt.title('Изменения концентраций Ag,Au,Pb на этапах очистки')\n",
    "plt.legend()\n",
    "plt.show()"
   ]
  },
  {
   "cell_type": "markdown",
   "metadata": {},
   "source": [
    "Вывод: Анализ концентрации металлов показал,что \n",
    "       концентрация золота Au значительно увеличивается на каждом этапе обработки сырья;\n",
    "       \n",
    "       концентрация Ag падает с этапа флотации;\n",
    "       \n",
    "       концентрация Pb растет от этапа к этапу, но низкими темпами"
   ]
  },
  {
   "cell_type": "markdown",
   "metadata": {},
   "source": [
    "2.2. Сравнение распределения размеров гранул сырья на обучающей и тестовой выборках"
   ]
  },
  {
   "cell_type": "code",
   "execution_count": 27,
   "metadata": {
    "scrolled": true
   },
   "outputs": [
    {
     "data": {
      "image/png": "[encoded data removed]",
      "text/plain": [
       "<Figure size 1080x360 with 1 Axes>"
      ]
     },
     "metadata": {
      "needs_background": "light"
     },
     "output_type": "display_data"
    }
   ],
   "source": [
    "plt.figure(figsize=(15, 5))\n",
    "plt.xlim(0, train['rougher.input.feed_size'].mean() + train['rougher.input.feed_size'].mean())\n",
    "sns.kdeplot(data=train['rougher.input.feed_size'], label = 'Размер гранул на тренировочной выборке')\n",
    "sns.kdeplot(data=test['rougher.input.feed_size'], label = 'Размер гранул на тестовой выборке')\n",
    "plt.legend()\n",
    "plt.show()"
   ]
  },
  {
   "cell_type": "code",
   "execution_count": 28,
   "metadata": {
    "scrolled": false
   },
   "outputs": [
    {
     "data": {
      "image/png": "[encoded data removed]",
      "text/plain": [
       "<Figure size 720x720 with 1 Axes>"
      ]
     },
     "metadata": {
      "needs_background": "light"
     },
     "output_type": "display_data"
    }
   ],
   "source": [
    "plt.figure(figsize=(10, 10))\n",
    "sns.distplot(train['rougher.input.feed_size'].dropna(), label='train')\n",
    "sns.distplot(test['rougher.input.feed_size'].dropna(), label='test')\n",
    "plt.legend()\n",
    "plt.show()"
   ]
  },
  {
   "cell_type": "markdown",
   "metadata": {},
   "source": [
    "вывод: распределения похожи,что говорит об однородности данных размеров сырья в выборках train и test"
   ]
  },
  {
   "cell_type": "markdown",
   "metadata": {},
   "source": [
    "# 2.3. Исследование суммарной концентрации всех веществ на разных стадиях: в сырье, в черновом и финальном концентратах"
   ]
  },
  {
   "cell_type": "code",
   "execution_count": 29,
   "metadata": {},
   "outputs": [],
   "source": [
    "#Исходное сырье\n",
    "full['rougher.input.sum'] = (full['rougher.input.feed_ag'] + full['rougher.input.feed_au'] \n",
    "                                  + full['rougher.input.feed_pb'] + full['rougher.input.feed_sol'])"
   ]
  },
  {
   "cell_type": "code",
   "execution_count": 30,
   "metadata": {},
   "outputs": [],
   "source": [
    "# Черновая смесь\n",
    "full['rougher.output.sum'] = (full['rougher.output.concentrate_ag'] + full['rougher.output.concentrate_au']\n",
    "                                  + full['rougher.output.concentrate_pb'] + full['rougher.output.concentrate_sol'])"
   ]
  },
  {
   "cell_type": "code",
   "execution_count": 31,
   "metadata": {},
   "outputs": [],
   "source": [
    "#сумма концентраций металлов после первичной очистки\n",
    "full['primary.output.sum'] = (full['primary_cleaner.output.concentrate_ag'] + full['primary_cleaner.output.concentrate_au']\n",
    "                                  + full['primary_cleaner.output.concentrate_pb'] + full['primary_cleaner.output.concentrate_sol'])"
   ]
  },
  {
   "cell_type": "code",
   "execution_count": 32,
   "metadata": {},
   "outputs": [],
   "source": [
    "#сумма концентраций металлов после финальной очистки\n",
    "full['final.output.sum'] = (full['final.output.concentrate_ag'] + full['final.output.concentrate_au']\n",
    "                                  + full['final.output.concentrate_pb'] + full['final.output.concentrate_sol'])\n"
   ]
  },
  {
   "cell_type": "code",
   "execution_count": 33,
   "metadata": {},
   "outputs": [
    {
     "data": {
      "text/plain": [
       "<matplotlib.legend.Legend at 0x7f00b408eb50>"
      ]
     },
     "execution_count": 33,
     "metadata": {},
     "output_type": "execute_result"
    },
    {
     "data": {
      "image/png": "[encoded data removed]",
      "text/plain": [
       "<Figure size 1080x360 with 1 Axes>"
      ]
     },
     "metadata": {
      "needs_background": "light"
     },
     "output_type": "display_data"
    }
   ],
   "source": [
    "plt.figure(figsize=(15, 5))\n",
    "plt.title('Суммарная концентрация всех веществ на разных стадиях', fontsize=16)\n",
    "sns.kdeplot(data=full['rougher.input.sum'], label = 'Исходное сырье')\n",
    "sns.kdeplot(data=full['rougher.output.sum'], label = 'Черновая смесь')\n",
    "sns.kdeplot(data=full['primary.output.sum'], label = 'После очистки')\n",
    "sns.kdeplot(data=full['final.output.sum'], label = 'Финальная смесь')\n",
    "plt.xlabel(\"Суммарный концентрат металла\")\n",
    "plt.ylabel(\"Частота\")\n",
    "plt.legend()"
   ]
  },
  {
   "cell_type": "markdown",
   "metadata": {},
   "source": [
    "вывод: много выбросов , много значений от 0 до примерно 30, их частота нулевая"
   ]
  },
  {
   "cell_type": "markdown",
   "metadata": {},
   "source": [
    "Строю ящики с усами суммарных концентраций веществ, чтобы увидеть распределения этих значений."
   ]
  },
  {
   "cell_type": "code",
   "execution_count": 34,
   "metadata": {
    "scrolled": false
   },
   "outputs": [
    {
     "data": {
      "image/png": "[encoded data removed]",
      "text/plain": [
       "<Figure size 840x1050 with 1 Axes>"
      ]
     },
     "metadata": {
      "needs_background": "light"
     },
     "output_type": "display_data"
    }
   ],
   "source": [
    "plt.figure(figsize=(12,15), dpi= 70)\n",
    "sns.boxplot(data=full[['rougher.input.sum', 'rougher.output.sum', 'primary.output.sum', 'final.output.sum']])\n",
    "plt.title('Распределение суммарной концентрации сырья', fontsize=15)\n",
    "plt.ylim(-10, 100)\n",
    "plt.xlabel('Этапы очистки', labelpad=15, fontsize=14)\n",
    "plt.ylabel('Суммарная концентрация веществ', labelpad=15, fontsize=15)\n",
    "plt.xticks(np.arange(4), ('Исходное сырье', 'Черновая смесь', 'После очистки', 'Финальная смесь'))\n",
    "plt.show()"
   ]
  },
  {
   "cell_type": "markdown",
   "metadata": {},
   "source": [
    "Вывод: много выбросов находятся в первом квартиле, их можно удалить,чтобы не мешали обучению модели."
   ]
  },
  {
   "cell_type": "code",
   "execution_count": 35,
   "metadata": {},
   "outputs": [],
   "source": [
    "final_output_concentrate = (train['final.output.concentrate_ag'] + train['final.output.concentrate_au']\n",
    "                                  + train['final.output.concentrate_pb'] + train['final.output.concentrate_sol'])\n",
    "\n",
    "\n",
    "train_clean = train.query('@final_output_concentrate > 30')"
   ]
  },
  {
   "cell_type": "code",
   "execution_count": 36,
   "metadata": {},
   "outputs": [],
   "source": [
    "train_clean['final.output.sum'] = (train_clean['final.output.concentrate_ag'] + train_clean['final.output.concentrate_au']\n",
    "                                  + train_clean['final.output.concentrate_pb'] + train_clean['final.output.concentrate_sol'])"
   ]
  },
  {
   "cell_type": "code",
   "execution_count": 37,
   "metadata": {
    "scrolled": true
   },
   "outputs": [
    {
     "data": {
      "image/png": "[encoded data removed]",
      "text/plain": [
       "<Figure size 700x700 with 1 Axes>"
      ]
     },
     "metadata": {
      "needs_background": "light"
     },
     "output_type": "display_data"
    }
   ],
   "source": [
    "plt.figure(figsize=(10,10), dpi= 70)\n",
    "sns.boxplot(data=train_clean['final.output.sum'])\n",
    "plt.title('Распределение суммарной концентрации сырья', fontsize=15)\n",
    "plt.ylim(-10, 100)\n",
    "plt.xlabel('Финальный этап', labelpad=15, fontsize=15)\n",
    "plt.ylabel('Суммарная концентрация всех веществ вместе', labelpad=15, fontsize=14)\n",
    "plt.show()"
   ]
  },
  {
   "cell_type": "markdown",
   "metadata": {},
   "source": [
    "вывод: избавился от выбросов, ихстало меньше, ящик с усами выглядит лучше"
   ]
  },
  {
   "cell_type": "markdown",
   "metadata": {},
   "source": [
    "## Модель"
   ]
  },
  {
   "cell_type": "markdown",
   "metadata": {},
   "source": [
    "# 3.1. Функция для вычисления итоговой sMAPE"
   ]
  },
  {
   "cell_type": "markdown",
   "metadata": {},
   "source": [
    "Функция для вычисления sMAPE:"
   ]
  },
  {
   "cell_type": "code",
   "execution_count": 38,
   "metadata": {},
   "outputs": [],
   "source": [
    "def sMAPE_calc(y_target, y_predict):\n",
    "    smape = np.mean(abs(y_target - y_predict) / ((abs(y_target) + abs(y_predict)) / 2)) * 100\n",
    "    return smape"
   ]
  },
  {
   "cell_type": "markdown",
   "metadata": {},
   "source": [
    "Функция для вычисления финального sMAPE:"
   ]
  },
  {
   "cell_type": "code",
   "execution_count": 39,
   "metadata": {},
   "outputs": [],
   "source": [
    "def final_sMAPE_calc(smape_rougher, smape_final):\n",
    "    return (0.25*smape_rougher + 0.75*smape_final)"
   ]
  },
  {
   "cell_type": "markdown",
   "metadata": {},
   "source": []
  },
  {
   "cell_type": "markdown",
   "metadata": {},
   "source": [
    "# 3.2. Обучение разных моделей."
   ]
  },
  {
   "cell_type": "markdown",
   "metadata": {},
   "source": [
    "Разделяю обучающую выборку на признаки:"
   ]
  },
  {
   "cell_type": "code",
   "execution_count": 40,
   "metadata": {},
   "outputs": [],
   "source": [
    "features_train = np.array(train.drop(['rougher.output.recovery', 'final.output.recovery',\n",
    "                                     'rougher.output.concentrate_au', 'primary_cleaner.output.tail_pb',\n",
    "                                      'final.output.concentrate_au', 'primary_cleaner.output.concentrate_pb',\n",
    "                                      'final.output.tail_sol',\n",
    "                                      'rougher.calculation.floatbank10_sulfate_to_au_feed',\n",
    "                                      'rougher.output.tail_sol', 'final.output.tail_au',\n",
    "                                      'primary_cleaner.output.concentrate_ag',\n",
    "                                      'rougher.calculation.floatbank11_sulfate_to_au_feed',\n",
    "                                      'rougher.output.tail_ag', 'rougher.output.tail_pb',\n",
    "                                      'secondary_cleaner.output.tail_pb', 'final.output.tail_ag',\n",
    "                                      'final.output.concentrate_sol', 'primary_cleaner.output.tail_au',\n",
    "                                      'secondary_cleaner.output.tail_sol', 'secondary_cleaner.output.tail_ag',\n",
    "                                      'rougher.output.tail_au', 'rougher.output.concentrate_ag',\n",
    "                                      'primary_cleaner.output.concentrate_sol', 'final.output.concentrate_pb',\n",
    "                                      'final.output.concentrate_ag', 'secondary_cleaner.output.tail_au',\n",
    "                                      'rougher.output.concentrate_pb', 'rougher.output.concentrate_sol',\n",
    "                                      'primary_cleaner.output.tail_sol',\n",
    "                                      'rougher.calculation.sulfate_to_au_concentrate',\n",
    "                                      'final.output.tail_pb', 'primary_cleaner.output.concentrate_au',\n",
    "                                      'primary_cleaner.output.tail_ag', 'rougher.calculation.au_pb_ratio'], \n",
    "                                     axis=1)) \n",
    "\n",
    "#кроме целевых, убираю признаки, которых нет в test:\n",
    "\n",
    "target_train_rougher = np.array(train['rougher.output.recovery'])\n",
    "target_train_final = np.array(train['final.output.recovery'])\n",
    "\n"
   ]
  },
  {
   "cell_type": "code",
   "execution_count": 41,
   "metadata": {},
   "outputs": [
    {
     "name": "stdout",
     "output_type": "stream",
     "text": [
      "(14149, 52)\n",
      "(14149,)\n",
      "(14149,)\n"
     ]
    }
   ],
   "source": [
    "for sample in [features_train, target_train_rougher, target_train_final]:\n",
    "    print(sample.shape)"
   ]
  },
  {
   "cell_type": "code",
   "execution_count": 42,
   "metadata": {},
   "outputs": [],
   "source": [
    "score = make_scorer(sMAPE_calc, greater_is_better = False) "
   ]
  },
  {
   "cell_type": "markdown",
   "metadata": {},
   "source": [
    "Применяю make_pipeline для Случайного леса, Дерева решений и Регрессии:"
   ]
  },
  {
   "cell_type": "code",
   "execution_count": 43,
   "metadata": {},
   "outputs": [],
   "source": [
    "# (разбиваю на ячейки,чтобы выполнялись быстрее)\n",
    "model_rfr = make_pipeline(StandardScaler(), RandomForestRegressor())"
   ]
  },
  {
   "cell_type": "code",
   "execution_count": 44,
   "metadata": {},
   "outputs": [],
   "source": [
    "model_dtr = make_pipeline(StandardScaler(), DecisionTreeRegressor())"
   ]
  },
  {
   "cell_type": "code",
   "execution_count": 45,
   "metadata": {},
   "outputs": [],
   "source": [
    "model_lr = make_pipeline(StandardScaler(), LinearRegression())"
   ]
  },
  {
   "cell_type": "markdown",
   "metadata": {},
   "source": [
    "Параметры для моделей:"
   ]
  },
  {
   "cell_type": "code",
   "execution_count": 46,
   "metadata": {},
   "outputs": [],
   "source": [
    "parameters_rfr = {'randomforestregressor__n_estimators':[1,100],\n",
    "                  'randomforestregressor__max_depth':[1,10],\n",
    "                  'randomforestregressor__random_state':[12345]}"
   ]
  },
  {
   "cell_type": "code",
   "execution_count": 47,
   "metadata": {},
   "outputs": [],
   "source": [
    "parameters_dtr = {'decisiontreeregressor__max_depth':[1,10]}"
   ]
  },
  {
   "cell_type": "code",
   "execution_count": 48,
   "metadata": {},
   "outputs": [],
   "source": [
    "parameters_lr = {'linearregression__normalize':[False]}"
   ]
  },
  {
   "cell_type": "markdown",
   "metadata": {},
   "source": [
    "GridSearchCV для перебора гиперпараметров и для кросс-валидации:"
   ]
  },
  {
   "cell_type": "code",
   "execution_count": 49,
   "metadata": {},
   "outputs": [],
   "source": [
    "grid_rougher_rfr = GridSearchCV(model_rfr, param_grid=parameters_rfr, cv=5, scoring=score)\n",
    "grid_final_rfr = GridSearchCV(model_rfr, param_grid=parameters_rfr, cv=5, scoring=score)"
   ]
  },
  {
   "cell_type": "code",
   "execution_count": 50,
   "metadata": {},
   "outputs": [],
   "source": [
    "grid_rougher_dtr = GridSearchCV(model_dtr, param_grid=parameters_dtr, cv=5, scoring=score)\n",
    "grid_final_dtr = GridSearchCV(model_dtr, param_grid=parameters_dtr, cv=5, scoring=score)"
   ]
  },
  {
   "cell_type": "code",
   "execution_count": 51,
   "metadata": {},
   "outputs": [],
   "source": [
    "grid_rougher_lr = GridSearchCV(model_lr, param_grid=parameters_lr, scoring=score)\n",
    "grid_final_lr = GridSearchCV(model_lr, param_grid=parameters_lr, scoring=score)"
   ]
  },
  {
   "cell_type": "markdown",
   "metadata": {},
   "source": [
    "Обучаю модели:"
   ]
  },
  {
   "cell_type": "code",
   "execution_count": 52,
   "metadata": {},
   "outputs": [
    {
     "data": {
      "text/plain": [
       "GridSearchCV(cv=5,\n",
       "             estimator=Pipeline(steps=[('standardscaler', StandardScaler()),\n",
       "                                       ('randomforestregressor',\n",
       "                                        RandomForestRegressor())]),\n",
       "             param_grid={'randomforestregressor__max_depth': [1, 10],\n",
       "                         'randomforestregressor__n_estimators': [1, 100],\n",
       "                         'randomforestregressor__random_state': [12345]},\n",
       "             scoring=make_scorer(sMAPE_calc, greater_is_better=False))"
      ]
     },
     "execution_count": 52,
     "metadata": {},
     "output_type": "execute_result"
    }
   ],
   "source": [
    "grid_rougher_rfr.fit(features_train, target_train_rougher)\n",
    "#grid_final_rfr.fit(features_train, target_train_final)\n",
    "\n",
    "#grid_rougher_dtr.fit(features_train, target_train_rougher)\n",
    "#grid_final_dtr.fit(features_train, target_train_final)\n",
    "\n",
    "#grid_rougher_lr.fit(features_train, target_train_rougher)\n",
    "#grid_final_lr.fit(features_train, target_train_final)"
   ]
  },
  {
   "cell_type": "markdown",
   "metadata": {},
   "source": [
    "GridSearchCV(cv=5,\n",
    "\n",
    "             estimator=Pipeline(steps=[('standardscaler', StandardScaler()),\n",
    "                                       ('randomforestregressor',\n",
    "                                        RandomForestRegressor())]),\n",
    "             param_grid={'randomforestregressor__max_depth': [1, 10],\n",
    "                         'randomforestregressor__n_estimators': [1, 100],\n",
    "                         'randomforestregressor__random_state': [12345]},\n",
    "             scoring=make_scorer(sMAPE_calc, greater_is_better=False))"
   ]
  },
  {
   "cell_type": "code",
   "execution_count": 53,
   "metadata": {
    "scrolled": true
   },
   "outputs": [
    {
     "data": {
      "text/plain": [
       "GridSearchCV(cv=5,\n",
       "             estimator=Pipeline(steps=[('standardscaler', StandardScaler()),\n",
       "                                       ('randomforestregressor',\n",
       "                                        RandomForestRegressor())]),\n",
       "             param_grid={'randomforestregressor__max_depth': [1, 10],\n",
       "                         'randomforestregressor__n_estimators': [1, 100],\n",
       "                         'randomforestregressor__random_state': [12345]},\n",
       "             scoring=make_scorer(sMAPE_calc, greater_is_better=False))"
      ]
     },
     "execution_count": 53,
     "metadata": {},
     "output_type": "execute_result"
    }
   ],
   "source": [
    "grid_final_rfr.fit(features_train, target_train_final)"
   ]
  },
  {
   "cell_type": "code",
   "execution_count": 54,
   "metadata": {},
   "outputs": [
    {
     "name": "stdout",
     "output_type": "stream",
     "text": [
      "лучшие параметры :  {'randomforestregressor__max_depth': 1, 'randomforestregressor__n_estimators': 100, 'randomforestregressor__random_state': 12345}\n"
     ]
    }
   ],
   "source": [
    "print('Лучшие параметры : ', grid_final_rfr.best_params_)"
   ]
  },
  {
   "cell_type": "code",
   "execution_count": 55,
   "metadata": {},
   "outputs": [
    {
     "data": {
      "text/plain": [
       "GridSearchCV(cv=5,\n",
       "             estimator=Pipeline(steps=[('standardscaler', StandardScaler()),\n",
       "                                       ('decisiontreeregressor',\n",
       "                                        DecisionTreeRegressor())]),\n",
       "             param_grid={'decisiontreeregressor__max_depth': [1, 10]},\n",
       "             scoring=make_scorer(sMAPE_calc, greater_is_better=False))"
      ]
     },
     "execution_count": 55,
     "metadata": {},
     "output_type": "execute_result"
    }
   ],
   "source": [
    "grid_rougher_dtr.fit(features_train, target_train_rougher)\n",
    "grid_final_dtr.fit(features_train, target_train_final)"
   ]
  },
  {
   "cell_type": "code",
   "execution_count": 56,
   "metadata": {},
   "outputs": [
    {
     "name": "stdout",
     "output_type": "stream",
     "text": [
      "лучшие параметры :  {'decisiontreeregressor__max_depth': 1}\n"
     ]
    }
   ],
   "source": [
    "print('Лучшие параметры : ', grid_final_dtr.best_params_)"
   ]
  },
  {
   "cell_type": "markdown",
   "metadata": {},
   "source": [
    "GridSearchCV(cv=5,\n",
    "\n",
    "             estimator=Pipeline(steps=[('standardscaler', StandardScaler()),\n",
    "                                       ('decisiontreeregressor',\n",
    "                                        DecisionTreeRegressor())]),\n",
    "             param_grid={'decisiontreeregressor__max_depth': [1, 10]},\n",
    "             scoring=make_scorer(sMAPE_calc, greater_is_better=False))"
   ]
  },
  {
   "cell_type": "code",
   "execution_count": 57,
   "metadata": {},
   "outputs": [
    {
     "data": {
      "text/plain": [
       "GridSearchCV(estimator=Pipeline(steps=[('standardscaler', StandardScaler()),\n",
       "                                       ('linearregression',\n",
       "                                        LinearRegression())]),\n",
       "             param_grid={'linearregression__normalize': [False]},\n",
       "             scoring=make_scorer(sMAPE_calc, greater_is_better=False))"
      ]
     },
     "execution_count": 57,
     "metadata": {},
     "output_type": "execute_result"
    }
   ],
   "source": [
    "grid_rougher_lr.fit(features_train, target_train_rougher)\n",
    "grid_final_lr.fit(features_train, target_train_final)"
   ]
  },
  {
   "cell_type": "markdown",
   "metadata": {},
   "source": [
    "GridSearchCV(estimator=Pipeline(steps=[('standardscaler', StandardScaler()),\n",
    "                                       ('linearregression',\n",
    "                                        LinearRegression())]),\n",
    "                                        \n",
    "             param_grid={'linearregression__normalize': [False]},\n",
    "             scoring=make_scorer(sMAPE_calc, greater_is_better=False))\n"
   ]
  },
  {
   "cell_type": "code",
   "execution_count": 58,
   "metadata": {},
   "outputs": [
    {
     "name": "stdout",
     "output_type": "stream",
     "text": [
      " RandomForestRegressor лучший результат rougher = -12.430723847714054\n",
      " DecisionTreeRegressor лучший результат rougher = -12.463376951515484\n",
      " LinearRegression лучший результат rougher = -12.612320871397836\n",
      "\n",
      " RandomForestRegressor лучший результат final = -10.82066080737953\n",
      " DecisionTreeRegressor лучший результат final = -11.037301695652351\n",
      " LinearRegression лучший результат final = -12.199823507661959\n"
     ]
    }
   ],
   "source": [
    "#определяю лучшую из моделей для 2 целевых признаков: \n",
    "best_score_rougher_rfr = grid_rougher_rfr.best_score_\n",
    "best_score_final_rfr = grid_final_rfr.best_score_\n",
    "\n",
    "best_score_rougher_dtr = grid_rougher_dtr.best_score_\n",
    "best_score_final_dtr = grid_final_dtr.best_score_\n",
    "\n",
    "best_score_rougher_lr = grid_rougher_lr.best_score_\n",
    "best_score_final_lr = grid_final_lr.best_score_\n",
    "\n",
    "print(' RandomForestRegressor лучший результат rougher =', best_score_rougher_rfr)\n",
    "print(' DecisionTreeRegressor лучший результат rougher =', best_score_rougher_dtr)\n",
    "print(' LinearRegression лучший результат rougher =', best_score_rougher_lr)\n",
    "print()\n",
    "\n",
    "print(' RandomForestRegressor лучший результат final =', best_score_final_rfr)\n",
    "print(' DecisionTreeRegressor лучший результат final =', best_score_final_dtr)\n",
    "print(' LinearRegression лучший результат final =', best_score_final_lr)"
   ]
  },
  {
   "cell_type": "markdown",
   "metadata": {},
   "source": [
    " RandomForestRegressor лучший результат rougher = -12.430723847714054\n",
    "\n",
    " DecisionTreeRegressor лучший результат rougher = -12.463376951515562\n",
    "\n",
    " LinearRegression лучший результат rougher = -12.612320871397836\n",
    " \n",
    "\n",
    " RandomForestRegressor лучший результат final = -10.82066080737953\n",
    "\n",
    " DecisionTreeRegressor лучший результат final = -11.037301695652443\n",
    "\n",
    " LinearRegression лучший результат final = -12.199823507661959"
   ]
  },
  {
   "cell_type": "code",
   "execution_count": 59,
   "metadata": {},
   "outputs": [
    {
     "name": "stdout",
     "output_type": "stream",
     "text": [
      " RandomForestRegressor итоговое sMAPE = -11.223176567463161\n",
      " DecisionTreeRegressor итоговое sMAPE = -11.393820509618134\n",
      " LinearRegression итоговое sMAPE = -12.302947848595927\n"
     ]
    }
   ],
   "source": [
    "#final sMAPE для каждой модели:\n",
    "final_smape_rfr = final_sMAPE_calc(best_score_rougher_rfr, best_score_final_rfr)\n",
    "print(' RandomForestRegressor итоговое sMAPE =', final_smape_rfr)\n",
    "\n",
    "final_smape_dtr = final_sMAPE_calc(best_score_rougher_dtr, best_score_final_dtr)\n",
    "print(' DecisionTreeRegressor итоговое sMAPE =', final_smape_dtr)\n",
    "\n",
    "final_smape_lr = final_sMAPE_calc(best_score_rougher_lr, best_score_final_lr)\n",
    "print(' LinearRegression итоговое sMAPE =', final_smape_lr)"
   ]
  },
  {
   "cell_type": "markdown",
   "metadata": {},
   "source": [
    " RandomForestRegressor итоговое sMAPE = -11.223176567463161\n",
    "\n",
    " DecisionTreeRegressor итоговое sMAPE = -11.393820509618223\n",
    "\n",
    " LinearRegression итоговое sMAPE = -12.302947848595927"
   ]
  },
  {
   "cell_type": "code",
   "execution_count": 60,
   "metadata": {},
   "outputs": [
    {
     "name": "stdout",
     "output_type": "stream",
     "text": [
      "Симметричная средняя абсолютная процентная ошибка на тестовой выборке = 9.693\n"
     ]
    }
   ],
   "source": [
    "#на тестовой выборке final sMAPE по RandomForestRegressor:\n",
    "features_test = np.array(test.drop(['rougher.output.recovery', 'final.output.recovery'], axis=1))\n",
    "target_test_rouger = np.array(test['rougher.output.recovery'])\n",
    "target_test_final = np.array(test['final.output.recovery'])\n",
    "\n",
    "test_rogher = grid_rougher_rfr.predict(features_test) \n",
    "test_final = grid_final_rfr.predict(features_test)\n",
    "\n",
    "rouger_smape_test = sMAPE_calc(target_test_rouger, test_rogher)\n",
    "final_smape_test = sMAPE_calc(target_test_final, test_final)\n",
    "\n",
    "final_smape = final_sMAPE_calc(rouger_smape_test, final_smape_test)\n",
    "print('Симметричная средняя абсолютная процентная ошибка на тестовой выборке =', round(final_smape,3))"
   ]
  },
  {
   "cell_type": "markdown",
   "metadata": {
    "scrolled": true
   },
   "source": [
    "Симметричная средняя абсолютная процентная ошибка на тестовой выборке = 9.693"
   ]
  },
  {
   "cell_type": "markdown",
   "metadata": {},
   "source": [
    "Вывод: \n",
    "\n",
    "       - Обучил  на тренировочной выборке 3 модели: случайный лес, дерево решений и линейную \n",
    "        регрессию, с применением кросс-валидации;\n",
    "      \n",
    "       - Лучшие метрики качества у Случайного леса. Провел проверку на тестовой выборке; \n",
    "      \n",
    "       - Симметричная средняя абсолютная процентная ошибка на тестовой выборке равна 9.693."
   ]
  },
  {
   "cell_type": "markdown",
   "metadata": {},
   "source": [
    "##  Проверка модели на вменяемость"
   ]
  },
  {
   "cell_type": "code",
   "execution_count": 61,
   "metadata": {},
   "outputs": [
    {
     "name": "stdout",
     "output_type": "stream",
     "text": [
      "Для стратегии mean итоговая sMAPE = 10.29\n",
      "Для стратегии median итоговая sMAPE = 9.48\n"
     ]
    }
   ],
   "source": [
    "for strategy in ['mean', 'median']:\n",
    "    dummy_rougher = DummyRegressor(strategy=strategy)\n",
    "    dummy_final = DummyRegressor(strategy=strategy)\n",
    "    \n",
    "    dummy_rougher.fit(features_train, target_train_rougher)\n",
    "    dummy_final.fit(features_train, target_train_final)\n",
    "    \n",
    "    rougher = dummy_rougher.predict(test)\n",
    "    final = dummy_final.predict(test)\n",
    "    \n",
    "    final_smape = final_sMAPE_calc(sMAPE_calc(target_test_rouger, rougher),\n",
    "                                   sMAPE_calc(target_test_final, final))\n",
    "\n",
    "    print('Для стратегии', strategy, 'итоговая sMAPE =', round(final_smape,3))"
   ]
  },
  {
   "cell_type": "markdown",
   "metadata": {},
   "source": [
    "Вывод: По сравнению с константной моделью значения метрик оказались выше. \n",
    "       Поэтому считаю, что модель RandomForestRegressor прошла проверку на вменяемость"
   ]
  },
  {
   "cell_type": "markdown",
   "metadata": {},
   "source": [
    "##  Общий вывод"
   ]
  },
  {
   "cell_type": "markdown",
   "metadata": {},
   "source": [
    "В результате данной работы были проведены следующие исследования и сделаны выводы:\n",
    "    \n",
    "    1. Изучил и подготовил для анализа данные:\n",
    "        \n",
    "        - во всех представленных таблицах имеются пропуски;\n",
    "\n",
    "        - в test нет части признаков, которые есть в full и train;\n",
    "\n",
    "        - целевые признаки - rougher.output.recovery и final.output.recovery;\n",
    "\n",
    "        - дубликатов нет.\n",
    "       \n",
    "     2. Проверил правильность расчета эффективности обогащения:\n",
    "     \n",
    "        -полученные значения МАЕ близки к 0, следовательно эффективность обогащения рассчитана правильно.\n",
    "        \n",
    "     3. Добавил целевые признаки в  выборку test из full по совпадению даты;\n",
    "\n",
    "        Подтвердил правильность расчета эффективности обогащения в тренировочной выборке;\n",
    "\n",
    "        Избавился от пропусков в  выборках;\n",
    "        \n",
    "     4. Анализ концентрации металлов показал,что концентрация золота Au значительно увеличивается \n",
    "        на каждом этапе обработки сырья;\n",
    "\n",
    "        концентрация Ag падает с этапа флотации;\n",
    "\n",
    "        концентрация Pb растет от этапа к этапу, но низкими темпами\n",
    "       \n",
    "       \n",
    "      5. Обучил  на тренировочной выборке 3 модели: случайный лес, дерево решений и линейную \n",
    "        регрессию, с применением кросс-валидации;\n",
    "      \n",
    "         Лучшие метрики качества у Случайного леса. Провел проверку на тестовой выборке; \n",
    "      \n",
    "         Симметричная средняя абсолютная процентная ошибка на тестовой выборке равна 9.693.\n",
    "         \n",
    "         Прототипом модели машинного обучения для «Цифры» является RandomForestRegressor: модель \n",
    "         предсказывает коэффициент восстановления золота из золотосодержащей руды наилучшим образом, \n",
    "         в т.ч. при проверке на вменяемость."
   ]
  },
  {
   "cell_type": "code",
   "execution_count": null,
   "metadata": {},
   "outputs": [],
   "source": []
  },
  {
   "cell_type": "markdown",
   "metadata": {},
   "source": [
    "## Чек-лист готовности проекта"
   ]
  },
  {
   "cell_type": "markdown",
   "metadata": {},
   "source": [
    "- [x]  Jupyter Notebook открыт\n",
    "- [x ]  Весь код выполняется без ошибок\n",
    "- [x ]  Ячейки с кодом расположены в порядке выполнения\n",
    "- [x ]  Выполнен шаг 1: данные подготовлены\n",
    "    - [x ]  Проверена формула вычисления эффективности обогащения\n",
    "    - [ x]  Проанализированы признаки, недоступные в тестовой выборке\n",
    "    - [x ]  Проведена предобработка данных\n",
    "- [x ]  Выполнен шаг 2: данные проанализированы\n",
    "    - [x ]  Исследовано изменение концентрации элементов на каждом этапе\n",
    "    - [x ]  Проанализированы распределения размеров гранул на обучающей и тестовой выборках\n",
    "    - [ x]  Исследованы суммарные концентрации\n",
    "- [x ]  Выполнен шаг 3: построена модель прогнозирования\n",
    "    - [x ]  Написана функция для вычисления итогового *sMAPE*\n",
    "    - [ x]  Обучено и проверено несколько моделей\n",
    "    - [ x]  Выбрана лучшая модель, её качество проверено на тестовой выборке"
   ]
  },
  {
   "cell_type": "code",
   "execution_count": null,
   "metadata": {},
   "outputs": [],
   "source": []
  },
  {
   "cell_type": "code",
   "execution_count": null,
   "metadata": {},
   "outputs": [],
   "source": []
  }
 ],
 "metadata": {
  "ExecuteTimeLog": [
   {
    "duration": 71,
    "start_time": "2024-05-25T07:49:41.145Z"
   },
   {
    "duration": 1581,
    "start_time": "2024-05-26T04:56:28.025Z"
   },
   {
    "duration": 2031,
    "start_time": "2024-05-26T04:56:32.235Z"
   },
   {
    "duration": 73,
    "start_time": "2024-05-26T04:57:11.435Z"
   },
   {
    "duration": 614,
    "start_time": "2024-05-26T04:57:11.955Z"
   },
   {
    "duration": 4,
    "start_time": "2024-05-26T04:58:07.585Z"
   },
   {
    "duration": 626,
    "start_time": "2024-05-26T04:58:08.267Z"
   },
   {
    "duration": 3573,
    "start_time": "2024-05-26T04:58:30.712Z"
   },
   {
    "duration": 69,
    "start_time": "2024-05-26T04:59:31.261Z"
   },
   {
    "duration": 58,
    "start_time": "2024-05-26T04:59:57.997Z"
   },
   {
    "duration": 840,
    "start_time": "2024-05-26T05:00:29.695Z"
   },
   {
    "duration": 78,
    "start_time": "2024-05-26T05:00:30.537Z"
   },
   {
    "duration": 819,
    "start_time": "2024-05-26T05:01:58.205Z"
   },
   {
    "duration": 72,
    "start_time": "2024-05-26T05:01:59.175Z"
   },
   {
    "duration": 246,
    "start_time": "2024-05-26T05:02:46.610Z"
   },
   {
    "duration": 57,
    "start_time": "2024-05-26T05:03:53.721Z"
   },
   {
    "duration": 279,
    "start_time": "2024-05-26T05:03:55.351Z"
   },
   {
    "duration": 23,
    "start_time": "2024-05-26T05:06:31.527Z"
   },
   {
    "duration": 21,
    "start_time": "2024-05-26T05:06:53.772Z"
   },
   {
    "duration": 34,
    "start_time": "2024-05-26T05:07:08.930Z"
   },
   {
    "duration": 36,
    "start_time": "2024-05-26T05:07:50.484Z"
   },
   {
    "duration": 581,
    "start_time": "2024-05-26T05:08:21.672Z"
   },
   {
    "duration": 211,
    "start_time": "2024-05-26T05:10:50.766Z"
   },
   {
    "duration": 4,
    "start_time": "2024-05-26T05:15:43.009Z"
   },
   {
    "duration": 4,
    "start_time": "2024-05-26T05:16:45.590Z"
   },
   {
    "duration": 6,
    "start_time": "2024-05-26T05:28:45.600Z"
   },
   {
    "duration": 10,
    "start_time": "2024-05-26T05:29:16.326Z"
   },
   {
    "duration": 8,
    "start_time": "2024-05-26T05:29:49.971Z"
   },
   {
    "duration": 5,
    "start_time": "2024-05-26T05:30:36.620Z"
   },
   {
    "duration": 4,
    "start_time": "2024-05-26T05:32:02.707Z"
   },
   {
    "duration": 4,
    "start_time": "2024-05-26T05:32:58.766Z"
   },
   {
    "duration": 8,
    "start_time": "2024-05-26T05:33:14.075Z"
   },
   {
    "duration": 5,
    "start_time": "2024-05-26T05:33:15.411Z"
   },
   {
    "duration": 5,
    "start_time": "2024-05-26T05:35:53.649Z"
   },
   {
    "duration": 15,
    "start_time": "2024-05-26T05:41:59.018Z"
   },
   {
    "duration": 26,
    "start_time": "2024-05-26T05:59:09.763Z"
   },
   {
    "duration": 25,
    "start_time": "2024-05-26T06:01:53.690Z"
   },
   {
    "duration": 14,
    "start_time": "2024-05-26T06:05:10.766Z"
   },
   {
    "duration": 14,
    "start_time": "2024-05-26T06:05:11.815Z"
   },
   {
    "duration": 7,
    "start_time": "2024-05-26T06:07:06.773Z"
   },
   {
    "duration": 7,
    "start_time": "2024-05-26T06:08:06.173Z"
   },
   {
    "duration": 11,
    "start_time": "2024-05-26T06:09:00.506Z"
   },
   {
    "duration": 20,
    "start_time": "2024-05-26T06:10:12.689Z"
   },
   {
    "duration": 14,
    "start_time": "2024-05-26T06:11:26.309Z"
   },
   {
    "duration": 18,
    "start_time": "2024-05-26T06:11:27.151Z"
   },
   {
    "duration": 14,
    "start_time": "2024-05-26T06:11:27.863Z"
   },
   {
    "duration": 1132,
    "start_time": "2024-05-26T06:20:21.067Z"
   },
   {
    "duration": 1106,
    "start_time": "2024-05-26T06:20:52.069Z"
   },
   {
    "duration": 1175,
    "start_time": "2024-05-26T06:21:34.511Z"
   },
   {
    "duration": 1212,
    "start_time": "2024-05-26T06:23:22.769Z"
   },
   {
    "duration": 1144,
    "start_time": "2024-05-26T06:23:28.647Z"
   },
   {
    "duration": 1154,
    "start_time": "2024-05-26T06:23:57.531Z"
   },
   {
    "duration": 1190,
    "start_time": "2024-05-26T06:26:04.452Z"
   },
   {
    "duration": 1178,
    "start_time": "2024-05-26T06:26:45.557Z"
   },
   {
    "duration": 1139,
    "start_time": "2024-05-26T06:27:15.800Z"
   },
   {
    "duration": 1284,
    "start_time": "2024-05-26T06:27:48.653Z"
   },
   {
    "duration": 1378,
    "start_time": "2024-05-26T06:28:02.983Z"
   },
   {
    "duration": 1168,
    "start_time": "2024-05-26T06:28:09.869Z"
   },
   {
    "duration": 7,
    "start_time": "2024-05-26T06:34:34.177Z"
   },
   {
    "duration": 7,
    "start_time": "2024-05-26T06:34:46.977Z"
   },
   {
    "duration": 1099,
    "start_time": "2024-05-26T06:34:48.437Z"
   },
   {
    "duration": 10,
    "start_time": "2024-05-26T06:35:11.381Z"
   },
   {
    "duration": 8,
    "start_time": "2024-05-26T06:35:18.620Z"
   },
   {
    "duration": 1330,
    "start_time": "2024-05-26T06:35:19.223Z"
   },
   {
    "duration": 1090,
    "start_time": "2024-05-26T06:35:20.554Z"
   },
   {
    "duration": 9,
    "start_time": "2024-05-26T06:35:43.922Z"
   },
   {
    "duration": 1115,
    "start_time": "2024-05-26T06:35:45.538Z"
   },
   {
    "duration": 8,
    "start_time": "2024-05-26T06:35:50.244Z"
   },
   {
    "duration": 1242,
    "start_time": "2024-05-26T06:35:50.901Z"
   },
   {
    "duration": 7,
    "start_time": "2024-05-26T06:35:52.458Z"
   },
   {
    "duration": 1381,
    "start_time": "2024-05-26T06:35:53.058Z"
   },
   {
    "duration": 7,
    "start_time": "2024-05-26T06:35:55.432Z"
   },
   {
    "duration": 1185,
    "start_time": "2024-05-26T06:35:56.774Z"
   },
   {
    "duration": 1264,
    "start_time": "2024-05-26T06:36:11.264Z"
   },
   {
    "duration": 7,
    "start_time": "2024-05-26T06:36:12.530Z"
   },
   {
    "duration": 1270,
    "start_time": "2024-05-26T06:36:12.564Z"
   },
   {
    "duration": 7,
    "start_time": "2024-05-26T06:36:13.837Z"
   },
   {
    "duration": 206,
    "start_time": "2024-05-26T06:36:30.316Z"
   },
   {
    "duration": 201,
    "start_time": "2024-05-26T06:37:03.152Z"
   },
   {
    "duration": 205,
    "start_time": "2024-05-26T06:37:30.962Z"
   },
   {
    "duration": 452,
    "start_time": "2024-05-26T06:48:28.428Z"
   },
   {
    "duration": 444,
    "start_time": "2024-05-26T06:49:01.336Z"
   },
   {
    "duration": 393,
    "start_time": "2024-05-26T06:49:27.424Z"
   },
   {
    "duration": 568,
    "start_time": "2024-05-26T06:52:56.084Z"
   },
   {
    "duration": 680,
    "start_time": "2024-05-26T06:53:19.886Z"
   },
   {
    "duration": 613,
    "start_time": "2024-05-26T06:53:35.831Z"
   },
   {
    "duration": 580,
    "start_time": "2024-05-26T06:53:56.283Z"
   },
   {
    "duration": 654,
    "start_time": "2024-05-26T06:54:03.008Z"
   },
   {
    "duration": 552,
    "start_time": "2024-05-26T06:56:09.200Z"
   },
   {
    "duration": 43,
    "start_time": "2024-05-26T06:56:10.521Z"
   },
   {
    "duration": 5,
    "start_time": "2024-05-26T06:59:21.848Z"
   },
   {
    "duration": 5,
    "start_time": "2024-05-26T06:59:22.485Z"
   },
   {
    "duration": 3,
    "start_time": "2024-05-26T06:59:53.188Z"
   },
   {
    "duration": 7,
    "start_time": "2024-05-26T07:01:59.204Z"
   },
   {
    "duration": 5,
    "start_time": "2024-05-26T07:05:52.527Z"
   },
   {
    "duration": 1193,
    "start_time": "2024-05-26T07:06:02.833Z"
   },
   {
    "duration": 1239,
    "start_time": "2024-05-26T07:07:10.289Z"
   },
   {
    "duration": 1249,
    "start_time": "2024-05-26T07:07:33.994Z"
   },
   {
    "duration": 244,
    "start_time": "2024-05-26T07:08:35.941Z"
   },
   {
    "duration": 227,
    "start_time": "2024-05-26T07:09:00.959Z"
   },
   {
    "duration": 252,
    "start_time": "2024-05-26T07:09:14.502Z"
   },
   {
    "duration": 256,
    "start_time": "2024-05-26T07:11:54.483Z"
   },
   {
    "duration": 822,
    "start_time": "2024-05-26T07:14:56.296Z"
   },
   {
    "duration": 135,
    "start_time": "2024-05-26T07:15:36.853Z"
   },
   {
    "duration": 6,
    "start_time": "2024-05-26T07:15:51.645Z"
   },
   {
    "duration": 172,
    "start_time": "2024-05-26T07:16:07.819Z"
   },
   {
    "duration": 16,
    "start_time": "2024-05-26T07:16:43.251Z"
   },
   {
    "duration": 6,
    "start_time": "2024-05-26T07:16:44.116Z"
   },
   {
    "duration": 177,
    "start_time": "2024-05-26T07:16:44.745Z"
   },
   {
    "duration": 262,
    "start_time": "2024-05-26T07:20:08.098Z"
   },
   {
    "duration": 18,
    "start_time": "2024-05-26T07:20:13.585Z"
   },
   {
    "duration": 6,
    "start_time": "2024-05-26T07:20:14.419Z"
   },
   {
    "duration": 251,
    "start_time": "2024-05-26T07:23:58.859Z"
   },
   {
    "duration": 16,
    "start_time": "2024-05-26T07:24:02.920Z"
   },
   {
    "duration": 6,
    "start_time": "2024-05-26T07:24:03.353Z"
   },
   {
    "duration": 182,
    "start_time": "2024-05-26T07:24:05.499Z"
   },
   {
    "duration": 13,
    "start_time": "2024-05-26T07:24:14.747Z"
   },
   {
    "duration": 5,
    "start_time": "2024-05-26T07:24:15.185Z"
   },
   {
    "duration": 165,
    "start_time": "2024-05-26T07:24:15.732Z"
   },
   {
    "duration": 22,
    "start_time": "2024-05-26T07:25:56.135Z"
   },
   {
    "duration": 6,
    "start_time": "2024-05-26T07:25:56.665Z"
   },
   {
    "duration": 175,
    "start_time": "2024-05-26T07:25:57.163Z"
   },
   {
    "duration": 41,
    "start_time": "2024-05-26T07:25:58.093Z"
   },
   {
    "duration": 25,
    "start_time": "2024-05-26T07:26:42.190Z"
   },
   {
    "duration": 5,
    "start_time": "2024-05-26T07:26:42.777Z"
   },
   {
    "duration": 171,
    "start_time": "2024-05-26T07:26:43.533Z"
   },
   {
    "duration": 13,
    "start_time": "2024-05-26T07:29:34.859Z"
   },
   {
    "duration": 6,
    "start_time": "2024-05-26T07:29:35.589Z"
   },
   {
    "duration": 159,
    "start_time": "2024-05-26T07:29:35.830Z"
   },
   {
    "duration": 242,
    "start_time": "2024-05-26T07:33:16.427Z"
   },
   {
    "duration": 18,
    "start_time": "2024-05-26T07:33:23.822Z"
   },
   {
    "duration": 4,
    "start_time": "2024-05-26T07:33:24.357Z"
   },
   {
    "duration": 169,
    "start_time": "2024-05-26T07:33:24.960Z"
   },
   {
    "duration": 123,
    "start_time": "2024-05-26T07:34:57.837Z"
   },
   {
    "duration": 138,
    "start_time": "2024-05-26T07:35:10.499Z"
   },
   {
    "duration": 4,
    "start_time": "2024-05-26T07:36:35.734Z"
   },
   {
    "duration": 7,
    "start_time": "2024-05-26T07:36:51.599Z"
   },
   {
    "duration": 3,
    "start_time": "2024-05-26T07:39:13.049Z"
   },
   {
    "duration": 3,
    "start_time": "2024-05-26T07:39:31.653Z"
   },
   {
    "duration": 10,
    "start_time": "2024-05-26T07:40:18.279Z"
   },
   {
    "duration": 3,
    "start_time": "2024-05-26T07:40:39.519Z"
   },
   {
    "duration": 6,
    "start_time": "2024-05-26T07:40:57.703Z"
   },
   {
    "duration": 3,
    "start_time": "2024-05-26T07:43:08.160Z"
   },
   {
    "duration": 3,
    "start_time": "2024-05-26T07:43:09.280Z"
   },
   {
    "duration": 3,
    "start_time": "2024-05-26T07:43:12.456Z"
   },
   {
    "duration": 3,
    "start_time": "2024-05-26T07:43:13.240Z"
   },
   {
    "duration": 3,
    "start_time": "2024-05-26T07:44:13.624Z"
   },
   {
    "duration": 3,
    "start_time": "2024-05-26T07:44:14.610Z"
   },
   {
    "duration": 3,
    "start_time": "2024-05-26T07:44:32.214Z"
   },
   {
    "duration": 13,
    "start_time": "2024-05-26T07:44:46.116Z"
   },
   {
    "duration": 10,
    "start_time": "2024-05-26T07:47:33.017Z"
   },
   {
    "duration": 14,
    "start_time": "2024-05-26T07:48:00.213Z"
   },
   {
    "duration": 3,
    "start_time": "2024-05-26T07:49:02.761Z"
   },
   {
    "duration": 21,
    "start_time": "2024-05-26T07:49:25.493Z"
   },
   {
    "duration": 3,
    "start_time": "2024-05-26T07:50:45.421Z"
   },
   {
    "duration": 3,
    "start_time": "2024-05-26T07:50:45.841Z"
   },
   {
    "duration": 3,
    "start_time": "2024-05-26T07:50:46.566Z"
   },
   {
    "duration": 11,
    "start_time": "2024-05-26T07:50:47.141Z"
   },
   {
    "duration": 3,
    "start_time": "2024-05-26T07:56:03.708Z"
   },
   {
    "duration": 15,
    "start_time": "2024-05-26T07:56:04.503Z"
   },
   {
    "duration": 4,
    "start_time": "2024-05-26T07:59:40.094Z"
   },
   {
    "duration": 9,
    "start_time": "2024-05-26T07:59:40.814Z"
   },
   {
    "duration": 13,
    "start_time": "2024-05-26T07:59:49.364Z"
   },
   {
    "duration": 24,
    "start_time": "2024-05-26T08:00:11.532Z"
   },
   {
    "duration": 4,
    "start_time": "2024-05-26T08:00:29.632Z"
   },
   {
    "duration": 845,
    "start_time": "2024-05-26T08:00:29.797Z"
   },
   {
    "duration": 21,
    "start_time": "2024-05-26T08:00:30.644Z"
   },
   {
    "duration": 77,
    "start_time": "2024-05-26T08:00:30.666Z"
   },
   {
    "duration": 80,
    "start_time": "2024-05-26T08:00:30.745Z"
   },
   {
    "duration": 132,
    "start_time": "2024-05-26T08:00:30.826Z"
   },
   {
    "duration": 781,
    "start_time": "2024-05-26T08:00:30.960Z"
   },
   {
    "duration": 233,
    "start_time": "2024-05-26T08:00:31.743Z"
   },
   {
    "duration": 3,
    "start_time": "2024-05-26T08:00:31.978Z"
   },
   {
    "duration": 9,
    "start_time": "2024-05-26T08:00:32.322Z"
   },
   {
    "duration": 4,
    "start_time": "2024-05-26T08:00:32.668Z"
   },
   {
    "duration": 13,
    "start_time": "2024-05-26T08:00:33.335Z"
   },
   {
    "duration": 34,
    "start_time": "2024-05-26T08:00:33.882Z"
   },
   {
    "duration": 14,
    "start_time": "2024-05-26T08:00:34.238Z"
   },
   {
    "duration": 16,
    "start_time": "2024-05-26T08:00:34.630Z"
   },
   {
    "duration": 14,
    "start_time": "2024-05-26T08:00:35.069Z"
   },
   {
    "duration": 8,
    "start_time": "2024-05-26T08:00:36.619Z"
   },
   {
    "duration": 1136,
    "start_time": "2024-05-26T08:00:36.807Z"
   },
   {
    "duration": 8,
    "start_time": "2024-05-26T08:00:37.945Z"
   },
   {
    "duration": 1311,
    "start_time": "2024-05-26T08:00:37.955Z"
   },
   {
    "duration": 7,
    "start_time": "2024-05-26T08:00:39.268Z"
   },
   {
    "duration": 1159,
    "start_time": "2024-05-26T08:00:39.277Z"
   },
   {
    "duration": 215,
    "start_time": "2024-05-26T08:00:40.438Z"
   },
   {
    "duration": 481,
    "start_time": "2024-05-26T08:00:40.656Z"
   },
   {
    "duration": 605,
    "start_time": "2024-05-26T08:00:41.139Z"
   },
   {
    "duration": 5,
    "start_time": "2024-05-26T08:00:41.745Z"
   },
   {
    "duration": 9,
    "start_time": "2024-05-26T08:00:41.752Z"
   },
   {
    "duration": 7,
    "start_time": "2024-05-26T08:00:41.762Z"
   },
   {
    "duration": 24,
    "start_time": "2024-05-26T08:00:41.770Z"
   },
   {
    "duration": 1342,
    "start_time": "2024-05-26T08:00:41.813Z"
   },
   {
    "duration": 258,
    "start_time": "2024-05-26T08:00:43.157Z"
   },
   {
    "duration": 16,
    "start_time": "2024-05-26T08:00:43.416Z"
   },
   {
    "duration": 5,
    "start_time": "2024-05-26T08:00:43.744Z"
   },
   {
    "duration": 151,
    "start_time": "2024-05-26T08:00:44.278Z"
   },
   {
    "duration": 3,
    "start_time": "2024-05-26T08:00:46.521Z"
   },
   {
    "duration": 2,
    "start_time": "2024-05-26T08:00:47.426Z"
   },
   {
    "duration": 2,
    "start_time": "2024-05-26T08:00:47.866Z"
   },
   {
    "duration": 3,
    "start_time": "2024-05-26T08:00:49.037Z"
   },
   {
    "duration": 17,
    "start_time": "2024-05-26T08:00:49.378Z"
   },
   {
    "duration": 8,
    "start_time": "2024-05-26T08:01:10.974Z"
   },
   {
    "duration": 3,
    "start_time": "2024-05-26T08:01:20.944Z"
   },
   {
    "duration": 22,
    "start_time": "2024-05-26T08:54:11.872Z"
   },
   {
    "duration": 12,
    "start_time": "2024-05-26T08:54:11.897Z"
   },
   {
    "duration": 1417,
    "start_time": "2024-05-26T09:06:09.089Z"
   },
   {
    "duration": 775,
    "start_time": "2024-05-26T09:06:10.508Z"
   },
   {
    "duration": 32,
    "start_time": "2024-05-26T09:06:11.285Z"
   },
   {
    "duration": 26,
    "start_time": "2024-05-26T09:06:11.320Z"
   },
   {
    "duration": 58,
    "start_time": "2024-05-26T09:06:11.347Z"
   },
   {
    "duration": 46,
    "start_time": "2024-05-26T09:06:11.407Z"
   },
   {
    "duration": 556,
    "start_time": "2024-05-26T09:06:11.454Z"
   },
   {
    "duration": 213,
    "start_time": "2024-05-26T09:06:12.011Z"
   },
   {
    "duration": 3,
    "start_time": "2024-05-26T09:06:12.226Z"
   },
   {
    "duration": 81,
    "start_time": "2024-05-26T09:06:12.231Z"
   },
   {
    "duration": 41,
    "start_time": "2024-05-26T09:06:12.314Z"
   },
   {
    "duration": 27,
    "start_time": "2024-05-26T09:06:12.357Z"
   },
   {
    "duration": 39,
    "start_time": "2024-05-26T09:06:12.386Z"
   },
   {
    "duration": 37,
    "start_time": "2024-05-26T09:06:12.427Z"
   },
   {
    "duration": 65,
    "start_time": "2024-05-26T09:06:12.466Z"
   },
   {
    "duration": 12,
    "start_time": "2024-05-26T09:06:12.533Z"
   },
   {
    "duration": 13,
    "start_time": "2024-05-26T09:06:12.546Z"
   },
   {
    "duration": 1567,
    "start_time": "2024-05-26T09:06:12.561Z"
   },
   {
    "duration": 9,
    "start_time": "2024-05-26T09:06:14.130Z"
   },
   {
    "duration": 1626,
    "start_time": "2024-05-26T09:06:14.140Z"
   },
   {
    "duration": 8,
    "start_time": "2024-05-26T09:06:15.768Z"
   },
   {
    "duration": 1282,
    "start_time": "2024-05-26T09:06:15.778Z"
   },
   {
    "duration": 214,
    "start_time": "2024-05-26T09:06:17.061Z"
   },
   {
    "duration": 411,
    "start_time": "2024-05-26T09:06:17.277Z"
   },
   {
    "duration": 504,
    "start_time": "2024-05-26T09:06:17.694Z"
   },
   {
    "duration": 4,
    "start_time": "2024-05-26T09:06:18.200Z"
   },
   {
    "duration": 7,
    "start_time": "2024-05-26T09:06:18.206Z"
   },
   {
    "duration": 4,
    "start_time": "2024-05-26T09:06:18.216Z"
   },
   {
    "duration": 6,
    "start_time": "2024-05-26T09:06:18.222Z"
   },
   {
    "duration": 1292,
    "start_time": "2024-05-26T09:06:18.229Z"
   },
   {
    "duration": 230,
    "start_time": "2024-05-26T09:06:19.523Z"
   },
   {
    "duration": 19,
    "start_time": "2024-05-26T09:06:19.755Z"
   },
   {
    "duration": 20,
    "start_time": "2024-05-26T09:06:19.776Z"
   },
   {
    "duration": 154,
    "start_time": "2024-05-26T09:06:19.797Z"
   },
   {
    "duration": 7,
    "start_time": "2024-05-26T09:06:19.952Z"
   },
   {
    "duration": 14,
    "start_time": "2024-05-26T09:06:19.960Z"
   },
   {
    "duration": 147,
    "start_time": "2024-05-26T09:06:19.975Z"
   },
   {
    "duration": 0,
    "start_time": "2024-05-26T09:06:20.124Z"
   },
   {
    "duration": 0,
    "start_time": "2024-05-26T09:06:20.125Z"
   },
   {
    "duration": 0,
    "start_time": "2024-05-26T09:06:20.126Z"
   },
   {
    "duration": 0,
    "start_time": "2024-05-26T09:06:20.128Z"
   },
   {
    "duration": 0,
    "start_time": "2024-05-26T09:06:20.129Z"
   },
   {
    "duration": 0,
    "start_time": "2024-05-26T09:06:20.130Z"
   },
   {
    "duration": 20,
    "start_time": "2024-05-26T09:06:20.413Z"
   },
   {
    "duration": 34,
    "start_time": "2024-05-26T09:06:21.055Z"
   },
   {
    "duration": 557,
    "start_time": "2024-05-26T09:06:21.633Z"
   },
   {
    "duration": 216,
    "start_time": "2024-05-26T09:06:23.447Z"
   },
   {
    "duration": 4,
    "start_time": "2024-05-26T09:06:27.373Z"
   },
   {
    "duration": 7,
    "start_time": "2024-05-26T09:06:31.061Z"
   },
   {
    "duration": 4,
    "start_time": "2024-05-26T09:06:32.484Z"
   },
   {
    "duration": 12,
    "start_time": "2024-05-26T09:06:36.129Z"
   },
   {
    "duration": 21,
    "start_time": "2024-05-26T09:06:37.896Z"
   },
   {
    "duration": 15,
    "start_time": "2024-05-26T09:06:39.071Z"
   },
   {
    "duration": 20,
    "start_time": "2024-05-26T09:06:40.111Z"
   },
   {
    "duration": 16,
    "start_time": "2024-05-26T09:06:40.605Z"
   },
   {
    "duration": 6,
    "start_time": "2024-05-26T09:06:43.632Z"
   },
   {
    "duration": 1115,
    "start_time": "2024-05-26T09:06:44.311Z"
   },
   {
    "duration": 8,
    "start_time": "2024-05-26T09:06:46.251Z"
   },
   {
    "duration": 1441,
    "start_time": "2024-05-26T09:06:46.791Z"
   },
   {
    "duration": 7,
    "start_time": "2024-05-26T09:06:48.234Z"
   },
   {
    "duration": 1308,
    "start_time": "2024-05-26T09:06:48.243Z"
   },
   {
    "duration": 214,
    "start_time": "2024-05-26T09:06:49.553Z"
   },
   {
    "duration": 395,
    "start_time": "2024-05-26T09:06:52.235Z"
   },
   {
    "duration": 641,
    "start_time": "2024-05-26T09:06:52.995Z"
   },
   {
    "duration": 5,
    "start_time": "2024-05-26T09:06:56.183Z"
   },
   {
    "duration": 5,
    "start_time": "2024-05-26T09:06:56.689Z"
   },
   {
    "duration": 5,
    "start_time": "2024-05-26T09:06:57.181Z"
   },
   {
    "duration": 6,
    "start_time": "2024-05-26T09:06:57.693Z"
   },
   {
    "duration": 1292,
    "start_time": "2024-05-26T09:06:58.353Z"
   },
   {
    "duration": 214,
    "start_time": "2024-05-26T09:07:02.152Z"
   },
   {
    "duration": 20,
    "start_time": "2024-05-26T09:07:03.811Z"
   },
   {
    "duration": 6,
    "start_time": "2024-05-26T09:07:04.375Z"
   },
   {
    "duration": 133,
    "start_time": "2024-05-26T09:07:05.248Z"
   },
   {
    "duration": 4,
    "start_time": "2024-05-26T09:07:08.092Z"
   },
   {
    "duration": 3,
    "start_time": "2024-05-26T09:07:10.213Z"
   },
   {
    "duration": 13,
    "start_time": "2024-05-26T09:07:10.973Z"
   },
   {
    "duration": 11,
    "start_time": "2024-05-26T09:07:12.017Z"
   },
   {
    "duration": 11,
    "start_time": "2024-05-26T09:07:12.700Z"
   },
   {
    "duration": 4,
    "start_time": "2024-05-26T09:07:45.020Z"
   },
   {
    "duration": 3,
    "start_time": "2024-05-26T09:08:20.867Z"
   },
   {
    "duration": 13,
    "start_time": "2024-05-26T09:08:22.049Z"
   },
   {
    "duration": 14,
    "start_time": "2024-05-26T09:08:23.234Z"
   },
   {
    "duration": 12,
    "start_time": "2024-05-26T09:08:28.042Z"
   },
   {
    "duration": 3,
    "start_time": "2024-05-26T09:09:33.381Z"
   },
   {
    "duration": 4,
    "start_time": "2024-05-26T09:09:33.895Z"
   },
   {
    "duration": 2,
    "start_time": "2024-05-26T09:09:34.505Z"
   },
   {
    "duration": 3,
    "start_time": "2024-05-26T09:09:53.179Z"
   },
   {
    "duration": 9,
    "start_time": "2024-05-26T09:09:53.917Z"
   },
   {
    "duration": 12,
    "start_time": "2024-05-26T09:09:56.773Z"
   },
   {
    "duration": 2,
    "start_time": "2024-05-26T09:10:13.124Z"
   },
   {
    "duration": 22,
    "start_time": "2024-05-26T09:10:13.987Z"
   },
   {
    "duration": 15,
    "start_time": "2024-05-26T09:10:20.539Z"
   },
   {
    "duration": 3,
    "start_time": "2024-05-26T09:10:31.645Z"
   },
   {
    "duration": 2,
    "start_time": "2024-05-26T09:10:32.105Z"
   },
   {
    "duration": 3,
    "start_time": "2024-05-26T09:10:33.833Z"
   },
   {
    "duration": 16,
    "start_time": "2024-05-26T09:10:34.561Z"
   },
   {
    "duration": 17,
    "start_time": "2024-05-26T09:10:47.293Z"
   },
   {
    "duration": 3,
    "start_time": "2024-05-26T09:11:00.279Z"
   },
   {
    "duration": 16,
    "start_time": "2024-05-26T09:11:02.033Z"
   },
   {
    "duration": 4,
    "start_time": "2024-05-26T09:11:20.525Z"
   },
   {
    "duration": 775,
    "start_time": "2024-05-26T09:11:20.761Z"
   },
   {
    "duration": 20,
    "start_time": "2024-05-26T09:11:21.538Z"
   },
   {
    "duration": 20,
    "start_time": "2024-05-26T09:11:21.703Z"
   },
   {
    "duration": 21,
    "start_time": "2024-05-26T09:11:21.962Z"
   },
   {
    "duration": 43,
    "start_time": "2024-05-26T09:11:22.368Z"
   },
   {
    "duration": 536,
    "start_time": "2024-05-26T09:11:22.599Z"
   },
   {
    "duration": 230,
    "start_time": "2024-05-26T09:11:23.137Z"
   },
   {
    "duration": 3,
    "start_time": "2024-05-26T09:11:23.957Z"
   },
   {
    "duration": 9,
    "start_time": "2024-05-26T09:11:24.343Z"
   },
   {
    "duration": 5,
    "start_time": "2024-05-26T09:11:24.707Z"
   },
   {
    "duration": 13,
    "start_time": "2024-05-26T09:11:25.389Z"
   },
   {
    "duration": 22,
    "start_time": "2024-05-26T09:11:25.905Z"
   },
   {
    "duration": 14,
    "start_time": "2024-05-26T09:11:26.275Z"
   },
   {
    "duration": 18,
    "start_time": "2024-05-26T09:11:26.637Z"
   },
   {
    "duration": 15,
    "start_time": "2024-05-26T09:11:26.825Z"
   },
   {
    "duration": 7,
    "start_time": "2024-05-26T09:11:27.731Z"
   },
   {
    "duration": 1294,
    "start_time": "2024-05-26T09:11:27.922Z"
   },
   {
    "duration": 7,
    "start_time": "2024-05-26T09:11:29.217Z"
   },
   {
    "duration": 1306,
    "start_time": "2024-05-26T09:11:29.226Z"
   },
   {
    "duration": 8,
    "start_time": "2024-05-26T09:11:30.533Z"
   },
   {
    "duration": 1186,
    "start_time": "2024-05-26T09:11:30.542Z"
   },
   {
    "duration": 208,
    "start_time": "2024-05-26T09:11:31.730Z"
   },
   {
    "duration": 453,
    "start_time": "2024-05-26T09:11:31.940Z"
   },
   {
    "duration": 534,
    "start_time": "2024-05-26T09:11:32.394Z"
   },
   {
    "duration": 5,
    "start_time": "2024-05-26T09:11:32.930Z"
   },
   {
    "duration": 9,
    "start_time": "2024-05-26T09:11:32.937Z"
   },
   {
    "duration": 17,
    "start_time": "2024-05-26T09:11:32.948Z"
   },
   {
    "duration": 18,
    "start_time": "2024-05-26T09:11:32.966Z"
   },
   {
    "duration": 1233,
    "start_time": "2024-05-26T09:11:32.986Z"
   },
   {
    "duration": 238,
    "start_time": "2024-05-26T09:11:34.220Z"
   },
   {
    "duration": 16,
    "start_time": "2024-05-26T09:11:34.460Z"
   },
   {
    "duration": 17,
    "start_time": "2024-05-26T09:11:34.477Z"
   },
   {
    "duration": 133,
    "start_time": "2024-05-26T09:11:34.495Z"
   },
   {
    "duration": 3,
    "start_time": "2024-05-26T09:11:36.037Z"
   },
   {
    "duration": 3,
    "start_time": "2024-05-26T09:11:36.478Z"
   },
   {
    "duration": 3,
    "start_time": "2024-05-26T09:11:36.805Z"
   },
   {
    "duration": 3,
    "start_time": "2024-05-26T09:11:38.685Z"
   },
   {
    "duration": 15,
    "start_time": "2024-05-26T09:11:39.262Z"
   },
   {
    "duration": 12,
    "start_time": "2024-05-26T09:11:43.289Z"
   },
   {
    "duration": 4,
    "start_time": "2024-05-26T09:12:02.733Z"
   },
   {
    "duration": 10,
    "start_time": "2024-05-26T09:12:16.907Z"
   },
   {
    "duration": 4,
    "start_time": "2024-05-26T09:15:39.951Z"
   },
   {
    "duration": 785,
    "start_time": "2024-05-26T09:15:40.130Z"
   },
   {
    "duration": 19,
    "start_time": "2024-05-26T09:15:40.917Z"
   },
   {
    "duration": 26,
    "start_time": "2024-05-26T09:15:40.937Z"
   },
   {
    "duration": 34,
    "start_time": "2024-05-26T09:15:40.964Z"
   },
   {
    "duration": 38,
    "start_time": "2024-05-26T09:15:41.000Z"
   },
   {
    "duration": 637,
    "start_time": "2024-05-26T09:15:41.157Z"
   },
   {
    "duration": 213,
    "start_time": "2024-05-26T09:15:41.796Z"
   },
   {
    "duration": 3,
    "start_time": "2024-05-26T09:15:42.319Z"
   },
   {
    "duration": 9,
    "start_time": "2024-05-26T09:15:43.223Z"
   },
   {
    "duration": 6,
    "start_time": "2024-05-26T09:15:43.704Z"
   },
   {
    "duration": 12,
    "start_time": "2024-05-26T09:15:44.835Z"
   },
   {
    "duration": 23,
    "start_time": "2024-05-26T09:15:45.429Z"
   },
   {
    "duration": 13,
    "start_time": "2024-05-26T09:15:45.965Z"
   },
   {
    "duration": 16,
    "start_time": "2024-05-26T09:15:46.338Z"
   },
   {
    "duration": 12,
    "start_time": "2024-05-26T09:15:46.503Z"
   },
   {
    "duration": 7,
    "start_time": "2024-05-26T09:15:47.387Z"
   },
   {
    "duration": 1149,
    "start_time": "2024-05-26T09:15:47.573Z"
   },
   {
    "duration": 8,
    "start_time": "2024-05-26T09:15:48.725Z"
   },
   {
    "duration": 1194,
    "start_time": "2024-05-26T09:15:48.735Z"
   },
   {
    "duration": 7,
    "start_time": "2024-05-26T09:15:49.931Z"
   },
   {
    "duration": 1297,
    "start_time": "2024-05-26T09:15:49.940Z"
   },
   {
    "duration": 196,
    "start_time": "2024-05-26T09:15:51.239Z"
   },
   {
    "duration": 453,
    "start_time": "2024-05-26T09:15:51.437Z"
   },
   {
    "duration": 544,
    "start_time": "2024-05-26T09:15:51.892Z"
   },
   {
    "duration": 5,
    "start_time": "2024-05-26T09:15:52.437Z"
   },
   {
    "duration": 13,
    "start_time": "2024-05-26T09:15:52.444Z"
   },
   {
    "duration": 7,
    "start_time": "2024-05-26T09:15:52.458Z"
   },
   {
    "duration": 10,
    "start_time": "2024-05-26T09:15:52.466Z"
   },
   {
    "duration": 1344,
    "start_time": "2024-05-26T09:15:52.477Z"
   },
   {
    "duration": 230,
    "start_time": "2024-05-26T09:15:53.823Z"
   },
   {
    "duration": 16,
    "start_time": "2024-05-26T09:15:54.054Z"
   },
   {
    "duration": 20,
    "start_time": "2024-05-26T09:15:54.072Z"
   },
   {
    "duration": 148,
    "start_time": "2024-05-26T09:15:54.098Z"
   },
   {
    "duration": 3,
    "start_time": "2024-05-26T09:15:54.249Z"
   },
   {
    "duration": 3,
    "start_time": "2024-05-26T09:15:54.388Z"
   },
   {
    "duration": 2,
    "start_time": "2024-05-26T09:15:54.787Z"
   },
   {
    "duration": 2,
    "start_time": "2024-05-26T09:15:56.211Z"
   },
   {
    "duration": 18,
    "start_time": "2024-05-26T09:15:56.744Z"
   },
   {
    "duration": 4,
    "start_time": "2024-05-26T09:15:57.324Z"
   },
   {
    "duration": 1476,
    "start_time": "2024-05-26T09:18:40.642Z"
   },
   {
    "duration": 830,
    "start_time": "2024-05-26T09:18:42.119Z"
   },
   {
    "duration": 32,
    "start_time": "2024-05-26T09:18:42.950Z"
   },
   {
    "duration": 40,
    "start_time": "2024-05-26T09:18:42.985Z"
   },
   {
    "duration": 19,
    "start_time": "2024-05-26T09:18:43.027Z"
   },
   {
    "duration": 35,
    "start_time": "2024-05-26T09:18:43.047Z"
   },
   {
    "duration": 1049,
    "start_time": "2024-05-26T09:18:43.093Z"
   },
   {
    "duration": 558,
    "start_time": "2024-05-26T09:18:44.143Z"
   },
   {
    "duration": 4,
    "start_time": "2024-05-26T09:18:44.704Z"
   },
   {
    "duration": 10,
    "start_time": "2024-05-26T09:18:44.712Z"
   },
   {
    "duration": 23,
    "start_time": "2024-05-26T09:18:44.724Z"
   },
   {
    "duration": 24,
    "start_time": "2024-05-26T09:18:44.796Z"
   },
   {
    "duration": 89,
    "start_time": "2024-05-26T09:18:44.821Z"
   },
   {
    "duration": 15,
    "start_time": "2024-05-26T09:18:44.913Z"
   },
   {
    "duration": 83,
    "start_time": "2024-05-26T09:18:44.930Z"
   },
   {
    "duration": 17,
    "start_time": "2024-05-26T09:18:45.016Z"
   },
   {
    "duration": 48,
    "start_time": "2024-05-26T09:18:45.035Z"
   },
   {
    "duration": 1158,
    "start_time": "2024-05-26T09:18:45.085Z"
   },
   {
    "duration": 8,
    "start_time": "2024-05-26T09:18:46.244Z"
   },
   {
    "duration": 1187,
    "start_time": "2024-05-26T09:18:46.253Z"
   },
   {
    "duration": 7,
    "start_time": "2024-05-26T09:18:47.442Z"
   },
   {
    "duration": 1268,
    "start_time": "2024-05-26T09:18:47.451Z"
   },
   {
    "duration": 206,
    "start_time": "2024-05-26T09:18:48.721Z"
   },
   {
    "duration": 465,
    "start_time": "2024-05-26T09:18:48.929Z"
   },
   {
    "duration": 634,
    "start_time": "2024-05-26T09:18:49.395Z"
   },
   {
    "duration": 6,
    "start_time": "2024-05-26T09:18:50.031Z"
   },
   {
    "duration": 11,
    "start_time": "2024-05-26T09:18:50.038Z"
   },
   {
    "duration": 23,
    "start_time": "2024-05-26T09:18:50.052Z"
   },
   {
    "duration": 21,
    "start_time": "2024-05-26T09:18:50.077Z"
   },
   {
    "duration": 1265,
    "start_time": "2024-05-26T09:18:50.100Z"
   },
   {
    "duration": 252,
    "start_time": "2024-05-26T09:18:51.367Z"
   },
   {
    "duration": 16,
    "start_time": "2024-05-26T09:18:51.621Z"
   },
   {
    "duration": 5,
    "start_time": "2024-05-26T09:18:51.638Z"
   },
   {
    "duration": 158,
    "start_time": "2024-05-26T09:18:51.644Z"
   },
   {
    "duration": 7,
    "start_time": "2024-05-26T09:18:51.805Z"
   },
   {
    "duration": 27,
    "start_time": "2024-05-26T09:18:51.814Z"
   },
   {
    "duration": 19,
    "start_time": "2024-05-26T09:18:51.843Z"
   },
   {
    "duration": 4,
    "start_time": "2024-05-26T09:18:51.864Z"
   },
   {
    "duration": 23,
    "start_time": "2024-05-26T09:18:51.869Z"
   },
   {
    "duration": 11,
    "start_time": "2024-05-26T09:18:51.894Z"
   },
   {
    "duration": 0,
    "start_time": "2024-05-26T09:22:03.735Z"
   },
   {
    "duration": 0,
    "start_time": "2024-05-26T09:22:03.736Z"
   },
   {
    "duration": 0,
    "start_time": "2024-05-26T09:22:03.738Z"
   },
   {
    "duration": 0,
    "start_time": "2024-05-26T09:22:03.739Z"
   },
   {
    "duration": 0,
    "start_time": "2024-05-26T09:22:03.741Z"
   },
   {
    "duration": 0,
    "start_time": "2024-05-26T09:22:03.742Z"
   },
   {
    "duration": 0,
    "start_time": "2024-05-26T09:22:03.744Z"
   },
   {
    "duration": 0,
    "start_time": "2024-05-26T09:22:03.745Z"
   },
   {
    "duration": 0,
    "start_time": "2024-05-26T09:22:03.747Z"
   },
   {
    "duration": 0,
    "start_time": "2024-05-26T09:22:03.748Z"
   },
   {
    "duration": 0,
    "start_time": "2024-05-26T09:22:03.750Z"
   },
   {
    "duration": 0,
    "start_time": "2024-05-26T09:22:03.751Z"
   },
   {
    "duration": 0,
    "start_time": "2024-05-26T09:22:03.752Z"
   },
   {
    "duration": 0,
    "start_time": "2024-05-26T09:22:03.795Z"
   },
   {
    "duration": 0,
    "start_time": "2024-05-26T09:22:03.796Z"
   },
   {
    "duration": 0,
    "start_time": "2024-05-26T09:22:03.798Z"
   },
   {
    "duration": 9,
    "start_time": "2024-05-26T09:22:03.805Z"
   },
   {
    "duration": 0,
    "start_time": "2024-05-26T09:22:03.816Z"
   },
   {
    "duration": 0,
    "start_time": "2024-05-26T09:22:03.817Z"
   },
   {
    "duration": 0,
    "start_time": "2024-05-26T09:22:03.818Z"
   },
   {
    "duration": 0,
    "start_time": "2024-05-26T09:22:03.819Z"
   },
   {
    "duration": 0,
    "start_time": "2024-05-26T09:22:03.820Z"
   },
   {
    "duration": 0,
    "start_time": "2024-05-26T09:22:03.821Z"
   },
   {
    "duration": 0,
    "start_time": "2024-05-26T09:22:03.822Z"
   },
   {
    "duration": 0,
    "start_time": "2024-05-26T09:22:03.823Z"
   },
   {
    "duration": 0,
    "start_time": "2024-05-26T09:22:03.824Z"
   },
   {
    "duration": 0,
    "start_time": "2024-05-26T09:22:03.825Z"
   },
   {
    "duration": 0,
    "start_time": "2024-05-26T09:22:03.826Z"
   },
   {
    "duration": 0,
    "start_time": "2024-05-26T09:22:03.827Z"
   },
   {
    "duration": 0,
    "start_time": "2024-05-26T09:22:03.828Z"
   },
   {
    "duration": 0,
    "start_time": "2024-05-26T09:22:03.829Z"
   },
   {
    "duration": 0,
    "start_time": "2024-05-26T09:22:03.830Z"
   },
   {
    "duration": 0,
    "start_time": "2024-05-26T09:22:03.831Z"
   },
   {
    "duration": 0,
    "start_time": "2024-05-26T09:22:03.831Z"
   },
   {
    "duration": 1,
    "start_time": "2024-05-26T09:22:03.832Z"
   },
   {
    "duration": 0,
    "start_time": "2024-05-26T09:22:03.833Z"
   },
   {
    "duration": 0,
    "start_time": "2024-05-26T09:22:03.834Z"
   },
   {
    "duration": 0,
    "start_time": "2024-05-26T09:22:03.835Z"
   },
   {
    "duration": 0,
    "start_time": "2024-05-26T09:22:03.836Z"
   },
   {
    "duration": 0,
    "start_time": "2024-05-26T09:22:03.837Z"
   },
   {
    "duration": 0,
    "start_time": "2024-05-26T09:22:03.895Z"
   },
   {
    "duration": 0,
    "start_time": "2024-05-26T09:22:03.897Z"
   },
   {
    "duration": 0,
    "start_time": "2024-05-26T09:22:03.900Z"
   },
   {
    "duration": 0,
    "start_time": "2024-05-26T09:22:03.901Z"
   },
   {
    "duration": 0,
    "start_time": "2024-05-26T09:22:03.905Z"
   },
   {
    "duration": 0,
    "start_time": "2024-05-26T09:22:03.906Z"
   },
   {
    "duration": 0,
    "start_time": "2024-05-26T09:22:03.909Z"
   },
   {
    "duration": 0,
    "start_time": "2024-05-26T09:22:03.911Z"
   },
   {
    "duration": 0,
    "start_time": "2024-05-26T09:22:03.911Z"
   },
   {
    "duration": 0,
    "start_time": "2024-05-26T09:22:03.912Z"
   },
   {
    "duration": 1515,
    "start_time": "2024-05-26T09:22:22.414Z"
   },
   {
    "duration": 851,
    "start_time": "2024-05-26T09:22:23.931Z"
   },
   {
    "duration": 32,
    "start_time": "2024-05-26T09:22:24.784Z"
   },
   {
    "duration": 20,
    "start_time": "2024-05-26T09:22:25.808Z"
   },
   {
    "duration": 22,
    "start_time": "2024-05-26T09:22:27.762Z"
   },
   {
    "duration": 38,
    "start_time": "2024-05-26T09:22:28.942Z"
   },
   {
    "duration": 674,
    "start_time": "2024-05-26T09:22:30.122Z"
   },
   {
    "duration": 220,
    "start_time": "2024-05-26T09:22:35.915Z"
   },
   {
    "duration": 4,
    "start_time": "2024-05-26T09:22:45.365Z"
   },
   {
    "duration": 11,
    "start_time": "2024-05-26T09:22:47.971Z"
   },
   {
    "duration": 5,
    "start_time": "2024-05-26T09:22:50.512Z"
   },
   {
    "duration": 18,
    "start_time": "2024-05-26T09:22:54.064Z"
   },
   {
    "duration": 29,
    "start_time": "2024-05-26T09:23:00.144Z"
   },
   {
    "duration": 14,
    "start_time": "2024-05-26T09:23:02.849Z"
   },
   {
    "duration": 18,
    "start_time": "2024-05-26T09:23:05.128Z"
   },
   {
    "duration": 16,
    "start_time": "2024-05-26T09:23:06.136Z"
   },
   {
    "duration": 7,
    "start_time": "2024-05-26T09:23:11.179Z"
   },
   {
    "duration": 1148,
    "start_time": "2024-05-26T09:23:13.286Z"
   },
   {
    "duration": 6,
    "start_time": "2024-05-26T09:23:14.436Z"
   },
   {
    "duration": 1187,
    "start_time": "2024-05-26T09:23:20.153Z"
   },
   {
    "duration": 7,
    "start_time": "2024-05-26T09:23:21.343Z"
   },
   {
    "duration": 1198,
    "start_time": "2024-05-26T09:23:24.457Z"
   },
   {
    "duration": 224,
    "start_time": "2024-05-26T09:23:25.657Z"
   },
   {
    "duration": 415,
    "start_time": "2024-05-26T09:23:29.207Z"
   },
   {
    "duration": 563,
    "start_time": "2024-05-26T09:23:30.863Z"
   },
   {
    "duration": 5,
    "start_time": "2024-05-26T09:23:35.055Z"
   },
   {
    "duration": 5,
    "start_time": "2024-05-26T09:23:37.439Z"
   },
   {
    "duration": 5,
    "start_time": "2024-05-26T09:23:38.021Z"
   },
   {
    "duration": 5,
    "start_time": "2024-05-26T09:23:38.661Z"
   },
   {
    "duration": 1216,
    "start_time": "2024-05-26T09:23:40.118Z"
   },
   {
    "duration": 237,
    "start_time": "2024-05-26T09:23:45.226Z"
   },
   {
    "duration": 26,
    "start_time": "2024-05-26T09:23:47.875Z"
   },
   {
    "duration": 5,
    "start_time": "2024-05-26T09:23:48.579Z"
   },
   {
    "duration": 141,
    "start_time": "2024-05-26T09:23:49.127Z"
   },
   {
    "duration": 4,
    "start_time": "2024-05-26T09:23:53.725Z"
   },
   {
    "duration": 5,
    "start_time": "2024-05-26T09:23:54.704Z"
   },
   {
    "duration": 3,
    "start_time": "2024-05-26T09:23:55.525Z"
   },
   {
    "duration": 3,
    "start_time": "2024-05-26T09:23:58.215Z"
   },
   {
    "duration": 30,
    "start_time": "2024-05-26T09:23:59.279Z"
   },
   {
    "duration": 4,
    "start_time": "2024-05-26T09:24:00.347Z"
   },
   {
    "duration": 1463,
    "start_time": "2024-05-26T09:26:52.339Z"
   },
   {
    "duration": 836,
    "start_time": "2024-05-26T09:26:53.805Z"
   },
   {
    "duration": 22,
    "start_time": "2024-05-26T09:26:54.642Z"
   },
   {
    "duration": 20,
    "start_time": "2024-05-26T09:26:54.666Z"
   },
   {
    "duration": 28,
    "start_time": "2024-05-26T09:26:54.697Z"
   },
   {
    "duration": 35,
    "start_time": "2024-05-26T09:26:54.727Z"
   },
   {
    "duration": 1069,
    "start_time": "2024-05-26T09:26:54.764Z"
   },
   {
    "duration": 565,
    "start_time": "2024-05-26T09:26:55.834Z"
   },
   {
    "duration": 5,
    "start_time": "2024-05-26T09:26:56.401Z"
   },
   {
    "duration": 27,
    "start_time": "2024-05-26T09:26:56.410Z"
   },
   {
    "duration": 56,
    "start_time": "2024-05-26T09:26:56.438Z"
   },
   {
    "duration": 24,
    "start_time": "2024-05-26T09:26:56.498Z"
   },
   {
    "duration": 83,
    "start_time": "2024-05-26T09:26:56.524Z"
   },
   {
    "duration": 20,
    "start_time": "2024-05-26T09:26:56.609Z"
   },
   {
    "duration": 78,
    "start_time": "2024-05-26T09:26:56.631Z"
   },
   {
    "duration": 14,
    "start_time": "2024-05-26T09:26:56.710Z"
   },
   {
    "duration": 16,
    "start_time": "2024-05-26T09:26:56.726Z"
   },
   {
    "duration": 1384,
    "start_time": "2024-05-26T09:26:56.744Z"
   },
   {
    "duration": 7,
    "start_time": "2024-05-26T09:26:58.130Z"
   },
   {
    "duration": 1212,
    "start_time": "2024-05-26T09:26:58.138Z"
   },
   {
    "duration": 8,
    "start_time": "2024-05-26T09:26:59.351Z"
   },
   {
    "duration": 1194,
    "start_time": "2024-05-26T09:26:59.361Z"
   },
   {
    "duration": 230,
    "start_time": "2024-05-26T09:27:00.556Z"
   },
   {
    "duration": 433,
    "start_time": "2024-05-26T09:27:00.787Z"
   },
   {
    "duration": 612,
    "start_time": "2024-05-26T09:27:01.222Z"
   },
   {
    "duration": 5,
    "start_time": "2024-05-26T09:27:01.836Z"
   },
   {
    "duration": 36,
    "start_time": "2024-05-26T09:27:01.842Z"
   },
   {
    "duration": 45,
    "start_time": "2024-05-26T09:27:01.882Z"
   },
   {
    "duration": 22,
    "start_time": "2024-05-26T09:27:01.928Z"
   },
   {
    "duration": 1400,
    "start_time": "2024-05-26T09:27:01.951Z"
   },
   {
    "duration": 274,
    "start_time": "2024-05-26T09:27:03.353Z"
   },
   {
    "duration": 19,
    "start_time": "2024-05-26T09:27:03.628Z"
   },
   {
    "duration": 6,
    "start_time": "2024-05-26T09:27:03.649Z"
   },
   {
    "duration": 189,
    "start_time": "2024-05-26T09:27:03.657Z"
   },
   {
    "duration": 2,
    "start_time": "2024-05-26T09:27:03.848Z"
   },
   {
    "duration": 13,
    "start_time": "2024-05-26T09:27:03.852Z"
   },
   {
    "duration": 5,
    "start_time": "2024-05-26T09:27:03.867Z"
   },
   {
    "duration": 4,
    "start_time": "2024-05-26T09:27:03.873Z"
   },
   {
    "duration": 23,
    "start_time": "2024-05-26T09:27:03.878Z"
   },
   {
    "duration": 7,
    "start_time": "2024-05-26T09:27:03.906Z"
   },
   {
    "duration": 1505,
    "start_time": "2024-05-26T09:27:34.865Z"
   },
   {
    "duration": 809,
    "start_time": "2024-05-26T09:27:36.371Z"
   },
   {
    "duration": 32,
    "start_time": "2024-05-26T09:27:37.182Z"
   },
   {
    "duration": 23,
    "start_time": "2024-05-26T09:27:37.216Z"
   },
   {
    "duration": 75,
    "start_time": "2024-05-26T09:27:37.240Z"
   },
   {
    "duration": 45,
    "start_time": "2024-05-26T09:27:37.317Z"
   },
   {
    "duration": 618,
    "start_time": "2024-05-26T09:27:37.364Z"
   },
   {
    "duration": 236,
    "start_time": "2024-05-26T09:27:37.984Z"
   },
   {
    "duration": 4,
    "start_time": "2024-05-26T09:27:38.222Z"
   },
   {
    "duration": 46,
    "start_time": "2024-05-26T09:27:38.228Z"
   },
   {
    "duration": 33,
    "start_time": "2024-05-26T09:27:38.276Z"
   },
   {
    "duration": 95,
    "start_time": "2024-05-26T09:27:38.311Z"
   },
   {
    "duration": 24,
    "start_time": "2024-05-26T09:27:38.408Z"
   },
   {
    "duration": 12,
    "start_time": "2024-05-26T09:27:38.434Z"
   },
   {
    "duration": 33,
    "start_time": "2024-05-26T09:27:38.447Z"
   },
   {
    "duration": 29,
    "start_time": "2024-05-26T09:27:38.481Z"
   },
   {
    "duration": 7,
    "start_time": "2024-05-26T09:27:38.511Z"
   },
   {
    "duration": 1312,
    "start_time": "2024-05-26T09:27:38.519Z"
   },
   {
    "duration": 7,
    "start_time": "2024-05-26T09:27:39.833Z"
   },
   {
    "duration": 1195,
    "start_time": "2024-05-26T09:27:39.842Z"
   },
   {
    "duration": 6,
    "start_time": "2024-05-26T09:27:41.039Z"
   },
   {
    "duration": 1302,
    "start_time": "2024-05-26T09:27:41.047Z"
   },
   {
    "duration": 210,
    "start_time": "2024-05-26T09:27:42.350Z"
   },
   {
    "duration": 432,
    "start_time": "2024-05-26T09:27:42.562Z"
   },
   {
    "duration": 554,
    "start_time": "2024-05-26T09:27:42.997Z"
   },
   {
    "duration": 5,
    "start_time": "2024-05-26T09:27:43.553Z"
   },
   {
    "duration": 9,
    "start_time": "2024-05-26T09:27:43.561Z"
   },
   {
    "duration": 16,
    "start_time": "2024-05-26T09:27:43.575Z"
   },
   {
    "duration": 8,
    "start_time": "2024-05-26T09:27:43.596Z"
   },
   {
    "duration": 1218,
    "start_time": "2024-05-26T09:27:43.607Z"
   },
   {
    "duration": 254,
    "start_time": "2024-05-26T09:27:44.827Z"
   },
   {
    "duration": 32,
    "start_time": "2024-05-26T09:27:45.083Z"
   },
   {
    "duration": 7,
    "start_time": "2024-05-26T09:27:45.117Z"
   },
   {
    "duration": 162,
    "start_time": "2024-05-26T09:27:45.125Z"
   },
   {
    "duration": 5,
    "start_time": "2024-05-26T09:27:45.289Z"
   },
   {
    "duration": 64,
    "start_time": "2024-05-26T09:27:45.296Z"
   },
   {
    "duration": 32,
    "start_time": "2024-05-26T09:27:45.362Z"
   },
   {
    "duration": 25,
    "start_time": "2024-05-26T09:27:45.433Z"
   },
   {
    "duration": 5,
    "start_time": "2024-05-26T09:27:45.461Z"
   },
   {
    "duration": 1732,
    "start_time": "2024-05-26T09:27:59.145Z"
   },
   {
    "duration": 874,
    "start_time": "2024-05-26T09:28:00.879Z"
   },
   {
    "duration": 24,
    "start_time": "2024-05-26T09:28:01.754Z"
   },
   {
    "duration": 94,
    "start_time": "2024-05-26T09:28:01.781Z"
   },
   {
    "duration": 150,
    "start_time": "2024-05-26T09:28:01.877Z"
   },
   {
    "duration": 106,
    "start_time": "2024-05-26T09:28:02.029Z"
   },
   {
    "duration": 598,
    "start_time": "2024-05-26T09:28:02.137Z"
   },
   {
    "duration": 235,
    "start_time": "2024-05-26T09:28:02.737Z"
   },
   {
    "duration": 3,
    "start_time": "2024-05-26T09:28:02.974Z"
   },
   {
    "duration": 31,
    "start_time": "2024-05-26T09:28:02.979Z"
   },
   {
    "duration": 5,
    "start_time": "2024-05-26T09:28:03.011Z"
   },
   {
    "duration": 66,
    "start_time": "2024-05-26T09:28:03.017Z"
   },
   {
    "duration": 65,
    "start_time": "2024-05-26T09:28:03.084Z"
   },
   {
    "duration": 14,
    "start_time": "2024-05-26T09:28:03.150Z"
   },
   {
    "duration": 46,
    "start_time": "2024-05-26T09:28:03.165Z"
   },
   {
    "duration": 13,
    "start_time": "2024-05-26T09:28:03.213Z"
   },
   {
    "duration": 9,
    "start_time": "2024-05-26T09:28:03.227Z"
   },
   {
    "duration": 1295,
    "start_time": "2024-05-26T09:28:03.238Z"
   },
   {
    "duration": 7,
    "start_time": "2024-05-26T09:28:04.535Z"
   },
   {
    "duration": 1486,
    "start_time": "2024-05-26T09:28:04.544Z"
   },
   {
    "duration": 8,
    "start_time": "2024-05-26T09:28:06.032Z"
   },
   {
    "duration": 1388,
    "start_time": "2024-05-26T09:28:06.042Z"
   },
   {
    "duration": 212,
    "start_time": "2024-05-26T09:28:07.432Z"
   },
   {
    "duration": 450,
    "start_time": "2024-05-26T09:28:07.646Z"
   },
   {
    "duration": 640,
    "start_time": "2024-05-26T09:28:08.098Z"
   },
   {
    "duration": 4,
    "start_time": "2024-05-26T09:28:08.740Z"
   },
   {
    "duration": 76,
    "start_time": "2024-05-26T09:28:08.745Z"
   },
   {
    "duration": 20,
    "start_time": "2024-05-26T09:28:08.824Z"
   },
   {
    "duration": 18,
    "start_time": "2024-05-26T09:28:08.845Z"
   },
   {
    "duration": 1366,
    "start_time": "2024-05-26T09:28:08.865Z"
   },
   {
    "duration": 243,
    "start_time": "2024-05-26T09:28:10.233Z"
   },
   {
    "duration": 31,
    "start_time": "2024-05-26T09:28:10.477Z"
   },
   {
    "duration": 8,
    "start_time": "2024-05-26T09:28:10.510Z"
   },
   {
    "duration": 150,
    "start_time": "2024-05-26T09:28:10.520Z"
   },
   {
    "duration": 3,
    "start_time": "2024-05-26T09:28:10.671Z"
   },
   {
    "duration": 28,
    "start_time": "2024-05-26T09:28:10.676Z"
   },
   {
    "duration": 21,
    "start_time": "2024-05-26T09:28:10.707Z"
   },
   {
    "duration": 26,
    "start_time": "2024-05-26T09:28:10.729Z"
   },
   {
    "duration": 33,
    "start_time": "2024-05-26T09:28:10.757Z"
   },
   {
    "duration": 23,
    "start_time": "2024-05-26T09:28:10.791Z"
   },
   {
    "duration": 1459,
    "start_time": "2024-05-26T09:28:39.499Z"
   },
   {
    "duration": 1544,
    "start_time": "2024-05-26T09:28:40.960Z"
   },
   {
    "duration": 30,
    "start_time": "2024-05-26T09:28:42.506Z"
   },
   {
    "duration": 73,
    "start_time": "2024-05-26T09:28:42.538Z"
   },
   {
    "duration": 83,
    "start_time": "2024-05-26T09:28:42.613Z"
   },
   {
    "duration": 62,
    "start_time": "2024-05-26T09:28:42.698Z"
   },
   {
    "duration": 565,
    "start_time": "2024-05-26T09:28:42.763Z"
   },
   {
    "duration": 238,
    "start_time": "2024-05-26T09:28:43.330Z"
   },
   {
    "duration": 3,
    "start_time": "2024-05-26T09:28:43.570Z"
   },
   {
    "duration": 25,
    "start_time": "2024-05-26T09:28:43.576Z"
   },
   {
    "duration": 22,
    "start_time": "2024-05-26T09:28:43.603Z"
   },
   {
    "duration": 36,
    "start_time": "2024-05-26T09:28:43.627Z"
   },
   {
    "duration": 27,
    "start_time": "2024-05-26T09:28:43.666Z"
   },
   {
    "duration": 14,
    "start_time": "2024-05-26T09:28:43.695Z"
   },
   {
    "duration": 19,
    "start_time": "2024-05-26T09:28:43.711Z"
   },
   {
    "duration": 22,
    "start_time": "2024-05-26T09:28:43.732Z"
   },
   {
    "duration": 73,
    "start_time": "2024-05-26T09:28:43.756Z"
   },
   {
    "duration": 1217,
    "start_time": "2024-05-26T09:28:43.831Z"
   },
   {
    "duration": 8,
    "start_time": "2024-05-26T09:28:45.049Z"
   },
   {
    "duration": 1288,
    "start_time": "2024-05-26T09:28:45.058Z"
   },
   {
    "duration": 7,
    "start_time": "2024-05-26T09:28:46.348Z"
   },
   {
    "duration": 1384,
    "start_time": "2024-05-26T09:28:46.356Z"
   },
   {
    "duration": 215,
    "start_time": "2024-05-26T09:28:47.742Z"
   },
   {
    "duration": 465,
    "start_time": "2024-05-26T09:28:47.958Z"
   },
   {
    "duration": 614,
    "start_time": "2024-05-26T09:28:48.425Z"
   },
   {
    "duration": 5,
    "start_time": "2024-05-26T09:28:49.041Z"
   },
   {
    "duration": 14,
    "start_time": "2024-05-26T09:28:49.047Z"
   },
   {
    "duration": 6,
    "start_time": "2024-05-26T09:28:49.065Z"
   },
   {
    "duration": 5,
    "start_time": "2024-05-26T09:28:49.073Z"
   },
   {
    "duration": 1149,
    "start_time": "2024-05-26T09:28:49.080Z"
   },
   {
    "duration": 247,
    "start_time": "2024-05-26T09:28:50.232Z"
   },
   {
    "duration": 32,
    "start_time": "2024-05-26T09:28:50.480Z"
   },
   {
    "duration": 5,
    "start_time": "2024-05-26T09:28:50.514Z"
   },
   {
    "duration": 152,
    "start_time": "2024-05-26T09:28:50.520Z"
   },
   {
    "duration": 3,
    "start_time": "2024-05-26T09:28:50.674Z"
   },
   {
    "duration": 4,
    "start_time": "2024-05-26T09:28:50.679Z"
   },
   {
    "duration": 4,
    "start_time": "2024-05-26T09:28:50.696Z"
   },
   {
    "duration": 12,
    "start_time": "2024-05-26T09:28:50.701Z"
   },
   {
    "duration": 16,
    "start_time": "2024-05-26T09:28:50.715Z"
   },
   {
    "duration": 3,
    "start_time": "2024-05-26T09:28:50.733Z"
   },
   {
    "duration": 1880,
    "start_time": "2024-05-26T09:30:09.716Z"
   },
   {
    "duration": 1251,
    "start_time": "2024-05-26T09:30:11.599Z"
   },
   {
    "duration": 23,
    "start_time": "2024-05-26T09:30:12.851Z"
   },
   {
    "duration": 39,
    "start_time": "2024-05-26T09:30:12.876Z"
   },
   {
    "duration": 21,
    "start_time": "2024-05-26T09:30:12.917Z"
   },
   {
    "duration": 64,
    "start_time": "2024-05-26T09:30:12.939Z"
   },
   {
    "duration": 649,
    "start_time": "2024-05-26T09:30:13.006Z"
   },
   {
    "duration": 222,
    "start_time": "2024-05-26T09:30:13.657Z"
   },
   {
    "duration": 3,
    "start_time": "2024-05-26T09:30:13.880Z"
   },
   {
    "duration": 20,
    "start_time": "2024-05-26T09:30:13.896Z"
   },
   {
    "duration": 28,
    "start_time": "2024-05-26T09:30:13.918Z"
   },
   {
    "duration": 22,
    "start_time": "2024-05-26T09:30:13.947Z"
   },
   {
    "duration": 23,
    "start_time": "2024-05-26T09:30:13.970Z"
   },
   {
    "duration": 21,
    "start_time": "2024-05-26T09:30:13.997Z"
   },
   {
    "duration": 20,
    "start_time": "2024-05-26T09:30:14.020Z"
   },
   {
    "duration": 13,
    "start_time": "2024-05-26T09:30:14.041Z"
   },
   {
    "duration": 44,
    "start_time": "2024-05-26T09:30:14.056Z"
   },
   {
    "duration": 1328,
    "start_time": "2024-05-26T09:30:14.102Z"
   },
   {
    "duration": 7,
    "start_time": "2024-05-26T09:30:15.432Z"
   },
   {
    "duration": 1277,
    "start_time": "2024-05-26T09:30:15.441Z"
   },
   {
    "duration": 7,
    "start_time": "2024-05-26T09:30:16.720Z"
   },
   {
    "duration": 1200,
    "start_time": "2024-05-26T09:30:16.728Z"
   },
   {
    "duration": 200,
    "start_time": "2024-05-26T09:30:17.930Z"
   },
   {
    "duration": 459,
    "start_time": "2024-05-26T09:30:18.131Z"
   },
   {
    "duration": 542,
    "start_time": "2024-05-26T09:30:18.591Z"
   },
   {
    "duration": 5,
    "start_time": "2024-05-26T09:30:19.134Z"
   },
   {
    "duration": 25,
    "start_time": "2024-05-26T09:30:19.140Z"
   },
   {
    "duration": 24,
    "start_time": "2024-05-26T09:30:19.169Z"
   },
   {
    "duration": 15,
    "start_time": "2024-05-26T09:30:19.194Z"
   },
   {
    "duration": 1298,
    "start_time": "2024-05-26T09:30:19.211Z"
   },
   {
    "duration": 255,
    "start_time": "2024-05-26T09:30:20.510Z"
   },
   {
    "duration": 18,
    "start_time": "2024-05-26T09:30:20.767Z"
   },
   {
    "duration": 8,
    "start_time": "2024-05-26T09:30:20.793Z"
   },
   {
    "duration": 142,
    "start_time": "2024-05-26T09:30:20.803Z"
   },
   {
    "duration": 3,
    "start_time": "2024-05-26T09:30:20.947Z"
   },
   {
    "duration": 22,
    "start_time": "2024-05-26T09:30:20.952Z"
   },
   {
    "duration": 13,
    "start_time": "2024-05-26T09:30:20.975Z"
   },
   {
    "duration": 9,
    "start_time": "2024-05-26T09:30:20.990Z"
   },
   {
    "duration": 42,
    "start_time": "2024-05-26T09:30:21.000Z"
   },
   {
    "duration": 48,
    "start_time": "2024-05-26T09:30:21.043Z"
   },
   {
    "duration": 4,
    "start_time": "2024-05-26T09:58:05.639Z"
   },
   {
    "duration": 783,
    "start_time": "2024-05-26T09:58:05.661Z"
   },
   {
    "duration": 20,
    "start_time": "2024-05-26T09:58:07.666Z"
   },
   {
    "duration": 39,
    "start_time": "2024-05-26T09:58:07.688Z"
   },
   {
    "duration": 38,
    "start_time": "2024-05-26T09:58:07.729Z"
   },
   {
    "duration": 58,
    "start_time": "2024-05-26T09:58:07.769Z"
   },
   {
    "duration": 593,
    "start_time": "2024-05-26T09:58:07.829Z"
   },
   {
    "duration": 225,
    "start_time": "2024-05-26T09:58:08.424Z"
   },
   {
    "duration": 2,
    "start_time": "2024-05-26T09:58:08.651Z"
   },
   {
    "duration": 19,
    "start_time": "2024-05-26T09:58:08.655Z"
   },
   {
    "duration": 5,
    "start_time": "2024-05-26T09:58:08.675Z"
   },
   {
    "duration": 34,
    "start_time": "2024-05-26T09:58:08.681Z"
   },
   {
    "duration": 22,
    "start_time": "2024-05-26T09:58:08.717Z"
   },
   {
    "duration": 14,
    "start_time": "2024-05-26T09:58:08.740Z"
   },
   {
    "duration": 46,
    "start_time": "2024-05-26T09:58:08.755Z"
   },
   {
    "duration": 14,
    "start_time": "2024-05-26T09:58:08.805Z"
   },
   {
    "duration": 1478,
    "start_time": "2024-05-26T09:59:08.833Z"
   },
   {
    "duration": 885,
    "start_time": "2024-05-26T09:59:10.312Z"
   },
   {
    "duration": 31,
    "start_time": "2024-05-26T09:59:11.199Z"
   },
   {
    "duration": 75,
    "start_time": "2024-05-26T09:59:11.233Z"
   },
   {
    "duration": 100,
    "start_time": "2024-05-26T09:59:11.310Z"
   },
   {
    "duration": 100,
    "start_time": "2024-05-26T09:59:11.412Z"
   },
   {
    "duration": 1149,
    "start_time": "2024-05-26T09:59:11.514Z"
   },
   {
    "duration": 264,
    "start_time": "2024-05-26T09:59:12.665Z"
   },
   {
    "duration": 3,
    "start_time": "2024-05-26T09:59:12.931Z"
   },
   {
    "duration": 14,
    "start_time": "2024-05-26T09:59:12.936Z"
   },
   {
    "duration": 5,
    "start_time": "2024-05-26T09:59:12.952Z"
   },
   {
    "duration": 40,
    "start_time": "2024-05-26T09:59:12.959Z"
   },
   {
    "duration": 27,
    "start_time": "2024-05-26T09:59:13.001Z"
   },
   {
    "duration": 13,
    "start_time": "2024-05-26T09:59:13.029Z"
   },
   {
    "duration": 21,
    "start_time": "2024-05-26T09:59:13.044Z"
   },
   {
    "duration": 49,
    "start_time": "2024-05-26T09:59:13.066Z"
   },
   {
    "duration": 8,
    "start_time": "2024-05-26T09:59:13.116Z"
   },
   {
    "duration": 1230,
    "start_time": "2024-05-26T09:59:13.125Z"
   },
   {
    "duration": 12,
    "start_time": "2024-05-26T09:59:14.357Z"
   },
   {
    "duration": 1367,
    "start_time": "2024-05-26T09:59:14.371Z"
   },
   {
    "duration": 9,
    "start_time": "2024-05-26T09:59:15.740Z"
   },
   {
    "duration": 1291,
    "start_time": "2024-05-26T09:59:15.754Z"
   },
   {
    "duration": 216,
    "start_time": "2024-05-26T09:59:17.047Z"
   },
   {
    "duration": 461,
    "start_time": "2024-05-26T09:59:17.265Z"
   },
   {
    "duration": 592,
    "start_time": "2024-05-26T09:59:17.727Z"
   },
   {
    "duration": 4,
    "start_time": "2024-05-26T09:59:18.321Z"
   },
   {
    "duration": 10,
    "start_time": "2024-05-26T09:59:18.327Z"
   },
   {
    "duration": 6,
    "start_time": "2024-05-26T09:59:18.340Z"
   },
   {
    "duration": 6,
    "start_time": "2024-05-26T09:59:18.347Z"
   },
   {
    "duration": 1282,
    "start_time": "2024-05-26T09:59:18.354Z"
   },
   {
    "duration": 241,
    "start_time": "2024-05-26T09:59:19.637Z"
   },
   {
    "duration": 30,
    "start_time": "2024-05-26T09:59:19.880Z"
   },
   {
    "duration": 6,
    "start_time": "2024-05-26T09:59:19.911Z"
   },
   {
    "duration": 139,
    "start_time": "2024-05-26T09:59:19.919Z"
   },
   {
    "duration": 3,
    "start_time": "2024-05-26T09:59:20.059Z"
   },
   {
    "duration": 24,
    "start_time": "2024-05-26T09:59:20.064Z"
   },
   {
    "duration": 37,
    "start_time": "2024-05-26T09:59:20.089Z"
   },
   {
    "duration": 80,
    "start_time": "2024-05-26T09:59:20.128Z"
   },
   {
    "duration": 56,
    "start_time": "2024-05-26T09:59:20.210Z"
   },
   {
    "duration": 4,
    "start_time": "2024-05-26T09:59:20.268Z"
   },
   {
    "duration": 1487,
    "start_time": "2024-05-26T10:04:59.457Z"
   },
   {
    "duration": 893,
    "start_time": "2024-05-26T10:05:00.946Z"
   },
   {
    "duration": 25,
    "start_time": "2024-05-26T10:05:01.841Z"
   },
   {
    "duration": 78,
    "start_time": "2024-05-26T10:05:01.869Z"
   },
   {
    "duration": 78,
    "start_time": "2024-05-26T10:05:01.948Z"
   },
   {
    "duration": 48,
    "start_time": "2024-05-26T10:05:02.028Z"
   },
   {
    "duration": 646,
    "start_time": "2024-05-26T10:05:02.078Z"
   },
   {
    "duration": 240,
    "start_time": "2024-05-26T10:05:02.726Z"
   },
   {
    "duration": 3,
    "start_time": "2024-05-26T10:05:02.967Z"
   },
   {
    "duration": 39,
    "start_time": "2024-05-26T10:05:02.973Z"
   },
   {
    "duration": 30,
    "start_time": "2024-05-26T10:05:03.014Z"
   },
   {
    "duration": 56,
    "start_time": "2024-05-26T10:05:03.046Z"
   },
   {
    "duration": 85,
    "start_time": "2024-05-26T10:05:03.108Z"
   },
   {
    "duration": 19,
    "start_time": "2024-05-26T10:05:03.202Z"
   },
   {
    "duration": 36,
    "start_time": "2024-05-26T10:05:03.222Z"
   },
   {
    "duration": 55,
    "start_time": "2024-05-26T10:05:03.260Z"
   },
   {
    "duration": 11,
    "start_time": "2024-05-26T10:05:03.317Z"
   },
   {
    "duration": 1783,
    "start_time": "2024-05-26T10:05:03.330Z"
   },
   {
    "duration": 8,
    "start_time": "2024-05-26T10:05:05.115Z"
   },
   {
    "duration": 1719,
    "start_time": "2024-05-26T10:05:05.124Z"
   },
   {
    "duration": 7,
    "start_time": "2024-05-26T10:05:06.845Z"
   },
   {
    "duration": 1289,
    "start_time": "2024-05-26T10:05:06.853Z"
   },
   {
    "duration": 224,
    "start_time": "2024-05-26T10:05:08.143Z"
   },
   {
    "duration": 461,
    "start_time": "2024-05-26T10:05:08.368Z"
   },
   {
    "duration": 593,
    "start_time": "2024-05-26T10:05:08.831Z"
   },
   {
    "duration": 5,
    "start_time": "2024-05-26T10:05:09.425Z"
   },
   {
    "duration": 40,
    "start_time": "2024-05-26T10:05:09.431Z"
   },
   {
    "duration": 27,
    "start_time": "2024-05-26T10:05:09.474Z"
   },
   {
    "duration": 22,
    "start_time": "2024-05-26T10:05:09.503Z"
   },
   {
    "duration": 1202,
    "start_time": "2024-05-26T10:05:09.526Z"
   },
   {
    "duration": 249,
    "start_time": "2024-05-26T10:05:10.730Z"
   },
   {
    "duration": 25,
    "start_time": "2024-05-26T10:05:10.981Z"
   },
   {
    "duration": 24,
    "start_time": "2024-05-26T10:05:11.008Z"
   },
   {
    "duration": 159,
    "start_time": "2024-05-26T10:05:11.033Z"
   },
   {
    "duration": 11,
    "start_time": "2024-05-26T10:05:11.196Z"
   },
   {
    "duration": 42,
    "start_time": "2024-05-26T10:05:11.209Z"
   },
   {
    "duration": 23,
    "start_time": "2024-05-26T10:05:11.253Z"
   },
   {
    "duration": 40,
    "start_time": "2024-05-26T10:05:11.277Z"
   },
   {
    "duration": 30,
    "start_time": "2024-05-26T10:05:11.319Z"
   },
   {
    "duration": 42,
    "start_time": "2024-05-26T10:05:11.351Z"
   },
   {
    "duration": 1524,
    "start_time": "2024-05-26T10:07:12.711Z"
   },
   {
    "duration": 836,
    "start_time": "2024-05-26T10:07:14.237Z"
   },
   {
    "duration": 31,
    "start_time": "2024-05-26T10:07:15.075Z"
   },
   {
    "duration": 57,
    "start_time": "2024-05-26T10:07:15.109Z"
   },
   {
    "duration": 53,
    "start_time": "2024-05-26T10:07:15.167Z"
   },
   {
    "duration": 74,
    "start_time": "2024-05-26T10:07:15.222Z"
   },
   {
    "duration": 629,
    "start_time": "2024-05-26T10:07:15.299Z"
   },
   {
    "duration": 234,
    "start_time": "2024-05-26T10:07:15.930Z"
   },
   {
    "duration": 3,
    "start_time": "2024-05-26T10:07:16.166Z"
   },
   {
    "duration": 29,
    "start_time": "2024-05-26T10:07:16.171Z"
   },
   {
    "duration": 8,
    "start_time": "2024-05-26T10:07:16.202Z"
   },
   {
    "duration": 16,
    "start_time": "2024-05-26T10:07:16.211Z"
   },
   {
    "duration": 43,
    "start_time": "2024-05-26T10:07:16.228Z"
   },
   {
    "duration": 15,
    "start_time": "2024-05-26T10:07:16.272Z"
   },
   {
    "duration": 32,
    "start_time": "2024-05-26T10:07:16.288Z"
   },
   {
    "duration": 15,
    "start_time": "2024-05-26T10:07:16.322Z"
   },
   {
    "duration": 13,
    "start_time": "2024-05-26T10:07:16.338Z"
   },
   {
    "duration": 1370,
    "start_time": "2024-05-26T10:07:16.353Z"
   },
   {
    "duration": 7,
    "start_time": "2024-05-26T10:07:17.725Z"
   },
   {
    "duration": 1103,
    "start_time": "2024-05-26T10:07:17.734Z"
   },
   {
    "duration": 8,
    "start_time": "2024-05-26T10:07:18.839Z"
   },
   {
    "duration": 1402,
    "start_time": "2024-05-26T10:11:18.089Z"
   },
   {
    "duration": 724,
    "start_time": "2024-05-26T10:11:19.493Z"
   },
   {
    "duration": 24,
    "start_time": "2024-05-26T10:11:20.218Z"
   },
   {
    "duration": 32,
    "start_time": "2024-05-26T10:11:20.265Z"
   },
   {
    "duration": 21,
    "start_time": "2024-05-26T10:11:24.891Z"
   },
   {
    "duration": 37,
    "start_time": "2024-05-26T10:11:25.701Z"
   },
   {
    "duration": 593,
    "start_time": "2024-05-26T10:11:26.418Z"
   },
   {
    "duration": 240,
    "start_time": "2024-05-26T10:11:45.393Z"
   },
   {
    "duration": 4,
    "start_time": "2024-05-26T10:11:59.793Z"
   },
   {
    "duration": 9,
    "start_time": "2024-05-26T10:12:00.849Z"
   },
   {
    "duration": 5,
    "start_time": "2024-05-26T10:12:02.085Z"
   },
   {
    "duration": 13,
    "start_time": "2024-05-26T10:12:05.207Z"
   },
   {
    "duration": 23,
    "start_time": "2024-05-26T10:12:07.061Z"
   },
   {
    "duration": 14,
    "start_time": "2024-05-26T10:12:08.185Z"
   },
   {
    "duration": 18,
    "start_time": "2024-05-26T10:12:09.359Z"
   },
   {
    "duration": 16,
    "start_time": "2024-05-26T10:12:09.932Z"
   },
   {
    "duration": 8,
    "start_time": "2024-05-26T10:12:17.063Z"
   },
   {
    "duration": 1253,
    "start_time": "2024-05-26T10:12:17.568Z"
   },
   {
    "duration": 8,
    "start_time": "2024-05-26T10:12:18.823Z"
   },
   {
    "duration": 1312,
    "start_time": "2024-05-26T10:12:18.832Z"
   },
   {
    "duration": 7,
    "start_time": "2024-05-26T10:12:20.146Z"
   },
   {
    "duration": 1327,
    "start_time": "2024-05-26T10:12:20.603Z"
   },
   {
    "duration": 205,
    "start_time": "2024-05-26T10:12:21.931Z"
   },
   {
    "duration": 399,
    "start_time": "2024-05-26T10:12:25.001Z"
   },
   {
    "duration": 534,
    "start_time": "2024-05-26T10:12:26.568Z"
   },
   {
    "duration": 6,
    "start_time": "2024-05-26T10:12:28.847Z"
   },
   {
    "duration": 5,
    "start_time": "2024-05-26T10:12:29.519Z"
   },
   {
    "duration": 4,
    "start_time": "2024-05-26T10:12:29.979Z"
   },
   {
    "duration": 5,
    "start_time": "2024-05-26T10:12:30.457Z"
   },
   {
    "duration": 1211,
    "start_time": "2024-05-26T10:12:30.935Z"
   },
   {
    "duration": 219,
    "start_time": "2024-05-26T10:12:34.215Z"
   },
   {
    "duration": 19,
    "start_time": "2024-05-26T10:12:35.986Z"
   },
   {
    "duration": 5,
    "start_time": "2024-05-26T10:12:36.727Z"
   },
   {
    "duration": 147,
    "start_time": "2024-05-26T10:12:37.455Z"
   },
   {
    "duration": 4,
    "start_time": "2024-05-26T10:12:40.775Z"
   },
   {
    "duration": 3,
    "start_time": "2024-05-26T10:12:41.307Z"
   },
   {
    "duration": 2,
    "start_time": "2024-05-26T10:12:41.835Z"
   },
   {
    "duration": 2,
    "start_time": "2024-05-26T10:12:43.981Z"
   },
   {
    "duration": 16,
    "start_time": "2024-05-26T10:12:44.602Z"
   },
   {
    "duration": 6,
    "start_time": "2024-05-26T10:12:45.235Z"
   },
   {
    "duration": 50,
    "start_time": "2024-05-26T10:13:20.060Z"
   },
   {
    "duration": 6,
    "start_time": "2024-05-26T10:13:22.322Z"
   },
   {
    "duration": 3,
    "start_time": "2024-05-26T10:13:31.038Z"
   },
   {
    "duration": 3,
    "start_time": "2024-05-26T10:13:31.502Z"
   },
   {
    "duration": 6,
    "start_time": "2024-05-26T10:13:31.968Z"
   },
   {
    "duration": 1442,
    "start_time": "2024-05-26T10:14:48.346Z"
   },
   {
    "duration": 1421,
    "start_time": "2024-05-26T10:14:49.790Z"
   },
   {
    "duration": 24,
    "start_time": "2024-05-26T10:14:51.212Z"
   },
   {
    "duration": 3,
    "start_time": "2024-05-26T10:14:51.722Z"
   },
   {
    "duration": 3,
    "start_time": "2024-05-26T10:14:52.151Z"
   },
   {
    "duration": 2,
    "start_time": "2024-05-26T10:14:52.548Z"
   },
   {
    "duration": 2,
    "start_time": "2024-05-26T10:14:54.700Z"
   },
   {
    "duration": 87,
    "start_time": "2024-05-26T10:14:55.275Z"
   },
   {
    "duration": 9,
    "start_time": "2024-05-26T10:14:56.237Z"
   },
   {
    "duration": 2,
    "start_time": "2024-05-26T10:15:18.840Z"
   },
   {
    "duration": 18,
    "start_time": "2024-05-26T10:15:35.150Z"
   },
   {
    "duration": 9,
    "start_time": "2024-05-26T10:15:36.181Z"
   },
   {
    "duration": 11,
    "start_time": "2024-05-26T10:15:47.269Z"
   },
   {
    "duration": 1248,
    "start_time": "2024-05-26T10:16:53.882Z"
   },
   {
    "duration": 8,
    "start_time": "2024-05-26T10:16:55.132Z"
   },
   {
    "duration": 1295,
    "start_time": "2024-05-26T10:16:55.141Z"
   },
   {
    "duration": 8,
    "start_time": "2024-05-26T10:16:56.438Z"
   },
   {
    "duration": 1281,
    "start_time": "2024-05-26T10:16:56.447Z"
   },
   {
    "duration": 12,
    "start_time": "2024-05-26T10:16:57.730Z"
   },
   {
    "duration": 0,
    "start_time": "2024-05-26T10:16:57.743Z"
   },
   {
    "duration": 0,
    "start_time": "2024-05-26T10:16:57.745Z"
   },
   {
    "duration": 0,
    "start_time": "2024-05-26T10:16:57.746Z"
   },
   {
    "duration": 0,
    "start_time": "2024-05-26T10:16:57.747Z"
   },
   {
    "duration": 0,
    "start_time": "2024-05-26T10:16:57.748Z"
   },
   {
    "duration": 0,
    "start_time": "2024-05-26T10:16:57.748Z"
   },
   {
    "duration": 0,
    "start_time": "2024-05-26T10:16:57.749Z"
   },
   {
    "duration": 18,
    "start_time": "2024-05-26T10:16:58.111Z"
   },
   {
    "duration": 101,
    "start_time": "2024-05-26T10:16:58.571Z"
   },
   {
    "duration": 5,
    "start_time": "2024-05-26T10:16:59.247Z"
   },
   {
    "duration": 131,
    "start_time": "2024-05-26T10:17:00.471Z"
   },
   {
    "duration": 3,
    "start_time": "2024-05-26T10:17:02.596Z"
   },
   {
    "duration": 3,
    "start_time": "2024-05-26T10:17:03.047Z"
   },
   {
    "duration": 3,
    "start_time": "2024-05-26T10:17:03.489Z"
   },
   {
    "duration": 2,
    "start_time": "2024-05-26T10:17:04.908Z"
   },
   {
    "duration": 33,
    "start_time": "2024-05-26T10:17:05.242Z"
   },
   {
    "duration": 5,
    "start_time": "2024-05-26T10:18:00.113Z"
   },
   {
    "duration": 17,
    "start_time": "2024-05-26T10:18:40.269Z"
   },
   {
    "duration": 5,
    "start_time": "2024-05-26T10:18:58.991Z"
   },
   {
    "duration": 3,
    "start_time": "2024-05-26T10:19:01.029Z"
   },
   {
    "duration": 16,
    "start_time": "2024-05-26T10:19:01.806Z"
   },
   {
    "duration": 11,
    "start_time": "2024-05-26T10:19:26.215Z"
   },
   {
    "duration": 2,
    "start_time": "2024-05-26T10:20:16.303Z"
   },
   {
    "duration": 16,
    "start_time": "2024-05-26T10:20:17.865Z"
   },
   {
    "duration": 14,
    "start_time": "2024-05-26T10:21:05.737Z"
   },
   {
    "duration": 17,
    "start_time": "2024-05-26T10:21:07.799Z"
   },
   {
    "duration": 12,
    "start_time": "2024-05-26T10:23:04.211Z"
   },
   {
    "duration": 10,
    "start_time": "2024-05-26T10:23:04.850Z"
   },
   {
    "duration": 3,
    "start_time": "2024-05-26T10:23:38.105Z"
   },
   {
    "duration": 2,
    "start_time": "2024-05-26T10:23:49.085Z"
   },
   {
    "duration": 3,
    "start_time": "2024-05-26T10:23:57.753Z"
   },
   {
    "duration": 3,
    "start_time": "2024-05-26T10:23:58.178Z"
   },
   {
    "duration": 3,
    "start_time": "2024-05-26T10:24:00.053Z"
   },
   {
    "duration": 12,
    "start_time": "2024-05-26T10:24:00.767Z"
   },
   {
    "duration": 3,
    "start_time": "2024-05-26T10:24:01.743Z"
   },
   {
    "duration": 9,
    "start_time": "2024-05-26T10:24:03.713Z"
   },
   {
    "duration": 5,
    "start_time": "2024-05-26T10:24:39.875Z"
   },
   {
    "duration": 776,
    "start_time": "2024-05-26T10:24:40.973Z"
   },
   {
    "duration": 4,
    "start_time": "2024-05-26T10:24:45.011Z"
   },
   {
    "duration": 2,
    "start_time": "2024-05-26T10:24:45.187Z"
   },
   {
    "duration": 3,
    "start_time": "2024-05-26T10:24:46.133Z"
   },
   {
    "duration": 11,
    "start_time": "2024-05-26T10:24:46.311Z"
   },
   {
    "duration": 3,
    "start_time": "2024-05-26T10:24:46.523Z"
   },
   {
    "duration": 10,
    "start_time": "2024-05-26T10:24:47.287Z"
   },
   {
    "duration": 4,
    "start_time": "2024-05-26T10:25:11.195Z"
   },
   {
    "duration": 763,
    "start_time": "2024-05-26T10:25:12.263Z"
   },
   {
    "duration": 3,
    "start_time": "2024-05-26T10:25:15.085Z"
   },
   {
    "duration": 3,
    "start_time": "2024-05-26T10:25:15.273Z"
   },
   {
    "duration": 2,
    "start_time": "2024-05-26T10:25:16.199Z"
   },
   {
    "duration": 11,
    "start_time": "2024-05-26T10:25:16.405Z"
   },
   {
    "duration": 3,
    "start_time": "2024-05-26T10:25:16.634Z"
   },
   {
    "duration": 3,
    "start_time": "2024-05-26T10:25:17.189Z"
   },
   {
    "duration": 3,
    "start_time": "2024-05-26T10:26:41.731Z"
   },
   {
    "duration": 10,
    "start_time": "2024-05-26T10:26:55.101Z"
   },
   {
    "duration": 4,
    "start_time": "2024-05-26T10:27:20.763Z"
   },
   {
    "duration": 823,
    "start_time": "2024-05-26T10:27:21.227Z"
   },
   {
    "duration": 3,
    "start_time": "2024-05-26T10:27:23.767Z"
   },
   {
    "duration": 2,
    "start_time": "2024-05-26T10:27:23.919Z"
   },
   {
    "duration": 3,
    "start_time": "2024-05-26T10:27:24.710Z"
   },
   {
    "duration": 9,
    "start_time": "2024-05-26T10:27:24.861Z"
   },
   {
    "duration": 2,
    "start_time": "2024-05-26T10:27:25.041Z"
   },
   {
    "duration": 4,
    "start_time": "2024-05-26T10:27:25.201Z"
   },
   {
    "duration": 4,
    "start_time": "2024-05-26T10:27:25.377Z"
   },
   {
    "duration": 6,
    "start_time": "2024-05-26T10:27:25.556Z"
   },
   {
    "duration": 303,
    "start_time": "2024-05-26T10:27:46.237Z"
   },
   {
    "duration": 4,
    "start_time": "2024-05-26T10:28:06.871Z"
   },
   {
    "duration": 305,
    "start_time": "2024-05-26T10:28:07.658Z"
   },
   {
    "duration": 18,
    "start_time": "2024-05-26T10:28:15.197Z"
   },
   {
    "duration": 5,
    "start_time": "2024-05-26T10:28:15.617Z"
   },
   {
    "duration": 144,
    "start_time": "2024-05-26T10:28:16.124Z"
   },
   {
    "duration": 3,
    "start_time": "2024-05-26T10:28:19.107Z"
   },
   {
    "duration": 3,
    "start_time": "2024-05-26T10:28:19.728Z"
   },
   {
    "duration": 2,
    "start_time": "2024-05-26T10:28:22.107Z"
   },
   {
    "duration": 9,
    "start_time": "2024-05-26T10:28:22.513Z"
   },
   {
    "duration": 3,
    "start_time": "2024-05-26T10:28:23.082Z"
   },
   {
    "duration": 3,
    "start_time": "2024-05-26T10:28:23.875Z"
   },
   {
    "duration": 3,
    "start_time": "2024-05-26T10:28:24.559Z"
   },
   {
    "duration": 3,
    "start_time": "2024-05-26T10:28:25.203Z"
   },
   {
    "duration": 305,
    "start_time": "2024-05-26T10:28:25.819Z"
   },
   {
    "duration": 1364,
    "start_time": "2024-05-26T10:28:59.517Z"
   },
   {
    "duration": 1027,
    "start_time": "2024-05-26T10:29:00.883Z"
   },
   {
    "duration": 86,
    "start_time": "2024-05-26T10:29:01.911Z"
   },
   {
    "duration": 32,
    "start_time": "2024-05-26T10:29:01.999Z"
   },
   {
    "duration": 85,
    "start_time": "2024-05-26T10:29:02.033Z"
   },
   {
    "duration": 118,
    "start_time": "2024-05-26T10:29:02.120Z"
   },
   {
    "duration": 1048,
    "start_time": "2024-05-26T10:29:02.239Z"
   },
   {
    "duration": 233,
    "start_time": "2024-05-26T10:29:03.289Z"
   },
   {
    "duration": 3,
    "start_time": "2024-05-26T10:29:03.523Z"
   },
   {
    "duration": 40,
    "start_time": "2024-05-26T10:29:03.528Z"
   },
   {
    "duration": 12,
    "start_time": "2024-05-26T10:29:03.570Z"
   },
   {
    "duration": 49,
    "start_time": "2024-05-26T10:29:03.584Z"
   },
   {
    "duration": 78,
    "start_time": "2024-05-26T10:29:03.635Z"
   },
   {
    "duration": 13,
    "start_time": "2024-05-26T10:29:03.715Z"
   },
   {
    "duration": 39,
    "start_time": "2024-05-26T10:29:03.729Z"
   },
   {
    "duration": 23,
    "start_time": "2024-05-26T10:29:03.770Z"
   },
   {
    "duration": 24,
    "start_time": "2024-05-26T10:29:03.795Z"
   },
   {
    "duration": 1104,
    "start_time": "2024-05-26T10:29:03.821Z"
   },
   {
    "duration": 8,
    "start_time": "2024-05-26T10:29:04.927Z"
   },
   {
    "duration": 1217,
    "start_time": "2024-05-26T10:29:04.937Z"
   },
   {
    "duration": 11,
    "start_time": "2024-05-26T10:29:06.156Z"
   },
   {
    "duration": 1156,
    "start_time": "2024-05-26T10:29:06.169Z"
   },
   {
    "duration": 240,
    "start_time": "2024-05-26T10:29:07.327Z"
   },
   {
    "duration": 527,
    "start_time": "2024-05-26T10:29:07.570Z"
   },
   {
    "duration": 497,
    "start_time": "2024-05-26T10:29:08.099Z"
   },
   {
    "duration": 5,
    "start_time": "2024-05-26T10:29:08.598Z"
   },
   {
    "duration": 52,
    "start_time": "2024-05-26T10:29:08.604Z"
   },
   {
    "duration": 11,
    "start_time": "2024-05-26T10:29:08.661Z"
   },
   {
    "duration": 7,
    "start_time": "2024-05-26T10:29:08.674Z"
   },
   {
    "duration": 1128,
    "start_time": "2024-05-26T10:29:08.683Z"
   },
   {
    "duration": 236,
    "start_time": "2024-05-26T10:29:09.813Z"
   },
   {
    "duration": 19,
    "start_time": "2024-05-26T10:29:10.051Z"
   },
   {
    "duration": 5,
    "start_time": "2024-05-26T10:29:10.071Z"
   },
   {
    "duration": 176,
    "start_time": "2024-05-26T10:29:10.077Z"
   },
   {
    "duration": 3,
    "start_time": "2024-05-26T10:29:10.255Z"
   },
   {
    "duration": 6,
    "start_time": "2024-05-26T10:29:10.259Z"
   },
   {
    "duration": 6,
    "start_time": "2024-05-26T10:29:10.266Z"
   },
   {
    "duration": 31,
    "start_time": "2024-05-26T10:29:10.273Z"
   },
   {
    "duration": 7,
    "start_time": "2024-05-26T10:29:10.305Z"
   },
   {
    "duration": 5,
    "start_time": "2024-05-26T10:29:10.314Z"
   },
   {
    "duration": 9,
    "start_time": "2024-05-26T10:29:10.320Z"
   },
   {
    "duration": 9,
    "start_time": "2024-05-26T10:29:10.330Z"
   },
   {
    "duration": 1408,
    "start_time": "2024-05-26T10:29:36.605Z"
   },
   {
    "duration": 766,
    "start_time": "2024-05-26T10:29:38.015Z"
   },
   {
    "duration": 23,
    "start_time": "2024-05-26T10:29:40.798Z"
   },
   {
    "duration": 20,
    "start_time": "2024-05-26T10:29:42.523Z"
   },
   {
    "duration": 33,
    "start_time": "2024-05-26T10:29:43.116Z"
   },
   {
    "duration": 36,
    "start_time": "2024-05-26T10:29:43.681Z"
   },
   {
    "duration": 569,
    "start_time": "2024-05-26T10:29:44.135Z"
   },
   {
    "duration": 222,
    "start_time": "2024-05-26T10:29:45.327Z"
   },
   {
    "duration": 3,
    "start_time": "2024-05-26T10:29:47.959Z"
   },
   {
    "duration": 9,
    "start_time": "2024-05-26T10:29:48.899Z"
   },
   {
    "duration": 4,
    "start_time": "2024-05-26T10:29:50.379Z"
   },
   {
    "duration": 13,
    "start_time": "2024-05-26T10:29:52.873Z"
   },
   {
    "duration": 23,
    "start_time": "2024-05-26T10:29:54.582Z"
   },
   {
    "duration": 13,
    "start_time": "2024-05-26T10:29:55.668Z"
   },
   {
    "duration": 20,
    "start_time": "2024-05-26T10:29:56.658Z"
   },
   {
    "duration": 13,
    "start_time": "2024-05-26T10:29:57.045Z"
   },
   {
    "duration": 7,
    "start_time": "2024-05-26T10:29:58.925Z"
   },
   {
    "duration": 1182,
    "start_time": "2024-05-26T10:29:59.223Z"
   },
   {
    "duration": 8,
    "start_time": "2024-05-26T10:30:00.407Z"
   },
   {
    "duration": 1241,
    "start_time": "2024-05-26T10:30:00.417Z"
   },
   {
    "duration": 9,
    "start_time": "2024-05-26T10:30:01.659Z"
   },
   {
    "duration": 1258,
    "start_time": "2024-05-26T10:30:01.670Z"
   },
   {
    "duration": 214,
    "start_time": "2024-05-26T10:30:02.929Z"
   },
   {
    "duration": 500,
    "start_time": "2024-05-26T10:30:03.145Z"
   },
   {
    "duration": 651,
    "start_time": "2024-05-26T10:30:03.647Z"
   },
   {
    "duration": 5,
    "start_time": "2024-05-26T10:30:04.647Z"
   },
   {
    "duration": 5,
    "start_time": "2024-05-26T10:30:05.167Z"
   },
   {
    "duration": 5,
    "start_time": "2024-05-26T10:30:05.657Z"
   },
   {
    "duration": 4,
    "start_time": "2024-05-26T10:30:05.987Z"
   },
   {
    "duration": 1250,
    "start_time": "2024-05-26T10:30:06.383Z"
   },
   {
    "duration": 229,
    "start_time": "2024-05-26T10:30:07.635Z"
   },
   {
    "duration": 20,
    "start_time": "2024-05-26T10:30:08.525Z"
   },
   {
    "duration": 6,
    "start_time": "2024-05-26T10:30:09.015Z"
   },
   {
    "duration": 130,
    "start_time": "2024-05-26T10:30:09.243Z"
   },
   {
    "duration": 3,
    "start_time": "2024-05-26T10:30:12.409Z"
   },
   {
    "duration": 2,
    "start_time": "2024-05-26T10:30:12.978Z"
   },
   {
    "duration": 2,
    "start_time": "2024-05-26T10:30:16.195Z"
   },
   {
    "duration": 11,
    "start_time": "2024-05-26T10:30:16.938Z"
   },
   {
    "duration": 3,
    "start_time": "2024-05-26T10:30:17.723Z"
   },
   {
    "duration": 4,
    "start_time": "2024-05-26T10:30:18.557Z"
   },
   {
    "duration": 4,
    "start_time": "2024-05-26T10:30:19.147Z"
   },
   {
    "duration": 5,
    "start_time": "2024-05-26T10:30:19.771Z"
   },
   {
    "duration": 59,
    "start_time": "2024-05-26T10:30:53.193Z"
   },
   {
    "duration": 8,
    "start_time": "2024-05-26T10:30:57.882Z"
   },
   {
    "duration": 1445,
    "start_time": "2024-05-26T10:31:03.846Z"
   },
   {
    "duration": 3,
    "start_time": "2024-05-26T10:31:07.318Z"
   },
   {
    "duration": 3,
    "start_time": "2024-05-26T10:31:07.504Z"
   },
   {
    "duration": 78,
    "start_time": "2024-05-26T10:31:08.734Z"
   },
   {
    "duration": 12,
    "start_time": "2024-05-26T10:31:08.999Z"
   },
   {
    "duration": 3,
    "start_time": "2024-05-26T10:31:09.293Z"
   },
   {
    "duration": 4,
    "start_time": "2024-05-26T10:31:09.578Z"
   },
   {
    "duration": 4,
    "start_time": "2024-05-26T10:31:18.733Z"
   },
   {
    "duration": 777,
    "start_time": "2024-05-26T10:31:18.900Z"
   },
   {
    "duration": 35,
    "start_time": "2024-05-26T10:31:19.888Z"
   },
   {
    "duration": 21,
    "start_time": "2024-05-26T10:31:20.832Z"
   },
   {
    "duration": 20,
    "start_time": "2024-05-26T10:31:21.267Z"
   },
   {
    "duration": 36,
    "start_time": "2024-05-26T10:31:21.730Z"
   },
   {
    "duration": 565,
    "start_time": "2024-05-26T10:31:22.092Z"
   },
   {
    "duration": 242,
    "start_time": "2024-05-26T10:31:22.745Z"
   },
   {
    "duration": 3,
    "start_time": "2024-05-26T10:31:24.610Z"
   },
   {
    "duration": 10,
    "start_time": "2024-05-26T10:31:25.334Z"
   },
   {
    "duration": 5,
    "start_time": "2024-05-26T10:31:26.038Z"
   },
   {
    "duration": 14,
    "start_time": "2024-05-26T10:31:27.072Z"
   },
   {
    "duration": 23,
    "start_time": "2024-05-26T10:31:27.582Z"
   },
   {
    "duration": 14,
    "start_time": "2024-05-26T10:31:28.246Z"
   },
   {
    "duration": 22,
    "start_time": "2024-05-26T10:31:28.951Z"
   },
   {
    "duration": 14,
    "start_time": "2024-05-26T10:31:29.102Z"
   },
   {
    "duration": 8,
    "start_time": "2024-05-26T10:31:29.760Z"
   },
   {
    "duration": 1104,
    "start_time": "2024-05-26T10:31:29.920Z"
   },
   {
    "duration": 8,
    "start_time": "2024-05-26T10:31:31.026Z"
   },
   {
    "duration": 1198,
    "start_time": "2024-05-26T10:31:31.035Z"
   },
   {
    "duration": 8,
    "start_time": "2024-05-26T10:31:32.235Z"
   },
   {
    "duration": 1192,
    "start_time": "2024-05-26T10:31:32.244Z"
   },
   {
    "duration": 228,
    "start_time": "2024-05-26T10:31:33.438Z"
   },
   {
    "duration": 478,
    "start_time": "2024-05-26T10:31:33.668Z"
   },
   {
    "duration": 563,
    "start_time": "2024-05-26T10:31:34.147Z"
   },
   {
    "duration": 6,
    "start_time": "2024-05-26T10:31:34.712Z"
   },
   {
    "duration": 13,
    "start_time": "2024-05-26T10:31:34.720Z"
   },
   {
    "duration": 14,
    "start_time": "2024-05-26T10:31:34.734Z"
   },
   {
    "duration": 22,
    "start_time": "2024-05-26T10:31:34.750Z"
   },
   {
    "duration": 1229,
    "start_time": "2024-05-26T10:31:34.892Z"
   },
   {
    "duration": 241,
    "start_time": "2024-05-26T10:31:36.123Z"
   },
   {
    "duration": 20,
    "start_time": "2024-05-26T10:31:36.758Z"
   },
   {
    "duration": 5,
    "start_time": "2024-05-26T10:31:37.018Z"
   },
   {
    "duration": 175,
    "start_time": "2024-05-26T10:31:37.354Z"
   },
   {
    "duration": 3,
    "start_time": "2024-05-26T10:31:39.356Z"
   },
   {
    "duration": 3,
    "start_time": "2024-05-26T10:31:39.788Z"
   },
   {
    "duration": 3,
    "start_time": "2024-05-26T10:31:41.790Z"
   },
   {
    "duration": 10,
    "start_time": "2024-05-26T10:31:42.568Z"
   },
   {
    "duration": 3,
    "start_time": "2024-05-26T10:31:43.812Z"
   },
   {
    "duration": 3,
    "start_time": "2024-05-26T10:31:44.455Z"
   },
   {
    "duration": 3,
    "start_time": "2024-05-26T10:31:45.028Z"
   },
   {
    "duration": 4,
    "start_time": "2024-05-26T10:31:45.650Z"
   },
   {
    "duration": 1447,
    "start_time": "2024-05-26T10:32:08.986Z"
   },
   {
    "duration": 817,
    "start_time": "2024-05-26T10:32:10.435Z"
   },
   {
    "duration": 22,
    "start_time": "2024-05-26T10:32:11.253Z"
   },
   {
    "duration": 42,
    "start_time": "2024-05-26T10:32:11.277Z"
   },
   {
    "duration": 58,
    "start_time": "2024-05-26T10:32:11.321Z"
   },
   {
    "duration": 60,
    "start_time": "2024-05-26T10:32:11.381Z"
   },
   {
    "duration": 1266,
    "start_time": "2024-05-26T10:32:11.443Z"
   },
   {
    "duration": 407,
    "start_time": "2024-05-26T10:32:12.710Z"
   },
   {
    "duration": 3,
    "start_time": "2024-05-26T10:32:13.119Z"
   },
   {
    "duration": 44,
    "start_time": "2024-05-26T10:32:13.124Z"
   },
   {
    "duration": 23,
    "start_time": "2024-05-26T10:32:13.170Z"
   },
   {
    "duration": 27,
    "start_time": "2024-05-26T10:32:13.195Z"
   },
   {
    "duration": 42,
    "start_time": "2024-05-26T10:32:13.223Z"
   },
   {
    "duration": 33,
    "start_time": "2024-05-26T10:32:13.267Z"
   },
   {
    "duration": 29,
    "start_time": "2024-05-26T10:32:13.302Z"
   },
   {
    "duration": 26,
    "start_time": "2024-05-26T10:32:13.333Z"
   },
   {
    "duration": 13,
    "start_time": "2024-05-26T10:32:13.361Z"
   },
   {
    "duration": 1248,
    "start_time": "2024-05-26T10:32:13.376Z"
   },
   {
    "duration": 9,
    "start_time": "2024-05-26T10:32:14.626Z"
   },
   {
    "duration": 1329,
    "start_time": "2024-05-26T10:32:14.636Z"
   },
   {
    "duration": 9,
    "start_time": "2024-05-26T10:32:15.966Z"
   },
   {
    "duration": 1161,
    "start_time": "2024-05-26T10:32:15.976Z"
   },
   {
    "duration": 226,
    "start_time": "2024-05-26T10:32:17.139Z"
   },
   {
    "duration": 527,
    "start_time": "2024-05-26T10:32:17.367Z"
   },
   {
    "duration": 614,
    "start_time": "2024-05-26T10:32:17.896Z"
   },
   {
    "duration": 5,
    "start_time": "2024-05-26T10:32:18.511Z"
   },
   {
    "duration": 49,
    "start_time": "2024-05-26T10:32:18.518Z"
   },
   {
    "duration": 79,
    "start_time": "2024-05-26T10:32:18.570Z"
   },
   {
    "duration": 49,
    "start_time": "2024-05-26T10:32:18.651Z"
   },
   {
    "duration": 1319,
    "start_time": "2024-05-26T10:32:18.701Z"
   },
   {
    "duration": 243,
    "start_time": "2024-05-26T10:32:20.022Z"
   },
   {
    "duration": 31,
    "start_time": "2024-05-26T10:32:20.268Z"
   },
   {
    "duration": 75,
    "start_time": "2024-05-26T10:32:20.301Z"
   },
   {
    "duration": 223,
    "start_time": "2024-05-26T10:32:20.378Z"
   },
   {
    "duration": 3,
    "start_time": "2024-05-26T10:32:20.603Z"
   },
   {
    "duration": 94,
    "start_time": "2024-05-26T10:32:20.607Z"
   },
   {
    "duration": 47,
    "start_time": "2024-05-26T10:32:20.702Z"
   },
   {
    "duration": 39,
    "start_time": "2024-05-26T10:32:20.751Z"
   },
   {
    "duration": 50,
    "start_time": "2024-05-26T10:32:20.791Z"
   },
   {
    "duration": 71,
    "start_time": "2024-05-26T10:32:20.842Z"
   },
   {
    "duration": 37,
    "start_time": "2024-05-26T10:32:20.915Z"
   },
   {
    "duration": 34,
    "start_time": "2024-05-26T10:32:20.954Z"
   },
   {
    "duration": 60,
    "start_time": "2024-05-26T10:32:29.018Z"
   },
   {
    "duration": 1554,
    "start_time": "2024-05-26T10:32:33.852Z"
   },
   {
    "duration": 760,
    "start_time": "2024-05-26T10:32:35.408Z"
   },
   {
    "duration": 25,
    "start_time": "2024-05-26T10:32:36.170Z"
   },
   {
    "duration": 29,
    "start_time": "2024-05-26T10:32:36.566Z"
   },
   {
    "duration": 20,
    "start_time": "2024-05-26T10:32:41.262Z"
   },
   {
    "duration": 20,
    "start_time": "2024-05-26T10:32:41.710Z"
   },
   {
    "duration": 25,
    "start_time": "2024-05-26T10:32:42.590Z"
   },
   {
    "duration": 3,
    "start_time": "2024-05-26T10:32:45.914Z"
   },
   {
    "duration": 4,
    "start_time": "2024-05-26T10:32:46.328Z"
   },
   {
    "duration": 3,
    "start_time": "2024-05-26T10:32:48.453Z"
   },
   {
    "duration": 16,
    "start_time": "2024-05-26T10:32:48.888Z"
   },
   {
    "duration": 3,
    "start_time": "2024-05-26T10:32:49.694Z"
   },
   {
    "duration": 3,
    "start_time": "2024-05-26T10:32:50.334Z"
   },
   {
    "duration": 3,
    "start_time": "2024-05-26T10:32:51.018Z"
   },
   {
    "duration": 4,
    "start_time": "2024-05-26T10:32:51.712Z"
   },
   {
    "duration": 386,
    "start_time": "2024-05-26T10:32:52.522Z"
   },
   {
    "duration": 12,
    "start_time": "2024-05-26T10:32:53.144Z"
   },
   {
    "duration": 4,
    "start_time": "2024-05-26T10:33:01.312Z"
   },
   {
    "duration": 810,
    "start_time": "2024-05-26T10:33:03.850Z"
   },
   {
    "duration": 24,
    "start_time": "2024-05-26T10:33:04.789Z"
   },
   {
    "duration": 23,
    "start_time": "2024-05-26T10:33:05.176Z"
   },
   {
    "duration": 22,
    "start_time": "2024-05-26T10:33:05.944Z"
   },
   {
    "duration": 35,
    "start_time": "2024-05-26T10:33:06.730Z"
   },
   {
    "duration": 576,
    "start_time": "2024-05-26T10:33:07.318Z"
   },
   {
    "duration": 210,
    "start_time": "2024-05-26T10:33:08.170Z"
   },
   {
    "duration": 4,
    "start_time": "2024-05-26T10:33:09.202Z"
   },
   {
    "duration": 10,
    "start_time": "2024-05-26T10:33:09.570Z"
   },
   {
    "duration": 4,
    "start_time": "2024-05-26T10:33:09.911Z"
   },
   {
    "duration": 4,
    "start_time": "2024-05-26T10:33:13.312Z"
   },
   {
    "duration": 4,
    "start_time": "2024-05-26T10:33:13.486Z"
   },
   {
    "duration": 2,
    "start_time": "2024-05-26T10:33:14.363Z"
   },
   {
    "duration": 9,
    "start_time": "2024-05-26T10:33:14.552Z"
   },
   {
    "duration": 2,
    "start_time": "2024-05-26T10:33:14.760Z"
   },
   {
    "duration": 4,
    "start_time": "2024-05-26T10:33:15.100Z"
   },
   {
    "duration": 4,
    "start_time": "2024-05-26T10:33:15.578Z"
   },
   {
    "duration": 5,
    "start_time": "2024-05-26T10:33:15.994Z"
   },
   {
    "duration": 309,
    "start_time": "2024-05-26T10:33:16.742Z"
   },
   {
    "duration": 10,
    "start_time": "2024-05-26T10:33:19.106Z"
   },
   {
    "duration": 4,
    "start_time": "2024-05-26T10:36:21.886Z"
   },
   {
    "duration": 340,
    "start_time": "2024-05-26T10:36:23.700Z"
   },
   {
    "duration": 3,
    "start_time": "2024-05-26T10:41:37.190Z"
   },
   {
    "duration": 4,
    "start_time": "2024-05-26T10:41:37.870Z"
   },
   {
    "duration": 2,
    "start_time": "2024-05-26T10:41:57.302Z"
   },
   {
    "duration": 3,
    "start_time": "2024-05-26T10:42:09.944Z"
   },
   {
    "duration": 2,
    "start_time": "2024-05-26T10:42:19.774Z"
   },
   {
    "duration": 10,
    "start_time": "2024-05-26T10:42:31.440Z"
   },
   {
    "duration": 9,
    "start_time": "2024-05-26T10:43:36.221Z"
   },
   {
    "duration": 9,
    "start_time": "2024-05-26T10:44:42.582Z"
   },
   {
    "duration": 2,
    "start_time": "2024-05-26T10:45:52.660Z"
   },
   {
    "duration": 3,
    "start_time": "2024-05-26T10:45:53.371Z"
   },
   {
    "duration": 2,
    "start_time": "2024-05-26T10:46:32.614Z"
   },
   {
    "duration": 10,
    "start_time": "2024-05-26T10:46:58.916Z"
   },
   {
    "duration": 3,
    "start_time": "2024-05-26T10:47:10.661Z"
   },
   {
    "duration": 3,
    "start_time": "2024-05-26T10:47:20.229Z"
   },
   {
    "duration": 3,
    "start_time": "2024-05-26T10:47:32.513Z"
   },
   {
    "duration": 4,
    "start_time": "2024-05-26T10:47:45.609Z"
   },
   {
    "duration": 5,
    "start_time": "2024-05-26T10:49:13.169Z"
   },
   {
    "duration": 11,
    "start_time": "2024-05-26T10:49:33.023Z"
   },
   {
    "duration": 10,
    "start_time": "2024-05-26T10:50:05.742Z"
   },
   {
    "duration": 3,
    "start_time": "2024-05-26T10:50:06.373Z"
   },
   {
    "duration": 3,
    "start_time": "2024-05-26T10:50:06.933Z"
   },
   {
    "duration": 4,
    "start_time": "2024-05-26T10:50:07.485Z"
   },
   {
    "duration": 5,
    "start_time": "2024-05-26T10:50:08.023Z"
   },
   {
    "duration": 10,
    "start_time": "2024-05-26T10:50:08.564Z"
   },
   {
    "duration": 4,
    "start_time": "2024-05-26T10:50:26.557Z"
   },
   {
    "duration": 11,
    "start_time": "2024-05-26T10:50:28.103Z"
   },
   {
    "duration": 3,
    "start_time": "2024-05-26T10:50:55.185Z"
   },
   {
    "duration": 3,
    "start_time": "2024-05-26T10:50:55.611Z"
   },
   {
    "duration": 9,
    "start_time": "2024-05-26T10:50:56.842Z"
   },
   {
    "duration": 3,
    "start_time": "2024-05-26T10:50:57.460Z"
   },
   {
    "duration": 4,
    "start_time": "2024-05-26T10:50:58.331Z"
   },
   {
    "duration": 3,
    "start_time": "2024-05-26T10:50:59.240Z"
   },
   {
    "duration": 4,
    "start_time": "2024-05-26T10:51:00.000Z"
   },
   {
    "duration": 10,
    "start_time": "2024-05-26T10:51:00.679Z"
   },
   {
    "duration": 5,
    "start_time": "2024-05-26T10:53:59.374Z"
   },
   {
    "duration": 802,
    "start_time": "2024-05-26T10:53:59.948Z"
   },
   {
    "duration": 22,
    "start_time": "2024-05-26T10:54:01.581Z"
   },
   {
    "duration": 21,
    "start_time": "2024-05-26T10:54:02.103Z"
   },
   {
    "duration": 20,
    "start_time": "2024-05-26T10:54:02.649Z"
   },
   {
    "duration": 42,
    "start_time": "2024-05-26T10:54:02.978Z"
   },
   {
    "duration": 600,
    "start_time": "2024-05-26T10:54:03.155Z"
   },
   {
    "duration": 210,
    "start_time": "2024-05-26T10:54:04.655Z"
   },
   {
    "duration": 4,
    "start_time": "2024-05-26T10:54:07.427Z"
   },
   {
    "duration": 9,
    "start_time": "2024-05-26T10:54:08.251Z"
   },
   {
    "duration": 4,
    "start_time": "2024-05-26T10:54:09.214Z"
   },
   {
    "duration": 15,
    "start_time": "2024-05-26T10:54:10.883Z"
   },
   {
    "duration": 29,
    "start_time": "2024-05-26T10:54:12.199Z"
   },
   {
    "duration": 14,
    "start_time": "2024-05-26T10:54:12.919Z"
   },
   {
    "duration": 19,
    "start_time": "2024-05-26T10:54:13.991Z"
   },
   {
    "duration": 19,
    "start_time": "2024-05-26T10:54:15.263Z"
   },
   {
    "duration": 8,
    "start_time": "2024-05-26T10:54:18.249Z"
   },
   {
    "duration": 1451,
    "start_time": "2024-05-26T10:54:18.751Z"
   },
   {
    "duration": 8,
    "start_time": "2024-05-26T10:54:20.204Z"
   },
   {
    "duration": 1317,
    "start_time": "2024-05-26T10:54:20.239Z"
   },
   {
    "duration": 8,
    "start_time": "2024-05-26T10:54:22.517Z"
   },
   {
    "duration": 1423,
    "start_time": "2024-05-26T10:54:23.143Z"
   },
   {
    "duration": 220,
    "start_time": "2024-05-26T10:54:24.568Z"
   },
   {
    "duration": 416,
    "start_time": "2024-05-26T10:54:24.963Z"
   },
   {
    "duration": 633,
    "start_time": "2024-05-26T10:54:25.601Z"
   },
   {
    "duration": 5,
    "start_time": "2024-05-26T10:54:28.039Z"
   },
   {
    "duration": 5,
    "start_time": "2024-05-26T10:54:28.463Z"
   },
   {
    "duration": 5,
    "start_time": "2024-05-26T10:54:28.907Z"
   },
   {
    "duration": 6,
    "start_time": "2024-05-26T10:54:29.401Z"
   },
   {
    "duration": 1238,
    "start_time": "2024-05-26T10:54:29.875Z"
   },
   {
    "duration": 229,
    "start_time": "2024-05-26T10:54:33.029Z"
   },
   {
    "duration": 17,
    "start_time": "2024-05-26T10:54:34.435Z"
   },
   {
    "duration": 5,
    "start_time": "2024-05-26T10:54:35.106Z"
   },
   {
    "duration": 144,
    "start_time": "2024-05-26T10:54:36.213Z"
   },
   {
    "duration": 4,
    "start_time": "2024-05-26T10:54:39.148Z"
   },
   {
    "duration": 3,
    "start_time": "2024-05-26T10:54:39.679Z"
   },
   {
    "duration": 10,
    "start_time": "2024-05-26T10:54:41.615Z"
   },
   {
    "duration": 3,
    "start_time": "2024-05-26T10:54:42.309Z"
   },
   {
    "duration": 3,
    "start_time": "2024-05-26T10:54:44.051Z"
   },
   {
    "duration": 4,
    "start_time": "2024-05-26T10:54:44.887Z"
   },
   {
    "duration": 4,
    "start_time": "2024-05-26T10:54:45.691Z"
   },
   {
    "duration": 12,
    "start_time": "2024-05-26T10:54:46.447Z"
   },
   {
    "duration": 4,
    "start_time": "2024-05-26T10:54:51.111Z"
   },
   {
    "duration": 10,
    "start_time": "2024-05-26T10:54:51.943Z"
   },
   {
    "duration": 4,
    "start_time": "2024-05-26T10:56:00.121Z"
   },
   {
    "duration": 5,
    "start_time": "2024-05-26T10:56:04.121Z"
   },
   {
    "duration": 4,
    "start_time": "2024-05-26T10:56:07.918Z"
   },
   {
    "duration": 5,
    "start_time": "2024-05-26T10:56:09.167Z"
   },
   {
    "duration": 14,
    "start_time": "2024-05-26T10:56:10.050Z"
   },
   {
    "duration": 3,
    "start_time": "2024-05-26T10:57:15.305Z"
   },
   {
    "duration": 3,
    "start_time": "2024-05-26T10:57:15.749Z"
   },
   {
    "duration": 8,
    "start_time": "2024-05-26T10:57:17.569Z"
   },
   {
    "duration": 3,
    "start_time": "2024-05-26T10:57:18.389Z"
   },
   {
    "duration": 4,
    "start_time": "2024-05-26T10:57:26.267Z"
   },
   {
    "duration": 4,
    "start_time": "2024-05-26T10:57:27.299Z"
   },
   {
    "duration": 4,
    "start_time": "2024-05-26T10:57:28.107Z"
   },
   {
    "duration": 14,
    "start_time": "2024-05-26T10:57:28.865Z"
   },
   {
    "duration": 3,
    "start_time": "2024-05-26T10:58:30.999Z"
   },
   {
    "duration": 3,
    "start_time": "2024-05-26T10:58:31.619Z"
   },
   {
    "duration": 3,
    "start_time": "2024-05-26T10:58:32.391Z"
   },
   {
    "duration": 4,
    "start_time": "2024-05-26T10:58:33.345Z"
   },
   {
    "duration": 10,
    "start_time": "2024-05-26T10:58:34.879Z"
   },
   {
    "duration": 4,
    "start_time": "2024-05-26T10:59:46.359Z"
   },
   {
    "duration": 762,
    "start_time": "2024-05-26T10:59:47.662Z"
   },
   {
    "duration": 31,
    "start_time": "2024-05-26T10:59:49.445Z"
   },
   {
    "duration": 29,
    "start_time": "2024-05-26T10:59:50.403Z"
   },
   {
    "duration": 20,
    "start_time": "2024-05-26T10:59:51.021Z"
   },
   {
    "duration": 46,
    "start_time": "2024-05-26T10:59:51.773Z"
   },
   {
    "duration": 636,
    "start_time": "2024-05-26T10:59:52.359Z"
   },
   {
    "duration": 196,
    "start_time": "2024-05-26T10:59:53.042Z"
   },
   {
    "duration": 3,
    "start_time": "2024-05-26T10:59:55.540Z"
   },
   {
    "duration": 10,
    "start_time": "2024-05-26T10:59:56.570Z"
   },
   {
    "duration": 4,
    "start_time": "2024-05-26T10:59:57.503Z"
   },
   {
    "duration": 12,
    "start_time": "2024-05-26T10:59:59.289Z"
   },
   {
    "duration": 23,
    "start_time": "2024-05-26T11:00:00.395Z"
   },
   {
    "duration": 18,
    "start_time": "2024-05-26T11:00:00.991Z"
   },
   {
    "duration": 17,
    "start_time": "2024-05-26T11:00:01.583Z"
   },
   {
    "duration": 14,
    "start_time": "2024-05-26T11:00:02.065Z"
   },
   {
    "duration": 8,
    "start_time": "2024-05-26T11:00:03.413Z"
   },
   {
    "duration": 1152,
    "start_time": "2024-05-26T11:00:03.773Z"
   },
   {
    "duration": 11,
    "start_time": "2024-05-26T11:00:04.927Z"
   },
   {
    "duration": 1197,
    "start_time": "2024-05-26T11:00:04.940Z"
   },
   {
    "duration": 8,
    "start_time": "2024-05-26T11:00:06.140Z"
   },
   {
    "duration": 1197,
    "start_time": "2024-05-26T11:00:06.149Z"
   },
   {
    "duration": 211,
    "start_time": "2024-05-26T11:00:07.348Z"
   },
   {
    "duration": 451,
    "start_time": "2024-05-26T11:00:07.561Z"
   },
   {
    "duration": 605,
    "start_time": "2024-05-26T11:00:08.014Z"
   },
   {
    "duration": 5,
    "start_time": "2024-05-26T11:00:08.620Z"
   },
   {
    "duration": 22,
    "start_time": "2024-05-26T11:00:08.626Z"
   },
   {
    "duration": 7,
    "start_time": "2024-05-26T11:00:08.739Z"
   },
   {
    "duration": 6,
    "start_time": "2024-05-26T11:00:09.254Z"
   },
   {
    "duration": 1160,
    "start_time": "2024-05-26T11:00:09.563Z"
   },
   {
    "duration": 250,
    "start_time": "2024-05-26T11:00:10.725Z"
   },
   {
    "duration": 23,
    "start_time": "2024-05-26T11:00:10.977Z"
   },
   {
    "duration": 6,
    "start_time": "2024-05-26T11:00:11.098Z"
   },
   {
    "duration": 144,
    "start_time": "2024-05-26T11:00:11.285Z"
   },
   {
    "duration": 3,
    "start_time": "2024-05-26T11:00:13.771Z"
   },
   {
    "duration": 3,
    "start_time": "2024-05-26T11:00:14.117Z"
   },
   {
    "duration": 9,
    "start_time": "2024-05-26T11:00:16.109Z"
   },
   {
    "duration": 3,
    "start_time": "2024-05-26T11:00:18.147Z"
   },
   {
    "duration": 3,
    "start_time": "2024-05-26T11:00:18.804Z"
   },
   {
    "duration": 3,
    "start_time": "2024-05-26T11:00:19.301Z"
   },
   {
    "duration": 4,
    "start_time": "2024-05-26T11:00:19.985Z"
   },
   {
    "duration": 11,
    "start_time": "2024-05-26T11:00:20.907Z"
   },
   {
    "duration": 1313,
    "start_time": "2024-05-26T11:02:29.208Z"
   },
   {
    "duration": 764,
    "start_time": "2024-05-26T11:02:30.522Z"
   },
   {
    "duration": 3,
    "start_time": "2024-05-26T11:02:35.492Z"
   },
   {
    "duration": 2,
    "start_time": "2024-05-26T11:02:35.912Z"
   },
   {
    "duration": 12,
    "start_time": "2024-05-26T11:02:37.474Z"
   },
   {
    "duration": 2,
    "start_time": "2024-05-26T11:02:38.082Z"
   },
   {
    "duration": 3,
    "start_time": "2024-05-26T11:02:38.760Z"
   },
   {
    "duration": 4,
    "start_time": "2024-05-26T11:02:39.289Z"
   },
   {
    "duration": 4,
    "start_time": "2024-05-26T11:02:39.859Z"
   },
   {
    "duration": 414,
    "start_time": "2024-05-26T11:02:40.570Z"
   },
   {
    "duration": 10,
    "start_time": "2024-05-26T11:02:42.222Z"
   },
   {
    "duration": 4,
    "start_time": "2024-05-26T11:02:55.844Z"
   },
   {
    "duration": 714,
    "start_time": "2024-05-26T11:02:56.254Z"
   },
   {
    "duration": 24,
    "start_time": "2024-05-26T11:02:57.054Z"
   },
   {
    "duration": 20,
    "start_time": "2024-05-26T11:02:57.855Z"
   },
   {
    "duration": 20,
    "start_time": "2024-05-26T11:02:58.312Z"
   },
   {
    "duration": 36,
    "start_time": "2024-05-26T11:02:58.560Z"
   },
   {
    "duration": 530,
    "start_time": "2024-05-26T11:02:58.927Z"
   },
   {
    "duration": 196,
    "start_time": "2024-05-26T11:02:59.604Z"
   },
   {
    "duration": 3,
    "start_time": "2024-05-26T11:03:01.378Z"
   },
   {
    "duration": 10,
    "start_time": "2024-05-26T11:03:01.793Z"
   },
   {
    "duration": 3,
    "start_time": "2024-05-26T11:03:02.172Z"
   },
   {
    "duration": 12,
    "start_time": "2024-05-26T11:03:02.890Z"
   },
   {
    "duration": 23,
    "start_time": "2024-05-26T11:03:03.395Z"
   },
   {
    "duration": 13,
    "start_time": "2024-05-26T11:03:03.758Z"
   },
   {
    "duration": 16,
    "start_time": "2024-05-26T11:03:04.104Z"
   },
   {
    "duration": 13,
    "start_time": "2024-05-26T11:03:04.269Z"
   },
   {
    "duration": 8,
    "start_time": "2024-05-26T11:03:04.981Z"
   },
   {
    "duration": 141,
    "start_time": "2024-05-26T11:03:05.145Z"
   },
   {
    "duration": 7,
    "start_time": "2024-05-26T11:03:05.312Z"
   },
   {
    "duration": 143,
    "start_time": "2024-05-26T11:03:05.490Z"
   },
   {
    "duration": 7,
    "start_time": "2024-05-26T11:03:05.654Z"
   },
   {
    "duration": 237,
    "start_time": "2024-05-26T11:03:05.801Z"
   },
   {
    "duration": 0,
    "start_time": "2024-05-26T11:03:06.039Z"
   },
   {
    "duration": 187,
    "start_time": "2024-05-26T11:03:06.533Z"
   },
   {
    "duration": 0,
    "start_time": "2024-05-26T11:03:06.722Z"
   },
   {
    "duration": 4,
    "start_time": "2024-05-26T11:03:07.238Z"
   },
   {
    "duration": 7,
    "start_time": "2024-05-26T11:03:07.411Z"
   },
   {
    "duration": 6,
    "start_time": "2024-05-26T11:03:07.601Z"
   },
   {
    "duration": 4,
    "start_time": "2024-05-26T11:03:07.772Z"
   },
   {
    "duration": 124,
    "start_time": "2024-05-26T11:03:07.937Z"
   },
   {
    "duration": 12,
    "start_time": "2024-05-26T11:03:08.482Z"
   },
   {
    "duration": 16,
    "start_time": "2024-05-26T11:03:08.853Z"
   },
   {
    "duration": 5,
    "start_time": "2024-05-26T11:03:09.031Z"
   },
   {
    "duration": 11,
    "start_time": "2024-05-26T11:03:09.204Z"
   },
   {
    "duration": 3,
    "start_time": "2024-05-26T11:03:10.302Z"
   },
   {
    "duration": 3,
    "start_time": "2024-05-26T11:03:10.514Z"
   },
   {
    "duration": 15,
    "start_time": "2024-05-26T11:03:11.617Z"
   },
   {
    "duration": 3,
    "start_time": "2024-05-26T11:03:12.203Z"
   },
   {
    "duration": 4,
    "start_time": "2024-05-26T11:03:12.843Z"
   },
   {
    "duration": 4,
    "start_time": "2024-05-26T11:03:13.258Z"
   },
   {
    "duration": 4,
    "start_time": "2024-05-26T11:03:13.847Z"
   },
   {
    "duration": 1323,
    "start_time": "2024-05-26T11:03:39.569Z"
   },
   {
    "duration": 762,
    "start_time": "2024-05-26T11:03:40.894Z"
   },
   {
    "duration": 22,
    "start_time": "2024-05-26T11:03:41.658Z"
   },
   {
    "duration": 30,
    "start_time": "2024-05-26T11:03:41.682Z"
   },
   {
    "duration": 42,
    "start_time": "2024-05-26T11:03:41.714Z"
   },
   {
    "duration": 40,
    "start_time": "2024-05-26T11:03:41.758Z"
   },
   {
    "duration": 533,
    "start_time": "2024-05-26T11:03:41.800Z"
   },
   {
    "duration": 210,
    "start_time": "2024-05-26T11:03:42.335Z"
   },
   {
    "duration": 3,
    "start_time": "2024-05-26T11:03:42.547Z"
   },
   {
    "duration": 11,
    "start_time": "2024-05-26T11:03:42.553Z"
   },
   {
    "duration": 5,
    "start_time": "2024-05-26T11:03:42.565Z"
   },
   {
    "duration": 27,
    "start_time": "2024-05-26T11:03:42.593Z"
   },
   {
    "duration": 39,
    "start_time": "2024-05-26T11:03:42.622Z"
   },
   {
    "duration": 15,
    "start_time": "2024-05-26T11:03:42.663Z"
   },
   {
    "duration": 18,
    "start_time": "2024-05-26T11:03:42.680Z"
   },
   {
    "duration": 12,
    "start_time": "2024-05-26T11:03:42.700Z"
   },
   {
    "duration": 6,
    "start_time": "2024-05-26T11:03:42.714Z"
   },
   {
    "duration": 319,
    "start_time": "2024-05-26T11:03:42.722Z"
   },
   {
    "duration": 0,
    "start_time": "2024-05-26T11:03:43.094Z"
   },
   {
    "duration": 0,
    "start_time": "2024-05-26T11:03:43.095Z"
   },
   {
    "duration": 1,
    "start_time": "2024-05-26T11:03:43.096Z"
   },
   {
    "duration": 0,
    "start_time": "2024-05-26T11:03:43.097Z"
   },
   {
    "duration": 1,
    "start_time": "2024-05-26T11:03:43.098Z"
   },
   {
    "duration": 0,
    "start_time": "2024-05-26T11:03:43.099Z"
   },
   {
    "duration": 0,
    "start_time": "2024-05-26T11:03:43.100Z"
   },
   {
    "duration": 0,
    "start_time": "2024-05-26T11:03:43.101Z"
   },
   {
    "duration": 0,
    "start_time": "2024-05-26T11:03:43.102Z"
   },
   {
    "duration": 0,
    "start_time": "2024-05-26T11:03:43.103Z"
   },
   {
    "duration": 0,
    "start_time": "2024-05-26T11:03:43.104Z"
   },
   {
    "duration": 0,
    "start_time": "2024-05-26T11:03:43.105Z"
   },
   {
    "duration": 0,
    "start_time": "2024-05-26T11:03:43.106Z"
   },
   {
    "duration": 0,
    "start_time": "2024-05-26T11:03:43.106Z"
   },
   {
    "duration": 0,
    "start_time": "2024-05-26T11:03:43.107Z"
   },
   {
    "duration": 0,
    "start_time": "2024-05-26T11:03:43.108Z"
   },
   {
    "duration": 0,
    "start_time": "2024-05-26T11:03:43.109Z"
   },
   {
    "duration": 0,
    "start_time": "2024-05-26T11:03:43.110Z"
   },
   {
    "duration": 0,
    "start_time": "2024-05-26T11:03:43.111Z"
   },
   {
    "duration": 0,
    "start_time": "2024-05-26T11:03:43.112Z"
   },
   {
    "duration": 0,
    "start_time": "2024-05-26T11:03:43.113Z"
   },
   {
    "duration": 0,
    "start_time": "2024-05-26T11:03:43.114Z"
   },
   {
    "duration": 1,
    "start_time": "2024-05-26T11:03:43.114Z"
   },
   {
    "duration": 0,
    "start_time": "2024-05-26T11:03:43.115Z"
   },
   {
    "duration": 0,
    "start_time": "2024-05-26T11:03:43.117Z"
   },
   {
    "duration": 4,
    "start_time": "2024-05-26T11:03:45.384Z"
   },
   {
    "duration": 742,
    "start_time": "2024-05-26T11:03:46.129Z"
   },
   {
    "duration": 21,
    "start_time": "2024-05-26T11:03:49.023Z"
   },
   {
    "duration": 22,
    "start_time": "2024-05-26T11:03:50.063Z"
   },
   {
    "duration": 20,
    "start_time": "2024-05-26T11:03:50.779Z"
   },
   {
    "duration": 36,
    "start_time": "2024-05-26T11:03:52.027Z"
   },
   {
    "duration": 513,
    "start_time": "2024-05-26T11:03:53.451Z"
   },
   {
    "duration": 203,
    "start_time": "2024-05-26T11:03:55.159Z"
   },
   {
    "duration": 3,
    "start_time": "2024-05-26T11:04:02.209Z"
   },
   {
    "duration": 2,
    "start_time": "2024-05-26T11:04:02.642Z"
   },
   {
    "duration": 9,
    "start_time": "2024-05-26T11:04:04.930Z"
   },
   {
    "duration": 3,
    "start_time": "2024-05-26T11:04:06.115Z"
   },
   {
    "duration": 3,
    "start_time": "2024-05-26T11:04:07.448Z"
   },
   {
    "duration": 4,
    "start_time": "2024-05-26T11:04:09.433Z"
   },
   {
    "duration": 3,
    "start_time": "2024-05-26T11:04:11.530Z"
   },
   {
    "duration": 329,
    "start_time": "2024-05-26T11:04:12.770Z"
   },
   {
    "duration": 17,
    "start_time": "2024-05-26T11:05:02.440Z"
   },
   {
    "duration": 14,
    "start_time": "2024-05-26T11:05:04.509Z"
   },
   {
    "duration": 1401,
    "start_time": "2024-05-26T11:05:24.367Z"
   },
   {
    "duration": 747,
    "start_time": "2024-05-26T11:05:25.770Z"
   },
   {
    "duration": 26,
    "start_time": "2024-05-26T11:05:26.679Z"
   },
   {
    "duration": 20,
    "start_time": "2024-05-26T11:05:27.521Z"
   },
   {
    "duration": 20,
    "start_time": "2024-05-26T11:05:28.057Z"
   },
   {
    "duration": 38,
    "start_time": "2024-05-26T11:05:28.651Z"
   },
   {
    "duration": 629,
    "start_time": "2024-05-26T11:05:29.292Z"
   },
   {
    "duration": 224,
    "start_time": "2024-05-26T11:05:30.764Z"
   },
   {
    "duration": 3,
    "start_time": "2024-05-26T11:05:33.688Z"
   },
   {
    "duration": 9,
    "start_time": "2024-05-26T11:05:34.580Z"
   },
   {
    "duration": 4,
    "start_time": "2024-05-26T11:05:35.723Z"
   },
   {
    "duration": 12,
    "start_time": "2024-05-26T11:05:37.774Z"
   },
   {
    "duration": 24,
    "start_time": "2024-05-26T11:05:39.297Z"
   },
   {
    "duration": 19,
    "start_time": "2024-05-26T11:05:40.194Z"
   },
   {
    "duration": 19,
    "start_time": "2024-05-26T11:05:41.271Z"
   },
   {
    "duration": 15,
    "start_time": "2024-05-26T11:05:41.576Z"
   },
   {
    "duration": 6,
    "start_time": "2024-05-26T11:05:43.244Z"
   },
   {
    "duration": 248,
    "start_time": "2024-05-26T11:05:43.575Z"
   },
   {
    "duration": 8,
    "start_time": "2024-05-26T11:05:44.523Z"
   },
   {
    "duration": 134,
    "start_time": "2024-05-26T11:05:45.311Z"
   },
   {
    "duration": 6,
    "start_time": "2024-05-26T11:05:46.266Z"
   },
   {
    "duration": 134,
    "start_time": "2024-05-26T11:05:47.016Z"
   },
   {
    "duration": 279,
    "start_time": "2024-05-26T11:05:50.244Z"
   },
   {
    "duration": 55,
    "start_time": "2024-05-26T11:06:46.671Z"
   },
   {
    "duration": 794,
    "start_time": "2024-05-26T11:06:47.270Z"
   },
   {
    "duration": 20,
    "start_time": "2024-05-26T11:06:48.140Z"
   },
   {
    "duration": 22,
    "start_time": "2024-05-26T11:06:48.979Z"
   },
   {
    "duration": 19,
    "start_time": "2024-05-26T11:06:49.646Z"
   },
   {
    "duration": 35,
    "start_time": "2024-05-26T11:06:50.521Z"
   },
   {
    "duration": 537,
    "start_time": "2024-05-26T11:06:51.067Z"
   },
   {
    "duration": 219,
    "start_time": "2024-05-26T11:06:51.648Z"
   },
   {
    "duration": 2,
    "start_time": "2024-05-26T11:06:54.582Z"
   },
   {
    "duration": 8,
    "start_time": "2024-05-26T11:06:55.324Z"
   },
   {
    "duration": 4,
    "start_time": "2024-05-26T11:06:56.295Z"
   },
   {
    "duration": 13,
    "start_time": "2024-05-26T11:06:58.628Z"
   },
   {
    "duration": 25,
    "start_time": "2024-05-26T11:07:00.291Z"
   },
   {
    "duration": 15,
    "start_time": "2024-05-26T11:07:01.372Z"
   },
   {
    "duration": 19,
    "start_time": "2024-05-26T11:07:02.534Z"
   },
   {
    "duration": 13,
    "start_time": "2024-05-26T11:07:02.987Z"
   },
   {
    "duration": 7,
    "start_time": "2024-05-26T11:07:05.074Z"
   },
   {
    "duration": 1231,
    "start_time": "2024-05-26T11:07:05.668Z"
   },
   {
    "duration": 8,
    "start_time": "2024-05-26T11:07:07.647Z"
   },
   {
    "duration": 1249,
    "start_time": "2024-05-26T11:07:08.684Z"
   },
   {
    "duration": 9,
    "start_time": "2024-05-26T11:07:10.548Z"
   },
   {
    "duration": 1169,
    "start_time": "2024-05-26T11:07:11.467Z"
   },
   {
    "duration": 184,
    "start_time": "2024-05-26T11:07:12.852Z"
   },
   {
    "duration": 399,
    "start_time": "2024-05-26T11:07:15.014Z"
   },
   {
    "duration": 516,
    "start_time": "2024-05-26T11:07:16.090Z"
   },
   {
    "duration": 5,
    "start_time": "2024-05-26T11:07:20.803Z"
   },
   {
    "duration": 4,
    "start_time": "2024-05-26T11:07:21.312Z"
   },
   {
    "duration": 4,
    "start_time": "2024-05-26T11:07:21.836Z"
   },
   {
    "duration": 4,
    "start_time": "2024-05-26T11:07:22.250Z"
   },
   {
    "duration": 1332,
    "start_time": "2024-05-26T11:07:22.703Z"
   },
   {
    "duration": 214,
    "start_time": "2024-05-26T11:08:09.070Z"
   },
   {
    "duration": 16,
    "start_time": "2024-05-26T11:08:10.830Z"
   },
   {
    "duration": 4,
    "start_time": "2024-05-26T11:08:11.466Z"
   },
   {
    "duration": 125,
    "start_time": "2024-05-26T11:08:12.506Z"
   },
   {
    "duration": 3,
    "start_time": "2024-05-26T11:08:15.880Z"
   },
   {
    "duration": 2,
    "start_time": "2024-05-26T11:08:17.352Z"
   },
   {
    "duration": 10,
    "start_time": "2024-05-26T11:08:19.850Z"
   },
   {
    "duration": 2,
    "start_time": "2024-05-26T11:08:21.184Z"
   },
   {
    "duration": 3,
    "start_time": "2024-05-26T11:08:21.912Z"
   },
   {
    "duration": 4,
    "start_time": "2024-05-26T11:08:22.556Z"
   },
   {
    "duration": 4,
    "start_time": "2024-05-26T11:08:23.402Z"
   },
   {
    "duration": 394407,
    "start_time": "2024-05-26T11:08:24.188Z"
   },
   {
    "duration": 96,
    "start_time": "2024-05-26T11:14:58.598Z"
   },
   {
    "duration": 177,
    "start_time": "2024-05-26T11:14:58.900Z"
   },
   {
    "duration": 127,
    "start_time": "2024-05-26T11:14:59.078Z"
   },
   {
    "duration": 125,
    "start_time": "2024-05-26T11:14:59.207Z"
   },
   {
    "duration": 189,
    "start_time": "2024-05-26T11:14:59.334Z"
   },
   {
    "duration": 0,
    "start_time": "2024-05-26T11:14:59.542Z"
   },
   {
    "duration": 0,
    "start_time": "2024-05-26T11:14:59.543Z"
   },
   {
    "duration": 11,
    "start_time": "2024-05-26T11:15:15.034Z"
   },
   {
    "duration": 4,
    "start_time": "2024-05-26T11:15:30.410Z"
   },
   {
    "duration": 797,
    "start_time": "2024-05-26T11:15:30.920Z"
   },
   {
    "duration": 20,
    "start_time": "2024-05-26T11:15:31.719Z"
   },
   {
    "duration": 32,
    "start_time": "2024-05-26T11:15:32.706Z"
   },
   {
    "duration": 23,
    "start_time": "2024-05-26T11:15:33.446Z"
   },
   {
    "duration": 37,
    "start_time": "2024-05-26T11:15:34.304Z"
   },
   {
    "duration": 609,
    "start_time": "2024-05-26T11:15:34.640Z"
   },
   {
    "duration": 233,
    "start_time": "2024-05-26T11:15:35.251Z"
   },
   {
    "duration": 4,
    "start_time": "2024-05-26T11:15:36.115Z"
   },
   {
    "duration": 9,
    "start_time": "2024-05-26T11:15:36.560Z"
   },
   {
    "duration": 6,
    "start_time": "2024-05-26T11:15:42.799Z"
   },
   {
    "duration": 2264,
    "start_time": "2024-05-26T11:15:42.810Z"
   },
   {
    "duration": 719,
    "start_time": "2024-05-26T11:15:45.076Z"
   },
   {
    "duration": 4,
    "start_time": "2024-05-26T11:15:45.800Z"
   },
   {
    "duration": 23,
    "start_time": "2024-05-26T11:15:45.806Z"
   },
   {
    "duration": 4,
    "start_time": "2024-05-26T11:16:07.143Z"
   },
   {
    "duration": 786,
    "start_time": "2024-05-26T11:16:09.474Z"
   },
   {
    "duration": 21,
    "start_time": "2024-05-26T11:16:16.134Z"
   },
   {
    "duration": 863,
    "start_time": "2024-05-26T11:16:16.732Z"
   },
   {
    "duration": 897,
    "start_time": "2024-05-26T11:16:18.486Z"
   },
   {
    "duration": 41,
    "start_time": "2024-05-26T11:16:24.896Z"
   },
   {
    "duration": 595,
    "start_time": "2024-05-26T11:16:25.678Z"
   },
   {
    "duration": 215,
    "start_time": "2024-05-26T11:16:27.052Z"
   },
   {
    "duration": 3,
    "start_time": "2024-05-26T11:16:32.782Z"
   },
   {
    "duration": 12,
    "start_time": "2024-05-26T11:16:33.440Z"
   },
   {
    "duration": 5,
    "start_time": "2024-05-26T11:16:34.468Z"
   },
   {
    "duration": 18,
    "start_time": "2024-05-26T11:16:36.442Z"
   },
   {
    "duration": 23,
    "start_time": "2024-05-26T11:16:37.258Z"
   },
   {
    "duration": 1569,
    "start_time": "2024-05-26T11:16:37.956Z"
   },
   {
    "duration": 1482,
    "start_time": "2024-05-26T11:16:39.528Z"
   },
   {
    "duration": 1934,
    "start_time": "2024-05-26T11:16:41.012Z"
   },
   {
    "duration": 2451,
    "start_time": "2024-05-26T11:16:42.948Z"
   },
   {
    "duration": 2621,
    "start_time": "2024-05-26T11:16:45.401Z"
   },
   {
    "duration": 598,
    "start_time": "2024-05-26T11:16:48.024Z"
   },
   {
    "duration": 1312,
    "start_time": "2024-05-26T11:16:48.624Z"
   },
   {
    "duration": 8,
    "start_time": "2024-05-26T11:16:49.938Z"
   },
   {
    "duration": 1185,
    "start_time": "2024-05-26T11:16:49.948Z"
   },
   {
    "duration": 205,
    "start_time": "2024-05-26T11:16:51.135Z"
   },
   {
    "duration": 572,
    "start_time": "2024-05-26T11:16:51.341Z"
   },
   {
    "duration": 625,
    "start_time": "2024-05-26T11:16:51.915Z"
   },
   {
    "duration": 4,
    "start_time": "2024-05-26T11:16:52.542Z"
   },
   {
    "duration": 204,
    "start_time": "2024-05-26T11:16:52.547Z"
   },
   {
    "duration": 215,
    "start_time": "2024-05-26T11:16:52.753Z"
   },
   {
    "duration": 236,
    "start_time": "2024-05-26T11:16:52.969Z"
   },
   {
    "duration": 1413,
    "start_time": "2024-05-26T11:16:53.210Z"
   },
   {
    "duration": 241,
    "start_time": "2024-05-26T11:16:54.624Z"
   },
   {
    "duration": 32,
    "start_time": "2024-05-26T11:16:54.866Z"
   },
   {
    "duration": 124,
    "start_time": "2024-05-26T11:16:54.904Z"
   },
   {
    "duration": 280,
    "start_time": "2024-05-26T11:16:55.030Z"
   },
   {
    "duration": 100,
    "start_time": "2024-05-26T11:16:55.312Z"
   },
   {
    "duration": 106,
    "start_time": "2024-05-26T11:16:55.414Z"
   },
   {
    "duration": 159,
    "start_time": "2024-05-26T11:16:55.521Z"
   },
   {
    "duration": 3,
    "start_time": "2024-05-26T11:19:33.470Z"
   },
   {
    "duration": 3,
    "start_time": "2024-05-26T11:19:52.489Z"
   },
   {
    "duration": 3,
    "start_time": "2024-05-26T11:20:41.786Z"
   },
   {
    "duration": 3,
    "start_time": "2024-05-26T11:20:42.496Z"
   },
   {
    "duration": 3,
    "start_time": "2024-05-26T11:20:42.966Z"
   },
   {
    "duration": 13,
    "start_time": "2024-05-26T11:20:59.996Z"
   },
   {
    "duration": 21,
    "start_time": "2024-05-26T11:21:29.681Z"
   },
   {
    "duration": 16,
    "start_time": "2024-05-26T11:21:38.386Z"
   },
   {
    "duration": 4,
    "start_time": "2024-05-26T11:21:50.246Z"
   },
   {
    "duration": 11,
    "start_time": "2024-05-26T11:22:09.728Z"
   },
   {
    "duration": 5,
    "start_time": "2024-05-26T11:24:12.206Z"
   },
   {
    "duration": 738,
    "start_time": "2024-05-26T11:24:13.006Z"
   },
   {
    "duration": 20,
    "start_time": "2024-05-26T11:24:13.746Z"
   },
   {
    "duration": 37,
    "start_time": "2024-05-26T11:24:13.768Z"
   },
   {
    "duration": 30,
    "start_time": "2024-05-26T11:24:13.892Z"
   },
   {
    "duration": 34,
    "start_time": "2024-05-26T11:24:14.056Z"
   },
   {
    "duration": 557,
    "start_time": "2024-05-26T11:24:14.229Z"
   },
   {
    "duration": 249,
    "start_time": "2024-05-26T11:24:14.787Z"
   },
   {
    "duration": 3,
    "start_time": "2024-05-26T11:24:15.428Z"
   },
   {
    "duration": 9,
    "start_time": "2024-05-26T11:24:15.770Z"
   },
   {
    "duration": 16,
    "start_time": "2024-05-26T11:24:16.092Z"
   },
   {
    "duration": 14,
    "start_time": "2024-05-26T11:24:16.750Z"
   },
   {
    "duration": 23,
    "start_time": "2024-05-26T11:24:17.236Z"
   },
   {
    "duration": 15,
    "start_time": "2024-05-26T11:24:17.540Z"
   },
   {
    "duration": 19,
    "start_time": "2024-05-26T11:24:17.884Z"
   },
   {
    "duration": 12,
    "start_time": "2024-05-26T11:24:18.048Z"
   },
   {
    "duration": 7,
    "start_time": "2024-05-26T11:24:18.734Z"
   },
   {
    "duration": 1264,
    "start_time": "2024-05-26T11:24:18.869Z"
   },
   {
    "duration": 9,
    "start_time": "2024-05-26T11:24:20.135Z"
   },
   {
    "duration": 1300,
    "start_time": "2024-05-26T11:24:20.145Z"
   },
   {
    "duration": 8,
    "start_time": "2024-05-26T11:24:21.447Z"
   },
   {
    "duration": 1168,
    "start_time": "2024-05-26T11:24:21.457Z"
   },
   {
    "duration": 205,
    "start_time": "2024-05-26T11:24:22.627Z"
   },
   {
    "duration": 579,
    "start_time": "2024-05-26T11:24:22.834Z"
   },
   {
    "duration": 602,
    "start_time": "2024-05-26T11:24:23.415Z"
   },
   {
    "duration": 4,
    "start_time": "2024-05-26T11:24:24.019Z"
   },
   {
    "duration": 7,
    "start_time": "2024-05-26T11:24:24.025Z"
   },
   {
    "duration": 14,
    "start_time": "2024-05-26T11:24:24.034Z"
   },
   {
    "duration": 6,
    "start_time": "2024-05-26T11:24:24.050Z"
   },
   {
    "duration": 1269,
    "start_time": "2024-05-26T11:24:24.057Z"
   },
   {
    "duration": 256,
    "start_time": "2024-05-26T11:24:25.328Z"
   },
   {
    "duration": 28,
    "start_time": "2024-05-26T11:24:26.297Z"
   },
   {
    "duration": 5,
    "start_time": "2024-05-26T11:24:26.472Z"
   },
   {
    "duration": 135,
    "start_time": "2024-05-26T11:24:26.656Z"
   },
   {
    "duration": 3,
    "start_time": "2024-05-26T11:24:27.679Z"
   },
   {
    "duration": 3,
    "start_time": "2024-05-26T11:24:29.562Z"
   },
   {
    "duration": 5,
    "start_time": "2024-05-26T11:24:30.693Z"
   },
   {
    "duration": 18,
    "start_time": "2024-05-26T11:24:32.870Z"
   },
   {
    "duration": 4,
    "start_time": "2024-05-26T11:24:34.148Z"
   },
   {
    "duration": 53,
    "start_time": "2024-05-26T11:25:56.960Z"
   },
   {
    "duration": 8,
    "start_time": "2024-05-26T11:25:58.391Z"
   },
   {
    "duration": 1463,
    "start_time": "2024-05-26T11:26:02.549Z"
   },
   {
    "duration": 845,
    "start_time": "2024-05-26T11:26:04.014Z"
   },
   {
    "duration": 25,
    "start_time": "2024-05-26T11:26:04.861Z"
   },
   {
    "duration": 84,
    "start_time": "2024-05-26T11:26:04.888Z"
   },
   {
    "duration": 23,
    "start_time": "2024-05-26T11:26:06.865Z"
   },
   {
    "duration": 37,
    "start_time": "2024-05-26T11:26:08.007Z"
   },
   {
    "duration": 628,
    "start_time": "2024-05-26T11:26:08.543Z"
   },
   {
    "duration": 272,
    "start_time": "2024-05-26T11:26:09.173Z"
   },
   {
    "duration": 4,
    "start_time": "2024-05-26T11:26:12.073Z"
   },
   {
    "duration": 3,
    "start_time": "2024-05-26T11:26:12.241Z"
   },
   {
    "duration": 3,
    "start_time": "2024-05-26T11:26:13.265Z"
   },
   {
    "duration": 87,
    "start_time": "2024-05-26T11:26:15.017Z"
   },
   {
    "duration": 9,
    "start_time": "2024-05-26T11:26:16.517Z"
   },
   {
    "duration": 4,
    "start_time": "2024-05-26T11:26:47.623Z"
   },
   {
    "duration": 804,
    "start_time": "2024-05-26T11:26:47.838Z"
   },
   {
    "duration": 20,
    "start_time": "2024-05-26T11:26:48.643Z"
   },
   {
    "duration": 38,
    "start_time": "2024-05-26T11:26:48.665Z"
   },
   {
    "duration": 19,
    "start_time": "2024-05-26T11:26:48.706Z"
   },
   {
    "duration": 39,
    "start_time": "2024-05-26T11:26:48.871Z"
   },
   {
    "duration": 581,
    "start_time": "2024-05-26T11:26:49.455Z"
   },
   {
    "duration": 217,
    "start_time": "2024-05-26T11:26:50.121Z"
   },
   {
    "duration": 3,
    "start_time": "2024-05-26T11:26:53.421Z"
   },
   {
    "duration": 10,
    "start_time": "2024-05-26T11:26:54.349Z"
   },
   {
    "duration": 4,
    "start_time": "2024-05-26T11:26:55.549Z"
   },
   {
    "duration": 13,
    "start_time": "2024-05-26T11:26:57.806Z"
   },
   {
    "duration": 27,
    "start_time": "2024-05-26T11:27:00.373Z"
   },
   {
    "duration": 17,
    "start_time": "2024-05-26T11:27:01.279Z"
   },
   {
    "duration": 19,
    "start_time": "2024-05-26T11:27:02.967Z"
   },
   {
    "duration": 14,
    "start_time": "2024-05-26T11:27:03.339Z"
   },
   {
    "duration": 9,
    "start_time": "2024-05-26T11:27:07.501Z"
   },
   {
    "duration": 1286,
    "start_time": "2024-05-26T11:27:07.649Z"
   },
   {
    "duration": 8,
    "start_time": "2024-05-26T11:27:08.938Z"
   },
   {
    "duration": 1321,
    "start_time": "2024-05-26T11:27:08.948Z"
   },
   {
    "duration": 8,
    "start_time": "2024-05-26T11:27:10.271Z"
   },
   {
    "duration": 1365,
    "start_time": "2024-05-26T11:27:10.281Z"
   },
   {
    "duration": 208,
    "start_time": "2024-05-26T11:27:11.648Z"
   },
   {
    "duration": 431,
    "start_time": "2024-05-26T11:27:11.857Z"
   },
   {
    "duration": 527,
    "start_time": "2024-05-26T11:27:12.289Z"
   },
   {
    "duration": 4,
    "start_time": "2024-05-26T11:27:12.819Z"
   },
   {
    "duration": 18,
    "start_time": "2024-05-26T11:27:12.824Z"
   },
   {
    "duration": 103,
    "start_time": "2024-05-26T11:27:12.843Z"
   },
   {
    "duration": 34,
    "start_time": "2024-05-26T11:27:12.947Z"
   },
   {
    "duration": 1345,
    "start_time": "2024-05-26T11:27:12.983Z"
   },
   {
    "duration": 239,
    "start_time": "2024-05-26T11:27:14.330Z"
   },
   {
    "duration": 15,
    "start_time": "2024-05-26T11:27:14.571Z"
   },
   {
    "duration": 19,
    "start_time": "2024-05-26T11:27:14.593Z"
   },
   {
    "duration": 129,
    "start_time": "2024-05-26T11:27:14.614Z"
   },
   {
    "duration": 3,
    "start_time": "2024-05-26T11:27:16.661Z"
   },
   {
    "duration": 5,
    "start_time": "2024-05-26T11:27:16.993Z"
   },
   {
    "duration": 3,
    "start_time": "2024-05-26T11:27:17.369Z"
   },
   {
    "duration": 26,
    "start_time": "2024-05-26T11:27:18.884Z"
   },
   {
    "duration": 9,
    "start_time": "2024-05-26T11:27:19.823Z"
   },
   {
    "duration": 10,
    "start_time": "2024-05-26T11:27:20.450Z"
   },
   {
    "duration": 9,
    "start_time": "2024-05-26T11:28:08.711Z"
   },
   {
    "duration": 3,
    "start_time": "2024-05-26T11:28:42.707Z"
   },
   {
    "duration": 4,
    "start_time": "2024-05-26T11:28:43.507Z"
   },
   {
    "duration": 9,
    "start_time": "2024-05-26T11:29:00.722Z"
   },
   {
    "duration": 3,
    "start_time": "2024-05-26T11:29:14.965Z"
   },
   {
    "duration": 3,
    "start_time": "2024-05-26T11:29:25.367Z"
   },
   {
    "duration": 3,
    "start_time": "2024-05-26T11:29:35.715Z"
   },
   {
    "duration": 3,
    "start_time": "2024-05-26T11:29:52.438Z"
   },
   {
    "duration": 57,
    "start_time": "2024-05-26T11:31:12.358Z"
   },
   {
    "duration": 7,
    "start_time": "2024-05-26T11:31:13.366Z"
   },
   {
    "duration": 1434,
    "start_time": "2024-05-26T11:31:18.042Z"
   },
   {
    "duration": 788,
    "start_time": "2024-05-26T11:31:19.478Z"
   },
   {
    "duration": 22,
    "start_time": "2024-05-26T11:31:20.346Z"
   },
   {
    "duration": 27,
    "start_time": "2024-05-26T11:31:21.883Z"
   },
   {
    "duration": 22,
    "start_time": "2024-05-26T11:31:22.948Z"
   },
   {
    "duration": 45,
    "start_time": "2024-05-26T11:31:23.960Z"
   },
   {
    "duration": 603,
    "start_time": "2024-05-26T11:31:24.764Z"
   },
   {
    "duration": 250,
    "start_time": "2024-05-26T11:31:26.770Z"
   },
   {
    "duration": 4,
    "start_time": "2024-05-26T11:31:28.206Z"
   },
   {
    "duration": 9,
    "start_time": "2024-05-26T11:31:28.584Z"
   },
   {
    "duration": 5,
    "start_time": "2024-05-26T11:31:29.680Z"
   },
   {
    "duration": 13,
    "start_time": "2024-05-26T11:31:30.782Z"
   },
   {
    "duration": 23,
    "start_time": "2024-05-26T11:31:31.660Z"
   },
   {
    "duration": 13,
    "start_time": "2024-05-26T11:31:32.228Z"
   },
   {
    "duration": 20,
    "start_time": "2024-05-26T11:31:32.658Z"
   },
   {
    "duration": 14,
    "start_time": "2024-05-26T11:31:32.850Z"
   },
   {
    "duration": 9,
    "start_time": "2024-05-26T11:31:33.530Z"
   },
   {
    "duration": 1184,
    "start_time": "2024-05-26T11:31:33.654Z"
   },
   {
    "duration": 8,
    "start_time": "2024-05-26T11:31:34.840Z"
   },
   {
    "duration": 1300,
    "start_time": "2024-05-26T11:31:34.849Z"
   },
   {
    "duration": 7,
    "start_time": "2024-05-26T11:31:36.152Z"
   },
   {
    "duration": 1456,
    "start_time": "2024-05-26T11:31:36.161Z"
   },
   {
    "duration": 390,
    "start_time": "2024-05-26T11:31:37.618Z"
   },
   {
    "duration": 397,
    "start_time": "2024-05-26T11:31:38.010Z"
   },
   {
    "duration": 626,
    "start_time": "2024-05-26T11:31:38.409Z"
   },
   {
    "duration": 4,
    "start_time": "2024-05-26T11:31:41.024Z"
   },
   {
    "duration": 4,
    "start_time": "2024-05-26T11:31:42.482Z"
   },
   {
    "duration": 5,
    "start_time": "2024-05-26T11:31:42.846Z"
   },
   {
    "duration": 6,
    "start_time": "2024-05-26T11:31:43.792Z"
   },
   {
    "duration": 1218,
    "start_time": "2024-05-26T11:31:44.806Z"
   },
   {
    "duration": 231,
    "start_time": "2024-05-26T11:31:51.151Z"
   },
   {
    "duration": 18,
    "start_time": "2024-05-26T11:31:52.871Z"
   },
   {
    "duration": 5,
    "start_time": "2024-05-26T11:31:53.632Z"
   },
   {
    "duration": 137,
    "start_time": "2024-05-26T11:31:54.506Z"
   },
   {
    "duration": 15,
    "start_time": "2024-05-26T11:31:56.419Z"
   },
   {
    "duration": 4,
    "start_time": "2024-05-26T11:31:57.244Z"
   },
   {
    "duration": 130,
    "start_time": "2024-05-26T11:31:57.697Z"
   },
   {
    "duration": 3,
    "start_time": "2024-05-26T11:32:00.287Z"
   },
   {
    "duration": 3,
    "start_time": "2024-05-26T11:32:00.870Z"
   },
   {
    "duration": 11,
    "start_time": "2024-05-26T11:32:03.140Z"
   },
   {
    "duration": 4,
    "start_time": "2024-05-26T11:32:04.003Z"
   },
   {
    "duration": 4,
    "start_time": "2024-05-26T11:32:05.124Z"
   },
   {
    "duration": 11,
    "start_time": "2024-05-26T11:32:05.900Z"
   },
   {
    "duration": 4,
    "start_time": "2024-05-26T11:32:06.602Z"
   },
   {
    "duration": 1463,
    "start_time": "2024-05-26T11:33:21.770Z"
   },
   {
    "duration": 814,
    "start_time": "2024-05-26T11:33:23.235Z"
   },
   {
    "duration": 22,
    "start_time": "2024-05-26T11:33:24.051Z"
   },
   {
    "duration": 23,
    "start_time": "2024-05-26T11:33:24.956Z"
   },
   {
    "duration": 23,
    "start_time": "2024-05-26T11:33:25.424Z"
   },
   {
    "duration": 41,
    "start_time": "2024-05-26T11:33:25.677Z"
   },
   {
    "duration": 567,
    "start_time": "2024-05-26T11:33:25.854Z"
   },
   {
    "duration": 220,
    "start_time": "2024-05-26T11:33:26.422Z"
   },
   {
    "duration": 2,
    "start_time": "2024-05-26T11:33:27.327Z"
   },
   {
    "duration": 9,
    "start_time": "2024-05-26T11:33:27.720Z"
   },
   {
    "duration": 4,
    "start_time": "2024-05-26T11:33:28.110Z"
   },
   {
    "duration": 13,
    "start_time": "2024-05-26T11:33:28.922Z"
   },
   {
    "duration": 29,
    "start_time": "2024-05-26T11:33:29.476Z"
   },
   {
    "duration": 14,
    "start_time": "2024-05-26T11:33:29.846Z"
   },
   {
    "duration": 20,
    "start_time": "2024-05-26T11:33:30.232Z"
   },
   {
    "duration": 14,
    "start_time": "2024-05-26T11:33:30.446Z"
   },
   {
    "duration": 7,
    "start_time": "2024-05-26T11:33:31.237Z"
   },
   {
    "duration": 1309,
    "start_time": "2024-05-26T11:33:31.420Z"
   },
   {
    "duration": 7,
    "start_time": "2024-05-26T11:33:32.731Z"
   },
   {
    "duration": 1302,
    "start_time": "2024-05-26T11:33:32.740Z"
   },
   {
    "duration": 7,
    "start_time": "2024-05-26T11:33:34.044Z"
   },
   {
    "duration": 1178,
    "start_time": "2024-05-26T11:33:34.053Z"
   },
   {
    "duration": 309,
    "start_time": "2024-05-26T11:33:35.233Z"
   },
   {
    "duration": 472,
    "start_time": "2024-05-26T11:33:35.544Z"
   },
   {
    "duration": 607,
    "start_time": "2024-05-26T11:33:36.018Z"
   },
   {
    "duration": 4,
    "start_time": "2024-05-26T11:33:36.627Z"
   },
   {
    "duration": 22,
    "start_time": "2024-05-26T11:33:36.634Z"
   },
   {
    "duration": 17,
    "start_time": "2024-05-26T11:33:36.657Z"
   },
   {
    "duration": 7,
    "start_time": "2024-05-26T11:33:36.676Z"
   },
   {
    "duration": 1480,
    "start_time": "2024-05-26T11:33:36.685Z"
   },
   {
    "duration": 257,
    "start_time": "2024-05-26T11:33:38.167Z"
   },
   {
    "duration": 22,
    "start_time": "2024-05-26T11:33:38.426Z"
   },
   {
    "duration": 26,
    "start_time": "2024-05-26T11:33:38.450Z"
   },
   {
    "duration": 175,
    "start_time": "2024-05-26T11:33:38.478Z"
   },
   {
    "duration": 4,
    "start_time": "2024-05-26T11:33:38.656Z"
   },
   {
    "duration": 9,
    "start_time": "2024-05-26T11:33:38.662Z"
   },
   {
    "duration": 13,
    "start_time": "2024-05-26T11:33:40.944Z"
   },
   {
    "duration": 3,
    "start_time": "2024-05-26T11:33:42.142Z"
   },
   {
    "duration": 3,
    "start_time": "2024-05-26T11:33:42.848Z"
   },
   {
    "duration": 4,
    "start_time": "2024-05-26T11:33:43.584Z"
   },
   {
    "duration": 5,
    "start_time": "2024-05-26T11:33:44.170Z"
   },
   {
    "duration": 0,
    "start_time": "2024-05-26T11:35:33.429Z"
   },
   {
    "duration": 0,
    "start_time": "2024-05-26T11:35:33.431Z"
   },
   {
    "duration": 0,
    "start_time": "2024-05-26T11:35:33.432Z"
   },
   {
    "duration": 0,
    "start_time": "2024-05-26T11:35:33.433Z"
   },
   {
    "duration": 0,
    "start_time": "2024-05-26T11:35:33.434Z"
   },
   {
    "duration": 0,
    "start_time": "2024-05-26T11:35:33.435Z"
   },
   {
    "duration": 1,
    "start_time": "2024-05-26T11:35:33.436Z"
   },
   {
    "duration": 0,
    "start_time": "2024-05-26T11:35:33.437Z"
   },
   {
    "duration": 0,
    "start_time": "2024-05-26T11:35:33.439Z"
   },
   {
    "duration": 0,
    "start_time": "2024-05-26T11:35:33.440Z"
   },
   {
    "duration": 0,
    "start_time": "2024-05-26T11:35:33.441Z"
   },
   {
    "duration": 0,
    "start_time": "2024-05-26T11:35:33.443Z"
   },
   {
    "duration": 0,
    "start_time": "2024-05-26T11:35:33.444Z"
   },
   {
    "duration": 0,
    "start_time": "2024-05-26T11:35:33.445Z"
   },
   {
    "duration": 0,
    "start_time": "2024-05-26T11:35:33.446Z"
   },
   {
    "duration": 0,
    "start_time": "2024-05-26T11:35:33.447Z"
   },
   {
    "duration": 1,
    "start_time": "2024-05-26T11:35:33.448Z"
   },
   {
    "duration": 0,
    "start_time": "2024-05-26T11:35:33.449Z"
   },
   {
    "duration": 0,
    "start_time": "2024-05-26T11:35:33.451Z"
   },
   {
    "duration": 0,
    "start_time": "2024-05-26T11:35:33.451Z"
   },
   {
    "duration": 0,
    "start_time": "2024-05-26T11:35:33.495Z"
   },
   {
    "duration": 0,
    "start_time": "2024-05-26T11:35:33.496Z"
   },
   {
    "duration": 0,
    "start_time": "2024-05-26T11:35:33.497Z"
   },
   {
    "duration": 0,
    "start_time": "2024-05-26T11:35:33.498Z"
   },
   {
    "duration": 0,
    "start_time": "2024-05-26T11:35:33.498Z"
   },
   {
    "duration": 0,
    "start_time": "2024-05-26T11:35:33.499Z"
   },
   {
    "duration": 0,
    "start_time": "2024-05-26T11:35:33.500Z"
   },
   {
    "duration": 0,
    "start_time": "2024-05-26T11:35:33.500Z"
   },
   {
    "duration": 0,
    "start_time": "2024-05-26T11:35:33.503Z"
   },
   {
    "duration": 0,
    "start_time": "2024-05-26T11:35:33.510Z"
   },
   {
    "duration": 0,
    "start_time": "2024-05-26T11:35:33.511Z"
   },
   {
    "duration": 0,
    "start_time": "2024-05-26T11:35:33.512Z"
   },
   {
    "duration": 0,
    "start_time": "2024-05-26T11:35:33.513Z"
   },
   {
    "duration": 0,
    "start_time": "2024-05-26T11:35:33.514Z"
   },
   {
    "duration": 0,
    "start_time": "2024-05-26T11:35:33.524Z"
   },
   {
    "duration": 0,
    "start_time": "2024-05-26T11:35:33.525Z"
   },
   {
    "duration": 0,
    "start_time": "2024-05-26T11:35:33.526Z"
   },
   {
    "duration": 0,
    "start_time": "2024-05-26T11:35:33.527Z"
   },
   {
    "duration": 0,
    "start_time": "2024-05-26T11:35:33.527Z"
   },
   {
    "duration": 0,
    "start_time": "2024-05-26T11:35:33.528Z"
   },
   {
    "duration": 0,
    "start_time": "2024-05-26T11:35:33.529Z"
   },
   {
    "duration": 0,
    "start_time": "2024-05-26T11:35:33.530Z"
   },
   {
    "duration": 1462,
    "start_time": "2024-05-26T11:35:43.687Z"
   },
   {
    "duration": 813,
    "start_time": "2024-05-26T11:35:45.151Z"
   },
   {
    "duration": 40,
    "start_time": "2024-05-26T11:35:45.966Z"
   },
   {
    "duration": 22,
    "start_time": "2024-05-26T11:35:46.008Z"
   },
   {
    "duration": 23,
    "start_time": "2024-05-26T11:35:46.032Z"
   },
   {
    "duration": 50,
    "start_time": "2024-05-26T11:35:46.056Z"
   },
   {
    "duration": 575,
    "start_time": "2024-05-26T11:35:46.116Z"
   },
   {
    "duration": 215,
    "start_time": "2024-05-26T11:35:47.127Z"
   },
   {
    "duration": 3,
    "start_time": "2024-05-26T11:35:48.307Z"
   },
   {
    "duration": 10,
    "start_time": "2024-05-26T11:35:48.717Z"
   },
   {
    "duration": 4,
    "start_time": "2024-05-26T11:35:49.107Z"
   },
   {
    "duration": 13,
    "start_time": "2024-05-26T11:35:49.943Z"
   },
   {
    "duration": 31,
    "start_time": "2024-05-26T11:35:50.607Z"
   },
   {
    "duration": 20,
    "start_time": "2024-05-26T11:35:51.061Z"
   },
   {
    "duration": 22,
    "start_time": "2024-05-26T11:35:51.483Z"
   },
   {
    "duration": 12,
    "start_time": "2024-05-26T11:35:51.735Z"
   },
   {
    "duration": 6,
    "start_time": "2024-05-26T11:35:53.677Z"
   },
   {
    "duration": 1247,
    "start_time": "2024-05-26T11:35:53.979Z"
   },
   {
    "duration": 8,
    "start_time": "2024-05-26T11:35:55.228Z"
   },
   {
    "duration": 1305,
    "start_time": "2024-05-26T11:35:55.238Z"
   },
   {
    "duration": 7,
    "start_time": "2024-05-26T11:35:56.545Z"
   },
   {
    "duration": 1188,
    "start_time": "2024-05-26T11:35:56.553Z"
   },
   {
    "duration": 273,
    "start_time": "2024-05-26T11:35:57.743Z"
   },
   {
    "duration": 394,
    "start_time": "2024-05-26T11:35:58.018Z"
   },
   {
    "duration": 657,
    "start_time": "2024-05-26T11:35:58.414Z"
   },
   {
    "duration": 6,
    "start_time": "2024-05-26T11:35:59.072Z"
   },
   {
    "duration": 19,
    "start_time": "2024-05-26T11:35:59.080Z"
   },
   {
    "duration": 7,
    "start_time": "2024-05-26T11:35:59.101Z"
   },
   {
    "duration": 4,
    "start_time": "2024-05-26T11:35:59.110Z"
   },
   {
    "duration": 1403,
    "start_time": "2024-05-26T11:35:59.116Z"
   },
   {
    "duration": 242,
    "start_time": "2024-05-26T11:36:00.521Z"
   },
   {
    "duration": 15,
    "start_time": "2024-05-26T11:36:00.765Z"
   },
   {
    "duration": 26,
    "start_time": "2024-05-26T11:36:00.782Z"
   },
   {
    "duration": 171,
    "start_time": "2024-05-26T11:36:00.810Z"
   },
   {
    "duration": 3,
    "start_time": "2024-05-26T11:36:00.984Z"
   },
   {
    "duration": 25,
    "start_time": "2024-05-26T11:36:00.993Z"
   },
   {
    "duration": 13,
    "start_time": "2024-05-26T11:36:03.891Z"
   },
   {
    "duration": 3,
    "start_time": "2024-05-26T11:36:06.781Z"
   },
   {
    "duration": 3,
    "start_time": "2024-05-26T11:36:08.009Z"
   },
   {
    "duration": 3,
    "start_time": "2024-05-26T11:36:09.906Z"
   },
   {
    "duration": 3,
    "start_time": "2024-05-26T11:36:11.625Z"
   },
   {
    "duration": 52,
    "start_time": "2024-05-26T11:37:49.764Z"
   },
   {
    "duration": 9,
    "start_time": "2024-05-26T11:37:52.272Z"
   },
   {
    "duration": 7,
    "start_time": "2024-05-26T11:37:52.924Z"
   },
   {
    "duration": 1421,
    "start_time": "2024-05-26T11:37:56.151Z"
   },
   {
    "duration": 858,
    "start_time": "2024-05-26T11:37:57.574Z"
   },
   {
    "duration": 26,
    "start_time": "2024-05-26T11:37:58.434Z"
   },
   {
    "duration": 39,
    "start_time": "2024-05-26T11:37:58.462Z"
   },
   {
    "duration": 36,
    "start_time": "2024-05-26T11:37:58.503Z"
   },
   {
    "duration": 35,
    "start_time": "2024-05-26T11:38:02.414Z"
   },
   {
    "duration": 634,
    "start_time": "2024-05-26T11:38:02.774Z"
   },
   {
    "duration": 252,
    "start_time": "2024-05-26T11:38:03.411Z"
   },
   {
    "duration": 3,
    "start_time": "2024-05-26T11:38:06.662Z"
   },
   {
    "duration": 3,
    "start_time": "2024-05-26T11:38:07.723Z"
   },
   {
    "duration": 8,
    "start_time": "2024-05-26T11:38:09.806Z"
   },
   {
    "duration": 3,
    "start_time": "2024-05-26T11:38:10.342Z"
   },
   {
    "duration": 3,
    "start_time": "2024-05-26T11:38:11.138Z"
   },
   {
    "duration": 4,
    "start_time": "2024-05-26T11:38:11.722Z"
   },
   {
    "duration": 5,
    "start_time": "2024-05-26T11:38:12.186Z"
   },
   {
    "duration": 399,
    "start_time": "2024-05-26T11:38:12.510Z"
   },
   {
    "duration": 11,
    "start_time": "2024-05-26T11:38:13.000Z"
   },
   {
    "duration": 10,
    "start_time": "2024-05-26T11:38:13.618Z"
   },
   {
    "duration": 21,
    "start_time": "2024-05-26T11:38:14.211Z"
   },
   {
    "duration": 4,
    "start_time": "2024-05-26T11:40:29.168Z"
   },
   {
    "duration": 790,
    "start_time": "2024-05-26T11:40:29.633Z"
   },
   {
    "duration": 20,
    "start_time": "2024-05-26T11:40:31.341Z"
   },
   {
    "duration": 24,
    "start_time": "2024-05-26T11:40:32.779Z"
   },
   {
    "duration": 25,
    "start_time": "2024-05-26T11:40:33.785Z"
   },
   {
    "duration": 42,
    "start_time": "2024-05-26T11:40:34.497Z"
   },
   {
    "duration": 580,
    "start_time": "2024-05-26T11:40:35.242Z"
   },
   {
    "duration": 223,
    "start_time": "2024-05-26T11:40:36.529Z"
   },
   {
    "duration": 3,
    "start_time": "2024-05-26T11:40:38.913Z"
   },
   {
    "duration": 10,
    "start_time": "2024-05-26T11:40:39.468Z"
   },
   {
    "duration": 4,
    "start_time": "2024-05-26T11:40:40.965Z"
   },
   {
    "duration": 13,
    "start_time": "2024-05-26T11:40:42.844Z"
   },
   {
    "duration": 36,
    "start_time": "2024-05-26T11:40:44.173Z"
   },
   {
    "duration": 15,
    "start_time": "2024-05-26T11:40:45.042Z"
   },
   {
    "duration": 25,
    "start_time": "2024-05-26T11:40:45.420Z"
   },
   {
    "duration": 16,
    "start_time": "2024-05-26T11:40:45.860Z"
   },
   {
    "duration": 9,
    "start_time": "2024-05-26T11:40:47.552Z"
   },
   {
    "duration": 1109,
    "start_time": "2024-05-26T11:40:47.729Z"
   },
   {
    "duration": 7,
    "start_time": "2024-05-26T11:40:48.840Z"
   },
   {
    "duration": 1184,
    "start_time": "2024-05-26T11:40:48.848Z"
   },
   {
    "duration": 7,
    "start_time": "2024-05-26T11:40:50.034Z"
   },
   {
    "duration": 1283,
    "start_time": "2024-05-26T11:40:50.042Z"
   },
   {
    "duration": 222,
    "start_time": "2024-05-26T11:40:51.327Z"
   },
   {
    "duration": 453,
    "start_time": "2024-05-26T11:40:51.551Z"
   },
   {
    "duration": 524,
    "start_time": "2024-05-26T11:40:52.010Z"
   },
   {
    "duration": 5,
    "start_time": "2024-05-26T11:40:52.537Z"
   },
   {
    "duration": 5,
    "start_time": "2024-05-26T11:40:52.939Z"
   },
   {
    "duration": 5,
    "start_time": "2024-05-26T11:40:53.420Z"
   },
   {
    "duration": 5,
    "start_time": "2024-05-26T11:40:53.946Z"
   },
   {
    "duration": 1350,
    "start_time": "2024-05-26T11:40:54.206Z"
   },
   {
    "duration": 264,
    "start_time": "2024-05-26T11:40:55.561Z"
   },
   {
    "duration": 17,
    "start_time": "2024-05-26T11:40:56.330Z"
   },
   {
    "duration": 5,
    "start_time": "2024-05-26T11:40:56.517Z"
   },
   {
    "duration": 157,
    "start_time": "2024-05-26T11:40:56.713Z"
   },
   {
    "duration": 3,
    "start_time": "2024-05-26T11:41:00.284Z"
   },
   {
    "duration": 2,
    "start_time": "2024-05-26T11:41:01.229Z"
   },
   {
    "duration": 11,
    "start_time": "2024-05-26T11:41:02.036Z"
   },
   {
    "duration": 3,
    "start_time": "2024-05-26T11:41:02.220Z"
   },
   {
    "duration": 3,
    "start_time": "2024-05-26T11:41:02.428Z"
   },
   {
    "duration": 3,
    "start_time": "2024-05-26T11:41:02.622Z"
   },
   {
    "duration": 3,
    "start_time": "2024-05-26T11:41:03.279Z"
   },
   {
    "duration": 46,
    "start_time": "2024-05-26T11:47:14.131Z"
   },
   {
    "duration": 1522,
    "start_time": "2024-05-26T11:47:18.623Z"
   },
   {
    "duration": 808,
    "start_time": "2024-05-26T11:47:29.735Z"
   },
   {
    "duration": 28,
    "start_time": "2024-05-26T11:47:30.591Z"
   },
   {
    "duration": 24,
    "start_time": "2024-05-26T11:47:31.243Z"
   },
   {
    "duration": 21,
    "start_time": "2024-05-26T11:47:32.211Z"
   },
   {
    "duration": 41,
    "start_time": "2024-05-26T11:47:32.773Z"
   },
   {
    "duration": 567,
    "start_time": "2024-05-26T11:47:33.093Z"
   },
   {
    "duration": 226,
    "start_time": "2024-05-26T11:47:33.694Z"
   },
   {
    "duration": 3,
    "start_time": "2024-05-26T11:47:35.094Z"
   },
   {
    "duration": 10,
    "start_time": "2024-05-26T11:47:35.424Z"
   },
   {
    "duration": 5,
    "start_time": "2024-05-26T11:47:35.729Z"
   },
   {
    "duration": 19,
    "start_time": "2024-05-26T11:47:36.394Z"
   },
   {
    "duration": 30,
    "start_time": "2024-05-26T11:47:36.879Z"
   },
   {
    "duration": 18,
    "start_time": "2024-05-26T11:47:37.221Z"
   },
   {
    "duration": 20,
    "start_time": "2024-05-26T11:47:37.564Z"
   },
   {
    "duration": 12,
    "start_time": "2024-05-26T11:47:37.741Z"
   },
   {
    "duration": 8,
    "start_time": "2024-05-26T11:47:38.710Z"
   },
   {
    "duration": 1373,
    "start_time": "2024-05-26T11:47:38.881Z"
   },
   {
    "duration": 9,
    "start_time": "2024-05-26T11:47:40.256Z"
   },
   {
    "duration": 1167,
    "start_time": "2024-05-26T11:47:40.267Z"
   },
   {
    "duration": 9,
    "start_time": "2024-05-26T11:47:41.436Z"
   },
   {
    "duration": 1075,
    "start_time": "2024-05-26T11:47:41.447Z"
   },
   {
    "duration": 281,
    "start_time": "2024-05-26T11:47:42.524Z"
   },
   {
    "duration": 403,
    "start_time": "2024-05-26T11:47:42.806Z"
   },
   {
    "duration": 608,
    "start_time": "2024-05-26T11:47:43.211Z"
   },
   {
    "duration": 5,
    "start_time": "2024-05-26T11:47:43.820Z"
   },
   {
    "duration": 4,
    "start_time": "2024-05-26T11:47:43.827Z"
   },
   {
    "duration": 11,
    "start_time": "2024-05-26T11:47:43.833Z"
   },
   {
    "duration": 10,
    "start_time": "2024-05-26T11:47:43.845Z"
   },
   {
    "duration": 1280,
    "start_time": "2024-05-26T11:47:43.856Z"
   },
   {
    "duration": 244,
    "start_time": "2024-05-26T11:47:45.138Z"
   },
   {
    "duration": 30,
    "start_time": "2024-05-26T11:47:45.384Z"
   },
   {
    "duration": 5,
    "start_time": "2024-05-26T11:47:45.416Z"
   },
   {
    "duration": 154,
    "start_time": "2024-05-26T11:47:45.422Z"
   },
   {
    "duration": 3,
    "start_time": "2024-05-26T11:47:45.751Z"
   },
   {
    "duration": 3,
    "start_time": "2024-05-26T11:47:46.457Z"
   },
   {
    "duration": 10,
    "start_time": "2024-05-26T11:47:51.765Z"
   },
   {
    "duration": 3,
    "start_time": "2024-05-26T11:47:52.424Z"
   },
   {
    "duration": 3,
    "start_time": "2024-05-26T11:48:25.021Z"
   },
   {
    "duration": 2,
    "start_time": "2024-05-26T11:48:25.909Z"
   },
   {
    "duration": 3,
    "start_time": "2024-05-26T11:48:26.927Z"
   },
   {
    "duration": 2,
    "start_time": "2024-05-26T11:48:57.173Z"
   },
   {
    "duration": 3,
    "start_time": "2024-05-26T11:48:57.798Z"
   },
   {
    "duration": 3,
    "start_time": "2024-05-26T11:48:58.588Z"
   },
   {
    "duration": 3,
    "start_time": "2024-05-26T11:49:34.646Z"
   },
   {
    "duration": 4,
    "start_time": "2024-05-26T11:49:37.814Z"
   },
   {
    "duration": 3,
    "start_time": "2024-05-26T11:49:38.870Z"
   },
   {
    "duration": 1381,
    "start_time": "2024-05-26T11:51:10.843Z"
   },
   {
    "duration": 798,
    "start_time": "2024-05-26T11:51:12.226Z"
   },
   {
    "duration": 23,
    "start_time": "2024-05-26T11:51:13.025Z"
   },
   {
    "duration": 57,
    "start_time": "2024-05-26T11:51:13.050Z"
   },
   {
    "duration": 29,
    "start_time": "2024-05-26T11:51:13.109Z"
   },
   {
    "duration": 37,
    "start_time": "2024-05-26T11:51:13.140Z"
   },
   {
    "duration": 849,
    "start_time": "2024-05-26T11:51:13.179Z"
   },
   {
    "duration": 495,
    "start_time": "2024-05-26T11:51:14.030Z"
   },
   {
    "duration": 3,
    "start_time": "2024-05-26T11:51:14.526Z"
   },
   {
    "duration": 14,
    "start_time": "2024-05-26T11:51:14.532Z"
   },
   {
    "duration": 54,
    "start_time": "2024-05-26T11:51:14.548Z"
   },
   {
    "duration": 13,
    "start_time": "2024-05-26T11:51:14.608Z"
   },
   {
    "duration": 87,
    "start_time": "2024-05-26T11:51:14.622Z"
   },
   {
    "duration": 14,
    "start_time": "2024-05-26T11:51:14.710Z"
   },
   {
    "duration": 76,
    "start_time": "2024-05-26T11:51:14.725Z"
   },
   {
    "duration": 16,
    "start_time": "2024-05-26T11:51:14.805Z"
   },
   {
    "duration": 26,
    "start_time": "2024-05-26T11:51:14.823Z"
   },
   {
    "duration": 1368,
    "start_time": "2024-05-26T11:51:14.851Z"
   },
   {
    "duration": 7,
    "start_time": "2024-05-26T11:51:16.221Z"
   },
   {
    "duration": 1391,
    "start_time": "2024-05-26T11:51:16.229Z"
   },
   {
    "duration": 7,
    "start_time": "2024-05-26T11:51:17.621Z"
   },
   {
    "duration": 1205,
    "start_time": "2024-05-26T11:51:17.630Z"
   },
   {
    "duration": 297,
    "start_time": "2024-05-26T11:51:18.837Z"
   },
   {
    "duration": 471,
    "start_time": "2024-05-26T11:51:19.136Z"
   },
   {
    "duration": 530,
    "start_time": "2024-05-26T11:51:19.609Z"
   },
   {
    "duration": 6,
    "start_time": "2024-05-26T11:51:20.141Z"
   },
   {
    "duration": 7,
    "start_time": "2024-05-26T11:51:20.149Z"
   },
   {
    "duration": 61,
    "start_time": "2024-05-26T11:51:20.160Z"
   },
   {
    "duration": 5,
    "start_time": "2024-05-26T11:51:20.223Z"
   },
   {
    "duration": 1195,
    "start_time": "2024-05-26T11:51:20.229Z"
   },
   {
    "duration": 255,
    "start_time": "2024-05-26T11:51:21.426Z"
   },
   {
    "duration": 31,
    "start_time": "2024-05-26T11:51:21.683Z"
   },
   {
    "duration": 4,
    "start_time": "2024-05-26T11:51:21.716Z"
   },
   {
    "duration": 153,
    "start_time": "2024-05-26T11:51:21.722Z"
   },
   {
    "duration": 3,
    "start_time": "2024-05-26T11:51:21.876Z"
   },
   {
    "duration": 26,
    "start_time": "2024-05-26T11:51:21.880Z"
   },
   {
    "duration": 70,
    "start_time": "2024-05-26T11:51:21.908Z"
   },
   {
    "duration": 35,
    "start_time": "2024-05-26T11:51:21.981Z"
   },
   {
    "duration": 14,
    "start_time": "2024-05-26T11:51:22.017Z"
   },
   {
    "duration": 7,
    "start_time": "2024-05-26T11:51:22.033Z"
   },
   {
    "duration": 11,
    "start_time": "2024-05-26T11:51:22.042Z"
   },
   {
    "duration": 7,
    "start_time": "2024-05-26T11:51:22.055Z"
   },
   {
    "duration": 6,
    "start_time": "2024-05-26T11:51:22.063Z"
   },
   {
    "duration": 5,
    "start_time": "2024-05-26T11:51:22.070Z"
   },
   {
    "duration": 15,
    "start_time": "2024-05-26T11:51:22.076Z"
   },
   {
    "duration": 14,
    "start_time": "2024-05-26T11:51:22.092Z"
   },
   {
    "duration": 6,
    "start_time": "2024-05-26T11:51:22.107Z"
   },
   {
    "duration": 51,
    "start_time": "2024-05-26T11:51:36.171Z"
   },
   {
    "duration": 1474,
    "start_time": "2024-05-26T11:51:38.482Z"
   },
   {
    "duration": 783,
    "start_time": "2024-05-26T11:51:39.958Z"
   },
   {
    "duration": 23,
    "start_time": "2024-05-26T11:51:40.743Z"
   },
   {
    "duration": 21,
    "start_time": "2024-05-26T11:51:41.105Z"
   },
   {
    "duration": 21,
    "start_time": "2024-05-26T11:51:42.107Z"
   },
   {
    "duration": 35,
    "start_time": "2024-05-26T11:51:42.303Z"
   },
   {
    "duration": 599,
    "start_time": "2024-05-26T11:51:42.497Z"
   },
   {
    "duration": 215,
    "start_time": "2024-05-26T11:51:43.108Z"
   },
   {
    "duration": 2,
    "start_time": "2024-05-26T11:51:43.724Z"
   },
   {
    "duration": 10,
    "start_time": "2024-05-26T11:51:44.064Z"
   },
   {
    "duration": 17,
    "start_time": "2024-05-26T11:51:44.391Z"
   },
   {
    "duration": 13,
    "start_time": "2024-05-26T11:51:45.075Z"
   },
   {
    "duration": 27,
    "start_time": "2024-05-26T11:51:45.584Z"
   },
   {
    "duration": 16,
    "start_time": "2024-05-26T11:51:48.720Z"
   },
   {
    "duration": 19,
    "start_time": "2024-05-26T11:51:49.266Z"
   },
   {
    "duration": 15,
    "start_time": "2024-05-26T11:51:49.592Z"
   },
   {
    "duration": 14,
    "start_time": "2024-05-26T11:52:28.681Z"
   },
   {
    "duration": 7,
    "start_time": "2024-05-26T11:52:30.848Z"
   },
   {
    "duration": 1129,
    "start_time": "2024-05-26T11:52:31.498Z"
   },
   {
    "duration": 7,
    "start_time": "2024-05-26T11:52:32.629Z"
   },
   {
    "duration": 1266,
    "start_time": "2024-05-26T11:52:32.960Z"
   },
   {
    "duration": 8,
    "start_time": "2024-05-26T11:52:34.227Z"
   },
   {
    "duration": 1321,
    "start_time": "2024-05-26T11:52:34.236Z"
   },
   {
    "duration": 272,
    "start_time": "2024-05-26T11:52:35.559Z"
   },
   {
    "duration": 464,
    "start_time": "2024-05-26T11:52:35.833Z"
   },
   {
    "duration": 507,
    "start_time": "2024-05-26T11:52:36.299Z"
   },
   {
    "duration": 4,
    "start_time": "2024-05-26T11:52:36.808Z"
   },
   {
    "duration": 41,
    "start_time": "2024-05-26T11:52:36.814Z"
   },
   {
    "duration": 18,
    "start_time": "2024-05-26T11:52:36.857Z"
   },
   {
    "duration": 8,
    "start_time": "2024-05-26T11:52:36.877Z"
   },
   {
    "duration": 1226,
    "start_time": "2024-05-26T11:52:36.886Z"
   },
   {
    "duration": 230,
    "start_time": "2024-05-26T11:52:38.113Z"
   },
   {
    "duration": 20,
    "start_time": "2024-05-26T11:52:38.345Z"
   },
   {
    "duration": 38,
    "start_time": "2024-05-26T11:52:38.367Z"
   },
   {
    "duration": 199,
    "start_time": "2024-05-26T11:52:38.406Z"
   },
   {
    "duration": 3,
    "start_time": "2024-05-26T11:52:40.109Z"
   },
   {
    "duration": 3,
    "start_time": "2024-05-26T11:52:40.567Z"
   },
   {
    "duration": 11,
    "start_time": "2024-05-26T11:52:42.385Z"
   },
   {
    "duration": 3,
    "start_time": "2024-05-26T11:52:43.045Z"
   },
   {
    "duration": 2,
    "start_time": "2024-05-26T11:52:43.928Z"
   },
   {
    "duration": 5,
    "start_time": "2024-05-26T11:52:44.613Z"
   },
   {
    "duration": 3,
    "start_time": "2024-05-26T11:52:45.357Z"
   },
   {
    "duration": 3,
    "start_time": "2024-05-26T11:52:46.161Z"
   },
   {
    "duration": 3,
    "start_time": "2024-05-26T11:52:47.909Z"
   },
   {
    "duration": 3,
    "start_time": "2024-05-26T11:52:48.977Z"
   },
   {
    "duration": 3,
    "start_time": "2024-05-26T11:52:49.587Z"
   },
   {
    "duration": 3,
    "start_time": "2024-05-26T11:52:50.801Z"
   },
   {
    "duration": 3,
    "start_time": "2024-05-26T11:52:51.741Z"
   },
   {
    "duration": 1449,
    "start_time": "2024-05-26T11:57:34.608Z"
   },
   {
    "duration": 811,
    "start_time": "2024-05-26T11:57:36.059Z"
   },
   {
    "duration": 1387,
    "start_time": "2024-05-26T11:57:46.536Z"
   },
   {
    "duration": 804,
    "start_time": "2024-05-26T11:57:47.925Z"
   },
   {
    "duration": 22,
    "start_time": "2024-05-26T11:58:16.608Z"
   },
   {
    "duration": 18,
    "start_time": "2024-05-26T11:58:17.220Z"
   },
   {
    "duration": 21,
    "start_time": "2024-05-26T11:58:17.934Z"
   },
   {
    "duration": 46,
    "start_time": "2024-05-26T11:58:18.660Z"
   },
   {
    "duration": 592,
    "start_time": "2024-05-26T11:58:19.416Z"
   },
   {
    "duration": 225,
    "start_time": "2024-05-26T11:58:20.602Z"
   },
   {
    "duration": 3,
    "start_time": "2024-05-26T11:58:22.163Z"
   },
   {
    "duration": 18,
    "start_time": "2024-05-26T11:58:22.503Z"
   },
   {
    "duration": 4,
    "start_time": "2024-05-26T11:58:22.828Z"
   },
   {
    "duration": 13,
    "start_time": "2024-05-26T11:58:23.472Z"
   },
   {
    "duration": 26,
    "start_time": "2024-05-26T11:58:23.992Z"
   },
   {
    "duration": 16,
    "start_time": "2024-05-26T11:58:24.329Z"
   },
   {
    "duration": 20,
    "start_time": "2024-05-26T11:58:24.656Z"
   },
   {
    "duration": 13,
    "start_time": "2024-05-26T11:58:24.824Z"
   },
   {
    "duration": 7,
    "start_time": "2024-05-26T11:58:25.487Z"
   },
   {
    "duration": 1092,
    "start_time": "2024-05-26T11:58:25.652Z"
   },
   {
    "duration": 8,
    "start_time": "2024-05-26T11:58:26.746Z"
   },
   {
    "duration": 1272,
    "start_time": "2024-05-26T11:58:26.755Z"
   },
   {
    "duration": 7,
    "start_time": "2024-05-26T11:58:28.029Z"
   },
   {
    "duration": 1174,
    "start_time": "2024-05-26T11:58:28.038Z"
   },
   {
    "duration": 311,
    "start_time": "2024-05-26T11:58:29.214Z"
   },
   {
    "duration": 481,
    "start_time": "2024-05-26T11:58:29.527Z"
   },
   {
    "duration": 606,
    "start_time": "2024-05-26T11:58:30.011Z"
   },
   {
    "duration": 5,
    "start_time": "2024-05-26T11:58:30.619Z"
   },
   {
    "duration": 25,
    "start_time": "2024-05-26T11:58:30.626Z"
   },
   {
    "duration": 23,
    "start_time": "2024-05-26T11:58:30.653Z"
   },
   {
    "duration": 42,
    "start_time": "2024-05-26T11:58:30.678Z"
   },
   {
    "duration": 1108,
    "start_time": "2024-05-26T11:58:30.721Z"
   },
   {
    "duration": 238,
    "start_time": "2024-05-26T11:58:31.831Z"
   },
   {
    "duration": 30,
    "start_time": "2024-05-26T11:58:32.071Z"
   },
   {
    "duration": 12,
    "start_time": "2024-05-26T11:58:32.102Z"
   },
   {
    "duration": 157,
    "start_time": "2024-05-26T11:58:32.115Z"
   },
   {
    "duration": 3,
    "start_time": "2024-05-26T11:58:32.274Z"
   },
   {
    "duration": 27,
    "start_time": "2024-05-26T11:58:32.279Z"
   },
   {
    "duration": 11,
    "start_time": "2024-05-26T11:58:32.804Z"
   },
   {
    "duration": 2,
    "start_time": "2024-05-26T11:58:33.908Z"
   },
   {
    "duration": 3,
    "start_time": "2024-05-26T11:58:34.458Z"
   },
   {
    "duration": 4,
    "start_time": "2024-05-26T11:58:34.910Z"
   },
   {
    "duration": 3,
    "start_time": "2024-05-26T11:58:35.360Z"
   },
   {
    "duration": 3,
    "start_time": "2024-05-26T11:58:36.134Z"
   },
   {
    "duration": 3,
    "start_time": "2024-05-26T11:58:36.808Z"
   },
   {
    "duration": 3,
    "start_time": "2024-05-26T11:58:37.192Z"
   },
   {
    "duration": 5,
    "start_time": "2024-05-26T11:58:37.703Z"
   },
   {
    "duration": 3,
    "start_time": "2024-05-26T11:58:38.206Z"
   },
   {
    "duration": 3,
    "start_time": "2024-05-26T11:58:38.928Z"
   },
   {
    "duration": 191245,
    "start_time": "2024-05-26T11:58:40.766Z"
   },
   {
    "duration": 185794,
    "start_time": "2024-05-26T12:01:52.013Z"
   },
   {
    "duration": 6318,
    "start_time": "2024-05-26T12:04:57.809Z"
   },
   {
    "duration": 4668,
    "start_time": "2024-05-26T12:05:04.128Z"
   },
   {
    "duration": 8,
    "start_time": "2024-05-26T12:05:08.798Z"
   },
   {
    "duration": 8,
    "start_time": "2024-05-26T12:05:08.808Z"
   },
   {
    "duration": 117,
    "start_time": "2024-05-26T12:05:08.818Z"
   },
   {
    "duration": 3,
    "start_time": "2024-05-26T12:09:55.520Z"
   },
   {
    "duration": 2,
    "start_time": "2024-05-26T12:10:24.876Z"
   },
   {
    "duration": 9,
    "start_time": "2024-05-26T12:10:58.458Z"
   },
   {
    "duration": 7,
    "start_time": "2024-05-26T12:11:19.970Z"
   },
   {
    "duration": 4,
    "start_time": "2024-05-26T12:11:20.663Z"
   },
   {
    "duration": 2,
    "start_time": "2024-05-26T12:12:19.954Z"
   },
   {
    "duration": 6,
    "start_time": "2024-05-26T12:12:20.477Z"
   },
   {
    "duration": 3,
    "start_time": "2024-05-26T12:13:58.925Z"
   },
   {
    "duration": 3,
    "start_time": "2024-05-26T12:13:59.682Z"
   },
   {
    "duration": 3,
    "start_time": "2024-05-26T12:14:00.193Z"
   },
   {
    "duration": 2,
    "start_time": "2024-05-26T12:14:36.388Z"
   },
   {
    "duration": 3,
    "start_time": "2024-05-26T12:14:36.999Z"
   },
   {
    "duration": 3,
    "start_time": "2024-05-26T12:14:37.528Z"
   },
   {
    "duration": 3,
    "start_time": "2024-05-26T12:15:14.899Z"
   },
   {
    "duration": 3,
    "start_time": "2024-05-26T12:15:15.721Z"
   },
   {
    "duration": 184791,
    "start_time": "2024-05-26T12:15:47.355Z"
   },
   {
    "duration": 93,
    "start_time": "2024-05-26T12:22:15.562Z"
   },
   {
    "duration": 67,
    "start_time": "2024-05-26T12:22:15.657Z"
   },
   {
    "duration": 27,
    "start_time": "2024-05-26T12:22:15.726Z"
   },
   {
    "duration": 33,
    "start_time": "2024-05-26T12:22:15.755Z"
   },
   {
    "duration": 10,
    "start_time": "2024-05-26T12:22:15.790Z"
   },
   {
    "duration": 8,
    "start_time": "2024-05-26T12:22:15.803Z"
   },
   {
    "duration": 22,
    "start_time": "2024-05-26T12:22:15.813Z"
   },
   {
    "duration": 6,
    "start_time": "2024-05-26T12:22:15.836Z"
   },
   {
    "duration": 29,
    "start_time": "2024-05-26T12:22:15.843Z"
   },
   {
    "duration": 6,
    "start_time": "2024-05-26T12:22:15.874Z"
   },
   {
    "duration": 28,
    "start_time": "2024-05-26T12:22:15.881Z"
   },
   {
    "duration": 13,
    "start_time": "2024-05-26T12:22:15.910Z"
   },
   {
    "duration": 186365,
    "start_time": "2024-05-26T12:22:15.924Z"
   },
   {
    "duration": 1499,
    "start_time": "2024-05-26T12:27:03.383Z"
   },
   {
    "duration": 856,
    "start_time": "2024-05-26T12:27:04.884Z"
   },
   {
    "duration": 23,
    "start_time": "2024-05-26T12:27:05.742Z"
   },
   {
    "duration": 57,
    "start_time": "2024-05-26T12:27:05.767Z"
   },
   {
    "duration": 95,
    "start_time": "2024-05-26T12:27:05.826Z"
   },
   {
    "duration": 98,
    "start_time": "2024-05-26T12:27:05.923Z"
   },
   {
    "duration": 906,
    "start_time": "2024-05-26T12:27:06.023Z"
   },
   {
    "duration": 494,
    "start_time": "2024-05-26T12:27:06.931Z"
   },
   {
    "duration": 3,
    "start_time": "2024-05-26T12:27:07.426Z"
   },
   {
    "duration": 79,
    "start_time": "2024-05-26T12:27:07.431Z"
   },
   {
    "duration": 5,
    "start_time": "2024-05-26T12:27:07.513Z"
   },
   {
    "duration": 82,
    "start_time": "2024-05-26T12:27:07.519Z"
   },
   {
    "duration": 26,
    "start_time": "2024-05-26T12:27:07.604Z"
   },
   {
    "duration": 90,
    "start_time": "2024-05-26T12:27:07.631Z"
   },
   {
    "duration": 21,
    "start_time": "2024-05-26T12:27:07.723Z"
   },
   {
    "duration": 63,
    "start_time": "2024-05-26T12:27:07.745Z"
   },
   {
    "duration": 10,
    "start_time": "2024-05-26T12:27:07.810Z"
   },
   {
    "duration": 1340,
    "start_time": "2024-05-26T12:27:07.822Z"
   },
   {
    "duration": 8,
    "start_time": "2024-05-26T12:27:09.165Z"
   },
   {
    "duration": 1269,
    "start_time": "2024-05-26T12:27:09.174Z"
   },
   {
    "duration": 7,
    "start_time": "2024-05-26T12:27:10.444Z"
   },
   {
    "duration": 1193,
    "start_time": "2024-05-26T12:27:10.453Z"
   },
   {
    "duration": 293,
    "start_time": "2024-05-26T12:27:11.647Z"
   },
   {
    "duration": 471,
    "start_time": "2024-05-26T12:27:11.942Z"
   },
   {
    "duration": 622,
    "start_time": "2024-05-26T12:27:12.415Z"
   },
   {
    "duration": 4,
    "start_time": "2024-05-26T12:27:13.038Z"
   },
   {
    "duration": 21,
    "start_time": "2024-05-26T12:27:13.044Z"
   },
   {
    "duration": 39,
    "start_time": "2024-05-26T12:27:13.068Z"
   },
   {
    "duration": 17,
    "start_time": "2024-05-26T12:27:13.108Z"
   },
   {
    "duration": 1203,
    "start_time": "2024-05-26T12:27:13.126Z"
   },
   {
    "duration": 243,
    "start_time": "2024-05-26T12:27:14.330Z"
   },
   {
    "duration": 32,
    "start_time": "2024-05-26T12:27:14.575Z"
   },
   {
    "duration": 20,
    "start_time": "2024-05-26T12:27:14.608Z"
   },
   {
    "duration": 148,
    "start_time": "2024-05-26T12:27:14.630Z"
   },
   {
    "duration": 3,
    "start_time": "2024-05-26T12:27:14.779Z"
   },
   {
    "duration": 33,
    "start_time": "2024-05-26T12:27:14.783Z"
   },
   {
    "duration": 37,
    "start_time": "2024-05-26T12:27:14.817Z"
   },
   {
    "duration": 31,
    "start_time": "2024-05-26T12:27:14.856Z"
   },
   {
    "duration": 16,
    "start_time": "2024-05-26T12:27:14.888Z"
   },
   {
    "duration": 8,
    "start_time": "2024-05-26T12:27:14.907Z"
   },
   {
    "duration": 9,
    "start_time": "2024-05-26T12:27:14.917Z"
   },
   {
    "duration": 8,
    "start_time": "2024-05-26T12:27:14.928Z"
   },
   {
    "duration": 20,
    "start_time": "2024-05-26T12:27:14.938Z"
   },
   {
    "duration": 85,
    "start_time": "2024-05-26T12:27:14.960Z"
   },
   {
    "duration": 73,
    "start_time": "2024-05-26T12:27:15.047Z"
   },
   {
    "duration": 110,
    "start_time": "2024-05-26T12:27:15.122Z"
   },
   {
    "duration": 40,
    "start_time": "2024-05-26T12:27:15.234Z"
   },
   {
    "duration": 55,
    "start_time": "2024-05-26T12:27:15.275Z"
   },
   {
    "duration": 1529,
    "start_time": "2024-05-26T12:27:28.168Z"
   },
   {
    "duration": 845,
    "start_time": "2024-05-26T12:27:31.319Z"
   },
   {
    "duration": 39,
    "start_time": "2024-05-26T12:27:35.374Z"
   },
   {
    "duration": 21,
    "start_time": "2024-05-26T12:27:36.444Z"
   },
   {
    "duration": 23,
    "start_time": "2024-05-26T12:27:37.862Z"
   },
   {
    "duration": 35,
    "start_time": "2024-05-26T12:27:39.041Z"
   },
   {
    "duration": 638,
    "start_time": "2024-05-26T12:27:39.910Z"
   },
   {
    "duration": 239,
    "start_time": "2024-05-26T12:27:42.001Z"
   },
   {
    "duration": 3,
    "start_time": "2024-05-26T12:27:44.562Z"
   },
   {
    "duration": 10,
    "start_time": "2024-05-26T12:27:45.039Z"
   },
   {
    "duration": 6,
    "start_time": "2024-05-26T12:27:45.914Z"
   },
   {
    "duration": 18,
    "start_time": "2024-05-26T12:27:47.189Z"
   },
   {
    "duration": 29,
    "start_time": "2024-05-26T12:27:48.700Z"
   },
   {
    "duration": 16,
    "start_time": "2024-05-26T12:27:49.441Z"
   },
   {
    "duration": 19,
    "start_time": "2024-05-26T12:27:50.426Z"
   },
   {
    "duration": 14,
    "start_time": "2024-05-26T12:27:51.282Z"
   },
   {
    "duration": 9,
    "start_time": "2024-05-26T12:27:53.467Z"
   },
   {
    "duration": 1458,
    "start_time": "2024-05-26T12:27:54.116Z"
   },
   {
    "duration": 8,
    "start_time": "2024-05-26T12:27:55.576Z"
   },
   {
    "duration": 1145,
    "start_time": "2024-05-26T12:27:55.585Z"
   },
   {
    "duration": 10,
    "start_time": "2024-05-26T12:27:56.733Z"
   },
   {
    "duration": 1091,
    "start_time": "2024-05-26T12:27:56.745Z"
   },
   {
    "duration": 298,
    "start_time": "2024-05-26T12:27:57.838Z"
   },
   {
    "duration": 502,
    "start_time": "2024-05-26T12:27:58.138Z"
   },
   {
    "duration": 624,
    "start_time": "2024-05-26T12:27:58.642Z"
   },
   {
    "duration": 5,
    "start_time": "2024-05-26T12:27:59.268Z"
   },
   {
    "duration": 36,
    "start_time": "2024-05-26T12:27:59.274Z"
   },
   {
    "duration": 6,
    "start_time": "2024-05-26T12:27:59.312Z"
   },
   {
    "duration": 5,
    "start_time": "2024-05-26T12:27:59.320Z"
   },
   {
    "duration": 1312,
    "start_time": "2024-05-26T12:27:59.326Z"
   },
   {
    "duration": 245,
    "start_time": "2024-05-26T12:28:00.640Z"
   },
   {
    "duration": 30,
    "start_time": "2024-05-26T12:28:00.887Z"
   },
   {
    "duration": 61,
    "start_time": "2024-05-26T12:28:00.919Z"
   },
   {
    "duration": 195,
    "start_time": "2024-05-26T12:28:00.982Z"
   },
   {
    "duration": 3,
    "start_time": "2024-05-26T12:28:02.524Z"
   },
   {
    "duration": 3,
    "start_time": "2024-05-26T12:28:03.444Z"
   },
   {
    "duration": 9,
    "start_time": "2024-05-26T12:28:05.936Z"
   },
   {
    "duration": 3,
    "start_time": "2024-05-26T12:28:06.614Z"
   },
   {
    "duration": 2,
    "start_time": "2024-05-26T12:28:07.032Z"
   },
   {
    "duration": 3,
    "start_time": "2024-05-26T12:28:08.581Z"
   },
   {
    "duration": 3,
    "start_time": "2024-05-26T12:28:09.110Z"
   },
   {
    "duration": 2,
    "start_time": "2024-05-26T12:28:09.624Z"
   },
   {
    "duration": 3,
    "start_time": "2024-05-26T12:32:42.877Z"
   },
   {
    "duration": 3,
    "start_time": "2024-05-26T12:32:43.485Z"
   },
   {
    "duration": 3,
    "start_time": "2024-05-26T12:32:44.085Z"
   },
   {
    "duration": 3,
    "start_time": "2024-05-26T12:32:45.239Z"
   },
   {
    "duration": 3,
    "start_time": "2024-05-26T12:32:45.833Z"
   },
   {
    "duration": 3,
    "start_time": "2024-05-26T12:32:46.345Z"
   },
   {
    "duration": 178740,
    "start_time": "2024-05-26T12:32:47.439Z"
   },
   {
    "duration": 175951,
    "start_time": "2024-05-26T12:35:46.181Z"
   },
   {
    "duration": 6203,
    "start_time": "2024-05-26T12:38:42.134Z"
   },
   {
    "duration": 3256,
    "start_time": "2024-05-26T12:38:48.339Z"
   },
   {
    "duration": 97,
    "start_time": "2024-05-26T12:38:51.597Z"
   },
   {
    "duration": 12,
    "start_time": "2024-05-26T12:38:51.696Z"
   },
   {
    "duration": 32,
    "start_time": "2024-05-26T12:38:51.710Z"
   },
   {
    "duration": 8,
    "start_time": "2024-05-26T12:42:21.196Z"
   },
   {
    "duration": 10,
    "start_time": "2024-05-26T12:50:41.598Z"
   },
   {
    "duration": 3,
    "start_time": "2024-05-26T12:53:29.127Z"
   },
   {
    "duration": 9,
    "start_time": "2024-05-26T12:53:45.896Z"
   },
   {
    "duration": 8,
    "start_time": "2024-05-26T12:54:12.323Z"
   },
   {
    "duration": 3,
    "start_time": "2024-05-26T12:54:13.055Z"
   },
   {
    "duration": 3,
    "start_time": "2024-05-26T12:54:13.853Z"
   },
   {
    "duration": 3,
    "start_time": "2024-05-26T12:54:15.205Z"
   },
   {
    "duration": 3,
    "start_time": "2024-05-26T12:54:15.727Z"
   },
   {
    "duration": 3,
    "start_time": "2024-05-26T12:54:16.267Z"
   },
   {
    "duration": 2,
    "start_time": "2024-05-26T12:54:16.891Z"
   },
   {
    "duration": 3,
    "start_time": "2024-05-26T12:54:17.252Z"
   },
   {
    "duration": 2,
    "start_time": "2024-05-26T12:54:17.641Z"
   },
   {
    "duration": 3,
    "start_time": "2024-05-26T12:54:18.159Z"
   },
   {
    "duration": 3,
    "start_time": "2024-05-26T12:54:18.465Z"
   },
   {
    "duration": 3,
    "start_time": "2024-05-26T12:54:18.817Z"
   },
   {
    "duration": 183272,
    "start_time": "2024-05-26T12:54:19.751Z"
   },
   {
    "duration": 180434,
    "start_time": "2024-05-26T12:57:23.025Z"
   },
   {
    "duration": 6377,
    "start_time": "2024-05-26T13:00:23.461Z"
   },
   {
    "duration": 4161,
    "start_time": "2024-05-26T13:00:29.840Z"
   },
   {
    "duration": 1477,
    "start_time": "2024-05-27T06:39:03.674Z"
   },
   {
    "duration": 1319,
    "start_time": "2024-05-27T06:39:05.153Z"
   },
   {
    "duration": 22,
    "start_time": "2024-05-27T06:39:50.395Z"
   },
   {
    "duration": 20,
    "start_time": "2024-05-27T06:39:52.345Z"
   },
   {
    "duration": 20,
    "start_time": "2024-05-27T06:40:03.735Z"
   },
   {
    "duration": 34,
    "start_time": "2024-05-27T06:40:04.879Z"
   },
   {
    "duration": 533,
    "start_time": "2024-05-27T06:40:06.119Z"
   },
   {
    "duration": 203,
    "start_time": "2024-05-27T06:40:08.401Z"
   },
   {
    "duration": 3,
    "start_time": "2024-05-27T06:40:17.447Z"
   },
   {
    "duration": 9,
    "start_time": "2024-05-27T06:40:40.691Z"
   },
   {
    "duration": 5,
    "start_time": "2024-05-27T06:40:47.611Z"
   },
   {
    "duration": 14,
    "start_time": "2024-05-27T06:40:57.718Z"
   },
   {
    "duration": 24,
    "start_time": "2024-05-27T06:41:00.088Z"
   },
   {
    "duration": 14,
    "start_time": "2024-05-27T06:41:11.365Z"
   },
   {
    "duration": 20,
    "start_time": "2024-05-27T06:41:20.017Z"
   },
   {
    "duration": 13,
    "start_time": "2024-05-27T06:41:20.638Z"
   },
   {
    "duration": 7,
    "start_time": "2024-05-27T06:41:25.559Z"
   },
   {
    "duration": 1157,
    "start_time": "2024-05-27T06:41:28.703Z"
   },
   {
    "duration": 7,
    "start_time": "2024-05-27T06:41:30.861Z"
   },
   {
    "duration": 1087,
    "start_time": "2024-05-27T06:41:31.387Z"
   },
   {
    "duration": 8,
    "start_time": "2024-05-27T06:41:33.332Z"
   },
   {
    "duration": 1046,
    "start_time": "2024-05-27T06:41:33.919Z"
   },
   {
    "duration": 265,
    "start_time": "2024-05-27T06:41:34.966Z"
   },
   {
    "duration": 185,
    "start_time": "2024-05-27T06:41:55.791Z"
   },
   {
    "duration": 179,
    "start_time": "2024-05-27T06:42:09.561Z"
   },
   {
    "duration": 353,
    "start_time": "2024-05-27T06:42:15.285Z"
   },
   {
    "duration": 191,
    "start_time": "2024-05-27T06:42:27.734Z"
   },
   {
    "duration": 390,
    "start_time": "2024-05-27T06:42:50.549Z"
   },
   {
    "duration": 485,
    "start_time": "2024-05-27T06:42:54.240Z"
   },
   {
    "duration": 533,
    "start_time": "2024-05-27T06:43:03.714Z"
   },
   {
    "duration": 6,
    "start_time": "2024-05-27T06:43:18.173Z"
   },
   {
    "duration": 4,
    "start_time": "2024-05-27T06:43:18.667Z"
   },
   {
    "duration": 5,
    "start_time": "2024-05-27T06:43:20.530Z"
   },
   {
    "duration": 5,
    "start_time": "2024-05-27T06:43:22.180Z"
   },
   {
    "duration": 1146,
    "start_time": "2024-05-27T06:43:23.594Z"
   },
   {
    "duration": 284,
    "start_time": "2024-05-27T06:44:14.023Z"
   },
   {
    "duration": 195,
    "start_time": "2024-05-27T06:44:46.194Z"
   },
   {
    "duration": 204,
    "start_time": "2024-05-27T06:44:51.354Z"
   },
   {
    "duration": 19,
    "start_time": "2024-05-27T06:45:11.830Z"
   },
   {
    "duration": 5,
    "start_time": "2024-05-27T06:45:12.687Z"
   },
   {
    "duration": 121,
    "start_time": "2024-05-27T06:45:14.437Z"
   },
   {
    "duration": 126,
    "start_time": "2024-05-27T06:45:28.437Z"
   },
   {
    "duration": 121,
    "start_time": "2024-05-27T06:45:41.201Z"
   },
   {
    "duration": 118,
    "start_time": "2024-05-27T06:45:45.869Z"
   },
   {
    "duration": 3,
    "start_time": "2024-05-27T06:46:21.441Z"
   },
   {
    "duration": 3,
    "start_time": "2024-05-27T06:46:29.463Z"
   },
   {
    "duration": 11,
    "start_time": "2024-05-27T06:46:38.544Z"
   },
   {
    "duration": 3,
    "start_time": "2024-05-27T06:46:40.097Z"
   },
   {
    "duration": 3,
    "start_time": "2024-05-27T06:47:11.639Z"
   },
   {
    "duration": 2,
    "start_time": "2024-05-27T06:47:13.607Z"
   },
   {
    "duration": 2,
    "start_time": "2024-05-27T06:47:15.431Z"
   },
   {
    "duration": 3,
    "start_time": "2024-05-27T06:47:19.435Z"
   },
   {
    "duration": 3,
    "start_time": "2024-05-27T06:47:20.757Z"
   },
   {
    "duration": 3,
    "start_time": "2024-05-27T06:47:21.955Z"
   },
   {
    "duration": 103,
    "start_time": "2024-05-27T06:47:24.537Z"
   },
   {
    "duration": 8,
    "start_time": "2024-05-27T06:47:26.203Z"
   },
   {
    "duration": 10,
    "start_time": "2024-05-27T06:47:34.851Z"
   },
   {
    "duration": 3,
    "start_time": "2024-05-27T06:47:35.289Z"
   },
   {
    "duration": 2,
    "start_time": "2024-05-27T06:47:36.319Z"
   },
   {
    "duration": 2,
    "start_time": "2024-05-27T06:47:38.165Z"
   },
   {
    "duration": 3,
    "start_time": "2024-05-27T06:47:38.347Z"
   },
   {
    "duration": 2,
    "start_time": "2024-05-27T06:47:38.565Z"
   },
   {
    "duration": 3,
    "start_time": "2024-05-27T06:47:39.159Z"
   },
   {
    "duration": 3,
    "start_time": "2024-05-27T06:47:39.468Z"
   },
   {
    "duration": 2,
    "start_time": "2024-05-27T06:47:39.827Z"
   },
   {
    "duration": 2,
    "start_time": "2024-05-27T06:47:40.721Z"
   },
   {
    "duration": 3,
    "start_time": "2024-05-27T06:47:41.377Z"
   },
   {
    "duration": 3,
    "start_time": "2024-05-27T06:47:43.097Z"
   },
   {
    "duration": 173671,
    "start_time": "2024-05-27T06:47:44.907Z"
   },
   {
    "duration": 173573,
    "start_time": "2024-05-27T06:50:38.580Z"
   },
   {
    "duration": 5892,
    "start_time": "2024-05-27T06:53:32.154Z"
   },
   {
    "duration": 3500,
    "start_time": "2024-05-27T06:53:38.048Z"
   },
   {
    "duration": 5,
    "start_time": "2024-05-27T06:53:41.648Z"
   },
   {
    "duration": 13,
    "start_time": "2024-05-27T06:53:41.655Z"
   },
   {
    "duration": 32,
    "start_time": "2024-05-27T06:53:41.669Z"
   },
   {
    "duration": 8,
    "start_time": "2024-05-27T06:53:41.703Z"
   },
   {
    "duration": 3,
    "start_time": "2024-05-27T06:54:33.703Z"
   },
   {
    "duration": 2,
    "start_time": "2024-05-27T06:54:34.501Z"
   },
   {
    "duration": 3,
    "start_time": "2024-05-27T06:54:34.783Z"
   },
   {
    "duration": 4,
    "start_time": "2024-05-27T06:54:35.171Z"
   },
   {
    "duration": 3,
    "start_time": "2024-05-27T06:54:35.401Z"
   },
   {
    "duration": 2,
    "start_time": "2024-05-27T06:54:35.695Z"
   },
   {
    "duration": 174522,
    "start_time": "2024-05-27T06:54:37.075Z"
   },
   {
    "duration": 170003,
    "start_time": "2024-05-27T06:57:31.599Z"
   },
   {
    "duration": 5840,
    "start_time": "2024-05-27T07:00:21.606Z"
   },
   {
    "duration": 3400,
    "start_time": "2024-05-27T07:00:27.448Z"
   },
   {
    "duration": 97,
    "start_time": "2024-05-27T07:00:30.850Z"
   },
   {
    "duration": 74,
    "start_time": "2024-05-27T07:00:30.948Z"
   },
   {
    "duration": 96,
    "start_time": "2024-05-27T07:00:31.023Z"
   },
   {
    "duration": 51,
    "start_time": "2024-05-27T07:00:31.200Z"
   },
   {
    "duration": 3,
    "start_time": "2024-05-27T07:14:51.883Z"
   },
   {
    "duration": 5966,
    "start_time": "2024-05-27T07:19:25.409Z"
   },
   {
    "duration": 50,
    "start_time": "2024-05-27T07:19:31.382Z"
   },
   {
    "duration": 47,
    "start_time": "2024-05-27T07:19:31.433Z"
   },
   {
    "duration": 31,
    "start_time": "2024-05-27T07:19:31.482Z"
   },
   {
    "duration": 43,
    "start_time": "2024-05-27T07:19:31.515Z"
   },
   {
    "duration": 59,
    "start_time": "2024-05-27T07:19:31.560Z"
   },
   {
    "duration": 32,
    "start_time": "2024-05-27T07:19:31.621Z"
   },
   {
    "duration": 18,
    "start_time": "2024-05-27T07:19:31.656Z"
   },
   {
    "duration": 12,
    "start_time": "2024-05-27T07:19:31.676Z"
   },
   {
    "duration": 16,
    "start_time": "2024-05-27T07:19:31.690Z"
   },
   {
    "duration": 17,
    "start_time": "2024-05-27T07:19:31.708Z"
   },
   {
    "duration": 21,
    "start_time": "2024-05-27T07:19:31.727Z"
   },
   {
    "duration": 37,
    "start_time": "2024-05-27T07:19:31.749Z"
   },
   {
    "duration": 1391,
    "start_time": "2024-05-27T07:21:02.634Z"
   },
   {
    "duration": 742,
    "start_time": "2024-05-27T07:21:06.858Z"
   },
   {
    "duration": 25,
    "start_time": "2024-05-27T07:21:09.446Z"
   },
   {
    "duration": 19,
    "start_time": "2024-05-27T07:21:10.302Z"
   },
   {
    "duration": 21,
    "start_time": "2024-05-27T07:21:11.026Z"
   },
   {
    "duration": 34,
    "start_time": "2024-05-27T07:21:12.072Z"
   },
   {
    "duration": 533,
    "start_time": "2024-05-27T07:21:12.750Z"
   },
   {
    "duration": 216,
    "start_time": "2024-05-27T07:21:14.348Z"
   },
   {
    "duration": 3,
    "start_time": "2024-05-27T07:21:16.924Z"
   },
   {
    "duration": 12,
    "start_time": "2024-05-27T07:21:18.268Z"
   },
   {
    "duration": 4,
    "start_time": "2024-05-27T07:21:19.142Z"
   },
   {
    "duration": 13,
    "start_time": "2024-05-27T07:21:20.662Z"
   },
   {
    "duration": 23,
    "start_time": "2024-05-27T07:21:21.805Z"
   },
   {
    "duration": 14,
    "start_time": "2024-05-27T07:21:22.600Z"
   },
   {
    "duration": 19,
    "start_time": "2024-05-27T07:21:23.595Z"
   },
   {
    "duration": 12,
    "start_time": "2024-05-27T07:21:23.769Z"
   },
   {
    "duration": 7,
    "start_time": "2024-05-27T07:21:25.032Z"
   },
   {
    "duration": 1065,
    "start_time": "2024-05-27T07:21:25.291Z"
   },
   {
    "duration": 6,
    "start_time": "2024-05-27T07:21:26.358Z"
   },
   {
    "duration": 1106,
    "start_time": "2024-05-27T07:21:26.366Z"
   },
   {
    "duration": 7,
    "start_time": "2024-05-27T07:21:27.474Z"
   },
   {
    "duration": 1111,
    "start_time": "2024-05-27T07:21:27.739Z"
   },
   {
    "duration": 268,
    "start_time": "2024-05-27T07:21:28.906Z"
   },
   {
    "duration": 366,
    "start_time": "2024-05-27T07:21:32.370Z"
   },
   {
    "duration": 520,
    "start_time": "2024-05-27T07:21:32.870Z"
   },
   {
    "duration": 4,
    "start_time": "2024-05-27T07:21:34.474Z"
   },
   {
    "duration": 5,
    "start_time": "2024-05-27T07:21:35.026Z"
   },
   {
    "duration": 5,
    "start_time": "2024-05-27T07:21:35.282Z"
   },
   {
    "duration": 5,
    "start_time": "2024-05-27T07:21:35.482Z"
   },
   {
    "duration": 1138,
    "start_time": "2024-05-27T07:21:35.716Z"
   },
   {
    "duration": 228,
    "start_time": "2024-05-27T07:21:36.856Z"
   },
   {
    "duration": 19,
    "start_time": "2024-05-27T07:21:37.788Z"
   },
   {
    "duration": 4,
    "start_time": "2024-05-27T07:21:38.260Z"
   },
   {
    "duration": 124,
    "start_time": "2024-05-27T07:21:38.672Z"
   },
   {
    "duration": 2,
    "start_time": "2024-05-27T07:21:41.124Z"
   },
   {
    "duration": 2,
    "start_time": "2024-05-27T07:21:42.544Z"
   },
   {
    "duration": 9,
    "start_time": "2024-05-27T07:21:45.278Z"
   },
   {
    "duration": 4,
    "start_time": "2024-05-27T07:21:46.299Z"
   },
   {
    "duration": 2,
    "start_time": "2024-05-27T07:21:47.118Z"
   },
   {
    "duration": 3,
    "start_time": "2024-05-27T07:21:48.094Z"
   },
   {
    "duration": 3,
    "start_time": "2024-05-27T07:21:48.770Z"
   },
   {
    "duration": 3,
    "start_time": "2024-05-27T07:21:49.426Z"
   },
   {
    "duration": 3,
    "start_time": "2024-05-27T07:21:50.897Z"
   },
   {
    "duration": 3,
    "start_time": "2024-05-27T07:21:51.837Z"
   },
   {
    "duration": 3,
    "start_time": "2024-05-27T07:21:52.455Z"
   },
   {
    "duration": 3,
    "start_time": "2024-05-27T07:21:53.782Z"
   },
   {
    "duration": 4,
    "start_time": "2024-05-27T07:21:55.156Z"
   },
   {
    "duration": 2,
    "start_time": "2024-05-27T07:21:56.212Z"
   },
   {
    "duration": 177468,
    "start_time": "2024-05-27T07:21:57.432Z"
   },
   {
    "duration": 112,
    "start_time": "2024-05-27T07:24:54.902Z"
   },
   {
    "duration": 0,
    "start_time": "2024-05-27T07:24:55.016Z"
   },
   {
    "duration": 0,
    "start_time": "2024-05-27T07:24:55.017Z"
   },
   {
    "duration": 0,
    "start_time": "2024-05-27T07:24:55.018Z"
   },
   {
    "duration": 0,
    "start_time": "2024-05-27T07:24:55.019Z"
   },
   {
    "duration": 0,
    "start_time": "2024-05-27T07:24:55.021Z"
   },
   {
    "duration": 1,
    "start_time": "2024-05-27T07:24:55.021Z"
   },
   {
    "duration": 0,
    "start_time": "2024-05-27T07:24:55.023Z"
   },
   {
    "duration": 4,
    "start_time": "2024-05-27T07:25:46.504Z"
   },
   {
    "duration": 754,
    "start_time": "2024-05-27T07:25:46.668Z"
   },
   {
    "duration": 19,
    "start_time": "2024-05-27T07:25:47.424Z"
   },
   {
    "duration": 37,
    "start_time": "2024-05-27T07:25:47.445Z"
   },
   {
    "duration": 20,
    "start_time": "2024-05-27T07:25:47.577Z"
   },
   {
    "duration": 35,
    "start_time": "2024-05-27T07:25:47.775Z"
   },
   {
    "duration": 549,
    "start_time": "2024-05-27T07:25:48.014Z"
   },
   {
    "duration": 207,
    "start_time": "2024-05-27T07:25:48.565Z"
   },
   {
    "duration": 3,
    "start_time": "2024-05-27T07:25:49.293Z"
   },
   {
    "duration": 10,
    "start_time": "2024-05-27T07:25:49.650Z"
   },
   {
    "duration": 4,
    "start_time": "2024-05-27T07:25:49.998Z"
   },
   {
    "duration": 11,
    "start_time": "2024-05-27T07:25:50.706Z"
   },
   {
    "duration": 23,
    "start_time": "2024-05-27T07:25:51.222Z"
   },
   {
    "duration": 13,
    "start_time": "2024-05-27T07:25:51.551Z"
   },
   {
    "duration": 16,
    "start_time": "2024-05-27T07:25:51.906Z"
   },
   {
    "duration": 14,
    "start_time": "2024-05-27T07:25:52.068Z"
   },
   {
    "duration": 6,
    "start_time": "2024-05-27T07:25:52.768Z"
   },
   {
    "duration": 1025,
    "start_time": "2024-05-27T07:25:52.929Z"
   },
   {
    "duration": 8,
    "start_time": "2024-05-27T07:25:53.955Z"
   },
   {
    "duration": 1217,
    "start_time": "2024-05-27T07:25:53.964Z"
   },
   {
    "duration": 9,
    "start_time": "2024-05-27T07:25:55.184Z"
   },
   {
    "duration": 1157,
    "start_time": "2024-05-27T07:25:55.195Z"
   },
   {
    "duration": 196,
    "start_time": "2024-05-27T07:25:56.354Z"
   },
   {
    "duration": 389,
    "start_time": "2024-05-27T07:25:56.552Z"
   },
   {
    "duration": 542,
    "start_time": "2024-05-27T07:25:56.945Z"
   },
   {
    "duration": 6,
    "start_time": "2024-05-27T07:25:57.489Z"
   },
   {
    "duration": 51,
    "start_time": "2024-05-27T07:25:57.498Z"
   },
   {
    "duration": 39,
    "start_time": "2024-05-27T07:25:57.551Z"
   },
   {
    "duration": 47,
    "start_time": "2024-05-27T07:25:57.592Z"
   },
   {
    "duration": 1115,
    "start_time": "2024-05-27T07:25:57.642Z"
   },
   {
    "duration": 207,
    "start_time": "2024-05-27T07:25:58.759Z"
   },
   {
    "duration": 14,
    "start_time": "2024-05-27T07:25:58.968Z"
   },
   {
    "duration": 25,
    "start_time": "2024-05-27T07:25:58.984Z"
   },
   {
    "duration": 139,
    "start_time": "2024-05-27T07:25:59.010Z"
   },
   {
    "duration": 3,
    "start_time": "2024-05-27T07:25:59.151Z"
   },
   {
    "duration": 14,
    "start_time": "2024-05-27T07:25:59.155Z"
   },
   {
    "duration": 7,
    "start_time": "2024-05-27T07:26:00.004Z"
   },
   {
    "duration": 3,
    "start_time": "2024-05-27T07:26:00.762Z"
   },
   {
    "duration": 2,
    "start_time": "2024-05-27T07:26:01.436Z"
   },
   {
    "duration": 3,
    "start_time": "2024-05-27T07:26:02.275Z"
   },
   {
    "duration": 3,
    "start_time": "2024-05-27T07:26:02.737Z"
   },
   {
    "duration": 3,
    "start_time": "2024-05-27T07:26:03.054Z"
   },
   {
    "duration": 2,
    "start_time": "2024-05-27T07:26:03.752Z"
   },
   {
    "duration": 3,
    "start_time": "2024-05-27T07:26:04.123Z"
   },
   {
    "duration": 3,
    "start_time": "2024-05-27T07:26:04.515Z"
   },
   {
    "duration": 3,
    "start_time": "2024-05-27T07:26:05.062Z"
   },
   {
    "duration": 3,
    "start_time": "2024-05-27T07:26:05.336Z"
   },
   {
    "duration": 3,
    "start_time": "2024-05-27T07:26:05.686Z"
   },
   {
    "duration": 49,
    "start_time": "2024-05-27T07:28:03.326Z"
   },
   {
    "duration": 7,
    "start_time": "2024-05-27T07:28:03.799Z"
   },
   {
    "duration": 5,
    "start_time": "2024-05-27T07:28:04.705Z"
   },
   {
    "duration": 6,
    "start_time": "2024-05-27T07:28:05.626Z"
   },
   {
    "duration": 1393,
    "start_time": "2024-05-27T07:28:12.365Z"
   },
   {
    "duration": 748,
    "start_time": "2024-05-27T07:28:13.760Z"
   },
   {
    "duration": 22,
    "start_time": "2024-05-27T07:28:15.627Z"
   },
   {
    "duration": 20,
    "start_time": "2024-05-27T07:28:16.779Z"
   },
   {
    "duration": 22,
    "start_time": "2024-05-27T07:28:17.204Z"
   },
   {
    "duration": 36,
    "start_time": "2024-05-27T07:28:17.477Z"
   },
   {
    "duration": 571,
    "start_time": "2024-05-27T07:28:17.734Z"
   },
   {
    "duration": 200,
    "start_time": "2024-05-27T07:28:18.953Z"
   },
   {
    "duration": 3,
    "start_time": "2024-05-27T07:28:20.464Z"
   },
   {
    "duration": 9,
    "start_time": "2024-05-27T07:28:21.272Z"
   },
   {
    "duration": 4,
    "start_time": "2024-05-27T07:28:21.724Z"
   },
   {
    "duration": 12,
    "start_time": "2024-05-27T07:28:22.937Z"
   },
   {
    "duration": 22,
    "start_time": "2024-05-27T07:28:23.453Z"
   },
   {
    "duration": 13,
    "start_time": "2024-05-27T07:28:23.775Z"
   },
   {
    "duration": 20,
    "start_time": "2024-05-27T07:28:24.120Z"
   },
   {
    "duration": 13,
    "start_time": "2024-05-27T07:28:24.283Z"
   },
   {
    "duration": 7,
    "start_time": "2024-05-27T07:28:24.937Z"
   },
   {
    "duration": 1141,
    "start_time": "2024-05-27T07:28:25.114Z"
   },
   {
    "duration": 8,
    "start_time": "2024-05-27T07:28:26.256Z"
   },
   {
    "duration": 1117,
    "start_time": "2024-05-27T07:28:26.265Z"
   },
   {
    "duration": 7,
    "start_time": "2024-05-27T07:28:27.384Z"
   },
   {
    "duration": 1176,
    "start_time": "2024-05-27T07:28:27.392Z"
   },
   {
    "duration": 265,
    "start_time": "2024-05-27T07:28:28.570Z"
   },
   {
    "duration": 398,
    "start_time": "2024-05-27T07:28:28.836Z"
   },
   {
    "duration": 555,
    "start_time": "2024-05-27T07:28:29.235Z"
   },
   {
    "duration": 5,
    "start_time": "2024-05-27T07:28:29.791Z"
   },
   {
    "duration": 11,
    "start_time": "2024-05-27T07:28:29.798Z"
   },
   {
    "duration": 11,
    "start_time": "2024-05-27T07:28:29.810Z"
   },
   {
    "duration": 4,
    "start_time": "2024-05-27T07:28:29.823Z"
   },
   {
    "duration": 1125,
    "start_time": "2024-05-27T07:28:29.829Z"
   },
   {
    "duration": 210,
    "start_time": "2024-05-27T07:28:32.022Z"
   },
   {
    "duration": 17,
    "start_time": "2024-05-27T07:28:32.338Z"
   },
   {
    "duration": 6,
    "start_time": "2024-05-27T07:28:32.492Z"
   },
   {
    "duration": 147,
    "start_time": "2024-05-27T07:28:32.642Z"
   },
   {
    "duration": 3,
    "start_time": "2024-05-27T07:28:35.889Z"
   },
   {
    "duration": 2,
    "start_time": "2024-05-27T07:28:36.777Z"
   },
   {
    "duration": 9,
    "start_time": "2024-05-27T07:28:38.917Z"
   },
   {
    "duration": 3,
    "start_time": "2024-05-27T07:28:39.597Z"
   },
   {
    "duration": 3,
    "start_time": "2024-05-27T07:28:40.191Z"
   },
   {
    "duration": 3,
    "start_time": "2024-05-27T07:28:41.008Z"
   },
   {
    "duration": 4,
    "start_time": "2024-05-27T07:28:41.354Z"
   },
   {
    "duration": 2,
    "start_time": "2024-05-27T07:28:41.783Z"
   },
   {
    "duration": 3,
    "start_time": "2024-05-27T07:28:42.675Z"
   },
   {
    "duration": 2,
    "start_time": "2024-05-27T07:28:43.111Z"
   },
   {
    "duration": 3,
    "start_time": "2024-05-27T07:28:43.650Z"
   },
   {
    "duration": 2,
    "start_time": "2024-05-27T07:28:44.563Z"
   },
   {
    "duration": 3,
    "start_time": "2024-05-27T07:28:45.011Z"
   },
   {
    "duration": 3,
    "start_time": "2024-05-27T07:28:45.444Z"
   },
   {
    "duration": 177964,
    "start_time": "2024-05-27T07:28:46.127Z"
   },
   {
    "duration": 1392,
    "start_time": "2024-05-27T07:37:09.817Z"
   },
   {
    "duration": 730,
    "start_time": "2024-05-27T07:37:12.195Z"
   },
   {
    "duration": 31,
    "start_time": "2024-05-27T07:37:14.048Z"
   },
   {
    "duration": 21,
    "start_time": "2024-05-27T07:37:14.954Z"
   },
   {
    "duration": 21,
    "start_time": "2024-05-27T07:37:15.462Z"
   },
   {
    "duration": 34,
    "start_time": "2024-05-27T07:37:15.868Z"
   },
   {
    "duration": 533,
    "start_time": "2024-05-27T07:37:16.308Z"
   },
   {
    "duration": 228,
    "start_time": "2024-05-27T07:37:17.022Z"
   },
   {
    "duration": 1382,
    "start_time": "2024-05-27T07:37:23.046Z"
   },
   {
    "duration": 693,
    "start_time": "2024-05-27T07:37:24.430Z"
   },
   {
    "duration": 22,
    "start_time": "2024-05-27T07:37:25.124Z"
   },
   {
    "duration": 41,
    "start_time": "2024-05-27T07:37:25.148Z"
   },
   {
    "duration": 30,
    "start_time": "2024-05-27T07:37:25.191Z"
   },
   {
    "duration": 36,
    "start_time": "2024-05-27T07:37:25.223Z"
   },
   {
    "duration": 576,
    "start_time": "2024-05-27T07:37:25.260Z"
   },
   {
    "duration": 216,
    "start_time": "2024-05-27T07:37:25.838Z"
   },
   {
    "duration": 2,
    "start_time": "2024-05-27T07:37:26.056Z"
   },
   {
    "duration": 16,
    "start_time": "2024-05-27T07:37:26.061Z"
   },
   {
    "duration": 13,
    "start_time": "2024-05-27T07:37:26.078Z"
   },
   {
    "duration": 13,
    "start_time": "2024-05-27T07:37:26.092Z"
   },
   {
    "duration": 23,
    "start_time": "2024-05-27T07:37:26.106Z"
   },
   {
    "duration": 26,
    "start_time": "2024-05-27T07:37:26.130Z"
   },
   {
    "duration": 46,
    "start_time": "2024-05-27T07:37:26.157Z"
   },
   {
    "duration": 73,
    "start_time": "2024-05-27T07:37:26.204Z"
   },
   {
    "duration": 9,
    "start_time": "2024-05-27T07:37:26.279Z"
   },
   {
    "duration": 1117,
    "start_time": "2024-05-27T07:37:26.289Z"
   },
   {
    "duration": 7,
    "start_time": "2024-05-27T07:37:27.408Z"
   },
   {
    "duration": 1147,
    "start_time": "2024-05-27T07:37:27.416Z"
   },
   {
    "duration": 7,
    "start_time": "2024-05-27T07:37:28.564Z"
   },
   {
    "duration": 1099,
    "start_time": "2024-05-27T07:37:28.572Z"
   },
   {
    "duration": 1295,
    "start_time": "2024-05-27T07:37:35.610Z"
   },
   {
    "duration": 724,
    "start_time": "2024-05-27T07:37:37.800Z"
   },
   {
    "duration": 21,
    "start_time": "2024-05-27T07:37:41.130Z"
   },
   {
    "duration": 20,
    "start_time": "2024-05-27T07:37:42.384Z"
   },
   {
    "duration": 20,
    "start_time": "2024-05-27T07:37:43.453Z"
   },
   {
    "duration": 36,
    "start_time": "2024-05-27T07:37:44.258Z"
   },
   {
    "duration": 540,
    "start_time": "2024-05-27T07:37:45.009Z"
   },
   {
    "duration": 197,
    "start_time": "2024-05-27T07:37:46.431Z"
   },
   {
    "duration": 2,
    "start_time": "2024-05-27T07:37:50.083Z"
   },
   {
    "duration": 9,
    "start_time": "2024-05-27T07:37:51.215Z"
   },
   {
    "duration": 5,
    "start_time": "2024-05-27T07:37:52.268Z"
   },
   {
    "duration": 16,
    "start_time": "2024-05-27T07:37:54.619Z"
   },
   {
    "duration": 23,
    "start_time": "2024-05-27T07:37:56.836Z"
   },
   {
    "duration": 13,
    "start_time": "2024-05-27T07:37:57.859Z"
   },
   {
    "duration": 20,
    "start_time": "2024-05-27T07:37:59.192Z"
   },
   {
    "duration": 12,
    "start_time": "2024-05-27T07:37:59.640Z"
   },
   {
    "duration": 7,
    "start_time": "2024-05-27T07:38:03.680Z"
   },
   {
    "duration": 1087,
    "start_time": "2024-05-27T07:38:04.463Z"
   },
   {
    "duration": 7,
    "start_time": "2024-05-27T07:38:05.552Z"
   },
   {
    "duration": 1224,
    "start_time": "2024-05-27T07:38:05.935Z"
   },
   {
    "duration": 7,
    "start_time": "2024-05-27T07:38:07.161Z"
   },
   {
    "duration": 1082,
    "start_time": "2024-05-27T07:38:08.770Z"
   },
   {
    "duration": 256,
    "start_time": "2024-05-27T07:38:10.833Z"
   },
   {
    "duration": 484,
    "start_time": "2024-05-27T07:38:13.446Z"
   },
   {
    "duration": 575,
    "start_time": "2024-05-27T07:38:14.775Z"
   },
   {
    "duration": 5,
    "start_time": "2024-05-27T07:38:17.793Z"
   },
   {
    "duration": 4,
    "start_time": "2024-05-27T07:38:18.773Z"
   },
   {
    "duration": 5,
    "start_time": "2024-05-27T07:38:19.310Z"
   },
   {
    "duration": 4,
    "start_time": "2024-05-27T07:38:19.797Z"
   },
   {
    "duration": 1221,
    "start_time": "2024-05-27T07:38:20.330Z"
   },
   {
    "duration": 209,
    "start_time": "2024-05-27T07:38:23.975Z"
   },
   {
    "duration": 19,
    "start_time": "2024-05-27T07:38:25.432Z"
   },
   {
    "duration": 5,
    "start_time": "2024-05-27T07:38:27.146Z"
   },
   {
    "duration": 141,
    "start_time": "2024-05-27T07:38:31.049Z"
   },
   {
    "duration": 4,
    "start_time": "2024-05-27T07:38:34.515Z"
   },
   {
    "duration": 3,
    "start_time": "2024-05-27T07:38:35.608Z"
   },
   {
    "duration": 8,
    "start_time": "2024-05-27T07:38:38.572Z"
   },
   {
    "duration": 3,
    "start_time": "2024-05-27T07:38:39.716Z"
   },
   {
    "duration": 2,
    "start_time": "2024-05-27T07:38:40.181Z"
   },
   {
    "duration": 2,
    "start_time": "2024-05-27T07:38:42.519Z"
   },
   {
    "duration": 2,
    "start_time": "2024-05-27T07:38:43.227Z"
   },
   {
    "duration": 3,
    "start_time": "2024-05-27T07:38:44.272Z"
   },
   {
    "duration": 2,
    "start_time": "2024-05-27T07:38:45.413Z"
   },
   {
    "duration": 3,
    "start_time": "2024-05-27T07:38:46.070Z"
   },
   {
    "duration": 3,
    "start_time": "2024-05-27T07:38:46.662Z"
   },
   {
    "duration": 2,
    "start_time": "2024-05-27T07:38:47.959Z"
   },
   {
    "duration": 3,
    "start_time": "2024-05-27T07:38:48.605Z"
   },
   {
    "duration": 2,
    "start_time": "2024-05-27T07:38:49.213Z"
   },
   {
    "duration": 174651,
    "start_time": "2024-05-27T07:38:50.661Z"
   },
   {
    "duration": 171980,
    "start_time": "2024-05-27T07:41:45.314Z"
   },
   {
    "duration": 3,
    "start_time": "2024-05-27T07:44:37.296Z"
   },
   {
    "duration": 6120,
    "start_time": "2024-05-27T07:44:37.301Z"
   },
   {
    "duration": 3,
    "start_time": "2024-05-27T07:44:43.423Z"
   },
   {
    "duration": 3119,
    "start_time": "2024-05-27T07:44:43.427Z"
   },
   {
    "duration": 7,
    "start_time": "2024-05-27T07:44:46.548Z"
   },
   {
    "duration": 7,
    "start_time": "2024-05-27T07:44:46.646Z"
   },
   {
    "duration": 31,
    "start_time": "2024-05-27T07:44:46.654Z"
   },
   {
    "duration": 7,
    "start_time": "2024-05-27T07:44:46.687Z"
   },
   {
    "duration": 1684,
    "start_time": "2024-05-28T06:39:17.106Z"
   },
   {
    "duration": 1545,
    "start_time": "2024-05-28T06:39:18.793Z"
   },
   {
    "duration": 27,
    "start_time": "2024-05-28T06:39:22.552Z"
   },
   {
    "duration": 21,
    "start_time": "2024-05-28T06:39:24.689Z"
   },
   {
    "duration": 34,
    "start_time": "2024-05-28T06:39:26.098Z"
   },
   {
    "duration": 40,
    "start_time": "2024-05-28T06:39:27.343Z"
   },
   {
    "duration": 627,
    "start_time": "2024-05-28T06:39:28.809Z"
   },
   {
    "duration": 247,
    "start_time": "2024-05-28T06:39:30.811Z"
   },
   {
    "duration": 213,
    "start_time": "2024-05-28T06:39:46.183Z"
   },
   {
    "duration": 219,
    "start_time": "2024-05-28T06:39:52.027Z"
   },
   {
    "duration": 231,
    "start_time": "2024-05-28T06:40:01.255Z"
   },
   {
    "duration": 4,
    "start_time": "2024-05-28T06:40:06.718Z"
   },
   {
    "duration": 9,
    "start_time": "2024-05-28T06:40:08.743Z"
   },
   {
    "duration": 4,
    "start_time": "2024-05-28T06:40:10.065Z"
   },
   {
    "duration": 15,
    "start_time": "2024-05-28T06:40:12.856Z"
   },
   {
    "duration": 23,
    "start_time": "2024-05-28T06:40:14.431Z"
   },
   {
    "duration": 14,
    "start_time": "2024-05-28T06:40:15.307Z"
   },
   {
    "duration": 23,
    "start_time": "2024-05-28T06:40:16.231Z"
   },
   {
    "duration": 16,
    "start_time": "2024-05-28T06:40:16.575Z"
   },
   {
    "duration": 9,
    "start_time": "2024-05-28T06:40:18.443Z"
   },
   {
    "duration": 1167,
    "start_time": "2024-05-28T06:40:18.925Z"
   },
   {
    "duration": 11,
    "start_time": "2024-05-28T06:40:20.973Z"
   },
   {
    "duration": 1215,
    "start_time": "2024-05-28T06:40:21.525Z"
   },
   {
    "duration": 8,
    "start_time": "2024-05-28T06:40:23.549Z"
   },
   {
    "duration": 1171,
    "start_time": "2024-05-28T06:40:24.123Z"
   },
   {
    "duration": 292,
    "start_time": "2024-05-28T06:40:25.295Z"
   },
   {
    "duration": 441,
    "start_time": "2024-05-28T06:40:34.739Z"
   },
   {
    "duration": 598,
    "start_time": "2024-05-28T06:40:35.913Z"
   },
   {
    "duration": 6,
    "start_time": "2024-05-28T06:40:46.787Z"
   },
   {
    "duration": 6,
    "start_time": "2024-05-28T06:40:47.413Z"
   },
   {
    "duration": 6,
    "start_time": "2024-05-28T06:40:48.435Z"
   },
   {
    "duration": 7,
    "start_time": "2024-05-28T06:40:48.923Z"
   },
   {
    "duration": 1311,
    "start_time": "2024-05-28T06:40:49.611Z"
   },
   {
    "duration": 234,
    "start_time": "2024-05-28T06:40:53.055Z"
   },
   {
    "duration": 20,
    "start_time": "2024-05-28T06:40:54.229Z"
   },
   {
    "duration": 5,
    "start_time": "2024-05-28T06:40:54.766Z"
   },
   {
    "duration": 145,
    "start_time": "2024-05-28T06:40:55.131Z"
   },
   {
    "duration": 7,
    "start_time": "2024-05-28T06:40:57.849Z"
   },
   {
    "duration": 3,
    "start_time": "2024-05-28T06:40:58.845Z"
   },
   {
    "duration": 11,
    "start_time": "2024-05-28T06:41:01.247Z"
   },
   {
    "duration": 3,
    "start_time": "2024-05-28T06:41:02.141Z"
   },
   {
    "duration": 3,
    "start_time": "2024-05-28T06:41:02.937Z"
   },
   {
    "duration": 4,
    "start_time": "2024-05-28T06:41:04.323Z"
   },
   {
    "duration": 4,
    "start_time": "2024-05-28T06:41:04.805Z"
   },
   {
    "duration": 3,
    "start_time": "2024-05-28T06:41:05.421Z"
   },
   {
    "duration": 4,
    "start_time": "2024-05-28T06:41:06.997Z"
   },
   {
    "duration": 4,
    "start_time": "2024-05-28T06:41:07.607Z"
   },
   {
    "duration": 3,
    "start_time": "2024-05-28T06:41:08.132Z"
   },
   {
    "duration": 3,
    "start_time": "2024-05-28T06:41:09.261Z"
   },
   {
    "duration": 3,
    "start_time": "2024-05-28T06:41:10.027Z"
   },
   {
    "duration": 4,
    "start_time": "2024-05-28T06:41:10.783Z"
   },
   {
    "duration": 191684,
    "start_time": "2024-05-28T06:41:12.021Z"
   },
   {
    "duration": 189796,
    "start_time": "2024-05-28T06:44:23.707Z"
   },
   {
    "duration": 4,
    "start_time": "2024-05-28T06:47:33.504Z"
   },
   {
    "duration": 6407,
    "start_time": "2024-05-28T06:47:33.510Z"
   },
   {
    "duration": 3,
    "start_time": "2024-05-28T06:47:39.919Z"
   },
   {
    "duration": 3945,
    "start_time": "2024-05-28T06:47:39.924Z"
   },
   {
    "duration": 90,
    "start_time": "2024-05-28T06:47:43.873Z"
   },
   {
    "duration": 21,
    "start_time": "2024-05-28T06:47:43.965Z"
   },
   {
    "duration": 36,
    "start_time": "2024-05-28T06:47:43.988Z"
   },
   {
    "duration": 8,
    "start_time": "2024-05-28T06:47:44.027Z"
   }
  ],
  "kernelspec": {
   "display_name": "Python 3 (ipykernel)",
   "language": "python",
   "name": "python3"
  },
  "language_info": {
   "codemirror_mode": {
    "name": "ipython",
    "version": 3
   },
   "file_extension": ".py",
   "mimetype": "text/x-python",
   "name": "python",
   "nbconvert_exporter": "python",
   "pygments_lexer": "ipython3",
   "version": "3.9.5"
  },
  "toc": {
   "base_numbering": 1,
   "nav_menu": {},
   "number_sections": true,
   "sideBar": true,
   "skip_h1_title": true,
   "title_cell": "Содержание",
   "title_sidebar": "Contents",
   "toc_cell": true,
   "toc_position": {
    "height": "calc(100% - 180px)",
    "left": "10px",
    "top": "150px",
    "width": "191.797px"
   },
   "toc_section_display": true,
   "toc_window_display": true
  }
 },
 "nbformat": 4,
 "nbformat_minor": 2
}
