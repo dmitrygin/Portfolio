{
 "cells": [
  {
   "cell_type": "markdown",
   "metadata": {},
   "source": [
    "# Описание проекта\n",
    "Вы работаете в интернет-магазине «Стримчик», который продаёт по всему миру компьютерные игры. Из открытых источников доступны исторические данные о продажах игр, оценки пользователей и экспертов, жанры и платформы (например, Xbox или PlayStation). Вам нужно выявить определяющие успешность игры закономерности. Это позволит сделать ставку на потенциально популярный продукт и спланировать рекламные кампании. Перед вами данные до 2016 года. Представим, что сейчас декабрь 2016 г., и вы планируете кампанию на 2017-й. Нужно отработать принцип работы с данными. Неважно, прогнозируете ли вы продажи на 2017 год по данным 2016-го или же 2027-й — по данным 2026 года. В наборе данных попадается аббревиатура ESRB (Entertainment Software Rating Board) — это ассоциация, определяющая возрастной рейтинг компьютерных игр. ESRB оценивает игровой контент и присваивает ему подходящую возрастную категорию, например, «Для взрослых», «Для детей младшего возраста» или «Для подростков».\n",
    "\n"
   ]
  },
  {
   "cell_type": "markdown",
   "metadata": {},
   "source": [
    "# Датафрейм имеет следующую структуру:\n",
    "    \n",
    "Name — название игры\n",
    "\n",
    "Platform — платформа\n",
    "\n",
    "Year_of_Release — год выпуска\n",
    "\n",
    "Genre — жанр игры\n",
    "\n",
    "NA_sales — продажи в Северной Америке (миллионы долларов)\n",
    "\n",
    "EU_sales — продажи в Европе (миллионы долларов)\n",
    "\n",
    "JP_sales — продажи в Японии (миллионы долларов)\n",
    "\n",
    "Other_sales — продажи в других странах (миллионы долларов)\n",
    "\n",
    "Critic_Score — оценка критиков (максимум 100)\n",
    "\n",
    "User_Score — оценка пользователей (максимум 10)\n",
    "\n",
    "Rating — рейтинг от организации ESRB (англ. Entertainment Software Rating Board). Эта ассоциация определяет рейтинг компьютерных игр и присваивает им подходящую возрастную категорию.\n"
   ]
  },
  {
   "cell_type": "markdown",
   "metadata": {},
   "source": [
    "# План работы над проектом:\n",
    "    \n",
    "Просмотреть таблицу и выявить аномалии и пропущенные значения.\n",
    "\n",
    "Провести предобработку таблицы: замена столбцов, заполнение пропусков, удаление дубликатов и т.д.\n",
    "    \n",
    "Провести анализ по данным и подготовить актуальные данные.\n",
    "\n",
    "Составить портреты пользователей для купных регионов продаж.\n",
    "\n",
    "Выполнить проверку гипотез.\n",
    "\n",
    "Оформить проект и сделать выводы по каждому шагу."
   ]
  },
  {
   "cell_type": "markdown",
   "metadata": {},
   "source": [
    "# Шаг 1. Изучение и подготовка данных"
   ]
  },
  {
   "cell_type": "markdown",
   "metadata": {},
   "source": [
    "Подготовьте данные\n",
    "\n",
    "Замените названия столбцов (приведите к нижнему регистру);\n",
    "\n",
    "Преобразуйте данные в нужные типы. Опишите, в каких столбцах заменили тип данных и почему;\n",
    "\n",
    "Обработайте пропуски при необходимости:\n",
    "\n",
    "Объясните, почему заполнили пропуски определённым образом или почему не стали это делать;\n",
    "\n",
    "Опишите причины, которые могли привести к пропускам;\n",
    "\n",
    "Обратите внимание на аббревиатуру 'tbd' в столбце с оценкой пользователей. Отдельно разберите это значение и опишите, как его обработать;\n",
    "\n",
    "Посчитайте суммарные продажи во всех регионах и запишите их в отдельный столбец."
   ]
  },
  {
   "cell_type": "markdown",
   "metadata": {},
   "source": [
    "Подключение всех модулей для работы"
   ]
  },
  {
   "cell_type": "code",
   "execution_count": 48,
   "metadata": {},
   "outputs": [],
   "source": [
    "import pandas as pd\n",
    "import numpy as np\n",
    "import matplotlib.pyplot as plt\n",
    "from scipy.stats import ttest_ind\n",
    "import seaborn as sns\n",
    "from scipy import stats as st"
   ]
  },
  {
   "cell_type": "markdown",
   "metadata": {},
   "source": [
    "Подключение и чтение файла с данными"
   ]
  },
  {
   "cell_type": "code",
   "execution_count": 49,
   "metadata": {
    "scrolled": true
   },
   "outputs": [],
   "source": [
    "games = pd.read_csv('/datasets/games.csv')"
   ]
  },
  {
   "cell_type": "code",
   "execution_count": 50,
   "metadata": {
    "scrolled": true
   },
   "outputs": [
    {
     "data": {
      "text/html": [
       "<div>\n",
       "<style scoped>\n",
       "    .dataframe tbody tr th:only-of-type {\n",
       "        vertical-align: middle;\n",
       "    }\n",
       "\n",
       "    .dataframe tbody tr th {\n",
       "        vertical-align: top;\n",
       "    }\n",
       "\n",
       "    .dataframe thead th {\n",
       "        text-align: right;\n",
       "    }\n",
       "</style>\n",
       "<table border=\"1\" class=\"dataframe\">\n",
       "  <thead>\n",
       "    <tr style=\"text-align: right;\">\n",
       "      <th></th>\n",
       "      <th>Name</th>\n",
       "      <th>Platform</th>\n",
       "      <th>Year_of_Release</th>\n",
       "      <th>Genre</th>\n",
       "      <th>NA_sales</th>\n",
       "      <th>EU_sales</th>\n",
       "      <th>JP_sales</th>\n",
       "      <th>Other_sales</th>\n",
       "      <th>Critic_Score</th>\n",
       "      <th>User_Score</th>\n",
       "      <th>Rating</th>\n",
       "    </tr>\n",
       "  </thead>\n",
       "  <tbody>\n",
       "    <tr>\n",
       "      <th>0</th>\n",
       "      <td>Wii Sports</td>\n",
       "      <td>Wii</td>\n",
       "      <td>2006.0</td>\n",
       "      <td>Sports</td>\n",
       "      <td>41.36</td>\n",
       "      <td>28.96</td>\n",
       "      <td>3.77</td>\n",
       "      <td>8.45</td>\n",
       "      <td>76.0</td>\n",
       "      <td>8</td>\n",
       "      <td>E</td>\n",
       "    </tr>\n",
       "    <tr>\n",
       "      <th>1</th>\n",
       "      <td>Super Mario Bros.</td>\n",
       "      <td>NES</td>\n",
       "      <td>1985.0</td>\n",
       "      <td>Platform</td>\n",
       "      <td>29.08</td>\n",
       "      <td>3.58</td>\n",
       "      <td>6.81</td>\n",
       "      <td>0.77</td>\n",
       "      <td>NaN</td>\n",
       "      <td>NaN</td>\n",
       "      <td>NaN</td>\n",
       "    </tr>\n",
       "    <tr>\n",
       "      <th>2</th>\n",
       "      <td>Mario Kart Wii</td>\n",
       "      <td>Wii</td>\n",
       "      <td>2008.0</td>\n",
       "      <td>Racing</td>\n",
       "      <td>15.68</td>\n",
       "      <td>12.76</td>\n",
       "      <td>3.79</td>\n",
       "      <td>3.29</td>\n",
       "      <td>82.0</td>\n",
       "      <td>8.3</td>\n",
       "      <td>E</td>\n",
       "    </tr>\n",
       "    <tr>\n",
       "      <th>3</th>\n",
       "      <td>Wii Sports Resort</td>\n",
       "      <td>Wii</td>\n",
       "      <td>2009.0</td>\n",
       "      <td>Sports</td>\n",
       "      <td>15.61</td>\n",
       "      <td>10.93</td>\n",
       "      <td>3.28</td>\n",
       "      <td>2.95</td>\n",
       "      <td>80.0</td>\n",
       "      <td>8</td>\n",
       "      <td>E</td>\n",
       "    </tr>\n",
       "    <tr>\n",
       "      <th>4</th>\n",
       "      <td>Pokemon Red/Pokemon Blue</td>\n",
       "      <td>GB</td>\n",
       "      <td>1996.0</td>\n",
       "      <td>Role-Playing</td>\n",
       "      <td>11.27</td>\n",
       "      <td>8.89</td>\n",
       "      <td>10.22</td>\n",
       "      <td>1.00</td>\n",
       "      <td>NaN</td>\n",
       "      <td>NaN</td>\n",
       "      <td>NaN</td>\n",
       "    </tr>\n",
       "    <tr>\n",
       "      <th>5</th>\n",
       "      <td>Tetris</td>\n",
       "      <td>GB</td>\n",
       "      <td>1989.0</td>\n",
       "      <td>Puzzle</td>\n",
       "      <td>23.20</td>\n",
       "      <td>2.26</td>\n",
       "      <td>4.22</td>\n",
       "      <td>0.58</td>\n",
       "      <td>NaN</td>\n",
       "      <td>NaN</td>\n",
       "      <td>NaN</td>\n",
       "    </tr>\n",
       "    <tr>\n",
       "      <th>6</th>\n",
       "      <td>New Super Mario Bros.</td>\n",
       "      <td>DS</td>\n",
       "      <td>2006.0</td>\n",
       "      <td>Platform</td>\n",
       "      <td>11.28</td>\n",
       "      <td>9.14</td>\n",
       "      <td>6.50</td>\n",
       "      <td>2.88</td>\n",
       "      <td>89.0</td>\n",
       "      <td>8.5</td>\n",
       "      <td>E</td>\n",
       "    </tr>\n",
       "    <tr>\n",
       "      <th>7</th>\n",
       "      <td>Wii Play</td>\n",
       "      <td>Wii</td>\n",
       "      <td>2006.0</td>\n",
       "      <td>Misc</td>\n",
       "      <td>13.96</td>\n",
       "      <td>9.18</td>\n",
       "      <td>2.93</td>\n",
       "      <td>2.84</td>\n",
       "      <td>58.0</td>\n",
       "      <td>6.6</td>\n",
       "      <td>E</td>\n",
       "    </tr>\n",
       "    <tr>\n",
       "      <th>8</th>\n",
       "      <td>New Super Mario Bros. Wii</td>\n",
       "      <td>Wii</td>\n",
       "      <td>2009.0</td>\n",
       "      <td>Platform</td>\n",
       "      <td>14.44</td>\n",
       "      <td>6.94</td>\n",
       "      <td>4.70</td>\n",
       "      <td>2.24</td>\n",
       "      <td>87.0</td>\n",
       "      <td>8.4</td>\n",
       "      <td>E</td>\n",
       "    </tr>\n",
       "    <tr>\n",
       "      <th>9</th>\n",
       "      <td>Duck Hunt</td>\n",
       "      <td>NES</td>\n",
       "      <td>1984.0</td>\n",
       "      <td>Shooter</td>\n",
       "      <td>26.93</td>\n",
       "      <td>0.63</td>\n",
       "      <td>0.28</td>\n",
       "      <td>0.47</td>\n",
       "      <td>NaN</td>\n",
       "      <td>NaN</td>\n",
       "      <td>NaN</td>\n",
       "    </tr>\n",
       "  </tbody>\n",
       "</table>\n",
       "</div>"
      ],
      "text/plain": [
       "                        Name Platform  Year_of_Release         Genre  \\\n",
       "0                 Wii Sports      Wii           2006.0        Sports   \n",
       "1          Super Mario Bros.      NES           1985.0      Platform   \n",
       "2             Mario Kart Wii      Wii           2008.0        Racing   \n",
       "3          Wii Sports Resort      Wii           2009.0        Sports   \n",
       "4   Pokemon Red/Pokemon Blue       GB           1996.0  Role-Playing   \n",
       "5                     Tetris       GB           1989.0        Puzzle   \n",
       "6      New Super Mario Bros.       DS           2006.0      Platform   \n",
       "7                   Wii Play      Wii           2006.0          Misc   \n",
       "8  New Super Mario Bros. Wii      Wii           2009.0      Platform   \n",
       "9                  Duck Hunt      NES           1984.0       Shooter   \n",
       "\n",
       "   NA_sales  EU_sales  JP_sales  Other_sales  Critic_Score User_Score Rating  \n",
       "0     41.36     28.96      3.77         8.45          76.0          8      E  \n",
       "1     29.08      3.58      6.81         0.77           NaN        NaN    NaN  \n",
       "2     15.68     12.76      3.79         3.29          82.0        8.3      E  \n",
       "3     15.61     10.93      3.28         2.95          80.0          8      E  \n",
       "4     11.27      8.89     10.22         1.00           NaN        NaN    NaN  \n",
       "5     23.20      2.26      4.22         0.58           NaN        NaN    NaN  \n",
       "6     11.28      9.14      6.50         2.88          89.0        8.5      E  \n",
       "7     13.96      9.18      2.93         2.84          58.0        6.6      E  \n",
       "8     14.44      6.94      4.70         2.24          87.0        8.4      E  \n",
       "9     26.93      0.63      0.28         0.47           NaN        NaN    NaN  "
      ]
     },
     "execution_count": 50,
     "metadata": {},
     "output_type": "execute_result"
    }
   ],
   "source": [
    "games.head(10)"
   ]
  },
  {
   "cell_type": "code",
   "execution_count": 51,
   "metadata": {},
   "outputs": [
    {
     "name": "stdout",
     "output_type": "stream",
     "text": [
      "<class 'pandas.core.frame.DataFrame'>\n",
      "RangeIndex: 16715 entries, 0 to 16714\n",
      "Data columns (total 11 columns):\n",
      " #   Column           Non-Null Count  Dtype  \n",
      "---  ------           --------------  -----  \n",
      " 0   Name             16713 non-null  object \n",
      " 1   Platform         16715 non-null  object \n",
      " 2   Year_of_Release  16446 non-null  float64\n",
      " 3   Genre            16713 non-null  object \n",
      " 4   NA_sales         16715 non-null  float64\n",
      " 5   EU_sales         16715 non-null  float64\n",
      " 6   JP_sales         16715 non-null  float64\n",
      " 7   Other_sales      16715 non-null  float64\n",
      " 8   Critic_Score     8137 non-null   float64\n",
      " 9   User_Score       10014 non-null  object \n",
      " 10  Rating           9949 non-null   object \n",
      "dtypes: float64(6), object(5)\n",
      "memory usage: 1.4+ MB\n"
     ]
    }
   ],
   "source": [
    "games.info()"
   ]
  },
  {
   "cell_type": "code",
   "execution_count": 52,
   "metadata": {
    "scrolled": true
   },
   "outputs": [
    {
     "data": {
      "text/html": [
       "<div>\n",
       "<style scoped>\n",
       "    .dataframe tbody tr th:only-of-type {\n",
       "        vertical-align: middle;\n",
       "    }\n",
       "\n",
       "    .dataframe tbody tr th {\n",
       "        vertical-align: top;\n",
       "    }\n",
       "\n",
       "    .dataframe thead th {\n",
       "        text-align: right;\n",
       "    }\n",
       "</style>\n",
       "<table border=\"1\" class=\"dataframe\">\n",
       "  <thead>\n",
       "    <tr style=\"text-align: right;\">\n",
       "      <th></th>\n",
       "      <th>Year_of_Release</th>\n",
       "      <th>NA_sales</th>\n",
       "      <th>EU_sales</th>\n",
       "      <th>JP_sales</th>\n",
       "      <th>Other_sales</th>\n",
       "      <th>Critic_Score</th>\n",
       "    </tr>\n",
       "  </thead>\n",
       "  <tbody>\n",
       "    <tr>\n",
       "      <th>count</th>\n",
       "      <td>16446.000000</td>\n",
       "      <td>16715.000000</td>\n",
       "      <td>16715.000000</td>\n",
       "      <td>16715.000000</td>\n",
       "      <td>16715.000000</td>\n",
       "      <td>8137.000000</td>\n",
       "    </tr>\n",
       "    <tr>\n",
       "      <th>mean</th>\n",
       "      <td>2006.484616</td>\n",
       "      <td>0.263377</td>\n",
       "      <td>0.145060</td>\n",
       "      <td>0.077617</td>\n",
       "      <td>0.047342</td>\n",
       "      <td>68.967679</td>\n",
       "    </tr>\n",
       "    <tr>\n",
       "      <th>std</th>\n",
       "      <td>5.877050</td>\n",
       "      <td>0.813604</td>\n",
       "      <td>0.503339</td>\n",
       "      <td>0.308853</td>\n",
       "      <td>0.186731</td>\n",
       "      <td>13.938165</td>\n",
       "    </tr>\n",
       "    <tr>\n",
       "      <th>min</th>\n",
       "      <td>1980.000000</td>\n",
       "      <td>0.000000</td>\n",
       "      <td>0.000000</td>\n",
       "      <td>0.000000</td>\n",
       "      <td>0.000000</td>\n",
       "      <td>13.000000</td>\n",
       "    </tr>\n",
       "    <tr>\n",
       "      <th>25%</th>\n",
       "      <td>2003.000000</td>\n",
       "      <td>0.000000</td>\n",
       "      <td>0.000000</td>\n",
       "      <td>0.000000</td>\n",
       "      <td>0.000000</td>\n",
       "      <td>60.000000</td>\n",
       "    </tr>\n",
       "    <tr>\n",
       "      <th>50%</th>\n",
       "      <td>2007.000000</td>\n",
       "      <td>0.080000</td>\n",
       "      <td>0.020000</td>\n",
       "      <td>0.000000</td>\n",
       "      <td>0.010000</td>\n",
       "      <td>71.000000</td>\n",
       "    </tr>\n",
       "    <tr>\n",
       "      <th>75%</th>\n",
       "      <td>2010.000000</td>\n",
       "      <td>0.240000</td>\n",
       "      <td>0.110000</td>\n",
       "      <td>0.040000</td>\n",
       "      <td>0.030000</td>\n",
       "      <td>79.000000</td>\n",
       "    </tr>\n",
       "    <tr>\n",
       "      <th>max</th>\n",
       "      <td>2016.000000</td>\n",
       "      <td>41.360000</td>\n",
       "      <td>28.960000</td>\n",
       "      <td>10.220000</td>\n",
       "      <td>10.570000</td>\n",
       "      <td>98.000000</td>\n",
       "    </tr>\n",
       "  </tbody>\n",
       "</table>\n",
       "</div>"
      ],
      "text/plain": [
       "       Year_of_Release      NA_sales      EU_sales      JP_sales  \\\n",
       "count     16446.000000  16715.000000  16715.000000  16715.000000   \n",
       "mean       2006.484616      0.263377      0.145060      0.077617   \n",
       "std           5.877050      0.813604      0.503339      0.308853   \n",
       "min        1980.000000      0.000000      0.000000      0.000000   \n",
       "25%        2003.000000      0.000000      0.000000      0.000000   \n",
       "50%        2007.000000      0.080000      0.020000      0.000000   \n",
       "75%        2010.000000      0.240000      0.110000      0.040000   \n",
       "max        2016.000000     41.360000     28.960000     10.220000   \n",
       "\n",
       "        Other_sales  Critic_Score  \n",
       "count  16715.000000   8137.000000  \n",
       "mean       0.047342     68.967679  \n",
       "std        0.186731     13.938165  \n",
       "min        0.000000     13.000000  \n",
       "25%        0.000000     60.000000  \n",
       "50%        0.010000     71.000000  \n",
       "75%        0.030000     79.000000  \n",
       "max       10.570000     98.000000  "
      ]
     },
     "execution_count": 52,
     "metadata": {},
     "output_type": "execute_result"
    }
   ],
   "source": [
    "games.describe() "
   ]
  },
  {
   "cell_type": "markdown",
   "metadata": {},
   "source": [
    "Вывод: \n",
    "\n",
    "-увидел много пропусков; \n",
    "\n",
    "-Year_of_Release имеет формат float, а должен быть int;\n",
    "       \n",
    "-User_Score имеет тип object, а должен быть float"
   ]
  },
  {
   "cell_type": "markdown",
   "metadata": {},
   "source": [
    "Проверим кол-во пропусков"
   ]
  },
  {
   "cell_type": "code",
   "execution_count": 53,
   "metadata": {},
   "outputs": [
    {
     "data": {
      "text/plain": [
       "Name                  2\n",
       "Platform              0\n",
       "Year_of_Release     269\n",
       "Genre                 2\n",
       "NA_sales              0\n",
       "EU_sales              0\n",
       "JP_sales              0\n",
       "Other_sales           0\n",
       "Critic_Score       8578\n",
       "User_Score         6701\n",
       "Rating             6766\n",
       "dtype: int64"
      ]
     },
     "execution_count": 53,
     "metadata": {},
     "output_type": "execute_result"
    }
   ],
   "source": [
    "games.isna().sum()"
   ]
  },
  {
   "cell_type": "markdown",
   "metadata": {},
   "source": [
    "вывод: \n",
    "Пропусков много и они могли возникнуть по многим причинам:\n",
    "\n",
    "-техническая ошибка;\n",
    "\n",
    "-игра не популярна и ее никто не оценивал\n",
    "\n",
    "Заменим пропущенные значения на пустые строки в стобцах Name и Genre:"
   ]
  },
  {
   "cell_type": "code",
   "execution_count": 54,
   "metadata": {},
   "outputs": [],
   "source": [
    "games.columns = games.columns.str.lower() #переименуем столбцы"
   ]
  },
  {
   "cell_type": "code",
   "execution_count": 55,
   "metadata": {},
   "outputs": [],
   "source": [
    "#замена пропущенных значений на пустые строки\n",
    "\n",
    "games.fillna(\n",
    "    {\"name\" : \" \", \n",
    "     \"genre\" : \" \"}\n",
    "    , inplace=True\n",
    ")"
   ]
  },
  {
   "cell_type": "markdown",
   "metadata": {},
   "source": [
    "TBD - аббревиатура от английского To Be Determined (будет определено) или To Be Decided (будет решено)\n",
    "Скорее всего либо не было оценок, либо их было очень мало для формирования рейтинга"
   ]
  },
  {
   "cell_type": "markdown",
   "metadata": {},
   "source": [
    "Заменим значение \"tbd\" - \"to be determined\" на NaN"
   ]
  },
  {
   "cell_type": "code",
   "execution_count": 56,
   "metadata": {},
   "outputs": [
    {
     "data": {
      "text/plain": [
       "array(['8', nan, '8.3', '8.5', '6.6', '8.4', '8.6', '7.7', '6.3', '7.4',\n",
       "       '8.2', '9', '7.9', '8.1', '8.7', '7.1', '3.4', '5.3', '4.8', '3.2',\n",
       "       '8.9', '6.4', '7.8', '7.5', '2.6', '7.2', '9.2', '7', '7.3', '4.3',\n",
       "       '7.6', '5.7', '5', '9.1', '6.5', '8.8', '6.9', '9.4', '6.8', '6.1',\n",
       "       '6.7', '5.4', '4', '4.9', '4.5', '9.3', '6.2', '4.2', '6', '3.7',\n",
       "       '4.1', '5.8', '5.6', '5.5', '4.4', '4.6', '5.9', '3.9', '3.1',\n",
       "       '2.9', '5.2', '3.3', '4.7', '5.1', '3.5', '2.5', '1.9', '3', '2.7',\n",
       "       '2.2', '2', '9.5', '2.1', '3.6', '2.8', '1.8', '3.8', '0', '1.6',\n",
       "       '9.6', '2.4', '1.7', '1.1', '0.3', '1.5', '0.7', '1.2', '2.3',\n",
       "       '0.5', '1.3', '0.2', '0.6', '1.4', '0.9', '1', '9.7'], dtype=object)"
      ]
     },
     "execution_count": 56,
     "metadata": {},
     "output_type": "execute_result"
    }
   ],
   "source": [
    "games['user_score'] = games['user_score'].replace('tbd', np.NaN)\n",
    "games['user_score'].unique()\n",
    "#games['user_score'] = games['user_score'].astype('float')"
   ]
  },
  {
   "cell_type": "code",
   "execution_count": 57,
   "metadata": {},
   "outputs": [
    {
     "data": {
      "text/plain": [
       "array([76., nan, 82., 80., 89., 58., 87., 91., 61., 97., 95., 77., 88.,\n",
       "       83., 94., 93., 85., 86., 98., 96., 90., 84., 73., 74., 78., 92.,\n",
       "       71., 72., 68., 62., 49., 67., 81., 66., 56., 79., 70., 59., 64.,\n",
       "       75., 60., 63., 69., 50., 25., 42., 44., 55., 48., 57., 29., 47.,\n",
       "       65., 54., 20., 53., 37., 38., 33., 52., 30., 32., 43., 45., 51.,\n",
       "       40., 46., 39., 34., 35., 41., 36., 28., 31., 27., 26., 19., 23.,\n",
       "       24., 21., 17., 22., 13.])"
      ]
     },
     "execution_count": 57,
     "metadata": {},
     "output_type": "execute_result"
    }
   ],
   "source": [
    "games['critic_score'].unique() #critic_score содержит в себе целые числа"
   ]
  },
  {
   "cell_type": "markdown",
   "metadata": {},
   "source": [
    "Приведем годы и оценки критиков в целочисленный тип:"
   ]
  },
  {
   "cell_type": "code",
   "execution_count": 58,
   "metadata": {},
   "outputs": [],
   "source": [
    "games['year_of_release'] = games['year_of_release'].astype('Int64')\n",
    "games['critic_score'] = games['critic_score'].astype('Int64')\n"
   ]
  },
  {
   "cell_type": "markdown",
   "metadata": {},
   "source": [
    "Оценки пользователей приведем к типу float:"
   ]
  },
  {
   "cell_type": "code",
   "execution_count": 59,
   "metadata": {},
   "outputs": [],
   "source": [
    "games['user_score'] = games['user_score'].astype('float64')\n"
   ]
  },
  {
   "cell_type": "markdown",
   "metadata": {},
   "source": [
    "Создадим отдельный столбец с суммой продаж по всем регионам 'total_sales'"
   ]
  },
  {
   "cell_type": "code",
   "execution_count": 60,
   "metadata": {},
   "outputs": [],
   "source": [
    "games['total_sales'] = games['na_sales'] + games['eu_sales'] + games['jp_sales'] + games['other_sales']"
   ]
  },
  {
   "cell_type": "markdown",
   "metadata": {},
   "source": [
    "Заменим пропущенные значения на \"undefiend\":"
   ]
  },
  {
   "cell_type": "code",
   "execution_count": 61,
   "metadata": {},
   "outputs": [],
   "source": [
    "games[\"rating\"] = games['rating'].fillna(\"undefined\")"
   ]
  },
  {
   "cell_type": "code",
   "execution_count": 62,
   "metadata": {
    "scrolled": false
   },
   "outputs": [
    {
     "data": {
      "text/html": [
       "<div>\n",
       "<style scoped>\n",
       "    .dataframe tbody tr th:only-of-type {\n",
       "        vertical-align: middle;\n",
       "    }\n",
       "\n",
       "    .dataframe tbody tr th {\n",
       "        vertical-align: top;\n",
       "    }\n",
       "\n",
       "    .dataframe thead th {\n",
       "        text-align: right;\n",
       "    }\n",
       "</style>\n",
       "<table border=\"1\" class=\"dataframe\">\n",
       "  <thead>\n",
       "    <tr style=\"text-align: right;\">\n",
       "      <th></th>\n",
       "      <th>name</th>\n",
       "      <th>platform</th>\n",
       "      <th>year_of_release</th>\n",
       "      <th>genre</th>\n",
       "      <th>na_sales</th>\n",
       "      <th>eu_sales</th>\n",
       "      <th>jp_sales</th>\n",
       "      <th>other_sales</th>\n",
       "      <th>critic_score</th>\n",
       "      <th>user_score</th>\n",
       "      <th>rating</th>\n",
       "      <th>total_sales</th>\n",
       "    </tr>\n",
       "  </thead>\n",
       "  <tbody>\n",
       "    <tr>\n",
       "      <th>0</th>\n",
       "      <td>Wii Sports</td>\n",
       "      <td>Wii</td>\n",
       "      <td>2006</td>\n",
       "      <td>Sports</td>\n",
       "      <td>41.36</td>\n",
       "      <td>28.96</td>\n",
       "      <td>3.77</td>\n",
       "      <td>8.45</td>\n",
       "      <td>76</td>\n",
       "      <td>8.0</td>\n",
       "      <td>E</td>\n",
       "      <td>82.54</td>\n",
       "    </tr>\n",
       "    <tr>\n",
       "      <th>1</th>\n",
       "      <td>Super Mario Bros.</td>\n",
       "      <td>NES</td>\n",
       "      <td>1985</td>\n",
       "      <td>Platform</td>\n",
       "      <td>29.08</td>\n",
       "      <td>3.58</td>\n",
       "      <td>6.81</td>\n",
       "      <td>0.77</td>\n",
       "      <td>&lt;NA&gt;</td>\n",
       "      <td>NaN</td>\n",
       "      <td>undefined</td>\n",
       "      <td>40.24</td>\n",
       "    </tr>\n",
       "    <tr>\n",
       "      <th>2</th>\n",
       "      <td>Mario Kart Wii</td>\n",
       "      <td>Wii</td>\n",
       "      <td>2008</td>\n",
       "      <td>Racing</td>\n",
       "      <td>15.68</td>\n",
       "      <td>12.76</td>\n",
       "      <td>3.79</td>\n",
       "      <td>3.29</td>\n",
       "      <td>82</td>\n",
       "      <td>8.3</td>\n",
       "      <td>E</td>\n",
       "      <td>35.52</td>\n",
       "    </tr>\n",
       "    <tr>\n",
       "      <th>3</th>\n",
       "      <td>Wii Sports Resort</td>\n",
       "      <td>Wii</td>\n",
       "      <td>2009</td>\n",
       "      <td>Sports</td>\n",
       "      <td>15.61</td>\n",
       "      <td>10.93</td>\n",
       "      <td>3.28</td>\n",
       "      <td>2.95</td>\n",
       "      <td>80</td>\n",
       "      <td>8.0</td>\n",
       "      <td>E</td>\n",
       "      <td>32.77</td>\n",
       "    </tr>\n",
       "    <tr>\n",
       "      <th>4</th>\n",
       "      <td>Pokemon Red/Pokemon Blue</td>\n",
       "      <td>GB</td>\n",
       "      <td>1996</td>\n",
       "      <td>Role-Playing</td>\n",
       "      <td>11.27</td>\n",
       "      <td>8.89</td>\n",
       "      <td>10.22</td>\n",
       "      <td>1.00</td>\n",
       "      <td>&lt;NA&gt;</td>\n",
       "      <td>NaN</td>\n",
       "      <td>undefined</td>\n",
       "      <td>31.38</td>\n",
       "    </tr>\n",
       "    <tr>\n",
       "      <th>5</th>\n",
       "      <td>Tetris</td>\n",
       "      <td>GB</td>\n",
       "      <td>1989</td>\n",
       "      <td>Puzzle</td>\n",
       "      <td>23.20</td>\n",
       "      <td>2.26</td>\n",
       "      <td>4.22</td>\n",
       "      <td>0.58</td>\n",
       "      <td>&lt;NA&gt;</td>\n",
       "      <td>NaN</td>\n",
       "      <td>undefined</td>\n",
       "      <td>30.26</td>\n",
       "    </tr>\n",
       "    <tr>\n",
       "      <th>6</th>\n",
       "      <td>New Super Mario Bros.</td>\n",
       "      <td>DS</td>\n",
       "      <td>2006</td>\n",
       "      <td>Platform</td>\n",
       "      <td>11.28</td>\n",
       "      <td>9.14</td>\n",
       "      <td>6.50</td>\n",
       "      <td>2.88</td>\n",
       "      <td>89</td>\n",
       "      <td>8.5</td>\n",
       "      <td>E</td>\n",
       "      <td>29.80</td>\n",
       "    </tr>\n",
       "    <tr>\n",
       "      <th>7</th>\n",
       "      <td>Wii Play</td>\n",
       "      <td>Wii</td>\n",
       "      <td>2006</td>\n",
       "      <td>Misc</td>\n",
       "      <td>13.96</td>\n",
       "      <td>9.18</td>\n",
       "      <td>2.93</td>\n",
       "      <td>2.84</td>\n",
       "      <td>58</td>\n",
       "      <td>6.6</td>\n",
       "      <td>E</td>\n",
       "      <td>28.91</td>\n",
       "    </tr>\n",
       "    <tr>\n",
       "      <th>8</th>\n",
       "      <td>New Super Mario Bros. Wii</td>\n",
       "      <td>Wii</td>\n",
       "      <td>2009</td>\n",
       "      <td>Platform</td>\n",
       "      <td>14.44</td>\n",
       "      <td>6.94</td>\n",
       "      <td>4.70</td>\n",
       "      <td>2.24</td>\n",
       "      <td>87</td>\n",
       "      <td>8.4</td>\n",
       "      <td>E</td>\n",
       "      <td>28.32</td>\n",
       "    </tr>\n",
       "    <tr>\n",
       "      <th>9</th>\n",
       "      <td>Duck Hunt</td>\n",
       "      <td>NES</td>\n",
       "      <td>1984</td>\n",
       "      <td>Shooter</td>\n",
       "      <td>26.93</td>\n",
       "      <td>0.63</td>\n",
       "      <td>0.28</td>\n",
       "      <td>0.47</td>\n",
       "      <td>&lt;NA&gt;</td>\n",
       "      <td>NaN</td>\n",
       "      <td>undefined</td>\n",
       "      <td>28.31</td>\n",
       "    </tr>\n",
       "  </tbody>\n",
       "</table>\n",
       "</div>"
      ],
      "text/plain": [
       "                        name platform  year_of_release         genre  \\\n",
       "0                 Wii Sports      Wii             2006        Sports   \n",
       "1          Super Mario Bros.      NES             1985      Platform   \n",
       "2             Mario Kart Wii      Wii             2008        Racing   \n",
       "3          Wii Sports Resort      Wii             2009        Sports   \n",
       "4   Pokemon Red/Pokemon Blue       GB             1996  Role-Playing   \n",
       "5                     Tetris       GB             1989        Puzzle   \n",
       "6      New Super Mario Bros.       DS             2006      Platform   \n",
       "7                   Wii Play      Wii             2006          Misc   \n",
       "8  New Super Mario Bros. Wii      Wii             2009      Platform   \n",
       "9                  Duck Hunt      NES             1984       Shooter   \n",
       "\n",
       "   na_sales  eu_sales  jp_sales  other_sales  critic_score  user_score  \\\n",
       "0     41.36     28.96      3.77         8.45            76         8.0   \n",
       "1     29.08      3.58      6.81         0.77          <NA>         NaN   \n",
       "2     15.68     12.76      3.79         3.29            82         8.3   \n",
       "3     15.61     10.93      3.28         2.95            80         8.0   \n",
       "4     11.27      8.89     10.22         1.00          <NA>         NaN   \n",
       "5     23.20      2.26      4.22         0.58          <NA>         NaN   \n",
       "6     11.28      9.14      6.50         2.88            89         8.5   \n",
       "7     13.96      9.18      2.93         2.84            58         6.6   \n",
       "8     14.44      6.94      4.70         2.24            87         8.4   \n",
       "9     26.93      0.63      0.28         0.47          <NA>         NaN   \n",
       "\n",
       "      rating  total_sales  \n",
       "0          E        82.54  \n",
       "1  undefined        40.24  \n",
       "2          E        35.52  \n",
       "3          E        32.77  \n",
       "4  undefined        31.38  \n",
       "5  undefined        30.26  \n",
       "6          E        29.80  \n",
       "7          E        28.91  \n",
       "8          E        28.32  \n",
       "9  undefined        28.31  "
      ]
     },
     "execution_count": 62,
     "metadata": {},
     "output_type": "execute_result"
    }
   ],
   "source": [
    "games.head(10)"
   ]
  },
  {
   "cell_type": "markdown",
   "metadata": {},
   "source": [
    "Удаление дупликатов"
   ]
  },
  {
   "cell_type": "code",
   "execution_count": 63,
   "metadata": {},
   "outputs": [
    {
     "name": "stdout",
     "output_type": "stream",
     "text": [
      "<class 'pandas.core.frame.DataFrame'>\n",
      "RangeIndex: 16715 entries, 0 to 16714\n",
      "Data columns (total 12 columns):\n",
      " #   Column           Non-Null Count  Dtype  \n",
      "---  ------           --------------  -----  \n",
      " 0   name             16715 non-null  object \n",
      " 1   platform         16715 non-null  object \n",
      " 2   year_of_release  16446 non-null  Int64  \n",
      " 3   genre            16715 non-null  object \n",
      " 4   na_sales         16715 non-null  float64\n",
      " 5   eu_sales         16715 non-null  float64\n",
      " 6   jp_sales         16715 non-null  float64\n",
      " 7   other_sales      16715 non-null  float64\n",
      " 8   critic_score     8137 non-null   Int64  \n",
      " 9   user_score       7590 non-null   float64\n",
      " 10  rating           16715 non-null  object \n",
      " 11  total_sales      16715 non-null  float64\n",
      "dtypes: Int64(2), float64(6), object(4)\n",
      "memory usage: 1.6+ MB\n"
     ]
    }
   ],
   "source": [
    "games.drop_duplicates()\n",
    "games.info()"
   ]
  },
  {
   "cell_type": "markdown",
   "metadata": {},
   "source": [
    "Поиск дупликатов по названию игры,платформе и году."
   ]
  },
  {
   "cell_type": "code",
   "execution_count": 64,
   "metadata": {
    "scrolled": true
   },
   "outputs": [
    {
     "name": "stdout",
     "output_type": "stream",
     "text": [
      "<class 'pandas.core.frame.DataFrame'>\n",
      "RangeIndex: 16715 entries, 0 to 16714\n",
      "Data columns (total 3 columns):\n",
      " #   Column           Non-Null Count  Dtype \n",
      "---  ------           --------------  ----- \n",
      " 0   name             16715 non-null  object\n",
      " 1   platform         16715 non-null  object\n",
      " 2   year_of_release  16446 non-null  Int64 \n",
      "dtypes: Int64(1), object(2)\n",
      "memory usage: 408.2+ KB\n"
     ]
    }
   ],
   "source": [
    "part_games = games.loc[:, 'name':'year_of_release']\n",
    "part_games.drop_duplicates()\n",
    "part_games.info()"
   ]
  },
  {
   "cell_type": "markdown",
   "metadata": {},
   "source": []
  },
  {
   "cell_type": "markdown",
   "metadata": {},
   "source": []
  },
  {
   "cell_type": "markdown",
   "metadata": {},
   "source": [
    "Вывод: \n",
    "\n",
    "-проведены первичная обработка и анализ данных;\n",
    "    \n",
    "-пропусков много и они могли возникнуть по причинам технической ошибки или в силу того,что игра не популярна\n",
    " и ее никто не оценивал;\n",
    "\n",
    "-заменил пропущенные значения на пустые строки в стобцах Name и Genre;\n",
    "        \n",
    "-привел годы и оценки критиков в целочисленный тип; \n",
    "\n",
    "-привел оценки пользователей к типу float;\n",
    "\n",
    "-заменил в \"rating\" пропущенные значения на \"undefiend\";\n",
    "\n",
    "-добавил отдельный столбец с суммой продаж по всем регионам 'total_sales'"
   ]
  },
  {
   "cell_type": "markdown",
   "metadata": {},
   "source": [
    "# Шаг 2. Исследовательский анализ данных\n"
   ]
  },
  {
   "cell_type": "markdown",
   "metadata": {},
   "source": [
    "Необходимо провести исследование и ответить на следующие вопросы:\n",
    "\n",
    "Посмотрите, сколько игр выпускалось в разные годы. Важны ли данные за все периоды?\n",
    "\n",
    "Посмотрите, как менялись продажи по платформам. Выберите платформы с наибольшими суммарными продажами и постройте распределение по годам. За какой характерный срок появляются новые и исчезают старые платформы?\n",
    "\n",
    "Возьмите данные за соответствующий актуальный период. Актуальный период определите самостоятельно в результате исследования предыдущих вопросов. Основной фактор — эти данные помогут построить прогноз на 2017 год.\n",
    "Не учитывайте в работе данные за предыдущие годы.\n",
    "\n",
    "Какие платформы лидируют по продажам, растут или падают? Выберите несколько потенциально прибыльных платформ.\n",
    "\n",
    "Постройте график «ящик с усами» по глобальным продажам игр в разбивке по платформам. Опишите результат.\n",
    "\n",
    "Посмотрите, как влияют на продажи внутри одной популярной платформы отзывы пользователей и критиков.\n",
    "Постройте диаграмму рассеяния и посчитайте корреляцию между отзывами и продажами. Сформулируйте выводы.\n",
    "\n",
    "Соотнесите выводы с продажами игр на других платформах.\n",
    "\n",
    "Посмотрите на общее распределение игр по жанрам. Что можно сказать о самых прибыльных жанрах? Выделяются ли жанры с высокими и низкими продажами?"
   ]
  },
  {
   "cell_type": "markdown",
   "metadata": {},
   "source": [
    "# Сколько игр выпускалось в разные годы. Важны ли данные за все периоды?"
   ]
  },
  {
   "cell_type": "code",
   "execution_count": 65,
   "metadata": {},
   "outputs": [],
   "source": [
    "def create_any_bar(groupby_column, func, y='name'):\n",
    "    plt.style.use('seaborn-pastel')\n",
    "    df_to_plot = games.groupby(groupby_column)[y]\n",
    "    if func == 'count':\n",
    "        df_to_plot_calculated = df_to_plot.count()\n",
    "        figsize = (15,5)\n",
    "        plot = df_to_plot_calculated.plot(kind='bar', y=y, figsize=figsize, ec='black')\n",
    "    elif func == 'sum':\n",
    "        df_to_plot_calculated = df_to_plot.sum().sort_values()\n",
    "        figsize = (15,10)\n",
    "        plot = df_to_plot_calculated.plot(kind='bar', y=y, figsize=figsize, ec='black')"
   ]
  },
  {
   "cell_type": "code",
   "execution_count": 66,
   "metadata": {
    "scrolled": true
   },
   "outputs": [
    {
     "data": {
      "image/png": "[encoded data removed]",
      "text/plain": [
       "<Figure size 1080x360 with 1 Axes>"
      ]
     },
     "metadata": {},
     "output_type": "display_data"
    }
   ],
   "source": [
    "create_any_bar('year_of_release', 'count')\n",
    "plt.title('Количество игр в разные годы')\n",
    "plt.xlabel('year_of_release')\n",
    "plt.ylabel('count')\n",
    "plt.show()"
   ]
  },
  {
   "cell_type": "markdown",
   "metadata": {},
   "source": []
  },
  {
   "cell_type": "markdown",
   "metadata": {},
   "source": [
    "Вывод: судя по гистограмме, до 1993-1994гг выпускалось мало игр, это может быть связано с тем, что мало у кого в то время были компьютеры, и техника тех лет не позволяла создавать большое количество игр.\n",
    "В 2002 году наблюдаем уже скачок по количеству игр ,а пик приходится на 2008-2009 года. Затем начался спад, возможно, он связан с развитием мобильных телефонов,это привело к спаду интереса к играм и их покупке, и соответственно их производству."
   ]
  },
  {
   "cell_type": "markdown",
   "metadata": {},
   "source": [
    "# Сколько игр выпускалось на каждую платформу за весь анализируемый период"
   ]
  },
  {
   "cell_type": "code",
   "execution_count": 67,
   "metadata": {
    "scrolled": false
   },
   "outputs": [
    {
     "data": {
      "image/png": "[encoded data removed]",
      "text/plain": [
       "<Figure size 1080x720 with 1 Axes>"
      ]
     },
     "metadata": {},
     "output_type": "display_data"
    }
   ],
   "source": [
    "create_any_bar('platform', 'sum', 'total_sales')\n",
    "plt.title('Количество игр  за весь период')\n",
    "plt.xlabel('platform')\n",
    "plt.ylabel('total_sales')\n",
    "plt.show()"
   ]
  },
  {
   "cell_type": "markdown",
   "metadata": {},
   "source": [
    "Вывод: явным лидером является платформа PS2. Далее идут Xbox360, PS3 и Wii."
   ]
  },
  {
   "cell_type": "code",
   "execution_count": 68,
   "metadata": {},
   "outputs": [
    {
     "name": "stdout",
     "output_type": "stream",
     "text": [
      "Requirement already satisfied: plotly in /opt/conda/lib/python3.9/site-packages (5.4.0)\r\n",
      "Requirement already satisfied: six in /opt/conda/lib/python3.9/site-packages (from plotly) (1.16.0)\r\n",
      "Requirement already satisfied: tenacity>=6.2.0 in /opt/conda/lib/python3.9/site-packages (from plotly) (8.0.1)\r\n"
     ]
    }
   ],
   "source": [
    "!pip install plotly\n",
    "from plotly.offline import init_notebook_mode, iplot\n",
    "import plotly\n",
    "import plotly.graph_objs as go"
   ]
  },
  {
   "cell_type": "markdown",
   "metadata": {},
   "source": [
    "Рост рынка игр начался с 1994 года,поэтому расматривать данные будем с 1994г"
   ]
  },
  {
   "cell_type": "code",
   "execution_count": 69,
   "metadata": {},
   "outputs": [],
   "source": [
    "df_1994 = games[games['year_of_release']>=1994]"
   ]
  },
  {
   "cell_type": "markdown",
   "metadata": {},
   "source": [
    "# Как менялись продажи по платформам? Выберем платформы с наибольшими суммарными продажами и построим распределение по годам. Ответим на вопрос: за какой характерный срок появляются новые и исчезают старые платформы?\n"
   ]
  },
  {
   "cell_type": "code",
   "execution_count": 70,
   "metadata": {
    "scrolled": false
   },
   "outputs": [
    {
     "data": {
      "application/vnd.plotly.v1+json": {
       "config": {
        "plotlyServerURL": "https://plot.ly"
       },
       "data": [
        {
         "name": "DS",
         "type": "bar",
         "x": [
          2004,
          2005,
          2006,
          2007,
          2008,
          2009,
          2010,
          2011,
          2012,
          2013
         ],
         "y": [
          17.269999999999996,
          130.14000000000013,
          119.80999999999999,
          146.9400000000003,
          145.31000000000074,
          119.54000000000009,
          85.02,
          26.179999999999996,
          11.009999999999996,
          1.54
         ]
        },
        {
         "name": "Wii",
         "type": "bar",
         "x": [
          2006,
          2007,
          2008,
          2009,
          2010,
          2011,
          2012,
          2013,
          2014,
          2015,
          2016
         ],
         "y": [
          137.14999999999992,
          152.76999999999998,
          171.31999999999996,
          206.97000000000028,
          127.95,
          59.65000000000003,
          21.710000000000008,
          8.59,
          3.75,
          1.14,
          0.18
         ]
        },
        {
         "name": "PS3",
         "type": "bar",
         "x": [
          2006,
          2007,
          2008,
          2009,
          2010,
          2011,
          2012,
          2013,
          2014,
          2015,
          2016
         ],
         "y": [
          20.960000000000004,
          73.19000000000001,
          118.52000000000001,
          130.9300000000001,
          142.17000000000004,
          156.7800000000001,
          107.36000000000001,
          113.24999999999999,
          47.76000000000002,
          16.820000000000007,
          3.5999999999999988
         ]
        },
        {
         "name": "X360",
         "type": "bar",
         "x": [
          2005,
          2006,
          2007,
          2008,
          2009,
          2010,
          2011,
          2012,
          2013,
          2014,
          2015,
          2016
         ],
         "y": [
          8.25,
          51.62,
          95.41000000000001,
          135.26000000000005,
          120.29,
          170.02999999999992,
          143.8400000000003,
          99.7400000000001,
          88.58000000000008,
          34.739999999999995,
          11.959999999999997,
          1.5200000000000002
         ]
        },
        {
         "name": "PS2",
         "type": "bar",
         "x": [
          2000,
          2001,
          2002,
          2003,
          2004,
          2005,
          2006,
          2007,
          2008,
          2009,
          2010,
          2011
         ],
         "y": [
          39.170000000000016,
          166.43000000000012,
          205.37999999999997,
          184.30999999999986,
          211.80999999999992,
          160.6600000000002,
          103.41999999999989,
          75.99000000000001,
          53.90000000000004,
          26.400000000000006,
          5.639999999999996,
          0.45
         ]
        }
       ],
       "layout": {
        "template": {
         "data": {
          "bar": [
           {
            "error_x": {
             "color": "#2a3f5f"
            },
            "error_y": {
             "color": "#2a3f5f"
            },
            "marker": {
             "line": {
              "color": "#E5ECF6",
              "width": 0.5
             },
             "pattern": {
              "fillmode": "overlay",
              "size": 10,
              "solidity": 0.2
             }
            },
            "type": "bar"
           }
          ],
          "barpolar": [
           {
            "marker": {
             "line": {
              "color": "#E5ECF6",
              "width": 0.5
             },
             "pattern": {
              "fillmode": "overlay",
              "size": 10,
              "solidity": 0.2
             }
            },
            "type": "barpolar"
           }
          ],
          "carpet": [
           {
            "aaxis": {
             "endlinecolor": "#2a3f5f",
             "gridcolor": "white",
             "linecolor": "white",
             "minorgridcolor": "white",
             "startlinecolor": "#2a3f5f"
            },
            "baxis": {
             "endlinecolor": "#2a3f5f",
             "gridcolor": "white",
             "linecolor": "white",
             "minorgridcolor": "white",
             "startlinecolor": "#2a3f5f"
            },
            "type": "carpet"
           }
          ],
          "choropleth": [
           {
            "colorbar": {
             "outlinewidth": 0,
             "ticks": ""
            },
            "type": "choropleth"
           }
          ],
          "contour": [
           {
            "colorbar": {
             "outlinewidth": 0,
             "ticks": ""
            },
            "colorscale": [
             [
              0,
              "#0d0887"
             ],
             [
              0.1111111111111111,
              "#46039f"
             ],
             [
              0.2222222222222222,
              "#7201a8"
             ],
             [
              0.3333333333333333,
              "#9c179e"
             ],
             [
              0.4444444444444444,
              "#bd3786"
             ],
             [
              0.5555555555555556,
              "#d8576b"
             ],
             [
              0.6666666666666666,
              "#ed7953"
             ],
             [
              0.7777777777777778,
              "#fb9f3a"
             ],
             [
              0.8888888888888888,
              "#fdca26"
             ],
             [
              1,
              "#f0f921"
             ]
            ],
            "type": "contour"
           }
          ],
          "contourcarpet": [
           {
            "colorbar": {
             "outlinewidth": 0,
             "ticks": ""
            },
            "type": "contourcarpet"
           }
          ],
          "heatmap": [
           {
            "colorbar": {
             "outlinewidth": 0,
             "ticks": ""
            },
            "colorscale": [
             [
              0,
              "#0d0887"
             ],
             [
              0.1111111111111111,
              "#46039f"
             ],
             [
              0.2222222222222222,
              "#7201a8"
             ],
             [
              0.3333333333333333,
              "#9c179e"
             ],
             [
              0.4444444444444444,
              "#bd3786"
             ],
             [
              0.5555555555555556,
              "#d8576b"
             ],
             [
              0.6666666666666666,
              "#ed7953"
             ],
             [
              0.7777777777777778,
              "#fb9f3a"
             ],
             [
              0.8888888888888888,
              "#fdca26"
             ],
             [
              1,
              "#f0f921"
             ]
            ],
            "type": "heatmap"
           }
          ],
          "heatmapgl": [
           {
            "colorbar": {
             "outlinewidth": 0,
             "ticks": ""
            },
            "colorscale": [
             [
              0,
              "#0d0887"
             ],
             [
              0.1111111111111111,
              "#46039f"
             ],
             [
              0.2222222222222222,
              "#7201a8"
             ],
             [
              0.3333333333333333,
              "#9c179e"
             ],
             [
              0.4444444444444444,
              "#bd3786"
             ],
             [
              0.5555555555555556,
              "#d8576b"
             ],
             [
              0.6666666666666666,
              "#ed7953"
             ],
             [
              0.7777777777777778,
              "#fb9f3a"
             ],
             [
              0.8888888888888888,
              "#fdca26"
             ],
             [
              1,
              "#f0f921"
             ]
            ],
            "type": "heatmapgl"
           }
          ],
          "histogram": [
           {
            "marker": {
             "pattern": {
              "fillmode": "overlay",
              "size": 10,
              "solidity": 0.2
             }
            },
            "type": "histogram"
           }
          ],
          "histogram2d": [
           {
            "colorbar": {
             "outlinewidth": 0,
             "ticks": ""
            },
            "colorscale": [
             [
              0,
              "#0d0887"
             ],
             [
              0.1111111111111111,
              "#46039f"
             ],
             [
              0.2222222222222222,
              "#7201a8"
             ],
             [
              0.3333333333333333,
              "#9c179e"
             ],
             [
              0.4444444444444444,
              "#bd3786"
             ],
             [
              0.5555555555555556,
              "#d8576b"
             ],
             [
              0.6666666666666666,
              "#ed7953"
             ],
             [
              0.7777777777777778,
              "#fb9f3a"
             ],
             [
              0.8888888888888888,
              "#fdca26"
             ],
             [
              1,
              "#f0f921"
             ]
            ],
            "type": "histogram2d"
           }
          ],
          "histogram2dcontour": [
           {
            "colorbar": {
             "outlinewidth": 0,
             "ticks": ""
            },
            "colorscale": [
             [
              0,
              "#0d0887"
             ],
             [
              0.1111111111111111,
              "#46039f"
             ],
             [
              0.2222222222222222,
              "#7201a8"
             ],
             [
              0.3333333333333333,
              "#9c179e"
             ],
             [
              0.4444444444444444,
              "#bd3786"
             ],
             [
              0.5555555555555556,
              "#d8576b"
             ],
             [
              0.6666666666666666,
              "#ed7953"
             ],
             [
              0.7777777777777778,
              "#fb9f3a"
             ],
             [
              0.8888888888888888,
              "#fdca26"
             ],
             [
              1,
              "#f0f921"
             ]
            ],
            "type": "histogram2dcontour"
           }
          ],
          "mesh3d": [
           {
            "colorbar": {
             "outlinewidth": 0,
             "ticks": ""
            },
            "type": "mesh3d"
           }
          ],
          "parcoords": [
           {
            "line": {
             "colorbar": {
              "outlinewidth": 0,
              "ticks": ""
             }
            },
            "type": "parcoords"
           }
          ],
          "pie": [
           {
            "automargin": true,
            "type": "pie"
           }
          ],
          "scatter": [
           {
            "marker": {
             "colorbar": {
              "outlinewidth": 0,
              "ticks": ""
             }
            },
            "type": "scatter"
           }
          ],
          "scatter3d": [
           {
            "line": {
             "colorbar": {
              "outlinewidth": 0,
              "ticks": ""
             }
            },
            "marker": {
             "colorbar": {
              "outlinewidth": 0,
              "ticks": ""
             }
            },
            "type": "scatter3d"
           }
          ],
          "scattercarpet": [
           {
            "marker": {
             "colorbar": {
              "outlinewidth": 0,
              "ticks": ""
             }
            },
            "type": "scattercarpet"
           }
          ],
          "scattergeo": [
           {
            "marker": {
             "colorbar": {
              "outlinewidth": 0,
              "ticks": ""
             }
            },
            "type": "scattergeo"
           }
          ],
          "scattergl": [
           {
            "marker": {
             "colorbar": {
              "outlinewidth": 0,
              "ticks": ""
             }
            },
            "type": "scattergl"
           }
          ],
          "scattermapbox": [
           {
            "marker": {
             "colorbar": {
              "outlinewidth": 0,
              "ticks": ""
             }
            },
            "type": "scattermapbox"
           }
          ],
          "scatterpolar": [
           {
            "marker": {
             "colorbar": {
              "outlinewidth": 0,
              "ticks": ""
             }
            },
            "type": "scatterpolar"
           }
          ],
          "scatterpolargl": [
           {
            "marker": {
             "colorbar": {
              "outlinewidth": 0,
              "ticks": ""
             }
            },
            "type": "scatterpolargl"
           }
          ],
          "scatterternary": [
           {
            "marker": {
             "colorbar": {
              "outlinewidth": 0,
              "ticks": ""
             }
            },
            "type": "scatterternary"
           }
          ],
          "surface": [
           {
            "colorbar": {
             "outlinewidth": 0,
             "ticks": ""
            },
            "colorscale": [
             [
              0,
              "#0d0887"
             ],
             [
              0.1111111111111111,
              "#46039f"
             ],
             [
              0.2222222222222222,
              "#7201a8"
             ],
             [
              0.3333333333333333,
              "#9c179e"
             ],
             [
              0.4444444444444444,
              "#bd3786"
             ],
             [
              0.5555555555555556,
              "#d8576b"
             ],
             [
              0.6666666666666666,
              "#ed7953"
             ],
             [
              0.7777777777777778,
              "#fb9f3a"
             ],
             [
              0.8888888888888888,
              "#fdca26"
             ],
             [
              1,
              "#f0f921"
             ]
            ],
            "type": "surface"
           }
          ],
          "table": [
           {
            "cells": {
             "fill": {
              "color": "#EBF0F8"
             },
             "line": {
              "color": "white"
             }
            },
            "header": {
             "fill": {
              "color": "#C8D4E3"
             },
             "line": {
              "color": "white"
             }
            },
            "type": "table"
           }
          ]
         },
         "layout": {
          "annotationdefaults": {
           "arrowcolor": "#2a3f5f",
           "arrowhead": 0,
           "arrowwidth": 1
          },
          "autotypenumbers": "strict",
          "coloraxis": {
           "colorbar": {
            "outlinewidth": 0,
            "ticks": ""
           }
          },
          "colorscale": {
           "diverging": [
            [
             0,
             "#8e0152"
            ],
            [
             0.1,
             "#c51b7d"
            ],
            [
             0.2,
             "#de77ae"
            ],
            [
             0.3,
             "#f1b6da"
            ],
            [
             0.4,
             "#fde0ef"
            ],
            [
             0.5,
             "#f7f7f7"
            ],
            [
             0.6,
             "#e6f5d0"
            ],
            [
             0.7,
             "#b8e186"
            ],
            [
             0.8,
             "#7fbc41"
            ],
            [
             0.9,
             "#4d9221"
            ],
            [
             1,
             "#276419"
            ]
           ],
           "sequential": [
            [
             0,
             "#0d0887"
            ],
            [
             0.1111111111111111,
             "#46039f"
            ],
            [
             0.2222222222222222,
             "#7201a8"
            ],
            [
             0.3333333333333333,
             "#9c179e"
            ],
            [
             0.4444444444444444,
             "#bd3786"
            ],
            [
             0.5555555555555556,
             "#d8576b"
            ],
            [
             0.6666666666666666,
             "#ed7953"
            ],
            [
             0.7777777777777778,
             "#fb9f3a"
            ],
            [
             0.8888888888888888,
             "#fdca26"
            ],
            [
             1,
             "#f0f921"
            ]
           ],
           "sequentialminus": [
            [
             0,
             "#0d0887"
            ],
            [
             0.1111111111111111,
             "#46039f"
            ],
            [
             0.2222222222222222,
             "#7201a8"
            ],
            [
             0.3333333333333333,
             "#9c179e"
            ],
            [
             0.4444444444444444,
             "#bd3786"
            ],
            [
             0.5555555555555556,
             "#d8576b"
            ],
            [
             0.6666666666666666,
             "#ed7953"
            ],
            [
             0.7777777777777778,
             "#fb9f3a"
            ],
            [
             0.8888888888888888,
             "#fdca26"
            ],
            [
             1,
             "#f0f921"
            ]
           ]
          },
          "colorway": [
           "#636efa",
           "#EF553B",
           "#00cc96",
           "#ab63fa",
           "#FFA15A",
           "#19d3f3",
           "#FF6692",
           "#B6E880",
           "#FF97FF",
           "#FECB52"
          ],
          "font": {
           "color": "#2a3f5f"
          },
          "geo": {
           "bgcolor": "white",
           "lakecolor": "white",
           "landcolor": "#E5ECF6",
           "showlakes": true,
           "showland": true,
           "subunitcolor": "white"
          },
          "hoverlabel": {
           "align": "left"
          },
          "hovermode": "closest",
          "mapbox": {
           "style": "light"
          },
          "paper_bgcolor": "white",
          "plot_bgcolor": "#E5ECF6",
          "polar": {
           "angularaxis": {
            "gridcolor": "white",
            "linecolor": "white",
            "ticks": ""
           },
           "bgcolor": "#E5ECF6",
           "radialaxis": {
            "gridcolor": "white",
            "linecolor": "white",
            "ticks": ""
           }
          },
          "scene": {
           "xaxis": {
            "backgroundcolor": "#E5ECF6",
            "gridcolor": "white",
            "gridwidth": 2,
            "linecolor": "white",
            "showbackground": true,
            "ticks": "",
            "zerolinecolor": "white"
           },
           "yaxis": {
            "backgroundcolor": "#E5ECF6",
            "gridcolor": "white",
            "gridwidth": 2,
            "linecolor": "white",
            "showbackground": true,
            "ticks": "",
            "zerolinecolor": "white"
           },
           "zaxis": {
            "backgroundcolor": "#E5ECF6",
            "gridcolor": "white",
            "gridwidth": 2,
            "linecolor": "white",
            "showbackground": true,
            "ticks": "",
            "zerolinecolor": "white"
           }
          },
          "shapedefaults": {
           "line": {
            "color": "#2a3f5f"
           }
          },
          "ternary": {
           "aaxis": {
            "gridcolor": "white",
            "linecolor": "white",
            "ticks": ""
           },
           "baxis": {
            "gridcolor": "white",
            "linecolor": "white",
            "ticks": ""
           },
           "bgcolor": "#E5ECF6",
           "caxis": {
            "gridcolor": "white",
            "linecolor": "white",
            "ticks": ""
           }
          },
          "title": {
           "x": 0.05
          },
          "xaxis": {
           "automargin": true,
           "gridcolor": "white",
           "linecolor": "white",
           "ticks": "",
           "title": {
            "standoff": 15
           },
           "zerolinecolor": "white",
           "zerolinewidth": 2
          },
          "yaxis": {
           "automargin": true,
           "gridcolor": "white",
           "linecolor": "white",
           "ticks": "",
           "title": {
            "standoff": 15
           },
           "zerolinecolor": "white",
           "zerolinewidth": 2
          }
         }
        },
        "title": {
         "text": "Продажи игр по годам"
        }
       }
      },
      "text/html": [
       "<div>                            <div id=\"bfc23c58-cc7e-498c-8f69-e77fd0f156e4\" class=\"plotly-graph-div\" style=\"height:525px; width:100%;\"></div>            <script type=\"text/javascript\">                require([\"plotly\"], function(Plotly) {                    window.PLOTLYENV=window.PLOTLYENV || {};                                    if (document.getElementById(\"bfc23c58-cc7e-498c-8f69-e77fd0f156e4\")) {                    Plotly.newPlot(                        \"bfc23c58-cc7e-498c-8f69-e77fd0f156e4\",                        [{\"name\":\"DS\",\"x\":[2004,2005,2006,2007,2008,2009,2010,2011,2012,2013],\"y\":[17.269999999999996,130.14000000000013,119.80999999999999,146.9400000000003,145.31000000000074,119.54000000000009,85.02,26.179999999999996,11.009999999999996,1.54],\"type\":\"bar\"},{\"name\":\"Wii\",\"x\":[2006,2007,2008,2009,2010,2011,2012,2013,2014,2015,2016],\"y\":[137.14999999999992,152.76999999999998,171.31999999999996,206.97000000000028,127.95,59.65000000000003,21.710000000000008,8.59,3.75,1.14,0.18],\"type\":\"bar\"},{\"name\":\"PS3\",\"x\":[2006,2007,2008,2009,2010,2011,2012,2013,2014,2015,2016],\"y\":[20.960000000000004,73.19000000000001,118.52000000000001,130.9300000000001,142.17000000000004,156.7800000000001,107.36000000000001,113.24999999999999,47.76000000000002,16.820000000000007,3.5999999999999988],\"type\":\"bar\"},{\"name\":\"X360\",\"x\":[2005,2006,2007,2008,2009,2010,2011,2012,2013,2014,2015,2016],\"y\":[8.25,51.62,95.41000000000001,135.26000000000005,120.29,170.02999999999992,143.8400000000003,99.7400000000001,88.58000000000008,34.739999999999995,11.959999999999997,1.5200000000000002],\"type\":\"bar\"},{\"name\":\"PS2\",\"x\":[2000,2001,2002,2003,2004,2005,2006,2007,2008,2009,2010,2011],\"y\":[39.170000000000016,166.43000000000012,205.37999999999997,184.30999999999986,211.80999999999992,160.6600000000002,103.41999999999989,75.99000000000001,53.90000000000004,26.400000000000006,5.639999999999996,0.45],\"type\":\"bar\"}],                        {\"title\":{\"text\":\"\\u041f\\u0440\\u043e\\u0434\\u0430\\u0436\\u0438 \\u0438\\u0433\\u0440 \\u043f\\u043e \\u0433\\u043e\\u0434\\u0430\\u043c\"},\"template\":{\"data\":{\"bar\":[{\"error_x\":{\"color\":\"#2a3f5f\"},\"error_y\":{\"color\":\"#2a3f5f\"},\"marker\":{\"line\":{\"color\":\"#E5ECF6\",\"width\":0.5},\"pattern\":{\"fillmode\":\"overlay\",\"size\":10,\"solidity\":0.2}},\"type\":\"bar\"}],\"barpolar\":[{\"marker\":{\"line\":{\"color\":\"#E5ECF6\",\"width\":0.5},\"pattern\":{\"fillmode\":\"overlay\",\"size\":10,\"solidity\":0.2}},\"type\":\"barpolar\"}],\"carpet\":[{\"aaxis\":{\"endlinecolor\":\"#2a3f5f\",\"gridcolor\":\"white\",\"linecolor\":\"white\",\"minorgridcolor\":\"white\",\"startlinecolor\":\"#2a3f5f\"},\"baxis\":{\"endlinecolor\":\"#2a3f5f\",\"gridcolor\":\"white\",\"linecolor\":\"white\",\"minorgridcolor\":\"white\",\"startlinecolor\":\"#2a3f5f\"},\"type\":\"carpet\"}],\"choropleth\":[{\"colorbar\":{\"outlinewidth\":0,\"ticks\":\"\"},\"type\":\"choropleth\"}],\"contour\":[{\"colorbar\":{\"outlinewidth\":0,\"ticks\":\"\"},\"colorscale\":[[0.0,\"#0d0887\"],[0.1111111111111111,\"#46039f\"],[0.2222222222222222,\"#7201a8\"],[0.3333333333333333,\"#9c179e\"],[0.4444444444444444,\"#bd3786\"],[0.5555555555555556,\"#d8576b\"],[0.6666666666666666,\"#ed7953\"],[0.7777777777777778,\"#fb9f3a\"],[0.8888888888888888,\"#fdca26\"],[1.0,\"#f0f921\"]],\"type\":\"contour\"}],\"contourcarpet\":[{\"colorbar\":{\"outlinewidth\":0,\"ticks\":\"\"},\"type\":\"contourcarpet\"}],\"heatmap\":[{\"colorbar\":{\"outlinewidth\":0,\"ticks\":\"\"},\"colorscale\":[[0.0,\"#0d0887\"],[0.1111111111111111,\"#46039f\"],[0.2222222222222222,\"#7201a8\"],[0.3333333333333333,\"#9c179e\"],[0.4444444444444444,\"#bd3786\"],[0.5555555555555556,\"#d8576b\"],[0.6666666666666666,\"#ed7953\"],[0.7777777777777778,\"#fb9f3a\"],[0.8888888888888888,\"#fdca26\"],[1.0,\"#f0f921\"]],\"type\":\"heatmap\"}],\"heatmapgl\":[{\"colorbar\":{\"outlinewidth\":0,\"ticks\":\"\"},\"colorscale\":[[0.0,\"#0d0887\"],[0.1111111111111111,\"#46039f\"],[0.2222222222222222,\"#7201a8\"],[0.3333333333333333,\"#9c179e\"],[0.4444444444444444,\"#bd3786\"],[0.5555555555555556,\"#d8576b\"],[0.6666666666666666,\"#ed7953\"],[0.7777777777777778,\"#fb9f3a\"],[0.8888888888888888,\"#fdca26\"],[1.0,\"#f0f921\"]],\"type\":\"heatmapgl\"}],\"histogram\":[{\"marker\":{\"pattern\":{\"fillmode\":\"overlay\",\"size\":10,\"solidity\":0.2}},\"type\":\"histogram\"}],\"histogram2d\":[{\"colorbar\":{\"outlinewidth\":0,\"ticks\":\"\"},\"colorscale\":[[0.0,\"#0d0887\"],[0.1111111111111111,\"#46039f\"],[0.2222222222222222,\"#7201a8\"],[0.3333333333333333,\"#9c179e\"],[0.4444444444444444,\"#bd3786\"],[0.5555555555555556,\"#d8576b\"],[0.6666666666666666,\"#ed7953\"],[0.7777777777777778,\"#fb9f3a\"],[0.8888888888888888,\"#fdca26\"],[1.0,\"#f0f921\"]],\"type\":\"histogram2d\"}],\"histogram2dcontour\":[{\"colorbar\":{\"outlinewidth\":0,\"ticks\":\"\"},\"colorscale\":[[0.0,\"#0d0887\"],[0.1111111111111111,\"#46039f\"],[0.2222222222222222,\"#7201a8\"],[0.3333333333333333,\"#9c179e\"],[0.4444444444444444,\"#bd3786\"],[0.5555555555555556,\"#d8576b\"],[0.6666666666666666,\"#ed7953\"],[0.7777777777777778,\"#fb9f3a\"],[0.8888888888888888,\"#fdca26\"],[1.0,\"#f0f921\"]],\"type\":\"histogram2dcontour\"}],\"mesh3d\":[{\"colorbar\":{\"outlinewidth\":0,\"ticks\":\"\"},\"type\":\"mesh3d\"}],\"parcoords\":[{\"line\":{\"colorbar\":{\"outlinewidth\":0,\"ticks\":\"\"}},\"type\":\"parcoords\"}],\"pie\":[{\"automargin\":true,\"type\":\"pie\"}],\"scatter\":[{\"marker\":{\"colorbar\":{\"outlinewidth\":0,\"ticks\":\"\"}},\"type\":\"scatter\"}],\"scatter3d\":[{\"line\":{\"colorbar\":{\"outlinewidth\":0,\"ticks\":\"\"}},\"marker\":{\"colorbar\":{\"outlinewidth\":0,\"ticks\":\"\"}},\"type\":\"scatter3d\"}],\"scattercarpet\":[{\"marker\":{\"colorbar\":{\"outlinewidth\":0,\"ticks\":\"\"}},\"type\":\"scattercarpet\"}],\"scattergeo\":[{\"marker\":{\"colorbar\":{\"outlinewidth\":0,\"ticks\":\"\"}},\"type\":\"scattergeo\"}],\"scattergl\":[{\"marker\":{\"colorbar\":{\"outlinewidth\":0,\"ticks\":\"\"}},\"type\":\"scattergl\"}],\"scattermapbox\":[{\"marker\":{\"colorbar\":{\"outlinewidth\":0,\"ticks\":\"\"}},\"type\":\"scattermapbox\"}],\"scatterpolar\":[{\"marker\":{\"colorbar\":{\"outlinewidth\":0,\"ticks\":\"\"}},\"type\":\"scatterpolar\"}],\"scatterpolargl\":[{\"marker\":{\"colorbar\":{\"outlinewidth\":0,\"ticks\":\"\"}},\"type\":\"scatterpolargl\"}],\"scatterternary\":[{\"marker\":{\"colorbar\":{\"outlinewidth\":0,\"ticks\":\"\"}},\"type\":\"scatterternary\"}],\"surface\":[{\"colorbar\":{\"outlinewidth\":0,\"ticks\":\"\"},\"colorscale\":[[0.0,\"#0d0887\"],[0.1111111111111111,\"#46039f\"],[0.2222222222222222,\"#7201a8\"],[0.3333333333333333,\"#9c179e\"],[0.4444444444444444,\"#bd3786\"],[0.5555555555555556,\"#d8576b\"],[0.6666666666666666,\"#ed7953\"],[0.7777777777777778,\"#fb9f3a\"],[0.8888888888888888,\"#fdca26\"],[1.0,\"#f0f921\"]],\"type\":\"surface\"}],\"table\":[{\"cells\":{\"fill\":{\"color\":\"#EBF0F8\"},\"line\":{\"color\":\"white\"}},\"header\":{\"fill\":{\"color\":\"#C8D4E3\"},\"line\":{\"color\":\"white\"}},\"type\":\"table\"}]},\"layout\":{\"annotationdefaults\":{\"arrowcolor\":\"#2a3f5f\",\"arrowhead\":0,\"arrowwidth\":1},\"autotypenumbers\":\"strict\",\"coloraxis\":{\"colorbar\":{\"outlinewidth\":0,\"ticks\":\"\"}},\"colorscale\":{\"diverging\":[[0,\"#8e0152\"],[0.1,\"#c51b7d\"],[0.2,\"#de77ae\"],[0.3,\"#f1b6da\"],[0.4,\"#fde0ef\"],[0.5,\"#f7f7f7\"],[0.6,\"#e6f5d0\"],[0.7,\"#b8e186\"],[0.8,\"#7fbc41\"],[0.9,\"#4d9221\"],[1,\"#276419\"]],\"sequential\":[[0.0,\"#0d0887\"],[0.1111111111111111,\"#46039f\"],[0.2222222222222222,\"#7201a8\"],[0.3333333333333333,\"#9c179e\"],[0.4444444444444444,\"#bd3786\"],[0.5555555555555556,\"#d8576b\"],[0.6666666666666666,\"#ed7953\"],[0.7777777777777778,\"#fb9f3a\"],[0.8888888888888888,\"#fdca26\"],[1.0,\"#f0f921\"]],\"sequentialminus\":[[0.0,\"#0d0887\"],[0.1111111111111111,\"#46039f\"],[0.2222222222222222,\"#7201a8\"],[0.3333333333333333,\"#9c179e\"],[0.4444444444444444,\"#bd3786\"],[0.5555555555555556,\"#d8576b\"],[0.6666666666666666,\"#ed7953\"],[0.7777777777777778,\"#fb9f3a\"],[0.8888888888888888,\"#fdca26\"],[1.0,\"#f0f921\"]]},\"colorway\":[\"#636efa\",\"#EF553B\",\"#00cc96\",\"#ab63fa\",\"#FFA15A\",\"#19d3f3\",\"#FF6692\",\"#B6E880\",\"#FF97FF\",\"#FECB52\"],\"font\":{\"color\":\"#2a3f5f\"},\"geo\":{\"bgcolor\":\"white\",\"lakecolor\":\"white\",\"landcolor\":\"#E5ECF6\",\"showlakes\":true,\"showland\":true,\"subunitcolor\":\"white\"},\"hoverlabel\":{\"align\":\"left\"},\"hovermode\":\"closest\",\"mapbox\":{\"style\":\"light\"},\"paper_bgcolor\":\"white\",\"plot_bgcolor\":\"#E5ECF6\",\"polar\":{\"angularaxis\":{\"gridcolor\":\"white\",\"linecolor\":\"white\",\"ticks\":\"\"},\"bgcolor\":\"#E5ECF6\",\"radialaxis\":{\"gridcolor\":\"white\",\"linecolor\":\"white\",\"ticks\":\"\"}},\"scene\":{\"xaxis\":{\"backgroundcolor\":\"#E5ECF6\",\"gridcolor\":\"white\",\"gridwidth\":2,\"linecolor\":\"white\",\"showbackground\":true,\"ticks\":\"\",\"zerolinecolor\":\"white\"},\"yaxis\":{\"backgroundcolor\":\"#E5ECF6\",\"gridcolor\":\"white\",\"gridwidth\":2,\"linecolor\":\"white\",\"showbackground\":true,\"ticks\":\"\",\"zerolinecolor\":\"white\"},\"zaxis\":{\"backgroundcolor\":\"#E5ECF6\",\"gridcolor\":\"white\",\"gridwidth\":2,\"linecolor\":\"white\",\"showbackground\":true,\"ticks\":\"\",\"zerolinecolor\":\"white\"}},\"shapedefaults\":{\"line\":{\"color\":\"#2a3f5f\"}},\"ternary\":{\"aaxis\":{\"gridcolor\":\"white\",\"linecolor\":\"white\",\"ticks\":\"\"},\"baxis\":{\"gridcolor\":\"white\",\"linecolor\":\"white\",\"ticks\":\"\"},\"bgcolor\":\"#E5ECF6\",\"caxis\":{\"gridcolor\":\"white\",\"linecolor\":\"white\",\"ticks\":\"\"}},\"title\":{\"x\":0.05},\"xaxis\":{\"automargin\":true,\"gridcolor\":\"white\",\"linecolor\":\"white\",\"ticks\":\"\",\"title\":{\"standoff\":15},\"zerolinecolor\":\"white\",\"zerolinewidth\":2},\"yaxis\":{\"automargin\":true,\"gridcolor\":\"white\",\"linecolor\":\"white\",\"ticks\":\"\",\"title\":{\"standoff\":15},\"zerolinecolor\":\"white\",\"zerolinewidth\":2}}}},                        {\"responsive\": true}                    ).then(function(){\n",
       "                            \n",
       "var gd = document.getElementById('bfc23c58-cc7e-498c-8f69-e77fd0f156e4');\n",
       "var x = new MutationObserver(function (mutations, observer) {{\n",
       "        var display = window.getComputedStyle(gd).display;\n",
       "        if (!display || display === 'none') {{\n",
       "            console.log([gd, 'removed!']);\n",
       "            Plotly.purge(gd);\n",
       "            observer.disconnect();\n",
       "        }}\n",
       "}});\n",
       "\n",
       "// Listen for the removal of the full notebook cells\n",
       "var notebookContainer = gd.closest('#notebook-container');\n",
       "if (notebookContainer) {{\n",
       "    x.observe(notebookContainer, {childList: true});\n",
       "}}\n",
       "\n",
       "// Listen for the clearing of the current output cell\n",
       "var outputEl = gd.closest('.output');\n",
       "if (outputEl) {{\n",
       "    x.observe(outputEl, {childList: true});\n",
       "}}\n",
       "\n",
       "                        })                };                });            </script>        </div>"
      ]
     },
     "metadata": {},
     "output_type": "display_data"
    }
   ],
   "source": [
    "platforms_leaders = df_1994.groupby('platform')['total_sales'].sum().sort_values()[-5:].index.tolist() #топ5 платформ\n",
    "\n",
    "data = []\n",
    "\n",
    "for platform in platforms_leaders:\n",
    "    data.append(\n",
    "        go.Bar(x=df_1994[df_1994.platform==platform].groupby(\"year_of_release\")['total_sales'].sum().index,\n",
    "               y=df_1994[df_1994.platform==platform].groupby(\"year_of_release\")['total_sales'].sum(),\n",
    "               name=platform)\n",
    "    )\n",
    "layout = {'title': 'Продажи игр по годам'}\n",
    "    \n",
    "fig = go.Figure(data=data, layout=layout)\n",
    "fig.show()"
   ]
  },
  {
   "cell_type": "markdown",
   "metadata": {},
   "source": [
    "Вывод: судя по гистограмме,наблюдаю спад продаж практически всех платформ к 2013-2014году.\n",
    "В среднем консоль живет 9-10 лет,видимо, это связано с техническим прогрессом.\n",
    "\n",
    "PS2 с 2000 по 2010 ( 10 лет)\n",
    "\n",
    "DS с 2004 по 2013 (9 лет)\n",
    "\n",
    "\n",
    "X360 с 2006 по 2015 (9 лет)\n",
    "\n",
    "Wii 2006 - 2015 (9 лет)\n",
    "\n",
    "PS3 2006 - 2016 (10 лет)\n",
    "\n",
    "Многие платформы повявились в 2006г.(Wii, PS3, X360),но к 2013 году наблюдаем их активный спад, и видим рост актуальных в нынешнее время платформ, их в дальнейшем мы и будем разбирать. Таким образом  актульные данные начинаются с 2013г."
   ]
  },
  {
   "cell_type": "code",
   "execution_count": 71,
   "metadata": {},
   "outputs": [],
   "source": [
    "games= games[games['year_of_release']>=2013]"
   ]
  },
  {
   "cell_type": "markdown",
   "metadata": {},
   "source": [
    "# Какие платформы лидируют по продажам, растут или падают? Выберите несколько потенциально прибыльных платформ."
   ]
  },
  {
   "cell_type": "code",
   "execution_count": 72,
   "metadata": {},
   "outputs": [
    {
     "data": {
      "application/vnd.plotly.v1+json": {
       "config": {
        "linkText": "Export to plot.ly",
        "plotlyServerURL": "https://plot.ly",
        "showLink": false
       },
       "data": [
        {
         "name": "PS3",
         "type": "scatter",
         "x": [
          2013,
          2014,
          2015,
          2016
         ],
         "y": [
          113.24999999999999,
          47.76000000000002,
          16.820000000000007,
          3.5999999999999988
         ]
        },
        {
         "name": "X360",
         "type": "scatter",
         "x": [
          2013,
          2014,
          2015,
          2016
         ],
         "y": [
          88.58000000000008,
          34.739999999999995,
          11.959999999999997,
          1.5200000000000002
         ]
        },
        {
         "name": "PS4",
         "type": "scatter",
         "x": [
          2013,
          2014,
          2015,
          2016
         ],
         "y": [
          25.990000000000002,
          99.99999999999996,
          118.90000000000008,
          69.25000000000001
         ]
        },
        {
         "name": "3DS",
         "type": "scatter",
         "x": [
          2013,
          2014,
          2015,
          2016
         ],
         "y": [
          56.57,
          43.76000000000003,
          27.78,
          15.13999999999999
         ]
        },
        {
         "name": "XOne",
         "type": "scatter",
         "x": [
          2013,
          2014,
          2015,
          2016
         ],
         "y": [
          18.959999999999994,
          54.06999999999999,
          60.14000000000002,
          26.15000000000002
         ]
        },
        {
         "name": "WiiU",
         "type": "scatter",
         "x": [
          2013,
          2014,
          2015,
          2016
         ],
         "y": [
          21.65,
          22.029999999999994,
          16.35000000000001,
          4.6000000000000005
         ]
        },
        {
         "name": "Wii",
         "type": "scatter",
         "x": [
          2013,
          2014,
          2015,
          2016
         ],
         "y": [
          8.59,
          3.75,
          1.14,
          0.18
         ]
        },
        {
         "name": "PC",
         "type": "scatter",
         "x": [
          2013,
          2014,
          2015,
          2016
         ],
         "y": [
          12.379999999999997,
          13.279999999999994,
          8.51999999999999,
          5.249999999999997
         ]
        },
        {
         "name": "PSV",
         "type": "scatter",
         "x": [
          2013,
          2014,
          2015,
          2016
         ],
         "y": [
          10.589999999999995,
          11.899999999999988,
          6.249999999999988,
          4.249999999999992
         ]
        },
        {
         "name": "DS",
         "type": "scatter",
         "x": [
          2013
         ],
         "y": [
          1.54
         ]
        },
        {
         "name": "PSP",
         "type": "scatter",
         "x": [
          2013,
          2014,
          2015
         ],
         "y": [
          3.139999999999996,
          0.24000000000000005,
          0.12000000000000001
         ]
        }
       ],
       "layout": {
        "template": {
         "data": {
          "bar": [
           {
            "error_x": {
             "color": "#2a3f5f"
            },
            "error_y": {
             "color": "#2a3f5f"
            },
            "marker": {
             "line": {
              "color": "#E5ECF6",
              "width": 0.5
             },
             "pattern": {
              "fillmode": "overlay",
              "size": 10,
              "solidity": 0.2
             }
            },
            "type": "bar"
           }
          ],
          "barpolar": [
           {
            "marker": {
             "line": {
              "color": "#E5ECF6",
              "width": 0.5
             },
             "pattern": {
              "fillmode": "overlay",
              "size": 10,
              "solidity": 0.2
             }
            },
            "type": "barpolar"
           }
          ],
          "carpet": [
           {
            "aaxis": {
             "endlinecolor": "#2a3f5f",
             "gridcolor": "white",
             "linecolor": "white",
             "minorgridcolor": "white",
             "startlinecolor": "#2a3f5f"
            },
            "baxis": {
             "endlinecolor": "#2a3f5f",
             "gridcolor": "white",
             "linecolor": "white",
             "minorgridcolor": "white",
             "startlinecolor": "#2a3f5f"
            },
            "type": "carpet"
           }
          ],
          "choropleth": [
           {
            "colorbar": {
             "outlinewidth": 0,
             "ticks": ""
            },
            "type": "choropleth"
           }
          ],
          "contour": [
           {
            "colorbar": {
             "outlinewidth": 0,
             "ticks": ""
            },
            "colorscale": [
             [
              0,
              "#0d0887"
             ],
             [
              0.1111111111111111,
              "#46039f"
             ],
             [
              0.2222222222222222,
              "#7201a8"
             ],
             [
              0.3333333333333333,
              "#9c179e"
             ],
             [
              0.4444444444444444,
              "#bd3786"
             ],
             [
              0.5555555555555556,
              "#d8576b"
             ],
             [
              0.6666666666666666,
              "#ed7953"
             ],
             [
              0.7777777777777778,
              "#fb9f3a"
             ],
             [
              0.8888888888888888,
              "#fdca26"
             ],
             [
              1,
              "#f0f921"
             ]
            ],
            "type": "contour"
           }
          ],
          "contourcarpet": [
           {
            "colorbar": {
             "outlinewidth": 0,
             "ticks": ""
            },
            "type": "contourcarpet"
           }
          ],
          "heatmap": [
           {
            "colorbar": {
             "outlinewidth": 0,
             "ticks": ""
            },
            "colorscale": [
             [
              0,
              "#0d0887"
             ],
             [
              0.1111111111111111,
              "#46039f"
             ],
             [
              0.2222222222222222,
              "#7201a8"
             ],
             [
              0.3333333333333333,
              "#9c179e"
             ],
             [
              0.4444444444444444,
              "#bd3786"
             ],
             [
              0.5555555555555556,
              "#d8576b"
             ],
             [
              0.6666666666666666,
              "#ed7953"
             ],
             [
              0.7777777777777778,
              "#fb9f3a"
             ],
             [
              0.8888888888888888,
              "#fdca26"
             ],
             [
              1,
              "#f0f921"
             ]
            ],
            "type": "heatmap"
           }
          ],
          "heatmapgl": [
           {
            "colorbar": {
             "outlinewidth": 0,
             "ticks": ""
            },
            "colorscale": [
             [
              0,
              "#0d0887"
             ],
             [
              0.1111111111111111,
              "#46039f"
             ],
             [
              0.2222222222222222,
              "#7201a8"
             ],
             [
              0.3333333333333333,
              "#9c179e"
             ],
             [
              0.4444444444444444,
              "#bd3786"
             ],
             [
              0.5555555555555556,
              "#d8576b"
             ],
             [
              0.6666666666666666,
              "#ed7953"
             ],
             [
              0.7777777777777778,
              "#fb9f3a"
             ],
             [
              0.8888888888888888,
              "#fdca26"
             ],
             [
              1,
              "#f0f921"
             ]
            ],
            "type": "heatmapgl"
           }
          ],
          "histogram": [
           {
            "marker": {
             "pattern": {
              "fillmode": "overlay",
              "size": 10,
              "solidity": 0.2
             }
            },
            "type": "histogram"
           }
          ],
          "histogram2d": [
           {
            "colorbar": {
             "outlinewidth": 0,
             "ticks": ""
            },
            "colorscale": [
             [
              0,
              "#0d0887"
             ],
             [
              0.1111111111111111,
              "#46039f"
             ],
             [
              0.2222222222222222,
              "#7201a8"
             ],
             [
              0.3333333333333333,
              "#9c179e"
             ],
             [
              0.4444444444444444,
              "#bd3786"
             ],
             [
              0.5555555555555556,
              "#d8576b"
             ],
             [
              0.6666666666666666,
              "#ed7953"
             ],
             [
              0.7777777777777778,
              "#fb9f3a"
             ],
             [
              0.8888888888888888,
              "#fdca26"
             ],
             [
              1,
              "#f0f921"
             ]
            ],
            "type": "histogram2d"
           }
          ],
          "histogram2dcontour": [
           {
            "colorbar": {
             "outlinewidth": 0,
             "ticks": ""
            },
            "colorscale": [
             [
              0,
              "#0d0887"
             ],
             [
              0.1111111111111111,
              "#46039f"
             ],
             [
              0.2222222222222222,
              "#7201a8"
             ],
             [
              0.3333333333333333,
              "#9c179e"
             ],
             [
              0.4444444444444444,
              "#bd3786"
             ],
             [
              0.5555555555555556,
              "#d8576b"
             ],
             [
              0.6666666666666666,
              "#ed7953"
             ],
             [
              0.7777777777777778,
              "#fb9f3a"
             ],
             [
              0.8888888888888888,
              "#fdca26"
             ],
             [
              1,
              "#f0f921"
             ]
            ],
            "type": "histogram2dcontour"
           }
          ],
          "mesh3d": [
           {
            "colorbar": {
             "outlinewidth": 0,
             "ticks": ""
            },
            "type": "mesh3d"
           }
          ],
          "parcoords": [
           {
            "line": {
             "colorbar": {
              "outlinewidth": 0,
              "ticks": ""
             }
            },
            "type": "parcoords"
           }
          ],
          "pie": [
           {
            "automargin": true,
            "type": "pie"
           }
          ],
          "scatter": [
           {
            "marker": {
             "colorbar": {
              "outlinewidth": 0,
              "ticks": ""
             }
            },
            "type": "scatter"
           }
          ],
          "scatter3d": [
           {
            "line": {
             "colorbar": {
              "outlinewidth": 0,
              "ticks": ""
             }
            },
            "marker": {
             "colorbar": {
              "outlinewidth": 0,
              "ticks": ""
             }
            },
            "type": "scatter3d"
           }
          ],
          "scattercarpet": [
           {
            "marker": {
             "colorbar": {
              "outlinewidth": 0,
              "ticks": ""
             }
            },
            "type": "scattercarpet"
           }
          ],
          "scattergeo": [
           {
            "marker": {
             "colorbar": {
              "outlinewidth": 0,
              "ticks": ""
             }
            },
            "type": "scattergeo"
           }
          ],
          "scattergl": [
           {
            "marker": {
             "colorbar": {
              "outlinewidth": 0,
              "ticks": ""
             }
            },
            "type": "scattergl"
           }
          ],
          "scattermapbox": [
           {
            "marker": {
             "colorbar": {
              "outlinewidth": 0,
              "ticks": ""
             }
            },
            "type": "scattermapbox"
           }
          ],
          "scatterpolar": [
           {
            "marker": {
             "colorbar": {
              "outlinewidth": 0,
              "ticks": ""
             }
            },
            "type": "scatterpolar"
           }
          ],
          "scatterpolargl": [
           {
            "marker": {
             "colorbar": {
              "outlinewidth": 0,
              "ticks": ""
             }
            },
            "type": "scatterpolargl"
           }
          ],
          "scatterternary": [
           {
            "marker": {
             "colorbar": {
              "outlinewidth": 0,
              "ticks": ""
             }
            },
            "type": "scatterternary"
           }
          ],
          "surface": [
           {
            "colorbar": {
             "outlinewidth": 0,
             "ticks": ""
            },
            "colorscale": [
             [
              0,
              "#0d0887"
             ],
             [
              0.1111111111111111,
              "#46039f"
             ],
             [
              0.2222222222222222,
              "#7201a8"
             ],
             [
              0.3333333333333333,
              "#9c179e"
             ],
             [
              0.4444444444444444,
              "#bd3786"
             ],
             [
              0.5555555555555556,
              "#d8576b"
             ],
             [
              0.6666666666666666,
              "#ed7953"
             ],
             [
              0.7777777777777778,
              "#fb9f3a"
             ],
             [
              0.8888888888888888,
              "#fdca26"
             ],
             [
              1,
              "#f0f921"
             ]
            ],
            "type": "surface"
           }
          ],
          "table": [
           {
            "cells": {
             "fill": {
              "color": "#EBF0F8"
             },
             "line": {
              "color": "white"
             }
            },
            "header": {
             "fill": {
              "color": "#C8D4E3"
             },
             "line": {
              "color": "white"
             }
            },
            "type": "table"
           }
          ]
         },
         "layout": {
          "annotationdefaults": {
           "arrowcolor": "#2a3f5f",
           "arrowhead": 0,
           "arrowwidth": 1
          },
          "autotypenumbers": "strict",
          "coloraxis": {
           "colorbar": {
            "outlinewidth": 0,
            "ticks": ""
           }
          },
          "colorscale": {
           "diverging": [
            [
             0,
             "#8e0152"
            ],
            [
             0.1,
             "#c51b7d"
            ],
            [
             0.2,
             "#de77ae"
            ],
            [
             0.3,
             "#f1b6da"
            ],
            [
             0.4,
             "#fde0ef"
            ],
            [
             0.5,
             "#f7f7f7"
            ],
            [
             0.6,
             "#e6f5d0"
            ],
            [
             0.7,
             "#b8e186"
            ],
            [
             0.8,
             "#7fbc41"
            ],
            [
             0.9,
             "#4d9221"
            ],
            [
             1,
             "#276419"
            ]
           ],
           "sequential": [
            [
             0,
             "#0d0887"
            ],
            [
             0.1111111111111111,
             "#46039f"
            ],
            [
             0.2222222222222222,
             "#7201a8"
            ],
            [
             0.3333333333333333,
             "#9c179e"
            ],
            [
             0.4444444444444444,
             "#bd3786"
            ],
            [
             0.5555555555555556,
             "#d8576b"
            ],
            [
             0.6666666666666666,
             "#ed7953"
            ],
            [
             0.7777777777777778,
             "#fb9f3a"
            ],
            [
             0.8888888888888888,
             "#fdca26"
            ],
            [
             1,
             "#f0f921"
            ]
           ],
           "sequentialminus": [
            [
             0,
             "#0d0887"
            ],
            [
             0.1111111111111111,
             "#46039f"
            ],
            [
             0.2222222222222222,
             "#7201a8"
            ],
            [
             0.3333333333333333,
             "#9c179e"
            ],
            [
             0.4444444444444444,
             "#bd3786"
            ],
            [
             0.5555555555555556,
             "#d8576b"
            ],
            [
             0.6666666666666666,
             "#ed7953"
            ],
            [
             0.7777777777777778,
             "#fb9f3a"
            ],
            [
             0.8888888888888888,
             "#fdca26"
            ],
            [
             1,
             "#f0f921"
            ]
           ]
          },
          "colorway": [
           "#636efa",
           "#EF553B",
           "#00cc96",
           "#ab63fa",
           "#FFA15A",
           "#19d3f3",
           "#FF6692",
           "#B6E880",
           "#FF97FF",
           "#FECB52"
          ],
          "font": {
           "color": "#2a3f5f"
          },
          "geo": {
           "bgcolor": "white",
           "lakecolor": "white",
           "landcolor": "#E5ECF6",
           "showlakes": true,
           "showland": true,
           "subunitcolor": "white"
          },
          "hoverlabel": {
           "align": "left"
          },
          "hovermode": "closest",
          "mapbox": {
           "style": "light"
          },
          "paper_bgcolor": "white",
          "plot_bgcolor": "#E5ECF6",
          "polar": {
           "angularaxis": {
            "gridcolor": "white",
            "linecolor": "white",
            "ticks": ""
           },
           "bgcolor": "#E5ECF6",
           "radialaxis": {
            "gridcolor": "white",
            "linecolor": "white",
            "ticks": ""
           }
          },
          "scene": {
           "xaxis": {
            "backgroundcolor": "#E5ECF6",
            "gridcolor": "white",
            "gridwidth": 2,
            "linecolor": "white",
            "showbackground": true,
            "ticks": "",
            "zerolinecolor": "white"
           },
           "yaxis": {
            "backgroundcolor": "#E5ECF6",
            "gridcolor": "white",
            "gridwidth": 2,
            "linecolor": "white",
            "showbackground": true,
            "ticks": "",
            "zerolinecolor": "white"
           },
           "zaxis": {
            "backgroundcolor": "#E5ECF6",
            "gridcolor": "white",
            "gridwidth": 2,
            "linecolor": "white",
            "showbackground": true,
            "ticks": "",
            "zerolinecolor": "white"
           }
          },
          "shapedefaults": {
           "line": {
            "color": "#2a3f5f"
           }
          },
          "ternary": {
           "aaxis": {
            "gridcolor": "white",
            "linecolor": "white",
            "ticks": ""
           },
           "baxis": {
            "gridcolor": "white",
            "linecolor": "white",
            "ticks": ""
           },
           "bgcolor": "#E5ECF6",
           "caxis": {
            "gridcolor": "white",
            "linecolor": "white",
            "ticks": ""
           }
          },
          "title": {
           "x": 0.05
          },
          "xaxis": {
           "automargin": true,
           "gridcolor": "white",
           "linecolor": "white",
           "ticks": "",
           "title": {
            "standoff": 15
           },
           "zerolinecolor": "white",
           "zerolinewidth": 2
          },
          "yaxis": {
           "automargin": true,
           "gridcolor": "white",
           "linecolor": "white",
           "ticks": "",
           "title": {
            "standoff": 15
           },
           "zerolinecolor": "white",
           "zerolinewidth": 2
          }
         }
        },
        "title": {
         "text": "Продажи игр по годам"
        }
       }
      },
      "text/html": [
       "<div>                            <div id=\"d7fa46a5-fa4e-4ae0-9707-c3a66492d1b0\" class=\"plotly-graph-div\" style=\"height:525px; width:100%;\"></div>            <script type=\"text/javascript\">                require([\"plotly\"], function(Plotly) {                    window.PLOTLYENV=window.PLOTLYENV || {};                                    if (document.getElementById(\"d7fa46a5-fa4e-4ae0-9707-c3a66492d1b0\")) {                    Plotly.newPlot(                        \"d7fa46a5-fa4e-4ae0-9707-c3a66492d1b0\",                        [{\"name\":\"PS3\",\"x\":[2013,2014,2015,2016],\"y\":[113.24999999999999,47.76000000000002,16.820000000000007,3.5999999999999988],\"type\":\"scatter\"},{\"name\":\"X360\",\"x\":[2013,2014,2015,2016],\"y\":[88.58000000000008,34.739999999999995,11.959999999999997,1.5200000000000002],\"type\":\"scatter\"},{\"name\":\"PS4\",\"x\":[2013,2014,2015,2016],\"y\":[25.990000000000002,99.99999999999996,118.90000000000008,69.25000000000001],\"type\":\"scatter\"},{\"name\":\"3DS\",\"x\":[2013,2014,2015,2016],\"y\":[56.57,43.76000000000003,27.78,15.13999999999999],\"type\":\"scatter\"},{\"name\":\"XOne\",\"x\":[2013,2014,2015,2016],\"y\":[18.959999999999994,54.06999999999999,60.14000000000002,26.15000000000002],\"type\":\"scatter\"},{\"name\":\"WiiU\",\"x\":[2013,2014,2015,2016],\"y\":[21.65,22.029999999999994,16.35000000000001,4.6000000000000005],\"type\":\"scatter\"},{\"name\":\"Wii\",\"x\":[2013,2014,2015,2016],\"y\":[8.59,3.75,1.14,0.18],\"type\":\"scatter\"},{\"name\":\"PC\",\"x\":[2013,2014,2015,2016],\"y\":[12.379999999999997,13.279999999999994,8.51999999999999,5.249999999999997],\"type\":\"scatter\"},{\"name\":\"PSV\",\"x\":[2013,2014,2015,2016],\"y\":[10.589999999999995,11.899999999999988,6.249999999999988,4.249999999999992],\"type\":\"scatter\"},{\"name\":\"DS\",\"x\":[2013],\"y\":[1.54],\"type\":\"scatter\"},{\"name\":\"PSP\",\"x\":[2013,2014,2015],\"y\":[3.139999999999996,0.24000000000000005,0.12000000000000001],\"type\":\"scatter\"}],                        {\"template\":{\"data\":{\"barpolar\":[{\"marker\":{\"line\":{\"color\":\"#E5ECF6\",\"width\":0.5},\"pattern\":{\"fillmode\":\"overlay\",\"size\":10,\"solidity\":0.2}},\"type\":\"barpolar\"}],\"bar\":[{\"error_x\":{\"color\":\"#2a3f5f\"},\"error_y\":{\"color\":\"#2a3f5f\"},\"marker\":{\"line\":{\"color\":\"#E5ECF6\",\"width\":0.5},\"pattern\":{\"fillmode\":\"overlay\",\"size\":10,\"solidity\":0.2}},\"type\":\"bar\"}],\"carpet\":[{\"aaxis\":{\"endlinecolor\":\"#2a3f5f\",\"gridcolor\":\"white\",\"linecolor\":\"white\",\"minorgridcolor\":\"white\",\"startlinecolor\":\"#2a3f5f\"},\"baxis\":{\"endlinecolor\":\"#2a3f5f\",\"gridcolor\":\"white\",\"linecolor\":\"white\",\"minorgridcolor\":\"white\",\"startlinecolor\":\"#2a3f5f\"},\"type\":\"carpet\"}],\"choropleth\":[{\"colorbar\":{\"outlinewidth\":0,\"ticks\":\"\"},\"type\":\"choropleth\"}],\"contourcarpet\":[{\"colorbar\":{\"outlinewidth\":0,\"ticks\":\"\"},\"type\":\"contourcarpet\"}],\"contour\":[{\"colorbar\":{\"outlinewidth\":0,\"ticks\":\"\"},\"colorscale\":[[0.0,\"#0d0887\"],[0.1111111111111111,\"#46039f\"],[0.2222222222222222,\"#7201a8\"],[0.3333333333333333,\"#9c179e\"],[0.4444444444444444,\"#bd3786\"],[0.5555555555555556,\"#d8576b\"],[0.6666666666666666,\"#ed7953\"],[0.7777777777777778,\"#fb9f3a\"],[0.8888888888888888,\"#fdca26\"],[1.0,\"#f0f921\"]],\"type\":\"contour\"}],\"heatmapgl\":[{\"colorbar\":{\"outlinewidth\":0,\"ticks\":\"\"},\"colorscale\":[[0.0,\"#0d0887\"],[0.1111111111111111,\"#46039f\"],[0.2222222222222222,\"#7201a8\"],[0.3333333333333333,\"#9c179e\"],[0.4444444444444444,\"#bd3786\"],[0.5555555555555556,\"#d8576b\"],[0.6666666666666666,\"#ed7953\"],[0.7777777777777778,\"#fb9f3a\"],[0.8888888888888888,\"#fdca26\"],[1.0,\"#f0f921\"]],\"type\":\"heatmapgl\"}],\"heatmap\":[{\"colorbar\":{\"outlinewidth\":0,\"ticks\":\"\"},\"colorscale\":[[0.0,\"#0d0887\"],[0.1111111111111111,\"#46039f\"],[0.2222222222222222,\"#7201a8\"],[0.3333333333333333,\"#9c179e\"],[0.4444444444444444,\"#bd3786\"],[0.5555555555555556,\"#d8576b\"],[0.6666666666666666,\"#ed7953\"],[0.7777777777777778,\"#fb9f3a\"],[0.8888888888888888,\"#fdca26\"],[1.0,\"#f0f921\"]],\"type\":\"heatmap\"}],\"histogram2dcontour\":[{\"colorbar\":{\"outlinewidth\":0,\"ticks\":\"\"},\"colorscale\":[[0.0,\"#0d0887\"],[0.1111111111111111,\"#46039f\"],[0.2222222222222222,\"#7201a8\"],[0.3333333333333333,\"#9c179e\"],[0.4444444444444444,\"#bd3786\"],[0.5555555555555556,\"#d8576b\"],[0.6666666666666666,\"#ed7953\"],[0.7777777777777778,\"#fb9f3a\"],[0.8888888888888888,\"#fdca26\"],[1.0,\"#f0f921\"]],\"type\":\"histogram2dcontour\"}],\"histogram2d\":[{\"colorbar\":{\"outlinewidth\":0,\"ticks\":\"\"},\"colorscale\":[[0.0,\"#0d0887\"],[0.1111111111111111,\"#46039f\"],[0.2222222222222222,\"#7201a8\"],[0.3333333333333333,\"#9c179e\"],[0.4444444444444444,\"#bd3786\"],[0.5555555555555556,\"#d8576b\"],[0.6666666666666666,\"#ed7953\"],[0.7777777777777778,\"#fb9f3a\"],[0.8888888888888888,\"#fdca26\"],[1.0,\"#f0f921\"]],\"type\":\"histogram2d\"}],\"histogram\":[{\"marker\":{\"pattern\":{\"fillmode\":\"overlay\",\"size\":10,\"solidity\":0.2}},\"type\":\"histogram\"}],\"mesh3d\":[{\"colorbar\":{\"outlinewidth\":0,\"ticks\":\"\"},\"type\":\"mesh3d\"}],\"parcoords\":[{\"line\":{\"colorbar\":{\"outlinewidth\":0,\"ticks\":\"\"}},\"type\":\"parcoords\"}],\"pie\":[{\"automargin\":true,\"type\":\"pie\"}],\"scatter3d\":[{\"line\":{\"colorbar\":{\"outlinewidth\":0,\"ticks\":\"\"}},\"marker\":{\"colorbar\":{\"outlinewidth\":0,\"ticks\":\"\"}},\"type\":\"scatter3d\"}],\"scattercarpet\":[{\"marker\":{\"colorbar\":{\"outlinewidth\":0,\"ticks\":\"\"}},\"type\":\"scattercarpet\"}],\"scattergeo\":[{\"marker\":{\"colorbar\":{\"outlinewidth\":0,\"ticks\":\"\"}},\"type\":\"scattergeo\"}],\"scattergl\":[{\"marker\":{\"colorbar\":{\"outlinewidth\":0,\"ticks\":\"\"}},\"type\":\"scattergl\"}],\"scattermapbox\":[{\"marker\":{\"colorbar\":{\"outlinewidth\":0,\"ticks\":\"\"}},\"type\":\"scattermapbox\"}],\"scatterpolargl\":[{\"marker\":{\"colorbar\":{\"outlinewidth\":0,\"ticks\":\"\"}},\"type\":\"scatterpolargl\"}],\"scatterpolar\":[{\"marker\":{\"colorbar\":{\"outlinewidth\":0,\"ticks\":\"\"}},\"type\":\"scatterpolar\"}],\"scatter\":[{\"marker\":{\"colorbar\":{\"outlinewidth\":0,\"ticks\":\"\"}},\"type\":\"scatter\"}],\"scatterternary\":[{\"marker\":{\"colorbar\":{\"outlinewidth\":0,\"ticks\":\"\"}},\"type\":\"scatterternary\"}],\"surface\":[{\"colorbar\":{\"outlinewidth\":0,\"ticks\":\"\"},\"colorscale\":[[0.0,\"#0d0887\"],[0.1111111111111111,\"#46039f\"],[0.2222222222222222,\"#7201a8\"],[0.3333333333333333,\"#9c179e\"],[0.4444444444444444,\"#bd3786\"],[0.5555555555555556,\"#d8576b\"],[0.6666666666666666,\"#ed7953\"],[0.7777777777777778,\"#fb9f3a\"],[0.8888888888888888,\"#fdca26\"],[1.0,\"#f0f921\"]],\"type\":\"surface\"}],\"table\":[{\"cells\":{\"fill\":{\"color\":\"#EBF0F8\"},\"line\":{\"color\":\"white\"}},\"header\":{\"fill\":{\"color\":\"#C8D4E3\"},\"line\":{\"color\":\"white\"}},\"type\":\"table\"}]},\"layout\":{\"annotationdefaults\":{\"arrowcolor\":\"#2a3f5f\",\"arrowhead\":0,\"arrowwidth\":1},\"autotypenumbers\":\"strict\",\"coloraxis\":{\"colorbar\":{\"outlinewidth\":0,\"ticks\":\"\"}},\"colorscale\":{\"diverging\":[[0,\"#8e0152\"],[0.1,\"#c51b7d\"],[0.2,\"#de77ae\"],[0.3,\"#f1b6da\"],[0.4,\"#fde0ef\"],[0.5,\"#f7f7f7\"],[0.6,\"#e6f5d0\"],[0.7,\"#b8e186\"],[0.8,\"#7fbc41\"],[0.9,\"#4d9221\"],[1,\"#276419\"]],\"sequential\":[[0.0,\"#0d0887\"],[0.1111111111111111,\"#46039f\"],[0.2222222222222222,\"#7201a8\"],[0.3333333333333333,\"#9c179e\"],[0.4444444444444444,\"#bd3786\"],[0.5555555555555556,\"#d8576b\"],[0.6666666666666666,\"#ed7953\"],[0.7777777777777778,\"#fb9f3a\"],[0.8888888888888888,\"#fdca26\"],[1.0,\"#f0f921\"]],\"sequentialminus\":[[0.0,\"#0d0887\"],[0.1111111111111111,\"#46039f\"],[0.2222222222222222,\"#7201a8\"],[0.3333333333333333,\"#9c179e\"],[0.4444444444444444,\"#bd3786\"],[0.5555555555555556,\"#d8576b\"],[0.6666666666666666,\"#ed7953\"],[0.7777777777777778,\"#fb9f3a\"],[0.8888888888888888,\"#fdca26\"],[1.0,\"#f0f921\"]]},\"colorway\":[\"#636efa\",\"#EF553B\",\"#00cc96\",\"#ab63fa\",\"#FFA15A\",\"#19d3f3\",\"#FF6692\",\"#B6E880\",\"#FF97FF\",\"#FECB52\"],\"font\":{\"color\":\"#2a3f5f\"},\"geo\":{\"bgcolor\":\"white\",\"lakecolor\":\"white\",\"landcolor\":\"#E5ECF6\",\"showlakes\":true,\"showland\":true,\"subunitcolor\":\"white\"},\"hoverlabel\":{\"align\":\"left\"},\"hovermode\":\"closest\",\"mapbox\":{\"style\":\"light\"},\"paper_bgcolor\":\"white\",\"plot_bgcolor\":\"#E5ECF6\",\"polar\":{\"angularaxis\":{\"gridcolor\":\"white\",\"linecolor\":\"white\",\"ticks\":\"\"},\"bgcolor\":\"#E5ECF6\",\"radialaxis\":{\"gridcolor\":\"white\",\"linecolor\":\"white\",\"ticks\":\"\"}},\"scene\":{\"xaxis\":{\"backgroundcolor\":\"#E5ECF6\",\"gridcolor\":\"white\",\"gridwidth\":2,\"linecolor\":\"white\",\"showbackground\":true,\"ticks\":\"\",\"zerolinecolor\":\"white\"},\"yaxis\":{\"backgroundcolor\":\"#E5ECF6\",\"gridcolor\":\"white\",\"gridwidth\":2,\"linecolor\":\"white\",\"showbackground\":true,\"ticks\":\"\",\"zerolinecolor\":\"white\"},\"zaxis\":{\"backgroundcolor\":\"#E5ECF6\",\"gridcolor\":\"white\",\"gridwidth\":2,\"linecolor\":\"white\",\"showbackground\":true,\"ticks\":\"\",\"zerolinecolor\":\"white\"}},\"shapedefaults\":{\"line\":{\"color\":\"#2a3f5f\"}},\"ternary\":{\"aaxis\":{\"gridcolor\":\"white\",\"linecolor\":\"white\",\"ticks\":\"\"},\"baxis\":{\"gridcolor\":\"white\",\"linecolor\":\"white\",\"ticks\":\"\"},\"bgcolor\":\"#E5ECF6\",\"caxis\":{\"gridcolor\":\"white\",\"linecolor\":\"white\",\"ticks\":\"\"}},\"title\":{\"x\":0.05},\"xaxis\":{\"automargin\":true,\"gridcolor\":\"white\",\"linecolor\":\"white\",\"ticks\":\"\",\"title\":{\"standoff\":15},\"zerolinecolor\":\"white\",\"zerolinewidth\":2},\"yaxis\":{\"automargin\":true,\"gridcolor\":\"white\",\"linecolor\":\"white\",\"ticks\":\"\",\"title\":{\"standoff\":15},\"zerolinecolor\":\"white\",\"zerolinewidth\":2}}},\"title\":{\"text\":\"\\u041f\\u0440\\u043e\\u0434\\u0430\\u0436\\u0438 \\u0438\\u0433\\u0440 \\u043f\\u043e \\u0433\\u043e\\u0434\\u0430\\u043c\"}},                        {\"responsive\": true}                    ).then(function(){\n",
       "                            \n",
       "var gd = document.getElementById('d7fa46a5-fa4e-4ae0-9707-c3a66492d1b0');\n",
       "var x = new MutationObserver(function (mutations, observer) {{\n",
       "        var display = window.getComputedStyle(gd).display;\n",
       "        if (!display || display === 'none') {{\n",
       "            console.log([gd, 'removed!']);\n",
       "            Plotly.purge(gd);\n",
       "            observer.disconnect();\n",
       "        }}\n",
       "}});\n",
       "\n",
       "// Listen for the removal of the full notebook cells\n",
       "var notebookContainer = gd.closest('#notebook-container');\n",
       "if (notebookContainer) {{\n",
       "    x.observe(notebookContainer, {childList: true});\n",
       "}}\n",
       "\n",
       "// Listen for the clearing of the current output cell\n",
       "var outputEl = gd.closest('.output');\n",
       "if (outputEl) {{\n",
       "    x.observe(outputEl, {childList: true});\n",
       "}}\n",
       "\n",
       "                        })                };                });            </script>        </div>"
      ]
     },
     "metadata": {},
     "output_type": "display_data"
    }
   ],
   "source": [
    "data = []\n",
    "\n",
    "for platform in games['platform'].unique():\n",
    "    data.append(\n",
    "        go.Scatter(x=games[games.platform==platform].groupby(\"year_of_release\")['total_sales'].sum().index,\n",
    "               y=games[games.platform==platform].groupby(\"year_of_release\")['total_sales'].sum(),\n",
    "               name=platform)\n",
    "    )\n",
    "layout = {'title': 'Продажи игр по годам'}\n",
    "    \n",
    "fig = go.Figure(data=data, layout=layout)\n",
    "iplot(fig, show_link = False)"
   ]
  },
  {
   "cell_type": "markdown",
   "metadata": {},
   "source": [
    "Вывод: на конец 2016г. лидируют по продажам следующие платформы:\n",
    "\n",
    "PS4;\n",
    "\n",
    "Xone;\n",
    "\n",
    "3DS.\n",
    "\n",
    "Также на графике вижу общий спад продаж"
   ]
  },
  {
   "cell_type": "markdown",
   "metadata": {},
   "source": [
    "Построем график «ящик с усами» по глобальным продажам игр в разбивке по платформам. Опишем результат."
   ]
  },
  {
   "cell_type": "code",
   "execution_count": 73,
   "metadata": {},
   "outputs": [
    {
     "data": {
      "application/vnd.plotly.v1+json": {
       "config": {
        "linkText": "Export to plot.ly",
        "plotlyServerURL": "https://plot.ly",
        "showLink": false
       },
       "data": [
        {
         "name": "PS3",
         "type": "box",
         "y": [
          21.05,
          9.36,
          6.460000000000001,
          5.86,
          5.2700000000000005,
          4.36,
          4.28,
          3.7099999999999995,
          3.4899999999999998,
          3.2299999999999995,
          2.6999999999999997,
          2.42,
          2.29,
          2.25,
          2.11,
          1.91,
          1.87,
          1.83,
          1.74,
          1.7400000000000002,
          1.6900000000000002,
          1.69,
          1.6400000000000001,
          1.6100000000000003,
          1.4600000000000002,
          1.42,
          1.34,
          1.29,
          1.28,
          1.2799999999999998,
          1.27,
          1.26,
          1.25,
          1.23,
          1.19,
          1.14,
          1.08,
          1.07,
          1.02,
          0.9800000000000001,
          0.9700000000000001,
          0.9600000000000001,
          0.9500000000000001,
          0.95,
          0.9400000000000001,
          0.9400000000000001,
          0.93,
          0.93,
          0.87,
          0.85,
          0.8500000000000001,
          0.84,
          0.7899999999999999,
          0.7799999999999999,
          0.7699999999999999,
          0.74,
          0.7300000000000001,
          0.74,
          0.7300000000000001,
          0.7300000000000001,
          0.6900000000000001,
          0.67,
          0.66,
          0.66,
          0.65,
          0.6399999999999999,
          0.64,
          0.61,
          0.62,
          0.6,
          0.61,
          0.6100000000000001,
          0.59,
          0.5800000000000001,
          0.5800000000000001,
          0.5800000000000001,
          0.5800000000000001,
          0.56,
          0.56,
          0.5599999999999999,
          0.5499999999999999,
          0.54,
          0.5499999999999999,
          0.54,
          0.53,
          0.51,
          0.51,
          0.49,
          0.49000000000000005,
          0.46,
          0.44,
          0.45,
          0.44,
          0.44,
          0.43,
          0.44,
          0.42,
          0.41000000000000003,
          0.41,
          0.41000000000000003,
          0.41,
          0.39999999999999997,
          0.39,
          0.38,
          0.37000000000000005,
          0.38000000000000006,
          0.37,
          0.37000000000000005,
          0.36000000000000004,
          0.37,
          0.36,
          0.34,
          0.34,
          0.35000000000000003,
          0.33,
          0.33,
          0.33,
          0.31000000000000005,
          0.32000000000000006,
          0.3,
          0.31000000000000005,
          0.29000000000000004,
          0.29000000000000004,
          0.29000000000000004,
          0.28,
          0.29,
          0.28,
          0.26999999999999996,
          0.27,
          0.26,
          0.26,
          0.26,
          0.26,
          0.26,
          0.26,
          0.25,
          0.26,
          0.25,
          0.25,
          0.25,
          0.25,
          0.24000000000000002,
          0.24000000000000002,
          0.23,
          0.23,
          0.23,
          0.21,
          0.21,
          0.2,
          0.19999999999999998,
          0.21,
          0.2,
          0.2,
          0.19999999999999998,
          0.2,
          0.19,
          0.19,
          0.18,
          0.19,
          0.18999999999999997,
          0.19,
          0.18,
          0.18000000000000002,
          0.17,
          0.15000000000000002,
          0.17,
          0.16,
          0.16,
          0.16,
          0.16,
          0.15,
          0.15,
          0.16,
          0.14,
          0.13,
          0.14,
          0.14,
          0.14,
          0.14,
          0.13,
          0.13,
          0.13,
          0.13,
          0.12999999999999998,
          0.13,
          0.12000000000000001,
          0.12,
          0.12,
          0.12,
          0.12,
          0.12,
          0.12,
          0.11000000000000001,
          0.12,
          0.12000000000000001,
          0.11,
          0.11,
          0.11,
          0.12000000000000001,
          0.11,
          0.11,
          0.11000000000000001,
          0.1,
          0.11,
          0.1,
          0.11,
          0.1,
          0.1,
          0.09,
          0.09,
          0.1,
          0.1,
          0.1,
          0.09000000000000001,
          0.09,
          0.08,
          0.09,
          0.08,
          0.09,
          0.08,
          0.08,
          0.06999999999999999,
          0.08,
          0.08,
          0.07,
          0.08,
          0.07,
          0.06999999999999999,
          0.08,
          0.08,
          0.06999999999999999,
          0.06,
          0.06,
          0.06,
          0.06999999999999999,
          0.06,
          0.06,
          0.06,
          0.060000000000000005,
          0.06999999999999999,
          0.06,
          0.060000000000000005,
          0.060000000000000005,
          0.060000000000000005,
          0.060000000000000005,
          0.05,
          0.05,
          0.05,
          0.05,
          0.05,
          0.060000000000000005,
          0.05,
          0.05,
          0.05,
          0.04,
          0.05,
          0.05,
          0.05,
          0.04,
          0.04,
          0.04,
          0.04,
          0.04,
          0.04,
          0.04,
          0.04,
          0.04,
          0.04,
          0.04,
          0.04,
          0.04,
          0.05,
          0.04,
          0.04,
          0.04,
          0.04,
          0.03,
          0.03,
          0.03,
          0.03,
          0.03,
          0.03,
          0.04,
          0.03,
          0.03,
          0.03,
          0.03,
          0.03,
          0.03,
          0.02,
          0.03,
          0.03,
          0.03,
          0.03,
          0.03,
          0.02,
          0.03,
          0.03,
          0.02,
          0.02,
          0.02,
          0.02,
          0.02,
          0.02,
          0.02,
          0.02,
          0.02,
          0.02,
          0.02,
          0.02,
          0.02,
          0.02,
          0.02,
          0.02,
          0.02,
          0.02,
          0.02,
          0.02,
          0.02,
          0.02,
          0.02,
          0.02,
          0.02,
          0.02,
          0.02,
          0.02,
          0.02,
          0.01,
          0.01,
          0.02,
          0.02,
          0.01,
          0.01,
          0.01,
          0.01,
          0.01,
          0.01,
          0.01,
          0.01,
          0.01,
          0.01,
          0.01,
          0.01,
          0.01,
          0.01
         ]
        },
        {
         "name": "X360",
         "type": "box",
         "y": [
          16.27,
          10.24,
          9.18,
          4.28,
          4.22,
          3.49,
          3.3099999999999996,
          2.92,
          2.52,
          2.23,
          2.22,
          2.0500000000000003,
          1.94,
          1.92,
          1.88,
          1.88,
          1.7,
          1.65,
          1.6300000000000001,
          1.5699999999999998,
          1.5699999999999998,
          1.44,
          1.4100000000000001,
          1.3800000000000001,
          1.3599999999999999,
          1.3199999999999998,
          1.27,
          1.25,
          1.11,
          1.09,
          1.08,
          1.07,
          1.01,
          0.99,
          0.98,
          0.9799999999999999,
          0.97,
          0.9400000000000001,
          0.94,
          0.9299999999999999,
          0.91,
          0.9,
          0.89,
          0.89,
          0.89,
          0.87,
          0.8,
          0.78,
          0.78,
          0.77,
          0.74,
          0.73,
          0.6799999999999999,
          0.6400000000000001,
          0.6200000000000001,
          0.6100000000000001,
          0.5700000000000001,
          0.5700000000000001,
          0.54,
          0.53,
          0.53,
          0.51,
          0.48000000000000004,
          0.48,
          0.48,
          0.46,
          0.45,
          0.44999999999999996,
          0.45,
          0.43,
          0.43,
          0.43,
          0.43,
          0.43000000000000005,
          0.42,
          0.39,
          0.38999999999999996,
          0.38,
          0.38,
          0.36,
          0.36,
          0.35,
          0.35,
          0.31000000000000005,
          0.31999999999999995,
          0.31999999999999995,
          0.31000000000000005,
          0.30000000000000004,
          0.29000000000000004,
          0.27,
          0.27,
          0.28,
          0.27,
          0.26,
          0.26,
          0.25,
          0.23,
          0.24,
          0.23,
          0.23,
          0.23,
          0.22,
          0.22,
          0.22,
          0.22,
          0.19999999999999998,
          0.19999999999999998,
          0.18,
          0.18,
          0.18,
          0.17,
          0.16000000000000003,
          0.16999999999999998,
          0.16999999999999998,
          0.16,
          0.15000000000000002,
          0.15000000000000002,
          0.14,
          0.14,
          0.13,
          0.12,
          0.12,
          0.12,
          0.12,
          0.12,
          0.10999999999999999,
          0.09999999999999999,
          0.09999999999999999,
          0.09999999999999999,
          0.09999999999999999,
          0.09999999999999999,
          0.09,
          0.09999999999999999,
          0.09,
          0.09,
          0.08,
          0.08,
          0.07999999999999999,
          0.07999999999999999,
          0.08,
          0.08,
          0.09,
          0.09,
          0.08,
          0.06999999999999999,
          0.06999999999999999,
          0.07999999999999999,
          0.060000000000000005,
          0.07,
          0.06,
          0.06999999999999999,
          0.060000000000000005,
          0.07,
          0.05,
          0.05,
          0.060000000000000005,
          0.05,
          0.05,
          0.04,
          0.04,
          0.04,
          0.04,
          0.04,
          0.03,
          0.04,
          0.03,
          0.03,
          0.03,
          0.02,
          0.03,
          0.03,
          0.02,
          0.02,
          0.02,
          0.02,
          0.02,
          0.02,
          0.02,
          0.01,
          0.01,
          0.01,
          0.01,
          0.01,
          0.01,
          0.01,
          0.01
         ]
        },
        {
         "name": "PS4",
         "type": "box",
         "y": [
          14.629999999999999,
          12.620000000000001,
          8.58,
          7.98,
          7.66,
          7.6000000000000005,
          7.17,
          6.08,
          5.640000000000001,
          5.39,
          4.72,
          4.62,
          4.470000000000001,
          4.32,
          4.07,
          4.05,
          4.04,
          3.9699999999999998,
          3.96,
          3.96,
          3.87,
          3.8299999999999996,
          3.8,
          3.58,
          3.4200000000000004,
          3.3899999999999997,
          3.2399999999999998,
          3.01,
          2.96,
          2.86,
          2.7899999999999996,
          2.78,
          2.6900000000000004,
          2.48,
          2.4499999999999997,
          2.42,
          2.2600000000000002,
          2.21,
          2.19,
          2.14,
          2.11,
          2.09,
          2.07,
          2.01,
          1.98,
          1.9200000000000002,
          1.9100000000000001,
          1.8800000000000001,
          1.85,
          1.83,
          1.81,
          1.7900000000000003,
          1.74,
          1.75,
          1.7200000000000002,
          1.73,
          1.7200000000000002,
          1.6900000000000002,
          1.6600000000000001,
          1.6600000000000001,
          1.62,
          1.54,
          1.54,
          1.49,
          1.44,
          1.4000000000000001,
          1.3199999999999998,
          1.2699999999999998,
          1.21,
          1.17,
          1.15,
          1.14,
          1.13,
          1.1199999999999999,
          1.1,
          1.0799999999999998,
          1.05,
          1.02,
          0.98,
          0.9700000000000001,
          0.9400000000000001,
          0.93,
          0.92,
          0.93,
          0.92,
          0.9,
          0.9,
          0.91,
          0.89,
          0.88,
          0.86,
          0.8200000000000001,
          0.78,
          0.7600000000000001,
          0.75,
          0.75,
          0.7300000000000001,
          0.73,
          0.73,
          0.73,
          0.72,
          0.73,
          0.7,
          0.71,
          0.6900000000000001,
          0.6900000000000001,
          0.67,
          0.67,
          0.66,
          0.64,
          0.64,
          0.63,
          0.63,
          0.62,
          0.61,
          0.61,
          0.6,
          0.6,
          0.6,
          0.54,
          0.56,
          0.51,
          0.52,
          0.49000000000000005,
          0.47000000000000003,
          0.46,
          0.45,
          0.44,
          0.43,
          0.43,
          0.43,
          0.42,
          0.42,
          0.4,
          0.4,
          0.38999999999999996,
          0.39999999999999997,
          0.4,
          0.39999999999999997,
          0.38,
          0.37999999999999995,
          0.39,
          0.38,
          0.38,
          0.37,
          0.37,
          0.37000000000000005,
          0.36000000000000004,
          0.36,
          0.36000000000000004,
          0.36000000000000004,
          0.35000000000000003,
          0.36,
          0.34,
          0.34,
          0.33999999999999997,
          0.34,
          0.33,
          0.33999999999999997,
          0.32,
          0.32,
          0.3,
          0.3,
          0.31,
          0.3,
          0.3,
          0.3,
          0.29,
          0.28,
          0.27999999999999997,
          0.29000000000000004,
          0.29000000000000004,
          0.27,
          0.27,
          0.26,
          0.26,
          0.26,
          0.26,
          0.24000000000000002,
          0.25,
          0.25,
          0.24000000000000002,
          0.24000000000000002,
          0.24000000000000002,
          0.24000000000000002,
          0.23,
          0.23,
          0.23,
          0.23,
          0.22,
          0.21000000000000002,
          0.21000000000000002,
          0.19999999999999998,
          0.2,
          0.2,
          0.19999999999999998,
          0.2,
          0.2,
          0.19999999999999998,
          0.19,
          0.19,
          0.19999999999999998,
          0.19,
          0.18,
          0.18,
          0.18,
          0.18000000000000002,
          0.17,
          0.17,
          0.16999999999999998,
          0.16,
          0.17,
          0.16999999999999998,
          0.16,
          0.16,
          0.16,
          0.15,
          0.15,
          0.13999999999999999,
          0.15,
          0.14,
          0.13999999999999999,
          0.13999999999999999,
          0.13999999999999999,
          0.13,
          0.13,
          0.12000000000000001,
          0.13,
          0.12,
          0.12,
          0.12000000000000001,
          0.11,
          0.11,
          0.12,
          0.12000000000000001,
          0.12000000000000001,
          0.12000000000000001,
          0.11,
          0.09999999999999999,
          0.11,
          0.1,
          0.09,
          0.1,
          0.09,
          0.1,
          0.1,
          0.1,
          0.09999999999999999,
          0.09,
          0.09,
          0.1,
          0.09000000000000001,
          0.08,
          0.09,
          0.09,
          0.09,
          0.09,
          0.08,
          0.08,
          0.08,
          0.08,
          0.08,
          0.08,
          0.08,
          0.06999999999999999,
          0.09,
          0.09000000000000001,
          0.08,
          0.06999999999999999,
          0.06999999999999999,
          0.08,
          0.07,
          0.08,
          0.08,
          0.08,
          0.06999999999999999,
          0.07,
          0.06999999999999999,
          0.07,
          0.060000000000000005,
          0.06999999999999999,
          0.07,
          0.06999999999999999,
          0.060000000000000005,
          0.060000000000000005,
          0.060000000000000005,
          0.060000000000000005,
          0.06999999999999999,
          0.06,
          0.06,
          0.06,
          0.060000000000000005,
          0.060000000000000005,
          0.060000000000000005,
          0.060000000000000005,
          0.06,
          0.060000000000000005,
          0.05,
          0.05,
          0.05,
          0.05,
          0.060000000000000005,
          0.05,
          0.05,
          0.05,
          0.05,
          0.05,
          0.05,
          0.04,
          0.05,
          0.05,
          0.05,
          0.05,
          0.05,
          0.05,
          0.05,
          0.05,
          0.04,
          0.03,
          0.05,
          0.04,
          0.04,
          0.04,
          0.04,
          0.04,
          0.04,
          0.04,
          0.04,
          0.03,
          0.03,
          0.03,
          0.04,
          0.03,
          0.03,
          0.03,
          0.04,
          0.03,
          0.03,
          0.03,
          0.03,
          0.03,
          0.02,
          0.02,
          0.02,
          0.03,
          0.03,
          0.02,
          0.02,
          0.02,
          0.02,
          0.02,
          0.02,
          0.02,
          0.02,
          0.02,
          0.02,
          0.02,
          0.02,
          0.02,
          0.02,
          0.02,
          0.02,
          0.02,
          0.02,
          0.02,
          0.02,
          0.01,
          0.01,
          0.01,
          0.02,
          0.02,
          0.01,
          0.01,
          0.01,
          0.02,
          0.02,
          0.02,
          0.01,
          0.02,
          0.01,
          0.01,
          0.01,
          0.01,
          0.01,
          0.01,
          0.01,
          0.01,
          0.01,
          0.01,
          0.01,
          0.01,
          0.01
         ]
        },
        {
         "name": "3DS",
         "type": "box",
         "y": [
          14.6,
          11.68,
          7.550000000000001,
          7.14,
          5.220000000000001,
          4.59,
          3.89,
          3.44,
          3.32,
          3.28,
          3.1,
          3.05,
          2.68,
          2.34,
          2.29,
          2.08,
          2.07,
          1.9200000000000002,
          1.9,
          1.83,
          1.6700000000000002,
          1.51,
          1.4700000000000002,
          1.46,
          1.3800000000000001,
          1.33,
          1.25,
          1.11,
          0.93,
          0.93,
          0.8900000000000001,
          0.87,
          0.86,
          0.79,
          0.75,
          0.76,
          0.7500000000000001,
          0.75,
          0.7200000000000001,
          0.6900000000000002,
          0.63,
          0.6200000000000001,
          0.5900000000000001,
          0.5800000000000001,
          0.5700000000000001,
          0.56,
          0.53,
          0.53,
          0.48,
          0.49,
          0.48,
          0.48000000000000004,
          0.4800000000000001,
          0.4600000000000001,
          0.45,
          0.44000000000000006,
          0.42999999999999994,
          0.42000000000000004,
          0.42,
          0.38,
          0.38,
          0.38,
          0.36,
          0.35,
          0.33,
          0.32999999999999996,
          0.33,
          0.32000000000000006,
          0.32,
          0.31,
          0.31000000000000005,
          0.31000000000000005,
          0.29000000000000004,
          0.29000000000000004,
          0.29,
          0.28,
          0.28,
          0.27,
          0.27,
          0.26,
          0.26,
          0.26,
          0.26,
          0.25,
          0.25,
          0.24000000000000002,
          0.24,
          0.24999999999999997,
          0.24,
          0.23,
          0.24,
          0.23,
          0.22,
          0.22,
          0.21000000000000002,
          0.22,
          0.21000000000000002,
          0.21,
          0.21,
          0.2,
          0.2,
          0.19,
          0.18000000000000002,
          0.19,
          0.19,
          0.18,
          0.18,
          0.17,
          0.17,
          0.17,
          0.17,
          0.16,
          0.16000000000000003,
          0.16,
          0.15,
          0.14,
          0.15000000000000002,
          0.15,
          0.15,
          0.14,
          0.14,
          0.15,
          0.14,
          0.13,
          0.13,
          0.13,
          0.13,
          0.13,
          0.12,
          0.12,
          0.13,
          0.13,
          0.11,
          0.12,
          0.12,
          0.11,
          0.11,
          0.11,
          0.11,
          0.11,
          0.11,
          0.1,
          0.1,
          0.1,
          0.09999999999999999,
          0.1,
          0.1,
          0.09999999999999999,
          0.09999999999999999,
          0.09,
          0.09,
          0.09,
          0.09,
          0.09,
          0.09,
          0.08,
          0.09,
          0.08,
          0.08,
          0.08,
          0.08,
          0.07,
          0.08,
          0.08,
          0.08,
          0.08,
          0.08,
          0.08,
          0.08,
          0.08,
          0.07,
          0.07,
          0.07,
          0.07,
          0.08,
          0.07,
          0.07,
          0.07,
          0.07,
          0.06999999999999999,
          0.07,
          0.07,
          0.07,
          0.07,
          0.07,
          0.07,
          0.06,
          0.07,
          0.07,
          0.06999999999999999,
          0.06,
          0.06999999999999999,
          0.06,
          0.06,
          0.06,
          0.06,
          0.06,
          0.06,
          0.06,
          0.06,
          0.060000000000000005,
          0.06,
          0.06,
          0.06,
          0.06,
          0.05,
          0.060000000000000005,
          0.05,
          0.05,
          0.05,
          0.04,
          0.05,
          0.05,
          0.05,
          0.05,
          0.04,
          0.04,
          0.04,
          0.04,
          0.04,
          0.04,
          0.04,
          0.04,
          0.03,
          0.03,
          0.04,
          0.04,
          0.04,
          0.03,
          0.04,
          0.04,
          0.03,
          0.04,
          0.03,
          0.04,
          0.04,
          0.03,
          0.03,
          0.03,
          0.03,
          0.03,
          0.03,
          0.03,
          0.03,
          0.03,
          0.03,
          0.03,
          0.03,
          0.03,
          0.03,
          0.03,
          0.03,
          0.03,
          0.03,
          0.03,
          0.02,
          0.03,
          0.03,
          0.03,
          0.03,
          0.03,
          0.03,
          0.03,
          0.03,
          0.02,
          0.03,
          0.02,
          0.02,
          0.03,
          0.02,
          0.02,
          0.02,
          0.02,
          0.02,
          0.02,
          0.02,
          0.02,
          0.02,
          0.02,
          0.02,
          0.01,
          0.01,
          0.01,
          0.01,
          0.01,
          0.01,
          0.01,
          0.01,
          0.01,
          0.01,
          0.01,
          0.01,
          0.01,
          0.01,
          0.01,
          0.01,
          0.01,
          0.01,
          0.01,
          0.01,
          0.01,
          0.01,
          0.01
         ]
        },
        {
         "name": "XOne",
         "type": "box",
         "y": [
          7.389999999999999,
          5.47,
          5.26,
          4.49,
          4.22,
          3.66,
          3.5,
          3.37,
          3.28,
          3.25,
          3.23,
          2.95,
          2.92,
          2.7600000000000002,
          2.65,
          2.4200000000000004,
          2.42,
          2.34,
          2.25,
          2.24,
          2.1999999999999997,
          2.18,
          2.1700000000000004,
          2.02,
          1.7999999999999998,
          1.73,
          1.6400000000000001,
          1.57,
          1.5700000000000003,
          1.56,
          1.4900000000000002,
          1.4000000000000001,
          1.3900000000000001,
          1.38,
          1.3800000000000001,
          1.3599999999999999,
          1.3399999999999999,
          1.3399999999999999,
          1.3,
          1.2900000000000003,
          1.29,
          1.2800000000000002,
          1.23,
          1.21,
          1.2000000000000002,
          1.1600000000000001,
          1.1300000000000001,
          1.08,
          1.06,
          1.05,
          1.03,
          0.93,
          0.8999999999999999,
          0.91,
          0.88,
          0.8,
          0.79,
          0.76,
          0.75,
          0.75,
          0.69,
          0.6799999999999999,
          0.7,
          0.6800000000000002,
          0.6599999999999999,
          0.6599999999999999,
          0.6599999999999999,
          0.6400000000000001,
          0.6300000000000001,
          0.6200000000000001,
          0.61,
          0.6000000000000001,
          0.5900000000000001,
          0.5700000000000001,
          0.5700000000000001,
          0.56,
          0.56,
          0.55,
          0.53,
          0.53,
          0.49999999999999994,
          0.48000000000000004,
          0.4799999999999999,
          0.48,
          0.47,
          0.45999999999999996,
          0.45,
          0.44999999999999996,
          0.44,
          0.43,
          0.44,
          0.42,
          0.41,
          0.41,
          0.41,
          0.38999999999999996,
          0.37,
          0.36,
          0.36,
          0.33999999999999997,
          0.33999999999999997,
          0.33999999999999997,
          0.33999999999999997,
          0.31999999999999995,
          0.31999999999999995,
          0.31000000000000005,
          0.31000000000000005,
          0.31000000000000005,
          0.29000000000000004,
          0.28,
          0.27,
          0.27,
          0.26,
          0.26,
          0.25,
          0.24999999999999997,
          0.24,
          0.24000000000000002,
          0.24000000000000002,
          0.24000000000000002,
          0.24000000000000002,
          0.23,
          0.22,
          0.22,
          0.22,
          0.21,
          0.21,
          0.21,
          0.19999999999999998,
          0.19999999999999998,
          0.21,
          0.19999999999999998,
          0.19999999999999998,
          0.18,
          0.18,
          0.18,
          0.18,
          0.16,
          0.16,
          0.16000000000000003,
          0.16999999999999998,
          0.15000000000000002,
          0.15000000000000002,
          0.15000000000000002,
          0.15000000000000002,
          0.15000000000000002,
          0.15000000000000002,
          0.14,
          0.14,
          0.14,
          0.14,
          0.14,
          0.13,
          0.13,
          0.13,
          0.13,
          0.13,
          0.12,
          0.12,
          0.12000000000000001,
          0.12,
          0.11,
          0.11,
          0.10999999999999999,
          0.11,
          0.11,
          0.09999999999999999,
          0.1,
          0.09999999999999999,
          0.09999999999999999,
          0.09,
          0.08,
          0.08,
          0.08,
          0.08,
          0.08,
          0.08,
          0.07,
          0.06999999999999999,
          0.07,
          0.06999999999999999,
          0.060000000000000005,
          0.06,
          0.05,
          0.060000000000000005,
          0.060000000000000005,
          0.060000000000000005,
          0.05,
          0.05,
          0.05,
          0.05,
          0.060000000000000005,
          0.060000000000000005,
          0.05,
          0.04,
          0.04,
          0.04,
          0.04,
          0.04,
          0.04,
          0.04,
          0.04,
          0.03,
          0.03,
          0.03,
          0.03,
          0.03,
          0.03,
          0.03,
          0.02,
          0.02,
          0.02,
          0.02,
          0.02,
          0.02,
          0.02,
          0.02,
          0.01,
          0.02,
          0.02,
          0.02,
          0.02,
          0.02,
          0.01,
          0.01,
          0.01,
          0.01,
          0.01,
          0.01,
          0.01,
          0.01,
          0.01,
          0.01,
          0.01,
          0.01,
          0.01,
          0.01,
          0.01,
          0.01,
          0.01,
          0.01,
          0.01,
          0.01,
          0.01,
          0.01,
          0.01,
          0.01
         ]
        },
        {
         "name": "WiiU",
         "type": "box",
         "y": [
          7.09,
          4.87,
          4.4399999999999995,
          4.319999999999999,
          3.21,
          2.2300000000000004,
          1.8000000000000003,
          1.7500000000000002,
          1.58,
          1.5299999999999998,
          1.3,
          1.23,
          1.1900000000000002,
          1.12,
          1.1,
          1.03,
          1.01,
          0.84,
          0.8400000000000001,
          0.78,
          0.76,
          0.74,
          0.73,
          0.7,
          0.6700000000000002,
          0.6600000000000001,
          0.6499999999999999,
          0.6400000000000001,
          0.6000000000000001,
          0.5900000000000001,
          0.5800000000000001,
          0.5700000000000001,
          0.53,
          0.52,
          0.51,
          0.48,
          0.45999999999999996,
          0.45999999999999996,
          0.44000000000000006,
          0.42000000000000004,
          0.42000000000000004,
          0.41,
          0.4,
          0.39,
          0.38,
          0.37,
          0.35,
          0.34,
          0.31000000000000005,
          0.31000000000000005,
          0.29000000000000004,
          0.27,
          0.27,
          0.24999999999999997,
          0.24,
          0.24,
          0.22,
          0.2,
          0.18999999999999997,
          0.18999999999999997,
          0.18000000000000002,
          0.19,
          0.18999999999999997,
          0.15000000000000002,
          0.13,
          0.12,
          0.12000000000000001,
          0.11,
          0.11,
          0.12,
          0.11,
          0.11,
          0.09999999999999999,
          0.09999999999999999,
          0.09999999999999999,
          0.09,
          0.09999999999999999,
          0.09,
          0.09,
          0.08,
          0.09,
          0.07999999999999999,
          0.06999999999999999,
          0.06,
          0.06,
          0.06999999999999999,
          0.060000000000000005,
          0.06999999999999999,
          0.05,
          0.04,
          0.05,
          0.05,
          0.05,
          0.03,
          0.03,
          0.03,
          0.03,
          0.03,
          0.03,
          0.02,
          0.02,
          0.02,
          0.02,
          0.02,
          0.02,
          0.02,
          0.02,
          0.02,
          0.01,
          0.01,
          0.01,
          0.01,
          0.01,
          0.01,
          0.01
         ]
        },
        {
         "name": "Wii",
         "type": "box",
         "y": [
          3.5799999999999996,
          2.15,
          2.01,
          1.6,
          0.95,
          0.95,
          0.56,
          0.38,
          0.26,
          0.23,
          0.18000000000000002,
          0.18,
          0.15,
          0.14,
          0.09999999999999999,
          0.060000000000000005,
          0.05,
          0.04,
          0.03,
          0.03,
          0.01,
          0.01,
          0.01
         ]
        },
        {
         "name": "PC",
         "type": "box",
         "y": [
          3.0500000000000003,
          1.67,
          1.42,
          1.36,
          1.2800000000000002,
          1.1900000000000002,
          1.1700000000000002,
          0.9000000000000001,
          0.73,
          0.72,
          0.7200000000000001,
          0.6900000000000001,
          0.6599999999999999,
          0.6599999999999999,
          0.65,
          0.65,
          0.63,
          0.63,
          0.6300000000000001,
          0.56,
          0.55,
          0.55,
          0.53,
          0.52,
          0.47,
          0.47,
          0.44999999999999996,
          0.44000000000000006,
          0.41,
          0.41000000000000003,
          0.4,
          0.38,
          0.36,
          0.35,
          0.35000000000000003,
          0.35,
          0.32000000000000006,
          0.31000000000000005,
          0.28,
          0.29000000000000004,
          0.28,
          0.26,
          0.26,
          0.25,
          0.24,
          0.24,
          0.22999999999999998,
          0.23,
          0.22,
          0.22,
          0.22,
          0.2,
          0.2,
          0.19999999999999998,
          0.19999999999999998,
          0.18000000000000002,
          0.18999999999999997,
          0.19999999999999998,
          0.18000000000000002,
          0.18999999999999997,
          0.18,
          0.17,
          0.17,
          0.16,
          0.16,
          0.16000000000000003,
          0.15000000000000002,
          0.15000000000000002,
          0.14,
          0.14,
          0.13,
          0.13,
          0.13,
          0.13,
          0.12,
          0.12000000000000001,
          0.12,
          0.12,
          0.11,
          0.09999999999999999,
          0.11,
          0.11,
          0.09999999999999999,
          0.09999999999999999,
          0.09999999999999999,
          0.09,
          0.09999999999999999,
          0.08,
          0.08,
          0.08,
          0.09,
          0.08,
          0.08,
          0.08,
          0.08,
          0.07,
          0.07,
          0.06,
          0.06999999999999999,
          0.060000000000000005,
          0.06,
          0.06,
          0.06,
          0.05,
          0.05,
          0.05,
          0.05,
          0.05,
          0.05,
          0.05,
          0.05,
          0.05,
          0.05,
          0.05,
          0.04,
          0.05,
          0.05,
          0.04,
          0.04,
          0.04,
          0.04,
          0.04,
          0.04,
          0.04,
          0.04,
          0.04,
          0.03,
          0.03,
          0.03,
          0.03,
          0.03,
          0.03,
          0.03,
          0.03,
          0.03,
          0.03,
          0.03,
          0.03,
          0.03,
          0.03,
          0.03,
          0.03,
          0.02,
          0.03,
          0.03,
          0.02,
          0.02,
          0.02,
          0.02,
          0.02,
          0.02,
          0.02,
          0.02,
          0.02,
          0.02,
          0.02,
          0.02,
          0.02,
          0.02,
          0.02,
          0.02,
          0.02,
          0.01,
          0.01,
          0.01,
          0.01,
          0.01,
          0.01,
          0.01,
          0.01,
          0.01,
          0.01,
          0.01,
          0.01,
          0.01,
          0.01,
          0.01,
          0.01,
          0.01,
          0.01,
          0.01,
          0.01,
          0.01,
          0.01,
          0.01,
          0.01,
          0.01,
          0.01,
          0.01
         ]
        },
        {
         "name": "PSV",
         "type": "box",
         "y": [
          1.9600000000000002,
          0.8000000000000002,
          0.8,
          0.65,
          0.64,
          0.6200000000000001,
          0.6,
          0.51,
          0.51,
          0.45,
          0.43000000000000005,
          0.41000000000000003,
          0.41000000000000003,
          0.38,
          0.36,
          0.36,
          0.35000000000000003,
          0.33,
          0.33,
          0.32,
          0.31,
          0.3,
          0.3,
          0.30000000000000004,
          0.29000000000000004,
          0.25,
          0.23,
          0.23,
          0.22000000000000003,
          0.22999999999999998,
          0.22,
          0.22,
          0.21,
          0.21,
          0.21000000000000002,
          0.2,
          0.19,
          0.19,
          0.19,
          0.19,
          0.18000000000000002,
          0.19,
          0.18,
          0.18,
          0.18,
          0.16999999999999998,
          0.17,
          0.17,
          0.17,
          0.16,
          0.17,
          0.17,
          0.16,
          0.15000000000000002,
          0.16,
          0.15,
          0.15,
          0.14,
          0.15,
          0.15000000000000002,
          0.14,
          0.14,
          0.14,
          0.13,
          0.13,
          0.13,
          0.12,
          0.13,
          0.13,
          0.12000000000000001,
          0.13,
          0.13,
          0.13,
          0.12000000000000001,
          0.12,
          0.12,
          0.11,
          0.12,
          0.12,
          0.12000000000000001,
          0.11,
          0.12000000000000001,
          0.11,
          0.11,
          0.11,
          0.11,
          0.11,
          0.11,
          0.11,
          0.11,
          0.1,
          0.11,
          0.1,
          0.09999999999999999,
          0.11,
          0.1,
          0.1,
          0.1,
          0.1,
          0.1,
          0.09999999999999999,
          0.1,
          0.09,
          0.09999999999999999,
          0.09000000000000001,
          0.09,
          0.09,
          0.09,
          0.09,
          0.09,
          0.09,
          0.09,
          0.09,
          0.09,
          0.08,
          0.08,
          0.08,
          0.08,
          0.08,
          0.08,
          0.07,
          0.07,
          0.07,
          0.07,
          0.08,
          0.07,
          0.06999999999999999,
          0.07,
          0.06999999999999999,
          0.06999999999999999,
          0.06999999999999999,
          0.07,
          0.07,
          0.07,
          0.06999999999999999,
          0.06,
          0.06,
          0.06999999999999999,
          0.06,
          0.06,
          0.06,
          0.06,
          0.060000000000000005,
          0.060000000000000005,
          0.06999999999999999,
          0.06,
          0.06,
          0.06,
          0.06,
          0.06,
          0.060000000000000005,
          0.06,
          0.06,
          0.06,
          0.06,
          0.06,
          0.05,
          0.05,
          0.05,
          0.05,
          0.060000000000000005,
          0.05,
          0.05,
          0.05,
          0.05,
          0.05,
          0.05,
          0.05,
          0.05,
          0.05,
          0.05,
          0.05,
          0.05,
          0.05,
          0.05,
          0.05,
          0.05,
          0.04,
          0.04,
          0.04,
          0.04,
          0.04,
          0.05,
          0.04,
          0.04,
          0.04,
          0.04,
          0.04,
          0.04,
          0.04,
          0.04,
          0.04,
          0.04,
          0.03,
          0.04,
          0.03,
          0.03,
          0.03,
          0.03,
          0.04,
          0.03,
          0.03,
          0.03,
          0.03,
          0.03,
          0.03,
          0.03,
          0.04,
          0.03,
          0.03,
          0.03,
          0.03,
          0.03,
          0.03,
          0.03,
          0.03,
          0.03,
          0.03,
          0.03,
          0.03,
          0.03,
          0.03,
          0.03,
          0.03,
          0.03,
          0.03,
          0.03,
          0.03,
          0.03,
          0.03,
          0.03,
          0.03,
          0.03,
          0.03,
          0.03,
          0.03,
          0.03,
          0.02,
          0.03,
          0.03,
          0.03,
          0.03,
          0.03,
          0.03,
          0.03,
          0.02,
          0.02,
          0.02,
          0.02,
          0.02,
          0.02,
          0.02,
          0.02,
          0.02,
          0.02,
          0.02,
          0.02,
          0.02,
          0.02,
          0.02,
          0.02,
          0.02,
          0.02,
          0.02,
          0.02,
          0.02,
          0.02,
          0.02,
          0.02,
          0.02,
          0.02,
          0.02,
          0.01,
          0.01,
          0.02,
          0.02,
          0.02,
          0.02,
          0.02,
          0.02,
          0.02,
          0.02,
          0.02,
          0.02,
          0.02,
          0.02,
          0.02,
          0.02,
          0.02,
          0.02,
          0.02,
          0.02,
          0.02,
          0.02,
          0.02,
          0.02,
          0.02,
          0.02,
          0.02,
          0.02,
          0.02,
          0.01,
          0.02,
          0.02,
          0.02,
          0.02,
          0.02,
          0.01,
          0.01,
          0.01,
          0.01,
          0.01,
          0.01,
          0.01,
          0.01,
          0.01,
          0.01,
          0.01,
          0.01,
          0.01,
          0.01,
          0.01,
          0.01,
          0.01,
          0.01,
          0.01,
          0.01,
          0.01,
          0.01,
          0.01,
          0.01,
          0.01,
          0.01,
          0.01,
          0.01,
          0.01,
          0.01,
          0.01,
          0.01,
          0.01,
          0.01,
          0.01,
          0.01,
          0.01,
          0.01,
          0.01,
          0.01,
          0.01,
          0.01,
          0.01,
          0.01,
          0.01,
          0.01,
          0.01,
          0.01,
          0.01,
          0.01,
          0.01
         ]
        },
        {
         "name": "DS",
         "type": "box",
         "y": [
          0.51,
          0.38,
          0.21,
          0.18000000000000002,
          0.12,
          0.08,
          0.03,
          0.03
         ]
        },
        {
         "name": "PSP",
         "type": "box",
         "y": [
          0.24,
          0.22,
          0.2,
          0.19,
          0.18,
          0.17,
          0.16,
          0.15,
          0.13,
          0.12,
          0.12,
          0.11,
          0.1,
          0.09,
          0.09,
          0.08,
          0.08,
          0.06,
          0.05,
          0.05,
          0.05,
          0.04,
          0.04,
          0.03,
          0.03,
          0.03,
          0.03,
          0.03,
          0.03,
          0.03,
          0.02,
          0.02,
          0.02,
          0.02,
          0.02,
          0.02,
          0.02,
          0.02,
          0.02,
          0.02,
          0.02,
          0.02,
          0.02,
          0.02,
          0.02,
          0.02,
          0.02,
          0.02,
          0.02,
          0.02,
          0.01,
          0.01,
          0.01,
          0.01,
          0.01,
          0.01,
          0.01,
          0.01,
          0.01,
          0.01,
          0.01,
          0.01,
          0.01,
          0.01,
          0.01,
          0.01,
          0.01
         ]
        }
       ],
       "layout": {
        "template": {
         "data": {
          "bar": [
           {
            "error_x": {
             "color": "#2a3f5f"
            },
            "error_y": {
             "color": "#2a3f5f"
            },
            "marker": {
             "line": {
              "color": "#E5ECF6",
              "width": 0.5
             },
             "pattern": {
              "fillmode": "overlay",
              "size": 10,
              "solidity": 0.2
             }
            },
            "type": "bar"
           }
          ],
          "barpolar": [
           {
            "marker": {
             "line": {
              "color": "#E5ECF6",
              "width": 0.5
             },
             "pattern": {
              "fillmode": "overlay",
              "size": 10,
              "solidity": 0.2
             }
            },
            "type": "barpolar"
           }
          ],
          "carpet": [
           {
            "aaxis": {
             "endlinecolor": "#2a3f5f",
             "gridcolor": "white",
             "linecolor": "white",
             "minorgridcolor": "white",
             "startlinecolor": "#2a3f5f"
            },
            "baxis": {
             "endlinecolor": "#2a3f5f",
             "gridcolor": "white",
             "linecolor": "white",
             "minorgridcolor": "white",
             "startlinecolor": "#2a3f5f"
            },
            "type": "carpet"
           }
          ],
          "choropleth": [
           {
            "colorbar": {
             "outlinewidth": 0,
             "ticks": ""
            },
            "type": "choropleth"
           }
          ],
          "contour": [
           {
            "colorbar": {
             "outlinewidth": 0,
             "ticks": ""
            },
            "colorscale": [
             [
              0,
              "#0d0887"
             ],
             [
              0.1111111111111111,
              "#46039f"
             ],
             [
              0.2222222222222222,
              "#7201a8"
             ],
             [
              0.3333333333333333,
              "#9c179e"
             ],
             [
              0.4444444444444444,
              "#bd3786"
             ],
             [
              0.5555555555555556,
              "#d8576b"
             ],
             [
              0.6666666666666666,
              "#ed7953"
             ],
             [
              0.7777777777777778,
              "#fb9f3a"
             ],
             [
              0.8888888888888888,
              "#fdca26"
             ],
             [
              1,
              "#f0f921"
             ]
            ],
            "type": "contour"
           }
          ],
          "contourcarpet": [
           {
            "colorbar": {
             "outlinewidth": 0,
             "ticks": ""
            },
            "type": "contourcarpet"
           }
          ],
          "heatmap": [
           {
            "colorbar": {
             "outlinewidth": 0,
             "ticks": ""
            },
            "colorscale": [
             [
              0,
              "#0d0887"
             ],
             [
              0.1111111111111111,
              "#46039f"
             ],
             [
              0.2222222222222222,
              "#7201a8"
             ],
             [
              0.3333333333333333,
              "#9c179e"
             ],
             [
              0.4444444444444444,
              "#bd3786"
             ],
             [
              0.5555555555555556,
              "#d8576b"
             ],
             [
              0.6666666666666666,
              "#ed7953"
             ],
             [
              0.7777777777777778,
              "#fb9f3a"
             ],
             [
              0.8888888888888888,
              "#fdca26"
             ],
             [
              1,
              "#f0f921"
             ]
            ],
            "type": "heatmap"
           }
          ],
          "heatmapgl": [
           {
            "colorbar": {
             "outlinewidth": 0,
             "ticks": ""
            },
            "colorscale": [
             [
              0,
              "#0d0887"
             ],
             [
              0.1111111111111111,
              "#46039f"
             ],
             [
              0.2222222222222222,
              "#7201a8"
             ],
             [
              0.3333333333333333,
              "#9c179e"
             ],
             [
              0.4444444444444444,
              "#bd3786"
             ],
             [
              0.5555555555555556,
              "#d8576b"
             ],
             [
              0.6666666666666666,
              "#ed7953"
             ],
             [
              0.7777777777777778,
              "#fb9f3a"
             ],
             [
              0.8888888888888888,
              "#fdca26"
             ],
             [
              1,
              "#f0f921"
             ]
            ],
            "type": "heatmapgl"
           }
          ],
          "histogram": [
           {
            "marker": {
             "pattern": {
              "fillmode": "overlay",
              "size": 10,
              "solidity": 0.2
             }
            },
            "type": "histogram"
           }
          ],
          "histogram2d": [
           {
            "colorbar": {
             "outlinewidth": 0,
             "ticks": ""
            },
            "colorscale": [
             [
              0,
              "#0d0887"
             ],
             [
              0.1111111111111111,
              "#46039f"
             ],
             [
              0.2222222222222222,
              "#7201a8"
             ],
             [
              0.3333333333333333,
              "#9c179e"
             ],
             [
              0.4444444444444444,
              "#bd3786"
             ],
             [
              0.5555555555555556,
              "#d8576b"
             ],
             [
              0.6666666666666666,
              "#ed7953"
             ],
             [
              0.7777777777777778,
              "#fb9f3a"
             ],
             [
              0.8888888888888888,
              "#fdca26"
             ],
             [
              1,
              "#f0f921"
             ]
            ],
            "type": "histogram2d"
           }
          ],
          "histogram2dcontour": [
           {
            "colorbar": {
             "outlinewidth": 0,
             "ticks": ""
            },
            "colorscale": [
             [
              0,
              "#0d0887"
             ],
             [
              0.1111111111111111,
              "#46039f"
             ],
             [
              0.2222222222222222,
              "#7201a8"
             ],
             [
              0.3333333333333333,
              "#9c179e"
             ],
             [
              0.4444444444444444,
              "#bd3786"
             ],
             [
              0.5555555555555556,
              "#d8576b"
             ],
             [
              0.6666666666666666,
              "#ed7953"
             ],
             [
              0.7777777777777778,
              "#fb9f3a"
             ],
             [
              0.8888888888888888,
              "#fdca26"
             ],
             [
              1,
              "#f0f921"
             ]
            ],
            "type": "histogram2dcontour"
           }
          ],
          "mesh3d": [
           {
            "colorbar": {
             "outlinewidth": 0,
             "ticks": ""
            },
            "type": "mesh3d"
           }
          ],
          "parcoords": [
           {
            "line": {
             "colorbar": {
              "outlinewidth": 0,
              "ticks": ""
             }
            },
            "type": "parcoords"
           }
          ],
          "pie": [
           {
            "automargin": true,
            "type": "pie"
           }
          ],
          "scatter": [
           {
            "marker": {
             "colorbar": {
              "outlinewidth": 0,
              "ticks": ""
             }
            },
            "type": "scatter"
           }
          ],
          "scatter3d": [
           {
            "line": {
             "colorbar": {
              "outlinewidth": 0,
              "ticks": ""
             }
            },
            "marker": {
             "colorbar": {
              "outlinewidth": 0,
              "ticks": ""
             }
            },
            "type": "scatter3d"
           }
          ],
          "scattercarpet": [
           {
            "marker": {
             "colorbar": {
              "outlinewidth": 0,
              "ticks": ""
             }
            },
            "type": "scattercarpet"
           }
          ],
          "scattergeo": [
           {
            "marker": {
             "colorbar": {
              "outlinewidth": 0,
              "ticks": ""
             }
            },
            "type": "scattergeo"
           }
          ],
          "scattergl": [
           {
            "marker": {
             "colorbar": {
              "outlinewidth": 0,
              "ticks": ""
             }
            },
            "type": "scattergl"
           }
          ],
          "scattermapbox": [
           {
            "marker": {
             "colorbar": {
              "outlinewidth": 0,
              "ticks": ""
             }
            },
            "type": "scattermapbox"
           }
          ],
          "scatterpolar": [
           {
            "marker": {
             "colorbar": {
              "outlinewidth": 0,
              "ticks": ""
             }
            },
            "type": "scatterpolar"
           }
          ],
          "scatterpolargl": [
           {
            "marker": {
             "colorbar": {
              "outlinewidth": 0,
              "ticks": ""
             }
            },
            "type": "scatterpolargl"
           }
          ],
          "scatterternary": [
           {
            "marker": {
             "colorbar": {
              "outlinewidth": 0,
              "ticks": ""
             }
            },
            "type": "scatterternary"
           }
          ],
          "surface": [
           {
            "colorbar": {
             "outlinewidth": 0,
             "ticks": ""
            },
            "colorscale": [
             [
              0,
              "#0d0887"
             ],
             [
              0.1111111111111111,
              "#46039f"
             ],
             [
              0.2222222222222222,
              "#7201a8"
             ],
             [
              0.3333333333333333,
              "#9c179e"
             ],
             [
              0.4444444444444444,
              "#bd3786"
             ],
             [
              0.5555555555555556,
              "#d8576b"
             ],
             [
              0.6666666666666666,
              "#ed7953"
             ],
             [
              0.7777777777777778,
              "#fb9f3a"
             ],
             [
              0.8888888888888888,
              "#fdca26"
             ],
             [
              1,
              "#f0f921"
             ]
            ],
            "type": "surface"
           }
          ],
          "table": [
           {
            "cells": {
             "fill": {
              "color": "#EBF0F8"
             },
             "line": {
              "color": "white"
             }
            },
            "header": {
             "fill": {
              "color": "#C8D4E3"
             },
             "line": {
              "color": "white"
             }
            },
            "type": "table"
           }
          ]
         },
         "layout": {
          "annotationdefaults": {
           "arrowcolor": "#2a3f5f",
           "arrowhead": 0,
           "arrowwidth": 1
          },
          "autotypenumbers": "strict",
          "coloraxis": {
           "colorbar": {
            "outlinewidth": 0,
            "ticks": ""
           }
          },
          "colorscale": {
           "diverging": [
            [
             0,
             "#8e0152"
            ],
            [
             0.1,
             "#c51b7d"
            ],
            [
             0.2,
             "#de77ae"
            ],
            [
             0.3,
             "#f1b6da"
            ],
            [
             0.4,
             "#fde0ef"
            ],
            [
             0.5,
             "#f7f7f7"
            ],
            [
             0.6,
             "#e6f5d0"
            ],
            [
             0.7,
             "#b8e186"
            ],
            [
             0.8,
             "#7fbc41"
            ],
            [
             0.9,
             "#4d9221"
            ],
            [
             1,
             "#276419"
            ]
           ],
           "sequential": [
            [
             0,
             "#0d0887"
            ],
            [
             0.1111111111111111,
             "#46039f"
            ],
            [
             0.2222222222222222,
             "#7201a8"
            ],
            [
             0.3333333333333333,
             "#9c179e"
            ],
            [
             0.4444444444444444,
             "#bd3786"
            ],
            [
             0.5555555555555556,
             "#d8576b"
            ],
            [
             0.6666666666666666,
             "#ed7953"
            ],
            [
             0.7777777777777778,
             "#fb9f3a"
            ],
            [
             0.8888888888888888,
             "#fdca26"
            ],
            [
             1,
             "#f0f921"
            ]
           ],
           "sequentialminus": [
            [
             0,
             "#0d0887"
            ],
            [
             0.1111111111111111,
             "#46039f"
            ],
            [
             0.2222222222222222,
             "#7201a8"
            ],
            [
             0.3333333333333333,
             "#9c179e"
            ],
            [
             0.4444444444444444,
             "#bd3786"
            ],
            [
             0.5555555555555556,
             "#d8576b"
            ],
            [
             0.6666666666666666,
             "#ed7953"
            ],
            [
             0.7777777777777778,
             "#fb9f3a"
            ],
            [
             0.8888888888888888,
             "#fdca26"
            ],
            [
             1,
             "#f0f921"
            ]
           ]
          },
          "colorway": [
           "#636efa",
           "#EF553B",
           "#00cc96",
           "#ab63fa",
           "#FFA15A",
           "#19d3f3",
           "#FF6692",
           "#B6E880",
           "#FF97FF",
           "#FECB52"
          ],
          "font": {
           "color": "#2a3f5f"
          },
          "geo": {
           "bgcolor": "white",
           "lakecolor": "white",
           "landcolor": "#E5ECF6",
           "showlakes": true,
           "showland": true,
           "subunitcolor": "white"
          },
          "hoverlabel": {
           "align": "left"
          },
          "hovermode": "closest",
          "mapbox": {
           "style": "light"
          },
          "paper_bgcolor": "white",
          "plot_bgcolor": "#E5ECF6",
          "polar": {
           "angularaxis": {
            "gridcolor": "white",
            "linecolor": "white",
            "ticks": ""
           },
           "bgcolor": "#E5ECF6",
           "radialaxis": {
            "gridcolor": "white",
            "linecolor": "white",
            "ticks": ""
           }
          },
          "scene": {
           "xaxis": {
            "backgroundcolor": "#E5ECF6",
            "gridcolor": "white",
            "gridwidth": 2,
            "linecolor": "white",
            "showbackground": true,
            "ticks": "",
            "zerolinecolor": "white"
           },
           "yaxis": {
            "backgroundcolor": "#E5ECF6",
            "gridcolor": "white",
            "gridwidth": 2,
            "linecolor": "white",
            "showbackground": true,
            "ticks": "",
            "zerolinecolor": "white"
           },
           "zaxis": {
            "backgroundcolor": "#E5ECF6",
            "gridcolor": "white",
            "gridwidth": 2,
            "linecolor": "white",
            "showbackground": true,
            "ticks": "",
            "zerolinecolor": "white"
           }
          },
          "shapedefaults": {
           "line": {
            "color": "#2a3f5f"
           }
          },
          "ternary": {
           "aaxis": {
            "gridcolor": "white",
            "linecolor": "white",
            "ticks": ""
           },
           "baxis": {
            "gridcolor": "white",
            "linecolor": "white",
            "ticks": ""
           },
           "bgcolor": "#E5ECF6",
           "caxis": {
            "gridcolor": "white",
            "linecolor": "white",
            "ticks": ""
           }
          },
          "title": {
           "x": 0.05
          },
          "xaxis": {
           "automargin": true,
           "gridcolor": "white",
           "linecolor": "white",
           "ticks": "",
           "title": {
            "standoff": 15
           },
           "zerolinecolor": "white",
           "zerolinewidth": 2
          },
          "yaxis": {
           "automargin": true,
           "gridcolor": "white",
           "linecolor": "white",
           "ticks": "",
           "title": {
            "standoff": 15
           },
           "zerolinecolor": "white",
           "zerolinewidth": 2
          }
         }
        },
        "title": {
         "text": "Продажи игр по платформам"
        },
        "yaxis": {
         "range": [
          0,
          1
         ]
        }
       }
      },
      "text/html": [
       "<div>                            <div id=\"267c8b24-c4fe-41b7-9564-936c00312fd5\" class=\"plotly-graph-div\" style=\"height:525px; width:100%;\"></div>            <script type=\"text/javascript\">                require([\"plotly\"], function(Plotly) {                    window.PLOTLYENV=window.PLOTLYENV || {};                                    if (document.getElementById(\"267c8b24-c4fe-41b7-9564-936c00312fd5\")) {                    Plotly.newPlot(                        \"267c8b24-c4fe-41b7-9564-936c00312fd5\",                        [{\"name\":\"PS3\",\"y\":[21.05,9.36,6.460000000000001,5.86,5.2700000000000005,4.36,4.28,3.7099999999999995,3.4899999999999998,3.2299999999999995,2.6999999999999997,2.42,2.29,2.25,2.11,1.91,1.87,1.83,1.74,1.7400000000000002,1.6900000000000002,1.69,1.6400000000000001,1.6100000000000003,1.4600000000000002,1.42,1.34,1.29,1.28,1.2799999999999998,1.27,1.26,1.25,1.23,1.19,1.14,1.08,1.07,1.02,0.9800000000000001,0.9700000000000001,0.9600000000000001,0.9500000000000001,0.95,0.9400000000000001,0.9400000000000001,0.93,0.93,0.87,0.85,0.8500000000000001,0.84,0.7899999999999999,0.7799999999999999,0.7699999999999999,0.74,0.7300000000000001,0.74,0.7300000000000001,0.7300000000000001,0.6900000000000001,0.67,0.66,0.66,0.65,0.6399999999999999,0.64,0.61,0.62,0.6,0.61,0.6100000000000001,0.59,0.5800000000000001,0.5800000000000001,0.5800000000000001,0.5800000000000001,0.56,0.56,0.5599999999999999,0.5499999999999999,0.54,0.5499999999999999,0.54,0.53,0.51,0.51,0.49,0.49000000000000005,0.46,0.44,0.45,0.44,0.44,0.43,0.44,0.42,0.41000000000000003,0.41,0.41000000000000003,0.41,0.39999999999999997,0.39,0.38,0.37000000000000005,0.38000000000000006,0.37,0.37000000000000005,0.36000000000000004,0.37,0.36,0.34,0.34,0.35000000000000003,0.33,0.33,0.33,0.31000000000000005,0.32000000000000006,0.3,0.31000000000000005,0.29000000000000004,0.29000000000000004,0.29000000000000004,0.28,0.29,0.28,0.26999999999999996,0.27,0.26,0.26,0.26,0.26,0.26,0.26,0.25,0.26,0.25,0.25,0.25,0.25,0.24000000000000002,0.24000000000000002,0.23,0.23,0.23,0.21,0.21,0.2,0.19999999999999998,0.21,0.2,0.2,0.19999999999999998,0.2,0.19,0.19,0.18,0.19,0.18999999999999997,0.19,0.18,0.18000000000000002,0.17,0.15000000000000002,0.17,0.16,0.16,0.16,0.16,0.15,0.15,0.16,0.14,0.13,0.14,0.14,0.14,0.14,0.13,0.13,0.13,0.13,0.12999999999999998,0.13,0.12000000000000001,0.12,0.12,0.12,0.12,0.12,0.12,0.11000000000000001,0.12,0.12000000000000001,0.11,0.11,0.11,0.12000000000000001,0.11,0.11,0.11000000000000001,0.1,0.11,0.1,0.11,0.1,0.1,0.09,0.09,0.1,0.1,0.1,0.09000000000000001,0.09,0.08,0.09,0.08,0.09,0.08,0.08,0.06999999999999999,0.08,0.08,0.07,0.08,0.07,0.06999999999999999,0.08,0.08,0.06999999999999999,0.06,0.06,0.06,0.06999999999999999,0.06,0.06,0.06,0.060000000000000005,0.06999999999999999,0.06,0.060000000000000005,0.060000000000000005,0.060000000000000005,0.060000000000000005,0.05,0.05,0.05,0.05,0.05,0.060000000000000005,0.05,0.05,0.05,0.04,0.05,0.05,0.05,0.04,0.04,0.04,0.04,0.04,0.04,0.04,0.04,0.04,0.04,0.04,0.04,0.04,0.05,0.04,0.04,0.04,0.04,0.03,0.03,0.03,0.03,0.03,0.03,0.04,0.03,0.03,0.03,0.03,0.03,0.03,0.02,0.03,0.03,0.03,0.03,0.03,0.02,0.03,0.03,0.02,0.02,0.02,0.02,0.02,0.02,0.02,0.02,0.02,0.02,0.02,0.02,0.02,0.02,0.02,0.02,0.02,0.02,0.02,0.02,0.02,0.02,0.02,0.02,0.02,0.02,0.02,0.02,0.02,0.01,0.01,0.02,0.02,0.01,0.01,0.01,0.01,0.01,0.01,0.01,0.01,0.01,0.01,0.01,0.01,0.01,0.01],\"type\":\"box\"},{\"name\":\"X360\",\"y\":[16.27,10.24,9.18,4.28,4.22,3.49,3.3099999999999996,2.92,2.52,2.23,2.22,2.0500000000000003,1.94,1.92,1.88,1.88,1.7,1.65,1.6300000000000001,1.5699999999999998,1.5699999999999998,1.44,1.4100000000000001,1.3800000000000001,1.3599999999999999,1.3199999999999998,1.27,1.25,1.11,1.09,1.08,1.07,1.01,0.99,0.98,0.9799999999999999,0.97,0.9400000000000001,0.94,0.9299999999999999,0.91,0.9,0.89,0.89,0.89,0.87,0.8,0.78,0.78,0.77,0.74,0.73,0.6799999999999999,0.6400000000000001,0.6200000000000001,0.6100000000000001,0.5700000000000001,0.5700000000000001,0.54,0.53,0.53,0.51,0.48000000000000004,0.48,0.48,0.46,0.45,0.44999999999999996,0.45,0.43,0.43,0.43,0.43,0.43000000000000005,0.42,0.39,0.38999999999999996,0.38,0.38,0.36,0.36,0.35,0.35,0.31000000000000005,0.31999999999999995,0.31999999999999995,0.31000000000000005,0.30000000000000004,0.29000000000000004,0.27,0.27,0.28,0.27,0.26,0.26,0.25,0.23,0.24,0.23,0.23,0.23,0.22,0.22,0.22,0.22,0.19999999999999998,0.19999999999999998,0.18,0.18,0.18,0.17,0.16000000000000003,0.16999999999999998,0.16999999999999998,0.16,0.15000000000000002,0.15000000000000002,0.14,0.14,0.13,0.12,0.12,0.12,0.12,0.12,0.10999999999999999,0.09999999999999999,0.09999999999999999,0.09999999999999999,0.09999999999999999,0.09999999999999999,0.09,0.09999999999999999,0.09,0.09,0.08,0.08,0.07999999999999999,0.07999999999999999,0.08,0.08,0.09,0.09,0.08,0.06999999999999999,0.06999999999999999,0.07999999999999999,0.060000000000000005,0.07,0.06,0.06999999999999999,0.060000000000000005,0.07,0.05,0.05,0.060000000000000005,0.05,0.05,0.04,0.04,0.04,0.04,0.04,0.03,0.04,0.03,0.03,0.03,0.02,0.03,0.03,0.02,0.02,0.02,0.02,0.02,0.02,0.02,0.01,0.01,0.01,0.01,0.01,0.01,0.01,0.01],\"type\":\"box\"},{\"name\":\"PS4\",\"y\":[14.629999999999999,12.620000000000001,8.58,7.98,7.66,7.6000000000000005,7.17,6.08,5.640000000000001,5.39,4.72,4.62,4.470000000000001,4.32,4.07,4.05,4.04,3.9699999999999998,3.96,3.96,3.87,3.8299999999999996,3.8,3.58,3.4200000000000004,3.3899999999999997,3.2399999999999998,3.01,2.96,2.86,2.7899999999999996,2.78,2.6900000000000004,2.48,2.4499999999999997,2.42,2.2600000000000002,2.21,2.19,2.14,2.11,2.09,2.07,2.01,1.98,1.9200000000000002,1.9100000000000001,1.8800000000000001,1.85,1.83,1.81,1.7900000000000003,1.74,1.75,1.7200000000000002,1.73,1.7200000000000002,1.6900000000000002,1.6600000000000001,1.6600000000000001,1.62,1.54,1.54,1.49,1.44,1.4000000000000001,1.3199999999999998,1.2699999999999998,1.21,1.17,1.15,1.14,1.13,1.1199999999999999,1.1,1.0799999999999998,1.05,1.02,0.98,0.9700000000000001,0.9400000000000001,0.93,0.92,0.93,0.92,0.9,0.9,0.91,0.89,0.88,0.86,0.8200000000000001,0.78,0.7600000000000001,0.75,0.75,0.7300000000000001,0.73,0.73,0.73,0.72,0.73,0.7,0.71,0.6900000000000001,0.6900000000000001,0.67,0.67,0.66,0.64,0.64,0.63,0.63,0.62,0.61,0.61,0.6,0.6,0.6,0.54,0.56,0.51,0.52,0.49000000000000005,0.47000000000000003,0.46,0.45,0.44,0.43,0.43,0.43,0.42,0.42,0.4,0.4,0.38999999999999996,0.39999999999999997,0.4,0.39999999999999997,0.38,0.37999999999999995,0.39,0.38,0.38,0.37,0.37,0.37000000000000005,0.36000000000000004,0.36,0.36000000000000004,0.36000000000000004,0.35000000000000003,0.36,0.34,0.34,0.33999999999999997,0.34,0.33,0.33999999999999997,0.32,0.32,0.3,0.3,0.31,0.3,0.3,0.3,0.29,0.28,0.27999999999999997,0.29000000000000004,0.29000000000000004,0.27,0.27,0.26,0.26,0.26,0.26,0.24000000000000002,0.25,0.25,0.24000000000000002,0.24000000000000002,0.24000000000000002,0.24000000000000002,0.23,0.23,0.23,0.23,0.22,0.21000000000000002,0.21000000000000002,0.19999999999999998,0.2,0.2,0.19999999999999998,0.2,0.2,0.19999999999999998,0.19,0.19,0.19999999999999998,0.19,0.18,0.18,0.18,0.18000000000000002,0.17,0.17,0.16999999999999998,0.16,0.17,0.16999999999999998,0.16,0.16,0.16,0.15,0.15,0.13999999999999999,0.15,0.14,0.13999999999999999,0.13999999999999999,0.13999999999999999,0.13,0.13,0.12000000000000001,0.13,0.12,0.12,0.12000000000000001,0.11,0.11,0.12,0.12000000000000001,0.12000000000000001,0.12000000000000001,0.11,0.09999999999999999,0.11,0.1,0.09,0.1,0.09,0.1,0.1,0.1,0.09999999999999999,0.09,0.09,0.1,0.09000000000000001,0.08,0.09,0.09,0.09,0.09,0.08,0.08,0.08,0.08,0.08,0.08,0.08,0.06999999999999999,0.09,0.09000000000000001,0.08,0.06999999999999999,0.06999999999999999,0.08,0.07,0.08,0.08,0.08,0.06999999999999999,0.07,0.06999999999999999,0.07,0.060000000000000005,0.06999999999999999,0.07,0.06999999999999999,0.060000000000000005,0.060000000000000005,0.060000000000000005,0.060000000000000005,0.06999999999999999,0.06,0.06,0.06,0.060000000000000005,0.060000000000000005,0.060000000000000005,0.060000000000000005,0.06,0.060000000000000005,0.05,0.05,0.05,0.05,0.060000000000000005,0.05,0.05,0.05,0.05,0.05,0.05,0.04,0.05,0.05,0.05,0.05,0.05,0.05,0.05,0.05,0.04,0.03,0.05,0.04,0.04,0.04,0.04,0.04,0.04,0.04,0.04,0.03,0.03,0.03,0.04,0.03,0.03,0.03,0.04,0.03,0.03,0.03,0.03,0.03,0.02,0.02,0.02,0.03,0.03,0.02,0.02,0.02,0.02,0.02,0.02,0.02,0.02,0.02,0.02,0.02,0.02,0.02,0.02,0.02,0.02,0.02,0.02,0.02,0.02,0.01,0.01,0.01,0.02,0.02,0.01,0.01,0.01,0.02,0.02,0.02,0.01,0.02,0.01,0.01,0.01,0.01,0.01,0.01,0.01,0.01,0.01,0.01,0.01,0.01,0.01],\"type\":\"box\"},{\"name\":\"3DS\",\"y\":[14.6,11.68,7.550000000000001,7.14,5.220000000000001,4.59,3.89,3.44,3.32,3.28,3.1,3.05,2.68,2.34,2.29,2.08,2.07,1.9200000000000002,1.9,1.83,1.6700000000000002,1.51,1.4700000000000002,1.46,1.3800000000000001,1.33,1.25,1.11,0.93,0.93,0.8900000000000001,0.87,0.86,0.79,0.75,0.76,0.7500000000000001,0.75,0.7200000000000001,0.6900000000000002,0.63,0.6200000000000001,0.5900000000000001,0.5800000000000001,0.5700000000000001,0.56,0.53,0.53,0.48,0.49,0.48,0.48000000000000004,0.4800000000000001,0.4600000000000001,0.45,0.44000000000000006,0.42999999999999994,0.42000000000000004,0.42,0.38,0.38,0.38,0.36,0.35,0.33,0.32999999999999996,0.33,0.32000000000000006,0.32,0.31,0.31000000000000005,0.31000000000000005,0.29000000000000004,0.29000000000000004,0.29,0.28,0.28,0.27,0.27,0.26,0.26,0.26,0.26,0.25,0.25,0.24000000000000002,0.24,0.24999999999999997,0.24,0.23,0.24,0.23,0.22,0.22,0.21000000000000002,0.22,0.21000000000000002,0.21,0.21,0.2,0.2,0.19,0.18000000000000002,0.19,0.19,0.18,0.18,0.17,0.17,0.17,0.17,0.16,0.16000000000000003,0.16,0.15,0.14,0.15000000000000002,0.15,0.15,0.14,0.14,0.15,0.14,0.13,0.13,0.13,0.13,0.13,0.12,0.12,0.13,0.13,0.11,0.12,0.12,0.11,0.11,0.11,0.11,0.11,0.11,0.1,0.1,0.1,0.09999999999999999,0.1,0.1,0.09999999999999999,0.09999999999999999,0.09,0.09,0.09,0.09,0.09,0.09,0.08,0.09,0.08,0.08,0.08,0.08,0.07,0.08,0.08,0.08,0.08,0.08,0.08,0.08,0.08,0.07,0.07,0.07,0.07,0.08,0.07,0.07,0.07,0.07,0.06999999999999999,0.07,0.07,0.07,0.07,0.07,0.07,0.06,0.07,0.07,0.06999999999999999,0.06,0.06999999999999999,0.06,0.06,0.06,0.06,0.06,0.06,0.06,0.06,0.060000000000000005,0.06,0.06,0.06,0.06,0.05,0.060000000000000005,0.05,0.05,0.05,0.04,0.05,0.05,0.05,0.05,0.04,0.04,0.04,0.04,0.04,0.04,0.04,0.04,0.03,0.03,0.04,0.04,0.04,0.03,0.04,0.04,0.03,0.04,0.03,0.04,0.04,0.03,0.03,0.03,0.03,0.03,0.03,0.03,0.03,0.03,0.03,0.03,0.03,0.03,0.03,0.03,0.03,0.03,0.03,0.03,0.02,0.03,0.03,0.03,0.03,0.03,0.03,0.03,0.03,0.02,0.03,0.02,0.02,0.03,0.02,0.02,0.02,0.02,0.02,0.02,0.02,0.02,0.02,0.02,0.02,0.01,0.01,0.01,0.01,0.01,0.01,0.01,0.01,0.01,0.01,0.01,0.01,0.01,0.01,0.01,0.01,0.01,0.01,0.01,0.01,0.01,0.01,0.01],\"type\":\"box\"},{\"name\":\"XOne\",\"y\":[7.389999999999999,5.47,5.26,4.49,4.22,3.66,3.5,3.37,3.28,3.25,3.23,2.95,2.92,2.7600000000000002,2.65,2.4200000000000004,2.42,2.34,2.25,2.24,2.1999999999999997,2.18,2.1700000000000004,2.02,1.7999999999999998,1.73,1.6400000000000001,1.57,1.5700000000000003,1.56,1.4900000000000002,1.4000000000000001,1.3900000000000001,1.38,1.3800000000000001,1.3599999999999999,1.3399999999999999,1.3399999999999999,1.3,1.2900000000000003,1.29,1.2800000000000002,1.23,1.21,1.2000000000000002,1.1600000000000001,1.1300000000000001,1.08,1.06,1.05,1.03,0.93,0.8999999999999999,0.91,0.88,0.8,0.79,0.76,0.75,0.75,0.69,0.6799999999999999,0.7,0.6800000000000002,0.6599999999999999,0.6599999999999999,0.6599999999999999,0.6400000000000001,0.6300000000000001,0.6200000000000001,0.61,0.6000000000000001,0.5900000000000001,0.5700000000000001,0.5700000000000001,0.56,0.56,0.55,0.53,0.53,0.49999999999999994,0.48000000000000004,0.4799999999999999,0.48,0.47,0.45999999999999996,0.45,0.44999999999999996,0.44,0.43,0.44,0.42,0.41,0.41,0.41,0.38999999999999996,0.37,0.36,0.36,0.33999999999999997,0.33999999999999997,0.33999999999999997,0.33999999999999997,0.31999999999999995,0.31999999999999995,0.31000000000000005,0.31000000000000005,0.31000000000000005,0.29000000000000004,0.28,0.27,0.27,0.26,0.26,0.25,0.24999999999999997,0.24,0.24000000000000002,0.24000000000000002,0.24000000000000002,0.24000000000000002,0.23,0.22,0.22,0.22,0.21,0.21,0.21,0.19999999999999998,0.19999999999999998,0.21,0.19999999999999998,0.19999999999999998,0.18,0.18,0.18,0.18,0.16,0.16,0.16000000000000003,0.16999999999999998,0.15000000000000002,0.15000000000000002,0.15000000000000002,0.15000000000000002,0.15000000000000002,0.15000000000000002,0.14,0.14,0.14,0.14,0.14,0.13,0.13,0.13,0.13,0.13,0.12,0.12,0.12000000000000001,0.12,0.11,0.11,0.10999999999999999,0.11,0.11,0.09999999999999999,0.1,0.09999999999999999,0.09999999999999999,0.09,0.08,0.08,0.08,0.08,0.08,0.08,0.07,0.06999999999999999,0.07,0.06999999999999999,0.060000000000000005,0.06,0.05,0.060000000000000005,0.060000000000000005,0.060000000000000005,0.05,0.05,0.05,0.05,0.060000000000000005,0.060000000000000005,0.05,0.04,0.04,0.04,0.04,0.04,0.04,0.04,0.04,0.03,0.03,0.03,0.03,0.03,0.03,0.03,0.02,0.02,0.02,0.02,0.02,0.02,0.02,0.02,0.01,0.02,0.02,0.02,0.02,0.02,0.01,0.01,0.01,0.01,0.01,0.01,0.01,0.01,0.01,0.01,0.01,0.01,0.01,0.01,0.01,0.01,0.01,0.01,0.01,0.01,0.01,0.01,0.01,0.01],\"type\":\"box\"},{\"name\":\"WiiU\",\"y\":[7.09,4.87,4.4399999999999995,4.319999999999999,3.21,2.2300000000000004,1.8000000000000003,1.7500000000000002,1.58,1.5299999999999998,1.3,1.23,1.1900000000000002,1.12,1.1,1.03,1.01,0.84,0.8400000000000001,0.78,0.76,0.74,0.73,0.7,0.6700000000000002,0.6600000000000001,0.6499999999999999,0.6400000000000001,0.6000000000000001,0.5900000000000001,0.5800000000000001,0.5700000000000001,0.53,0.52,0.51,0.48,0.45999999999999996,0.45999999999999996,0.44000000000000006,0.42000000000000004,0.42000000000000004,0.41,0.4,0.39,0.38,0.37,0.35,0.34,0.31000000000000005,0.31000000000000005,0.29000000000000004,0.27,0.27,0.24999999999999997,0.24,0.24,0.22,0.2,0.18999999999999997,0.18999999999999997,0.18000000000000002,0.19,0.18999999999999997,0.15000000000000002,0.13,0.12,0.12000000000000001,0.11,0.11,0.12,0.11,0.11,0.09999999999999999,0.09999999999999999,0.09999999999999999,0.09,0.09999999999999999,0.09,0.09,0.08,0.09,0.07999999999999999,0.06999999999999999,0.06,0.06,0.06999999999999999,0.060000000000000005,0.06999999999999999,0.05,0.04,0.05,0.05,0.05,0.03,0.03,0.03,0.03,0.03,0.03,0.02,0.02,0.02,0.02,0.02,0.02,0.02,0.02,0.02,0.01,0.01,0.01,0.01,0.01,0.01,0.01],\"type\":\"box\"},{\"name\":\"Wii\",\"y\":[3.5799999999999996,2.15,2.01,1.6,0.95,0.95,0.56,0.38,0.26,0.23,0.18000000000000002,0.18,0.15,0.14,0.09999999999999999,0.060000000000000005,0.05,0.04,0.03,0.03,0.01,0.01,0.01],\"type\":\"box\"},{\"name\":\"PC\",\"y\":[3.0500000000000003,1.67,1.42,1.36,1.2800000000000002,1.1900000000000002,1.1700000000000002,0.9000000000000001,0.73,0.72,0.7200000000000001,0.6900000000000001,0.6599999999999999,0.6599999999999999,0.65,0.65,0.63,0.63,0.6300000000000001,0.56,0.55,0.55,0.53,0.52,0.47,0.47,0.44999999999999996,0.44000000000000006,0.41,0.41000000000000003,0.4,0.38,0.36,0.35,0.35000000000000003,0.35,0.32000000000000006,0.31000000000000005,0.28,0.29000000000000004,0.28,0.26,0.26,0.25,0.24,0.24,0.22999999999999998,0.23,0.22,0.22,0.22,0.2,0.2,0.19999999999999998,0.19999999999999998,0.18000000000000002,0.18999999999999997,0.19999999999999998,0.18000000000000002,0.18999999999999997,0.18,0.17,0.17,0.16,0.16,0.16000000000000003,0.15000000000000002,0.15000000000000002,0.14,0.14,0.13,0.13,0.13,0.13,0.12,0.12000000000000001,0.12,0.12,0.11,0.09999999999999999,0.11,0.11,0.09999999999999999,0.09999999999999999,0.09999999999999999,0.09,0.09999999999999999,0.08,0.08,0.08,0.09,0.08,0.08,0.08,0.08,0.07,0.07,0.06,0.06999999999999999,0.060000000000000005,0.06,0.06,0.06,0.05,0.05,0.05,0.05,0.05,0.05,0.05,0.05,0.05,0.05,0.05,0.04,0.05,0.05,0.04,0.04,0.04,0.04,0.04,0.04,0.04,0.04,0.04,0.03,0.03,0.03,0.03,0.03,0.03,0.03,0.03,0.03,0.03,0.03,0.03,0.03,0.03,0.03,0.03,0.02,0.03,0.03,0.02,0.02,0.02,0.02,0.02,0.02,0.02,0.02,0.02,0.02,0.02,0.02,0.02,0.02,0.02,0.02,0.02,0.01,0.01,0.01,0.01,0.01,0.01,0.01,0.01,0.01,0.01,0.01,0.01,0.01,0.01,0.01,0.01,0.01,0.01,0.01,0.01,0.01,0.01,0.01,0.01,0.01,0.01,0.01],\"type\":\"box\"},{\"name\":\"PSV\",\"y\":[1.9600000000000002,0.8000000000000002,0.8,0.65,0.64,0.6200000000000001,0.6,0.51,0.51,0.45,0.43000000000000005,0.41000000000000003,0.41000000000000003,0.38,0.36,0.36,0.35000000000000003,0.33,0.33,0.32,0.31,0.3,0.3,0.30000000000000004,0.29000000000000004,0.25,0.23,0.23,0.22000000000000003,0.22999999999999998,0.22,0.22,0.21,0.21,0.21000000000000002,0.2,0.19,0.19,0.19,0.19,0.18000000000000002,0.19,0.18,0.18,0.18,0.16999999999999998,0.17,0.17,0.17,0.16,0.17,0.17,0.16,0.15000000000000002,0.16,0.15,0.15,0.14,0.15,0.15000000000000002,0.14,0.14,0.14,0.13,0.13,0.13,0.12,0.13,0.13,0.12000000000000001,0.13,0.13,0.13,0.12000000000000001,0.12,0.12,0.11,0.12,0.12,0.12000000000000001,0.11,0.12000000000000001,0.11,0.11,0.11,0.11,0.11,0.11,0.11,0.11,0.1,0.11,0.1,0.09999999999999999,0.11,0.1,0.1,0.1,0.1,0.1,0.09999999999999999,0.1,0.09,0.09999999999999999,0.09000000000000001,0.09,0.09,0.09,0.09,0.09,0.09,0.09,0.09,0.09,0.08,0.08,0.08,0.08,0.08,0.08,0.07,0.07,0.07,0.07,0.08,0.07,0.06999999999999999,0.07,0.06999999999999999,0.06999999999999999,0.06999999999999999,0.07,0.07,0.07,0.06999999999999999,0.06,0.06,0.06999999999999999,0.06,0.06,0.06,0.06,0.060000000000000005,0.060000000000000005,0.06999999999999999,0.06,0.06,0.06,0.06,0.06,0.060000000000000005,0.06,0.06,0.06,0.06,0.06,0.05,0.05,0.05,0.05,0.060000000000000005,0.05,0.05,0.05,0.05,0.05,0.05,0.05,0.05,0.05,0.05,0.05,0.05,0.05,0.05,0.05,0.05,0.04,0.04,0.04,0.04,0.04,0.05,0.04,0.04,0.04,0.04,0.04,0.04,0.04,0.04,0.04,0.04,0.03,0.04,0.03,0.03,0.03,0.03,0.04,0.03,0.03,0.03,0.03,0.03,0.03,0.03,0.04,0.03,0.03,0.03,0.03,0.03,0.03,0.03,0.03,0.03,0.03,0.03,0.03,0.03,0.03,0.03,0.03,0.03,0.03,0.03,0.03,0.03,0.03,0.03,0.03,0.03,0.03,0.03,0.03,0.03,0.02,0.03,0.03,0.03,0.03,0.03,0.03,0.03,0.02,0.02,0.02,0.02,0.02,0.02,0.02,0.02,0.02,0.02,0.02,0.02,0.02,0.02,0.02,0.02,0.02,0.02,0.02,0.02,0.02,0.02,0.02,0.02,0.02,0.02,0.02,0.01,0.01,0.02,0.02,0.02,0.02,0.02,0.02,0.02,0.02,0.02,0.02,0.02,0.02,0.02,0.02,0.02,0.02,0.02,0.02,0.02,0.02,0.02,0.02,0.02,0.02,0.02,0.02,0.02,0.01,0.02,0.02,0.02,0.02,0.02,0.01,0.01,0.01,0.01,0.01,0.01,0.01,0.01,0.01,0.01,0.01,0.01,0.01,0.01,0.01,0.01,0.01,0.01,0.01,0.01,0.01,0.01,0.01,0.01,0.01,0.01,0.01,0.01,0.01,0.01,0.01,0.01,0.01,0.01,0.01,0.01,0.01,0.01,0.01,0.01,0.01,0.01,0.01,0.01,0.01,0.01,0.01,0.01,0.01,0.01,0.01],\"type\":\"box\"},{\"name\":\"DS\",\"y\":[0.51,0.38,0.21,0.18000000000000002,0.12,0.08,0.03,0.03],\"type\":\"box\"},{\"name\":\"PSP\",\"y\":[0.24,0.22,0.2,0.19,0.18,0.17,0.16,0.15,0.13,0.12,0.12,0.11,0.1,0.09,0.09,0.08,0.08,0.06,0.05,0.05,0.05,0.04,0.04,0.03,0.03,0.03,0.03,0.03,0.03,0.03,0.02,0.02,0.02,0.02,0.02,0.02,0.02,0.02,0.02,0.02,0.02,0.02,0.02,0.02,0.02,0.02,0.02,0.02,0.02,0.02,0.01,0.01,0.01,0.01,0.01,0.01,0.01,0.01,0.01,0.01,0.01,0.01,0.01,0.01,0.01,0.01,0.01],\"type\":\"box\"}],                        {\"template\":{\"data\":{\"barpolar\":[{\"marker\":{\"line\":{\"color\":\"#E5ECF6\",\"width\":0.5},\"pattern\":{\"fillmode\":\"overlay\",\"size\":10,\"solidity\":0.2}},\"type\":\"barpolar\"}],\"bar\":[{\"error_x\":{\"color\":\"#2a3f5f\"},\"error_y\":{\"color\":\"#2a3f5f\"},\"marker\":{\"line\":{\"color\":\"#E5ECF6\",\"width\":0.5},\"pattern\":{\"fillmode\":\"overlay\",\"size\":10,\"solidity\":0.2}},\"type\":\"bar\"}],\"carpet\":[{\"aaxis\":{\"endlinecolor\":\"#2a3f5f\",\"gridcolor\":\"white\",\"linecolor\":\"white\",\"minorgridcolor\":\"white\",\"startlinecolor\":\"#2a3f5f\"},\"baxis\":{\"endlinecolor\":\"#2a3f5f\",\"gridcolor\":\"white\",\"linecolor\":\"white\",\"minorgridcolor\":\"white\",\"startlinecolor\":\"#2a3f5f\"},\"type\":\"carpet\"}],\"choropleth\":[{\"colorbar\":{\"outlinewidth\":0,\"ticks\":\"\"},\"type\":\"choropleth\"}],\"contourcarpet\":[{\"colorbar\":{\"outlinewidth\":0,\"ticks\":\"\"},\"type\":\"contourcarpet\"}],\"contour\":[{\"colorbar\":{\"outlinewidth\":0,\"ticks\":\"\"},\"colorscale\":[[0.0,\"#0d0887\"],[0.1111111111111111,\"#46039f\"],[0.2222222222222222,\"#7201a8\"],[0.3333333333333333,\"#9c179e\"],[0.4444444444444444,\"#bd3786\"],[0.5555555555555556,\"#d8576b\"],[0.6666666666666666,\"#ed7953\"],[0.7777777777777778,\"#fb9f3a\"],[0.8888888888888888,\"#fdca26\"],[1.0,\"#f0f921\"]],\"type\":\"contour\"}],\"heatmapgl\":[{\"colorbar\":{\"outlinewidth\":0,\"ticks\":\"\"},\"colorscale\":[[0.0,\"#0d0887\"],[0.1111111111111111,\"#46039f\"],[0.2222222222222222,\"#7201a8\"],[0.3333333333333333,\"#9c179e\"],[0.4444444444444444,\"#bd3786\"],[0.5555555555555556,\"#d8576b\"],[0.6666666666666666,\"#ed7953\"],[0.7777777777777778,\"#fb9f3a\"],[0.8888888888888888,\"#fdca26\"],[1.0,\"#f0f921\"]],\"type\":\"heatmapgl\"}],\"heatmap\":[{\"colorbar\":{\"outlinewidth\":0,\"ticks\":\"\"},\"colorscale\":[[0.0,\"#0d0887\"],[0.1111111111111111,\"#46039f\"],[0.2222222222222222,\"#7201a8\"],[0.3333333333333333,\"#9c179e\"],[0.4444444444444444,\"#bd3786\"],[0.5555555555555556,\"#d8576b\"],[0.6666666666666666,\"#ed7953\"],[0.7777777777777778,\"#fb9f3a\"],[0.8888888888888888,\"#fdca26\"],[1.0,\"#f0f921\"]],\"type\":\"heatmap\"}],\"histogram2dcontour\":[{\"colorbar\":{\"outlinewidth\":0,\"ticks\":\"\"},\"colorscale\":[[0.0,\"#0d0887\"],[0.1111111111111111,\"#46039f\"],[0.2222222222222222,\"#7201a8\"],[0.3333333333333333,\"#9c179e\"],[0.4444444444444444,\"#bd3786\"],[0.5555555555555556,\"#d8576b\"],[0.6666666666666666,\"#ed7953\"],[0.7777777777777778,\"#fb9f3a\"],[0.8888888888888888,\"#fdca26\"],[1.0,\"#f0f921\"]],\"type\":\"histogram2dcontour\"}],\"histogram2d\":[{\"colorbar\":{\"outlinewidth\":0,\"ticks\":\"\"},\"colorscale\":[[0.0,\"#0d0887\"],[0.1111111111111111,\"#46039f\"],[0.2222222222222222,\"#7201a8\"],[0.3333333333333333,\"#9c179e\"],[0.4444444444444444,\"#bd3786\"],[0.5555555555555556,\"#d8576b\"],[0.6666666666666666,\"#ed7953\"],[0.7777777777777778,\"#fb9f3a\"],[0.8888888888888888,\"#fdca26\"],[1.0,\"#f0f921\"]],\"type\":\"histogram2d\"}],\"histogram\":[{\"marker\":{\"pattern\":{\"fillmode\":\"overlay\",\"size\":10,\"solidity\":0.2}},\"type\":\"histogram\"}],\"mesh3d\":[{\"colorbar\":{\"outlinewidth\":0,\"ticks\":\"\"},\"type\":\"mesh3d\"}],\"parcoords\":[{\"line\":{\"colorbar\":{\"outlinewidth\":0,\"ticks\":\"\"}},\"type\":\"parcoords\"}],\"pie\":[{\"automargin\":true,\"type\":\"pie\"}],\"scatter3d\":[{\"line\":{\"colorbar\":{\"outlinewidth\":0,\"ticks\":\"\"}},\"marker\":{\"colorbar\":{\"outlinewidth\":0,\"ticks\":\"\"}},\"type\":\"scatter3d\"}],\"scattercarpet\":[{\"marker\":{\"colorbar\":{\"outlinewidth\":0,\"ticks\":\"\"}},\"type\":\"scattercarpet\"}],\"scattergeo\":[{\"marker\":{\"colorbar\":{\"outlinewidth\":0,\"ticks\":\"\"}},\"type\":\"scattergeo\"}],\"scattergl\":[{\"marker\":{\"colorbar\":{\"outlinewidth\":0,\"ticks\":\"\"}},\"type\":\"scattergl\"}],\"scattermapbox\":[{\"marker\":{\"colorbar\":{\"outlinewidth\":0,\"ticks\":\"\"}},\"type\":\"scattermapbox\"}],\"scatterpolargl\":[{\"marker\":{\"colorbar\":{\"outlinewidth\":0,\"ticks\":\"\"}},\"type\":\"scatterpolargl\"}],\"scatterpolar\":[{\"marker\":{\"colorbar\":{\"outlinewidth\":0,\"ticks\":\"\"}},\"type\":\"scatterpolar\"}],\"scatter\":[{\"marker\":{\"colorbar\":{\"outlinewidth\":0,\"ticks\":\"\"}},\"type\":\"scatter\"}],\"scatterternary\":[{\"marker\":{\"colorbar\":{\"outlinewidth\":0,\"ticks\":\"\"}},\"type\":\"scatterternary\"}],\"surface\":[{\"colorbar\":{\"outlinewidth\":0,\"ticks\":\"\"},\"colorscale\":[[0.0,\"#0d0887\"],[0.1111111111111111,\"#46039f\"],[0.2222222222222222,\"#7201a8\"],[0.3333333333333333,\"#9c179e\"],[0.4444444444444444,\"#bd3786\"],[0.5555555555555556,\"#d8576b\"],[0.6666666666666666,\"#ed7953\"],[0.7777777777777778,\"#fb9f3a\"],[0.8888888888888888,\"#fdca26\"],[1.0,\"#f0f921\"]],\"type\":\"surface\"}],\"table\":[{\"cells\":{\"fill\":{\"color\":\"#EBF0F8\"},\"line\":{\"color\":\"white\"}},\"header\":{\"fill\":{\"color\":\"#C8D4E3\"},\"line\":{\"color\":\"white\"}},\"type\":\"table\"}]},\"layout\":{\"annotationdefaults\":{\"arrowcolor\":\"#2a3f5f\",\"arrowhead\":0,\"arrowwidth\":1},\"autotypenumbers\":\"strict\",\"coloraxis\":{\"colorbar\":{\"outlinewidth\":0,\"ticks\":\"\"}},\"colorscale\":{\"diverging\":[[0,\"#8e0152\"],[0.1,\"#c51b7d\"],[0.2,\"#de77ae\"],[0.3,\"#f1b6da\"],[0.4,\"#fde0ef\"],[0.5,\"#f7f7f7\"],[0.6,\"#e6f5d0\"],[0.7,\"#b8e186\"],[0.8,\"#7fbc41\"],[0.9,\"#4d9221\"],[1,\"#276419\"]],\"sequential\":[[0.0,\"#0d0887\"],[0.1111111111111111,\"#46039f\"],[0.2222222222222222,\"#7201a8\"],[0.3333333333333333,\"#9c179e\"],[0.4444444444444444,\"#bd3786\"],[0.5555555555555556,\"#d8576b\"],[0.6666666666666666,\"#ed7953\"],[0.7777777777777778,\"#fb9f3a\"],[0.8888888888888888,\"#fdca26\"],[1.0,\"#f0f921\"]],\"sequentialminus\":[[0.0,\"#0d0887\"],[0.1111111111111111,\"#46039f\"],[0.2222222222222222,\"#7201a8\"],[0.3333333333333333,\"#9c179e\"],[0.4444444444444444,\"#bd3786\"],[0.5555555555555556,\"#d8576b\"],[0.6666666666666666,\"#ed7953\"],[0.7777777777777778,\"#fb9f3a\"],[0.8888888888888888,\"#fdca26\"],[1.0,\"#f0f921\"]]},\"colorway\":[\"#636efa\",\"#EF553B\",\"#00cc96\",\"#ab63fa\",\"#FFA15A\",\"#19d3f3\",\"#FF6692\",\"#B6E880\",\"#FF97FF\",\"#FECB52\"],\"font\":{\"color\":\"#2a3f5f\"},\"geo\":{\"bgcolor\":\"white\",\"lakecolor\":\"white\",\"landcolor\":\"#E5ECF6\",\"showlakes\":true,\"showland\":true,\"subunitcolor\":\"white\"},\"hoverlabel\":{\"align\":\"left\"},\"hovermode\":\"closest\",\"mapbox\":{\"style\":\"light\"},\"paper_bgcolor\":\"white\",\"plot_bgcolor\":\"#E5ECF6\",\"polar\":{\"angularaxis\":{\"gridcolor\":\"white\",\"linecolor\":\"white\",\"ticks\":\"\"},\"bgcolor\":\"#E5ECF6\",\"radialaxis\":{\"gridcolor\":\"white\",\"linecolor\":\"white\",\"ticks\":\"\"}},\"scene\":{\"xaxis\":{\"backgroundcolor\":\"#E5ECF6\",\"gridcolor\":\"white\",\"gridwidth\":2,\"linecolor\":\"white\",\"showbackground\":true,\"ticks\":\"\",\"zerolinecolor\":\"white\"},\"yaxis\":{\"backgroundcolor\":\"#E5ECF6\",\"gridcolor\":\"white\",\"gridwidth\":2,\"linecolor\":\"white\",\"showbackground\":true,\"ticks\":\"\",\"zerolinecolor\":\"white\"},\"zaxis\":{\"backgroundcolor\":\"#E5ECF6\",\"gridcolor\":\"white\",\"gridwidth\":2,\"linecolor\":\"white\",\"showbackground\":true,\"ticks\":\"\",\"zerolinecolor\":\"white\"}},\"shapedefaults\":{\"line\":{\"color\":\"#2a3f5f\"}},\"ternary\":{\"aaxis\":{\"gridcolor\":\"white\",\"linecolor\":\"white\",\"ticks\":\"\"},\"baxis\":{\"gridcolor\":\"white\",\"linecolor\":\"white\",\"ticks\":\"\"},\"bgcolor\":\"#E5ECF6\",\"caxis\":{\"gridcolor\":\"white\",\"linecolor\":\"white\",\"ticks\":\"\"}},\"title\":{\"x\":0.05},\"xaxis\":{\"automargin\":true,\"gridcolor\":\"white\",\"linecolor\":\"white\",\"ticks\":\"\",\"title\":{\"standoff\":15},\"zerolinecolor\":\"white\",\"zerolinewidth\":2},\"yaxis\":{\"automargin\":true,\"gridcolor\":\"white\",\"linecolor\":\"white\",\"ticks\":\"\",\"title\":{\"standoff\":15},\"zerolinecolor\":\"white\",\"zerolinewidth\":2}}},\"title\":{\"text\":\"\\u041f\\u0440\\u043e\\u0434\\u0430\\u0436\\u0438 \\u0438\\u0433\\u0440 \\u043f\\u043e \\u043f\\u043b\\u0430\\u0442\\u0444\\u043e\\u0440\\u043c\\u0430\\u043c\"},\"yaxis\":{\"range\":[0,1]}},                        {\"responsive\": true}                    ).then(function(){\n",
       "                            \n",
       "var gd = document.getElementById('267c8b24-c4fe-41b7-9564-936c00312fd5');\n",
       "var x = new MutationObserver(function (mutations, observer) {{\n",
       "        var display = window.getComputedStyle(gd).display;\n",
       "        if (!display || display === 'none') {{\n",
       "            console.log([gd, 'removed!']);\n",
       "            Plotly.purge(gd);\n",
       "            observer.disconnect();\n",
       "        }}\n",
       "}});\n",
       "\n",
       "// Listen for the removal of the full notebook cells\n",
       "var notebookContainer = gd.closest('#notebook-container');\n",
       "if (notebookContainer) {{\n",
       "    x.observe(notebookContainer, {childList: true});\n",
       "}}\n",
       "\n",
       "// Listen for the clearing of the current output cell\n",
       "var outputEl = gd.closest('.output');\n",
       "if (outputEl) {{\n",
       "    x.observe(outputEl, {childList: true});\n",
       "}}\n",
       "\n",
       "                        })                };                });            </script>        </div>"
      ]
     },
     "metadata": {},
     "output_type": "display_data"
    }
   ],
   "source": [
    "data = []\n",
    "\n",
    "for platform in games['platform'].unique():\n",
    "    data.append(\n",
    "        go.Box(y=games[games.platform==platform]['total_sales'], \n",
    "               name=platform )\n",
    "    )\n",
    "    \n",
    "layout = {'title': 'Продажи игр по платформам'}\n",
    "fig = go.Figure(data=data, layout=layout)\n",
    "\n",
    "fig.update_layout(yaxis=dict(range=[0,1])) #  масштаб по оси y \n",
    "\n",
    "iplot(fig, show_link = False)"
   ]
  },
  {
   "cell_type": "markdown",
   "metadata": {},
   "source": [
    "# Выделим топ6 платформ с которыми будем дальше работать"
   ]
  },
  {
   "cell_type": "code",
   "execution_count": 74,
   "metadata": {},
   "outputs": [],
   "source": [
    "games_top_6_platforms = games[games['platform'].isin(['PS4','XOne','PC','WiiU','3DS', 'PSV'])]\n",
    "games_top_6_platforms = games_top_6_platforms[games_top_6_platforms['total_sales']<1.4]"
   ]
  },
  {
   "cell_type": "code",
   "execution_count": 75,
   "metadata": {},
   "outputs": [
    {
     "data": {
      "text/html": [
       "<div>\n",
       "<style scoped>\n",
       "    .dataframe tbody tr th:only-of-type {\n",
       "        vertical-align: middle;\n",
       "    }\n",
       "\n",
       "    .dataframe tbody tr th {\n",
       "        vertical-align: top;\n",
       "    }\n",
       "\n",
       "    .dataframe thead th {\n",
       "        text-align: right;\n",
       "    }\n",
       "</style>\n",
       "<table border=\"1\" class=\"dataframe\">\n",
       "  <thead>\n",
       "    <tr style=\"text-align: right;\">\n",
       "      <th></th>\n",
       "      <th>count</th>\n",
       "      <th>mean</th>\n",
       "      <th>std</th>\n",
       "      <th>min</th>\n",
       "      <th>25%</th>\n",
       "      <th>50%</th>\n",
       "      <th>75%</th>\n",
       "      <th>max</th>\n",
       "    </tr>\n",
       "    <tr>\n",
       "      <th>platform</th>\n",
       "      <th></th>\n",
       "      <th></th>\n",
       "      <th></th>\n",
       "      <th></th>\n",
       "      <th></th>\n",
       "      <th></th>\n",
       "      <th></th>\n",
       "      <th></th>\n",
       "    </tr>\n",
       "  </thead>\n",
       "  <tbody>\n",
       "    <tr>\n",
       "      <th>3DS</th>\n",
       "      <td>279.0</td>\n",
       "      <td>0.176237</td>\n",
       "      <td>0.234220</td>\n",
       "      <td>0.01</td>\n",
       "      <td>0.03</td>\n",
       "      <td>0.08</td>\n",
       "      <td>0.220</td>\n",
       "      <td>1.38</td>\n",
       "    </tr>\n",
       "    <tr>\n",
       "      <th>PC</th>\n",
       "      <td>186.0</td>\n",
       "      <td>0.178978</td>\n",
       "      <td>0.249262</td>\n",
       "      <td>0.01</td>\n",
       "      <td>0.03</td>\n",
       "      <td>0.07</td>\n",
       "      <td>0.220</td>\n",
       "      <td>1.36</td>\n",
       "    </tr>\n",
       "    <tr>\n",
       "      <th>PS4</th>\n",
       "      <td>326.0</td>\n",
       "      <td>0.258558</td>\n",
       "      <td>0.298397</td>\n",
       "      <td>0.01</td>\n",
       "      <td>0.05</td>\n",
       "      <td>0.12</td>\n",
       "      <td>0.360</td>\n",
       "      <td>1.32</td>\n",
       "    </tr>\n",
       "    <tr>\n",
       "      <th>PSV</th>\n",
       "      <td>357.0</td>\n",
       "      <td>0.086919</td>\n",
       "      <td>0.117891</td>\n",
       "      <td>0.01</td>\n",
       "      <td>0.02</td>\n",
       "      <td>0.04</td>\n",
       "      <td>0.110</td>\n",
       "      <td>0.80</td>\n",
       "    </tr>\n",
       "    <tr>\n",
       "      <th>WiiU</th>\n",
       "      <td>105.0</td>\n",
       "      <td>0.302952</td>\n",
       "      <td>0.324040</td>\n",
       "      <td>0.01</td>\n",
       "      <td>0.05</td>\n",
       "      <td>0.18</td>\n",
       "      <td>0.460</td>\n",
       "      <td>1.30</td>\n",
       "    </tr>\n",
       "    <tr>\n",
       "      <th>XOne</th>\n",
       "      <td>215.0</td>\n",
       "      <td>0.315907</td>\n",
       "      <td>0.364930</td>\n",
       "      <td>0.01</td>\n",
       "      <td>0.05</td>\n",
       "      <td>0.16</td>\n",
       "      <td>0.455</td>\n",
       "      <td>1.39</td>\n",
       "    </tr>\n",
       "  </tbody>\n",
       "</table>\n",
       "</div>"
      ],
      "text/plain": [
       "          count      mean       std   min   25%   50%    75%   max\n",
       "platform                                                          \n",
       "3DS       279.0  0.176237  0.234220  0.01  0.03  0.08  0.220  1.38\n",
       "PC        186.0  0.178978  0.249262  0.01  0.03  0.07  0.220  1.36\n",
       "PS4       326.0  0.258558  0.298397  0.01  0.05  0.12  0.360  1.32\n",
       "PSV       357.0  0.086919  0.117891  0.01  0.02  0.04  0.110  0.80\n",
       "WiiU      105.0  0.302952  0.324040  0.01  0.05  0.18  0.460  1.30\n",
       "XOne      215.0  0.315907  0.364930  0.01  0.05  0.16  0.455  1.39"
      ]
     },
     "execution_count": 75,
     "metadata": {},
     "output_type": "execute_result"
    }
   ],
   "source": [
    "games_top_6_platforms.groupby('platform')['total_sales'].describe()"
   ]
  },
  {
   "cell_type": "markdown",
   "metadata": {},
   "source": [
    "строим график «ящик с усами» по глобальным продажам игр в разбивке по актуальным платформам(топ6)"
   ]
  },
  {
   "cell_type": "code",
   "execution_count": 76,
   "metadata": {
    "scrolled": false
   },
   "outputs": [
    {
     "data": {
      "application/vnd.plotly.v1+json": {
       "config": {
        "linkText": "Export to plot.ly",
        "plotlyServerURL": "https://plot.ly",
        "showLink": false
       },
       "data": [
        {
         "name": "3DS",
         "type": "box",
         "y": [
          1.3800000000000001,
          1.33,
          1.25,
          1.11,
          0.93,
          0.93,
          0.8900000000000001,
          0.87,
          0.86,
          0.79,
          0.75,
          0.76,
          0.7500000000000001,
          0.75,
          0.7200000000000001,
          0.6900000000000002,
          0.63,
          0.6200000000000001,
          0.5900000000000001,
          0.5800000000000001,
          0.5700000000000001,
          0.56,
          0.53,
          0.53,
          0.48,
          0.49,
          0.48,
          0.48000000000000004,
          0.4800000000000001,
          0.4600000000000001,
          0.45,
          0.44000000000000006,
          0.42999999999999994,
          0.42000000000000004,
          0.42,
          0.38,
          0.38,
          0.38,
          0.36,
          0.35,
          0.33,
          0.32999999999999996,
          0.33,
          0.32000000000000006,
          0.32,
          0.31,
          0.31000000000000005,
          0.31000000000000005,
          0.29000000000000004,
          0.29000000000000004,
          0.29,
          0.28,
          0.28,
          0.27,
          0.27,
          0.26,
          0.26,
          0.26,
          0.26,
          0.25,
          0.25,
          0.24000000000000002,
          0.24,
          0.24999999999999997,
          0.24,
          0.23,
          0.24,
          0.23,
          0.22,
          0.22,
          0.21000000000000002,
          0.22,
          0.21000000000000002,
          0.21,
          0.21,
          0.2,
          0.2,
          0.19,
          0.18000000000000002,
          0.19,
          0.19,
          0.18,
          0.18,
          0.17,
          0.17,
          0.17,
          0.17,
          0.16,
          0.16000000000000003,
          0.16,
          0.15,
          0.14,
          0.15000000000000002,
          0.15,
          0.15,
          0.14,
          0.14,
          0.15,
          0.14,
          0.13,
          0.13,
          0.13,
          0.13,
          0.13,
          0.12,
          0.12,
          0.13,
          0.13,
          0.11,
          0.12,
          0.12,
          0.11,
          0.11,
          0.11,
          0.11,
          0.11,
          0.11,
          0.1,
          0.1,
          0.1,
          0.09999999999999999,
          0.1,
          0.1,
          0.09999999999999999,
          0.09999999999999999,
          0.09,
          0.09,
          0.09,
          0.09,
          0.09,
          0.09,
          0.08,
          0.09,
          0.08,
          0.08,
          0.08,
          0.08,
          0.07,
          0.08,
          0.08,
          0.08,
          0.08,
          0.08,
          0.08,
          0.08,
          0.08,
          0.07,
          0.07,
          0.07,
          0.07,
          0.08,
          0.07,
          0.07,
          0.07,
          0.07,
          0.06999999999999999,
          0.07,
          0.07,
          0.07,
          0.07,
          0.07,
          0.07,
          0.06,
          0.07,
          0.07,
          0.06999999999999999,
          0.06,
          0.06999999999999999,
          0.06,
          0.06,
          0.06,
          0.06,
          0.06,
          0.06,
          0.06,
          0.06,
          0.060000000000000005,
          0.06,
          0.06,
          0.06,
          0.06,
          0.05,
          0.060000000000000005,
          0.05,
          0.05,
          0.05,
          0.04,
          0.05,
          0.05,
          0.05,
          0.05,
          0.04,
          0.04,
          0.04,
          0.04,
          0.04,
          0.04,
          0.04,
          0.04,
          0.03,
          0.03,
          0.04,
          0.04,
          0.04,
          0.03,
          0.04,
          0.04,
          0.03,
          0.04,
          0.03,
          0.04,
          0.04,
          0.03,
          0.03,
          0.03,
          0.03,
          0.03,
          0.03,
          0.03,
          0.03,
          0.03,
          0.03,
          0.03,
          0.03,
          0.03,
          0.03,
          0.03,
          0.03,
          0.03,
          0.03,
          0.03,
          0.02,
          0.03,
          0.03,
          0.03,
          0.03,
          0.03,
          0.03,
          0.03,
          0.03,
          0.02,
          0.03,
          0.02,
          0.02,
          0.03,
          0.02,
          0.02,
          0.02,
          0.02,
          0.02,
          0.02,
          0.02,
          0.02,
          0.02,
          0.02,
          0.02,
          0.01,
          0.01,
          0.01,
          0.01,
          0.01,
          0.01,
          0.01,
          0.01,
          0.01,
          0.01,
          0.01,
          0.01,
          0.01,
          0.01,
          0.01,
          0.01,
          0.01,
          0.01,
          0.01,
          0.01,
          0.01,
          0.01,
          0.01
         ]
        },
        {
         "name": "XOne",
         "type": "box",
         "y": [
          1.3900000000000001,
          1.38,
          1.3800000000000001,
          1.3599999999999999,
          1.3399999999999999,
          1.3399999999999999,
          1.3,
          1.2900000000000003,
          1.29,
          1.2800000000000002,
          1.23,
          1.21,
          1.2000000000000002,
          1.1600000000000001,
          1.1300000000000001,
          1.08,
          1.06,
          1.05,
          1.03,
          0.93,
          0.8999999999999999,
          0.91,
          0.88,
          0.8,
          0.79,
          0.76,
          0.75,
          0.75,
          0.69,
          0.6799999999999999,
          0.7,
          0.6800000000000002,
          0.6599999999999999,
          0.6599999999999999,
          0.6599999999999999,
          0.6400000000000001,
          0.6300000000000001,
          0.6200000000000001,
          0.61,
          0.6000000000000001,
          0.5900000000000001,
          0.5700000000000001,
          0.5700000000000001,
          0.56,
          0.56,
          0.55,
          0.53,
          0.53,
          0.49999999999999994,
          0.48000000000000004,
          0.4799999999999999,
          0.48,
          0.47,
          0.45999999999999996,
          0.45,
          0.44999999999999996,
          0.44,
          0.43,
          0.44,
          0.42,
          0.41,
          0.41,
          0.41,
          0.38999999999999996,
          0.37,
          0.36,
          0.36,
          0.33999999999999997,
          0.33999999999999997,
          0.33999999999999997,
          0.33999999999999997,
          0.31999999999999995,
          0.31999999999999995,
          0.31000000000000005,
          0.31000000000000005,
          0.31000000000000005,
          0.29000000000000004,
          0.28,
          0.27,
          0.27,
          0.26,
          0.26,
          0.25,
          0.24999999999999997,
          0.24,
          0.24000000000000002,
          0.24000000000000002,
          0.24000000000000002,
          0.24000000000000002,
          0.23,
          0.22,
          0.22,
          0.22,
          0.21,
          0.21,
          0.21,
          0.19999999999999998,
          0.19999999999999998,
          0.21,
          0.19999999999999998,
          0.19999999999999998,
          0.18,
          0.18,
          0.18,
          0.18,
          0.16,
          0.16,
          0.16000000000000003,
          0.16999999999999998,
          0.15000000000000002,
          0.15000000000000002,
          0.15000000000000002,
          0.15000000000000002,
          0.15000000000000002,
          0.15000000000000002,
          0.14,
          0.14,
          0.14,
          0.14,
          0.14,
          0.13,
          0.13,
          0.13,
          0.13,
          0.13,
          0.12,
          0.12,
          0.12000000000000001,
          0.12,
          0.11,
          0.11,
          0.10999999999999999,
          0.11,
          0.11,
          0.09999999999999999,
          0.1,
          0.09999999999999999,
          0.09999999999999999,
          0.09,
          0.08,
          0.08,
          0.08,
          0.08,
          0.08,
          0.08,
          0.07,
          0.06999999999999999,
          0.07,
          0.06999999999999999,
          0.060000000000000005,
          0.06,
          0.05,
          0.060000000000000005,
          0.060000000000000005,
          0.060000000000000005,
          0.05,
          0.05,
          0.05,
          0.05,
          0.060000000000000005,
          0.060000000000000005,
          0.05,
          0.04,
          0.04,
          0.04,
          0.04,
          0.04,
          0.04,
          0.04,
          0.04,
          0.03,
          0.03,
          0.03,
          0.03,
          0.03,
          0.03,
          0.03,
          0.02,
          0.02,
          0.02,
          0.02,
          0.02,
          0.02,
          0.02,
          0.02,
          0.01,
          0.02,
          0.02,
          0.02,
          0.02,
          0.02,
          0.01,
          0.01,
          0.01,
          0.01,
          0.01,
          0.01,
          0.01,
          0.01,
          0.01,
          0.01,
          0.01,
          0.01,
          0.01,
          0.01,
          0.01,
          0.01,
          0.01,
          0.01,
          0.01,
          0.01,
          0.01,
          0.01,
          0.01,
          0.01
         ]
        },
        {
         "name": "PC",
         "type": "box",
         "y": [
          1.36,
          1.2800000000000002,
          1.1900000000000002,
          1.1700000000000002,
          0.9000000000000001,
          0.73,
          0.72,
          0.7200000000000001,
          0.6900000000000001,
          0.6599999999999999,
          0.6599999999999999,
          0.65,
          0.65,
          0.63,
          0.63,
          0.6300000000000001,
          0.56,
          0.55,
          0.55,
          0.53,
          0.52,
          0.47,
          0.47,
          0.44999999999999996,
          0.44000000000000006,
          0.41,
          0.41000000000000003,
          0.4,
          0.38,
          0.36,
          0.35,
          0.35000000000000003,
          0.35,
          0.32000000000000006,
          0.31000000000000005,
          0.28,
          0.29000000000000004,
          0.28,
          0.26,
          0.26,
          0.25,
          0.24,
          0.24,
          0.22999999999999998,
          0.23,
          0.22,
          0.22,
          0.22,
          0.2,
          0.2,
          0.19999999999999998,
          0.19999999999999998,
          0.18000000000000002,
          0.18999999999999997,
          0.19999999999999998,
          0.18000000000000002,
          0.18999999999999997,
          0.18,
          0.17,
          0.17,
          0.16,
          0.16,
          0.16000000000000003,
          0.15000000000000002,
          0.15000000000000002,
          0.14,
          0.14,
          0.13,
          0.13,
          0.13,
          0.13,
          0.12,
          0.12000000000000001,
          0.12,
          0.12,
          0.11,
          0.09999999999999999,
          0.11,
          0.11,
          0.09999999999999999,
          0.09999999999999999,
          0.09999999999999999,
          0.09,
          0.09999999999999999,
          0.08,
          0.08,
          0.08,
          0.09,
          0.08,
          0.08,
          0.08,
          0.08,
          0.07,
          0.07,
          0.06,
          0.06999999999999999,
          0.060000000000000005,
          0.06,
          0.06,
          0.06,
          0.05,
          0.05,
          0.05,
          0.05,
          0.05,
          0.05,
          0.05,
          0.05,
          0.05,
          0.05,
          0.05,
          0.04,
          0.05,
          0.05,
          0.04,
          0.04,
          0.04,
          0.04,
          0.04,
          0.04,
          0.04,
          0.04,
          0.04,
          0.03,
          0.03,
          0.03,
          0.03,
          0.03,
          0.03,
          0.03,
          0.03,
          0.03,
          0.03,
          0.03,
          0.03,
          0.03,
          0.03,
          0.03,
          0.03,
          0.02,
          0.03,
          0.03,
          0.02,
          0.02,
          0.02,
          0.02,
          0.02,
          0.02,
          0.02,
          0.02,
          0.02,
          0.02,
          0.02,
          0.02,
          0.02,
          0.02,
          0.02,
          0.02,
          0.02,
          0.01,
          0.01,
          0.01,
          0.01,
          0.01,
          0.01,
          0.01,
          0.01,
          0.01,
          0.01,
          0.01,
          0.01,
          0.01,
          0.01,
          0.01,
          0.01,
          0.01,
          0.01,
          0.01,
          0.01,
          0.01,
          0.01,
          0.01,
          0.01,
          0.01,
          0.01,
          0.01
         ]
        },
        {
         "name": "PS4",
         "type": "box",
         "y": [
          1.3199999999999998,
          1.2699999999999998,
          1.21,
          1.17,
          1.15,
          1.14,
          1.13,
          1.1199999999999999,
          1.1,
          1.0799999999999998,
          1.05,
          1.02,
          0.98,
          0.9700000000000001,
          0.9400000000000001,
          0.93,
          0.92,
          0.93,
          0.92,
          0.9,
          0.9,
          0.91,
          0.89,
          0.88,
          0.86,
          0.8200000000000001,
          0.78,
          0.7600000000000001,
          0.75,
          0.75,
          0.7300000000000001,
          0.73,
          0.73,
          0.73,
          0.72,
          0.73,
          0.7,
          0.71,
          0.6900000000000001,
          0.6900000000000001,
          0.67,
          0.67,
          0.66,
          0.64,
          0.64,
          0.63,
          0.63,
          0.62,
          0.61,
          0.61,
          0.6,
          0.6,
          0.6,
          0.54,
          0.56,
          0.51,
          0.52,
          0.49000000000000005,
          0.47000000000000003,
          0.46,
          0.45,
          0.44,
          0.43,
          0.43,
          0.43,
          0.42,
          0.42,
          0.4,
          0.4,
          0.38999999999999996,
          0.39999999999999997,
          0.4,
          0.39999999999999997,
          0.38,
          0.37999999999999995,
          0.39,
          0.38,
          0.38,
          0.37,
          0.37,
          0.37000000000000005,
          0.36000000000000004,
          0.36,
          0.36000000000000004,
          0.36000000000000004,
          0.35000000000000003,
          0.36,
          0.34,
          0.34,
          0.33999999999999997,
          0.34,
          0.33,
          0.33999999999999997,
          0.32,
          0.32,
          0.3,
          0.3,
          0.31,
          0.3,
          0.3,
          0.3,
          0.29,
          0.28,
          0.27999999999999997,
          0.29000000000000004,
          0.29000000000000004,
          0.27,
          0.27,
          0.26,
          0.26,
          0.26,
          0.26,
          0.24000000000000002,
          0.25,
          0.25,
          0.24000000000000002,
          0.24000000000000002,
          0.24000000000000002,
          0.24000000000000002,
          0.23,
          0.23,
          0.23,
          0.23,
          0.22,
          0.21000000000000002,
          0.21000000000000002,
          0.19999999999999998,
          0.2,
          0.2,
          0.19999999999999998,
          0.2,
          0.2,
          0.19999999999999998,
          0.19,
          0.19,
          0.19999999999999998,
          0.19,
          0.18,
          0.18,
          0.18,
          0.18000000000000002,
          0.17,
          0.17,
          0.16999999999999998,
          0.16,
          0.17,
          0.16999999999999998,
          0.16,
          0.16,
          0.16,
          0.15,
          0.15,
          0.13999999999999999,
          0.15,
          0.14,
          0.13999999999999999,
          0.13999999999999999,
          0.13999999999999999,
          0.13,
          0.13,
          0.12000000000000001,
          0.13,
          0.12,
          0.12,
          0.12000000000000001,
          0.11,
          0.11,
          0.12,
          0.12000000000000001,
          0.12000000000000001,
          0.12000000000000001,
          0.11,
          0.09999999999999999,
          0.11,
          0.1,
          0.09,
          0.1,
          0.09,
          0.1,
          0.1,
          0.1,
          0.09999999999999999,
          0.09,
          0.09,
          0.1,
          0.09000000000000001,
          0.08,
          0.09,
          0.09,
          0.09,
          0.09,
          0.08,
          0.08,
          0.08,
          0.08,
          0.08,
          0.08,
          0.08,
          0.06999999999999999,
          0.09,
          0.09000000000000001,
          0.08,
          0.06999999999999999,
          0.06999999999999999,
          0.08,
          0.07,
          0.08,
          0.08,
          0.08,
          0.06999999999999999,
          0.07,
          0.06999999999999999,
          0.07,
          0.060000000000000005,
          0.06999999999999999,
          0.07,
          0.06999999999999999,
          0.060000000000000005,
          0.060000000000000005,
          0.060000000000000005,
          0.060000000000000005,
          0.06999999999999999,
          0.06,
          0.06,
          0.06,
          0.060000000000000005,
          0.060000000000000005,
          0.060000000000000005,
          0.060000000000000005,
          0.06,
          0.060000000000000005,
          0.05,
          0.05,
          0.05,
          0.05,
          0.060000000000000005,
          0.05,
          0.05,
          0.05,
          0.05,
          0.05,
          0.05,
          0.04,
          0.05,
          0.05,
          0.05,
          0.05,
          0.05,
          0.05,
          0.05,
          0.05,
          0.04,
          0.03,
          0.05,
          0.04,
          0.04,
          0.04,
          0.04,
          0.04,
          0.04,
          0.04,
          0.04,
          0.03,
          0.03,
          0.03,
          0.04,
          0.03,
          0.03,
          0.03,
          0.04,
          0.03,
          0.03,
          0.03,
          0.03,
          0.03,
          0.02,
          0.02,
          0.02,
          0.03,
          0.03,
          0.02,
          0.02,
          0.02,
          0.02,
          0.02,
          0.02,
          0.02,
          0.02,
          0.02,
          0.02,
          0.02,
          0.02,
          0.02,
          0.02,
          0.02,
          0.02,
          0.02,
          0.02,
          0.02,
          0.02,
          0.01,
          0.01,
          0.01,
          0.02,
          0.02,
          0.01,
          0.01,
          0.01,
          0.02,
          0.02,
          0.02,
          0.01,
          0.02,
          0.01,
          0.01,
          0.01,
          0.01,
          0.01,
          0.01,
          0.01,
          0.01,
          0.01,
          0.01,
          0.01,
          0.01,
          0.01
         ]
        },
        {
         "name": "WiiU",
         "type": "box",
         "y": [
          1.3,
          1.23,
          1.1900000000000002,
          1.12,
          1.1,
          1.03,
          1.01,
          0.84,
          0.8400000000000001,
          0.78,
          0.76,
          0.74,
          0.73,
          0.7,
          0.6700000000000002,
          0.6600000000000001,
          0.6499999999999999,
          0.6400000000000001,
          0.6000000000000001,
          0.5900000000000001,
          0.5800000000000001,
          0.5700000000000001,
          0.53,
          0.52,
          0.51,
          0.48,
          0.45999999999999996,
          0.45999999999999996,
          0.44000000000000006,
          0.42000000000000004,
          0.42000000000000004,
          0.41,
          0.4,
          0.39,
          0.38,
          0.37,
          0.35,
          0.34,
          0.31000000000000005,
          0.31000000000000005,
          0.29000000000000004,
          0.27,
          0.27,
          0.24999999999999997,
          0.24,
          0.24,
          0.22,
          0.2,
          0.18999999999999997,
          0.18999999999999997,
          0.18000000000000002,
          0.19,
          0.18999999999999997,
          0.15000000000000002,
          0.13,
          0.12,
          0.12000000000000001,
          0.11,
          0.11,
          0.12,
          0.11,
          0.11,
          0.09999999999999999,
          0.09999999999999999,
          0.09999999999999999,
          0.09,
          0.09999999999999999,
          0.09,
          0.09,
          0.08,
          0.09,
          0.07999999999999999,
          0.06999999999999999,
          0.06,
          0.06,
          0.06999999999999999,
          0.060000000000000005,
          0.06999999999999999,
          0.05,
          0.04,
          0.05,
          0.05,
          0.05,
          0.03,
          0.03,
          0.03,
          0.03,
          0.03,
          0.03,
          0.02,
          0.02,
          0.02,
          0.02,
          0.02,
          0.02,
          0.02,
          0.02,
          0.02,
          0.01,
          0.01,
          0.01,
          0.01,
          0.01,
          0.01,
          0.01
         ]
        },
        {
         "name": "PSV",
         "type": "box",
         "y": [
          0.8000000000000002,
          0.8,
          0.65,
          0.64,
          0.6200000000000001,
          0.6,
          0.51,
          0.51,
          0.45,
          0.43000000000000005,
          0.41000000000000003,
          0.41000000000000003,
          0.38,
          0.36,
          0.36,
          0.35000000000000003,
          0.33,
          0.33,
          0.32,
          0.31,
          0.3,
          0.3,
          0.30000000000000004,
          0.29000000000000004,
          0.25,
          0.23,
          0.23,
          0.22000000000000003,
          0.22999999999999998,
          0.22,
          0.22,
          0.21,
          0.21,
          0.21000000000000002,
          0.2,
          0.19,
          0.19,
          0.19,
          0.19,
          0.18000000000000002,
          0.19,
          0.18,
          0.18,
          0.18,
          0.16999999999999998,
          0.17,
          0.17,
          0.17,
          0.16,
          0.17,
          0.17,
          0.16,
          0.15000000000000002,
          0.16,
          0.15,
          0.15,
          0.14,
          0.15,
          0.15000000000000002,
          0.14,
          0.14,
          0.14,
          0.13,
          0.13,
          0.13,
          0.12,
          0.13,
          0.13,
          0.12000000000000001,
          0.13,
          0.13,
          0.13,
          0.12000000000000001,
          0.12,
          0.12,
          0.11,
          0.12,
          0.12,
          0.12000000000000001,
          0.11,
          0.12000000000000001,
          0.11,
          0.11,
          0.11,
          0.11,
          0.11,
          0.11,
          0.11,
          0.11,
          0.1,
          0.11,
          0.1,
          0.09999999999999999,
          0.11,
          0.1,
          0.1,
          0.1,
          0.1,
          0.1,
          0.09999999999999999,
          0.1,
          0.09,
          0.09999999999999999,
          0.09000000000000001,
          0.09,
          0.09,
          0.09,
          0.09,
          0.09,
          0.09,
          0.09,
          0.09,
          0.09,
          0.08,
          0.08,
          0.08,
          0.08,
          0.08,
          0.08,
          0.07,
          0.07,
          0.07,
          0.07,
          0.08,
          0.07,
          0.06999999999999999,
          0.07,
          0.06999999999999999,
          0.06999999999999999,
          0.06999999999999999,
          0.07,
          0.07,
          0.07,
          0.06999999999999999,
          0.06,
          0.06,
          0.06999999999999999,
          0.06,
          0.06,
          0.06,
          0.06,
          0.060000000000000005,
          0.060000000000000005,
          0.06999999999999999,
          0.06,
          0.06,
          0.06,
          0.06,
          0.06,
          0.060000000000000005,
          0.06,
          0.06,
          0.06,
          0.06,
          0.06,
          0.05,
          0.05,
          0.05,
          0.05,
          0.060000000000000005,
          0.05,
          0.05,
          0.05,
          0.05,
          0.05,
          0.05,
          0.05,
          0.05,
          0.05,
          0.05,
          0.05,
          0.05,
          0.05,
          0.05,
          0.05,
          0.05,
          0.04,
          0.04,
          0.04,
          0.04,
          0.04,
          0.05,
          0.04,
          0.04,
          0.04,
          0.04,
          0.04,
          0.04,
          0.04,
          0.04,
          0.04,
          0.04,
          0.03,
          0.04,
          0.03,
          0.03,
          0.03,
          0.03,
          0.04,
          0.03,
          0.03,
          0.03,
          0.03,
          0.03,
          0.03,
          0.03,
          0.04,
          0.03,
          0.03,
          0.03,
          0.03,
          0.03,
          0.03,
          0.03,
          0.03,
          0.03,
          0.03,
          0.03,
          0.03,
          0.03,
          0.03,
          0.03,
          0.03,
          0.03,
          0.03,
          0.03,
          0.03,
          0.03,
          0.03,
          0.03,
          0.03,
          0.03,
          0.03,
          0.03,
          0.03,
          0.03,
          0.02,
          0.03,
          0.03,
          0.03,
          0.03,
          0.03,
          0.03,
          0.03,
          0.02,
          0.02,
          0.02,
          0.02,
          0.02,
          0.02,
          0.02,
          0.02,
          0.02,
          0.02,
          0.02,
          0.02,
          0.02,
          0.02,
          0.02,
          0.02,
          0.02,
          0.02,
          0.02,
          0.02,
          0.02,
          0.02,
          0.02,
          0.02,
          0.02,
          0.02,
          0.02,
          0.01,
          0.01,
          0.02,
          0.02,
          0.02,
          0.02,
          0.02,
          0.02,
          0.02,
          0.02,
          0.02,
          0.02,
          0.02,
          0.02,
          0.02,
          0.02,
          0.02,
          0.02,
          0.02,
          0.02,
          0.02,
          0.02,
          0.02,
          0.02,
          0.02,
          0.02,
          0.02,
          0.02,
          0.02,
          0.01,
          0.02,
          0.02,
          0.02,
          0.02,
          0.02,
          0.01,
          0.01,
          0.01,
          0.01,
          0.01,
          0.01,
          0.01,
          0.01,
          0.01,
          0.01,
          0.01,
          0.01,
          0.01,
          0.01,
          0.01,
          0.01,
          0.01,
          0.01,
          0.01,
          0.01,
          0.01,
          0.01,
          0.01,
          0.01,
          0.01,
          0.01,
          0.01,
          0.01,
          0.01,
          0.01,
          0.01,
          0.01,
          0.01,
          0.01,
          0.01,
          0.01,
          0.01,
          0.01,
          0.01,
          0.01,
          0.01,
          0.01,
          0.01,
          0.01,
          0.01,
          0.01,
          0.01,
          0.01,
          0.01,
          0.01,
          0.01
         ]
        }
       ],
       "layout": {
        "template": {
         "data": {
          "bar": [
           {
            "error_x": {
             "color": "#2a3f5f"
            },
            "error_y": {
             "color": "#2a3f5f"
            },
            "marker": {
             "line": {
              "color": "#E5ECF6",
              "width": 0.5
             },
             "pattern": {
              "fillmode": "overlay",
              "size": 10,
              "solidity": 0.2
             }
            },
            "type": "bar"
           }
          ],
          "barpolar": [
           {
            "marker": {
             "line": {
              "color": "#E5ECF6",
              "width": 0.5
             },
             "pattern": {
              "fillmode": "overlay",
              "size": 10,
              "solidity": 0.2
             }
            },
            "type": "barpolar"
           }
          ],
          "carpet": [
           {
            "aaxis": {
             "endlinecolor": "#2a3f5f",
             "gridcolor": "white",
             "linecolor": "white",
             "minorgridcolor": "white",
             "startlinecolor": "#2a3f5f"
            },
            "baxis": {
             "endlinecolor": "#2a3f5f",
             "gridcolor": "white",
             "linecolor": "white",
             "minorgridcolor": "white",
             "startlinecolor": "#2a3f5f"
            },
            "type": "carpet"
           }
          ],
          "choropleth": [
           {
            "colorbar": {
             "outlinewidth": 0,
             "ticks": ""
            },
            "type": "choropleth"
           }
          ],
          "contour": [
           {
            "colorbar": {
             "outlinewidth": 0,
             "ticks": ""
            },
            "colorscale": [
             [
              0,
              "#0d0887"
             ],
             [
              0.1111111111111111,
              "#46039f"
             ],
             [
              0.2222222222222222,
              "#7201a8"
             ],
             [
              0.3333333333333333,
              "#9c179e"
             ],
             [
              0.4444444444444444,
              "#bd3786"
             ],
             [
              0.5555555555555556,
              "#d8576b"
             ],
             [
              0.6666666666666666,
              "#ed7953"
             ],
             [
              0.7777777777777778,
              "#fb9f3a"
             ],
             [
              0.8888888888888888,
              "#fdca26"
             ],
             [
              1,
              "#f0f921"
             ]
            ],
            "type": "contour"
           }
          ],
          "contourcarpet": [
           {
            "colorbar": {
             "outlinewidth": 0,
             "ticks": ""
            },
            "type": "contourcarpet"
           }
          ],
          "heatmap": [
           {
            "colorbar": {
             "outlinewidth": 0,
             "ticks": ""
            },
            "colorscale": [
             [
              0,
              "#0d0887"
             ],
             [
              0.1111111111111111,
              "#46039f"
             ],
             [
              0.2222222222222222,
              "#7201a8"
             ],
             [
              0.3333333333333333,
              "#9c179e"
             ],
             [
              0.4444444444444444,
              "#bd3786"
             ],
             [
              0.5555555555555556,
              "#d8576b"
             ],
             [
              0.6666666666666666,
              "#ed7953"
             ],
             [
              0.7777777777777778,
              "#fb9f3a"
             ],
             [
              0.8888888888888888,
              "#fdca26"
             ],
             [
              1,
              "#f0f921"
             ]
            ],
            "type": "heatmap"
           }
          ],
          "heatmapgl": [
           {
            "colorbar": {
             "outlinewidth": 0,
             "ticks": ""
            },
            "colorscale": [
             [
              0,
              "#0d0887"
             ],
             [
              0.1111111111111111,
              "#46039f"
             ],
             [
              0.2222222222222222,
              "#7201a8"
             ],
             [
              0.3333333333333333,
              "#9c179e"
             ],
             [
              0.4444444444444444,
              "#bd3786"
             ],
             [
              0.5555555555555556,
              "#d8576b"
             ],
             [
              0.6666666666666666,
              "#ed7953"
             ],
             [
              0.7777777777777778,
              "#fb9f3a"
             ],
             [
              0.8888888888888888,
              "#fdca26"
             ],
             [
              1,
              "#f0f921"
             ]
            ],
            "type": "heatmapgl"
           }
          ],
          "histogram": [
           {
            "marker": {
             "pattern": {
              "fillmode": "overlay",
              "size": 10,
              "solidity": 0.2
             }
            },
            "type": "histogram"
           }
          ],
          "histogram2d": [
           {
            "colorbar": {
             "outlinewidth": 0,
             "ticks": ""
            },
            "colorscale": [
             [
              0,
              "#0d0887"
             ],
             [
              0.1111111111111111,
              "#46039f"
             ],
             [
              0.2222222222222222,
              "#7201a8"
             ],
             [
              0.3333333333333333,
              "#9c179e"
             ],
             [
              0.4444444444444444,
              "#bd3786"
             ],
             [
              0.5555555555555556,
              "#d8576b"
             ],
             [
              0.6666666666666666,
              "#ed7953"
             ],
             [
              0.7777777777777778,
              "#fb9f3a"
             ],
             [
              0.8888888888888888,
              "#fdca26"
             ],
             [
              1,
              "#f0f921"
             ]
            ],
            "type": "histogram2d"
           }
          ],
          "histogram2dcontour": [
           {
            "colorbar": {
             "outlinewidth": 0,
             "ticks": ""
            },
            "colorscale": [
             [
              0,
              "#0d0887"
             ],
             [
              0.1111111111111111,
              "#46039f"
             ],
             [
              0.2222222222222222,
              "#7201a8"
             ],
             [
              0.3333333333333333,
              "#9c179e"
             ],
             [
              0.4444444444444444,
              "#bd3786"
             ],
             [
              0.5555555555555556,
              "#d8576b"
             ],
             [
              0.6666666666666666,
              "#ed7953"
             ],
             [
              0.7777777777777778,
              "#fb9f3a"
             ],
             [
              0.8888888888888888,
              "#fdca26"
             ],
             [
              1,
              "#f0f921"
             ]
            ],
            "type": "histogram2dcontour"
           }
          ],
          "mesh3d": [
           {
            "colorbar": {
             "outlinewidth": 0,
             "ticks": ""
            },
            "type": "mesh3d"
           }
          ],
          "parcoords": [
           {
            "line": {
             "colorbar": {
              "outlinewidth": 0,
              "ticks": ""
             }
            },
            "type": "parcoords"
           }
          ],
          "pie": [
           {
            "automargin": true,
            "type": "pie"
           }
          ],
          "scatter": [
           {
            "marker": {
             "colorbar": {
              "outlinewidth": 0,
              "ticks": ""
             }
            },
            "type": "scatter"
           }
          ],
          "scatter3d": [
           {
            "line": {
             "colorbar": {
              "outlinewidth": 0,
              "ticks": ""
             }
            },
            "marker": {
             "colorbar": {
              "outlinewidth": 0,
              "ticks": ""
             }
            },
            "type": "scatter3d"
           }
          ],
          "scattercarpet": [
           {
            "marker": {
             "colorbar": {
              "outlinewidth": 0,
              "ticks": ""
             }
            },
            "type": "scattercarpet"
           }
          ],
          "scattergeo": [
           {
            "marker": {
             "colorbar": {
              "outlinewidth": 0,
              "ticks": ""
             }
            },
            "type": "scattergeo"
           }
          ],
          "scattergl": [
           {
            "marker": {
             "colorbar": {
              "outlinewidth": 0,
              "ticks": ""
             }
            },
            "type": "scattergl"
           }
          ],
          "scattermapbox": [
           {
            "marker": {
             "colorbar": {
              "outlinewidth": 0,
              "ticks": ""
             }
            },
            "type": "scattermapbox"
           }
          ],
          "scatterpolar": [
           {
            "marker": {
             "colorbar": {
              "outlinewidth": 0,
              "ticks": ""
             }
            },
            "type": "scatterpolar"
           }
          ],
          "scatterpolargl": [
           {
            "marker": {
             "colorbar": {
              "outlinewidth": 0,
              "ticks": ""
             }
            },
            "type": "scatterpolargl"
           }
          ],
          "scatterternary": [
           {
            "marker": {
             "colorbar": {
              "outlinewidth": 0,
              "ticks": ""
             }
            },
            "type": "scatterternary"
           }
          ],
          "surface": [
           {
            "colorbar": {
             "outlinewidth": 0,
             "ticks": ""
            },
            "colorscale": [
             [
              0,
              "#0d0887"
             ],
             [
              0.1111111111111111,
              "#46039f"
             ],
             [
              0.2222222222222222,
              "#7201a8"
             ],
             [
              0.3333333333333333,
              "#9c179e"
             ],
             [
              0.4444444444444444,
              "#bd3786"
             ],
             [
              0.5555555555555556,
              "#d8576b"
             ],
             [
              0.6666666666666666,
              "#ed7953"
             ],
             [
              0.7777777777777778,
              "#fb9f3a"
             ],
             [
              0.8888888888888888,
              "#fdca26"
             ],
             [
              1,
              "#f0f921"
             ]
            ],
            "type": "surface"
           }
          ],
          "table": [
           {
            "cells": {
             "fill": {
              "color": "#EBF0F8"
             },
             "line": {
              "color": "white"
             }
            },
            "header": {
             "fill": {
              "color": "#C8D4E3"
             },
             "line": {
              "color": "white"
             }
            },
            "type": "table"
           }
          ]
         },
         "layout": {
          "annotationdefaults": {
           "arrowcolor": "#2a3f5f",
           "arrowhead": 0,
           "arrowwidth": 1
          },
          "autotypenumbers": "strict",
          "coloraxis": {
           "colorbar": {
            "outlinewidth": 0,
            "ticks": ""
           }
          },
          "colorscale": {
           "diverging": [
            [
             0,
             "#8e0152"
            ],
            [
             0.1,
             "#c51b7d"
            ],
            [
             0.2,
             "#de77ae"
            ],
            [
             0.3,
             "#f1b6da"
            ],
            [
             0.4,
             "#fde0ef"
            ],
            [
             0.5,
             "#f7f7f7"
            ],
            [
             0.6,
             "#e6f5d0"
            ],
            [
             0.7,
             "#b8e186"
            ],
            [
             0.8,
             "#7fbc41"
            ],
            [
             0.9,
             "#4d9221"
            ],
            [
             1,
             "#276419"
            ]
           ],
           "sequential": [
            [
             0,
             "#0d0887"
            ],
            [
             0.1111111111111111,
             "#46039f"
            ],
            [
             0.2222222222222222,
             "#7201a8"
            ],
            [
             0.3333333333333333,
             "#9c179e"
            ],
            [
             0.4444444444444444,
             "#bd3786"
            ],
            [
             0.5555555555555556,
             "#d8576b"
            ],
            [
             0.6666666666666666,
             "#ed7953"
            ],
            [
             0.7777777777777778,
             "#fb9f3a"
            ],
            [
             0.8888888888888888,
             "#fdca26"
            ],
            [
             1,
             "#f0f921"
            ]
           ],
           "sequentialminus": [
            [
             0,
             "#0d0887"
            ],
            [
             0.1111111111111111,
             "#46039f"
            ],
            [
             0.2222222222222222,
             "#7201a8"
            ],
            [
             0.3333333333333333,
             "#9c179e"
            ],
            [
             0.4444444444444444,
             "#bd3786"
            ],
            [
             0.5555555555555556,
             "#d8576b"
            ],
            [
             0.6666666666666666,
             "#ed7953"
            ],
            [
             0.7777777777777778,
             "#fb9f3a"
            ],
            [
             0.8888888888888888,
             "#fdca26"
            ],
            [
             1,
             "#f0f921"
            ]
           ]
          },
          "colorway": [
           "#636efa",
           "#EF553B",
           "#00cc96",
           "#ab63fa",
           "#FFA15A",
           "#19d3f3",
           "#FF6692",
           "#B6E880",
           "#FF97FF",
           "#FECB52"
          ],
          "font": {
           "color": "#2a3f5f"
          },
          "geo": {
           "bgcolor": "white",
           "lakecolor": "white",
           "landcolor": "#E5ECF6",
           "showlakes": true,
           "showland": true,
           "subunitcolor": "white"
          },
          "hoverlabel": {
           "align": "left"
          },
          "hovermode": "closest",
          "mapbox": {
           "style": "light"
          },
          "paper_bgcolor": "white",
          "plot_bgcolor": "#E5ECF6",
          "polar": {
           "angularaxis": {
            "gridcolor": "white",
            "linecolor": "white",
            "ticks": ""
           },
           "bgcolor": "#E5ECF6",
           "radialaxis": {
            "gridcolor": "white",
            "linecolor": "white",
            "ticks": ""
           }
          },
          "scene": {
           "xaxis": {
            "backgroundcolor": "#E5ECF6",
            "gridcolor": "white",
            "gridwidth": 2,
            "linecolor": "white",
            "showbackground": true,
            "ticks": "",
            "zerolinecolor": "white"
           },
           "yaxis": {
            "backgroundcolor": "#E5ECF6",
            "gridcolor": "white",
            "gridwidth": 2,
            "linecolor": "white",
            "showbackground": true,
            "ticks": "",
            "zerolinecolor": "white"
           },
           "zaxis": {
            "backgroundcolor": "#E5ECF6",
            "gridcolor": "white",
            "gridwidth": 2,
            "linecolor": "white",
            "showbackground": true,
            "ticks": "",
            "zerolinecolor": "white"
           }
          },
          "shapedefaults": {
           "line": {
            "color": "#2a3f5f"
           }
          },
          "ternary": {
           "aaxis": {
            "gridcolor": "white",
            "linecolor": "white",
            "ticks": ""
           },
           "baxis": {
            "gridcolor": "white",
            "linecolor": "white",
            "ticks": ""
           },
           "bgcolor": "#E5ECF6",
           "caxis": {
            "gridcolor": "white",
            "linecolor": "white",
            "ticks": ""
           }
          },
          "title": {
           "x": 0.05
          },
          "xaxis": {
           "automargin": true,
           "gridcolor": "white",
           "linecolor": "white",
           "ticks": "",
           "title": {
            "standoff": 15
           },
           "zerolinecolor": "white",
           "zerolinewidth": 2
          },
          "yaxis": {
           "automargin": true,
           "gridcolor": "white",
           "linecolor": "white",
           "ticks": "",
           "title": {
            "standoff": 15
           },
           "zerolinecolor": "white",
           "zerolinewidth": 2
          }
         }
        },
        "title": {
         "text": "Продажа игр по платформам"
        },
        "yaxis": {
         "range": [
          0,
          1
         ]
        }
       }
      },
      "text/html": [
       "<div>                            <div id=\"d92b6020-29f1-452e-ad53-5a1ca292ceb2\" class=\"plotly-graph-div\" style=\"height:525px; width:100%;\"></div>            <script type=\"text/javascript\">                require([\"plotly\"], function(Plotly) {                    window.PLOTLYENV=window.PLOTLYENV || {};                                    if (document.getElementById(\"d92b6020-29f1-452e-ad53-5a1ca292ceb2\")) {                    Plotly.newPlot(                        \"d92b6020-29f1-452e-ad53-5a1ca292ceb2\",                        [{\"name\":\"3DS\",\"y\":[1.3800000000000001,1.33,1.25,1.11,0.93,0.93,0.8900000000000001,0.87,0.86,0.79,0.75,0.76,0.7500000000000001,0.75,0.7200000000000001,0.6900000000000002,0.63,0.6200000000000001,0.5900000000000001,0.5800000000000001,0.5700000000000001,0.56,0.53,0.53,0.48,0.49,0.48,0.48000000000000004,0.4800000000000001,0.4600000000000001,0.45,0.44000000000000006,0.42999999999999994,0.42000000000000004,0.42,0.38,0.38,0.38,0.36,0.35,0.33,0.32999999999999996,0.33,0.32000000000000006,0.32,0.31,0.31000000000000005,0.31000000000000005,0.29000000000000004,0.29000000000000004,0.29,0.28,0.28,0.27,0.27,0.26,0.26,0.26,0.26,0.25,0.25,0.24000000000000002,0.24,0.24999999999999997,0.24,0.23,0.24,0.23,0.22,0.22,0.21000000000000002,0.22,0.21000000000000002,0.21,0.21,0.2,0.2,0.19,0.18000000000000002,0.19,0.19,0.18,0.18,0.17,0.17,0.17,0.17,0.16,0.16000000000000003,0.16,0.15,0.14,0.15000000000000002,0.15,0.15,0.14,0.14,0.15,0.14,0.13,0.13,0.13,0.13,0.13,0.12,0.12,0.13,0.13,0.11,0.12,0.12,0.11,0.11,0.11,0.11,0.11,0.11,0.1,0.1,0.1,0.09999999999999999,0.1,0.1,0.09999999999999999,0.09999999999999999,0.09,0.09,0.09,0.09,0.09,0.09,0.08,0.09,0.08,0.08,0.08,0.08,0.07,0.08,0.08,0.08,0.08,0.08,0.08,0.08,0.08,0.07,0.07,0.07,0.07,0.08,0.07,0.07,0.07,0.07,0.06999999999999999,0.07,0.07,0.07,0.07,0.07,0.07,0.06,0.07,0.07,0.06999999999999999,0.06,0.06999999999999999,0.06,0.06,0.06,0.06,0.06,0.06,0.06,0.06,0.060000000000000005,0.06,0.06,0.06,0.06,0.05,0.060000000000000005,0.05,0.05,0.05,0.04,0.05,0.05,0.05,0.05,0.04,0.04,0.04,0.04,0.04,0.04,0.04,0.04,0.03,0.03,0.04,0.04,0.04,0.03,0.04,0.04,0.03,0.04,0.03,0.04,0.04,0.03,0.03,0.03,0.03,0.03,0.03,0.03,0.03,0.03,0.03,0.03,0.03,0.03,0.03,0.03,0.03,0.03,0.03,0.03,0.02,0.03,0.03,0.03,0.03,0.03,0.03,0.03,0.03,0.02,0.03,0.02,0.02,0.03,0.02,0.02,0.02,0.02,0.02,0.02,0.02,0.02,0.02,0.02,0.02,0.01,0.01,0.01,0.01,0.01,0.01,0.01,0.01,0.01,0.01,0.01,0.01,0.01,0.01,0.01,0.01,0.01,0.01,0.01,0.01,0.01,0.01,0.01],\"type\":\"box\"},{\"name\":\"XOne\",\"y\":[1.3900000000000001,1.38,1.3800000000000001,1.3599999999999999,1.3399999999999999,1.3399999999999999,1.3,1.2900000000000003,1.29,1.2800000000000002,1.23,1.21,1.2000000000000002,1.1600000000000001,1.1300000000000001,1.08,1.06,1.05,1.03,0.93,0.8999999999999999,0.91,0.88,0.8,0.79,0.76,0.75,0.75,0.69,0.6799999999999999,0.7,0.6800000000000002,0.6599999999999999,0.6599999999999999,0.6599999999999999,0.6400000000000001,0.6300000000000001,0.6200000000000001,0.61,0.6000000000000001,0.5900000000000001,0.5700000000000001,0.5700000000000001,0.56,0.56,0.55,0.53,0.53,0.49999999999999994,0.48000000000000004,0.4799999999999999,0.48,0.47,0.45999999999999996,0.45,0.44999999999999996,0.44,0.43,0.44,0.42,0.41,0.41,0.41,0.38999999999999996,0.37,0.36,0.36,0.33999999999999997,0.33999999999999997,0.33999999999999997,0.33999999999999997,0.31999999999999995,0.31999999999999995,0.31000000000000005,0.31000000000000005,0.31000000000000005,0.29000000000000004,0.28,0.27,0.27,0.26,0.26,0.25,0.24999999999999997,0.24,0.24000000000000002,0.24000000000000002,0.24000000000000002,0.24000000000000002,0.23,0.22,0.22,0.22,0.21,0.21,0.21,0.19999999999999998,0.19999999999999998,0.21,0.19999999999999998,0.19999999999999998,0.18,0.18,0.18,0.18,0.16,0.16,0.16000000000000003,0.16999999999999998,0.15000000000000002,0.15000000000000002,0.15000000000000002,0.15000000000000002,0.15000000000000002,0.15000000000000002,0.14,0.14,0.14,0.14,0.14,0.13,0.13,0.13,0.13,0.13,0.12,0.12,0.12000000000000001,0.12,0.11,0.11,0.10999999999999999,0.11,0.11,0.09999999999999999,0.1,0.09999999999999999,0.09999999999999999,0.09,0.08,0.08,0.08,0.08,0.08,0.08,0.07,0.06999999999999999,0.07,0.06999999999999999,0.060000000000000005,0.06,0.05,0.060000000000000005,0.060000000000000005,0.060000000000000005,0.05,0.05,0.05,0.05,0.060000000000000005,0.060000000000000005,0.05,0.04,0.04,0.04,0.04,0.04,0.04,0.04,0.04,0.03,0.03,0.03,0.03,0.03,0.03,0.03,0.02,0.02,0.02,0.02,0.02,0.02,0.02,0.02,0.01,0.02,0.02,0.02,0.02,0.02,0.01,0.01,0.01,0.01,0.01,0.01,0.01,0.01,0.01,0.01,0.01,0.01,0.01,0.01,0.01,0.01,0.01,0.01,0.01,0.01,0.01,0.01,0.01,0.01],\"type\":\"box\"},{\"name\":\"PC\",\"y\":[1.36,1.2800000000000002,1.1900000000000002,1.1700000000000002,0.9000000000000001,0.73,0.72,0.7200000000000001,0.6900000000000001,0.6599999999999999,0.6599999999999999,0.65,0.65,0.63,0.63,0.6300000000000001,0.56,0.55,0.55,0.53,0.52,0.47,0.47,0.44999999999999996,0.44000000000000006,0.41,0.41000000000000003,0.4,0.38,0.36,0.35,0.35000000000000003,0.35,0.32000000000000006,0.31000000000000005,0.28,0.29000000000000004,0.28,0.26,0.26,0.25,0.24,0.24,0.22999999999999998,0.23,0.22,0.22,0.22,0.2,0.2,0.19999999999999998,0.19999999999999998,0.18000000000000002,0.18999999999999997,0.19999999999999998,0.18000000000000002,0.18999999999999997,0.18,0.17,0.17,0.16,0.16,0.16000000000000003,0.15000000000000002,0.15000000000000002,0.14,0.14,0.13,0.13,0.13,0.13,0.12,0.12000000000000001,0.12,0.12,0.11,0.09999999999999999,0.11,0.11,0.09999999999999999,0.09999999999999999,0.09999999999999999,0.09,0.09999999999999999,0.08,0.08,0.08,0.09,0.08,0.08,0.08,0.08,0.07,0.07,0.06,0.06999999999999999,0.060000000000000005,0.06,0.06,0.06,0.05,0.05,0.05,0.05,0.05,0.05,0.05,0.05,0.05,0.05,0.05,0.04,0.05,0.05,0.04,0.04,0.04,0.04,0.04,0.04,0.04,0.04,0.04,0.03,0.03,0.03,0.03,0.03,0.03,0.03,0.03,0.03,0.03,0.03,0.03,0.03,0.03,0.03,0.03,0.02,0.03,0.03,0.02,0.02,0.02,0.02,0.02,0.02,0.02,0.02,0.02,0.02,0.02,0.02,0.02,0.02,0.02,0.02,0.02,0.01,0.01,0.01,0.01,0.01,0.01,0.01,0.01,0.01,0.01,0.01,0.01,0.01,0.01,0.01,0.01,0.01,0.01,0.01,0.01,0.01,0.01,0.01,0.01,0.01,0.01,0.01],\"type\":\"box\"},{\"name\":\"PS4\",\"y\":[1.3199999999999998,1.2699999999999998,1.21,1.17,1.15,1.14,1.13,1.1199999999999999,1.1,1.0799999999999998,1.05,1.02,0.98,0.9700000000000001,0.9400000000000001,0.93,0.92,0.93,0.92,0.9,0.9,0.91,0.89,0.88,0.86,0.8200000000000001,0.78,0.7600000000000001,0.75,0.75,0.7300000000000001,0.73,0.73,0.73,0.72,0.73,0.7,0.71,0.6900000000000001,0.6900000000000001,0.67,0.67,0.66,0.64,0.64,0.63,0.63,0.62,0.61,0.61,0.6,0.6,0.6,0.54,0.56,0.51,0.52,0.49000000000000005,0.47000000000000003,0.46,0.45,0.44,0.43,0.43,0.43,0.42,0.42,0.4,0.4,0.38999999999999996,0.39999999999999997,0.4,0.39999999999999997,0.38,0.37999999999999995,0.39,0.38,0.38,0.37,0.37,0.37000000000000005,0.36000000000000004,0.36,0.36000000000000004,0.36000000000000004,0.35000000000000003,0.36,0.34,0.34,0.33999999999999997,0.34,0.33,0.33999999999999997,0.32,0.32,0.3,0.3,0.31,0.3,0.3,0.3,0.29,0.28,0.27999999999999997,0.29000000000000004,0.29000000000000004,0.27,0.27,0.26,0.26,0.26,0.26,0.24000000000000002,0.25,0.25,0.24000000000000002,0.24000000000000002,0.24000000000000002,0.24000000000000002,0.23,0.23,0.23,0.23,0.22,0.21000000000000002,0.21000000000000002,0.19999999999999998,0.2,0.2,0.19999999999999998,0.2,0.2,0.19999999999999998,0.19,0.19,0.19999999999999998,0.19,0.18,0.18,0.18,0.18000000000000002,0.17,0.17,0.16999999999999998,0.16,0.17,0.16999999999999998,0.16,0.16,0.16,0.15,0.15,0.13999999999999999,0.15,0.14,0.13999999999999999,0.13999999999999999,0.13999999999999999,0.13,0.13,0.12000000000000001,0.13,0.12,0.12,0.12000000000000001,0.11,0.11,0.12,0.12000000000000001,0.12000000000000001,0.12000000000000001,0.11,0.09999999999999999,0.11,0.1,0.09,0.1,0.09,0.1,0.1,0.1,0.09999999999999999,0.09,0.09,0.1,0.09000000000000001,0.08,0.09,0.09,0.09,0.09,0.08,0.08,0.08,0.08,0.08,0.08,0.08,0.06999999999999999,0.09,0.09000000000000001,0.08,0.06999999999999999,0.06999999999999999,0.08,0.07,0.08,0.08,0.08,0.06999999999999999,0.07,0.06999999999999999,0.07,0.060000000000000005,0.06999999999999999,0.07,0.06999999999999999,0.060000000000000005,0.060000000000000005,0.060000000000000005,0.060000000000000005,0.06999999999999999,0.06,0.06,0.06,0.060000000000000005,0.060000000000000005,0.060000000000000005,0.060000000000000005,0.06,0.060000000000000005,0.05,0.05,0.05,0.05,0.060000000000000005,0.05,0.05,0.05,0.05,0.05,0.05,0.04,0.05,0.05,0.05,0.05,0.05,0.05,0.05,0.05,0.04,0.03,0.05,0.04,0.04,0.04,0.04,0.04,0.04,0.04,0.04,0.03,0.03,0.03,0.04,0.03,0.03,0.03,0.04,0.03,0.03,0.03,0.03,0.03,0.02,0.02,0.02,0.03,0.03,0.02,0.02,0.02,0.02,0.02,0.02,0.02,0.02,0.02,0.02,0.02,0.02,0.02,0.02,0.02,0.02,0.02,0.02,0.02,0.02,0.01,0.01,0.01,0.02,0.02,0.01,0.01,0.01,0.02,0.02,0.02,0.01,0.02,0.01,0.01,0.01,0.01,0.01,0.01,0.01,0.01,0.01,0.01,0.01,0.01,0.01],\"type\":\"box\"},{\"name\":\"WiiU\",\"y\":[1.3,1.23,1.1900000000000002,1.12,1.1,1.03,1.01,0.84,0.8400000000000001,0.78,0.76,0.74,0.73,0.7,0.6700000000000002,0.6600000000000001,0.6499999999999999,0.6400000000000001,0.6000000000000001,0.5900000000000001,0.5800000000000001,0.5700000000000001,0.53,0.52,0.51,0.48,0.45999999999999996,0.45999999999999996,0.44000000000000006,0.42000000000000004,0.42000000000000004,0.41,0.4,0.39,0.38,0.37,0.35,0.34,0.31000000000000005,0.31000000000000005,0.29000000000000004,0.27,0.27,0.24999999999999997,0.24,0.24,0.22,0.2,0.18999999999999997,0.18999999999999997,0.18000000000000002,0.19,0.18999999999999997,0.15000000000000002,0.13,0.12,0.12000000000000001,0.11,0.11,0.12,0.11,0.11,0.09999999999999999,0.09999999999999999,0.09999999999999999,0.09,0.09999999999999999,0.09,0.09,0.08,0.09,0.07999999999999999,0.06999999999999999,0.06,0.06,0.06999999999999999,0.060000000000000005,0.06999999999999999,0.05,0.04,0.05,0.05,0.05,0.03,0.03,0.03,0.03,0.03,0.03,0.02,0.02,0.02,0.02,0.02,0.02,0.02,0.02,0.02,0.01,0.01,0.01,0.01,0.01,0.01,0.01],\"type\":\"box\"},{\"name\":\"PSV\",\"y\":[0.8000000000000002,0.8,0.65,0.64,0.6200000000000001,0.6,0.51,0.51,0.45,0.43000000000000005,0.41000000000000003,0.41000000000000003,0.38,0.36,0.36,0.35000000000000003,0.33,0.33,0.32,0.31,0.3,0.3,0.30000000000000004,0.29000000000000004,0.25,0.23,0.23,0.22000000000000003,0.22999999999999998,0.22,0.22,0.21,0.21,0.21000000000000002,0.2,0.19,0.19,0.19,0.19,0.18000000000000002,0.19,0.18,0.18,0.18,0.16999999999999998,0.17,0.17,0.17,0.16,0.17,0.17,0.16,0.15000000000000002,0.16,0.15,0.15,0.14,0.15,0.15000000000000002,0.14,0.14,0.14,0.13,0.13,0.13,0.12,0.13,0.13,0.12000000000000001,0.13,0.13,0.13,0.12000000000000001,0.12,0.12,0.11,0.12,0.12,0.12000000000000001,0.11,0.12000000000000001,0.11,0.11,0.11,0.11,0.11,0.11,0.11,0.11,0.1,0.11,0.1,0.09999999999999999,0.11,0.1,0.1,0.1,0.1,0.1,0.09999999999999999,0.1,0.09,0.09999999999999999,0.09000000000000001,0.09,0.09,0.09,0.09,0.09,0.09,0.09,0.09,0.09,0.08,0.08,0.08,0.08,0.08,0.08,0.07,0.07,0.07,0.07,0.08,0.07,0.06999999999999999,0.07,0.06999999999999999,0.06999999999999999,0.06999999999999999,0.07,0.07,0.07,0.06999999999999999,0.06,0.06,0.06999999999999999,0.06,0.06,0.06,0.06,0.060000000000000005,0.060000000000000005,0.06999999999999999,0.06,0.06,0.06,0.06,0.06,0.060000000000000005,0.06,0.06,0.06,0.06,0.06,0.05,0.05,0.05,0.05,0.060000000000000005,0.05,0.05,0.05,0.05,0.05,0.05,0.05,0.05,0.05,0.05,0.05,0.05,0.05,0.05,0.05,0.05,0.04,0.04,0.04,0.04,0.04,0.05,0.04,0.04,0.04,0.04,0.04,0.04,0.04,0.04,0.04,0.04,0.03,0.04,0.03,0.03,0.03,0.03,0.04,0.03,0.03,0.03,0.03,0.03,0.03,0.03,0.04,0.03,0.03,0.03,0.03,0.03,0.03,0.03,0.03,0.03,0.03,0.03,0.03,0.03,0.03,0.03,0.03,0.03,0.03,0.03,0.03,0.03,0.03,0.03,0.03,0.03,0.03,0.03,0.03,0.03,0.02,0.03,0.03,0.03,0.03,0.03,0.03,0.03,0.02,0.02,0.02,0.02,0.02,0.02,0.02,0.02,0.02,0.02,0.02,0.02,0.02,0.02,0.02,0.02,0.02,0.02,0.02,0.02,0.02,0.02,0.02,0.02,0.02,0.02,0.02,0.01,0.01,0.02,0.02,0.02,0.02,0.02,0.02,0.02,0.02,0.02,0.02,0.02,0.02,0.02,0.02,0.02,0.02,0.02,0.02,0.02,0.02,0.02,0.02,0.02,0.02,0.02,0.02,0.02,0.01,0.02,0.02,0.02,0.02,0.02,0.01,0.01,0.01,0.01,0.01,0.01,0.01,0.01,0.01,0.01,0.01,0.01,0.01,0.01,0.01,0.01,0.01,0.01,0.01,0.01,0.01,0.01,0.01,0.01,0.01,0.01,0.01,0.01,0.01,0.01,0.01,0.01,0.01,0.01,0.01,0.01,0.01,0.01,0.01,0.01,0.01,0.01,0.01,0.01,0.01,0.01,0.01,0.01,0.01,0.01,0.01],\"type\":\"box\"}],                        {\"template\":{\"data\":{\"barpolar\":[{\"marker\":{\"line\":{\"color\":\"#E5ECF6\",\"width\":0.5},\"pattern\":{\"fillmode\":\"overlay\",\"size\":10,\"solidity\":0.2}},\"type\":\"barpolar\"}],\"bar\":[{\"error_x\":{\"color\":\"#2a3f5f\"},\"error_y\":{\"color\":\"#2a3f5f\"},\"marker\":{\"line\":{\"color\":\"#E5ECF6\",\"width\":0.5},\"pattern\":{\"fillmode\":\"overlay\",\"size\":10,\"solidity\":0.2}},\"type\":\"bar\"}],\"carpet\":[{\"aaxis\":{\"endlinecolor\":\"#2a3f5f\",\"gridcolor\":\"white\",\"linecolor\":\"white\",\"minorgridcolor\":\"white\",\"startlinecolor\":\"#2a3f5f\"},\"baxis\":{\"endlinecolor\":\"#2a3f5f\",\"gridcolor\":\"white\",\"linecolor\":\"white\",\"minorgridcolor\":\"white\",\"startlinecolor\":\"#2a3f5f\"},\"type\":\"carpet\"}],\"choropleth\":[{\"colorbar\":{\"outlinewidth\":0,\"ticks\":\"\"},\"type\":\"choropleth\"}],\"contourcarpet\":[{\"colorbar\":{\"outlinewidth\":0,\"ticks\":\"\"},\"type\":\"contourcarpet\"}],\"contour\":[{\"colorbar\":{\"outlinewidth\":0,\"ticks\":\"\"},\"colorscale\":[[0.0,\"#0d0887\"],[0.1111111111111111,\"#46039f\"],[0.2222222222222222,\"#7201a8\"],[0.3333333333333333,\"#9c179e\"],[0.4444444444444444,\"#bd3786\"],[0.5555555555555556,\"#d8576b\"],[0.6666666666666666,\"#ed7953\"],[0.7777777777777778,\"#fb9f3a\"],[0.8888888888888888,\"#fdca26\"],[1.0,\"#f0f921\"]],\"type\":\"contour\"}],\"heatmapgl\":[{\"colorbar\":{\"outlinewidth\":0,\"ticks\":\"\"},\"colorscale\":[[0.0,\"#0d0887\"],[0.1111111111111111,\"#46039f\"],[0.2222222222222222,\"#7201a8\"],[0.3333333333333333,\"#9c179e\"],[0.4444444444444444,\"#bd3786\"],[0.5555555555555556,\"#d8576b\"],[0.6666666666666666,\"#ed7953\"],[0.7777777777777778,\"#fb9f3a\"],[0.8888888888888888,\"#fdca26\"],[1.0,\"#f0f921\"]],\"type\":\"heatmapgl\"}],\"heatmap\":[{\"colorbar\":{\"outlinewidth\":0,\"ticks\":\"\"},\"colorscale\":[[0.0,\"#0d0887\"],[0.1111111111111111,\"#46039f\"],[0.2222222222222222,\"#7201a8\"],[0.3333333333333333,\"#9c179e\"],[0.4444444444444444,\"#bd3786\"],[0.5555555555555556,\"#d8576b\"],[0.6666666666666666,\"#ed7953\"],[0.7777777777777778,\"#fb9f3a\"],[0.8888888888888888,\"#fdca26\"],[1.0,\"#f0f921\"]],\"type\":\"heatmap\"}],\"histogram2dcontour\":[{\"colorbar\":{\"outlinewidth\":0,\"ticks\":\"\"},\"colorscale\":[[0.0,\"#0d0887\"],[0.1111111111111111,\"#46039f\"],[0.2222222222222222,\"#7201a8\"],[0.3333333333333333,\"#9c179e\"],[0.4444444444444444,\"#bd3786\"],[0.5555555555555556,\"#d8576b\"],[0.6666666666666666,\"#ed7953\"],[0.7777777777777778,\"#fb9f3a\"],[0.8888888888888888,\"#fdca26\"],[1.0,\"#f0f921\"]],\"type\":\"histogram2dcontour\"}],\"histogram2d\":[{\"colorbar\":{\"outlinewidth\":0,\"ticks\":\"\"},\"colorscale\":[[0.0,\"#0d0887\"],[0.1111111111111111,\"#46039f\"],[0.2222222222222222,\"#7201a8\"],[0.3333333333333333,\"#9c179e\"],[0.4444444444444444,\"#bd3786\"],[0.5555555555555556,\"#d8576b\"],[0.6666666666666666,\"#ed7953\"],[0.7777777777777778,\"#fb9f3a\"],[0.8888888888888888,\"#fdca26\"],[1.0,\"#f0f921\"]],\"type\":\"histogram2d\"}],\"histogram\":[{\"marker\":{\"pattern\":{\"fillmode\":\"overlay\",\"size\":10,\"solidity\":0.2}},\"type\":\"histogram\"}],\"mesh3d\":[{\"colorbar\":{\"outlinewidth\":0,\"ticks\":\"\"},\"type\":\"mesh3d\"}],\"parcoords\":[{\"line\":{\"colorbar\":{\"outlinewidth\":0,\"ticks\":\"\"}},\"type\":\"parcoords\"}],\"pie\":[{\"automargin\":true,\"type\":\"pie\"}],\"scatter3d\":[{\"line\":{\"colorbar\":{\"outlinewidth\":0,\"ticks\":\"\"}},\"marker\":{\"colorbar\":{\"outlinewidth\":0,\"ticks\":\"\"}},\"type\":\"scatter3d\"}],\"scattercarpet\":[{\"marker\":{\"colorbar\":{\"outlinewidth\":0,\"ticks\":\"\"}},\"type\":\"scattercarpet\"}],\"scattergeo\":[{\"marker\":{\"colorbar\":{\"outlinewidth\":0,\"ticks\":\"\"}},\"type\":\"scattergeo\"}],\"scattergl\":[{\"marker\":{\"colorbar\":{\"outlinewidth\":0,\"ticks\":\"\"}},\"type\":\"scattergl\"}],\"scattermapbox\":[{\"marker\":{\"colorbar\":{\"outlinewidth\":0,\"ticks\":\"\"}},\"type\":\"scattermapbox\"}],\"scatterpolargl\":[{\"marker\":{\"colorbar\":{\"outlinewidth\":0,\"ticks\":\"\"}},\"type\":\"scatterpolargl\"}],\"scatterpolar\":[{\"marker\":{\"colorbar\":{\"outlinewidth\":0,\"ticks\":\"\"}},\"type\":\"scatterpolar\"}],\"scatter\":[{\"marker\":{\"colorbar\":{\"outlinewidth\":0,\"ticks\":\"\"}},\"type\":\"scatter\"}],\"scatterternary\":[{\"marker\":{\"colorbar\":{\"outlinewidth\":0,\"ticks\":\"\"}},\"type\":\"scatterternary\"}],\"surface\":[{\"colorbar\":{\"outlinewidth\":0,\"ticks\":\"\"},\"colorscale\":[[0.0,\"#0d0887\"],[0.1111111111111111,\"#46039f\"],[0.2222222222222222,\"#7201a8\"],[0.3333333333333333,\"#9c179e\"],[0.4444444444444444,\"#bd3786\"],[0.5555555555555556,\"#d8576b\"],[0.6666666666666666,\"#ed7953\"],[0.7777777777777778,\"#fb9f3a\"],[0.8888888888888888,\"#fdca26\"],[1.0,\"#f0f921\"]],\"type\":\"surface\"}],\"table\":[{\"cells\":{\"fill\":{\"color\":\"#EBF0F8\"},\"line\":{\"color\":\"white\"}},\"header\":{\"fill\":{\"color\":\"#C8D4E3\"},\"line\":{\"color\":\"white\"}},\"type\":\"table\"}]},\"layout\":{\"annotationdefaults\":{\"arrowcolor\":\"#2a3f5f\",\"arrowhead\":0,\"arrowwidth\":1},\"autotypenumbers\":\"strict\",\"coloraxis\":{\"colorbar\":{\"outlinewidth\":0,\"ticks\":\"\"}},\"colorscale\":{\"diverging\":[[0,\"#8e0152\"],[0.1,\"#c51b7d\"],[0.2,\"#de77ae\"],[0.3,\"#f1b6da\"],[0.4,\"#fde0ef\"],[0.5,\"#f7f7f7\"],[0.6,\"#e6f5d0\"],[0.7,\"#b8e186\"],[0.8,\"#7fbc41\"],[0.9,\"#4d9221\"],[1,\"#276419\"]],\"sequential\":[[0.0,\"#0d0887\"],[0.1111111111111111,\"#46039f\"],[0.2222222222222222,\"#7201a8\"],[0.3333333333333333,\"#9c179e\"],[0.4444444444444444,\"#bd3786\"],[0.5555555555555556,\"#d8576b\"],[0.6666666666666666,\"#ed7953\"],[0.7777777777777778,\"#fb9f3a\"],[0.8888888888888888,\"#fdca26\"],[1.0,\"#f0f921\"]],\"sequentialminus\":[[0.0,\"#0d0887\"],[0.1111111111111111,\"#46039f\"],[0.2222222222222222,\"#7201a8\"],[0.3333333333333333,\"#9c179e\"],[0.4444444444444444,\"#bd3786\"],[0.5555555555555556,\"#d8576b\"],[0.6666666666666666,\"#ed7953\"],[0.7777777777777778,\"#fb9f3a\"],[0.8888888888888888,\"#fdca26\"],[1.0,\"#f0f921\"]]},\"colorway\":[\"#636efa\",\"#EF553B\",\"#00cc96\",\"#ab63fa\",\"#FFA15A\",\"#19d3f3\",\"#FF6692\",\"#B6E880\",\"#FF97FF\",\"#FECB52\"],\"font\":{\"color\":\"#2a3f5f\"},\"geo\":{\"bgcolor\":\"white\",\"lakecolor\":\"white\",\"landcolor\":\"#E5ECF6\",\"showlakes\":true,\"showland\":true,\"subunitcolor\":\"white\"},\"hoverlabel\":{\"align\":\"left\"},\"hovermode\":\"closest\",\"mapbox\":{\"style\":\"light\"},\"paper_bgcolor\":\"white\",\"plot_bgcolor\":\"#E5ECF6\",\"polar\":{\"angularaxis\":{\"gridcolor\":\"white\",\"linecolor\":\"white\",\"ticks\":\"\"},\"bgcolor\":\"#E5ECF6\",\"radialaxis\":{\"gridcolor\":\"white\",\"linecolor\":\"white\",\"ticks\":\"\"}},\"scene\":{\"xaxis\":{\"backgroundcolor\":\"#E5ECF6\",\"gridcolor\":\"white\",\"gridwidth\":2,\"linecolor\":\"white\",\"showbackground\":true,\"ticks\":\"\",\"zerolinecolor\":\"white\"},\"yaxis\":{\"backgroundcolor\":\"#E5ECF6\",\"gridcolor\":\"white\",\"gridwidth\":2,\"linecolor\":\"white\",\"showbackground\":true,\"ticks\":\"\",\"zerolinecolor\":\"white\"},\"zaxis\":{\"backgroundcolor\":\"#E5ECF6\",\"gridcolor\":\"white\",\"gridwidth\":2,\"linecolor\":\"white\",\"showbackground\":true,\"ticks\":\"\",\"zerolinecolor\":\"white\"}},\"shapedefaults\":{\"line\":{\"color\":\"#2a3f5f\"}},\"ternary\":{\"aaxis\":{\"gridcolor\":\"white\",\"linecolor\":\"white\",\"ticks\":\"\"},\"baxis\":{\"gridcolor\":\"white\",\"linecolor\":\"white\",\"ticks\":\"\"},\"bgcolor\":\"#E5ECF6\",\"caxis\":{\"gridcolor\":\"white\",\"linecolor\":\"white\",\"ticks\":\"\"}},\"title\":{\"x\":0.05},\"xaxis\":{\"automargin\":true,\"gridcolor\":\"white\",\"linecolor\":\"white\",\"ticks\":\"\",\"title\":{\"standoff\":15},\"zerolinecolor\":\"white\",\"zerolinewidth\":2},\"yaxis\":{\"automargin\":true,\"gridcolor\":\"white\",\"linecolor\":\"white\",\"ticks\":\"\",\"title\":{\"standoff\":15},\"zerolinecolor\":\"white\",\"zerolinewidth\":2}}},\"title\":{\"text\":\"\\u041f\\u0440\\u043e\\u0434\\u0430\\u0436\\u0430 \\u0438\\u0433\\u0440 \\u043f\\u043e \\u043f\\u043b\\u0430\\u0442\\u0444\\u043e\\u0440\\u043c\\u0430\\u043c\"},\"yaxis\":{\"range\":[0,1]}},                        {\"responsive\": true}                    ).then(function(){\n",
       "                            \n",
       "var gd = document.getElementById('d92b6020-29f1-452e-ad53-5a1ca292ceb2');\n",
       "var x = new MutationObserver(function (mutations, observer) {{\n",
       "        var display = window.getComputedStyle(gd).display;\n",
       "        if (!display || display === 'none') {{\n",
       "            console.log([gd, 'removed!']);\n",
       "            Plotly.purge(gd);\n",
       "            observer.disconnect();\n",
       "        }}\n",
       "}});\n",
       "\n",
       "// Listen for the removal of the full notebook cells\n",
       "var notebookContainer = gd.closest('#notebook-container');\n",
       "if (notebookContainer) {{\n",
       "    x.observe(notebookContainer, {childList: true});\n",
       "}}\n",
       "\n",
       "// Listen for the clearing of the current output cell\n",
       "var outputEl = gd.closest('.output');\n",
       "if (outputEl) {{\n",
       "    x.observe(outputEl, {childList: true});\n",
       "}}\n",
       "\n",
       "                        })                };                });            </script>        </div>"
      ]
     },
     "metadata": {},
     "output_type": "display_data"
    }
   ],
   "source": [
    "data = []\n",
    "\n",
    "for platform in games_top_6_platforms['platform'].unique():\n",
    "    data.append(\n",
    "        go.Box(y=games_top_6_platforms[games_top_6_platforms.platform==platform]['total_sales'], \n",
    "               name=platform )\n",
    "    )\n",
    "    \n",
    "layout = {'title': 'Продажа игр по платформам'}\n",
    "fig = go.Figure(data=data, layout=layout)\n",
    "\n",
    "fig.update_layout(yaxis=dict(range=[0,1])) #  масштаб по оси y\n",
    "\n",
    "iplot(fig, show_link = False)"
   ]
  },
  {
   "cell_type": "markdown",
   "metadata": {},
   "source": [
    "Вывод: \n",
    "\n",
    "Наибольшие медианные продажи у платформы WiiU, далее у XOne и PS4;\n",
    "\n",
    "Положение XOne и PS4 можно объяснить тем, что данные приставки позднее остальных вышли на рынки;\n",
    "\n",
    "Почти у всех платформ есть много выбросов,наверное это игры, которые многим нравились; \n",
    "\n",
    "Компьютерные игры (PC) стоят дешевле консольных и приставки  более приспособлены для игр."
   ]
  },
  {
   "cell_type": "markdown",
   "metadata": {},
   "source": [
    "# Как влияют на продажи внутри одной популярной платформы отзывы пользователей и критиков. Построем диаграмму рассеяния и посчитаем корреляцию между отзывами и продажами. Сформулируем выводы.\n"
   ]
  },
  {
   "cell_type": "markdown",
   "metadata": {},
   "source": [
    "В качестве платформы выбираю PS4"
   ]
  },
  {
   "cell_type": "code",
   "execution_count": 77,
   "metadata": {},
   "outputs": [
    {
     "name": "stdout",
     "output_type": "stream",
     "text": [
      "Диаграмма рассеяния для платформы PS4\n"
     ]
    },
    {
     "data": {
      "image/png": "[encoded data removed]",
      "text/plain": [
       "<Figure size 540x540 with 12 Axes>"
      ]
     },
     "metadata": {},
     "output_type": "display_data"
    }
   ],
   "source": [
    "print(\"Диаграмма рассеяния для платформы PS4\")\n",
    "sns.pairplot(games[games.platform == \"PS4\"][['total_sales', 'critic_score', 'user_score']])\n",
    "plt.show()"
   ]
  },
  {
   "cell_type": "markdown",
   "metadata": {},
   "source": [
    "вывод:судя по диаграмме, чем лучше рейтинг, тем игра лучше, поэтому и  больше продаж.\n",
    "       Имеются  и \"аномалии\" в столбце user_score: есть игры, имеющие высокую оценку пользователей, \n",
    "       но при этом низкие продажи."
   ]
  },
  {
   "cell_type": "markdown",
   "metadata": {},
   "source": [
    "Матрица корреляций:"
   ]
  },
  {
   "cell_type": "code",
   "execution_count": 78,
   "metadata": {},
   "outputs": [
    {
     "data": {
      "text/html": [
       "<div>\n",
       "<style scoped>\n",
       "    .dataframe tbody tr th:only-of-type {\n",
       "        vertical-align: middle;\n",
       "    }\n",
       "\n",
       "    .dataframe tbody tr th {\n",
       "        vertical-align: top;\n",
       "    }\n",
       "\n",
       "    .dataframe thead th {\n",
       "        text-align: right;\n",
       "    }\n",
       "</style>\n",
       "<table border=\"1\" class=\"dataframe\">\n",
       "  <thead>\n",
       "    <tr style=\"text-align: right;\">\n",
       "      <th></th>\n",
       "      <th>total_sales</th>\n",
       "      <th>critic_score</th>\n",
       "      <th>user_score</th>\n",
       "    </tr>\n",
       "  </thead>\n",
       "  <tbody>\n",
       "    <tr>\n",
       "      <th>total_sales</th>\n",
       "      <td>1.000000</td>\n",
       "      <td>0.406568</td>\n",
       "      <td>-0.031957</td>\n",
       "    </tr>\n",
       "    <tr>\n",
       "      <th>critic_score</th>\n",
       "      <td>0.406568</td>\n",
       "      <td>1.000000</td>\n",
       "      <td>0.557654</td>\n",
       "    </tr>\n",
       "    <tr>\n",
       "      <th>user_score</th>\n",
       "      <td>-0.031957</td>\n",
       "      <td>0.557654</td>\n",
       "      <td>1.000000</td>\n",
       "    </tr>\n",
       "  </tbody>\n",
       "</table>\n",
       "</div>"
      ],
      "text/plain": [
       "              total_sales  critic_score  user_score\n",
       "total_sales      1.000000      0.406568   -0.031957\n",
       "critic_score     0.406568      1.000000    0.557654\n",
       "user_score      -0.031957      0.557654    1.000000"
      ]
     },
     "execution_count": 78,
     "metadata": {},
     "output_type": "execute_result"
    }
   ],
   "source": [
    "games[games.platform == \"PS4\"][['total_sales', 'critic_score', 'user_score']].corr()"
   ]
  },
  {
   "cell_type": "code",
   "execution_count": 79,
   "metadata": {},
   "outputs": [
    {
     "name": "stdout",
     "output_type": "stream",
     "text": [
      "<class 'pandas.core.frame.DataFrame'>\n",
      "Int64Index: 2233 entries, 16 to 16714\n",
      "Data columns (total 12 columns):\n",
      " #   Column           Non-Null Count  Dtype  \n",
      "---  ------           --------------  -----  \n",
      " 0   name             2233 non-null   object \n",
      " 1   platform         2233 non-null   object \n",
      " 2   year_of_release  2233 non-null   Int64  \n",
      " 3   genre            2233 non-null   object \n",
      " 4   na_sales         2233 non-null   float64\n",
      " 5   eu_sales         2233 non-null   float64\n",
      " 6   jp_sales         2233 non-null   float64\n",
      " 7   other_sales      2233 non-null   float64\n",
      " 8   critic_score     991 non-null    Int64  \n",
      " 9   user_score       1192 non-null   float64\n",
      " 10  rating           2233 non-null   object \n",
      " 11  total_sales      2233 non-null   float64\n",
      "dtypes: Int64(2), float64(6), object(4)\n",
      "memory usage: 231.2+ KB\n"
     ]
    }
   ],
   "source": [
    "games.info()"
   ]
  },
  {
   "cell_type": "markdown",
   "metadata": {},
   "source": [
    "вывод: корреляции между total_sales и user_score нет;\n",
    "\n",
    "       корреляция между total_sales и critic_score 0.4 (видим эту зависимость на графике).\n",
    "\n"
   ]
  },
  {
   "cell_type": "code",
   "execution_count": 80,
   "metadata": {},
   "outputs": [
    {
     "data": {
      "image/png": "[encoded data removed]",
      "text/plain": [
       "<Figure size 1080x576 with 12 Axes>"
      ]
     },
     "metadata": {},
     "output_type": "display_data"
    }
   ],
   "source": [
    "top_platforms = ['PS4','XOne','PC','WiiU','3DS', 'PSV']\n",
    "\n",
    "rows = len(top_platforms) // 2\n",
    "cols = 2\n",
    "fig, axes = plt.subplots(rows, cols, figsize=(15,8))\n",
    "count = 0\n",
    "for r in range(rows):\n",
    "    for c in range(cols):\n",
    "        curr_platform = top_platforms[count]\n",
    "        df_prep = games[(games['platform'] == curr_platform) & (games['user_score'] > 0)].copy()\n",
    "        \n",
    "        df_filtered = df_prep[['total_sales' ,'critic_score', 'user_score']]\n",
    "        sns.set(font_scale=1.0)\n",
    "        ax = sns.heatmap(df_filtered.corr()[['total_sales']].sort_values(by='total_sales', ascending=False), \n",
    "                         cmap=\"Reds\", annot=True, annot_kws={'size':15}, ax=axes[r,c])\n",
    "        ax.set_title(curr_platform, fontsize=20)\n",
    "        ax.set_yticklabels(ax.get_yticklabels(), rotation=0)\n",
    "        plt.tight_layout(pad=3)\n",
    "        count += 1"
   ]
  },
  {
   "cell_type": "markdown",
   "metadata": {},
   "source": [
    "вывод: по убыванию корреляции critic_score(оценка критиков): PS4, XOne, WiiU, 3DS, PSV,PC;\n",
    "\n",
    "       по убыванию корреляции user_score(оценка пользователей): почти нет связи,  \n",
    "       исключение: WiiU, 3DS(влияют пользователи)."
   ]
  },
  {
   "cell_type": "markdown",
   "metadata": {},
   "source": [
    "# Общее распределение игр по жанрам. Что можно сказать о самых прибыльных жанрах? Выделяются ли жанры с высокими и низкими продажами?"
   ]
  },
  {
   "cell_type": "code",
   "execution_count": 81,
   "metadata": {
    "scrolled": true
   },
   "outputs": [
    {
     "data": {
      "text/html": [
       "<div>\n",
       "<style scoped>\n",
       "    .dataframe tbody tr th:only-of-type {\n",
       "        vertical-align: middle;\n",
       "    }\n",
       "\n",
       "    .dataframe tbody tr th {\n",
       "        vertical-align: top;\n",
       "    }\n",
       "\n",
       "    .dataframe thead th {\n",
       "        text-align: right;\n",
       "    }\n",
       "</style>\n",
       "<table border=\"1\" class=\"dataframe\">\n",
       "  <thead>\n",
       "    <tr style=\"text-align: right;\">\n",
       "      <th></th>\n",
       "      <th>genre</th>\n",
       "      <th>total_sales</th>\n",
       "    </tr>\n",
       "  </thead>\n",
       "  <tbody>\n",
       "    <tr>\n",
       "      <th>0</th>\n",
       "      <td>Action</td>\n",
       "      <td>99.56</td>\n",
       "    </tr>\n",
       "    <tr>\n",
       "      <th>1</th>\n",
       "      <td>Role-Playing</td>\n",
       "      <td>45.83</td>\n",
       "    </tr>\n",
       "    <tr>\n",
       "      <th>2</th>\n",
       "      <td>Shooter</td>\n",
       "      <td>33.31</td>\n",
       "    </tr>\n",
       "    <tr>\n",
       "      <th>3</th>\n",
       "      <td>Sports</td>\n",
       "      <td>32.46</td>\n",
       "    </tr>\n",
       "    <tr>\n",
       "      <th>4</th>\n",
       "      <td>Misc</td>\n",
       "      <td>20.37</td>\n",
       "    </tr>\n",
       "    <tr>\n",
       "      <th>5</th>\n",
       "      <td>Adventure</td>\n",
       "      <td>14.82</td>\n",
       "    </tr>\n",
       "    <tr>\n",
       "      <th>6</th>\n",
       "      <td>Platform</td>\n",
       "      <td>12.55</td>\n",
       "    </tr>\n",
       "    <tr>\n",
       "      <th>7</th>\n",
       "      <td>Fighting</td>\n",
       "      <td>11.49</td>\n",
       "    </tr>\n",
       "    <tr>\n",
       "      <th>8</th>\n",
       "      <td>Racing</td>\n",
       "      <td>9.68</td>\n",
       "    </tr>\n",
       "    <tr>\n",
       "      <th>9</th>\n",
       "      <td>Strategy</td>\n",
       "      <td>7.24</td>\n",
       "    </tr>\n",
       "    <tr>\n",
       "      <th>10</th>\n",
       "      <td>Simulation</td>\n",
       "      <td>7.07</td>\n",
       "    </tr>\n",
       "    <tr>\n",
       "      <th>11</th>\n",
       "      <td>Puzzle</td>\n",
       "      <td>3.13</td>\n",
       "    </tr>\n",
       "  </tbody>\n",
       "</table>\n",
       "</div>"
      ],
      "text/plain": [
       "           genre  total_sales\n",
       "0         Action        99.56\n",
       "1   Role-Playing        45.83\n",
       "2        Shooter        33.31\n",
       "3         Sports        32.46\n",
       "4           Misc        20.37\n",
       "5      Adventure        14.82\n",
       "6       Platform        12.55\n",
       "7       Fighting        11.49\n",
       "8         Racing         9.68\n",
       "9       Strategy         7.24\n",
       "10    Simulation         7.07\n",
       "11        Puzzle         3.13"
      ]
     },
     "execution_count": 81,
     "metadata": {},
     "output_type": "execute_result"
    }
   ],
   "source": [
    "distr_genre = games_top_6_platforms.pivot_table(index='genre', values='total_sales', aggfunc='sum').sort_values(\n",
    "    by='total_sales', ascending=False).reset_index().rename_axis(None, axis=1)\n",
    "\n",
    "distr_genre"
   ]
  },
  {
   "cell_type": "markdown",
   "metadata": {},
   "source": [
    "вывод: явные лидеры- игры жанра Action, затем идут role-playing(ролевые игры) и shooter(стрелялки), далее\n",
    "       sports, misc и adventure;\n",
    "       \n",
    "       cамые непопулярные- игры жанра puzzle (головоломки)"
   ]
  },
  {
   "cell_type": "code",
   "execution_count": 82,
   "metadata": {},
   "outputs": [
    {
     "data": {
      "text/plain": [
       "Text(0, 0.5, 'Продажа')"
      ]
     },
     "execution_count": 82,
     "metadata": {},
     "output_type": "execute_result"
    },
    {
     "data": {
      "image/png": "[encoded data removed]",
      "text/plain": [
       "<Figure size 1080x360 with 1 Axes>"
      ]
     },
     "metadata": {},
     "output_type": "display_data"
    }
   ],
   "source": [
    "plt.figure(figsize=(15,5))\n",
    "plt.title('Распределение игр по жанрам ',fontsize=15)\n",
    "sns.barplot(data=distr_genre, x='genre', y='total_sales')\n",
    "plt.xlabel('Жанр игры',fontsize=15)\n",
    "plt.ylabel('Продажа',fontsize=15)"
   ]
  },
  {
   "cell_type": "code",
   "execution_count": 83,
   "metadata": {
    "scrolled": true
   },
   "outputs": [
    {
     "data": {
      "text/plain": [
       "<matplotlib.legend.Legend at 0x7f0e24eec190>"
      ]
     },
     "execution_count": 83,
     "metadata": {},
     "output_type": "execute_result"
    },
    {
     "data": {
      "image/png": "[encoded data removed]",
      "text/plain": [
       "<Figure size 1080x360 with 1 Axes>"
      ]
     },
     "metadata": {},
     "output_type": "display_data"
    }
   ],
   "source": [
    "ax = plt.gca()\n",
    "\n",
    "pivot = games.groupby('genre').agg({'name': 'count', 'total_sales': 'sum'}).sort_values(by='name', ascending=False)\n",
    "\n",
    "plot1 = pivot['name']\n",
    "plot1.plot(kind='bar', figsize=(15,5), ec='black', ax=ax, width=0.2,color='green', position=1)\n",
    "\n",
    "plot2 = pivot['total_sales']\n",
    "plot2.plot(kind='bar', figsize=(15,5), ec='black', ax=ax, width=0.2, color='red', position=0)\n",
    "\n",
    "ax.legend(['Количество продаж', 'Общая сумма продаж'])"
   ]
  },
  {
   "cell_type": "markdown",
   "metadata": {},
   "source": [
    "сгруппируем по жанрам:"
   ]
  },
  {
   "cell_type": "code",
   "execution_count": 84,
   "metadata": {},
   "outputs": [],
   "source": [
    "ratio_genres = games.groupby('genre').agg({'name': 'count', 'total_sales': 'sum'}).sort_values(by='name', ascending=False)"
   ]
  },
  {
   "cell_type": "markdown",
   "metadata": {},
   "source": [
    "Соотношение выпущенных игр по жанрам к их сумарным продажам (ratio):"
   ]
  },
  {
   "cell_type": "code",
   "execution_count": 85,
   "metadata": {
    "scrolled": false
   },
   "outputs": [
    {
     "data": {
      "text/html": [
       "<div>\n",
       "<style scoped>\n",
       "    .dataframe tbody tr th:only-of-type {\n",
       "        vertical-align: middle;\n",
       "    }\n",
       "\n",
       "    .dataframe tbody tr th {\n",
       "        vertical-align: top;\n",
       "    }\n",
       "\n",
       "    .dataframe thead th {\n",
       "        text-align: right;\n",
       "    }\n",
       "</style>\n",
       "<table border=\"1\" class=\"dataframe\">\n",
       "  <thead>\n",
       "    <tr style=\"text-align: right;\">\n",
       "      <th></th>\n",
       "      <th>name</th>\n",
       "      <th>total_sales</th>\n",
       "      <th>ratio</th>\n",
       "    </tr>\n",
       "    <tr>\n",
       "      <th>genre</th>\n",
       "      <th></th>\n",
       "      <th></th>\n",
       "      <th></th>\n",
       "    </tr>\n",
       "  </thead>\n",
       "  <tbody>\n",
       "    <tr>\n",
       "      <th>Shooter</th>\n",
       "      <td>187</td>\n",
       "      <td>232.98</td>\n",
       "      <td>1.245882</td>\n",
       "    </tr>\n",
       "    <tr>\n",
       "      <th>Sports</th>\n",
       "      <td>214</td>\n",
       "      <td>150.65</td>\n",
       "      <td>0.703972</td>\n",
       "    </tr>\n",
       "    <tr>\n",
       "      <th>Platform</th>\n",
       "      <td>74</td>\n",
       "      <td>42.63</td>\n",
       "      <td>0.576081</td>\n",
       "    </tr>\n",
       "    <tr>\n",
       "      <th>Role-Playing</th>\n",
       "      <td>292</td>\n",
       "      <td>145.89</td>\n",
       "      <td>0.499623</td>\n",
       "    </tr>\n",
       "    <tr>\n",
       "      <th>Racing</th>\n",
       "      <td>85</td>\n",
       "      <td>39.89</td>\n",
       "      <td>0.469294</td>\n",
       "    </tr>\n",
       "    <tr>\n",
       "      <th>Fighting</th>\n",
       "      <td>80</td>\n",
       "      <td>35.31</td>\n",
       "      <td>0.441375</td>\n",
       "    </tr>\n",
       "    <tr>\n",
       "      <th>Action</th>\n",
       "      <td>766</td>\n",
       "      <td>321.87</td>\n",
       "      <td>0.420196</td>\n",
       "    </tr>\n",
       "    <tr>\n",
       "      <th>Misc</th>\n",
       "      <td>155</td>\n",
       "      <td>62.82</td>\n",
       "      <td>0.405290</td>\n",
       "    </tr>\n",
       "    <tr>\n",
       "      <th>Simulation</th>\n",
       "      <td>62</td>\n",
       "      <td>21.76</td>\n",
       "      <td>0.350968</td>\n",
       "    </tr>\n",
       "    <tr>\n",
       "      <th>Puzzle</th>\n",
       "      <td>17</td>\n",
       "      <td>3.17</td>\n",
       "      <td>0.186471</td>\n",
       "    </tr>\n",
       "    <tr>\n",
       "      <th>Strategy</th>\n",
       "      <td>56</td>\n",
       "      <td>10.08</td>\n",
       "      <td>0.180000</td>\n",
       "    </tr>\n",
       "    <tr>\n",
       "      <th>Adventure</th>\n",
       "      <td>245</td>\n",
       "      <td>23.64</td>\n",
       "      <td>0.096490</td>\n",
       "    </tr>\n",
       "  </tbody>\n",
       "</table>\n",
       "</div>"
      ],
      "text/plain": [
       "              name  total_sales     ratio\n",
       "genre                                    \n",
       "Shooter        187       232.98  1.245882\n",
       "Sports         214       150.65  0.703972\n",
       "Platform        74        42.63  0.576081\n",
       "Role-Playing   292       145.89  0.499623\n",
       "Racing          85        39.89  0.469294\n",
       "Fighting        80        35.31  0.441375\n",
       "Action         766       321.87  0.420196\n",
       "Misc           155        62.82  0.405290\n",
       "Simulation      62        21.76  0.350968\n",
       "Puzzle          17         3.17  0.186471\n",
       "Strategy        56        10.08  0.180000\n",
       "Adventure      245        23.64  0.096490"
      ]
     },
     "execution_count": 85,
     "metadata": {},
     "output_type": "execute_result"
    }
   ],
   "source": [
    "ratio_genres['ratio'] = ratio_genres['total_sales'] / ratio_genres['name']\n",
    "ratio_genres.sort_values(by='ratio', ascending=False)"
   ]
  },
  {
   "cell_type": "code",
   "execution_count": 86,
   "metadata": {},
   "outputs": [
    {
     "data": {
      "text/html": [
       "<div>\n",
       "<style scoped>\n",
       "    .dataframe tbody tr th:only-of-type {\n",
       "        vertical-align: middle;\n",
       "    }\n",
       "\n",
       "    .dataframe tbody tr th {\n",
       "        vertical-align: top;\n",
       "    }\n",
       "\n",
       "    .dataframe thead th {\n",
       "        text-align: right;\n",
       "    }\n",
       "</style>\n",
       "<table border=\"1\" class=\"dataframe\">\n",
       "  <thead>\n",
       "    <tr style=\"text-align: right;\">\n",
       "      <th></th>\n",
       "      <th>total_sales</th>\n",
       "    </tr>\n",
       "    <tr>\n",
       "      <th>genre</th>\n",
       "      <th></th>\n",
       "    </tr>\n",
       "  </thead>\n",
       "  <tbody>\n",
       "    <tr>\n",
       "      <th>Action</th>\n",
       "      <td>321.87</td>\n",
       "    </tr>\n",
       "    <tr>\n",
       "      <th>Shooter</th>\n",
       "      <td>232.98</td>\n",
       "    </tr>\n",
       "    <tr>\n",
       "      <th>Sports</th>\n",
       "      <td>150.65</td>\n",
       "    </tr>\n",
       "    <tr>\n",
       "      <th>Role-Playing</th>\n",
       "      <td>145.89</td>\n",
       "    </tr>\n",
       "    <tr>\n",
       "      <th>Misc</th>\n",
       "      <td>62.82</td>\n",
       "    </tr>\n",
       "    <tr>\n",
       "      <th>Platform</th>\n",
       "      <td>42.63</td>\n",
       "    </tr>\n",
       "    <tr>\n",
       "      <th>Racing</th>\n",
       "      <td>39.89</td>\n",
       "    </tr>\n",
       "    <tr>\n",
       "      <th>Fighting</th>\n",
       "      <td>35.31</td>\n",
       "    </tr>\n",
       "    <tr>\n",
       "      <th>Adventure</th>\n",
       "      <td>23.64</td>\n",
       "    </tr>\n",
       "    <tr>\n",
       "      <th>Simulation</th>\n",
       "      <td>21.76</td>\n",
       "    </tr>\n",
       "    <tr>\n",
       "      <th>Strategy</th>\n",
       "      <td>10.08</td>\n",
       "    </tr>\n",
       "    <tr>\n",
       "      <th>Puzzle</th>\n",
       "      <td>3.17</td>\n",
       "    </tr>\n",
       "  </tbody>\n",
       "</table>\n",
       "</div>"
      ],
      "text/plain": [
       "              total_sales\n",
       "genre                    \n",
       "Action             321.87\n",
       "Shooter            232.98\n",
       "Sports             150.65\n",
       "Role-Playing       145.89\n",
       "Misc                62.82\n",
       "Platform            42.63\n",
       "Racing              39.89\n",
       "Fighting            35.31\n",
       "Adventure           23.64\n",
       "Simulation          21.76\n",
       "Strategy            10.08\n",
       "Puzzle               3.17"
      ]
     },
     "execution_count": 86,
     "metadata": {},
     "output_type": "execute_result"
    }
   ],
   "source": [
    "games.pivot_table(index = 'genre', values = 'total_sales', aggfunc = 'sum').sort_values(ascending=False, by = 'total_sales')"
   ]
  },
  {
   "cell_type": "code",
   "execution_count": 87,
   "metadata": {},
   "outputs": [
    {
     "data": {
      "text/plain": [
       "<AxesSubplot:ylabel='total_sales'>"
      ]
     },
     "execution_count": 87,
     "metadata": {},
     "output_type": "execute_result"
    },
    {
     "data": {
      "image/png": "[encoded data removed]",
      "text/plain": [
       "<Figure size 720x720 with 1 Axes>"
      ]
     },
     "metadata": {},
     "output_type": "display_data"
    }
   ],
   "source": [
    "games.pivot_table(index = 'genre', values = 'total_sales', aggfunc = 'sum').sort_values(ascending=False, by = 'total_sales').plot(kind='pie', figsize=(10,10), y= 'total_sales')"
   ]
  },
  {
   "cell_type": "markdown",
   "metadata": {},
   "source": [
    "вывод: самый прибыльный жанр игр- Action, Sports Shooter (стрелялки);\n",
    "    \n",
    "       самый неприбыльный жанр игр- Strategy(стратегия), (Adventure(приключения) \n",
    "       и Puzzle(головоломки)."
   ]
  },
  {
   "cell_type": "markdown",
   "metadata": {},
   "source": []
  },
  {
   "cell_type": "markdown",
   "metadata": {},
   "source": [
    "# 3. Портрет пользователя каждого региона"
   ]
  },
  {
   "cell_type": "markdown",
   "metadata": {},
   "source": [
    "Определить для пользователя каждого региона (NA, EU, JP):\n",
    "\n",
    "-самые популярные платформы (топ-5), опишем различия в долях продаж;\n",
    "\n",
    "-самые популярные жанры (топ-5), поясним разницу;\n",
    "\n",
    "-определить, влияет ли рейтинг ESRB на продажи в отдельном регионе."
   ]
  },
  {
   "cell_type": "markdown",
   "metadata": {},
   "source": [
    "Функция для прорисовки графиков top_in_regions_plot (топ6 платформ)"
   ]
  },
  {
   "cell_type": "code",
   "execution_count": 88,
   "metadata": {},
   "outputs": [],
   "source": [
    "def top_in_regions_plot(groupby, region_sales, ax):\n",
    "    pivot = games.groupby(groupby).agg({region_sales: 'sum'}).sort_values(by=region_sales, ascending=False)[:5]\n",
    "    title_dict = {'na_sales': 'North America Sales', 'eu_sales': 'Europe Sales', 'jp_sales': 'Japan Sales'}\n",
    "    color_dict = {'na_sales': 'pink', 'eu_sales': 'blue', 'jp_sales': 'green'}\n",
    "    plot = pivot.plot(kind='bar', ec='black', title=title_dict[region_sales], ax=axes[ax], \n",
    "                   fontsize=18, color=color_dict[region_sales], rot=20)\n",
    "    plot.legend(prop={'size':17})\n",
    "    plot.set_xlabel('')\n",
    "    plot.title.set_size(20)"
   ]
  },
  {
   "cell_type": "code",
   "execution_count": 89,
   "metadata": {
    "scrolled": true
   },
   "outputs": [
    {
     "name": "stdout",
     "output_type": "stream",
     "text": [
      "Cамые популярные платформы (топ-5)\n"
     ]
    },
    {
     "data": {
      "image/png": "[encoded data removed]",
      "text/plain": [
       "<Figure size 1800x432 with 3 Axes>"
      ]
     },
     "metadata": {},
     "output_type": "display_data"
    }
   ],
   "source": [
    "print ('Cамые популярные платформы (топ-5)')\n",
    "fig, axes = plt.subplots(1, 3, figsize=(25,6))\n",
    "\n",
    "top_in_regions_plot('platform', 'na_sales', 0)\n",
    "top_in_regions_plot('platform', 'eu_sales', 1)\n",
    "top_in_regions_plot('platform', 'jp_sales', 2)"
   ]
  },
  {
   "cell_type": "markdown",
   "metadata": {},
   "source": [
    "Вывод\n",
    "\n",
    "В Северной Америке (North America sales) самые популярыне приставки прошлого PS4, XOne и X360, немного отстает PS3;\n",
    "\n",
    "В Европе(Europe sales) популярны PS4, PS3, далее XOne,X360 и 3DS;\n",
    "\n",
    "В Японии (Japan sales) лидером является 3DS, далее PS3 и PSV, PS4.\n",
    "\n",
    "Различия по популярности платформ в первую очередь зависят от влияния компании-производителя."
   ]
  },
  {
   "cell_type": "markdown",
   "metadata": {},
   "source": [
    "Самый популярный жанр игр в заданных регионах:"
   ]
  },
  {
   "cell_type": "code",
   "execution_count": 90,
   "metadata": {
    "scrolled": true
   },
   "outputs": [
    {
     "data": {
      "image/png": "[encoded data removed]",
      "text/plain": [
       "<Figure size 1800x432 with 3 Axes>"
      ]
     },
     "metadata": {},
     "output_type": "display_data"
    }
   ],
   "source": [
    "fig, axes = plt.subplots(1, 3, figsize=(25,6))\n",
    "\n",
    "top_in_regions_plot('genre', 'na_sales', 0)\n",
    "top_in_regions_plot('genre', 'eu_sales', 1)\n",
    "top_in_regions_plot('genre', 'jp_sales', 2)\n"
   ]
  },
  {
   "cell_type": "markdown",
   "metadata": {},
   "source": [
    "вывод: самые популярные жанры в Северной Америке и Европе одинаковы: лидер-экшены (action) и стрелялки(shooter),\n",
    "       а также спортивные игры (sports);\n",
    "       в Японии же лидер - ролевые игры (role-playing), далее экшены (action)."
   ]
  },
  {
   "cell_type": "markdown",
   "metadata": {},
   "source": [
    "Влияет ли рейтинг ESRB на продажи в отдельном регионе?"
   ]
  },
  {
   "cell_type": "code",
   "execution_count": 91,
   "metadata": {},
   "outputs": [],
   "source": [
    "ESRB_dict = {'E': 'Для всех','EC': '> 6 лет', 'E10+': '> 10 лет', 'M': '> 17 лет', 'T': '> 13 лет', 'AO': 'Для взрослых', 'RP': 'Рейтинг обсуждается', 'undefined': 'Не определен'}\n",
    "games['ESRB_description'] = games[games['rating'].notnull()]['rating'].map(ESRB_dict)"
   ]
  },
  {
   "cell_type": "code",
   "execution_count": 92,
   "metadata": {
    "scrolled": true
   },
   "outputs": [
    {
     "data": {
      "image/png": "[encoded data removed]",
      "text/plain": [
       "<Figure size 1800x432 with 3 Axes>"
      ]
     },
     "metadata": {},
     "output_type": "display_data"
    }
   ],
   "source": [
    "fig, axes = plt.subplots(1, 3, figsize=(25,6))\n",
    "\n",
    "top_in_regions_plot('ESRB_description', 'na_sales', 0)\n",
    "top_in_regions_plot('ESRB_description', 'eu_sales', 1)\n",
    "top_in_regions_plot('ESRB_description', 'jp_sales', 2)"
   ]
  },
  {
   "cell_type": "markdown",
   "metadata": {},
   "source": [
    "вывод:\n",
    "\n",
    "В Северной Америке и в Европе картина практически одинаковая: Большая часть выручки получено с игр \n",
    "  с рейтингом \">17 лет\" , а далее \"для всех\". Вероятно, эти рынки ориентированы больше на взрослых пользователей игр.\n",
    "\n",
    "В Японии иначе: первое место  рейтинг \"Не определен\", вероятно,это связано с тем, что сам по себе рейтнг ESRB принадлежит американской компании, и поэтому не все японские игры проходят его. Также лидируют игры с возрастным рейтингом >13лет, вероятно, компании хотят распространить свое влияние на молодое поколение.\n",
    "                "
   ]
  },
  {
   "cell_type": "markdown",
   "metadata": {},
   "source": [
    "# 4. Проверка гипотез"
   ]
  },
  {
   "cell_type": "markdown",
   "metadata": {},
   "source": [
    "Гипотезы:\n",
    "\n",
    "средние пользовательские рейтинги платформ Xbox One и PC одинаковые;\n",
    "\n",
    "средние пользовательские рейтинги жанров Action и Sports разные.\n"
   ]
  },
  {
   "cell_type": "markdown",
   "metadata": {},
   "source": [
    "Для проверки обеих гипотез будем использовать t-критерий Стьюдента, т.к. в обоих случаях выборки независимы между собой.\n",
    "\n",
    "Определим пороговое значение alpha = 0.05"
   ]
  },
  {
   "cell_type": "markdown",
   "metadata": {},
   "source": [
    "Гипотеза № 1:\n",
    "    \n",
    "средние пользовательские рейтинги платформ Xbox One и PC одинаковые.\n",
    "\n",
    "Н0 (нулевая гипотеза) - средние пользовательские рейтинги платформ Xbox One и PC одинаковые.\n",
    "\n",
    "Н1 (альтернативная гипотеза) - средние пользовательские рейтинги платформ Xbox One и PC отличаются между собой."
   ]
  },
  {
   "cell_type": "markdown",
   "metadata": {},
   "source": [
    "Оценки пользователей платформ  Xbox One и PC:"
   ]
  },
  {
   "cell_type": "code",
   "execution_count": 108,
   "metadata": {},
   "outputs": [
    {
     "name": "stdout",
     "output_type": "stream",
     "text": [
      "Средний пользовательский рейтинг платформы Xbox One: 6.521428571428572\n",
      "Средний пользовательский рейтинг платформы PC: 6.2696774193548395\n",
      "\n"
     ]
    }
   ],
   "source": [
    "XOne = games[(games['platform'] == 'XOne') &  (games['user_score'] > 0)]['user_score']\n",
    "PC = games[(games['platform'] == 'PC') &  (games['user_score'] > 0)]['user_score']\n",
    "print('Средний пользовательский рейтинг платформы Xbox One:', XOne.mean())\n",
    "print('Средний пользовательский рейтинг платформы PC:', PC.mean())\n",
    "print()\n"
   ]
  },
  {
   "cell_type": "code",
   "execution_count": 109,
   "metadata": {},
   "outputs": [
    {
     "data": {
      "text/plain": [
       "0.003897553110130418"
      ]
     },
     "execution_count": 109,
     "metadata": {},
     "output_type": "execute_result"
    }
   ],
   "source": [
    "from scipy.stats import levene\n",
    "stat, p = levene(XOne,PC)\n",
    "p"
   ]
  },
  {
   "cell_type": "code",
   "execution_count": 110,
   "metadata": {},
   "outputs": [
    {
     "name": "stdout",
     "output_type": "stream",
     "text": [
      "p-значение: 0.14012658403611647\n",
      "Не получилось отвергнуть нулевую гипотезу\n"
     ]
    }
   ],
   "source": [
    "\n",
    "\n",
    "alpha = 0.05 # критический уровень статистической значимости\n",
    "            # если p-value окажется меньше него - отвергнем гипотезу\n",
    "\n",
    "results_1 = st.ttest_ind(\n",
    "    XOne, \n",
    "    PC,\n",
    "    equal_var = True)\n",
    "\n",
    "print('p-значение:',results_1.pvalue)\n",
    "\n",
    "if (results_1.pvalue < alpha): \n",
    "    print(\"Отвергаем нулевую гипотезу\")\n",
    "else:\n",
    "    print(\"Не получилось отвергнуть нулевую гипотезу\") \n"
   ]
  },
  {
   "cell_type": "markdown",
   "metadata": {
    "scrolled": false
   },
   "source": [
    "вывод: Не получилось отвергнуть нулевую гипотезу.\n",
    "\n",
    "Верно следующее утверждение: средние пользовательские рейтинги платформ Xbox One и PC одинаковые.\n",
    "\n",
    "\n",
    "\n",
    "\n",
    "\n"
   ]
  },
  {
   "cell_type": "markdown",
   "metadata": {},
   "source": []
  },
  {
   "cell_type": "markdown",
   "metadata": {},
   "source": []
  },
  {
   "cell_type": "markdown",
   "metadata": {},
   "source": [
    "Гипотеза № 2:\n",
    "средние пользовательские рейтинги жанров Action и Sports разные.\n",
    "\n",
    "Н0 (нулевая гипотеза) - средние пользовательские рейтинги жанров Action и Sports одинаковые.\n",
    "\n",
    "Н1 (альтернативная гипотеза) - средние пользовательские рейтинги жанров Action и Sports отличаются между собой.\n",
    "\n"
   ]
  },
  {
   "cell_type": "code",
   "execution_count": 98,
   "metadata": {},
   "outputs": [
    {
     "name": "stdout",
     "output_type": "stream",
     "text": [
      "Средний пользовательский рейтинг жанра Action: 6.837532133676092\n",
      "Средний пользовательский рейтинг жанра Sports 5.238124999999999\n",
      "\n"
     ]
    }
   ],
   "source": [
    "Action = games[(games['genre'] == 'Action') &  (games['user_score'] > 0)]['user_score']\n",
    "Sports = games[(games['genre'] == 'Sports') &  (games['user_score'] > 0)]['user_score']\n",
    "print('Средний пользовательский рейтинг жанра Action:', Action.mean())\n",
    "print('Средний пользовательский рейтинг жанра Sports', Sports.mean())\n",
    "print()"
   ]
  },
  {
   "cell_type": "code",
   "execution_count": 100,
   "metadata": {},
   "outputs": [
    {
     "data": {
      "text/html": [
       "<div>\n",
       "<style scoped>\n",
       "    .dataframe tbody tr th:only-of-type {\n",
       "        vertical-align: middle;\n",
       "    }\n",
       "\n",
       "    .dataframe tbody tr th {\n",
       "        vertical-align: top;\n",
       "    }\n",
       "\n",
       "    .dataframe thead th {\n",
       "        text-align: right;\n",
       "    }\n",
       "</style>\n",
       "<table border=\"1\" class=\"dataframe\">\n",
       "  <thead>\n",
       "    <tr style=\"text-align: right;\">\n",
       "      <th></th>\n",
       "      <th>name</th>\n",
       "      <th>platform</th>\n",
       "      <th>year_of_release</th>\n",
       "      <th>genre</th>\n",
       "      <th>na_sales</th>\n",
       "      <th>eu_sales</th>\n",
       "      <th>jp_sales</th>\n",
       "      <th>other_sales</th>\n",
       "      <th>critic_score</th>\n",
       "      <th>user_score</th>\n",
       "      <th>rating</th>\n",
       "      <th>total_sales</th>\n",
       "      <th>ESRB_description</th>\n",
       "    </tr>\n",
       "  </thead>\n",
       "  <tbody>\n",
       "    <tr>\n",
       "      <th>16</th>\n",
       "      <td>Grand Theft Auto V</td>\n",
       "      <td>PS3</td>\n",
       "      <td>2013</td>\n",
       "      <td>Action</td>\n",
       "      <td>7.02</td>\n",
       "      <td>9.09</td>\n",
       "      <td>0.98</td>\n",
       "      <td>3.96</td>\n",
       "      <td>97</td>\n",
       "      <td>8.2</td>\n",
       "      <td>M</td>\n",
       "      <td>21.05</td>\n",
       "      <td>&gt; 17 лет</td>\n",
       "    </tr>\n",
       "    <tr>\n",
       "      <th>23</th>\n",
       "      <td>Grand Theft Auto V</td>\n",
       "      <td>X360</td>\n",
       "      <td>2013</td>\n",
       "      <td>Action</td>\n",
       "      <td>9.66</td>\n",
       "      <td>5.14</td>\n",
       "      <td>0.06</td>\n",
       "      <td>1.41</td>\n",
       "      <td>97</td>\n",
       "      <td>8.1</td>\n",
       "      <td>M</td>\n",
       "      <td>16.27</td>\n",
       "      <td>&gt; 17 лет</td>\n",
       "    </tr>\n",
       "    <tr>\n",
       "      <th>31</th>\n",
       "      <td>Call of Duty: Black Ops 3</td>\n",
       "      <td>PS4</td>\n",
       "      <td>2015</td>\n",
       "      <td>Shooter</td>\n",
       "      <td>6.03</td>\n",
       "      <td>5.86</td>\n",
       "      <td>0.36</td>\n",
       "      <td>2.38</td>\n",
       "      <td>&lt;NA&gt;</td>\n",
       "      <td>NaN</td>\n",
       "      <td>undefined</td>\n",
       "      <td>14.63</td>\n",
       "      <td>Не определен</td>\n",
       "    </tr>\n",
       "    <tr>\n",
       "      <th>33</th>\n",
       "      <td>Pokemon X/Pokemon Y</td>\n",
       "      <td>3DS</td>\n",
       "      <td>2013</td>\n",
       "      <td>Role-Playing</td>\n",
       "      <td>5.28</td>\n",
       "      <td>4.19</td>\n",
       "      <td>4.35</td>\n",
       "      <td>0.78</td>\n",
       "      <td>&lt;NA&gt;</td>\n",
       "      <td>NaN</td>\n",
       "      <td>undefined</td>\n",
       "      <td>14.60</td>\n",
       "      <td>Не определен</td>\n",
       "    </tr>\n",
       "    <tr>\n",
       "      <th>42</th>\n",
       "      <td>Grand Theft Auto V</td>\n",
       "      <td>PS4</td>\n",
       "      <td>2014</td>\n",
       "      <td>Action</td>\n",
       "      <td>3.96</td>\n",
       "      <td>6.31</td>\n",
       "      <td>0.38</td>\n",
       "      <td>1.97</td>\n",
       "      <td>97</td>\n",
       "      <td>8.3</td>\n",
       "      <td>M</td>\n",
       "      <td>12.62</td>\n",
       "      <td>&gt; 17 лет</td>\n",
       "    </tr>\n",
       "    <tr>\n",
       "      <th>...</th>\n",
       "      <td>...</td>\n",
       "      <td>...</td>\n",
       "      <td>...</td>\n",
       "      <td>...</td>\n",
       "      <td>...</td>\n",
       "      <td>...</td>\n",
       "      <td>...</td>\n",
       "      <td>...</td>\n",
       "      <td>...</td>\n",
       "      <td>...</td>\n",
       "      <td>...</td>\n",
       "      <td>...</td>\n",
       "      <td>...</td>\n",
       "    </tr>\n",
       "    <tr>\n",
       "      <th>16703</th>\n",
       "      <td>Strawberry Nauts</td>\n",
       "      <td>PSV</td>\n",
       "      <td>2016</td>\n",
       "      <td>Adventure</td>\n",
       "      <td>0.00</td>\n",
       "      <td>0.00</td>\n",
       "      <td>0.01</td>\n",
       "      <td>0.00</td>\n",
       "      <td>&lt;NA&gt;</td>\n",
       "      <td>NaN</td>\n",
       "      <td>undefined</td>\n",
       "      <td>0.01</td>\n",
       "      <td>Не определен</td>\n",
       "    </tr>\n",
       "    <tr>\n",
       "      <th>16707</th>\n",
       "      <td>Aiyoku no Eustia</td>\n",
       "      <td>PSV</td>\n",
       "      <td>2014</td>\n",
       "      <td>Misc</td>\n",
       "      <td>0.00</td>\n",
       "      <td>0.00</td>\n",
       "      <td>0.01</td>\n",
       "      <td>0.00</td>\n",
       "      <td>&lt;NA&gt;</td>\n",
       "      <td>NaN</td>\n",
       "      <td>undefined</td>\n",
       "      <td>0.01</td>\n",
       "      <td>Не определен</td>\n",
       "    </tr>\n",
       "    <tr>\n",
       "      <th>16710</th>\n",
       "      <td>Samurai Warriors: Sanada Maru</td>\n",
       "      <td>PS3</td>\n",
       "      <td>2016</td>\n",
       "      <td>Action</td>\n",
       "      <td>0.00</td>\n",
       "      <td>0.00</td>\n",
       "      <td>0.01</td>\n",
       "      <td>0.00</td>\n",
       "      <td>&lt;NA&gt;</td>\n",
       "      <td>NaN</td>\n",
       "      <td>undefined</td>\n",
       "      <td>0.01</td>\n",
       "      <td>Не определен</td>\n",
       "    </tr>\n",
       "    <tr>\n",
       "      <th>16712</th>\n",
       "      <td>Haitaka no Psychedelica</td>\n",
       "      <td>PSV</td>\n",
       "      <td>2016</td>\n",
       "      <td>Adventure</td>\n",
       "      <td>0.00</td>\n",
       "      <td>0.00</td>\n",
       "      <td>0.01</td>\n",
       "      <td>0.00</td>\n",
       "      <td>&lt;NA&gt;</td>\n",
       "      <td>NaN</td>\n",
       "      <td>undefined</td>\n",
       "      <td>0.01</td>\n",
       "      <td>Не определен</td>\n",
       "    </tr>\n",
       "    <tr>\n",
       "      <th>16714</th>\n",
       "      <td>Winning Post 8 2016</td>\n",
       "      <td>PSV</td>\n",
       "      <td>2016</td>\n",
       "      <td>Simulation</td>\n",
       "      <td>0.00</td>\n",
       "      <td>0.00</td>\n",
       "      <td>0.01</td>\n",
       "      <td>0.00</td>\n",
       "      <td>&lt;NA&gt;</td>\n",
       "      <td>NaN</td>\n",
       "      <td>undefined</td>\n",
       "      <td>0.01</td>\n",
       "      <td>Не определен</td>\n",
       "    </tr>\n",
       "  </tbody>\n",
       "</table>\n",
       "<p>2233 rows × 13 columns</p>\n",
       "</div>"
      ],
      "text/plain": [
       "                                name platform  year_of_release         genre  \\\n",
       "16                Grand Theft Auto V      PS3             2013        Action   \n",
       "23                Grand Theft Auto V     X360             2013        Action   \n",
       "31         Call of Duty: Black Ops 3      PS4             2015       Shooter   \n",
       "33               Pokemon X/Pokemon Y      3DS             2013  Role-Playing   \n",
       "42                Grand Theft Auto V      PS4             2014        Action   \n",
       "...                              ...      ...              ...           ...   \n",
       "16703               Strawberry Nauts      PSV             2016     Adventure   \n",
       "16707               Aiyoku no Eustia      PSV             2014          Misc   \n",
       "16710  Samurai Warriors: Sanada Maru      PS3             2016        Action   \n",
       "16712        Haitaka no Psychedelica      PSV             2016     Adventure   \n",
       "16714            Winning Post 8 2016      PSV             2016    Simulation   \n",
       "\n",
       "       na_sales  eu_sales  jp_sales  other_sales  critic_score  user_score  \\\n",
       "16         7.02      9.09      0.98         3.96            97         8.2   \n",
       "23         9.66      5.14      0.06         1.41            97         8.1   \n",
       "31         6.03      5.86      0.36         2.38          <NA>         NaN   \n",
       "33         5.28      4.19      4.35         0.78          <NA>         NaN   \n",
       "42         3.96      6.31      0.38         1.97            97         8.3   \n",
       "...         ...       ...       ...          ...           ...         ...   \n",
       "16703      0.00      0.00      0.01         0.00          <NA>         NaN   \n",
       "16707      0.00      0.00      0.01         0.00          <NA>         NaN   \n",
       "16710      0.00      0.00      0.01         0.00          <NA>         NaN   \n",
       "16712      0.00      0.00      0.01         0.00          <NA>         NaN   \n",
       "16714      0.00      0.00      0.01         0.00          <NA>         NaN   \n",
       "\n",
       "          rating  total_sales ESRB_description  \n",
       "16             M        21.05         > 17 лет  \n",
       "23             M        16.27         > 17 лет  \n",
       "31     undefined        14.63     Не определен  \n",
       "33     undefined        14.60     Не определен  \n",
       "42             M        12.62         > 17 лет  \n",
       "...          ...          ...              ...  \n",
       "16703  undefined         0.01     Не определен  \n",
       "16707  undefined         0.01     Не определен  \n",
       "16710  undefined         0.01     Не определен  \n",
       "16712  undefined         0.01     Не определен  \n",
       "16714  undefined         0.01     Не определен  \n",
       "\n",
       "[2233 rows x 13 columns]"
      ]
     },
     "execution_count": 100,
     "metadata": {},
     "output_type": "execute_result"
    }
   ],
   "source": [
    "games"
   ]
  },
  {
   "cell_type": "code",
   "execution_count": null,
   "metadata": {},
   "outputs": [],
   "source": []
  },
  {
   "cell_type": "code",
   "execution_count": 101,
   "metadata": {
    "scrolled": true
   },
   "outputs": [
    {
     "name": "stdout",
     "output_type": "stream",
     "text": [
      "p-значение: 1.4460039700704315e-20\n",
      "Отвергаем нулевую гипотезу\n"
     ]
    }
   ],
   "source": [
    "#проверяем вторую гипотезу\n",
    "\n",
    "alpha = 0.05\n",
    "\n",
    "results_2 = st.ttest_ind(Action, Sports, equal_var=False)\n",
    "\n",
    "print('p-значение:',results_2.pvalue)\n",
    "\n",
    "\n",
    "if (results_2.pvalue < alpha):\n",
    "    print(\"Отвергаем нулевую гипотезу\")\n",
    "else:\n",
    "    print(\"Не получилось отвергнуть нулевую гипотезу\")"
   ]
  },
  {
   "cell_type": "markdown",
   "metadata": {},
   "source": [
    "Вывод: отвергаем нулевую гипотезу\n",
    "\n",
    "       Средние пользовательские рейтинги жанров Action и Sports отличаются.\n",
    "\n"
   ]
  },
  {
   "cell_type": "markdown",
   "metadata": {},
   "source": [
    "# Общий вывод"
   ]
  },
  {
   "cell_type": "markdown",
   "metadata": {},
   "source": [
    "В ходе проделанной работы было выполнено:\n",
    "\n",
    " Шаг 1. Изучение и подготовка данных\n",
    " \n",
    "    -проведел первичную обработку и анализ данных;\n",
    "\n",
    "    -заменил пропущенные значения на пустые строки в стобцах Name и Genre;\n",
    "\n",
    "    -привел годы и оценки критиков в целочисленный тип;\n",
    "\n",
    "    -привел оценки пользователей к типу float;\n",
    "\n",
    "    -заменил в \"rating\" пропущенные значения на \"undefiend\";\n",
    "\n",
    "    -добавил отдельный столбец с суммой продаж по всем регионам 'total_sales'\n",
    "    \n",
    " Шаг 2. Исследовательский анализ данных\n",
    " \n",
    "     -обнаружил, что рост выпуска игр приходится на 1994 год, а пик на 2008-2009 гг;\n",
    "      \n",
    "     -характерный срок жизни платформы - 9-10 лет, актульные данные начинаются с 2013г;\n",
    "     \n",
    "     -три самые прибыльные платформы: PS4, XOne, 3DS;\n",
    "     \n",
    "     -наибольшие медианные продажи у платформ WiiU, далее у XOne и PS4;\n",
    "\n",
    "     -компьютерные игры PC стоят дешевле консольных;\n",
    "     \n",
    "     -лидеры-игры жанра Action, затем идут role-playing(ролевые игры) и shooter(стрелялки), \n",
    "      далее sports, misc и adventure;\n",
    "\n",
    "     -cамые непопулярные- игры жанра puzzle (головоломки);\n",
    "     \n",
    "     -самый прибыльный жанр игр- Action, Sports, Shooter (стрелялки);\n",
    "\n",
    "     -самый неприбыльный жанр игр- Strategy(стратегия), (Adventure(приключения) \n",
    "      и Puzzle(головоломки).\n",
    "   \n",
    " Шаг 3. Портрет пользователя региона\n",
    " \n",
    "      - в Северной Америке самые популярыные приставки  PS4, XOne и X360, немного отстает PS3;\n",
    "        в Европе популярны PS4, PS3, далее XOne,X360 и 3DS; \n",
    "        в Японии (Japan sales) лидером является 3DS, далее PS3 и PSV, PS4.\n",
    "        Различия по популярности платформ в первую очередь зависят от влияния компании-производителя.\n",
    "        \n",
    "      - самые популярные жанры в Северной Америке и Европе одинаковы:лидер-экшены (action) и стрелялки(shooter),\n",
    "        а также спортивные игры (sports);\n",
    "        в Японии же лидер - ролевые игры (role-playing), далее экшены (action).\n",
    "        \n",
    "      -В Северной Америке и в Европе большая часть выручки получено с игр с рейтингом \">17 лет\" ,\n",
    "       а далее \"для всех\". Вероятно, эти рынки ориентированы больше на взрослых пользователей игр.\n",
    "\n",
    "       В Японии иначе: первое место рейтинг \"Не определен\", вероятно,это связано с тем, что сам по себе\n",
    "       рейтнг ESRB принадлежит американской компании, и поэтому не все японские игры проходят его. \n",
    "       Также лидируют игры с возрастным рейтингом >13лет, вероятно, компании хотят распространить свое \n",
    "       влияние на молодое поколение.\n",
    "       \n",
    "       \n",
    " Шаг 4. Проверка гипотез\n",
    " \n",
    "        Выполнены проверки гипотез:\n",
    " \n",
    "       -Не получилось отвергнуть нулевую гипотезу.\n",
    "\n",
    "        Верно следующее утверждение: средние пользовательские рейтинги платформ Xbox One и PC одинаковые.\n",
    "\n",
    "       -отвергаем нулевую гипотезу\n",
    "\n",
    "        Средние пользовательские рейтинги жанров Action и Sports отличаются.\n",
    "\n",
    " Рекомендации для кампании на следующий год:\n",
    "\n",
    " 1.Развивать современные платформы,покупать вышедшие и новые игры на PS4, XOne и 3DS.\n",
    " \n",
    " 2.Увеличить количество популярных жанров игр: экшен, стрелялки, спортивные игры.\n",
    " \n",
    " 3.Взаимодействовать с аудиторией 17+лет,тк  большинство игр рассчитано на игроков, \n",
    "   которые старше 17лет.\n",
    "\n",
    " 4.Распространять компьютерные игры. Компьютер долго не выйдет из конкуренции за игроков.\n",
    " "
   ]
  },
  {
   "cell_type": "markdown",
   "metadata": {},
   "source": []
  },
  {
   "cell_type": "markdown",
   "metadata": {},
   "source": []
  },
  {
   "cell_type": "code",
   "execution_count": null,
   "metadata": {},
   "outputs": [],
   "source": []
  }
 ],
 "metadata": {
  "ExecuteTimeLog": [
   {
    "duration": 50,
    "start_time": "2024-04-21T11:07:22.287Z"
   },
   {
    "duration": 1133,
    "start_time": "2024-04-21T11:27:11.116Z"
   },
   {
    "duration": 115,
    "start_time": "2024-04-21T11:27:31.420Z"
   },
   {
    "duration": 8,
    "start_time": "2024-04-21T11:28:28.093Z"
   },
   {
    "duration": 101,
    "start_time": "2024-04-21T11:29:19.575Z"
   },
   {
    "duration": 36,
    "start_time": "2024-04-21T11:29:20.377Z"
   },
   {
    "duration": 49,
    "start_time": "2024-04-21T11:29:20.848Z"
   },
   {
    "duration": 15,
    "start_time": "2024-04-21T11:29:22.801Z"
   },
   {
    "duration": 11,
    "start_time": "2024-04-21T11:29:59.979Z"
   },
   {
    "duration": 13,
    "start_time": "2024-04-21T11:32:45.608Z"
   },
   {
    "duration": 11,
    "start_time": "2024-04-21T11:32:50.421Z"
   },
   {
    "duration": 21,
    "start_time": "2024-04-21T11:33:17.232Z"
   },
   {
    "duration": 8,
    "start_time": "2024-04-21T11:37:49.091Z"
   },
   {
    "duration": 2,
    "start_time": "2024-04-21T11:44:30.519Z"
   },
   {
    "duration": 4,
    "start_time": "2024-04-21T11:44:49.075Z"
   },
   {
    "duration": 4,
    "start_time": "2024-04-21T11:45:31.022Z"
   },
   {
    "duration": 5,
    "start_time": "2024-04-21T11:47:32.766Z"
   },
   {
    "duration": 44,
    "start_time": "2024-04-21T11:48:14.798Z"
   },
   {
    "duration": 3,
    "start_time": "2024-04-21T11:48:23.806Z"
   },
   {
    "duration": 5,
    "start_time": "2024-04-21T11:49:01.761Z"
   },
   {
    "duration": 4,
    "start_time": "2024-04-21T11:49:43.065Z"
   },
   {
    "duration": 3,
    "start_time": "2024-04-21T11:50:48.317Z"
   },
   {
    "duration": 5,
    "start_time": "2024-04-21T11:51:43.330Z"
   },
   {
    "duration": 3,
    "start_time": "2024-04-21T11:53:35.239Z"
   },
   {
    "duration": 14,
    "start_time": "2024-04-21T11:53:44.685Z"
   },
   {
    "duration": 13,
    "start_time": "2024-04-21T12:07:42.669Z"
   },
   {
    "duration": 15,
    "start_time": "2024-04-21T12:07:43.190Z"
   },
   {
    "duration": 41,
    "start_time": "2024-04-21T12:07:43.658Z"
   },
   {
    "duration": 7,
    "start_time": "2024-04-21T12:07:45.347Z"
   },
   {
    "duration": 2,
    "start_time": "2024-04-21T12:07:47.486Z"
   },
   {
    "duration": 4,
    "start_time": "2024-04-21T12:07:47.993Z"
   },
   {
    "duration": 4,
    "start_time": "2024-04-21T12:07:50.659Z"
   },
   {
    "duration": 7,
    "start_time": "2024-04-21T12:07:51.184Z"
   },
   {
    "duration": 3,
    "start_time": "2024-04-21T12:07:54.127Z"
   },
   {
    "duration": 3,
    "start_time": "2024-04-21T12:07:55.294Z"
   },
   {
    "duration": 4,
    "start_time": "2024-04-21T12:07:56.159Z"
   },
   {
    "duration": 4,
    "start_time": "2024-04-21T12:07:57.788Z"
   },
   {
    "duration": 12,
    "start_time": "2024-04-21T12:07:58.646Z"
   },
   {
    "duration": 4,
    "start_time": "2024-04-21T12:11:29.984Z"
   },
   {
    "duration": 272,
    "start_time": "2024-04-21T12:11:47.048Z"
   },
   {
    "duration": 3,
    "start_time": "2024-04-21T12:11:58.775Z"
   },
   {
    "duration": 233,
    "start_time": "2024-04-21T12:12:01.631Z"
   },
   {
    "duration": 4,
    "start_time": "2024-04-21T12:12:14.293Z"
   },
   {
    "duration": 246,
    "start_time": "2024-04-21T12:12:16.869Z"
   },
   {
    "duration": 4,
    "start_time": "2024-04-21T12:12:28.896Z"
   },
   {
    "duration": 259,
    "start_time": "2024-04-21T12:12:33.048Z"
   },
   {
    "duration": 3,
    "start_time": "2024-04-21T12:12:40.945Z"
   },
   {
    "duration": 285,
    "start_time": "2024-04-21T12:12:42.180Z"
   },
   {
    "duration": 227,
    "start_time": "2024-04-21T12:14:05.857Z"
   },
   {
    "duration": 202,
    "start_time": "2024-04-21T12:22:03.330Z"
   },
   {
    "duration": 4,
    "start_time": "2024-04-21T12:22:53.780Z"
   },
   {
    "duration": 4,
    "start_time": "2024-04-21T12:22:56.364Z"
   },
   {
    "duration": 235,
    "start_time": "2024-04-21T12:22:56.853Z"
   },
   {
    "duration": 226,
    "start_time": "2024-04-21T12:22:59.600Z"
   },
   {
    "duration": 2655,
    "start_time": "2024-04-21T12:27:57.701Z"
   },
   {
    "duration": 6,
    "start_time": "2024-04-21T12:29:52.764Z"
   },
   {
    "duration": 47,
    "start_time": "2024-04-21T12:30:47.030Z"
   },
   {
    "duration": 795,
    "start_time": "2024-04-21T12:31:20.789Z"
   },
   {
    "duration": 33,
    "start_time": "2024-04-21T12:34:08.226Z"
   },
   {
    "duration": 34,
    "start_time": "2024-04-21T12:35:10.688Z"
   },
   {
    "duration": 5,
    "start_time": "2024-04-21T12:45:57.186Z"
   },
   {
    "duration": 169,
    "start_time": "2024-04-21T12:45:57.469Z"
   },
   {
    "duration": 50,
    "start_time": "2024-04-21T12:49:08.605Z"
   },
   {
    "duration": 43,
    "start_time": "2024-04-21T12:50:31.012Z"
   },
   {
    "duration": 38,
    "start_time": "2024-04-21T12:50:39.077Z"
   },
   {
    "duration": 35,
    "start_time": "2024-04-21T12:51:29.064Z"
   },
   {
    "duration": 5,
    "start_time": "2024-04-21T12:52:51.758Z"
   },
   {
    "duration": 21,
    "start_time": "2024-04-21T12:53:02.633Z"
   },
   {
    "duration": 30,
    "start_time": "2024-04-21T12:55:27.300Z"
   },
   {
    "duration": 28,
    "start_time": "2024-04-21T12:55:38.222Z"
   },
   {
    "duration": 28,
    "start_time": "2024-04-21T12:55:50.847Z"
   },
   {
    "duration": 29,
    "start_time": "2024-04-21T12:57:35.803Z"
   },
   {
    "duration": 48,
    "start_time": "2024-04-22T15:39:43.936Z"
   },
   {
    "duration": 1400,
    "start_time": "2024-04-22T15:39:57.984Z"
   },
   {
    "duration": 189,
    "start_time": "2024-04-22T15:39:59.386Z"
   },
   {
    "duration": 20,
    "start_time": "2024-04-22T15:40:00.221Z"
   },
   {
    "duration": 16,
    "start_time": "2024-04-22T15:40:01.146Z"
   },
   {
    "duration": 35,
    "start_time": "2024-04-22T15:40:01.912Z"
   },
   {
    "duration": 10,
    "start_time": "2024-04-22T15:40:06.005Z"
   },
   {
    "duration": 3,
    "start_time": "2024-04-22T15:40:07.919Z"
   },
   {
    "duration": 7,
    "start_time": "2024-04-22T15:40:08.848Z"
   },
   {
    "duration": 7,
    "start_time": "2024-04-22T15:40:10.708Z"
   },
   {
    "duration": 6,
    "start_time": "2024-04-22T15:40:11.528Z"
   },
   {
    "duration": 6,
    "start_time": "2024-04-22T15:40:13.086Z"
   },
   {
    "duration": 5,
    "start_time": "2024-04-22T15:40:14.268Z"
   },
   {
    "duration": 6,
    "start_time": "2024-04-22T15:40:16.234Z"
   },
   {
    "duration": 5,
    "start_time": "2024-04-22T15:40:17.488Z"
   },
   {
    "duration": 16,
    "start_time": "2024-04-22T15:40:18.252Z"
   },
   {
    "duration": 4,
    "start_time": "2024-04-22T15:40:21.204Z"
   },
   {
    "duration": 325,
    "start_time": "2024-04-22T15:40:21.611Z"
   },
   {
    "duration": 286,
    "start_time": "2024-04-22T15:40:23.198Z"
   },
   {
    "duration": 2734,
    "start_time": "2024-04-22T15:40:24.277Z"
   },
   {
    "duration": 9,
    "start_time": "2024-04-22T15:40:27.014Z"
   },
   {
    "duration": 231,
    "start_time": "2024-04-22T15:40:27.024Z"
   },
   {
    "duration": 6,
    "start_time": "2024-04-22T15:40:27.257Z"
   },
   {
    "duration": 317,
    "start_time": "2024-04-22T15:40:28.704Z"
   },
   {
    "duration": 55,
    "start_time": "2024-04-22T15:40:30.430Z"
   },
   {
    "duration": 7,
    "start_time": "2024-04-22T15:40:31.651Z"
   },
   {
    "duration": 28,
    "start_time": "2024-04-22T15:40:32.284Z"
   },
   {
    "duration": 37,
    "start_time": "2024-04-22T15:40:33.555Z"
   },
   {
    "duration": 39,
    "start_time": "2024-04-22T15:45:32.950Z"
   },
   {
    "duration": 4,
    "start_time": "2024-04-23T07:50:28.717Z"
   },
   {
    "duration": 56,
    "start_time": "2024-04-23T07:50:29.920Z"
   },
   {
    "duration": 26,
    "start_time": "2024-04-23T07:50:30.709Z"
   },
   {
    "duration": 16,
    "start_time": "2024-04-23T07:50:31.319Z"
   },
   {
    "duration": 30,
    "start_time": "2024-04-23T07:50:31.805Z"
   },
   {
    "duration": 16,
    "start_time": "2024-04-23T07:50:33.277Z"
   },
   {
    "duration": 4,
    "start_time": "2024-04-23T07:50:34.258Z"
   },
   {
    "duration": 6,
    "start_time": "2024-04-23T07:50:34.675Z"
   },
   {
    "duration": 7,
    "start_time": "2024-04-23T07:50:35.908Z"
   },
   {
    "duration": 6,
    "start_time": "2024-04-23T07:50:36.386Z"
   },
   {
    "duration": 7,
    "start_time": "2024-04-23T07:50:37.255Z"
   },
   {
    "duration": 5,
    "start_time": "2024-04-23T07:50:38.056Z"
   },
   {
    "duration": 6,
    "start_time": "2024-04-23T07:50:39.168Z"
   },
   {
    "duration": 7,
    "start_time": "2024-04-23T07:50:40.182Z"
   },
   {
    "duration": 17,
    "start_time": "2024-04-23T07:50:40.695Z"
   },
   {
    "duration": 5,
    "start_time": "2024-04-23T07:50:43.457Z"
   },
   {
    "duration": 338,
    "start_time": "2024-04-23T07:50:43.960Z"
   },
   {
    "duration": 329,
    "start_time": "2024-04-23T07:50:45.710Z"
   },
   {
    "duration": 2883,
    "start_time": "2024-04-23T07:50:46.867Z"
   },
   {
    "duration": 13,
    "start_time": "2024-04-23T07:50:49.752Z"
   },
   {
    "duration": 57,
    "start_time": "2024-04-23T07:50:49.767Z"
   },
   {
    "duration": 7,
    "start_time": "2024-04-23T07:50:50.082Z"
   },
   {
    "duration": 77,
    "start_time": "2024-04-23T07:50:51.054Z"
   },
   {
    "duration": 44,
    "start_time": "2024-04-23T07:50:53.204Z"
   },
   {
    "duration": 6,
    "start_time": "2024-04-23T07:50:54.249Z"
   },
   {
    "duration": 35,
    "start_time": "2024-04-23T07:50:54.770Z"
   },
   {
    "duration": 44,
    "start_time": "2024-04-23T07:50:55.811Z"
   },
   {
    "duration": 37,
    "start_time": "2024-04-23T07:52:46.792Z"
   },
   {
    "duration": 1843,
    "start_time": "2024-04-23T07:57:43.372Z"
   },
   {
    "duration": 1714,
    "start_time": "2024-04-23T07:57:58.151Z"
   },
   {
    "duration": 16,
    "start_time": "2024-04-23T08:02:16.181Z"
   },
   {
    "duration": 14,
    "start_time": "2024-04-23T08:03:14.231Z"
   },
   {
    "duration": 11,
    "start_time": "2024-04-23T08:03:26.874Z"
   },
   {
    "duration": 15,
    "start_time": "2024-04-23T08:03:47.773Z"
   },
   {
    "duration": 2159,
    "start_time": "2024-04-23T08:07:01.148Z"
   },
   {
    "duration": 763,
    "start_time": "2024-04-23T08:07:26.794Z"
   },
   {
    "duration": 2370,
    "start_time": "2024-04-23T08:07:38.671Z"
   },
   {
    "duration": 2269,
    "start_time": "2024-04-23T08:07:49.490Z"
   },
   {
    "duration": 2068,
    "start_time": "2024-04-23T08:08:52.543Z"
   },
   {
    "duration": 18,
    "start_time": "2024-04-23T08:15:56.956Z"
   },
   {
    "duration": 16,
    "start_time": "2024-04-23T08:17:08.729Z"
   },
   {
    "duration": 18,
    "start_time": "2024-04-23T08:17:32.084Z"
   },
   {
    "duration": 242,
    "start_time": "2024-04-23T08:25:09.654Z"
   },
   {
    "duration": 230,
    "start_time": "2024-04-23T08:25:40.059Z"
   },
   {
    "duration": 238,
    "start_time": "2024-04-23T08:26:04.190Z"
   },
   {
    "duration": 225,
    "start_time": "2024-04-23T08:26:09.750Z"
   },
   {
    "duration": 263,
    "start_time": "2024-04-23T08:26:23.178Z"
   },
   {
    "duration": 217,
    "start_time": "2024-04-23T08:26:31.280Z"
   },
   {
    "duration": 353,
    "start_time": "2024-04-23T08:27:28.039Z"
   },
   {
    "duration": 219,
    "start_time": "2024-04-23T08:27:39.819Z"
   },
   {
    "duration": 282,
    "start_time": "2024-04-23T08:28:27.210Z"
   },
   {
    "duration": 263,
    "start_time": "2024-04-23T08:29:29.703Z"
   },
   {
    "duration": 304,
    "start_time": "2024-04-23T08:30:13.467Z"
   },
   {
    "duration": 269,
    "start_time": "2024-04-23T08:31:04.739Z"
   },
   {
    "duration": 281,
    "start_time": "2024-04-23T08:31:16.892Z"
   },
   {
    "duration": 10,
    "start_time": "2024-04-23T08:32:28.611Z"
   },
   {
    "duration": 11,
    "start_time": "2024-04-23T08:32:34.740Z"
   },
   {
    "duration": 17,
    "start_time": "2024-04-23T08:32:35.334Z"
   },
   {
    "duration": 11,
    "start_time": "2024-04-23T08:38:08.039Z"
   },
   {
    "duration": 74,
    "start_time": "2024-04-23T08:40:49.077Z"
   },
   {
    "duration": 8,
    "start_time": "2024-04-23T08:46:38.814Z"
   },
   {
    "duration": 7,
    "start_time": "2024-04-23T08:46:43.140Z"
   },
   {
    "duration": 451,
    "start_time": "2024-04-23T08:47:00.874Z"
   },
   {
    "duration": 5,
    "start_time": "2024-04-23T08:48:03.998Z"
   },
   {
    "duration": 4,
    "start_time": "2024-04-23T08:48:08.488Z"
   },
   {
    "duration": 500,
    "start_time": "2024-04-23T08:48:09.075Z"
   },
   {
    "duration": 624,
    "start_time": "2024-04-23T08:48:26.702Z"
   },
   {
    "duration": 8,
    "start_time": "2024-04-23T09:01:23.495Z"
   },
   {
    "duration": 517,
    "start_time": "2024-04-23T09:01:26.216Z"
   },
   {
    "duration": 478,
    "start_time": "2024-04-23T09:03:11.372Z"
   },
   {
    "duration": 11,
    "start_time": "2024-04-23T09:09:13.535Z"
   },
   {
    "duration": 603,
    "start_time": "2024-04-23T09:09:14.153Z"
   },
   {
    "duration": 8,
    "start_time": "2024-04-23T09:09:36.490Z"
   },
   {
    "duration": 482,
    "start_time": "2024-04-23T09:09:37.323Z"
   },
   {
    "duration": 6,
    "start_time": "2024-04-23T09:10:22.022Z"
   },
   {
    "duration": 474,
    "start_time": "2024-04-23T09:10:22.634Z"
   },
   {
    "duration": 7,
    "start_time": "2024-04-23T09:10:25.697Z"
   },
   {
    "duration": 618,
    "start_time": "2024-04-23T09:10:25.706Z"
   },
   {
    "duration": 7,
    "start_time": "2024-04-23T09:25:37.975Z"
   },
   {
    "duration": 6,
    "start_time": "2024-04-23T09:25:56.345Z"
   },
   {
    "duration": 18,
    "start_time": "2024-04-23T09:27:22.547Z"
   },
   {
    "duration": 6,
    "start_time": "2024-04-23T09:27:25.594Z"
   },
   {
    "duration": 6,
    "start_time": "2024-04-23T09:27:26.165Z"
   },
   {
    "duration": 15,
    "start_time": "2024-04-23T09:27:29.227Z"
   },
   {
    "duration": 8,
    "start_time": "2024-04-23T09:27:34.844Z"
   },
   {
    "duration": 5,
    "start_time": "2024-04-23T09:27:35.408Z"
   },
   {
    "duration": 15,
    "start_time": "2024-04-23T09:28:52.805Z"
   },
   {
    "duration": 7,
    "start_time": "2024-04-23T09:29:49.075Z"
   },
   {
    "duration": 18,
    "start_time": "2024-04-23T09:30:15.692Z"
   },
   {
    "duration": 19,
    "start_time": "2024-04-23T09:30:26.082Z"
   },
   {
    "duration": 21,
    "start_time": "2024-04-23T09:31:00.470Z"
   },
   {
    "duration": 5,
    "start_time": "2024-04-23T09:32:11.257Z"
   },
   {
    "duration": 20,
    "start_time": "2024-04-23T09:32:11.903Z"
   },
   {
    "duration": 17,
    "start_time": "2024-04-23T09:34:11.481Z"
   },
   {
    "duration": 18,
    "start_time": "2024-04-23T09:34:13.009Z"
   },
   {
    "duration": 14,
    "start_time": "2024-04-23T09:35:01.240Z"
   },
   {
    "duration": 7,
    "start_time": "2024-04-23T09:37:38.825Z"
   },
   {
    "duration": 5,
    "start_time": "2024-04-23T09:37:42.608Z"
   },
   {
    "duration": 16,
    "start_time": "2024-04-23T09:38:09.897Z"
   },
   {
    "duration": 15,
    "start_time": "2024-04-23T09:39:05.611Z"
   },
   {
    "duration": 7,
    "start_time": "2024-04-23T09:40:34.208Z"
   },
   {
    "duration": 16,
    "start_time": "2024-04-23T09:40:34.691Z"
   },
   {
    "duration": 15,
    "start_time": "2024-04-23T09:41:52.469Z"
   },
   {
    "duration": 15,
    "start_time": "2024-04-23T09:42:00.190Z"
   },
   {
    "duration": 14,
    "start_time": "2024-04-23T09:42:00.657Z"
   },
   {
    "duration": 7,
    "start_time": "2024-04-23T09:51:00.381Z"
   },
   {
    "duration": 6,
    "start_time": "2024-04-23T09:51:00.995Z"
   },
   {
    "duration": 15,
    "start_time": "2024-04-23T09:51:04.719Z"
   },
   {
    "duration": 10,
    "start_time": "2024-04-23T09:51:20.945Z"
   },
   {
    "duration": 2,
    "start_time": "2024-04-23T09:52:10.473Z"
   },
   {
    "duration": 14,
    "start_time": "2024-04-23T09:52:11.328Z"
   },
   {
    "duration": 10,
    "start_time": "2024-04-23T09:52:42.294Z"
   },
   {
    "duration": 16,
    "start_time": "2024-04-23T09:53:24.475Z"
   },
   {
    "duration": 9,
    "start_time": "2024-04-23T09:54:55.145Z"
   },
   {
    "duration": 6,
    "start_time": "2024-04-23T09:54:56.217Z"
   },
   {
    "duration": 17,
    "start_time": "2024-04-23T09:54:57.048Z"
   },
   {
    "duration": 8,
    "start_time": "2024-04-23T09:54:59.619Z"
   },
   {
    "duration": 16,
    "start_time": "2024-04-23T09:55:00.337Z"
   },
   {
    "duration": 16,
    "start_time": "2024-04-23T09:55:50.253Z"
   },
   {
    "duration": 9,
    "start_time": "2024-04-23T09:57:07.611Z"
   },
   {
    "duration": 15,
    "start_time": "2024-04-23T09:57:55.853Z"
   },
   {
    "duration": 6,
    "start_time": "2024-04-23T09:58:03.591Z"
   },
   {
    "duration": 17,
    "start_time": "2024-04-23T09:58:04.336Z"
   },
   {
    "duration": 21,
    "start_time": "2024-04-23T09:58:31.295Z"
   },
   {
    "duration": 14,
    "start_time": "2024-04-23T09:59:29.563Z"
   },
   {
    "duration": 3,
    "start_time": "2024-04-23T10:02:44.242Z"
   },
   {
    "duration": 14,
    "start_time": "2024-04-23T10:05:11.766Z"
   },
   {
    "duration": 15,
    "start_time": "2024-04-23T10:05:13.425Z"
   },
   {
    "duration": 9,
    "start_time": "2024-04-23T10:05:34.168Z"
   },
   {
    "duration": 16,
    "start_time": "2024-04-23T10:05:35.009Z"
   },
   {
    "duration": 10,
    "start_time": "2024-04-23T10:06:18.710Z"
   },
   {
    "duration": 6,
    "start_time": "2024-04-23T10:06:20.154Z"
   },
   {
    "duration": 7,
    "start_time": "2024-04-23T10:06:25.891Z"
   },
   {
    "duration": 20,
    "start_time": "2024-04-23T10:06:25.900Z"
   },
   {
    "duration": 15,
    "start_time": "2024-04-23T10:06:56.782Z"
   },
   {
    "duration": 10,
    "start_time": "2024-04-23T10:09:14.959Z"
   },
   {
    "duration": 5,
    "start_time": "2024-04-23T10:09:15.586Z"
   },
   {
    "duration": 15,
    "start_time": "2024-04-23T10:09:17.025Z"
   },
   {
    "duration": 7,
    "start_time": "2024-04-23T10:09:40.668Z"
   },
   {
    "duration": 5,
    "start_time": "2024-04-23T10:09:41.822Z"
   },
   {
    "duration": 15,
    "start_time": "2024-04-23T10:09:42.806Z"
   },
   {
    "duration": 7,
    "start_time": "2024-04-23T10:10:00.008Z"
   },
   {
    "duration": 5,
    "start_time": "2024-04-23T10:10:16.740Z"
   },
   {
    "duration": 21,
    "start_time": "2024-04-23T10:10:17.498Z"
   },
   {
    "duration": 9,
    "start_time": "2024-04-23T10:14:15.169Z"
   },
   {
    "duration": 5,
    "start_time": "2024-04-23T10:16:37.513Z"
   },
   {
    "duration": 9,
    "start_time": "2024-04-23T10:17:34.889Z"
   },
   {
    "duration": 8,
    "start_time": "2024-04-23T10:17:45.728Z"
   },
   {
    "duration": 16,
    "start_time": "2024-04-23T10:18:07.798Z"
   },
   {
    "duration": 11,
    "start_time": "2024-04-23T10:18:55.411Z"
   },
   {
    "duration": 14,
    "start_time": "2024-04-23T10:18:56.724Z"
   },
   {
    "duration": 11,
    "start_time": "2024-04-23T10:19:36.203Z"
   },
   {
    "duration": 8,
    "start_time": "2024-04-23T10:20:31.678Z"
   },
   {
    "duration": 8,
    "start_time": "2024-04-23T10:21:07.534Z"
   },
   {
    "duration": 9,
    "start_time": "2024-04-23T10:22:10.286Z"
   },
   {
    "duration": 14,
    "start_time": "2024-04-23T10:22:11.178Z"
   },
   {
    "duration": 7,
    "start_time": "2024-04-23T10:38:24.791Z"
   },
   {
    "duration": 6,
    "start_time": "2024-04-23T10:38:25.868Z"
   },
   {
    "duration": 4,
    "start_time": "2024-04-23T10:38:35.905Z"
   },
   {
    "duration": 6,
    "start_time": "2024-04-23T10:38:43.100Z"
   },
   {
    "duration": 4,
    "start_time": "2024-04-23T10:39:26.586Z"
   },
   {
    "duration": 9,
    "start_time": "2024-04-23T10:42:56.446Z"
   },
   {
    "duration": 7,
    "start_time": "2024-04-23T10:42:56.796Z"
   },
   {
    "duration": 4,
    "start_time": "2024-04-23T10:43:02.058Z"
   },
   {
    "duration": 3,
    "start_time": "2024-04-23T10:43:02.873Z"
   },
   {
    "duration": 17,
    "start_time": "2024-04-23T10:43:17.557Z"
   },
   {
    "duration": 9,
    "start_time": "2024-04-23T10:43:22.221Z"
   },
   {
    "duration": 23,
    "start_time": "2024-04-23T10:43:22.910Z"
   },
   {
    "duration": 16,
    "start_time": "2024-04-23T10:44:00.609Z"
   },
   {
    "duration": 16,
    "start_time": "2024-04-23T10:44:12.233Z"
   },
   {
    "duration": 10,
    "start_time": "2024-04-23T10:44:26.493Z"
   },
   {
    "duration": 23,
    "start_time": "2024-04-23T10:44:28.577Z"
   },
   {
    "duration": 10,
    "start_time": "2024-04-23T10:44:35.076Z"
   },
   {
    "duration": 16,
    "start_time": "2024-04-23T10:44:36.310Z"
   },
   {
    "duration": 19,
    "start_time": "2024-04-23T10:46:33.121Z"
   },
   {
    "duration": 7,
    "start_time": "2024-04-23T10:48:01.964Z"
   },
   {
    "duration": 15,
    "start_time": "2024-04-23T10:54:36.046Z"
   },
   {
    "duration": 14,
    "start_time": "2024-04-23T10:54:47.409Z"
   },
   {
    "duration": 14,
    "start_time": "2024-04-23T10:54:51.341Z"
   },
   {
    "duration": 9,
    "start_time": "2024-04-23T10:55:06.997Z"
   },
   {
    "duration": 10,
    "start_time": "2024-04-23T10:55:07.869Z"
   },
   {
    "duration": 9,
    "start_time": "2024-04-23T10:55:10.082Z"
   },
   {
    "duration": 15,
    "start_time": "2024-04-23T10:55:10.646Z"
   },
   {
    "duration": 5,
    "start_time": "2024-04-23T10:56:32.333Z"
   },
   {
    "duration": 4,
    "start_time": "2024-04-23T10:56:33.488Z"
   },
   {
    "duration": 10,
    "start_time": "2024-04-23T11:00:09.445Z"
   },
   {
    "duration": 6,
    "start_time": "2024-04-23T11:03:30.790Z"
   },
   {
    "duration": 5,
    "start_time": "2024-04-23T11:08:17.349Z"
   },
   {
    "duration": 8,
    "start_time": "2024-04-23T11:09:17.367Z"
   },
   {
    "duration": 5,
    "start_time": "2024-04-23T11:09:18.133Z"
   },
   {
    "duration": 4,
    "start_time": "2024-04-23T11:09:21.471Z"
   },
   {
    "duration": 5,
    "start_time": "2024-04-23T11:14:19.141Z"
   },
   {
    "duration": 9,
    "start_time": "2024-04-23T11:14:25.760Z"
   },
   {
    "duration": 5,
    "start_time": "2024-04-23T11:14:26.482Z"
   },
   {
    "duration": 5,
    "start_time": "2024-04-23T11:14:27.138Z"
   },
   {
    "duration": 5,
    "start_time": "2024-04-23T11:16:13.499Z"
   },
   {
    "duration": 15,
    "start_time": "2024-04-23T11:18:00.700Z"
   },
   {
    "duration": 11,
    "start_time": "2024-04-23T11:18:10.649Z"
   },
   {
    "duration": 5,
    "start_time": "2024-04-23T11:18:35.800Z"
   },
   {
    "duration": 4,
    "start_time": "2024-04-23T11:22:21.612Z"
   },
   {
    "duration": 5,
    "start_time": "2024-04-23T11:22:22.230Z"
   },
   {
    "duration": 5,
    "start_time": "2024-04-23T11:22:23.342Z"
   },
   {
    "duration": 4,
    "start_time": "2024-04-23T11:22:24.496Z"
   },
   {
    "duration": 4,
    "start_time": "2024-04-23T11:22:25.614Z"
   },
   {
    "duration": 4,
    "start_time": "2024-04-23T11:22:26.235Z"
   },
   {
    "duration": 23,
    "start_time": "2024-04-23T11:22:27.275Z"
   },
   {
    "duration": 20,
    "start_time": "2024-04-23T12:17:38.084Z"
   },
   {
    "duration": 14,
    "start_time": "2024-04-23T12:17:39.013Z"
   },
   {
    "duration": 34,
    "start_time": "2024-04-23T12:17:41.717Z"
   },
   {
    "duration": 31,
    "start_time": "2024-04-23T12:17:59.381Z"
   },
   {
    "duration": 7,
    "start_time": "2024-04-23T12:18:10.503Z"
   },
   {
    "duration": 4,
    "start_time": "2024-04-23T12:18:17.357Z"
   },
   {
    "duration": 6,
    "start_time": "2024-04-23T12:18:18.064Z"
   },
   {
    "duration": 6,
    "start_time": "2024-04-23T12:18:19.893Z"
   },
   {
    "duration": 5,
    "start_time": "2024-04-23T12:18:20.897Z"
   },
   {
    "duration": 5,
    "start_time": "2024-04-23T12:18:22.545Z"
   },
   {
    "duration": 3,
    "start_time": "2024-04-23T12:18:24.671Z"
   },
   {
    "duration": 4,
    "start_time": "2024-04-23T12:18:25.711Z"
   },
   {
    "duration": 3,
    "start_time": "2024-04-23T12:18:26.723Z"
   },
   {
    "duration": 18,
    "start_time": "2024-04-23T12:18:27.250Z"
   },
   {
    "duration": 5,
    "start_time": "2024-04-23T12:18:33.299Z"
   },
   {
    "duration": 143,
    "start_time": "2024-04-23T12:18:33.984Z"
   },
   {
    "duration": 235,
    "start_time": "2024-04-23T12:19:12.993Z"
   },
   {
    "duration": 2545,
    "start_time": "2024-04-23T12:19:21.157Z"
   },
   {
    "duration": 8,
    "start_time": "2024-04-23T12:19:23.704Z"
   },
   {
    "duration": 52,
    "start_time": "2024-04-23T12:19:23.713Z"
   },
   {
    "duration": 5,
    "start_time": "2024-04-23T12:19:30.439Z"
   },
   {
    "duration": 78,
    "start_time": "2024-04-23T12:19:32.152Z"
   },
   {
    "duration": 48,
    "start_time": "2024-04-23T12:19:39.786Z"
   },
   {
    "duration": 6,
    "start_time": "2024-04-23T12:19:41.318Z"
   },
   {
    "duration": 30,
    "start_time": "2024-04-23T12:19:41.909Z"
   },
   {
    "duration": 10,
    "start_time": "2024-04-23T12:20:51.670Z"
   },
   {
    "duration": 14,
    "start_time": "2024-04-23T12:20:52.511Z"
   },
   {
    "duration": 2173,
    "start_time": "2024-04-23T12:20:53.741Z"
   },
   {
    "duration": 17,
    "start_time": "2024-04-23T12:21:01.618Z"
   },
   {
    "duration": 253,
    "start_time": "2024-04-23T12:21:03.123Z"
   },
   {
    "duration": 298,
    "start_time": "2024-04-23T12:21:04.289Z"
   },
   {
    "duration": 8,
    "start_time": "2024-04-23T12:21:09.750Z"
   },
   {
    "duration": 12,
    "start_time": "2024-04-23T12:21:10.862Z"
   },
   {
    "duration": 4,
    "start_time": "2024-04-23T12:21:14.039Z"
   },
   {
    "duration": 458,
    "start_time": "2024-04-23T12:21:15.562Z"
   },
   {
    "duration": 582,
    "start_time": "2024-04-23T12:21:17.443Z"
   },
   {
    "duration": 8,
    "start_time": "2024-04-23T12:21:19.765Z"
   },
   {
    "duration": 474,
    "start_time": "2024-04-23T12:21:20.359Z"
   },
   {
    "duration": 9,
    "start_time": "2024-04-23T12:21:28.271Z"
   },
   {
    "duration": 7,
    "start_time": "2024-04-23T12:21:28.518Z"
   },
   {
    "duration": 16,
    "start_time": "2024-04-23T12:21:28.712Z"
   },
   {
    "duration": 9,
    "start_time": "2024-04-23T12:21:29.450Z"
   },
   {
    "duration": 15,
    "start_time": "2024-04-23T12:21:29.896Z"
   },
   {
    "duration": 13,
    "start_time": "2024-04-23T12:21:41.853Z"
   },
   {
    "duration": 14,
    "start_time": "2024-04-23T12:21:54.889Z"
   },
   {
    "duration": 14,
    "start_time": "2024-04-23T12:22:09.900Z"
   },
   {
    "duration": 15,
    "start_time": "2024-04-23T12:22:19.676Z"
   },
   {
    "duration": 8,
    "start_time": "2024-04-23T12:22:29.007Z"
   },
   {
    "duration": 5,
    "start_time": "2024-04-23T12:22:29.693Z"
   },
   {
    "duration": 14,
    "start_time": "2024-04-23T12:22:30.812Z"
   },
   {
    "duration": 10,
    "start_time": "2024-04-23T12:22:34.589Z"
   },
   {
    "duration": 14,
    "start_time": "2024-04-23T12:22:40.056Z"
   },
   {
    "duration": 9,
    "start_time": "2024-04-23T12:22:46.928Z"
   },
   {
    "duration": 471,
    "start_time": "2024-04-23T12:22:47.506Z"
   },
   {
    "duration": 9,
    "start_time": "2024-04-23T12:22:53.129Z"
   },
   {
    "duration": 6,
    "start_time": "2024-04-23T12:22:54.184Z"
   },
   {
    "duration": 15,
    "start_time": "2024-04-23T12:22:55.213Z"
   },
   {
    "duration": 20,
    "start_time": "2024-04-23T12:23:15.567Z"
   },
   {
    "duration": 14,
    "start_time": "2024-04-23T12:23:16.300Z"
   },
   {
    "duration": 91,
    "start_time": "2024-04-23T12:23:28.214Z"
   },
   {
    "duration": 15,
    "start_time": "2024-04-23T12:23:33.374Z"
   },
   {
    "duration": 14,
    "start_time": "2024-04-23T12:23:38.037Z"
   },
   {
    "duration": 8,
    "start_time": "2024-04-23T12:23:52.057Z"
   },
   {
    "duration": 5,
    "start_time": "2024-04-23T12:23:54.233Z"
   },
   {
    "duration": 14,
    "start_time": "2024-04-23T12:23:55.258Z"
   },
   {
    "duration": 11,
    "start_time": "2024-04-23T12:23:57.724Z"
   },
   {
    "duration": 14,
    "start_time": "2024-04-23T12:24:19.035Z"
   },
   {
    "duration": 16,
    "start_time": "2024-04-23T12:25:03.128Z"
   },
   {
    "duration": 17,
    "start_time": "2024-04-23T12:25:52.086Z"
   },
   {
    "duration": 17,
    "start_time": "2024-04-23T12:25:55.472Z"
   },
   {
    "duration": 14,
    "start_time": "2024-04-23T12:27:21.944Z"
   },
   {
    "duration": 8,
    "start_time": "2024-04-23T12:27:57.777Z"
   },
   {
    "duration": 6,
    "start_time": "2024-04-23T12:27:58.458Z"
   },
   {
    "duration": 21,
    "start_time": "2024-04-23T12:28:00.137Z"
   },
   {
    "duration": 9,
    "start_time": "2024-04-23T12:28:02.868Z"
   },
   {
    "duration": 14,
    "start_time": "2024-04-23T12:29:45.707Z"
   },
   {
    "duration": 15,
    "start_time": "2024-04-23T12:30:00.527Z"
   },
   {
    "duration": 17,
    "start_time": "2024-04-23T12:30:43.456Z"
   },
   {
    "duration": 9,
    "start_time": "2024-04-23T12:31:06.385Z"
   },
   {
    "duration": 6,
    "start_time": "2024-04-23T12:31:06.857Z"
   },
   {
    "duration": 15,
    "start_time": "2024-04-23T12:31:07.697Z"
   },
   {
    "duration": 10,
    "start_time": "2024-04-23T12:31:09.324Z"
   },
   {
    "duration": 15,
    "start_time": "2024-04-23T12:31:09.878Z"
   },
   {
    "duration": 7,
    "start_time": "2024-04-23T12:31:19.650Z"
   },
   {
    "duration": 4,
    "start_time": "2024-04-23T12:31:38.015Z"
   },
   {
    "duration": 5,
    "start_time": "2024-04-23T12:31:39.108Z"
   },
   {
    "duration": 3,
    "start_time": "2024-04-23T12:31:39.996Z"
   },
   {
    "duration": 18,
    "start_time": "2024-04-23T12:31:40.520Z"
   },
   {
    "duration": 5,
    "start_time": "2024-04-23T12:31:43.326Z"
   },
   {
    "duration": 142,
    "start_time": "2024-04-23T12:31:44.260Z"
   },
   {
    "duration": 206,
    "start_time": "2024-04-23T12:31:46.079Z"
   },
   {
    "duration": 2513,
    "start_time": "2024-04-23T12:31:47.045Z"
   },
   {
    "duration": 6,
    "start_time": "2024-04-23T12:31:49.561Z"
   },
   {
    "duration": 52,
    "start_time": "2024-04-23T12:31:49.569Z"
   },
   {
    "duration": 4,
    "start_time": "2024-04-23T12:31:50.043Z"
   },
   {
    "duration": 67,
    "start_time": "2024-04-23T12:31:50.423Z"
   },
   {
    "duration": 44,
    "start_time": "2024-04-23T12:31:51.079Z"
   },
   {
    "duration": 6,
    "start_time": "2024-04-23T12:31:51.850Z"
   },
   {
    "duration": 28,
    "start_time": "2024-04-23T12:31:52.052Z"
   },
   {
    "duration": 38,
    "start_time": "2024-04-23T12:31:52.586Z"
   },
   {
    "duration": 1910,
    "start_time": "2024-04-23T12:31:53.660Z"
   },
   {
    "duration": 12,
    "start_time": "2024-04-23T12:31:55.579Z"
   },
   {
    "duration": 39,
    "start_time": "2024-04-23T12:31:55.593Z"
   },
   {
    "duration": 2075,
    "start_time": "2024-04-23T12:31:55.634Z"
   },
   {
    "duration": 22,
    "start_time": "2024-04-23T12:31:57.712Z"
   },
   {
    "duration": 249,
    "start_time": "2024-04-23T12:31:57.736Z"
   },
   {
    "duration": 281,
    "start_time": "2024-04-23T12:31:57.987Z"
   },
   {
    "duration": 7,
    "start_time": "2024-04-23T12:31:59.107Z"
   },
   {
    "duration": 10,
    "start_time": "2024-04-23T12:31:59.627Z"
   },
   {
    "duration": 4,
    "start_time": "2024-04-23T12:32:01.857Z"
   },
   {
    "duration": 508,
    "start_time": "2024-04-23T12:32:02.419Z"
   },
   {
    "duration": 496,
    "start_time": "2024-04-23T12:32:03.847Z"
   },
   {
    "duration": 7,
    "start_time": "2024-04-23T12:32:04.906Z"
   },
   {
    "duration": 624,
    "start_time": "2024-04-23T12:32:05.291Z"
   },
   {
    "duration": 9,
    "start_time": "2024-04-23T12:32:07.939Z"
   },
   {
    "duration": 5,
    "start_time": "2024-04-23T12:32:08.257Z"
   },
   {
    "duration": 15,
    "start_time": "2024-04-23T12:32:09.127Z"
   },
   {
    "duration": 8,
    "start_time": "2024-04-23T12:32:10.820Z"
   },
   {
    "duration": 15,
    "start_time": "2024-04-23T12:32:11.379Z"
   },
   {
    "duration": 14,
    "start_time": "2024-04-23T12:33:40.432Z"
   },
   {
    "duration": 21,
    "start_time": "2024-04-23T12:34:15.324Z"
   },
   {
    "duration": 20,
    "start_time": "2024-04-23T12:34:20.524Z"
   },
   {
    "duration": 15,
    "start_time": "2024-04-23T12:35:00.705Z"
   },
   {
    "duration": 15,
    "start_time": "2024-04-23T12:35:01.416Z"
   },
   {
    "duration": 20,
    "start_time": "2024-04-23T12:35:05.003Z"
   },
   {
    "duration": 6,
    "start_time": "2024-04-23T12:36:59.831Z"
   },
   {
    "duration": 17,
    "start_time": "2024-04-23T12:37:00.449Z"
   },
   {
    "duration": 9,
    "start_time": "2024-04-23T12:37:01.871Z"
   },
   {
    "duration": 20,
    "start_time": "2024-04-23T12:37:02.397Z"
   },
   {
    "duration": 9,
    "start_time": "2024-04-23T12:37:55.482Z"
   },
   {
    "duration": 5,
    "start_time": "2024-04-23T12:37:56.334Z"
   },
   {
    "duration": 16,
    "start_time": "2024-04-23T12:37:56.989Z"
   },
   {
    "duration": 10,
    "start_time": "2024-04-23T12:37:59.507Z"
   },
   {
    "duration": 1176,
    "start_time": "2024-04-23T13:06:59.774Z"
   },
   {
    "duration": 114,
    "start_time": "2024-04-23T13:07:00.952Z"
   },
   {
    "duration": 147,
    "start_time": "2024-04-23T13:07:01.068Z"
   },
   {
    "duration": 100,
    "start_time": "2024-04-23T13:07:01.217Z"
   },
   {
    "duration": 50,
    "start_time": "2024-04-23T13:07:01.320Z"
   },
   {
    "duration": 27,
    "start_time": "2024-04-23T13:07:01.372Z"
   },
   {
    "duration": 38,
    "start_time": "2024-04-23T13:07:01.400Z"
   },
   {
    "duration": 38,
    "start_time": "2024-04-23T13:07:01.440Z"
   },
   {
    "duration": 26,
    "start_time": "2024-04-23T13:07:01.479Z"
   },
   {
    "duration": 23,
    "start_time": "2024-04-23T13:07:01.507Z"
   },
   {
    "duration": 15,
    "start_time": "2024-04-23T13:07:01.532Z"
   },
   {
    "duration": 24,
    "start_time": "2024-04-23T13:07:01.548Z"
   },
   {
    "duration": 35,
    "start_time": "2024-04-23T13:07:01.574Z"
   },
   {
    "duration": 67,
    "start_time": "2024-04-23T13:07:01.612Z"
   },
   {
    "duration": 41,
    "start_time": "2024-04-23T13:07:01.680Z"
   },
   {
    "duration": 5,
    "start_time": "2024-04-23T13:07:01.723Z"
   },
   {
    "duration": 318,
    "start_time": "2024-04-23T13:07:01.730Z"
   },
   {
    "duration": 281,
    "start_time": "2024-04-23T13:07:02.050Z"
   },
   {
    "duration": 2793,
    "start_time": "2024-04-23T13:07:02.333Z"
   },
   {
    "duration": 9,
    "start_time": "2024-04-23T13:07:05.127Z"
   },
   {
    "duration": 1450,
    "start_time": "2024-04-23T13:07:05.138Z"
   },
   {
    "duration": 4,
    "start_time": "2024-04-23T13:07:06.590Z"
   },
   {
    "duration": 354,
    "start_time": "2024-04-23T13:07:06.595Z"
   },
   {
    "duration": 48,
    "start_time": "2024-04-23T13:07:06.951Z"
   },
   {
    "duration": 5,
    "start_time": "2024-04-23T13:07:07.001Z"
   },
   {
    "duration": 47,
    "start_time": "2024-04-23T13:07:07.008Z"
   },
   {
    "duration": 34,
    "start_time": "2024-04-23T13:07:07.057Z"
   },
   {
    "duration": 1528,
    "start_time": "2024-04-23T13:07:07.093Z"
   },
   {
    "duration": 10,
    "start_time": "2024-04-23T13:07:08.622Z"
   },
   {
    "duration": 18,
    "start_time": "2024-04-23T13:07:08.634Z"
   },
   {
    "duration": 1791,
    "start_time": "2024-04-23T13:07:08.653Z"
   },
   {
    "duration": 20,
    "start_time": "2024-04-23T13:07:10.446Z"
   },
   {
    "duration": 211,
    "start_time": "2024-04-23T13:07:10.468Z"
   },
   {
    "duration": 257,
    "start_time": "2024-04-23T13:07:10.681Z"
   },
   {
    "duration": 6,
    "start_time": "2024-04-23T13:07:10.939Z"
   },
   {
    "duration": 18,
    "start_time": "2024-04-23T13:07:10.947Z"
   },
   {
    "duration": 4,
    "start_time": "2024-04-23T13:07:10.967Z"
   },
   {
    "duration": 405,
    "start_time": "2024-04-23T13:07:10.972Z"
   },
   {
    "duration": 423,
    "start_time": "2024-04-23T13:07:11.379Z"
   },
   {
    "duration": 7,
    "start_time": "2024-04-23T13:07:11.804Z"
   },
   {
    "duration": 461,
    "start_time": "2024-04-23T13:07:11.814Z"
   },
   {
    "duration": 8,
    "start_time": "2024-04-23T13:07:12.277Z"
   },
   {
    "duration": 28,
    "start_time": "2024-04-23T13:07:12.286Z"
   },
   {
    "duration": 169,
    "start_time": "2024-04-23T13:07:12.316Z"
   },
   {
    "duration": 0,
    "start_time": "2024-04-23T13:07:12.486Z"
   },
   {
    "duration": 0,
    "start_time": "2024-04-23T13:07:12.487Z"
   },
   {
    "duration": 11,
    "start_time": "2024-04-23T13:16:59.840Z"
   },
   {
    "duration": 14,
    "start_time": "2024-04-23T13:17:00.601Z"
   },
   {
    "duration": 32,
    "start_time": "2024-04-23T13:55:27.646Z"
   },
   {
    "duration": 27,
    "start_time": "2024-04-23T13:56:02.427Z"
   },
   {
    "duration": 174,
    "start_time": "2024-04-23T13:57:35.685Z"
   },
   {
    "duration": 2146,
    "start_time": "2024-04-23T13:57:44.690Z"
   },
   {
    "duration": 2727,
    "start_time": "2024-04-23T13:57:49.110Z"
   },
   {
    "duration": 1712,
    "start_time": "2024-04-23T13:59:25.490Z"
   },
   {
    "duration": 1699,
    "start_time": "2024-04-23T14:00:35.253Z"
   },
   {
    "duration": 18,
    "start_time": "2024-04-23T14:01:00.033Z"
   },
   {
    "duration": 18,
    "start_time": "2024-04-23T14:02:49.320Z"
   },
   {
    "duration": 10,
    "start_time": "2024-04-23T14:07:18.343Z"
   },
   {
    "duration": 2675,
    "start_time": "2024-04-23T14:07:25.779Z"
   },
   {
    "duration": 2165,
    "start_time": "2024-04-23T14:07:28.456Z"
   },
   {
    "duration": 0,
    "start_time": "2024-04-23T14:07:30.622Z"
   },
   {
    "duration": 8,
    "start_time": "2024-04-23T14:11:54.900Z"
   },
   {
    "duration": 9,
    "start_time": "2024-04-23T14:12:25.799Z"
   },
   {
    "duration": 5,
    "start_time": "2024-04-23T14:12:32.580Z"
   },
   {
    "duration": 9,
    "start_time": "2024-04-23T14:12:33.241Z"
   },
   {
    "duration": 31,
    "start_time": "2024-04-23T14:12:42.673Z"
   },
   {
    "duration": 18,
    "start_time": "2024-04-23T14:12:43.715Z"
   },
   {
    "duration": 5,
    "start_time": "2024-04-23T14:12:48.003Z"
   },
   {
    "duration": 9,
    "start_time": "2024-04-23T14:12:48.496Z"
   },
   {
    "duration": 17,
    "start_time": "2024-04-23T14:13:06.071Z"
   },
   {
    "duration": 14,
    "start_time": "2024-04-23T14:13:06.965Z"
   },
   {
    "duration": 4,
    "start_time": "2024-04-23T14:13:18.758Z"
   },
   {
    "duration": 15,
    "start_time": "2024-04-23T14:13:19.577Z"
   },
   {
    "duration": 15,
    "start_time": "2024-04-23T14:13:21.704Z"
   },
   {
    "duration": 3,
    "start_time": "2024-04-23T14:13:32.422Z"
   },
   {
    "duration": 3549,
    "start_time": "2024-04-23T14:13:33.813Z"
   },
   {
    "duration": 0,
    "start_time": "2024-04-23T14:13:37.363Z"
   },
   {
    "duration": 3,
    "start_time": "2024-04-23T14:13:44.663Z"
   },
   {
    "duration": 57,
    "start_time": "2024-04-23T14:13:45.509Z"
   },
   {
    "duration": 18,
    "start_time": "2024-04-23T14:13:46.158Z"
   },
   {
    "duration": 15,
    "start_time": "2024-04-23T14:13:46.990Z"
   },
   {
    "duration": 32,
    "start_time": "2024-04-23T14:13:47.687Z"
   },
   {
    "duration": 16,
    "start_time": "2024-04-23T14:13:51.136Z"
   },
   {
    "duration": 4,
    "start_time": "2024-04-23T14:13:52.596Z"
   },
   {
    "duration": 6,
    "start_time": "2024-04-23T14:13:54.348Z"
   },
   {
    "duration": 9,
    "start_time": "2024-04-23T14:13:56.518Z"
   },
   {
    "duration": 6,
    "start_time": "2024-04-23T14:13:58.556Z"
   },
   {
    "duration": 7,
    "start_time": "2024-04-23T14:14:00.227Z"
   },
   {
    "duration": 4,
    "start_time": "2024-04-23T14:14:01.543Z"
   },
   {
    "duration": 6,
    "start_time": "2024-04-23T14:14:02.917Z"
   },
   {
    "duration": 5,
    "start_time": "2024-04-23T14:14:04.636Z"
   },
   {
    "duration": 18,
    "start_time": "2024-04-23T14:14:05.914Z"
   },
   {
    "duration": 37,
    "start_time": "2024-04-23T14:14:07.528Z"
   },
   {
    "duration": 5643,
    "start_time": "2024-04-23T14:14:10.624Z"
   },
   {
    "duration": 4,
    "start_time": "2024-04-23T14:14:17.145Z"
   },
   {
    "duration": 342,
    "start_time": "2024-04-23T14:14:17.927Z"
   },
   {
    "duration": 5,
    "start_time": "2024-04-23T14:15:58.093Z"
   },
   {
    "duration": 332,
    "start_time": "2024-04-23T14:15:58.865Z"
   },
   {
    "duration": 319,
    "start_time": "2024-04-23T14:18:05.654Z"
   },
   {
    "duration": 2631,
    "start_time": "2024-04-23T14:18:13.932Z"
   },
   {
    "duration": 8,
    "start_time": "2024-04-23T14:18:16.566Z"
   },
   {
    "duration": 328,
    "start_time": "2024-04-23T14:18:19.045Z"
   },
   {
    "duration": 512,
    "start_time": "2024-04-23T14:19:28.565Z"
   },
   {
    "duration": 360,
    "start_time": "2024-04-23T14:20:09.257Z"
   },
   {
    "duration": 364,
    "start_time": "2024-04-23T14:20:24.970Z"
   },
   {
    "duration": 357,
    "start_time": "2024-04-23T14:20:53.051Z"
   },
   {
    "duration": 422,
    "start_time": "2024-04-23T14:21:06.352Z"
   },
   {
    "duration": 354,
    "start_time": "2024-04-23T14:21:13.834Z"
   },
   {
    "duration": 345,
    "start_time": "2024-04-23T14:22:51.203Z"
   },
   {
    "duration": 5,
    "start_time": "2024-04-23T14:29:53.059Z"
   },
   {
    "duration": 7,
    "start_time": "2024-04-23T14:29:57.250Z"
   },
   {
    "duration": 306,
    "start_time": "2024-04-23T14:29:57.831Z"
   },
   {
    "duration": 326,
    "start_time": "2024-04-23T14:31:31.359Z"
   },
   {
    "duration": 333,
    "start_time": "2024-04-23T14:33:06.430Z"
   },
   {
    "duration": 444,
    "start_time": "2024-04-23T14:34:10.098Z"
   },
   {
    "duration": 325,
    "start_time": "2024-04-23T14:34:17.212Z"
   },
   {
    "duration": 6,
    "start_time": "2024-04-23T14:34:33.203Z"
   },
   {
    "duration": 4,
    "start_time": "2024-04-23T14:34:36.309Z"
   },
   {
    "duration": 328,
    "start_time": "2024-04-23T14:34:36.893Z"
   },
   {
    "duration": 4,
    "start_time": "2024-04-23T14:34:51.355Z"
   },
   {
    "duration": 338,
    "start_time": "2024-04-23T14:34:51.817Z"
   },
   {
    "duration": 334,
    "start_time": "2024-04-23T14:36:10.278Z"
   },
   {
    "duration": 337,
    "start_time": "2024-04-23T14:37:30.546Z"
   },
   {
    "duration": 412,
    "start_time": "2024-04-23T14:37:58.855Z"
   },
   {
    "duration": 303,
    "start_time": "2024-04-23T14:38:26.021Z"
   },
   {
    "duration": 308,
    "start_time": "2024-04-23T14:38:32.193Z"
   },
   {
    "duration": 298,
    "start_time": "2024-04-23T14:38:36.882Z"
   },
   {
    "duration": 310,
    "start_time": "2024-04-23T14:39:07.544Z"
   },
   {
    "duration": 321,
    "start_time": "2024-04-23T14:40:54.668Z"
   },
   {
    "duration": 412,
    "start_time": "2024-04-23T14:41:17.571Z"
   },
   {
    "duration": 310,
    "start_time": "2024-04-23T14:42:14.325Z"
   },
   {
    "duration": 319,
    "start_time": "2024-04-23T14:42:37.231Z"
   },
   {
    "duration": 2633,
    "start_time": "2024-04-23T14:42:41.388Z"
   },
   {
    "duration": 9,
    "start_time": "2024-04-23T14:42:44.023Z"
   },
   {
    "duration": 47,
    "start_time": "2024-04-23T14:42:47.504Z"
   },
   {
    "duration": 208,
    "start_time": "2024-04-23T14:43:05.588Z"
   },
   {
    "duration": 144,
    "start_time": "2024-04-23T14:43:08.877Z"
   },
   {
    "duration": 8,
    "start_time": "2024-04-23T14:43:18.808Z"
   },
   {
    "duration": 40,
    "start_time": "2024-04-23T14:43:20.562Z"
   },
   {
    "duration": 62,
    "start_time": "2024-04-23T14:43:21.609Z"
   },
   {
    "duration": 1838,
    "start_time": "2024-04-23T14:43:27.542Z"
   },
   {
    "duration": 14,
    "start_time": "2024-04-23T14:43:30.620Z"
   },
   {
    "duration": 1661,
    "start_time": "2024-04-23T14:43:45.189Z"
   },
   {
    "duration": 13,
    "start_time": "2024-04-23T14:43:46.852Z"
   },
   {
    "duration": 15,
    "start_time": "2024-04-23T14:43:47.477Z"
   },
   {
    "duration": 1848,
    "start_time": "2024-04-23T14:43:48.732Z"
   },
   {
    "duration": 17,
    "start_time": "2024-04-23T14:44:11.356Z"
   },
   {
    "duration": 394,
    "start_time": "2024-04-23T14:44:18.993Z"
   },
   {
    "duration": 302,
    "start_time": "2024-04-23T14:44:20.604Z"
   },
   {
    "duration": 5,
    "start_time": "2024-04-23T14:45:25.376Z"
   },
   {
    "duration": 510,
    "start_time": "2024-04-23T14:45:40.015Z"
   },
   {
    "duration": 467,
    "start_time": "2024-04-23T14:45:45.722Z"
   },
   {
    "duration": 9,
    "start_time": "2024-04-23T14:45:47.745Z"
   },
   {
    "duration": 520,
    "start_time": "2024-04-23T14:45:48.403Z"
   },
   {
    "duration": 12,
    "start_time": "2024-04-23T14:45:53.672Z"
   },
   {
    "duration": 7,
    "start_time": "2024-04-23T14:45:54.090Z"
   },
   {
    "duration": 73,
    "start_time": "2024-04-23T14:45:54.818Z"
   },
   {
    "duration": 13,
    "start_time": "2024-04-23T14:45:57.165Z"
   },
   {
    "duration": 17,
    "start_time": "2024-04-23T14:45:57.769Z"
   },
   {
    "duration": 312,
    "start_time": "2024-04-23T14:51:04.772Z"
   },
   {
    "duration": 24,
    "start_time": "2024-04-23T14:58:32.087Z"
   },
   {
    "duration": 1251,
    "start_time": "2024-04-23T14:58:56.487Z"
   },
   {
    "duration": 59,
    "start_time": "2024-04-23T14:58:57.741Z"
   },
   {
    "duration": 20,
    "start_time": "2024-04-23T14:58:57.802Z"
   },
   {
    "duration": 16,
    "start_time": "2024-04-23T14:58:57.825Z"
   },
   {
    "duration": 50,
    "start_time": "2024-04-23T14:58:57.843Z"
   },
   {
    "duration": 12,
    "start_time": "2024-04-23T14:58:57.894Z"
   },
   {
    "duration": 15,
    "start_time": "2024-04-23T14:58:57.908Z"
   },
   {
    "duration": 17,
    "start_time": "2024-04-23T14:58:57.925Z"
   },
   {
    "duration": 13,
    "start_time": "2024-04-23T14:58:57.944Z"
   },
   {
    "duration": 5,
    "start_time": "2024-04-23T14:58:57.960Z"
   },
   {
    "duration": 17,
    "start_time": "2024-04-23T14:58:57.966Z"
   },
   {
    "duration": 4,
    "start_time": "2024-04-23T14:58:57.985Z"
   },
   {
    "duration": 13,
    "start_time": "2024-04-23T14:58:57.990Z"
   },
   {
    "duration": 15,
    "start_time": "2024-04-23T14:58:58.005Z"
   },
   {
    "duration": 39,
    "start_time": "2024-04-23T14:58:58.021Z"
   },
   {
    "duration": 45,
    "start_time": "2024-04-23T14:58:58.061Z"
   },
   {
    "duration": 2279,
    "start_time": "2024-04-23T14:58:58.107Z"
   },
   {
    "duration": 0,
    "start_time": "2024-04-23T14:59:00.389Z"
   },
   {
    "duration": 0,
    "start_time": "2024-04-23T14:59:00.390Z"
   },
   {
    "duration": 0,
    "start_time": "2024-04-23T14:59:00.392Z"
   },
   {
    "duration": 0,
    "start_time": "2024-04-23T14:59:00.393Z"
   },
   {
    "duration": 0,
    "start_time": "2024-04-23T14:59:00.394Z"
   },
   {
    "duration": 0,
    "start_time": "2024-04-23T14:59:00.395Z"
   },
   {
    "duration": 0,
    "start_time": "2024-04-23T14:59:00.396Z"
   },
   {
    "duration": 0,
    "start_time": "2024-04-23T14:59:00.397Z"
   },
   {
    "duration": 0,
    "start_time": "2024-04-23T14:59:00.398Z"
   },
   {
    "duration": 0,
    "start_time": "2024-04-23T14:59:00.400Z"
   },
   {
    "duration": 0,
    "start_time": "2024-04-23T14:59:00.401Z"
   },
   {
    "duration": 0,
    "start_time": "2024-04-23T14:59:00.402Z"
   },
   {
    "duration": 0,
    "start_time": "2024-04-23T14:59:00.403Z"
   },
   {
    "duration": 0,
    "start_time": "2024-04-23T14:59:00.404Z"
   },
   {
    "duration": 0,
    "start_time": "2024-04-23T14:59:00.405Z"
   },
   {
    "duration": 0,
    "start_time": "2024-04-23T14:59:00.407Z"
   },
   {
    "duration": 0,
    "start_time": "2024-04-23T14:59:00.407Z"
   },
   {
    "duration": 0,
    "start_time": "2024-04-23T14:59:00.408Z"
   },
   {
    "duration": 0,
    "start_time": "2024-04-23T14:59:00.410Z"
   },
   {
    "duration": 0,
    "start_time": "2024-04-23T14:59:00.410Z"
   },
   {
    "duration": 0,
    "start_time": "2024-04-23T14:59:00.411Z"
   },
   {
    "duration": 0,
    "start_time": "2024-04-23T14:59:00.412Z"
   },
   {
    "duration": 0,
    "start_time": "2024-04-23T14:59:00.413Z"
   },
   {
    "duration": 0,
    "start_time": "2024-04-23T14:59:00.415Z"
   },
   {
    "duration": 0,
    "start_time": "2024-04-23T14:59:00.415Z"
   },
   {
    "duration": 0,
    "start_time": "2024-04-23T14:59:00.417Z"
   },
   {
    "duration": 0,
    "start_time": "2024-04-23T14:59:00.418Z"
   },
   {
    "duration": 0,
    "start_time": "2024-04-23T14:59:00.419Z"
   },
   {
    "duration": 0,
    "start_time": "2024-04-23T14:59:00.420Z"
   },
   {
    "duration": 0,
    "start_time": "2024-04-23T14:59:00.421Z"
   },
   {
    "duration": 0,
    "start_time": "2024-04-23T14:59:00.422Z"
   },
   {
    "duration": 12,
    "start_time": "2024-04-23T14:59:10.578Z"
   },
   {
    "duration": 15,
    "start_time": "2024-04-23T14:59:11.682Z"
   },
   {
    "duration": 15,
    "start_time": "2024-04-23T14:59:22.057Z"
   },
   {
    "duration": 6,
    "start_time": "2024-04-23T14:59:22.867Z"
   },
   {
    "duration": 13,
    "start_time": "2024-04-23T14:59:23.361Z"
   },
   {
    "duration": 12,
    "start_time": "2024-04-23T14:59:26.151Z"
   },
   {
    "duration": 15,
    "start_time": "2024-04-23T14:59:26.787Z"
   },
   {
    "duration": 359,
    "start_time": "2024-04-23T15:05:33.693Z"
   },
   {
    "duration": 13,
    "start_time": "2024-04-23T15:05:41.637Z"
   },
   {
    "duration": 8,
    "start_time": "2024-04-23T15:07:00.789Z"
   },
   {
    "duration": 12,
    "start_time": "2024-04-23T15:07:02.383Z"
   },
   {
    "duration": 13,
    "start_time": "2024-04-23T15:07:36.270Z"
   },
   {
    "duration": 70,
    "start_time": "2024-04-23T15:12:31.684Z"
   },
   {
    "duration": 16,
    "start_time": "2024-04-23T15:13:48.434Z"
   },
   {
    "duration": 16,
    "start_time": "2024-04-23T15:14:22.658Z"
   },
   {
    "duration": 85,
    "start_time": "2024-04-23T15:14:23.251Z"
   },
   {
    "duration": 88,
    "start_time": "2024-04-23T15:15:06.819Z"
   },
   {
    "duration": 363,
    "start_time": "2024-04-23T15:15:38.768Z"
   },
   {
    "duration": 7,
    "start_time": "2024-04-23T15:30:04.973Z"
   },
   {
    "duration": 12,
    "start_time": "2024-04-23T15:30:13.978Z"
   },
   {
    "duration": 11,
    "start_time": "2024-04-23T15:30:20.932Z"
   },
   {
    "duration": 6,
    "start_time": "2024-04-23T15:30:21.399Z"
   },
   {
    "duration": 19,
    "start_time": "2024-04-23T15:30:21.984Z"
   },
   {
    "duration": 6,
    "start_time": "2024-04-23T15:30:40.241Z"
   },
   {
    "duration": 13,
    "start_time": "2024-04-23T15:31:17.604Z"
   },
   {
    "duration": 14,
    "start_time": "2024-04-23T15:31:18.688Z"
   },
   {
    "duration": 12,
    "start_time": "2024-04-23T15:31:45.538Z"
   },
   {
    "duration": 6,
    "start_time": "2024-04-23T15:31:47.128Z"
   },
   {
    "duration": 17,
    "start_time": "2024-04-23T15:32:12.104Z"
   },
   {
    "duration": 12,
    "start_time": "2024-04-23T15:32:44.340Z"
   },
   {
    "duration": 11,
    "start_time": "2024-04-23T15:32:44.779Z"
   },
   {
    "duration": 10,
    "start_time": "2024-04-23T15:32:45.189Z"
   },
   {
    "duration": 10,
    "start_time": "2024-04-23T15:32:45.646Z"
   },
   {
    "duration": 15,
    "start_time": "2024-04-23T15:32:57.666Z"
   },
   {
    "duration": 14,
    "start_time": "2024-04-23T15:32:59.481Z"
   },
   {
    "duration": 13,
    "start_time": "2024-04-23T15:33:08.929Z"
   },
   {
    "duration": 15,
    "start_time": "2024-04-23T15:35:15.851Z"
   },
   {
    "duration": 14,
    "start_time": "2024-04-23T15:35:27.929Z"
   },
   {
    "duration": 16,
    "start_time": "2024-04-23T15:36:09.106Z"
   },
   {
    "duration": 14,
    "start_time": "2024-04-23T15:36:18.598Z"
   },
   {
    "duration": 13,
    "start_time": "2024-04-23T15:36:26.896Z"
   },
   {
    "duration": 16,
    "start_time": "2024-04-23T15:36:28.230Z"
   },
   {
    "duration": 14,
    "start_time": "2024-04-23T15:36:36.468Z"
   },
   {
    "duration": 11,
    "start_time": "2024-04-23T15:37:04.249Z"
   },
   {
    "duration": 14,
    "start_time": "2024-04-23T15:37:05.811Z"
   },
   {
    "duration": 17,
    "start_time": "2024-04-23T15:37:49.187Z"
   },
   {
    "duration": 14,
    "start_time": "2024-04-23T15:37:58.479Z"
   },
   {
    "duration": 16,
    "start_time": "2024-04-23T15:37:59.160Z"
   },
   {
    "duration": 6,
    "start_time": "2024-04-23T15:43:19.053Z"
   },
   {
    "duration": 6,
    "start_time": "2024-04-23T15:43:22.768Z"
   },
   {
    "duration": 19,
    "start_time": "2024-04-23T15:43:52.557Z"
   },
   {
    "duration": 12,
    "start_time": "2024-04-23T15:44:05.839Z"
   },
   {
    "duration": 15,
    "start_time": "2024-04-23T15:44:06.467Z"
   },
   {
    "duration": 6,
    "start_time": "2024-04-23T15:44:30.096Z"
   },
   {
    "duration": 14,
    "start_time": "2024-04-23T15:44:30.832Z"
   },
   {
    "duration": 6,
    "start_time": "2024-04-23T15:44:41.694Z"
   },
   {
    "duration": 9,
    "start_time": "2024-04-23T15:46:41.888Z"
   },
   {
    "duration": 17,
    "start_time": "2024-04-23T15:47:32.121Z"
   },
   {
    "duration": 12,
    "start_time": "2024-04-23T15:51:41.811Z"
   },
   {
    "duration": 12,
    "start_time": "2024-04-23T15:51:42.244Z"
   },
   {
    "duration": 11,
    "start_time": "2024-04-23T15:51:42.731Z"
   },
   {
    "duration": 10,
    "start_time": "2024-04-23T15:51:45.316Z"
   },
   {
    "duration": 6,
    "start_time": "2024-04-23T15:51:45.760Z"
   },
   {
    "duration": 14,
    "start_time": "2024-04-23T15:51:46.520Z"
   },
   {
    "duration": 11,
    "start_time": "2024-04-23T15:52:02.832Z"
   },
   {
    "duration": 14,
    "start_time": "2024-04-23T15:52:04.451Z"
   },
   {
    "duration": 25,
    "start_time": "2024-04-23T15:52:37.371Z"
   },
   {
    "duration": 11,
    "start_time": "2024-04-23T15:54:59.041Z"
   },
   {
    "duration": 15,
    "start_time": "2024-04-23T15:55:02.464Z"
   },
   {
    "duration": 12,
    "start_time": "2024-04-23T16:01:31.344Z"
   },
   {
    "duration": 15,
    "start_time": "2024-04-23T16:01:33.843Z"
   },
   {
    "duration": 13,
    "start_time": "2024-04-23T16:01:47.651Z"
   },
   {
    "duration": 18,
    "start_time": "2024-04-23T16:02:16.336Z"
   },
   {
    "duration": 21,
    "start_time": "2024-04-23T16:03:09.151Z"
   },
   {
    "duration": 22,
    "start_time": "2024-04-23T16:03:17.629Z"
   },
   {
    "duration": 23,
    "start_time": "2024-04-23T16:03:35.890Z"
   },
   {
    "duration": 14,
    "start_time": "2024-04-23T16:03:58.689Z"
   },
   {
    "duration": 19,
    "start_time": "2024-04-23T16:03:59.618Z"
   },
   {
    "duration": 16,
    "start_time": "2024-04-23T16:04:08.708Z"
   },
   {
    "duration": 14,
    "start_time": "2024-04-23T16:04:09.991Z"
   },
   {
    "duration": 19,
    "start_time": "2024-04-23T16:04:14.732Z"
   },
   {
    "duration": 23,
    "start_time": "2024-04-23T16:08:11.679Z"
   },
   {
    "duration": 21,
    "start_time": "2024-04-23T16:08:20.772Z"
   },
   {
    "duration": 20,
    "start_time": "2024-04-23T16:10:46.921Z"
   },
   {
    "duration": 28,
    "start_time": "2024-04-23T16:10:51.122Z"
   },
   {
    "duration": 23,
    "start_time": "2024-04-23T16:11:07.305Z"
   },
   {
    "duration": 11,
    "start_time": "2024-04-23T16:12:25.608Z"
   },
   {
    "duration": 13,
    "start_time": "2024-04-23T16:12:29.028Z"
   },
   {
    "duration": 31,
    "start_time": "2024-04-23T16:14:46.585Z"
   },
   {
    "duration": 22,
    "start_time": "2024-04-23T16:15:13.288Z"
   },
   {
    "duration": 24,
    "start_time": "2024-04-23T16:15:16.953Z"
   },
   {
    "duration": 20,
    "start_time": "2024-04-23T16:15:17.906Z"
   },
   {
    "duration": 12,
    "start_time": "2024-04-23T16:15:38.130Z"
   },
   {
    "duration": 12,
    "start_time": "2024-04-23T16:15:47.140Z"
   },
   {
    "duration": 14,
    "start_time": "2024-04-23T16:15:47.649Z"
   },
   {
    "duration": 11,
    "start_time": "2024-04-23T16:19:38.019Z"
   },
   {
    "duration": 11,
    "start_time": "2024-04-23T16:19:50.862Z"
   },
   {
    "duration": 13,
    "start_time": "2024-04-23T16:20:09.658Z"
   },
   {
    "duration": 20,
    "start_time": "2024-04-23T16:20:25.646Z"
   },
   {
    "duration": 16,
    "start_time": "2024-04-23T16:21:10.930Z"
   },
   {
    "duration": 20,
    "start_time": "2024-04-23T16:21:11.528Z"
   },
   {
    "duration": 13,
    "start_time": "2024-04-23T16:21:28.934Z"
   },
   {
    "duration": 15,
    "start_time": "2024-04-23T16:21:38.136Z"
   },
   {
    "duration": 79,
    "start_time": "2024-04-23T16:24:47.930Z"
   },
   {
    "duration": 15,
    "start_time": "2024-04-23T16:25:13.514Z"
   },
   {
    "duration": 13,
    "start_time": "2024-04-23T16:25:55.688Z"
   },
   {
    "duration": 16,
    "start_time": "2024-04-23T16:26:40.496Z"
   },
   {
    "duration": 15,
    "start_time": "2024-04-23T16:26:42.268Z"
   },
   {
    "duration": 22,
    "start_time": "2024-04-23T16:26:53.044Z"
   },
   {
    "duration": 23,
    "start_time": "2024-04-23T16:27:19.408Z"
   },
   {
    "duration": 12,
    "start_time": "2024-04-23T16:34:58.109Z"
   },
   {
    "duration": 14,
    "start_time": "2024-04-23T16:34:58.825Z"
   },
   {
    "duration": 11,
    "start_time": "2024-04-23T16:35:04.638Z"
   },
   {
    "duration": 13,
    "start_time": "2024-04-23T16:35:05.416Z"
   },
   {
    "duration": 20,
    "start_time": "2024-04-23T16:36:51.308Z"
   },
   {
    "duration": 11,
    "start_time": "2024-04-23T16:39:34.149Z"
   },
   {
    "duration": 13,
    "start_time": "2024-04-23T16:39:36.651Z"
   },
   {
    "duration": 1174,
    "start_time": "2024-04-23T16:39:56.142Z"
   },
   {
    "duration": 55,
    "start_time": "2024-04-23T16:39:57.318Z"
   },
   {
    "duration": 20,
    "start_time": "2024-04-23T16:39:57.374Z"
   },
   {
    "duration": 20,
    "start_time": "2024-04-23T16:39:57.395Z"
   },
   {
    "duration": 29,
    "start_time": "2024-04-23T16:39:57.417Z"
   },
   {
    "duration": 10,
    "start_time": "2024-04-23T16:39:57.448Z"
   },
   {
    "duration": 5,
    "start_time": "2024-04-23T16:39:57.481Z"
   },
   {
    "duration": 8,
    "start_time": "2024-04-23T16:39:57.488Z"
   },
   {
    "duration": 10,
    "start_time": "2024-04-23T16:39:57.498Z"
   },
   {
    "duration": 5,
    "start_time": "2024-04-23T16:39:57.509Z"
   },
   {
    "duration": 5,
    "start_time": "2024-04-23T16:39:57.516Z"
   },
   {
    "duration": 9,
    "start_time": "2024-04-23T16:39:57.523Z"
   },
   {
    "duration": 7,
    "start_time": "2024-04-23T16:39:57.534Z"
   },
   {
    "duration": 5,
    "start_time": "2024-04-23T16:39:57.543Z"
   },
   {
    "duration": 43,
    "start_time": "2024-04-23T16:39:57.550Z"
   },
   {
    "duration": 41,
    "start_time": "2024-04-23T16:39:57.595Z"
   },
   {
    "duration": 1984,
    "start_time": "2024-04-23T16:39:57.638Z"
   },
   {
    "duration": 0,
    "start_time": "2024-04-23T16:39:59.624Z"
   },
   {
    "duration": 0,
    "start_time": "2024-04-23T16:39:59.626Z"
   },
   {
    "duration": 0,
    "start_time": "2024-04-23T16:39:59.628Z"
   },
   {
    "duration": 0,
    "start_time": "2024-04-23T16:39:59.629Z"
   },
   {
    "duration": 0,
    "start_time": "2024-04-23T16:39:59.630Z"
   },
   {
    "duration": 0,
    "start_time": "2024-04-23T16:39:59.632Z"
   },
   {
    "duration": 0,
    "start_time": "2024-04-23T16:39:59.634Z"
   },
   {
    "duration": 0,
    "start_time": "2024-04-23T16:39:59.635Z"
   },
   {
    "duration": 0,
    "start_time": "2024-04-23T16:39:59.636Z"
   },
   {
    "duration": 0,
    "start_time": "2024-04-23T16:39:59.638Z"
   },
   {
    "duration": 0,
    "start_time": "2024-04-23T16:39:59.639Z"
   },
   {
    "duration": 0,
    "start_time": "2024-04-23T16:39:59.641Z"
   },
   {
    "duration": 0,
    "start_time": "2024-04-23T16:39:59.642Z"
   },
   {
    "duration": 0,
    "start_time": "2024-04-23T16:39:59.643Z"
   },
   {
    "duration": 0,
    "start_time": "2024-04-23T16:39:59.644Z"
   },
   {
    "duration": 0,
    "start_time": "2024-04-23T16:39:59.646Z"
   },
   {
    "duration": 0,
    "start_time": "2024-04-23T16:39:59.647Z"
   },
   {
    "duration": 0,
    "start_time": "2024-04-23T16:39:59.649Z"
   },
   {
    "duration": 0,
    "start_time": "2024-04-23T16:39:59.650Z"
   },
   {
    "duration": 0,
    "start_time": "2024-04-23T16:39:59.652Z"
   },
   {
    "duration": 0,
    "start_time": "2024-04-23T16:39:59.654Z"
   },
   {
    "duration": 0,
    "start_time": "2024-04-23T16:39:59.655Z"
   },
   {
    "duration": 0,
    "start_time": "2024-04-23T16:39:59.656Z"
   },
   {
    "duration": 0,
    "start_time": "2024-04-23T16:39:59.658Z"
   },
   {
    "duration": 0,
    "start_time": "2024-04-23T16:39:59.659Z"
   },
   {
    "duration": 0,
    "start_time": "2024-04-23T16:39:59.660Z"
   },
   {
    "duration": 0,
    "start_time": "2024-04-23T16:39:59.662Z"
   },
   {
    "duration": 0,
    "start_time": "2024-04-23T16:39:59.680Z"
   },
   {
    "duration": 0,
    "start_time": "2024-04-23T16:39:59.682Z"
   },
   {
    "duration": 0,
    "start_time": "2024-04-23T16:39:59.683Z"
   },
   {
    "duration": 0,
    "start_time": "2024-04-23T16:39:59.685Z"
   },
   {
    "duration": 11,
    "start_time": "2024-04-23T16:40:04.343Z"
   },
   {
    "duration": 16,
    "start_time": "2024-04-23T16:40:05.541Z"
   },
   {
    "duration": 28,
    "start_time": "2024-04-23T16:40:13.038Z"
   },
   {
    "duration": 4,
    "start_time": "2024-04-23T16:43:16.134Z"
   },
   {
    "duration": 22,
    "start_time": "2024-04-23T16:43:47.976Z"
   },
   {
    "duration": 18,
    "start_time": "2024-04-23T16:43:52.088Z"
   },
   {
    "duration": 13,
    "start_time": "2024-04-23T16:43:53.203Z"
   },
   {
    "duration": 16,
    "start_time": "2024-04-23T16:44:55.818Z"
   },
   {
    "duration": 21,
    "start_time": "2024-04-23T16:45:12.493Z"
   },
   {
    "duration": 4,
    "start_time": "2024-04-23T16:45:33.668Z"
   },
   {
    "duration": 14,
    "start_time": "2024-04-23T16:45:49.427Z"
   },
   {
    "duration": 17,
    "start_time": "2024-04-23T16:45:56.138Z"
   },
   {
    "duration": 5,
    "start_time": "2024-04-23T16:45:56.852Z"
   },
   {
    "duration": 13,
    "start_time": "2024-04-23T16:47:37.136Z"
   },
   {
    "duration": 6,
    "start_time": "2024-04-23T16:47:50.643Z"
   },
   {
    "duration": 13,
    "start_time": "2024-04-23T16:51:08.609Z"
   },
   {
    "duration": 12,
    "start_time": "2024-04-23T16:51:57.026Z"
   },
   {
    "duration": 5,
    "start_time": "2024-04-23T16:51:58.290Z"
   },
   {
    "duration": 11,
    "start_time": "2024-04-23T16:53:54.678Z"
   },
   {
    "duration": 5,
    "start_time": "2024-04-23T16:53:55.804Z"
   },
   {
    "duration": 6,
    "start_time": "2024-04-23T16:55:32.022Z"
   },
   {
    "duration": 6,
    "start_time": "2024-04-23T16:56:44.805Z"
   },
   {
    "duration": 6,
    "start_time": "2024-04-23T16:59:13.322Z"
   },
   {
    "duration": 5,
    "start_time": "2024-04-23T16:59:14.581Z"
   },
   {
    "duration": 423,
    "start_time": "2024-04-23T17:05:31.814Z"
   },
   {
    "duration": 6,
    "start_time": "2024-04-23T17:05:34.545Z"
   },
   {
    "duration": 456,
    "start_time": "2024-04-23T17:05:34.726Z"
   },
   {
    "duration": 417,
    "start_time": "2024-04-23T17:05:35.411Z"
   },
   {
    "duration": 12,
    "start_time": "2024-04-23T17:05:35.933Z"
   },
   {
    "duration": 490,
    "start_time": "2024-04-23T17:05:36.113Z"
   },
   {
    "duration": 14,
    "start_time": "2024-04-23T17:05:37.557Z"
   },
   {
    "duration": 12,
    "start_time": "2024-04-23T17:05:38.465Z"
   },
   {
    "duration": 7,
    "start_time": "2024-04-23T17:05:38.651Z"
   },
   {
    "duration": 1288,
    "start_time": "2024-04-23T20:26:09.188Z"
   },
   {
    "duration": 200,
    "start_time": "2024-04-23T20:26:10.478Z"
   },
   {
    "duration": 19,
    "start_time": "2024-04-23T20:26:10.681Z"
   },
   {
    "duration": 14,
    "start_time": "2024-04-23T20:26:10.702Z"
   },
   {
    "duration": 36,
    "start_time": "2024-04-23T20:26:10.717Z"
   },
   {
    "duration": 8,
    "start_time": "2024-04-23T20:26:10.755Z"
   },
   {
    "duration": 12,
    "start_time": "2024-04-23T20:26:10.765Z"
   },
   {
    "duration": 6,
    "start_time": "2024-04-23T20:26:10.779Z"
   },
   {
    "duration": 16,
    "start_time": "2024-04-23T20:26:10.786Z"
   },
   {
    "duration": 4,
    "start_time": "2024-04-23T20:26:10.805Z"
   },
   {
    "duration": 7,
    "start_time": "2024-04-23T20:26:10.811Z"
   },
   {
    "duration": 7,
    "start_time": "2024-04-23T20:26:10.819Z"
   },
   {
    "duration": 11,
    "start_time": "2024-04-23T20:26:10.827Z"
   },
   {
    "duration": 4,
    "start_time": "2024-04-23T20:26:10.840Z"
   },
   {
    "duration": 23,
    "start_time": "2024-04-23T20:26:10.845Z"
   },
   {
    "duration": 27,
    "start_time": "2024-04-23T20:26:10.870Z"
   },
   {
    "duration": 1360,
    "start_time": "2024-04-23T20:26:10.898Z"
   },
   {
    "duration": 0,
    "start_time": "2024-04-23T20:26:12.261Z"
   },
   {
    "duration": 0,
    "start_time": "2024-04-23T20:26:12.263Z"
   },
   {
    "duration": 0,
    "start_time": "2024-04-23T20:26:12.264Z"
   },
   {
    "duration": 0,
    "start_time": "2024-04-23T20:26:12.266Z"
   },
   {
    "duration": 0,
    "start_time": "2024-04-23T20:26:12.268Z"
   },
   {
    "duration": 0,
    "start_time": "2024-04-23T20:26:12.269Z"
   },
   {
    "duration": 0,
    "start_time": "2024-04-23T20:26:12.271Z"
   },
   {
    "duration": 1,
    "start_time": "2024-04-23T20:26:12.272Z"
   },
   {
    "duration": 0,
    "start_time": "2024-04-23T20:26:12.274Z"
   },
   {
    "duration": 0,
    "start_time": "2024-04-23T20:26:12.275Z"
   },
   {
    "duration": 0,
    "start_time": "2024-04-23T20:26:12.277Z"
   },
   {
    "duration": 0,
    "start_time": "2024-04-23T20:26:12.278Z"
   },
   {
    "duration": 0,
    "start_time": "2024-04-23T20:26:12.280Z"
   },
   {
    "duration": 0,
    "start_time": "2024-04-23T20:26:12.282Z"
   },
   {
    "duration": 0,
    "start_time": "2024-04-23T20:26:12.283Z"
   },
   {
    "duration": 0,
    "start_time": "2024-04-23T20:26:12.285Z"
   },
   {
    "duration": 0,
    "start_time": "2024-04-23T20:26:12.286Z"
   },
   {
    "duration": 1,
    "start_time": "2024-04-23T20:26:12.287Z"
   },
   {
    "duration": 0,
    "start_time": "2024-04-23T20:26:12.289Z"
   },
   {
    "duration": 0,
    "start_time": "2024-04-23T20:26:12.290Z"
   },
   {
    "duration": 0,
    "start_time": "2024-04-23T20:26:12.292Z"
   },
   {
    "duration": 0,
    "start_time": "2024-04-23T20:26:12.293Z"
   },
   {
    "duration": 0,
    "start_time": "2024-04-23T20:26:12.295Z"
   },
   {
    "duration": 0,
    "start_time": "2024-04-23T20:26:12.296Z"
   },
   {
    "duration": 1,
    "start_time": "2024-04-23T20:26:12.297Z"
   },
   {
    "duration": 0,
    "start_time": "2024-04-23T20:26:12.299Z"
   },
   {
    "duration": 0,
    "start_time": "2024-04-23T20:26:12.300Z"
   },
   {
    "duration": 0,
    "start_time": "2024-04-23T20:26:12.360Z"
   },
   {
    "duration": 0,
    "start_time": "2024-04-23T20:26:12.361Z"
   },
   {
    "duration": 0,
    "start_time": "2024-04-23T20:26:12.363Z"
   },
   {
    "duration": 0,
    "start_time": "2024-04-23T20:26:12.363Z"
   },
   {
    "duration": 1446,
    "start_time": "2024-04-23T20:43:01.935Z"
   },
   {
    "duration": 11,
    "start_time": "2024-04-23T20:43:26.688Z"
   },
   {
    "duration": 4,
    "start_time": "2024-04-23T20:43:29.600Z"
   },
   {
    "duration": 6,
    "start_time": "2024-04-23T20:43:30.960Z"
   },
   {
    "duration": 5,
    "start_time": "2024-04-23T20:43:31.945Z"
   },
   {
    "duration": 9,
    "start_time": "2024-04-23T20:43:32.604Z"
   },
   {
    "duration": 4,
    "start_time": "2024-04-23T20:43:33.778Z"
   },
   {
    "duration": 3,
    "start_time": "2024-04-23T20:43:34.939Z"
   },
   {
    "duration": 5,
    "start_time": "2024-04-23T20:43:35.865Z"
   },
   {
    "duration": 4,
    "start_time": "2024-04-23T20:43:37.379Z"
   },
   {
    "duration": 18,
    "start_time": "2024-04-23T20:43:38.855Z"
   },
   {
    "duration": 29,
    "start_time": "2024-04-23T20:43:40.200Z"
   },
   {
    "duration": 1533,
    "start_time": "2024-04-23T20:43:44.765Z"
   },
   {
    "duration": 3707,
    "start_time": "2024-04-23T20:44:16.365Z"
   },
   {
    "duration": 33,
    "start_time": "2024-04-23T20:44:45.414Z"
   },
   {
    "duration": 1519,
    "start_time": "2024-04-23T20:44:55.210Z"
   },
   {
    "duration": 17,
    "start_time": "2024-04-23T20:45:19.066Z"
   },
   {
    "duration": 8,
    "start_time": "2024-04-23T20:45:25.911Z"
   },
   {
    "duration": 13,
    "start_time": "2024-04-23T20:45:28.921Z"
   },
   {
    "duration": 14,
    "start_time": "2024-04-23T20:45:39.348Z"
   },
   {
    "duration": 3,
    "start_time": "2024-04-23T20:45:46.097Z"
   },
   {
    "duration": 4,
    "start_time": "2024-04-23T20:46:01.583Z"
   },
   {
    "duration": 7,
    "start_time": "2024-04-23T20:46:02.885Z"
   },
   {
    "duration": 14,
    "start_time": "2024-04-23T20:46:04.369Z"
   },
   {
    "duration": 13,
    "start_time": "2024-04-23T20:46:30.071Z"
   },
   {
    "duration": 14,
    "start_time": "2024-04-23T20:46:31.228Z"
   },
   {
    "duration": 5,
    "start_time": "2024-04-23T20:46:45.801Z"
   },
   {
    "duration": 4,
    "start_time": "2024-04-23T20:46:48.697Z"
   },
   {
    "duration": 7,
    "start_time": "2024-04-23T20:46:50.996Z"
   },
   {
    "duration": 4,
    "start_time": "2024-04-23T20:46:56.944Z"
   },
   {
    "duration": 4,
    "start_time": "2024-04-23T20:47:02.937Z"
   },
   {
    "duration": 5,
    "start_time": "2024-04-23T20:47:07.392Z"
   },
   {
    "duration": 5,
    "start_time": "2024-04-23T20:47:09.146Z"
   },
   {
    "duration": 17,
    "start_time": "2024-04-23T20:47:10.329Z"
   },
   {
    "duration": 27,
    "start_time": "2024-04-23T20:47:11.920Z"
   },
   {
    "duration": 1379,
    "start_time": "2024-04-23T20:47:13.867Z"
   },
   {
    "duration": 1323,
    "start_time": "2024-04-23T20:47:22.190Z"
   },
   {
    "duration": 1669,
    "start_time": "2024-04-23T20:47:33.828Z"
   },
   {
    "duration": 7,
    "start_time": "2024-04-23T20:47:42.103Z"
   },
   {
    "duration": 301,
    "start_time": "2024-04-23T20:47:42.666Z"
   },
   {
    "duration": 295,
    "start_time": "2024-04-23T20:47:49.049Z"
   },
   {
    "duration": 2329,
    "start_time": "2024-04-23T20:47:50.029Z"
   },
   {
    "duration": 8,
    "start_time": "2024-04-23T20:47:52.360Z"
   },
   {
    "duration": 184,
    "start_time": "2024-04-23T20:47:52.648Z"
   },
   {
    "duration": 5,
    "start_time": "2024-04-23T20:47:56.033Z"
   },
   {
    "duration": 209,
    "start_time": "2024-04-23T20:47:57.808Z"
   },
   {
    "duration": 43,
    "start_time": "2024-04-23T20:48:00.426Z"
   },
   {
    "duration": 6,
    "start_time": "2024-04-23T20:48:01.679Z"
   },
   {
    "duration": 27,
    "start_time": "2024-04-23T20:48:02.254Z"
   },
   {
    "duration": 36,
    "start_time": "2024-04-23T20:48:03.234Z"
   },
   {
    "duration": 1717,
    "start_time": "2024-04-23T20:48:07.174Z"
   },
   {
    "duration": 11,
    "start_time": "2024-04-23T20:48:10.262Z"
   },
   {
    "duration": 10,
    "start_time": "2024-04-23T20:48:10.910Z"
   },
   {
    "duration": 1754,
    "start_time": "2024-04-23T20:48:14.694Z"
   },
   {
    "duration": 16,
    "start_time": "2024-04-23T20:48:17.616Z"
   },
   {
    "duration": 251,
    "start_time": "2024-04-23T20:48:21.768Z"
   },
   {
    "duration": 289,
    "start_time": "2024-04-23T20:48:22.329Z"
   },
   {
    "duration": 7,
    "start_time": "2024-04-23T20:48:23.963Z"
   },
   {
    "duration": 12,
    "start_time": "2024-04-23T20:48:25.049Z"
   },
   {
    "duration": 15,
    "start_time": "2024-04-23T20:48:25.649Z"
   },
   {
    "duration": 499,
    "start_time": "2024-04-23T20:48:26.455Z"
   },
   {
    "duration": 4,
    "start_time": "2024-04-23T20:48:32.666Z"
   },
   {
    "duration": 439,
    "start_time": "2024-04-23T20:48:33.399Z"
   },
   {
    "duration": 446,
    "start_time": "2024-04-23T20:48:36.479Z"
   },
   {
    "duration": 7,
    "start_time": "2024-04-23T20:48:37.967Z"
   },
   {
    "duration": 462,
    "start_time": "2024-04-23T20:48:41.458Z"
   },
   {
    "duration": 13,
    "start_time": "2024-04-23T20:48:51.670Z"
   },
   {
    "duration": 9,
    "start_time": "2024-04-23T20:48:56.592Z"
   },
   {
    "duration": 5,
    "start_time": "2024-04-23T20:48:57.225Z"
   },
   {
    "duration": 8,
    "start_time": "2024-04-23T20:50:13.279Z"
   },
   {
    "duration": 3,
    "start_time": "2024-04-23T20:50:32.168Z"
   },
   {
    "duration": 50,
    "start_time": "2024-04-23T20:50:33.486Z"
   },
   {
    "duration": 16,
    "start_time": "2024-04-23T20:50:34.306Z"
   },
   {
    "duration": 14,
    "start_time": "2024-04-23T20:50:35.281Z"
   },
   {
    "duration": 28,
    "start_time": "2024-04-23T20:50:44.114Z"
   },
   {
    "duration": 10,
    "start_time": "2024-04-23T20:50:47.798Z"
   },
   {
    "duration": 4,
    "start_time": "2024-04-23T20:50:51.074Z"
   },
   {
    "duration": 6,
    "start_time": "2024-04-23T20:50:52.479Z"
   },
   {
    "duration": 7,
    "start_time": "2024-04-23T20:50:54.851Z"
   },
   {
    "duration": 6,
    "start_time": "2024-04-23T20:50:58.503Z"
   },
   {
    "duration": 5,
    "start_time": "2024-04-23T20:51:01.075Z"
   },
   {
    "duration": 6,
    "start_time": "2024-04-23T20:51:07.634Z"
   },
   {
    "duration": 6,
    "start_time": "2024-04-23T20:51:10.332Z"
   },
   {
    "duration": 5,
    "start_time": "2024-04-23T20:51:11.856Z"
   },
   {
    "duration": 17,
    "start_time": "2024-04-23T20:51:12.769Z"
   },
   {
    "duration": 27,
    "start_time": "2024-04-23T20:51:14.312Z"
   },
   {
    "duration": 2173,
    "start_time": "2024-04-23T20:51:16.510Z"
   },
   {
    "duration": 1665,
    "start_time": "2024-04-23T20:51:41.735Z"
   },
   {
    "duration": 1336,
    "start_time": "2024-04-23T20:54:54.800Z"
   },
   {
    "duration": 4,
    "start_time": "2024-04-23T21:01:13.487Z"
   },
   {
    "duration": 4,
    "start_time": "2024-04-23T21:01:14.548Z"
   },
   {
    "duration": 5,
    "start_time": "2024-04-23T21:01:15.648Z"
   },
   {
    "duration": 6,
    "start_time": "2024-04-23T21:01:16.861Z"
   },
   {
    "duration": 24,
    "start_time": "2024-04-23T21:01:17.796Z"
   },
   {
    "duration": 36,
    "start_time": "2024-04-23T21:01:19.326Z"
   },
   {
    "duration": 1369,
    "start_time": "2024-04-23T21:01:22.043Z"
   },
   {
    "duration": 1425,
    "start_time": "2024-04-23T21:01:30.930Z"
   },
   {
    "duration": 23,
    "start_time": "2024-04-23T21:01:49.506Z"
   },
   {
    "duration": 17,
    "start_time": "2024-04-23T21:02:37.309Z"
   },
   {
    "duration": 4,
    "start_time": "2024-04-23T21:02:58.526Z"
   },
   {
    "duration": 64,
    "start_time": "2024-04-23T21:03:02.686Z"
   },
   {
    "duration": 17,
    "start_time": "2024-04-23T21:03:02.857Z"
   },
   {
    "duration": 14,
    "start_time": "2024-04-23T21:03:05.270Z"
   },
   {
    "duration": 36,
    "start_time": "2024-04-23T21:03:11.589Z"
   },
   {
    "duration": 13,
    "start_time": "2024-04-23T21:03:15.422Z"
   },
   {
    "duration": 3,
    "start_time": "2024-04-23T21:03:17.357Z"
   },
   {
    "duration": 8,
    "start_time": "2024-04-23T21:03:18.757Z"
   },
   {
    "duration": 7,
    "start_time": "2024-04-23T21:03:23.178Z"
   },
   {
    "duration": 7,
    "start_time": "2024-04-23T21:03:30.789Z"
   },
   {
    "duration": 4,
    "start_time": "2024-04-23T21:03:36.161Z"
   },
   {
    "duration": 5,
    "start_time": "2024-04-23T21:03:38.079Z"
   },
   {
    "duration": 5,
    "start_time": "2024-04-23T21:03:40.169Z"
   },
   {
    "duration": 7,
    "start_time": "2024-04-23T21:03:42.681Z"
   },
   {
    "duration": 16,
    "start_time": "2024-04-23T21:03:43.925Z"
   },
   {
    "duration": 27,
    "start_time": "2024-04-23T21:03:45.900Z"
   },
   {
    "duration": 1779,
    "start_time": "2024-04-23T21:03:48.014Z"
   },
   {
    "duration": 1582,
    "start_time": "2024-04-23T21:03:54.016Z"
   },
   {
    "duration": 29,
    "start_time": "2024-04-23T21:05:38.679Z"
   },
   {
    "duration": 5,
    "start_time": "2024-04-23T21:07:54.999Z"
   },
   {
    "duration": 8,
    "start_time": "2024-04-23T21:07:58.032Z"
   },
   {
    "duration": 4,
    "start_time": "2024-04-23T21:08:04.249Z"
   },
   {
    "duration": 5,
    "start_time": "2024-04-23T21:08:05.741Z"
   },
   {
    "duration": 5,
    "start_time": "2024-04-23T21:08:09.744Z"
   },
   {
    "duration": 5,
    "start_time": "2024-04-23T21:08:16.101Z"
   },
   {
    "duration": 17,
    "start_time": "2024-04-23T21:08:16.744Z"
   },
   {
    "duration": 24,
    "start_time": "2024-04-23T21:08:23.025Z"
   },
   {
    "duration": 1483,
    "start_time": "2024-04-23T21:08:29.686Z"
   },
   {
    "duration": 16,
    "start_time": "2024-04-23T21:10:07.119Z"
   },
   {
    "duration": 26,
    "start_time": "2024-04-23T21:10:22.905Z"
   },
   {
    "duration": 38,
    "start_time": "2024-04-23T21:10:27.910Z"
   },
   {
    "duration": 18,
    "start_time": "2024-04-23T21:10:29.867Z"
   },
   {
    "duration": 17,
    "start_time": "2024-04-23T21:11:30.866Z"
   },
   {
    "duration": 16,
    "start_time": "2024-04-23T21:11:34.341Z"
   },
   {
    "duration": 6,
    "start_time": "2024-04-23T21:11:43.925Z"
   },
   {
    "duration": 376,
    "start_time": "2024-04-23T21:11:45.016Z"
   },
   {
    "duration": 364,
    "start_time": "2024-04-23T21:11:51.005Z"
   },
   {
    "duration": 2433,
    "start_time": "2024-04-23T21:12:11.199Z"
   },
   {
    "duration": 11,
    "start_time": "2024-04-23T21:12:13.637Z"
   },
   {
    "duration": 388,
    "start_time": "2024-04-23T21:12:52.045Z"
   },
   {
    "duration": 524,
    "start_time": "2024-04-23T21:12:59.726Z"
   },
   {
    "duration": 2568,
    "start_time": "2024-04-23T21:13:01.656Z"
   },
   {
    "duration": 8,
    "start_time": "2024-04-23T21:13:04.226Z"
   },
   {
    "duration": 47,
    "start_time": "2024-04-23T21:13:06.040Z"
   },
   {
    "duration": 5,
    "start_time": "2024-04-23T21:13:07.867Z"
   },
   {
    "duration": 73,
    "start_time": "2024-04-23T21:13:12.110Z"
   },
   {
    "duration": 40,
    "start_time": "2024-04-23T21:13:15.292Z"
   },
   {
    "duration": 7,
    "start_time": "2024-04-23T21:13:17.133Z"
   },
   {
    "duration": 29,
    "start_time": "2024-04-23T21:13:18.817Z"
   },
   {
    "duration": 45,
    "start_time": "2024-04-23T21:13:20.300Z"
   },
   {
    "duration": 1669,
    "start_time": "2024-04-23T21:13:24.079Z"
   },
   {
    "duration": 11,
    "start_time": "2024-04-23T21:13:25.767Z"
   },
   {
    "duration": 15,
    "start_time": "2024-04-23T21:13:26.420Z"
   },
   {
    "duration": 2208,
    "start_time": "2024-04-23T21:13:28.229Z"
   },
   {
    "duration": 15,
    "start_time": "2024-04-23T21:13:31.016Z"
   },
   {
    "duration": 230,
    "start_time": "2024-04-23T21:13:32.790Z"
   },
   {
    "duration": 264,
    "start_time": "2024-04-23T21:13:33.605Z"
   },
   {
    "duration": 7,
    "start_time": "2024-04-23T21:13:35.424Z"
   },
   {
    "duration": 11,
    "start_time": "2024-04-23T21:13:36.674Z"
   },
   {
    "duration": 14,
    "start_time": "2024-04-23T21:13:37.349Z"
   },
   {
    "duration": 328,
    "start_time": "2024-04-23T21:13:38.214Z"
   },
   {
    "duration": 4,
    "start_time": "2024-04-23T21:13:42.286Z"
   },
   {
    "duration": 422,
    "start_time": "2024-04-23T21:13:43.015Z"
   },
   {
    "duration": 418,
    "start_time": "2024-04-23T21:13:46.346Z"
   },
   {
    "duration": 7,
    "start_time": "2024-04-23T21:13:50.174Z"
   },
   {
    "duration": 459,
    "start_time": "2024-04-23T21:14:09.794Z"
   },
   {
    "duration": 7,
    "start_time": "2024-04-23T21:14:16.251Z"
   },
   {
    "duration": 570,
    "start_time": "2024-04-23T21:14:39.833Z"
   },
   {
    "duration": 13,
    "start_time": "2024-04-23T21:14:45.722Z"
   },
   {
    "duration": 10,
    "start_time": "2024-04-23T21:14:49.706Z"
   },
   {
    "duration": 4,
    "start_time": "2024-04-23T21:14:50.568Z"
   },
   {
    "duration": 1292,
    "start_time": "2024-04-23T21:15:01.201Z"
   },
   {
    "duration": 67,
    "start_time": "2024-04-23T21:15:02.497Z"
   },
   {
    "duration": 30,
    "start_time": "2024-04-23T21:15:02.566Z"
   },
   {
    "duration": 30,
    "start_time": "2024-04-23T21:15:02.599Z"
   },
   {
    "duration": 52,
    "start_time": "2024-04-23T21:15:02.631Z"
   },
   {
    "duration": 12,
    "start_time": "2024-04-23T21:15:02.685Z"
   },
   {
    "duration": 36,
    "start_time": "2024-04-23T21:15:02.699Z"
   },
   {
    "duration": 14,
    "start_time": "2024-04-23T21:15:02.737Z"
   },
   {
    "duration": 14,
    "start_time": "2024-04-23T21:15:02.753Z"
   },
   {
    "duration": 5,
    "start_time": "2024-04-23T21:15:02.769Z"
   },
   {
    "duration": 19,
    "start_time": "2024-04-23T21:15:02.776Z"
   },
   {
    "duration": 14,
    "start_time": "2024-04-23T21:15:02.797Z"
   },
   {
    "duration": 9,
    "start_time": "2024-04-23T21:15:02.813Z"
   },
   {
    "duration": 6,
    "start_time": "2024-04-23T21:15:02.825Z"
   },
   {
    "duration": 30,
    "start_time": "2024-04-23T21:15:02.832Z"
   },
   {
    "duration": 45,
    "start_time": "2024-04-23T21:15:02.864Z"
   },
   {
    "duration": 18,
    "start_time": "2024-04-23T21:15:02.911Z"
   },
   {
    "duration": 7,
    "start_time": "2024-04-23T21:15:02.930Z"
   },
   {
    "duration": 396,
    "start_time": "2024-04-23T21:15:02.938Z"
   },
   {
    "duration": 313,
    "start_time": "2024-04-23T21:15:03.336Z"
   },
   {
    "duration": 2531,
    "start_time": "2024-04-23T21:15:03.651Z"
   },
   {
    "duration": 9,
    "start_time": "2024-04-23T21:15:06.183Z"
   },
   {
    "duration": 204,
    "start_time": "2024-04-23T21:15:06.193Z"
   },
   {
    "duration": 6,
    "start_time": "2024-04-23T21:15:06.399Z"
   },
   {
    "duration": 382,
    "start_time": "2024-04-23T21:15:06.407Z"
   },
   {
    "duration": 44,
    "start_time": "2024-04-23T21:15:06.791Z"
   },
   {
    "duration": 6,
    "start_time": "2024-04-23T21:15:06.836Z"
   },
   {
    "duration": 52,
    "start_time": "2024-04-23T21:15:06.844Z"
   },
   {
    "duration": 34,
    "start_time": "2024-04-23T21:15:06.898Z"
   },
   {
    "duration": 1572,
    "start_time": "2024-04-23T21:15:06.933Z"
   },
   {
    "duration": 11,
    "start_time": "2024-04-23T21:15:08.507Z"
   },
   {
    "duration": 16,
    "start_time": "2024-04-23T21:15:08.519Z"
   },
   {
    "duration": 1893,
    "start_time": "2024-04-23T21:15:08.537Z"
   },
   {
    "duration": 15,
    "start_time": "2024-04-23T21:15:10.431Z"
   },
   {
    "duration": 253,
    "start_time": "2024-04-23T21:15:10.447Z"
   },
   {
    "duration": 314,
    "start_time": "2024-04-23T21:15:10.702Z"
   },
   {
    "duration": 8,
    "start_time": "2024-04-23T21:15:11.017Z"
   },
   {
    "duration": 16,
    "start_time": "2024-04-23T21:15:11.026Z"
   },
   {
    "duration": 24,
    "start_time": "2024-04-23T21:15:11.044Z"
   },
   {
    "duration": 345,
    "start_time": "2024-04-23T21:15:11.081Z"
   },
   {
    "duration": 5,
    "start_time": "2024-04-23T21:15:11.429Z"
   },
   {
    "duration": 440,
    "start_time": "2024-04-23T21:15:11.435Z"
   },
   {
    "duration": 460,
    "start_time": "2024-04-23T21:15:11.879Z"
   },
   {
    "duration": 6,
    "start_time": "2024-04-23T21:15:12.341Z"
   },
   {
    "duration": 497,
    "start_time": "2024-04-23T21:15:12.349Z"
   },
   {
    "duration": 10,
    "start_time": "2024-04-23T21:15:12.847Z"
   },
   {
    "duration": 22,
    "start_time": "2024-04-23T21:15:12.859Z"
   },
   {
    "duration": 24,
    "start_time": "2024-04-23T21:15:12.883Z"
   },
   {
    "duration": 3,
    "start_time": "2024-04-23T21:15:25.955Z"
   },
   {
    "duration": 4,
    "start_time": "2024-04-23T21:16:47.213Z"
   },
   {
    "duration": 54,
    "start_time": "2024-04-23T21:16:48.246Z"
   },
   {
    "duration": 31,
    "start_time": "2024-04-23T21:16:49.058Z"
   },
   {
    "duration": 15,
    "start_time": "2024-04-23T21:16:49.789Z"
   },
   {
    "duration": 28,
    "start_time": "2024-04-23T21:16:50.334Z"
   },
   {
    "duration": 9,
    "start_time": "2024-04-23T21:16:53.324Z"
   },
   {
    "duration": 3,
    "start_time": "2024-04-23T21:16:54.484Z"
   },
   {
    "duration": 8,
    "start_time": "2024-04-23T21:16:55.609Z"
   },
   {
    "duration": 10,
    "start_time": "2024-04-23T21:16:57.788Z"
   },
   {
    "duration": 7,
    "start_time": "2024-04-23T21:17:01.543Z"
   },
   {
    "duration": 6,
    "start_time": "2024-04-23T21:17:03.172Z"
   },
   {
    "duration": 6,
    "start_time": "2024-04-23T21:17:05.812Z"
   },
   {
    "duration": 5,
    "start_time": "2024-04-23T21:17:07.576Z"
   },
   {
    "duration": 5,
    "start_time": "2024-04-23T21:17:09.361Z"
   },
   {
    "duration": 17,
    "start_time": "2024-04-23T21:17:10.813Z"
   },
   {
    "duration": 29,
    "start_time": "2024-04-23T21:17:13.777Z"
   },
   {
    "duration": 17,
    "start_time": "2024-04-23T21:17:15.576Z"
   },
   {
    "duration": 17,
    "start_time": "2024-04-23T21:17:20.330Z"
   },
   {
    "duration": 6,
    "start_time": "2024-04-23T21:17:27.371Z"
   },
   {
    "duration": 565,
    "start_time": "2024-04-23T21:17:28.172Z"
   },
   {
    "duration": 394,
    "start_time": "2024-04-23T21:17:36.914Z"
   },
   {
    "duration": 2436,
    "start_time": "2024-04-23T21:17:46.393Z"
   },
   {
    "duration": 8,
    "start_time": "2024-04-23T21:17:48.831Z"
   },
   {
    "duration": 43,
    "start_time": "2024-04-23T21:17:49.023Z"
   },
   {
    "duration": 39,
    "start_time": "2024-04-23T21:17:55.774Z"
   },
   {
    "duration": 4,
    "start_time": "2024-04-23T21:17:58.081Z"
   },
   {
    "duration": 68,
    "start_time": "2024-04-23T21:17:58.738Z"
   },
   {
    "duration": 70,
    "start_time": "2024-04-23T21:18:00.535Z"
   },
   {
    "duration": 6,
    "start_time": "2024-04-23T21:18:01.707Z"
   },
   {
    "duration": 30,
    "start_time": "2024-04-23T21:18:02.432Z"
   },
   {
    "duration": 39,
    "start_time": "2024-04-23T21:18:03.758Z"
   },
   {
    "duration": 1720,
    "start_time": "2024-04-23T21:18:06.594Z"
   },
   {
    "duration": 12,
    "start_time": "2024-04-23T21:18:08.316Z"
   },
   {
    "duration": 17,
    "start_time": "2024-04-23T21:18:08.698Z"
   },
   {
    "duration": 2200,
    "start_time": "2024-04-23T21:18:10.289Z"
   },
   {
    "duration": 19,
    "start_time": "2024-04-23T21:18:14.874Z"
   },
   {
    "duration": 223,
    "start_time": "2024-04-23T21:18:16.004Z"
   },
   {
    "duration": 337,
    "start_time": "2024-04-23T21:18:18.058Z"
   },
   {
    "duration": 6,
    "start_time": "2024-04-23T21:18:19.951Z"
   },
   {
    "duration": 16,
    "start_time": "2024-04-23T21:18:21.068Z"
   },
   {
    "duration": 15,
    "start_time": "2024-04-23T21:18:21.770Z"
   },
   {
    "duration": 368,
    "start_time": "2024-04-23T21:18:22.518Z"
   },
   {
    "duration": 5,
    "start_time": "2024-04-23T21:18:26.134Z"
   },
   {
    "duration": 421,
    "start_time": "2024-04-23T21:18:26.584Z"
   },
   {
    "duration": 483,
    "start_time": "2024-04-23T21:18:28.435Z"
   },
   {
    "duration": 8,
    "start_time": "2024-04-23T21:18:29.731Z"
   },
   {
    "duration": 595,
    "start_time": "2024-04-23T21:18:30.111Z"
   },
   {
    "duration": 13,
    "start_time": "2024-04-23T21:18:33.590Z"
   },
   {
    "duration": 9,
    "start_time": "2024-04-23T21:18:36.452Z"
   },
   {
    "duration": 6,
    "start_time": "2024-04-23T21:18:36.951Z"
   },
   {
    "duration": 994,
    "start_time": "2024-04-23T22:53:03.960Z"
   },
   {
    "duration": 98,
    "start_time": "2024-04-23T22:53:04.955Z"
   },
   {
    "duration": 17,
    "start_time": "2024-04-23T22:53:05.054Z"
   },
   {
    "duration": 11,
    "start_time": "2024-04-23T22:53:05.072Z"
   },
   {
    "duration": 21,
    "start_time": "2024-04-23T22:53:05.084Z"
   },
   {
    "duration": 6,
    "start_time": "2024-04-23T22:53:05.107Z"
   },
   {
    "duration": 4,
    "start_time": "2024-04-23T22:53:05.114Z"
   },
   {
    "duration": 16,
    "start_time": "2024-04-23T22:53:05.119Z"
   },
   {
    "duration": 12,
    "start_time": "2024-04-23T22:53:05.136Z"
   },
   {
    "duration": 11,
    "start_time": "2024-04-23T22:53:05.151Z"
   },
   {
    "duration": 6,
    "start_time": "2024-04-23T22:53:05.163Z"
   },
   {
    "duration": 9,
    "start_time": "2024-04-23T22:53:05.170Z"
   },
   {
    "duration": 15,
    "start_time": "2024-04-23T22:53:05.180Z"
   },
   {
    "duration": 14,
    "start_time": "2024-04-23T22:53:05.196Z"
   },
   {
    "duration": 14,
    "start_time": "2024-04-23T22:53:05.212Z"
   },
   {
    "duration": 4,
    "start_time": "2024-04-23T22:53:05.274Z"
   },
   {
    "duration": 276,
    "start_time": "2024-04-23T22:53:05.279Z"
   },
   {
    "duration": 247,
    "start_time": "2024-04-23T22:53:05.557Z"
   },
   {
    "duration": 2670,
    "start_time": "2024-04-23T22:53:05.805Z"
   },
   {
    "duration": 6,
    "start_time": "2024-04-23T22:53:08.477Z"
   },
   {
    "duration": 1175,
    "start_time": "2024-04-23T22:53:08.485Z"
   },
   {
    "duration": 3,
    "start_time": "2024-04-23T22:53:09.662Z"
   },
   {
    "duration": 311,
    "start_time": "2024-04-23T22:53:09.667Z"
   },
   {
    "duration": 44,
    "start_time": "2024-04-23T22:53:09.979Z"
   },
   {
    "duration": 5,
    "start_time": "2024-04-23T22:53:10.024Z"
   },
   {
    "duration": 50,
    "start_time": "2024-04-23T22:53:10.032Z"
   },
   {
    "duration": 28,
    "start_time": "2024-04-23T22:53:10.083Z"
   },
   {
    "duration": 1234,
    "start_time": "2024-04-23T22:53:10.113Z"
   },
   {
    "duration": 8,
    "start_time": "2024-04-23T22:53:11.348Z"
   },
   {
    "duration": 9,
    "start_time": "2024-04-23T22:53:11.357Z"
   },
   {
    "duration": 1461,
    "start_time": "2024-04-23T22:53:11.367Z"
   },
   {
    "duration": 12,
    "start_time": "2024-04-23T22:53:12.829Z"
   },
   {
    "duration": 181,
    "start_time": "2024-04-23T22:53:12.842Z"
   },
   {
    "duration": 237,
    "start_time": "2024-04-23T22:53:13.024Z"
   },
   {
    "duration": 6,
    "start_time": "2024-04-23T22:53:13.262Z"
   },
   {
    "duration": 12,
    "start_time": "2024-04-23T22:53:13.269Z"
   },
   {
    "duration": 20,
    "start_time": "2024-04-23T22:53:13.282Z"
   },
   {
    "duration": 273,
    "start_time": "2024-04-23T22:53:13.303Z"
   },
   {
    "duration": 5,
    "start_time": "2024-04-23T22:53:13.577Z"
   },
   {
    "duration": 370,
    "start_time": "2024-04-23T22:53:13.584Z"
   },
   {
    "duration": 351,
    "start_time": "2024-04-23T22:53:13.956Z"
   },
   {
    "duration": 6,
    "start_time": "2024-04-23T22:53:14.308Z"
   },
   {
    "duration": 379,
    "start_time": "2024-04-23T22:53:14.315Z"
   },
   {
    "duration": 8,
    "start_time": "2024-04-23T22:53:14.702Z"
   },
   {
    "duration": 8,
    "start_time": "2024-04-23T22:53:14.712Z"
   },
   {
    "duration": 7,
    "start_time": "2024-04-23T22:53:14.722Z"
   },
   {
    "duration": 4,
    "start_time": "2024-04-23T22:54:54.606Z"
   },
   {
    "duration": 3,
    "start_time": "2024-04-23T22:54:58.847Z"
   },
   {
    "duration": 21,
    "start_time": "2024-04-23T22:55:03.032Z"
   },
   {
    "duration": 786,
    "start_time": "2024-04-24T06:26:56.365Z"
   },
   {
    "duration": 8,
    "start_time": "2024-04-24T06:26:59.604Z"
   },
   {
    "duration": 1471,
    "start_time": "2024-04-24T06:27:08.924Z"
   },
   {
    "duration": 201,
    "start_time": "2024-04-24T06:27:10.397Z"
   },
   {
    "duration": 20,
    "start_time": "2024-04-24T06:27:10.600Z"
   },
   {
    "duration": 15,
    "start_time": "2024-04-24T06:27:10.622Z"
   },
   {
    "duration": 30,
    "start_time": "2024-04-24T06:27:10.639Z"
   },
   {
    "duration": 19,
    "start_time": "2024-04-24T06:27:10.671Z"
   },
   {
    "duration": 7,
    "start_time": "2024-04-24T06:27:10.692Z"
   },
   {
    "duration": 17,
    "start_time": "2024-04-24T06:27:10.701Z"
   },
   {
    "duration": 19,
    "start_time": "2024-04-24T06:27:10.720Z"
   },
   {
    "duration": 13,
    "start_time": "2024-04-24T06:27:10.741Z"
   },
   {
    "duration": 12,
    "start_time": "2024-04-24T06:27:10.756Z"
   },
   {
    "duration": 12,
    "start_time": "2024-04-24T06:27:10.770Z"
   },
   {
    "duration": 16,
    "start_time": "2024-04-24T06:27:10.783Z"
   },
   {
    "duration": 7,
    "start_time": "2024-04-24T06:27:10.801Z"
   },
   {
    "duration": 32,
    "start_time": "2024-04-24T06:27:10.809Z"
   },
   {
    "duration": 30,
    "start_time": "2024-04-24T06:27:10.843Z"
   },
   {
    "duration": 18,
    "start_time": "2024-04-24T06:27:10.875Z"
   },
   {
    "duration": 5,
    "start_time": "2024-04-24T06:27:10.895Z"
   },
   {
    "duration": 363,
    "start_time": "2024-04-24T06:27:10.901Z"
   },
   {
    "duration": 321,
    "start_time": "2024-04-24T06:27:11.266Z"
   },
   {
    "duration": 2970,
    "start_time": "2024-04-24T06:27:11.589Z"
   },
   {
    "duration": 8,
    "start_time": "2024-04-24T06:27:14.561Z"
   },
   {
    "duration": 221,
    "start_time": "2024-04-24T06:27:14.571Z"
   },
   {
    "duration": 5,
    "start_time": "2024-04-24T06:27:14.793Z"
   },
   {
    "duration": 366,
    "start_time": "2024-04-24T06:27:14.799Z"
   },
   {
    "duration": 51,
    "start_time": "2024-04-24T06:27:15.167Z"
   },
   {
    "duration": 33,
    "start_time": "2024-04-24T06:27:15.220Z"
   },
   {
    "duration": 105,
    "start_time": "2024-04-24T06:27:15.257Z"
   },
   {
    "duration": 92,
    "start_time": "2024-04-24T06:27:15.364Z"
   },
   {
    "duration": 1706,
    "start_time": "2024-04-24T06:27:15.457Z"
   },
   {
    "duration": 11,
    "start_time": "2024-04-24T06:27:17.164Z"
   },
   {
    "duration": 30,
    "start_time": "2024-04-24T06:27:17.176Z"
   },
   {
    "duration": 1865,
    "start_time": "2024-04-24T06:27:17.208Z"
   },
   {
    "duration": 16,
    "start_time": "2024-04-24T06:27:19.074Z"
   },
   {
    "duration": 249,
    "start_time": "2024-04-24T06:27:19.091Z"
   },
   {
    "duration": 299,
    "start_time": "2024-04-24T06:27:19.341Z"
   },
   {
    "duration": 9,
    "start_time": "2024-04-24T06:27:19.642Z"
   },
   {
    "duration": 17,
    "start_time": "2024-04-24T06:27:19.656Z"
   },
   {
    "duration": 16,
    "start_time": "2024-04-24T06:27:19.675Z"
   },
   {
    "duration": 374,
    "start_time": "2024-04-24T06:27:19.693Z"
   },
   {
    "duration": 5,
    "start_time": "2024-04-24T06:27:20.068Z"
   },
   {
    "duration": 474,
    "start_time": "2024-04-24T06:27:20.075Z"
   },
   {
    "duration": 462,
    "start_time": "2024-04-24T06:27:20.550Z"
   },
   {
    "duration": 9,
    "start_time": "2024-04-24T06:27:21.013Z"
   },
   {
    "duration": 512,
    "start_time": "2024-04-24T06:27:21.024Z"
   },
   {
    "duration": 21,
    "start_time": "2024-04-24T06:27:21.538Z"
   },
   {
    "duration": 209,
    "start_time": "2024-04-24T06:27:21.561Z"
   },
   {
    "duration": 0,
    "start_time": "2024-04-24T06:27:21.772Z"
   },
   {
    "duration": 0,
    "start_time": "2024-04-24T06:27:21.774Z"
   },
   {
    "duration": 1,
    "start_time": "2024-04-24T06:27:21.775Z"
   },
   {
    "duration": 0,
    "start_time": "2024-04-24T06:27:21.777Z"
   },
   {
    "duration": 3,
    "start_time": "2024-04-24T06:27:38.266Z"
   },
   {
    "duration": 53,
    "start_time": "2024-04-24T06:27:39.099Z"
   },
   {
    "duration": 22,
    "start_time": "2024-04-24T06:27:39.632Z"
   },
   {
    "duration": 15,
    "start_time": "2024-04-24T06:27:40.066Z"
   },
   {
    "duration": 28,
    "start_time": "2024-04-24T06:27:40.675Z"
   },
   {
    "duration": 10,
    "start_time": "2024-04-24T06:27:42.215Z"
   },
   {
    "duration": 3,
    "start_time": "2024-04-24T06:27:43.307Z"
   },
   {
    "duration": 10,
    "start_time": "2024-04-24T06:27:44.308Z"
   },
   {
    "duration": 7,
    "start_time": "2024-04-24T06:27:46.322Z"
   },
   {
    "duration": 6,
    "start_time": "2024-04-24T06:27:47.384Z"
   },
   {
    "duration": 5,
    "start_time": "2024-04-24T06:27:48.359Z"
   },
   {
    "duration": 5,
    "start_time": "2024-04-24T06:27:49.358Z"
   },
   {
    "duration": 5,
    "start_time": "2024-04-24T06:27:50.263Z"
   },
   {
    "duration": 4,
    "start_time": "2024-04-24T06:27:51.590Z"
   },
   {
    "duration": 23,
    "start_time": "2024-04-24T06:27:52.480Z"
   },
   {
    "duration": 30,
    "start_time": "2024-04-24T06:27:53.566Z"
   },
   {
    "duration": 18,
    "start_time": "2024-04-24T06:27:55.024Z"
   },
   {
    "duration": 5,
    "start_time": "2024-04-24T06:27:59.793Z"
   },
   {
    "duration": 538,
    "start_time": "2024-04-24T06:28:00.410Z"
   },
   {
    "duration": 401,
    "start_time": "2024-04-24T06:28:05.019Z"
   },
   {
    "duration": 2523,
    "start_time": "2024-04-24T06:28:06.227Z"
   },
   {
    "duration": 9,
    "start_time": "2024-04-24T06:28:08.752Z"
   },
   {
    "duration": 49,
    "start_time": "2024-04-24T06:28:08.762Z"
   },
   {
    "duration": 5,
    "start_time": "2024-04-24T06:28:09.506Z"
   },
   {
    "duration": 67,
    "start_time": "2024-04-24T06:28:13.057Z"
   },
   {
    "duration": 43,
    "start_time": "2024-04-24T06:28:14.786Z"
   },
   {
    "duration": 6,
    "start_time": "2024-04-24T06:28:15.746Z"
   },
   {
    "duration": 29,
    "start_time": "2024-04-24T06:28:16.286Z"
   },
   {
    "duration": 39,
    "start_time": "2024-04-24T06:28:17.329Z"
   },
   {
    "duration": 1781,
    "start_time": "2024-04-24T06:28:19.694Z"
   },
   {
    "duration": 11,
    "start_time": "2024-04-24T06:28:21.477Z"
   },
   {
    "duration": 23,
    "start_time": "2024-04-24T06:28:21.490Z"
   },
   {
    "duration": 2298,
    "start_time": "2024-04-24T06:28:22.373Z"
   },
   {
    "duration": 16,
    "start_time": "2024-04-24T06:28:24.673Z"
   },
   {
    "duration": 228,
    "start_time": "2024-04-24T06:28:25.650Z"
   },
   {
    "duration": 286,
    "start_time": "2024-04-24T06:28:26.136Z"
   },
   {
    "duration": 7,
    "start_time": "2024-04-24T06:28:27.097Z"
   },
   {
    "duration": 11,
    "start_time": "2024-04-24T06:28:27.989Z"
   },
   {
    "duration": 14,
    "start_time": "2024-04-24T06:28:28.394Z"
   },
   {
    "duration": 360,
    "start_time": "2024-04-24T06:28:28.867Z"
   },
   {
    "duration": 5,
    "start_time": "2024-04-24T06:28:32.638Z"
   },
   {
    "duration": 475,
    "start_time": "2024-04-24T06:28:33.383Z"
   },
   {
    "duration": 461,
    "start_time": "2024-04-24T06:28:35.806Z"
   },
   {
    "duration": 7,
    "start_time": "2024-04-24T06:28:37.563Z"
   },
   {
    "duration": 637,
    "start_time": "2024-04-24T06:28:38.084Z"
   },
   {
    "duration": 9,
    "start_time": "2024-04-24T06:28:42.578Z"
   },
   {
    "duration": 11,
    "start_time": "2024-04-24T06:28:43.501Z"
   },
   {
    "duration": 5,
    "start_time": "2024-04-24T06:28:45.149Z"
   },
   {
    "duration": 5,
    "start_time": "2024-04-24T06:29:20.978Z"
   },
   {
    "duration": 5,
    "start_time": "2024-04-24T06:29:31.237Z"
   },
   {
    "duration": 9,
    "start_time": "2024-04-24T06:29:37.426Z"
   },
   {
    "duration": 25,
    "start_time": "2024-04-24T06:29:38.848Z"
   },
   {
    "duration": 25,
    "start_time": "2024-04-24T06:29:51.777Z"
   },
   {
    "duration": 4,
    "start_time": "2024-04-24T06:30:00.389Z"
   },
   {
    "duration": 5,
    "start_time": "2024-04-24T06:30:35.563Z"
   },
   {
    "duration": 5,
    "start_time": "2024-04-24T06:31:43.951Z"
   },
   {
    "duration": 5,
    "start_time": "2024-04-24T06:31:45.154Z"
   },
   {
    "duration": 5,
    "start_time": "2024-04-24T06:31:49.368Z"
   },
   {
    "duration": 5,
    "start_time": "2024-04-24T06:31:50.823Z"
   },
   {
    "duration": 6,
    "start_time": "2024-04-24T06:35:38.258Z"
   },
   {
    "duration": 10,
    "start_time": "2024-04-24T06:35:41.563Z"
   },
   {
    "duration": 5,
    "start_time": "2024-04-24T06:35:43.972Z"
   },
   {
    "duration": 8,
    "start_time": "2024-04-24T06:35:44.415Z"
   }
  ],
  "kernelspec": {
   "display_name": "Python 3 (ipykernel)",
   "language": "python",
   "name": "python3"
  },
  "language_info": {
   "codemirror_mode": {
    "name": "ipython",
    "version": 3
   },
   "file_extension": ".py",
   "mimetype": "text/x-python",
   "name": "python",
   "nbconvert_exporter": "python",
   "pygments_lexer": "ipython3",
   "version": "3.9.5"
  },
  "toc": {
   "base_numbering": 1,
   "nav_menu": {},
   "number_sections": true,
   "sideBar": true,
   "skip_h1_title": true,
   "title_cell": "Table of Contents",
   "title_sidebar": "Contents",
   "toc_cell": false,
   "toc_position": {
    "height": "calc(100% - 180px)",
    "left": "10px",
    "top": "150px",
    "width": "165px"
   },
   "toc_section_display": true,
   "toc_window_display": true
  }
 },
 "nbformat": 4,
 "nbformat_minor": 2
}
